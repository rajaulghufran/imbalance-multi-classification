{
 "cells": [
  {
   "attachments": {},
   "cell_type": "markdown",
   "metadata": {},
   "source": [
    "# Dataset Preparation\n",
    "---"
   ]
  },
  {
   "cell_type": "code",
   "execution_count": 1,
   "metadata": {},
   "outputs": [],
   "source": [
    "from pathlib import Path\n",
    "path = Path().absolute()"
   ]
  },
  {
   "attachments": {},
   "cell_type": "markdown",
   "metadata": {},
   "source": [
    "## Load original dataset\n",
    "---"
   ]
  },
  {
   "cell_type": "code",
   "execution_count": 2,
   "metadata": {},
   "outputs": [],
   "source": [
    "import re\n",
    "\n",
    "data = []\n",
    "\n",
    "with open(path / \"assets/original.txt\") as file:\n",
    "    for line in file.read().splitlines():\n",
    "        # remove suffix \";\"\n",
    "        # split data by \";\"\n",
    "        data.append(\n",
    "            re.sub(\";$\",'',line)\n",
    "            .split(';')\n",
    "        )"
   ]
  },
  {
   "attachments": {},
   "cell_type": "markdown",
   "metadata": {},
   "source": [
    "## Create dataframe\n",
    "---"
   ]
  },
  {
   "cell_type": "code",
   "execution_count": 3,
   "metadata": {},
   "outputs": [],
   "source": [
    "import pandas as pd\n",
    "\n",
    "df = pd.DataFrame(data, columns=[\"text\",\"target_emotion\"])"
   ]
  },
  {
   "cell_type": "code",
   "execution_count": 4,
   "metadata": {},
   "outputs": [
    {
     "name": "stdout",
     "output_type": "stream",
     "text": [
      "<class 'pandas.core.frame.DataFrame'>\n",
      "RangeIndex: 18000 entries, 0 to 17999\n",
      "Data columns (total 2 columns):\n",
      " #   Column          Non-Null Count  Dtype \n",
      "---  ------          --------------  ----- \n",
      " 0   text            18000 non-null  object\n",
      " 1   target_emotion  17771 non-null  object\n",
      "dtypes: object(2)\n",
      "memory usage: 281.4+ KB\n"
     ]
    }
   ],
   "source": [
    "df.info()"
   ]
  },
  {
   "cell_type": "code",
   "execution_count": 5,
   "metadata": {},
   "outputs": [],
   "source": [
    "df.fillna('', inplace=True)"
   ]
  },
  {
   "cell_type": "code",
   "execution_count": 6,
   "metadata": {},
   "outputs": [
    {
     "data": {
      "text/plain": [
       "kesedihan                               5478\n",
       "kegembiraan                             5373\n",
       "kemarahan                               2310\n",
       "ketakutan                               2113\n",
       "cinta                                   1440\n",
       "kejutan                                  623\n",
       "                                         229\n",
       " kesedihan                               211\n",
       " sukacita                                 62\n",
       " kemarahan                                62\n",
       "kegembiraanjo                             28\n",
       "ketakutanfe                                7\n",
       "kemarahanan                                6\n",
       "kegembiraan jo                             4\n",
       " ​​kesedihan                               4\n",
       " kesedihanad                               3\n",
       " ​​cinta                                   3\n",
       "kejutansur                                 3\n",
       " ​​takut                                   3\n",
       "sukacita                                   3\n",
       " ​​sukacita                                2\n",
       " terkejut                                  2\n",
       "kegembiraan saat ini                       2\n",
       " ​​kegembiraan                             2\n",
       "kegembiraan saya                           2\n",
       " ​​marah                                   2\n",
       " kemarahanan                               2\n",
       " sayang                                    1\n",
       " sukacitajo                                1\n",
       "kegembiraan yang glamor                    1\n",
       " mengherankan                              1\n",
       " amarahmu                                  1\n",
       "cinta kesayangannya                        1\n",
       "kegembiraan them                           1\n",
       "kesedihans                                 1\n",
       " senang                                    1\n",
       "kegembiraan world                          1\n",
       " ​​kegembiraanjo                           1\n",
       "kesedihanini.                              1\n",
       "kesedihanlove                              1\n",
       "kesedihanlonely                            1\n",
       "kejutanyang luar biasa dan menyentuh       1\n",
       "kesedihanyang diperlukan                   1\n",
       "kegembiraan                                1\n",
       "bersukacita                                1\n",
       "kegembiraan upcoming                       1\n",
       "kegembiraan now                            1\n",
       "ketakutan intricate                        1\n",
       "Name: target_emotion, dtype: int64"
      ]
     },
     "execution_count": 6,
     "metadata": {},
     "output_type": "execute_result"
    }
   ],
   "source": [
    "df[\"target_emotion\"].value_counts()"
   ]
  },
  {
   "attachments": {},
   "cell_type": "markdown",
   "metadata": {},
   "source": [
    "### Normalized classes\n",
    "---"
   ]
  },
  {
   "cell_type": "code",
   "execution_count": 7,
   "metadata": {},
   "outputs": [],
   "source": [
    "true_labels = {\n",
    "    \"cinta\": [\n",
    "        \"cinta kesayangannya\",\n",
    "        \"sayang\"\n",
    "    ],\n",
    "    \"gembira\": [\n",
    "        \"kegembiraanjo\",\n",
    "        \"kegembiraan jo\",\n",
    "        \"kegembiraan now\",\n",
    "        \"kegembiraan saat ini\",\n",
    "        \"kegembiraan saya\",\n",
    "        \"kegembiraan them\",\n",
    "        \"kegembiraan upcoming\",\n",
    "        \"kegembiraan world\",\n",
    "        \"kegembiraan yang glamor\",\n",
    "        \"kegembiraan\",\n",
    "        \"kegembiraan\",\n",
    "        \"kegembiraanjo\",\n",
    "        \"senang\",\n",
    "        \"kegembiraan\",\n",
    "        \"kegembiraanjo\"\n",
    "    ],\n",
    "    \"kaget\": [\n",
    "        \"kejutan\",\n",
    "        \"kejutansur\",\n",
    "        \"kejutanyang luar biasa dan menyentuh\",\n",
    "        \"terkejut\"\n",
    "    ],\n",
    "    \"marah\": [\n",
    "        \"amarahmu\",\n",
    "        \"kemarahan\",\n",
    "        \"kemarahan\",\n",
    "        \"kemarahanan\",\n",
    "        \"kemarahanan\"\n",
    "    ],\n",
    "    \"sedih\": [\n",
    "        \"kesedihan\",\n",
    "        \"kesedihan\",\n",
    "        \"kesedihanad\",\n",
    "        \"kesedihanini.\",\n",
    "        \"kesedihanlonely\",\n",
    "        \"kesedihanlove\",\n",
    "        \"kesedihans\",\n",
    "        \"kesedihanyang diperlukan\",\n",
    "        \"kesedihan\"\n",
    "    ],\n",
    "    \"sukacita\": [\n",
    "        \"bersukacita\",\n",
    "        \"sukacitajo\"\n",
    "    ],\n",
    "    \"takut\": [\n",
    "        \"ketakutan intricate\",\n",
    "        \"ketakutan\",\n",
    "        \"ketakutanfe\"\n",
    "    ]\n",
    "}"
   ]
  },
  {
   "cell_type": "code",
   "execution_count": 8,
   "metadata": {},
   "outputs": [
    {
     "data": {
      "text/plain": [
       "sedih           5701\n",
       "gembira         5419\n",
       "marah           2383\n",
       "takut           2124\n",
       "cinta           1445\n",
       "kaget            629\n",
       "                 229\n",
       "sukacita          69\n",
       "mengherankan       1\n",
       "Name: target_emotion, dtype: int64"
      ]
     },
     "execution_count": 8,
     "metadata": {},
     "output_type": "execute_result"
    }
   ],
   "source": [
    "for i in range(len(df)):\n",
    "    target_emotion: str = df.at[i,\"target_emotion\"]\n",
    "    target_emotion = target_emotion.replace(u'\\u200b','')\n",
    "    target_emotion = target_emotion.strip()\n",
    "\n",
    "    for true_label, labels in true_labels.items():\n",
    "        if target_emotion in labels:\n",
    "            target_emotion = true_label\n",
    "\n",
    "    df.at[i,\"target_emotion\"] = target_emotion\n",
    "\n",
    "df[\"target_emotion\"].value_counts()"
   ]
  },
  {
   "attachments": {},
   "cell_type": "markdown",
   "metadata": {},
   "source": [
    "### Delete rows with defective and low frequency target emotion\n",
    "---"
   ]
  },
  {
   "cell_type": "code",
   "execution_count": 9,
   "metadata": {},
   "outputs": [
    {
     "data": {
      "text/plain": [
       "sedih      5701\n",
       "gembira    5419\n",
       "marah      2383\n",
       "takut      2124\n",
       "cinta      1445\n",
       "kaget       629\n",
       "Name: target_emotion, dtype: int64"
      ]
     },
     "execution_count": 9,
     "metadata": {},
     "output_type": "execute_result"
    }
   ],
   "source": [
    "df.drop(df[df[\"target_emotion\"].isin(['',\"sukacita\",\"mengherankan\"])].index, inplace=True)\n",
    "\n",
    "df[\"target_emotion\"].value_counts()"
   ]
  },
  {
   "attachments": {},
   "cell_type": "markdown",
   "metadata": {},
   "source": [
    "## Export clean dataset\n",
    "---"
   ]
  },
  {
   "cell_type": "code",
   "execution_count": 10,
   "metadata": {},
   "outputs": [
    {
     "name": "stdout",
     "output_type": "stream",
     "text": [
      "<class 'pandas.core.frame.DataFrame'>\n",
      "Int64Index: 17701 entries, 0 to 17998\n",
      "Data columns (total 2 columns):\n",
      " #   Column          Non-Null Count  Dtype \n",
      "---  ------          --------------  ----- \n",
      " 0   text            17701 non-null  object\n",
      " 1   target_emotion  17701 non-null  object\n",
      "dtypes: object(2)\n",
      "memory usage: 414.9+ KB\n"
     ]
    }
   ],
   "source": [
    "df.info()"
   ]
  },
  {
   "cell_type": "code",
   "execution_count": 11,
   "metadata": {},
   "outputs": [],
   "source": [
    "df.to_csv(path / \"assets/dataset.csv\", sep=\";\", index=False)"
   ]
  }
 ],
 "metadata": {
  "kernelspec": {
   "display_name": "learning",
   "language": "python",
   "name": "python3"
  },
  "language_info": {
   "codemirror_mode": {
    "name": "ipython",
    "version": 3
   },
   "file_extension": ".py",
   "mimetype": "text/x-python",
   "name": "python",
   "nbconvert_exporter": "python",
   "pygments_lexer": "ipython3",
   "version": "3.9.13"
  },
  "orig_nbformat": 4,
  "vscode": {
   "interpreter": {
    "hash": "8a049b0bad07c8102381f075079858d81b559044f5f11852a1c1c499ec97cb65"
   }
  }
 },
 "nbformat": 4,
 "nbformat_minor": 2
}
