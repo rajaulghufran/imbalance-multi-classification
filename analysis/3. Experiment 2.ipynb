{
 "cells": [
  {
   "attachments": {},
   "cell_type": "markdown",
   "metadata": {},
   "source": [
    "---"
   ]
  },
  {
   "cell_type": "code",
   "execution_count": 1,
   "metadata": {},
   "outputs": [],
   "source": [
    "from pathlib import Path\n",
    "\n",
    "path = Path().absolute()"
   ]
  },
  {
   "cell_type": "code",
   "execution_count": 2,
   "metadata": {},
   "outputs": [
    {
     "name": "stdout",
     "output_type": "stream",
     "text": [
      "c:\\Users\\c10nGp4\\OneDrive\\Documents\\GitHub\\imbalance-multi-classification\n"
     ]
    }
   ],
   "source": [
    "cd ../"
   ]
  },
  {
   "cell_type": "code",
   "execution_count": 3,
   "metadata": {},
   "outputs": [],
   "source": [
    "import pickle\n",
    "import time\n",
    "\n",
    "from sklearn.pipeline import Pipeline"
   ]
  },
  {
   "attachments": {},
   "cell_type": "markdown",
   "metadata": {},
   "source": [
    "---"
   ]
  },
  {
   "attachments": {},
   "cell_type": "markdown",
   "metadata": {},
   "source": [
    "### Load Data\n",
    "---"
   ]
  },
  {
   "cell_type": "code",
   "execution_count": 4,
   "metadata": {},
   "outputs": [],
   "source": [
    "import pandas as pd\n",
    "\n",
    "# Load dataset\n",
    "training_set_df = pd.read_csv(path / \"assets/datasets/training-set-1.csv\", delimiter=\";\")\n",
    "testing_set_df = pd.read_csv(path / \"assets/datasets/testing-set-1.csv\", delimiter=\";\")\n",
    "\n",
    "# Get X and y from dataset\n",
    "X_train = list(training_set_df[\"texts\"])\n",
    "y_train = list(training_set_df[\"targets\"])\n",
    "\n",
    "X_test = list(testing_set_df[\"texts\"])\n",
    "y_test = list(testing_set_df[\"targets\"])"
   ]
  },
  {
   "attachments": {},
   "cell_type": "markdown",
   "metadata": {},
   "source": [
    "### Data Preparation\n",
    "---"
   ]
  },
  {
   "cell_type": "code",
   "execution_count": 5,
   "metadata": {},
   "outputs": [
    {
     "name": "stdout",
     "output_type": "stream",
     "text": [
      "2023-06-06 20:53:33 INFO: DOWNLOAD STANZA MODEL\n"
     ]
    },
    {
     "data": {
      "application/vnd.jupyter.widget-view+json": {
       "model_id": "63a935c51f3d4df097b88d4da1bae95b",
       "version_major": 2,
       "version_minor": 0
      },
      "text/plain": [
       "Downloading https://raw.githubusercontent.com/stanfordnlp/stanza-resources/main/resources_1.5.1.json:   0%|   …"
      ]
     },
     "metadata": {},
     "output_type": "display_data"
    },
    {
     "name": "stderr",
     "output_type": "stream",
     "text": [
      "2023-06-06 20:53:33 INFO: Downloading default packages for language: id (Indonesian) ...\n",
      "2023-06-06 20:53:34 INFO: File exists: C:\\Users\\c10nGp4\\stanza_resources\\id\\default.zip\n",
      "2023-06-06 20:53:36 INFO: Finished downloading models and saved to C:\\Users\\c10nGp4\\stanza_resources.\n",
      "2023-06-06 20:53:36 INFO: Checking for updates to resources.json in case models have been updated.  Note: this behavior can be turned off with download_method=None or download_method=DownloadMethod.REUSE_RESOURCES\n"
     ]
    },
    {
     "name": "stdout",
     "output_type": "stream",
     "text": [
      "2023-06-06 20:53:36 INFO: LOAD STANZA PIPELINE: tokenize,mwt,pos,lemma\n"
     ]
    },
    {
     "data": {
      "application/vnd.jupyter.widget-view+json": {
       "model_id": "8b6910c8de0a4fa3ab130316a02f2a94",
       "version_major": 2,
       "version_minor": 0
      },
      "text/plain": [
       "Downloading https://raw.githubusercontent.com/stanfordnlp/stanza-resources/main/resources_1.5.0.json:   0%|   …"
      ]
     },
     "metadata": {},
     "output_type": "display_data"
    },
    {
     "data": {
      "application/vnd.jupyter.widget-view+json": {
       "model_id": "8c88bf09cbbe4c75a40d41ad7efa7c8d",
       "version_major": 2,
       "version_minor": 0
      },
      "text/plain": [
       "Downloading https://huggingface.co/stanfordnlp/stanza-id/resolve/v1.5.0/models/pos/gsd.pt:   0%|          | 0.…"
      ]
     },
     "metadata": {},
     "output_type": "display_data"
    },
    {
     "name": "stderr",
     "output_type": "stream",
     "text": [
      "2023-06-06 20:53:45 INFO: Loading these models for language: id (Indonesian):\n",
      "=======================\n",
      "| Processor | Package |\n",
      "-----------------------\n",
      "| tokenize  | gsd     |\n",
      "| mwt       | gsd     |\n",
      "| pos       | gsd     |\n",
      "| lemma     | gsd     |\n",
      "=======================\n",
      "\n",
      "2023-06-06 20:53:45 INFO: Using device: cuda\n",
      "2023-06-06 20:53:45 INFO: Loading: tokenize\n",
      "2023-06-06 20:53:49 INFO: Loading: mwt\n",
      "2023-06-06 20:53:49 INFO: Loading: pos\n",
      "2023-06-06 20:53:49 INFO: Loading: lemma\n",
      "2023-06-06 20:53:49 INFO: Done loading processors!\n"
     ]
    },
    {
     "name": "stdout",
     "output_type": "stream",
     "text": [
      "2023-06-06 20:53:49 INFO: TEXT CLEANING\n",
      "2023-06-06 20:53:51 INFO: TOKENIZE, MWT, POS, LEMMA\n",
      "2023-06-06 20:54:52 INFO: TEXT CLEANING\n",
      "2023-06-06 20:54:52 INFO: TOKENIZE, MWT, POS, LEMMA\n"
     ]
    }
   ],
   "source": [
    "from pipeline.text_cleaning import TextCleaning\n",
    "from pipeline.tokenize_mwt_pos_lemma import TokenizeMWTPOSLemma\n",
    "\n",
    "# Text Preprocessing\n",
    "\n",
    "text_preprocessing_pipeline: Pipeline = Pipeline([\n",
    "    (\"text_cleaning\", TextCleaning()),\n",
    "    (\"tokenize_mwt_pos_lemma\", TokenizeMWTPOSLemma())\n",
    "])\n",
    "\n",
    "X_train = text_preprocessing_pipeline.transform(X_train)\n",
    "X_test = text_preprocessing_pipeline.transform(X_test)"
   ]
  },
  {
   "attachments": {},
   "cell_type": "markdown",
   "metadata": {},
   "source": [
    "### Hyper-parameters tuning\n",
    "---"
   ]
  },
  {
   "cell_type": "code",
   "execution_count": 18,
   "metadata": {},
   "outputs": [],
   "source": [
    "from sklearn.feature_extraction.text import TfidfVectorizer\n",
    "from sklearn.svm import LinearSVC\n",
    "\n",
    "from pipeline.pos_filter import POSFilter\n",
    "from pipeline.stopword_removal import StopWordRemoval\n",
    "from pipeline.document_transformer import DocumentTransformer\n",
    "\n",
    "def fun(arg):\n",
    "    return arg\n",
    "\n",
    "tfidfvectorizer_hyperparameters = {\n",
    "    \"encoding\": \"ascii\",\n",
    "    \"decode_error\": \"ignore\",\n",
    "    \"strip_accents\": \"ascii\",\n",
    "    \"preprocessor\": fun,\n",
    "    \"tokenizer\": fun,\n",
    "    \"analyzer\": \"word\",\n",
    "    \"token_pattern\": None,\n",
    "    \"ngram_range\": (1, 2),\n",
    "    \"min_df\": 5,\n",
    "    \"max_df\": 1.0,\n",
    "}\n",
    "\n",
    "linearsvc_hyperparameters = {\n",
    "    \"penalty\": \"l1\",\n",
    "    \"loss\": \"squared_hinge\",\n",
    "    \"dual\": False,\n",
    "    \"tol\": 0.0001,\n",
    "    \"C\": 0.1,\n",
    "    \"multi_class\": \"ovr\",\n",
    "    \"fit_intercept\": True,\n",
    "    \"intercept_scaling\": 1000,\n",
    "    \"max_iter\": 100000,\n",
    "    \"random_state\": 42\n",
    "}\n",
    "\n",
    "pipeline: Pipeline = Pipeline([\n",
    "    (\"pos_filter\", POSFilter()),\n",
    "    (\"document_transformer\", DocumentTransformer()),\n",
    "    (\"tfidfvectorizer\", TfidfVectorizer(**tfidfvectorizer_hyperparameters)),\n",
    "    (\"linearsvc\", LinearSVC(random_state=42))\n",
    "])"
   ]
  },
  {
   "cell_type": "code",
   "execution_count": 19,
   "metadata": {},
   "outputs": [],
   "source": [
    "from pipeline.pos_filter import POS\n",
    "\n",
    "param_distributions = {\n",
    "    \"pos_filter__pos\": (POS, (\"ADJ\",\"ADV\",\"NOUN\",\"PART\",\"VERB\")),\n",
    "    \"document_transformer__feat_attrs\": ([\"text\"],[\"lemma\"],[\"text\",\"upos\"],[\"lemma\",\"upos\"]),\n",
    "    \"tfidfvectorizer__norm\": (\"l1\", \"l2\"),\n",
    "    \"tfidfvectorizer__sublinear_tf\": (True, False),\n",
    "    \"linearsvc__class_weight\": (None, \"balanced\")\n",
    "}"
   ]
  },
  {
   "cell_type": "code",
   "execution_count": 20,
   "metadata": {},
   "outputs": [
    {
     "name": "stderr",
     "output_type": "stream",
     "text": [
      "c:\\Users\\c10nGp4\\anaconda3\\envs\\imbalance-multi-classification\\lib\\site-packages\\sklearn\\model_selection\\_search.py:305: UserWarning: The total space of parameters 64 is smaller than n_iter=1000. Running 64 iterations. For exhaustive searches, use GridSearchCV.\n",
      "  warnings.warn(\n"
     ]
    },
    {
     "name": "stdout",
     "output_type": "stream",
     "text": [
      "Fitting 5 folds for each of 64 candidates, totalling 320 fits\n"
     ]
    },
    {
     "name": "stderr",
     "output_type": "stream",
     "text": [
      "c:\\Users\\c10nGp4\\anaconda3\\envs\\imbalance-multi-classification\\lib\\site-packages\\joblib\\externals\\loky\\process_executor.py:700: UserWarning: A worker stopped while some jobs were given to the executor. This can be caused by a too short worker timeout or by a memory leak.\n",
      "  warnings.warn(\n"
     ]
    },
    {
     "name": "stdout",
     "output_type": "stream",
     "text": [
      "2023-06-06 21:28:32 INFO: POS REMOVAL\n",
      "2023-06-06 21:28:32 INFO: DOCUMENT TRANSFORMER\n"
     ]
    }
   ],
   "source": [
    "from sklearn.metrics import make_scorer, accuracy_score, matthews_corrcoef\n",
    "from sklearn.model_selection import RandomizedSearchCV\n",
    "from sklearn.model_selection import StratifiedShuffleSplit\n",
    "from sklearnex import config_context\n",
    "\n",
    "n_iter = 1000\n",
    "n_splits = 5\n",
    "train_size = 0.8\n",
    "n_jobs = 2\n",
    "verbose = 3\n",
    "\n",
    "randomized_search = RandomizedSearchCV(\n",
    "    estimator=pipeline,\n",
    "    param_distributions=param_distributions,\n",
    "    n_iter=n_iter,\n",
    "    scoring=make_scorer(matthews_corrcoef),\n",
    "    n_jobs=n_jobs,\n",
    "    cv=StratifiedShuffleSplit(n_splits=n_splits, train_size=train_size, random_state=42),\n",
    "    verbose=verbose,\n",
    "    random_state=42\n",
    ")\n",
    "\n",
    "t0 = time.time()\n",
    "\n",
    "with config_context(target_offload=\"auto\", allow_fallback_to_host=True):\n",
    "    randomized_search.fit(X_train, y_train)\n",
    "\n",
    "estimation = time.time() - t0\n",
    "\n",
    "cv_results_df = pd.DataFrame(randomized_search.cv_results_)\n",
    "\n",
    "cv_results_df = cv_results_df.rename(lambda col_name: col_name.split(\"__\")[-1] if \"param_\" in col_name else col_name, axis=\"columns\")\n",
    "cv_results_df = cv_results_df.reindex(columns=[\"pos\",\"feat_attrs\", \"norm\",\"sublinear_tf\",\"class_weight\",\"split0_test_score\",\"split1_test_score\",\"split2_test_score\",\"split3_test_score\",\"split4_test_score\",\"mean_test_score\",\"mean_fit_time\",\"rank_test_score\"])\n",
    "cv_results_df = cv_results_df.fillna(\"None\")\n",
    "\n",
    "cv_results_df.to_csv(path / \"assets/cv_results.csv\", sep=\";\", index=False)"
   ]
  },
  {
   "cell_type": "code",
   "execution_count": 21,
   "metadata": {},
   "outputs": [
    {
     "data": {
      "text/html": [
       "<div>\n",
       "<style scoped>\n",
       "    .dataframe tbody tr th:only-of-type {\n",
       "        vertical-align: middle;\n",
       "    }\n",
       "\n",
       "    .dataframe tbody tr th {\n",
       "        vertical-align: top;\n",
       "    }\n",
       "\n",
       "    .dataframe thead th {\n",
       "        text-align: right;\n",
       "    }\n",
       "</style>\n",
       "<table border=\"1\" class=\"dataframe\">\n",
       "  <thead>\n",
       "    <tr style=\"text-align: right;\">\n",
       "      <th></th>\n",
       "      <th>pos</th>\n",
       "      <th>feat_attrs</th>\n",
       "      <th>norm</th>\n",
       "      <th>sublinear_tf</th>\n",
       "      <th>class_weight</th>\n",
       "      <th>split0_test_score</th>\n",
       "      <th>split1_test_score</th>\n",
       "      <th>split2_test_score</th>\n",
       "      <th>split3_test_score</th>\n",
       "      <th>split4_test_score</th>\n",
       "      <th>mean_test_score</th>\n",
       "      <th>mean_fit_time</th>\n",
       "      <th>rank_test_score</th>\n",
       "    </tr>\n",
       "  </thead>\n",
       "  <tbody>\n",
       "    <tr>\n",
       "      <th>0</th>\n",
       "      <td>{SYM, X, CONJ, PUNCT, VERB, PROPN, ADP, PART, ...</td>\n",
       "      <td>[text]</td>\n",
       "      <td>l1</td>\n",
       "      <td>True</td>\n",
       "      <td>None</td>\n",
       "      <td>0.662480</td>\n",
       "      <td>0.678608</td>\n",
       "      <td>0.670214</td>\n",
       "      <td>0.670793</td>\n",
       "      <td>0.663892</td>\n",
       "      <td>0.669197</td>\n",
       "      <td>0.938998</td>\n",
       "      <td>50</td>\n",
       "    </tr>\n",
       "    <tr>\n",
       "      <th>1</th>\n",
       "      <td>{SYM, X, CONJ, PUNCT, VERB, PROPN, ADP, PART, ...</td>\n",
       "      <td>[text]</td>\n",
       "      <td>l1</td>\n",
       "      <td>False</td>\n",
       "      <td>None</td>\n",
       "      <td>0.660484</td>\n",
       "      <td>0.675644</td>\n",
       "      <td>0.665897</td>\n",
       "      <td>0.669781</td>\n",
       "      <td>0.659541</td>\n",
       "      <td>0.666269</td>\n",
       "      <td>1.059827</td>\n",
       "      <td>52</td>\n",
       "    </tr>\n",
       "    <tr>\n",
       "      <th>2</th>\n",
       "      <td>{SYM, X, CONJ, PUNCT, VERB, PROPN, ADP, PART, ...</td>\n",
       "      <td>[text]</td>\n",
       "      <td>l2</td>\n",
       "      <td>True</td>\n",
       "      <td>None</td>\n",
       "      <td>0.690050</td>\n",
       "      <td>0.698101</td>\n",
       "      <td>0.675200</td>\n",
       "      <td>0.697022</td>\n",
       "      <td>0.690990</td>\n",
       "      <td>0.690273</td>\n",
       "      <td>1.034989</td>\n",
       "      <td>13</td>\n",
       "    </tr>\n",
       "    <tr>\n",
       "      <th>3</th>\n",
       "      <td>{SYM, X, CONJ, PUNCT, VERB, PROPN, ADP, PART, ...</td>\n",
       "      <td>[text]</td>\n",
       "      <td>l2</td>\n",
       "      <td>False</td>\n",
       "      <td>None</td>\n",
       "      <td>0.687057</td>\n",
       "      <td>0.692929</td>\n",
       "      <td>0.678064</td>\n",
       "      <td>0.691810</td>\n",
       "      <td>0.692837</td>\n",
       "      <td>0.688540</td>\n",
       "      <td>1.038944</td>\n",
       "      <td>18</td>\n",
       "    </tr>\n",
       "    <tr>\n",
       "      <th>4</th>\n",
       "      <td>(ADJ, ADV, NOUN, PART, VERB)</td>\n",
       "      <td>[text]</td>\n",
       "      <td>l1</td>\n",
       "      <td>True</td>\n",
       "      <td>None</td>\n",
       "      <td>0.664437</td>\n",
       "      <td>0.681575</td>\n",
       "      <td>0.670245</td>\n",
       "      <td>0.668900</td>\n",
       "      <td>0.662426</td>\n",
       "      <td>0.669517</td>\n",
       "      <td>1.060874</td>\n",
       "      <td>48</td>\n",
       "    </tr>\n",
       "    <tr>\n",
       "      <th>...</th>\n",
       "      <td>...</td>\n",
       "      <td>...</td>\n",
       "      <td>...</td>\n",
       "      <td>...</td>\n",
       "      <td>...</td>\n",
       "      <td>...</td>\n",
       "      <td>...</td>\n",
       "      <td>...</td>\n",
       "      <td>...</td>\n",
       "      <td>...</td>\n",
       "      <td>...</td>\n",
       "      <td>...</td>\n",
       "      <td>...</td>\n",
       "    </tr>\n",
       "    <tr>\n",
       "      <th>59</th>\n",
       "      <td>{SYM, X, CONJ, PUNCT, VERB, PROPN, ADP, PART, ...</td>\n",
       "      <td>[lemma, upos]</td>\n",
       "      <td>l2</td>\n",
       "      <td>False</td>\n",
       "      <td>balanced</td>\n",
       "      <td>0.663392</td>\n",
       "      <td>0.679456</td>\n",
       "      <td>0.672184</td>\n",
       "      <td>0.674897</td>\n",
       "      <td>0.680673</td>\n",
       "      <td>0.674120</td>\n",
       "      <td>0.905879</td>\n",
       "      <td>44</td>\n",
       "    </tr>\n",
       "    <tr>\n",
       "      <th>60</th>\n",
       "      <td>(ADJ, ADV, NOUN, PART, VERB)</td>\n",
       "      <td>[lemma, upos]</td>\n",
       "      <td>l1</td>\n",
       "      <td>True</td>\n",
       "      <td>balanced</td>\n",
       "      <td>0.679758</td>\n",
       "      <td>0.690403</td>\n",
       "      <td>0.683179</td>\n",
       "      <td>0.692734</td>\n",
       "      <td>0.689313</td>\n",
       "      <td>0.687078</td>\n",
       "      <td>0.945324</td>\n",
       "      <td>19</td>\n",
       "    </tr>\n",
       "    <tr>\n",
       "      <th>61</th>\n",
       "      <td>(ADJ, ADV, NOUN, PART, VERB)</td>\n",
       "      <td>[lemma, upos]</td>\n",
       "      <td>l1</td>\n",
       "      <td>False</td>\n",
       "      <td>balanced</td>\n",
       "      <td>0.676410</td>\n",
       "      <td>0.682896</td>\n",
       "      <td>0.684541</td>\n",
       "      <td>0.689449</td>\n",
       "      <td>0.684259</td>\n",
       "      <td>0.683511</td>\n",
       "      <td>0.953069</td>\n",
       "      <td>23</td>\n",
       "    </tr>\n",
       "    <tr>\n",
       "      <th>62</th>\n",
       "      <td>(ADJ, ADV, NOUN, PART, VERB)</td>\n",
       "      <td>[lemma, upos]</td>\n",
       "      <td>l2</td>\n",
       "      <td>True</td>\n",
       "      <td>balanced</td>\n",
       "      <td>0.665353</td>\n",
       "      <td>0.683724</td>\n",
       "      <td>0.674758</td>\n",
       "      <td>0.673140</td>\n",
       "      <td>0.680015</td>\n",
       "      <td>0.675398</td>\n",
       "      <td>0.889516</td>\n",
       "      <td>40</td>\n",
       "    </tr>\n",
       "    <tr>\n",
       "      <th>63</th>\n",
       "      <td>(ADJ, ADV, NOUN, PART, VERB)</td>\n",
       "      <td>[lemma, upos]</td>\n",
       "      <td>l2</td>\n",
       "      <td>False</td>\n",
       "      <td>balanced</td>\n",
       "      <td>0.663983</td>\n",
       "      <td>0.679111</td>\n",
       "      <td>0.674458</td>\n",
       "      <td>0.674400</td>\n",
       "      <td>0.684308</td>\n",
       "      <td>0.675252</td>\n",
       "      <td>0.883841</td>\n",
       "      <td>41</td>\n",
       "    </tr>\n",
       "  </tbody>\n",
       "</table>\n",
       "<p>64 rows × 13 columns</p>\n",
       "</div>"
      ],
      "text/plain": [
       "                                                  pos     feat_attrs norm  \\\n",
       "0   {SYM, X, CONJ, PUNCT, VERB, PROPN, ADP, PART, ...         [text]   l1   \n",
       "1   {SYM, X, CONJ, PUNCT, VERB, PROPN, ADP, PART, ...         [text]   l1   \n",
       "2   {SYM, X, CONJ, PUNCT, VERB, PROPN, ADP, PART, ...         [text]   l2   \n",
       "3   {SYM, X, CONJ, PUNCT, VERB, PROPN, ADP, PART, ...         [text]   l2   \n",
       "4                        (ADJ, ADV, NOUN, PART, VERB)         [text]   l1   \n",
       "..                                                ...            ...  ...   \n",
       "59  {SYM, X, CONJ, PUNCT, VERB, PROPN, ADP, PART, ...  [lemma, upos]   l2   \n",
       "60                       (ADJ, ADV, NOUN, PART, VERB)  [lemma, upos]   l1   \n",
       "61                       (ADJ, ADV, NOUN, PART, VERB)  [lemma, upos]   l1   \n",
       "62                       (ADJ, ADV, NOUN, PART, VERB)  [lemma, upos]   l2   \n",
       "63                       (ADJ, ADV, NOUN, PART, VERB)  [lemma, upos]   l2   \n",
       "\n",
       "    sublinear_tf class_weight  split0_test_score  split1_test_score  \\\n",
       "0           True         None           0.662480           0.678608   \n",
       "1          False         None           0.660484           0.675644   \n",
       "2           True         None           0.690050           0.698101   \n",
       "3          False         None           0.687057           0.692929   \n",
       "4           True         None           0.664437           0.681575   \n",
       "..           ...          ...                ...                ...   \n",
       "59         False     balanced           0.663392           0.679456   \n",
       "60          True     balanced           0.679758           0.690403   \n",
       "61         False     balanced           0.676410           0.682896   \n",
       "62          True     balanced           0.665353           0.683724   \n",
       "63         False     balanced           0.663983           0.679111   \n",
       "\n",
       "    split2_test_score  split3_test_score  split4_test_score  mean_test_score  \\\n",
       "0            0.670214           0.670793           0.663892         0.669197   \n",
       "1            0.665897           0.669781           0.659541         0.666269   \n",
       "2            0.675200           0.697022           0.690990         0.690273   \n",
       "3            0.678064           0.691810           0.692837         0.688540   \n",
       "4            0.670245           0.668900           0.662426         0.669517   \n",
       "..                ...                ...                ...              ...   \n",
       "59           0.672184           0.674897           0.680673         0.674120   \n",
       "60           0.683179           0.692734           0.689313         0.687078   \n",
       "61           0.684541           0.689449           0.684259         0.683511   \n",
       "62           0.674758           0.673140           0.680015         0.675398   \n",
       "63           0.674458           0.674400           0.684308         0.675252   \n",
       "\n",
       "    mean_fit_time  rank_test_score  \n",
       "0        0.938998               50  \n",
       "1        1.059827               52  \n",
       "2        1.034989               13  \n",
       "3        1.038944               18  \n",
       "4        1.060874               48  \n",
       "..            ...              ...  \n",
       "59       0.905879               44  \n",
       "60       0.945324               19  \n",
       "61       0.953069               23  \n",
       "62       0.889516               40  \n",
       "63       0.883841               41  \n",
       "\n",
       "[64 rows x 13 columns]"
      ]
     },
     "execution_count": 21,
     "metadata": {},
     "output_type": "execute_result"
    }
   ],
   "source": [
    "cv_results_df"
   ]
  },
  {
   "cell_type": "code",
   "execution_count": 22,
   "metadata": {},
   "outputs": [
    {
     "name": "stdout",
     "output_type": "stream",
     "text": [
      "Fitted 5 folds of 64 candidates, finished in 0:12:09.284261.\n",
      "Best score: 0.7047316828988512\n",
      "Best hyper-parameters:\n"
     ]
    },
    {
     "data": {
      "text/plain": [
       "{'tfidfvectorizer__sublinear_tf': True,\n",
       " 'tfidfvectorizer__norm': 'l1',\n",
       " 'pos_filter__pos': {'ADJ',\n",
       "  'ADP',\n",
       "  'ADV',\n",
       "  'AUX',\n",
       "  'CONJ',\n",
       "  'DET',\n",
       "  'INTJ',\n",
       "  'NOUN',\n",
       "  'NUM',\n",
       "  'PART',\n",
       "  'PRON',\n",
       "  'PROPN',\n",
       "  'PUNCT',\n",
       "  'SCONJ',\n",
       "  'SYM',\n",
       "  'VERB',\n",
       "  'X'},\n",
       " 'linearsvc__class_weight': 'balanced',\n",
       " 'document_transformer__feat_attrs': ['text']}"
      ]
     },
     "execution_count": 22,
     "metadata": {},
     "output_type": "execute_result"
    }
   ],
   "source": [
    "from datetime import timedelta\n",
    "\n",
    "print(f'Fitted {randomized_search.n_splits_} folds of {len(cv_results_df)} candidates, finished in {str(timedelta(seconds=estimation))}.')\n",
    "print(f\"Best score: {randomized_search.best_score_}\")\n",
    "print(\"Best hyper-parameters:\")\n",
    "randomized_search.best_params_"
   ]
  },
  {
   "attachments": {},
   "cell_type": "markdown",
   "metadata": {},
   "source": [
    "### Evaluation\n",
    "---"
   ]
  },
  {
   "cell_type": "code",
   "execution_count": 23,
   "metadata": {},
   "outputs": [
    {
     "name": "stdout",
     "output_type": "stream",
     "text": [
      "2023-06-06 21:28:33 INFO: POS REMOVAL\n",
      "2023-06-06 21:28:33 INFO: DOCUMENT TRANSFORMER\n",
      "Accuracy: 0.7698390285230161\n",
      "MCC: 0.7014825313981973\n"
     ]
    }
   ],
   "source": [
    "y_pred = randomized_search.best_estimator_.predict(X_test)\n",
    "\n",
    "accuracy = accuracy_score(y_test, y_pred)\n",
    "mcc = matthews_corrcoef(y_test, y_pred)\n",
    "\n",
    "print(\"Accuracy:\", accuracy)\n",
    "print(\"MCC:\", mcc)"
   ]
  },
  {
   "attachments": {},
   "cell_type": "markdown",
   "metadata": {},
   "source": [
    "### Confusion Matrix\n",
    "---"
   ]
  },
  {
   "cell_type": "code",
   "execution_count": 24,
   "metadata": {},
   "outputs": [
    {
     "data": {
      "text/plain": [
       "<sklearn.metrics._plot.confusion_matrix.ConfusionMatrixDisplay at 0x1f0d49bb610>"
      ]
     },
     "execution_count": 24,
     "metadata": {},
     "output_type": "execute_result"
    },
    {
     "data": {
      "image/png": "[encoded data removed]",
      "text/plain": [
       "<Figure size 640x480 with 2 Axes>"
      ]
     },
     "metadata": {},
     "output_type": "display_data"
    }
   ],
   "source": [
    "from sklearn.metrics import ConfusionMatrixDisplay\n",
    "\n",
    "normalize = None\n",
    "# normalize=\"true\"\n",
    "\n",
    "ConfusionMatrixDisplay.from_predictions(y_test, y_pred, normalize=normalize, cmap=\"YlGn\")"
   ]
  }
 ],
 "metadata": {
  "kernelspec": {
   "display_name": "emotion-analysis",
   "language": "python",
   "name": "python3"
  },
  "language_info": {
   "codemirror_mode": {
    "name": "ipython",
    "version": 3
   },
   "file_extension": ".py",
   "mimetype": "text/x-python",
   "name": "python",
   "nbconvert_exporter": "python",
   "pygments_lexer": "ipython3",
   "version": "3.9.16"
  },
  "orig_nbformat": 4,
  "vscode": {
   "interpreter": {
    "hash": "6177d1207e3b4e003bd5f7e0d0e470f696ef2c8899bc099ae3ccb41c3d6c53a2"
   }
  }
 },
 "nbformat": 4,
 "nbformat_minor": 2
}
