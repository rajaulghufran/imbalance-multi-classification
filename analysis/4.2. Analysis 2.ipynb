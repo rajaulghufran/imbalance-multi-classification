{
 "cells": [
  {
   "attachments": {},
   "cell_type": "markdown",
   "metadata": {},
   "source": [
    "---"
   ]
  },
  {
   "cell_type": "code",
   "execution_count": 1,
   "metadata": {},
   "outputs": [],
   "source": [
    "from pathlib import Path\n",
    "\n",
    "path = Path().absolute()"
   ]
  },
  {
   "cell_type": "code",
   "execution_count": 8,
   "metadata": {},
   "outputs": [
    {
     "name": "stdout",
     "output_type": "stream",
     "text": [
      "c:\\Users\\c10nGp4\\OneDrive\\Documents\\GitHub\\imbalance-multi-classification\n"
     ]
    }
   ],
   "source": [
    "cd ../"
   ]
  },
  {
   "cell_type": "code",
   "execution_count": 3,
   "metadata": {},
   "outputs": [],
   "source": [
    "import pickle\n",
    "import time"
   ]
  },
  {
   "attachments": {},
   "cell_type": "markdown",
   "metadata": {},
   "source": [
    "---"
   ]
  },
  {
   "attachments": {},
   "cell_type": "markdown",
   "metadata": {},
   "source": [
    "### Instantiate Classifier\n",
    "---"
   ]
  },
  {
   "cell_type": "code",
   "execution_count": 30,
   "metadata": {},
   "outputs": [
    {
     "name": "stdout",
     "output_type": "stream",
     "text": [
      "2023-06-25 09:22:56 INFO: DOWNLOAD STANZA MODEL\n"
     ]
    },
    {
     "data": {
      "application/vnd.jupyter.widget-view+json": {
       "model_id": "a5b82e00094c449fb292b1ad85349afc",
       "version_major": 2,
       "version_minor": 0
      },
      "text/plain": [
       "Downloading https://raw.githubusercontent.com/stanfordnlp/stanza-resources/main/resources_1.5.1.json:   0%|   …"
      ]
     },
     "metadata": {},
     "output_type": "display_data"
    },
    {
     "name": "stderr",
     "output_type": "stream",
     "text": [
      "2023-06-25 09:22:58 INFO: Downloading default packages for language: id (Indonesian) ...\n",
      "2023-06-25 09:22:58 INFO: File exists: C:\\Users\\c10nGp4\\stanza_resources\\id\\default.zip\n",
      "2023-06-25 09:23:00 INFO: Finished downloading models and saved to C:\\Users\\c10nGp4\\stanza_resources.\n",
      "2023-06-25 09:23:00 INFO: Checking for updates to resources.json in case models have been updated.  Note: this behavior can be turned off with download_method=None or download_method=DownloadMethod.REUSE_RESOURCES\n"
     ]
    },
    {
     "name": "stdout",
     "output_type": "stream",
     "text": [
      "2023-06-25 09:23:00 INFO: LOAD STANZA PIPELINE: tokenize,mwt,pos,lemma\n"
     ]
    },
    {
     "data": {
      "application/vnd.jupyter.widget-view+json": {
       "model_id": "80de7111941a459194669b7cfc52336e",
       "version_major": 2,
       "version_minor": 0
      },
      "text/plain": [
       "Downloading https://raw.githubusercontent.com/stanfordnlp/stanza-resources/main/resources_1.5.0.json:   0%|   …"
      ]
     },
     "metadata": {},
     "output_type": "display_data"
    },
    {
     "data": {
      "application/vnd.jupyter.widget-view+json": {
       "model_id": "39213809d36a42aaaac70e2bf1232095",
       "version_major": 2,
       "version_minor": 0
      },
      "text/plain": [
       "Downloading https://huggingface.co/stanfordnlp/stanza-id/resolve/v1.5.0/models/pos/gsd.pt:   0%|          | 0.…"
      ]
     },
     "metadata": {},
     "output_type": "display_data"
    },
    {
     "name": "stderr",
     "output_type": "stream",
     "text": [
      "2023-06-25 09:23:08 INFO: Loading these models for language: id (Indonesian):\n",
      "=======================\n",
      "| Processor | Package |\n",
      "-----------------------\n",
      "| tokenize  | gsd     |\n",
      "| mwt       | gsd     |\n",
      "| pos       | gsd     |\n",
      "| lemma     | gsd     |\n",
      "=======================\n",
      "\n",
      "2023-06-25 09:23:08 INFO: Using device: cuda\n",
      "2023-06-25 09:23:08 INFO: Loading: tokenize\n",
      "2023-06-25 09:23:10 INFO: Loading: mwt\n",
      "2023-06-25 09:23:10 INFO: Loading: pos\n",
      "2023-06-25 09:23:11 INFO: Loading: lemma\n",
      "2023-06-25 09:23:11 INFO: Done loading processors!\n"
     ]
    }
   ],
   "source": [
    "from pipeline.classification import Classification\n",
    "\n",
    "clf = Classification()"
   ]
  },
  {
   "attachments": {},
   "cell_type": "markdown",
   "metadata": {},
   "source": [
    "### Load Data\n",
    "---"
   ]
  },
  {
   "cell_type": "code",
   "execution_count": 5,
   "metadata": {},
   "outputs": [],
   "source": [
    "# import pandas as pd\n",
    "\n",
    "# # Load dataset\n",
    "# training_set_df = pd.read_csv(path / \"assets/datasets/training-set-1.csv\", delimiter=\";\")\n",
    "\n",
    "# # Get X and y from dataset\n",
    "# X_train = list(training_set_df[\"texts\"])\n",
    "# y_train = list(training_set_df[\"targets\"])"
   ]
  },
  {
   "attachments": {},
   "cell_type": "markdown",
   "metadata": {},
   "source": [
    "#### Get random samples\n",
    "---"
   ]
  },
  {
   "cell_type": "code",
   "execution_count": 6,
   "metadata": {},
   "outputs": [],
   "source": [
    "# from random import sample"
   ]
  },
  {
   "cell_type": "code",
   "execution_count": 7,
   "metadata": {},
   "outputs": [],
   "source": [
    "# sample([x for x in X_train if len(x) <= 50 and \"gugup\" in x], 5)"
   ]
  },
  {
   "attachments": {},
   "cell_type": "markdown",
   "metadata": {},
   "source": [
    "#### Example of a dataset\n",
    "---"
   ]
  },
  {
   "cell_type": "code",
   "execution_count": 31,
   "metadata": {},
   "outputs": [],
   "source": [
    "X_temp = [\n",
    "    \"<b>Saya senang bisa melihat 🎆 bersamamu</b>\",\n",
    "    \"Saya merasa benar-benar dirugikan dirinya!!!!\",\n",
    "    \"Video menyeramkan lainnya: https://www.youtube.com/shorts/ZIl2iiHy1oM. ***JANGAN DILIHAT KALAU TIDAK BERANI***\",\n",
    "    \"Saya merasa kesepian dan terisolasi akhir akhir ini\",\n",
    "    \"saya merasa sangat sedih saya berharap saya mati\",\n",
    "    \"saya merasa sedih hanya memikirkannya\",\n",
    "    \"saya merasa patah hati dan sedih\",\n",
    "    \"saya merasa sangat putus asa dan sedih\",\n",
    "    \"Saya selalu merasa tidak diinginkan dan sedih\",\n",
    "    \"saya merasa senang\",\n",
    "    \"saya merasa cukup senang minggu ini\",\n",
    "    \"saya sangat senang tapi saya merasa lelah\",\n",
    "    \"saya merasakan cinta dan perhatian sekarang\",\n",
    "    \"saya merasa disambut dan dicintai\",\n",
    "    \"saya merasa dicintai\",\n",
    "    \"saya merasa takut berada di dekat mereka\",\n",
    "    \"saya merasa sangat ketakutan dan gugup\",\n",
    "    \"saya merasa takut dan bodoh\",\n",
    "    \"saya merasa takut\",\n",
    "    \"saya sangat suka perasaan takut\",\n",
    "    \"saya merasa seperti orang bodoh\",\n",
    "    \"saya merasa bodoh tapi senang\",\n",
    "    \"saya merasa sangat bodoh karena jujur\",\n",
    "    \"saya merasa sangat bodoh dan malu\",\n",
    "    \"saya merasa bodoh dan tidak diinginkan\",\n",
    "    \"saya merasa kesal dan marah\",\n",
    "    \"saya berteriak dengan perasaan sangat marah\",\n",
    "    \"saya bahkan tidak bisa merasa marah karenanya\",\n",
    "    \"saya merasa sedikit kesal hari ini\",\n",
    "    \"saya bangun hari ini merasa kesal\",\n",
    "    \"saya merasa sangat gemetar dan sedih\",\n",
    "    \"saya menjadi bodoh merasa gugup\"\n",
    "]\n",
    "\n",
    "y_temp = [\n",
    "    \"gembira\",\n",
    "    \"marah\",\n",
    "    \"takut\",\n",
    "    \"sedih\",\n",
    "    \"sedih\",\n",
    "    \"sedih\",\n",
    "    \"sedih\",\n",
    "    \"sedih\",\n",
    "    \"sedih\",\n",
    "    \"gembira\",\n",
    "    \"gembira\",\n",
    "    \"gembira\",\n",
    "    \"cinta\",\n",
    "    \"cinta\",\n",
    "    \"cinta\",\n",
    "    \"takut\",\n",
    "    \"takut\",\n",
    "    \"takut\",\n",
    "    \"takut\",\n",
    "    \"takut\",\n",
    "    \"sedih\",\n",
    "    \"gembira\",\n",
    "    \"sedih\",\n",
    "    \"sedih\",\n",
    "    \"sedih\",\n",
    "    \"marah\",\n",
    "    \"marah\",\n",
    "    \"marah\",\n",
    "    \"marah\",\n",
    "    \"marah\",\n",
    "    \"sedih\",\n",
    "    \"sedih\"\n",
    "]"
   ]
  },
  {
   "attachments": {},
   "cell_type": "markdown",
   "metadata": {},
   "source": [
    "#### Split dataset\n",
    "---"
   ]
  },
  {
   "cell_type": "code",
   "execution_count": 32,
   "metadata": {},
   "outputs": [],
   "source": [
    "from sklearn.model_selection import train_test_split\n",
    "\n",
    "X_temp_train, X_temp_test, y_temp_train, y_temp_test = train_test_split(\n",
    "    X_temp,\n",
    "    y_temp,\n",
    "    test_size=0.2,\n",
    "    random_state=42,\n",
    "    stratify=y_temp\n",
    ")\n",
    "\n",
    "X_temp_train, X_temp_validation, y_temp_train, y_temp_validation = train_test_split(\n",
    "    X_temp_train,\n",
    "    y_temp_train,\n",
    "    test_size=0.21,\n",
    "    random_state=42,\n",
    "    stratify=y_temp_train\n",
    ")"
   ]
  },
  {
   "cell_type": "code",
   "execution_count": 33,
   "metadata": {},
   "outputs": [
    {
     "name": "stdout",
     "output_type": "stream",
     "text": [
      "19\n",
      "takut\n",
      "sedih\n",
      "marah\n",
      "sedih\n",
      "sedih\n",
      "marah\n",
      "marah\n",
      "gembira\n",
      "gembira\n",
      "takut\n",
      "takut\n",
      "sedih\n",
      "takut\n",
      "sedih\n",
      "marah\n",
      "sedih\n",
      "sedih\n",
      "cinta\n",
      "gembira\n"
     ]
    }
   ],
   "source": [
    "print(len(X_temp_train))\n",
    "\n",
    "# for x in X_temp_train:\n",
    "#     print(x)\n",
    "\n",
    "for y in y_temp_train:\n",
    "    print(y)"
   ]
  },
  {
   "cell_type": "code",
   "execution_count": 34,
   "metadata": {},
   "outputs": [
    {
     "name": "stdout",
     "output_type": "stream",
     "text": [
      "6\n",
      "takut\n",
      "sedih\n",
      "gembira\n",
      "marah\n",
      "cinta\n",
      "sedih\n"
     ]
    }
   ],
   "source": [
    "print(len(X_temp_validation))\n",
    "\n",
    "# for x in X_temp_validation:\n",
    "#     print(x)\n",
    "\n",
    "for y in y_temp_validation:\n",
    "    print(y)"
   ]
  },
  {
   "cell_type": "code",
   "execution_count": 35,
   "metadata": {},
   "outputs": [
    {
     "name": "stdout",
     "output_type": "stream",
     "text": [
      "7\n",
      "cinta\n",
      "sedih\n",
      "marah\n",
      "takut\n",
      "sedih\n",
      "gembira\n",
      "sedih\n"
     ]
    }
   ],
   "source": [
    "print(len(X_temp_test))\n",
    "\n",
    "# for x in X_temp_test:\n",
    "#     print(x)\n",
    "\n",
    "for y in y_temp_test:\n",
    "    print(y)"
   ]
  },
  {
   "attachments": {},
   "cell_type": "markdown",
   "metadata": {},
   "source": [
    "#### Text Preprocessing\n",
    "---"
   ]
  },
  {
   "cell_type": "code",
   "execution_count": 50,
   "metadata": {},
   "outputs": [
    {
     "name": "stdout",
     "output_type": "stream",
     "text": [
      "2023-06-25 09:25:26 INFO: TEXT CLEANING\n",
      "2023-06-25 09:25:26 INFO: TOKENIZE, MWT, POS, LEMMA\n",
      "2023-06-25 09:25:26 INFO: TEXT CLEANING\n",
      "2023-06-25 09:25:26 INFO: TOKENIZE, MWT, POS, LEMMA\n",
      "2023-06-25 09:25:26 INFO: TEXT CLEANING\n",
      "2023-06-25 09:25:26 INFO: TOKENIZE, MWT, POS, LEMMA\n"
     ]
    }
   ],
   "source": [
    "X_temp_train_docs = clf.text_preprocessing_pipeline.transform(X_temp_train)\n",
    "X_temp_validation_docs = clf.text_preprocessing_pipeline.transform(X_temp_validation)\n",
    "X_temp_test_docs = clf.text_preprocessing_pipeline.transform(X_temp_test)"
   ]
  },
  {
   "attachments": {},
   "cell_type": "markdown",
   "metadata": {},
   "source": [
    "#### Feature Selection\n",
    "---"
   ]
  },
  {
   "cell_type": "code",
   "execution_count": 14,
   "metadata": {},
   "outputs": [
    {
     "name": "stdout",
     "output_type": "stream",
     "text": [
      "2023-06-24 14:35:08 INFO: POS REMOVAL\n",
      "2023-06-24 14:35:08 INFO: DOCUMENT TRANSFORMER\n",
      "2023-06-24 14:35:08 INFO: POS REMOVAL\n",
      "2023-06-24 14:35:08 INFO: DOCUMENT TRANSFORMER\n",
      "2023-06-24 14:35:08 INFO: POS REMOVAL\n",
      "2023-06-24 14:35:08 INFO: DOCUMENT TRANSFORMER\n"
     ]
    }
   ],
   "source": [
    "clf.feature_selection_pipeline.named_steps[\"pos_filter\"].set_params(**{\"pos\": set([\"ADJ\",\"ADV\",\"NOUN\",\"PART\",\"VERB\"])})\n",
    "clf.feature_selection_pipeline.named_steps[\"document_transformer\"].set_params(**{\"feat_attrs\": [\"lemma\",\"upos\"]})\n",
    "X_temp_train_selected = clf.feature_selection_pipeline.transform(X_temp_train_docs)\n",
    "X_temp_validation_selected = clf.feature_selection_pipeline.transform(X_temp_validation_docs)\n",
    "X_temp_test_selected = clf.feature_selection_pipeline.transform(X_temp_test_docs)"
   ]
  },
  {
   "cell_type": "code",
   "execution_count": 15,
   "metadata": {},
   "outputs": [
    {
     "name": "stdout",
     "output_type": "stream",
     "text": [
      "ketakutan.ADJ, gugup.ADJ\n",
      "kesepian.NOUN, terisolasi.VERB\n",
      "bangun.VERB, kesal.ADJ\n",
      "sedih.ADJ\n",
      "sedih.ADJ, harap.VERB, mati.ADJ\n",
      "teriak.VERB, marah.ADJ\n",
      "marah.VERB\n",
      "senang.VERB\n",
      "senang.ADJ\n",
      "takut.ADJ, bodoh.ADJ\n",
      "seram.VERB, lihat.VERB\n",
      "bodoh.ADJ, malu.ADJ\n",
      "takut.ADJ\n",
      "bodoh.ADJ, gugup.ADJ\n",
      "rugi.VERB\n",
      "orang.NOUN, bodoh.ADJ\n",
      "bodoh.ADJ\n",
      "sambut.VERB, cinta.VERB\n",
      "bodoh.NOUN, senang.ADJ\n"
     ]
    }
   ],
   "source": [
    "for i, doc in enumerate(X_temp_train_selected):\n",
    "    print(\", \".join(doc))"
   ]
  },
  {
   "cell_type": "code",
   "execution_count": 16,
   "metadata": {},
   "outputs": [
    {
     "name": "stdout",
     "output_type": "stream",
     "text": [
      "suka.VERB, takut.ADJ\n",
      "gemetar.ADJ, sedih.ADJ\n",
      "senang.ADJ, lelah.ADJ\n",
      "kesal.ADJ\n",
      "cinta.VERB\n",
      "sedih.ADJ, pikir.VERB\n"
     ]
    }
   ],
   "source": [
    "for i, doc in enumerate(X_temp_validation_selected):\n",
    "    print(\", \".join(doc))"
   ]
  },
  {
   "cell_type": "code",
   "execution_count": 17,
   "metadata": {},
   "outputs": [
    {
     "name": "stdout",
     "output_type": "stream",
     "text": [
      "cinta.NOUN, hati.NOUN\n",
      "bodoh.ADJ, jujur.ADJ\n",
      "kesal.ADJ, marah.VERB\n",
      "takut.ADJ\n",
      "patah.ADJ, hati.NOUN, sedih.ADJ\n",
      "senang.ADJ, minggu.NOUN\n",
      "putus.ADJ, asa.ADJ, sedih.ADJ\n"
     ]
    }
   ],
   "source": [
    "for i, doc in enumerate(X_temp_test_selected):\n",
    "    print(\", \".join(doc))"
   ]
  },
  {
   "attachments": {},
   "cell_type": "markdown",
   "metadata": {},
   "source": [
    "#### Feature Extraction\n",
    "---"
   ]
  },
  {
   "cell_type": "code",
   "execution_count": 18,
   "metadata": {},
   "outputs": [
    {
     "data": {
      "text/html": [
       "<style>#sk-container-id-1 {color: black;background-color: white;}#sk-container-id-1 pre{padding: 0;}#sk-container-id-1 div.sk-toggleable {background-color: white;}#sk-container-id-1 label.sk-toggleable__label {cursor: pointer;display: block;width: 100%;margin-bottom: 0;padding: 0.3em;box-sizing: border-box;text-align: center;}#sk-container-id-1 label.sk-toggleable__label-arrow:before {content: \"▸\";float: left;margin-right: 0.25em;color: #696969;}#sk-container-id-1 label.sk-toggleable__label-arrow:hover:before {color: black;}#sk-container-id-1 div.sk-estimator:hover label.sk-toggleable__label-arrow:before {color: black;}#sk-container-id-1 div.sk-toggleable__content {max-height: 0;max-width: 0;overflow: hidden;text-align: left;background-color: #f0f8ff;}#sk-container-id-1 div.sk-toggleable__content pre {margin: 0.2em;color: black;border-radius: 0.25em;background-color: #f0f8ff;}#sk-container-id-1 input.sk-toggleable__control:checked~div.sk-toggleable__content {max-height: 200px;max-width: 100%;overflow: auto;}#sk-container-id-1 input.sk-toggleable__control:checked~label.sk-toggleable__label-arrow:before {content: \"▾\";}#sk-container-id-1 div.sk-estimator input.sk-toggleable__control:checked~label.sk-toggleable__label {background-color: #d4ebff;}#sk-container-id-1 div.sk-label input.sk-toggleable__control:checked~label.sk-toggleable__label {background-color: #d4ebff;}#sk-container-id-1 input.sk-hidden--visually {border: 0;clip: rect(1px 1px 1px 1px);clip: rect(1px, 1px, 1px, 1px);height: 1px;margin: -1px;overflow: hidden;padding: 0;position: absolute;width: 1px;}#sk-container-id-1 div.sk-estimator {font-family: monospace;background-color: #f0f8ff;border: 1px dotted black;border-radius: 0.25em;box-sizing: border-box;margin-bottom: 0.5em;}#sk-container-id-1 div.sk-estimator:hover {background-color: #d4ebff;}#sk-container-id-1 div.sk-parallel-item::after {content: \"\";width: 100%;border-bottom: 1px solid gray;flex-grow: 1;}#sk-container-id-1 div.sk-label:hover label.sk-toggleable__label {background-color: #d4ebff;}#sk-container-id-1 div.sk-serial::before {content: \"\";position: absolute;border-left: 1px solid gray;box-sizing: border-box;top: 0;bottom: 0;left: 50%;z-index: 0;}#sk-container-id-1 div.sk-serial {display: flex;flex-direction: column;align-items: center;background-color: white;padding-right: 0.2em;padding-left: 0.2em;position: relative;}#sk-container-id-1 div.sk-item {position: relative;z-index: 1;}#sk-container-id-1 div.sk-parallel {display: flex;align-items: stretch;justify-content: center;background-color: white;position: relative;}#sk-container-id-1 div.sk-item::before, #sk-container-id-1 div.sk-parallel-item::before {content: \"\";position: absolute;border-left: 1px solid gray;box-sizing: border-box;top: 0;bottom: 0;left: 50%;z-index: -1;}#sk-container-id-1 div.sk-parallel-item {display: flex;flex-direction: column;z-index: 1;position: relative;background-color: white;}#sk-container-id-1 div.sk-parallel-item:first-child::after {align-self: flex-end;width: 50%;}#sk-container-id-1 div.sk-parallel-item:last-child::after {align-self: flex-start;width: 50%;}#sk-container-id-1 div.sk-parallel-item:only-child::after {width: 0;}#sk-container-id-1 div.sk-dashed-wrapped {border: 1px dashed gray;margin: 0 0.4em 0.5em 0.4em;box-sizing: border-box;padding-bottom: 0.4em;background-color: white;}#sk-container-id-1 div.sk-label label {font-family: monospace;font-weight: bold;display: inline-block;line-height: 1.2em;}#sk-container-id-1 div.sk-label-container {text-align: center;}#sk-container-id-1 div.sk-container {/* jupyter's `normalize.less` sets `[hidden] { display: none; }` but bootstrap.min.css set `[hidden] { display: none !important; }` so we also need the `!important` here to be able to override the default hidden behavior on the sphinx rendered scikit-learn.org. See: https://github.com/scikit-learn/scikit-learn/issues/21755 */display: inline-block !important;position: relative;}#sk-container-id-1 div.sk-text-repr-fallback {display: none;}</style><div id=\"sk-container-id-1\" class=\"sk-top-container\"><div class=\"sk-text-repr-fallback\"><pre>TfidfVectorizer(decode_error=&#x27;ignore&#x27;, encoding=&#x27;ascii&#x27;, norm=None,\n",
       "                preprocessor=&lt;function fun at 0x000002A3064CCE50&gt;,\n",
       "                strip_accents=&#x27;ascii&#x27;, token_pattern=None,\n",
       "                tokenizer=&lt;function fun at 0x000002A3064CCE50&gt;)</pre><b>In a Jupyter environment, please rerun this cell to show the HTML representation or trust the notebook. <br />On GitHub, the HTML representation is unable to render, please try loading this page with nbviewer.org.</b></div><div class=\"sk-container\" hidden><div class=\"sk-item\"><div class=\"sk-estimator sk-toggleable\"><input class=\"sk-toggleable__control sk-hidden--visually\" id=\"sk-estimator-id-1\" type=\"checkbox\" checked><label for=\"sk-estimator-id-1\" class=\"sk-toggleable__label sk-toggleable__label-arrow\">TfidfVectorizer</label><div class=\"sk-toggleable__content\"><pre>TfidfVectorizer(decode_error=&#x27;ignore&#x27;, encoding=&#x27;ascii&#x27;, norm=None,\n",
       "                preprocessor=&lt;function fun at 0x000002A3064CCE50&gt;,\n",
       "                strip_accents=&#x27;ascii&#x27;, token_pattern=None,\n",
       "                tokenizer=&lt;function fun at 0x000002A3064CCE50&gt;)</pre></div></div></div></div></div>"
      ],
      "text/plain": [
       "TfidfVectorizer(decode_error='ignore', encoding='ascii', norm=None,\n",
       "                preprocessor=<function fun at 0x000002A3064CCE50>,\n",
       "                strip_accents='ascii', token_pattern=None,\n",
       "                tokenizer=<function fun at 0x000002A3064CCE50>)"
      ]
     },
     "execution_count": 18,
     "metadata": {},
     "output_type": "execute_result"
    }
   ],
   "source": [
    "tfidfvectorizer_hyperparameters = {\n",
    "    \"ngram_range\": (1, 1),\n",
    "    \"max_df\": (1.0),\n",
    "    \"min_df\": (1),\n",
    "    \"norm\": None,\n",
    "    \"sublinear_tf\": False\n",
    "}\n",
    "tfidfvectorizer = clf.classification_pipeline.named_steps[\"tfidfvectorizer\"]\n",
    "tfidfvectorizer.set_params(**tfidfvectorizer_hyperparameters)\n",
    "tfidfvectorizer.fit(X_temp_train_selected)"
   ]
  },
  {
   "cell_type": "code",
   "execution_count": 19,
   "metadata": {},
   "outputs": [
    {
     "name": "stdout",
     "output_type": "stream",
     "text": [
      "1\tbangun.VERB\t1\t3.30259\n",
      "2\tbodoh.ADJ\t5\t2.20397\n",
      "3\tbodoh.NOUN\t1\t3.30259\n",
      "4\tcinta.VERB\t1\t3.30259\n",
      "5\tgugup.ADJ\t2\t2.89712\n",
      "6\tharap.VERB\t1\t3.30259\n",
      "7\tkesal.ADJ\t1\t3.30259\n",
      "8\tkesepian.NOUN\t1\t3.30259\n",
      "9\tketakutan.ADJ\t1\t3.30259\n",
      "10\tlihat.VERB\t1\t3.30259\n",
      "11\tmalu.ADJ\t1\t3.30259\n",
      "12\tmarah.ADJ\t1\t3.30259\n",
      "13\tmarah.VERB\t1\t3.30259\n",
      "14\tmati.ADJ\t1\t3.30259\n",
      "15\torang.NOUN\t1\t3.30259\n",
      "16\trugi.VERB\t1\t3.30259\n",
      "17\tsambut.VERB\t1\t3.30259\n",
      "18\tsedih.ADJ\t2\t2.89712\n",
      "19\tsenang.ADJ\t2\t2.89712\n",
      "20\tsenang.VERB\t1\t3.30259\n",
      "21\tseram.VERB\t1\t3.30259\n",
      "22\ttakut.ADJ\t2\t2.89712\n",
      "23\tteriak.VERB\t1\t3.30259\n",
      "24\tterisolasi.VERB\t1\t3.30259\n"
     ]
    }
   ],
   "source": [
    "for i, zip_ in enumerate(\n",
    "    zip(\n",
    "        dict(\n",
    "            sorted(\n",
    "                tfidfvectorizer.vocabulary_.items(),\n",
    "                key=lambda x: x[1]\n",
    "            )\n",
    "        ).items(),\n",
    "        tfidfvectorizer.idf_\n",
    "    )\n",
    "):\n",
    "    item, idf = zip_\n",
    "    k, v = item\n",
    "    df = 0\n",
    "\n",
    "    for doc in X_temp_train_selected:\n",
    "        if k in doc:\n",
    "            df+=1\n",
    "\n",
    "    print(i+1, k, df, round(idf, 5), sep=\"\\t\")\n",
    "    # print(i+1, k, df, sep=\"\\t\")"
   ]
  },
  {
   "cell_type": "code",
   "execution_count": 20,
   "metadata": {},
   "outputs": [],
   "source": [
    "X_temp_train_features = tfidfvectorizer.transform(X_temp_train_selected)\n",
    "X_temp_validation_features = tfidfvectorizer.transform(X_temp_validation_selected)\n",
    "X_temp_test_features = tfidfvectorizer.transform(X_temp_test_selected)"
   ]
  },
  {
   "attachments": {},
   "cell_type": "markdown",
   "metadata": {},
   "source": [
    "#### Multi classification\n",
    "---"
   ]
  },
  {
   "cell_type": "code",
   "execution_count": 21,
   "metadata": {},
   "outputs": [
    {
     "data": {
      "text/html": [
       "<style>#sk-container-id-2 {color: black;background-color: white;}#sk-container-id-2 pre{padding: 0;}#sk-container-id-2 div.sk-toggleable {background-color: white;}#sk-container-id-2 label.sk-toggleable__label {cursor: pointer;display: block;width: 100%;margin-bottom: 0;padding: 0.3em;box-sizing: border-box;text-align: center;}#sk-container-id-2 label.sk-toggleable__label-arrow:before {content: \"▸\";float: left;margin-right: 0.25em;color: #696969;}#sk-container-id-2 label.sk-toggleable__label-arrow:hover:before {color: black;}#sk-container-id-2 div.sk-estimator:hover label.sk-toggleable__label-arrow:before {color: black;}#sk-container-id-2 div.sk-toggleable__content {max-height: 0;max-width: 0;overflow: hidden;text-align: left;background-color: #f0f8ff;}#sk-container-id-2 div.sk-toggleable__content pre {margin: 0.2em;color: black;border-radius: 0.25em;background-color: #f0f8ff;}#sk-container-id-2 input.sk-toggleable__control:checked~div.sk-toggleable__content {max-height: 200px;max-width: 100%;overflow: auto;}#sk-container-id-2 input.sk-toggleable__control:checked~label.sk-toggleable__label-arrow:before {content: \"▾\";}#sk-container-id-2 div.sk-estimator input.sk-toggleable__control:checked~label.sk-toggleable__label {background-color: #d4ebff;}#sk-container-id-2 div.sk-label input.sk-toggleable__control:checked~label.sk-toggleable__label {background-color: #d4ebff;}#sk-container-id-2 input.sk-hidden--visually {border: 0;clip: rect(1px 1px 1px 1px);clip: rect(1px, 1px, 1px, 1px);height: 1px;margin: -1px;overflow: hidden;padding: 0;position: absolute;width: 1px;}#sk-container-id-2 div.sk-estimator {font-family: monospace;background-color: #f0f8ff;border: 1px dotted black;border-radius: 0.25em;box-sizing: border-box;margin-bottom: 0.5em;}#sk-container-id-2 div.sk-estimator:hover {background-color: #d4ebff;}#sk-container-id-2 div.sk-parallel-item::after {content: \"\";width: 100%;border-bottom: 1px solid gray;flex-grow: 1;}#sk-container-id-2 div.sk-label:hover label.sk-toggleable__label {background-color: #d4ebff;}#sk-container-id-2 div.sk-serial::before {content: \"\";position: absolute;border-left: 1px solid gray;box-sizing: border-box;top: 0;bottom: 0;left: 50%;z-index: 0;}#sk-container-id-2 div.sk-serial {display: flex;flex-direction: column;align-items: center;background-color: white;padding-right: 0.2em;padding-left: 0.2em;position: relative;}#sk-container-id-2 div.sk-item {position: relative;z-index: 1;}#sk-container-id-2 div.sk-parallel {display: flex;align-items: stretch;justify-content: center;background-color: white;position: relative;}#sk-container-id-2 div.sk-item::before, #sk-container-id-2 div.sk-parallel-item::before {content: \"\";position: absolute;border-left: 1px solid gray;box-sizing: border-box;top: 0;bottom: 0;left: 50%;z-index: -1;}#sk-container-id-2 div.sk-parallel-item {display: flex;flex-direction: column;z-index: 1;position: relative;background-color: white;}#sk-container-id-2 div.sk-parallel-item:first-child::after {align-self: flex-end;width: 50%;}#sk-container-id-2 div.sk-parallel-item:last-child::after {align-self: flex-start;width: 50%;}#sk-container-id-2 div.sk-parallel-item:only-child::after {width: 0;}#sk-container-id-2 div.sk-dashed-wrapped {border: 1px dashed gray;margin: 0 0.4em 0.5em 0.4em;box-sizing: border-box;padding-bottom: 0.4em;background-color: white;}#sk-container-id-2 div.sk-label label {font-family: monospace;font-weight: bold;display: inline-block;line-height: 1.2em;}#sk-container-id-2 div.sk-label-container {text-align: center;}#sk-container-id-2 div.sk-container {/* jupyter's `normalize.less` sets `[hidden] { display: none; }` but bootstrap.min.css set `[hidden] { display: none !important; }` so we also need the `!important` here to be able to override the default hidden behavior on the sphinx rendered scikit-learn.org. See: https://github.com/scikit-learn/scikit-learn/issues/21755 */display: inline-block !important;position: relative;}#sk-container-id-2 div.sk-text-repr-fallback {display: none;}</style><div id=\"sk-container-id-2\" class=\"sk-top-container\"><div class=\"sk-text-repr-fallback\"><pre>LinearSVC(C=0.01, class_weight=&#x27;balanced&#x27;, dual=False, intercept_scaling=1.0,\n",
       "          random_state=42)</pre><b>In a Jupyter environment, please rerun this cell to show the HTML representation or trust the notebook. <br />On GitHub, the HTML representation is unable to render, please try loading this page with nbviewer.org.</b></div><div class=\"sk-container\" hidden><div class=\"sk-item\"><div class=\"sk-estimator sk-toggleable\"><input class=\"sk-toggleable__control sk-hidden--visually\" id=\"sk-estimator-id-2\" type=\"checkbox\" checked><label for=\"sk-estimator-id-2\" class=\"sk-toggleable__label sk-toggleable__label-arrow\">LinearSVC</label><div class=\"sk-toggleable__content\"><pre>LinearSVC(C=0.01, class_weight=&#x27;balanced&#x27;, dual=False, intercept_scaling=1.0,\n",
       "          random_state=42)</pre></div></div></div></div></div>"
      ],
      "text/plain": [
       "LinearSVC(C=0.01, class_weight='balanced', dual=False, intercept_scaling=1.0,\n",
       "          random_state=42)"
      ]
     },
     "execution_count": 21,
     "metadata": {},
     "output_type": "execute_result"
    }
   ],
   "source": [
    "linearsvc_hyperparameters = {\n",
    "    \"penalty\": \"l2\",\n",
    "    \"loss\": \"squared_hinge\",\n",
    "    \"dual\": False,\n",
    "    \"tol\": 0.0001,\n",
    "    \"C\": 0.01,\n",
    "    \"multi_class\": \"ovr\",\n",
    "    \"fit_intercept\": True,\n",
    "    \"intercept_scaling\": 1.0,\n",
    "    \"class_weight\": \"balanced\",\n",
    "    \"max_iter\": 1000\n",
    "}\n",
    "linearsvc = clf.classification_pipeline.named_steps[\"linearsvc\"]\n",
    "linearsvc.set_params(**linearsvc_hyperparameters)\n",
    "linearsvc.fit(X_temp_train_features, y_temp_train)"
   ]
  },
  {
   "cell_type": "code",
   "execution_count": 22,
   "metadata": {},
   "outputs": [],
   "source": [
    "y_temp_validation_pred = linearsvc.predict(X_temp_validation_features)\n",
    "y_temp_test_pred = linearsvc.predict(X_temp_test_features)"
   ]
  },
  {
   "attachments": {},
   "cell_type": "markdown",
   "metadata": {},
   "source": [
    "#### Evaluation\n",
    "---"
   ]
  },
  {
   "cell_type": "code",
   "execution_count": 23,
   "metadata": {},
   "outputs": [],
   "source": [
    "from sklearn.metrics import accuracy_score, matthews_corrcoef"
   ]
  },
  {
   "cell_type": "code",
   "execution_count": 24,
   "metadata": {},
   "outputs": [
    {
     "name": "stdout",
     "output_type": "stream",
     "text": [
      "1.0\n",
      "1.0\n"
     ]
    }
   ],
   "source": [
    "# test\n",
    "print(accuracy_score(y_temp_validation, y_temp_validation_pred))\n",
    "print(matthews_corrcoef(y_temp_validation, y_temp_validation_pred))"
   ]
  },
  {
   "cell_type": "code",
   "execution_count": 25,
   "metadata": {},
   "outputs": [
    {
     "name": "stdout",
     "output_type": "stream",
     "text": [
      "0.8571428571428571\n",
      "0.8215838362577492\n"
     ]
    }
   ],
   "source": [
    "# test\n",
    "print(accuracy_score(y_temp_test, y_temp_test_pred))\n",
    "print(matthews_corrcoef(y_temp_test, y_temp_test_pred))"
   ]
  },
  {
   "cell_type": "code",
   "execution_count": 26,
   "metadata": {},
   "outputs": [
    {
     "data": {
      "text/plain": [
       "array(['sedih', 'sedih', 'marah', 'takut', 'sedih', 'gembira', 'sedih'],\n",
       "      dtype='<U7')"
      ]
     },
     "execution_count": 26,
     "metadata": {},
     "output_type": "execute_result"
    }
   ],
   "source": [
    "y_temp_test_pred"
   ]
  },
  {
   "cell_type": "code",
   "execution_count": 27,
   "metadata": {},
   "outputs": [
    {
     "data": {
      "text/plain": [
       "array(['cinta', 'gembira', 'marah', 'sedih', 'takut'], dtype='<U7')"
      ]
     },
     "execution_count": 27,
     "metadata": {},
     "output_type": "execute_result"
    }
   ],
   "source": [
    "clf.classification_pipeline.named_steps['linearsvc'].classes_"
   ]
  },
  {
   "cell_type": "code",
   "execution_count": 96,
   "metadata": {},
   "outputs": [
    {
     "data": {
      "text/plain": [
       "array([[-0.03813218, -0.10651256, -0.0344351 ,  0.11056692, -0.05658632,\n",
       "        -0.02968064, -0.03813218, -0.03813218, -0.03607145, -0.03813218,\n",
       "        -0.03223173, -0.03813218, -0.04496098, -0.02968064, -0.03223173,\n",
       "        -0.04496098,  0.11056692, -0.06343311, -0.06700416, -0.04496098,\n",
       "        -0.03813218, -0.06175401, -0.03813218, -0.03813218],\n",
       "       [-0.04006461, -0.11191073,  0.05365017, -0.04006461, -0.05945411,\n",
       "        -0.03118495, -0.04006461, -0.04006461, -0.03789952, -0.04006461,\n",
       "        -0.03386518, -0.04006461, -0.0472393 , -0.03118495, -0.03386518,\n",
       "        -0.0472393 , -0.04006461, -0.06664773,  0.10713096,  0.07399581,\n",
       "        -0.04006461, -0.06488369, -0.04006461, -0.04006461],\n",
       "       [ 0.04934563, -0.11402887, -0.03686546, -0.04082317, -0.06057963,\n",
       "        -0.03177494,  0.04934563, -0.04082317, -0.03861675, -0.04082317,\n",
       "        -0.0345063 ,  0.04934563,  0.05781501, -0.03177494, -0.0345063 ,\n",
       "         0.05781501, -0.04082317, -0.06790886, -0.07173221, -0.0481335 ,\n",
       "        -0.04082317, -0.06611176,  0.04934563, -0.04082317],\n",
       "       [-0.04161817,  0.0545616 , -0.03758305, -0.04161817, -0.01007842,\n",
       "         0.02725456, -0.04161817,  0.03174527, -0.04748698, -0.04161817,\n",
       "         0.03125127, -0.04161817, -0.04907048,  0.02725456,  0.03125127,\n",
       "        -0.04907048, -0.04161817,  0.05347827, -0.07312913, -0.04907048,\n",
       "        -0.04161817, -0.08372905, -0.04161817,  0.03174527],\n",
       "       [-0.04025945, -0.07373433, -0.03635713, -0.04025945,  0.00767169,\n",
       "        -0.03133569, -0.04025945, -0.04025945,  0.05729681,  0.04989006,\n",
       "        -0.03865602, -0.04025945, -0.04746828, -0.03133569, -0.03865602,\n",
       "        -0.04746828, -0.04025945, -0.06696949, -0.07074147, -0.04746828,\n",
       "         0.04989006,  0.10064914, -0.04025945, -0.04025945]])"
      ]
     },
     "execution_count": 96,
     "metadata": {},
     "output_type": "execute_result"
    }
   ],
   "source": [
    "coef=clf.classification_pipeline.named_steps['linearsvc'].coef_\n",
    "coef"
   ]
  },
  {
   "cell_type": "code",
   "execution_count": 97,
   "metadata": {},
   "outputs": [
    {
     "data": {
      "text/plain": [
       "array([-0.17082486, -0.12880167, -0.11231436, -0.09502383, -0.12458426])"
      ]
     },
     "execution_count": 97,
     "metadata": {},
     "output_type": "execute_result"
    }
   ],
   "source": [
    "intercept=clf.classification_pipeline.named_steps['linearsvc'].intercept_\n",
    "intercept"
   ]
  },
  {
   "cell_type": "code",
   "execution_count": 30,
   "metadata": {},
   "outputs": [],
   "source": [
    "import numpy as np"
   ]
  },
  {
   "cell_type": "code",
   "execution_count": 98,
   "metadata": {},
   "outputs": [
    {
     "data": {
      "text/plain": [
       "array([[-0.47866877,  0.35875383, -0.4418825 , -0.43100894, -0.44960332]])"
      ]
     },
     "execution_count": 98,
     "metadata": {},
     "output_type": "execute_result"
    }
   ],
   "source": [
    "i=18\n",
    "np.dot(X_temp_train_features[i].toarray(), coef.T) + intercept.T"
   ]
  },
  {
   "cell_type": "code",
   "execution_count": 99,
   "metadata": {},
   "outputs": [
    {
     "data": {
      "text/plain": [
       "array([-0.29741209, -0.26463357, -0.26463357, -0.19308646, -0.39906837,\n",
       "       -0.26463357, -0.1560118 ,  0.24437748,  0.31037124, -0.43462405,\n",
       "       -0.26463357, -0.35849084, -0.18797583, -0.41889392, -0.1560118 ,\n",
       "       -0.35849084, -0.24664822, -0.26463357,  0.48755549])"
      ]
     },
     "execution_count": 99,
     "metadata": {},
     "output_type": "execute_result"
    }
   ],
   "source": [
    "np.dot(X_temp_train_features.toarray(), coef[1])"
   ]
  },
  {
   "cell_type": "code",
   "execution_count": 101,
   "metadata": {},
   "outputs": [
    {
     "data": {
      "text/plain": [
       "(24,)"
      ]
     },
     "execution_count": 101,
     "metadata": {},
     "output_type": "execute_result"
    }
   ],
   "source": [
    "coef[1].T.shape"
   ]
  },
  {
   "cell_type": "code",
   "execution_count": 71,
   "metadata": {},
   "outputs": [
    {
     "data": {
      "text/plain": [
       "(19, 24)"
      ]
     },
     "execution_count": 71,
     "metadata": {},
     "output_type": "execute_result"
    }
   ],
   "source": [
    "X_temp_train_features.toarray().shape"
   ]
  },
  {
   "cell_type": "code",
   "execution_count": 102,
   "metadata": {},
   "outputs": [
    {
     "data": {
      "text/plain": [
       "-0.12880166530722365"
      ]
     },
     "execution_count": 102,
     "metadata": {},
     "output_type": "execute_result"
    }
   ],
   "source": [
    "intercept[1]"
   ]
  },
  {
   "cell_type": "code",
   "execution_count": 149,
   "metadata": {},
   "outputs": [
    {
     "data": {
      "text/plain": [
       "array([-0.04006461, -0.11191073,  0.05365017, -0.04006461, -0.05945411,\n",
       "       -0.03118495, -0.04006461, -0.04006461, -0.03789952, -0.04006461,\n",
       "       -0.03386518, -0.04006461, -0.0472393 , -0.03118495, -0.03386518,\n",
       "       -0.0472393 , -0.04006461, -0.06664773,  0.10713096,  0.07399581,\n",
       "       -0.04006461, -0.06488369, -0.04006461, -0.04006461])"
      ]
     },
     "execution_count": 149,
     "metadata": {},
     "output_type": "execute_result"
    }
   ],
   "source": [
    "coef[1]"
   ]
  },
  {
   "cell_type": "code",
   "execution_count": 138,
   "metadata": {},
   "outputs": [
    {
     "data": {
      "text/plain": [
       "-15.384079449819701"
      ]
     },
     "execution_count": 138,
     "metadata": {},
     "output_type": "execute_result"
    }
   ],
   "source": [
    "(np.dot(coef[1][1:], X_temp_train_features[-1].toarray()[0][1:]) - intercept[1]) / coef[1][0]"
   ]
  },
  {
   "cell_type": "code",
   "execution_count": 146,
   "metadata": {},
   "outputs": [
    {
     "data": {
      "text/plain": [
       "-5.507578517676394"
      ]
     },
     "execution_count": 146,
     "metadata": {},
     "output_type": "execute_result"
    }
   ],
   "source": [
    "(np.dot([v for i, v in enumerate(coef[1]) if i != 1], [v for i, v in enumerate(X_temp_train_features[-1].toarray()[0]) if i != 1]) - intercept[1]) / coef[1][1]"
   ]
  },
  {
   "cell_type": "code",
   "execution_count": 137,
   "metadata": {},
   "outputs": [
    {
     "data": {
      "text/plain": [
       "-15.384079449819701"
      ]
     },
     "execution_count": 137,
     "metadata": {},
     "output_type": "execute_result"
    }
   ],
   "source": [
    "(np.dot(coef[1][:-1], X_temp_train_features[-1].toarray()[0][:-1]) - intercept[1]) / coef[1][-1]"
   ]
  },
  {
   "cell_type": "code",
   "execution_count": 163,
   "metadata": {},
   "outputs": [
    {
     "data": {
      "text/plain": [
       "28.276029084166513"
      ]
     },
     "execution_count": 163,
     "metadata": {},
     "output_type": "execute_result"
    }
   ],
   "source": [
    "2 / np.dot(coef[1].T, coef[1])"
   ]
  }
 ],
 "metadata": {
  "kernelspec": {
   "display_name": "emotion-analysis",
   "language": "python",
   "name": "python3"
  },
  "language_info": {
   "codemirror_mode": {
    "name": "ipython",
    "version": 3
   },
   "file_extension": ".py",
   "mimetype": "text/x-python",
   "name": "python",
   "nbconvert_exporter": "python",
   "pygments_lexer": "ipython3",
   "version": "3.9.16"
  },
  "orig_nbformat": 4,
  "vscode": {
   "interpreter": {
    "hash": "6177d1207e3b4e003bd5f7e0d0e470f696ef2c8899bc099ae3ccb41c3d6c53a2"
   }
  }
 },
 "nbformat": 4,
 "nbformat_minor": 2
}
