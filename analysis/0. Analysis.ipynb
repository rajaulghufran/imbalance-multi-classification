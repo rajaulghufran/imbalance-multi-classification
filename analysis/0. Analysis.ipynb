{
 "cells": [
  {
   "attachments": {},
   "cell_type": "markdown",
   "metadata": {},
   "source": [
    "---"
   ]
  },
  {
   "cell_type": "code",
   "execution_count": null,
   "metadata": {},
   "outputs": [],
   "source": [
    "from pathlib import Path\n",
    "\n",
    "path = Path().absolute()"
   ]
  },
  {
   "cell_type": "code",
   "execution_count": null,
   "metadata": {},
   "outputs": [],
   "source": [
    "cd ../"
   ]
  },
  {
   "cell_type": "code",
   "execution_count": null,
   "metadata": {},
   "outputs": [],
   "source": [
    "import pickle\n",
    "import time"
   ]
  },
  {
   "attachments": {},
   "cell_type": "markdown",
   "metadata": {},
   "source": [
    "---"
   ]
  },
  {
   "attachments": {},
   "cell_type": "markdown",
   "metadata": {},
   "source": [
    "### Instantiate Classifier\n",
    "---"
   ]
  },
  {
   "cell_type": "code",
   "execution_count": null,
   "metadata": {},
   "outputs": [],
   "source": [
    "from pipeline.classification import Classification\n",
    "\n",
    "clf = Classification()"
   ]
  },
  {
   "attachments": {},
   "cell_type": "markdown",
   "metadata": {},
   "source": [
    "### Load Data\n",
    "---"
   ]
  },
  {
   "cell_type": "code",
   "execution_count": null,
   "metadata": {},
   "outputs": [],
   "source": [
    "import pandas as pd\n",
    "\n",
    "# Load dataset\n",
    "training_set_df = pd.read_csv(path / \"assets/datasets/training-set-1.csv\", delimiter=\";\")\n",
    "testing_set_df = pd.read_csv(path / \"assets/datasets/testing-set-1.csv\", delimiter=\";\")\n",
    "\n",
    "# Select specific categories\n",
    "# training_set_df = training_set_df[training_set_df[\"targets\"].isin([\"kaget\",\"takut\"])]\n",
    "# testing_set_df = testing_set_df[testing_set_df[\"targets\"].isin([\"kaget\",\"takut\"])]\n",
    "\n",
    "# Get X and y from dataset\n",
    "X_train = list(training_set_df[\"texts\"])\n",
    "y_train = list(training_set_df[\"targets\"])\n",
    "\n",
    "X_test = list(testing_set_df[\"texts\"])\n",
    "y_test = list(testing_set_df[\"targets\"])"
   ]
  },
  {
   "attachments": {},
   "cell_type": "markdown",
   "metadata": {},
   "source": [
    "### Data Preparation\n",
    "---"
   ]
  },
  {
   "cell_type": "code",
   "execution_count": null,
   "metadata": {},
   "outputs": [],
   "source": [
    "from pipeline.pos_filter import POS\n",
    "\n",
    "# Text Preprocessing\n",
    "X_train = clf.text_preprocessing_pipeline.transform(X_train)\n",
    "X_test = clf.text_preprocessing_pipeline.transform(X_test)\n",
    "\n",
    "# Feature Selection\n",
    "\n",
    "# emotion classification\n",
    "clf.feature_selection_pipeline.named_steps[\"pos_filter\"].set_params(**{\"pos\": POS - set([\"DET\",\"INTJ\",\"NUM\",\"PRON\",\"PROPN\",\"PUNCT\",\"SYM\",\"X\"])})\n",
    "\n",
    "# aspect classification\n",
    "# clf.feature_selection_pipeline.named_steps[\"pos_filter\"].set_params(**{\"pos\": set([\"NOUN\",\"PROPN\"])})\n",
    "\n",
    "# extract word features\n",
    "clf.feature_selection_pipeline.named_steps[\"document_transformer\"].set_params(**{\"feat_attrs\": [\"lemma\",\"upos\"]})\n",
    "\n",
    "X_train = clf.feature_selection_pipeline.transform(X_train)\n",
    "X_test = clf.feature_selection_pipeline.transform(X_test)"
   ]
  },
  {
   "attachments": {},
   "cell_type": "markdown",
   "metadata": {},
   "source": [
    "### Hyper-parameters tuning\n",
    "---"
   ]
  },
  {
   "cell_type": "code",
   "execution_count": null,
   "metadata": {},
   "outputs": [],
   "source": [
    "from datetime import timedelta\n",
    "\n",
    "n_iter = 10\n",
    "n_splits = 5\n",
    "train_size = 0.8\n",
    "n_jobs = 1\n",
    "verbose = 1\n",
    "\n",
    "param_distributions = {\n",
    "    \"tfidfvectorizer__ngram_range\": ((1,2),),\n",
    "    \"tfidfvectorizer__min_df\": (1,),\n",
    "    \"tfidfvectorizer__max_df\": (1.0,),\n",
    "    \"tfidfvectorizer__norm\": (\"l2\",),\n",
    "    \"tfidfvectorizer__sublinear_tf\": (True,),\n",
    "    \"svc__kernel\": (\"rbf\",),\n",
    "    \"svc__C\": (1,),\n",
    "    \"svc__gamma\": (\"scale\", 0.0001, 0.001, 0.01, 0.1, 1),\n",
    "    \"svc__class_weight\": (\"balanced\",),\n",
    "    \"svc__decision_function_shape\": (\"ovo\",)\n",
    "}\n",
    "\n",
    "# param_distributions = {\n",
    "#     \"tfidfvectorizer__ngram_range\": ((1, 1), (1, 2), (2, 2)),\n",
    "#     \"tfidfvectorizer__min_df\": (0.01, 1, 3, 5, 10),\n",
    "#     \"tfidfvectorizer__max_df\": (0.2, 0.4, 0.6, 0.8, 1.0),\n",
    "#     \"tfidfvectorizer__norm\": (None, \"l1\", \"l2\"),\n",
    "#     \"tfidfvectorizer__sublinear_tf\": (True, False),\n",
    "#     \"svc__kernel\": (\"linear\",),\n",
    "#     \"svc__C\": (0.01, 0.1, 1, 10, 100),\n",
    "#     \"svc__class_weight\": (None, \"balanced\", {\"kaget\": 1, \"cinta\": 3, \"takut\": 4, \"marah\": 5, \"gembira\": 10, \"sedih\": 11}),\n",
    "#     \"svc__decision_function_shape\": (\"ovo\", \"ovr\")\n",
    "# }\n",
    "\n",
    "randomized_search, estimation = clf.tuning(X_train, y_train, param_distributions, n_iter, n_splits, train_size, n_jobs, verbose)\n",
    "cv_results_df = pd.DataFrame(randomized_search.cv_results_)\n"
   ]
  },
  {
   "cell_type": "code",
   "execution_count": null,
   "metadata": {},
   "outputs": [],
   "source": [
    "cv_results_df"
   ]
  },
  {
   "cell_type": "code",
   "execution_count": null,
   "metadata": {},
   "outputs": [],
   "source": [
    "print(f'Fitted {randomized_search.n_splits_} folds of {len(cv_results_df)} candidates, finished in {str(timedelta(seconds=estimation))}.')\n",
    "print(f\"Best score: {randomized_search.best_score_}\")\n",
    "print(\"Best hyper-parameters:\")\n",
    "randomized_search.best_params_"
   ]
  },
  {
   "attachments": {},
   "cell_type": "markdown",
   "metadata": {},
   "source": [
    "### DO Update classification pipeline\n",
    "---"
   ]
  },
  {
   "cell_type": "code",
   "execution_count": null,
   "metadata": {},
   "outputs": [],
   "source": [
    "clf.classification_pipeline = randomized_search.best_estimator_"
   ]
  },
  {
   "attachments": {},
   "cell_type": "markdown",
   "metadata": {},
   "source": [
    "### OR Re-train Model\n",
    "---"
   ]
  },
  {
   "attachments": {},
   "cell_type": "markdown",
   "metadata": {},
   "source": [
    "#### Apply the best hyper-parameters\n",
    "---"
   ]
  },
  {
   "cell_type": "code",
   "execution_count": null,
   "metadata": {},
   "outputs": [],
   "source": [
    "# clf.classification_pipeline.set_params(**randomized_search.best_params_)"
   ]
  },
  {
   "attachments": {},
   "cell_type": "markdown",
   "metadata": {},
   "source": [
    "#### Train model\n",
    "---"
   ]
  },
  {
   "cell_type": "code",
   "execution_count": null,
   "metadata": {},
   "outputs": [],
   "source": [
    "# clf.train_preprocessed(X_train, y_train)"
   ]
  },
  {
   "attachments": {},
   "cell_type": "markdown",
   "metadata": {},
   "source": [
    "### Save model\n",
    "---"
   ]
  },
  {
   "cell_type": "code",
   "execution_count": null,
   "metadata": {},
   "outputs": [],
   "source": [
    "clf.to_disk(path / \"assets/models/\")"
   ]
  },
  {
   "attachments": {},
   "cell_type": "markdown",
   "metadata": {},
   "source": [
    "### Load model\n",
    "---"
   ]
  },
  {
   "cell_type": "code",
   "execution_count": null,
   "metadata": {},
   "outputs": [],
   "source": [
    "# filepath = path / \"assets/models/model.2023.05.24.14.40.25.798494.pickle\"\n",
    "# clf.from_disk(filepath)"
   ]
  },
  {
   "attachments": {},
   "cell_type": "markdown",
   "metadata": {},
   "source": [
    "### Test model\n",
    "---"
   ]
  },
  {
   "cell_type": "code",
   "execution_count": null,
   "metadata": {},
   "outputs": [],
   "source": [
    "y_pred = clf.test_preprocessed(X_test)"
   ]
  },
  {
   "attachments": {},
   "cell_type": "markdown",
   "metadata": {},
   "source": [
    "### Evaluation\n",
    "---"
   ]
  },
  {
   "cell_type": "code",
   "execution_count": null,
   "metadata": {},
   "outputs": [],
   "source": [
    "accuracy, mcc = clf.score(y_test, y_pred)\n",
    "\n",
    "print(\"Accuracy:\", accuracy)\n",
    "print(\"MCC:\", mcc)"
   ]
  },
  {
   "attachments": {},
   "cell_type": "markdown",
   "metadata": {},
   "source": [
    "### Confusion Matrix\n",
    "---"
   ]
  },
  {
   "cell_type": "code",
   "execution_count": null,
   "metadata": {},
   "outputs": [],
   "source": [
    "from sklearn.metrics import ConfusionMatrixDisplay\n",
    "\n",
    "normalize = None\n",
    "# normalize=\"true\"\n",
    "\n",
    "ConfusionMatrixDisplay.from_predictions(y_test, y_pred, normalize=normalize, cmap=\"YlGn\")"
   ]
  },
  {
   "attachments": {},
   "cell_type": "markdown",
   "metadata": {},
   "source": [
    "## Analysis\n",
    "---"
   ]
  },
  {
   "cell_type": "code",
   "execution_count": null,
   "metadata": {},
   "outputs": [],
   "source": [
    "clf.classification_pipeline.named_steps[\"tfidfvectorizer\"].get_feature_names_out()"
   ]
  }
 ],
 "metadata": {
  "kernelspec": {
   "display_name": "emotion-analysis",
   "language": "python",
   "name": "python3"
  },
  "language_info": {
   "codemirror_mode": {
    "name": "ipython",
    "version": 3
   },
   "file_extension": ".py",
   "mimetype": "text/x-python",
   "name": "python",
   "nbconvert_exporter": "python",
   "pygments_lexer": "ipython3",
   "version": "3.9.16"
  },
  "orig_nbformat": 4,
  "vscode": {
   "interpreter": {
    "hash": "6177d1207e3b4e003bd5f7e0d0e470f696ef2c8899bc099ae3ccb41c3d6c53a2"
   }
  }
 },
 "nbformat": 4,
 "nbformat_minor": 2
}
