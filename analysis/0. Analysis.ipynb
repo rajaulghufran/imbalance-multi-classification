{
 "cells": [
  {
   "attachments": {},
   "cell_type": "markdown",
   "metadata": {},
   "source": [
    "---"
   ]
  },
  {
   "cell_type": "code",
   "execution_count": 1,
   "metadata": {},
   "outputs": [],
   "source": [
    "from pathlib import Path\n",
    "\n",
    "path = Path().absolute()"
   ]
  },
  {
   "cell_type": "code",
   "execution_count": 2,
   "metadata": {},
   "outputs": [
    {
     "name": "stdout",
     "output_type": "stream",
     "text": [
      "c:\\Users\\c10nGp4\\OneDrive\\Documents\\GitHub\\imbalance-multi-classification\n"
     ]
    }
   ],
   "source": [
    "cd ../"
   ]
  },
  {
   "cell_type": "code",
   "execution_count": 3,
   "metadata": {},
   "outputs": [],
   "source": [
    "import pickle\n",
    "import time"
   ]
  },
  {
   "attachments": {},
   "cell_type": "markdown",
   "metadata": {},
   "source": [
    "---"
   ]
  },
  {
   "attachments": {},
   "cell_type": "markdown",
   "metadata": {},
   "source": [
    "### Load Dataset\n",
    "---"
   ]
  },
  {
   "cell_type": "code",
   "execution_count": 4,
   "metadata": {},
   "outputs": [],
   "source": [
    "import pandas as pd\n",
    "\n",
    "df = pd.read_csv(path / \"assets/datasets/dataset-1.csv\", delimiter=\";\")"
   ]
  },
  {
   "attachments": {},
   "cell_type": "markdown",
   "metadata": {},
   "source": [
    "### Instantiate Classifier\n",
    "---"
   ]
  },
  {
   "cell_type": "code",
   "execution_count": 5,
   "metadata": {},
   "outputs": [
    {
     "name": "stdout",
     "output_type": "stream",
     "text": [
      "2023-05-24 01:24:55 INFO: DOWNLOAD STANZA MODEL\n"
     ]
    },
    {
     "data": {
      "application/vnd.jupyter.widget-view+json": {
       "model_id": "bfc81d459d324dcba47d481891ca90da",
       "version_major": 2,
       "version_minor": 0
      },
      "text/plain": [
       "Downloading https://raw.githubusercontent.com/stanfordnlp/stanza-resources/main/resources_1.5.1.json:   0%|   …"
      ]
     },
     "metadata": {},
     "output_type": "display_data"
    },
    {
     "name": "stderr",
     "output_type": "stream",
     "text": [
      "2023-05-24 01:24:55 INFO: Downloading default packages for language: id (Indonesian) ...\n",
      "2023-05-24 01:24:56 INFO: File exists: C:\\Users\\c10nGp4\\stanza_resources\\id\\default.zip\n",
      "2023-05-24 01:24:57 INFO: Finished downloading models and saved to C:\\Users\\c10nGp4\\stanza_resources.\n",
      "2023-05-24 01:24:57 INFO: Checking for updates to resources.json in case models have been updated.  Note: this behavior can be turned off with download_method=None or download_method=DownloadMethod.REUSE_RESOURCES\n"
     ]
    },
    {
     "name": "stdout",
     "output_type": "stream",
     "text": [
      "2023-05-24 01:24:57 INFO: LOAD STANZA PIPELINE: tokenize,mwt,pos,lemma\n"
     ]
    },
    {
     "data": {
      "application/vnd.jupyter.widget-view+json": {
       "model_id": "58057c217c9d4eb3b04237fa0d640a61",
       "version_major": 2,
       "version_minor": 0
      },
      "text/plain": [
       "Downloading https://raw.githubusercontent.com/stanfordnlp/stanza-resources/main/resources_1.5.0.json:   0%|   …"
      ]
     },
     "metadata": {},
     "output_type": "display_data"
    },
    {
     "name": "stderr",
     "output_type": "stream",
     "text": [
      "2023-05-24 01:24:58 INFO: Loading these models for language: id (Indonesian):\n",
      "=======================\n",
      "| Processor | Package |\n",
      "-----------------------\n",
      "| tokenize  | gsd     |\n",
      "| mwt       | gsd     |\n",
      "| pos       | gsd     |\n",
      "| lemma     | gsd     |\n",
      "=======================\n",
      "\n",
      "2023-05-24 01:24:58 INFO: Using device: cuda\n",
      "2023-05-24 01:24:58 INFO: Loading: tokenize\n",
      "2023-05-24 01:25:00 INFO: Loading: mwt\n",
      "2023-05-24 01:25:01 INFO: Loading: pos\n",
      "2023-05-24 01:25:01 INFO: Loading: lemma\n",
      "2023-05-24 01:25:01 INFO: Done loading processors!\n"
     ]
    }
   ],
   "source": [
    "from pipeline.classification import Classification\n",
    "\n",
    "clf = Classification()"
   ]
  },
  {
   "attachments": {},
   "cell_type": "markdown",
   "metadata": {},
   "source": [
    "### Load Data\n",
    "---"
   ]
  },
  {
   "cell_type": "code",
   "execution_count": 6,
   "metadata": {},
   "outputs": [],
   "source": [
    "import pandas as pd\n",
    "\n",
    "# Load dataset\n",
    "df = pd.read_csv(path / \"assets/datasets/dataset-1.csv\", delimiter=\";\")\n",
    "\n",
    "# Select specific categories\n",
    "# df[df[\"targets\"].isin([\"kaget\",\"takut\"])]\n",
    "\n",
    "# Get X and y from dataset\n",
    "X = list(df[\"texts\"])\n",
    "y = list(df[\"targets\"])\n",
    "\n",
    "# Reduce data\n",
    "# _1, X, _2, y = clf.train_test_split(X, y, test_size=.05)"
   ]
  },
  {
   "attachments": {},
   "cell_type": "markdown",
   "metadata": {},
   "source": [
    "### Data Preparation\n",
    "---"
   ]
  },
  {
   "cell_type": "code",
   "execution_count": 7,
   "metadata": {},
   "outputs": [
    {
     "name": "stdout",
     "output_type": "stream",
     "text": [
      "2023-05-24 01:25:01 INFO: TEXT CLEANING\n",
      "2023-05-24 01:25:03 INFO: TOKENIZE, MWT, POS, LEMMA\n",
      "2023-05-24 01:26:20 INFO: POS REMOVAL\n",
      "2023-05-24 01:26:20 INFO: STOPWORD REMOVAL\n",
      "2023-05-24 01:26:21 INFO: DOCUMENT TRANSFORMER\n"
     ]
    }
   ],
   "source": [
    "from pipeline.pos_filter import POS\n",
    "\n",
    "# Text Preprocessing\n",
    "X = clf.text_preprocessing_pipeline.transform(X)\n",
    "\n",
    "# Feature Selection\n",
    "\n",
    "# emotion classification\n",
    "clf.feature_selection_pipeline.named_steps[\"pos_filter\"].set_params(**{\"pos\": POS - set([\"DET\",\"INTJ\",\"NUM\",\"PRON\",\"PROPN\",\"PUNCT\",\"SYM\",\"X\"])})\n",
    "\n",
    "# aspect classification\n",
    "# clf.feature_selection_pipeline.named_steps[\"pos_filter\"].set_params(**{\"pos\": set([\"NOUN\",\"PROPN\"])})\n",
    "\n",
    "# word features\n",
    "clf.feature_selection_pipeline.named_steps[\"document_transformer\"].set_params(**{\"feat_attrs\": [\"lemma\",\"upos\"]})\n",
    "\n",
    "X = clf.feature_selection_pipeline.transform(X)\n",
    "\n",
    "# Split\n",
    "X_train, X_test, y_train, y_test = clf.train_test_split(X, y)"
   ]
  },
  {
   "attachments": {},
   "cell_type": "markdown",
   "metadata": {},
   "source": [
    "### Hyper-parameters tuning\n",
    "---"
   ]
  },
  {
   "cell_type": "code",
   "execution_count": 8,
   "metadata": {},
   "outputs": [],
   "source": [
    "# from datetime import timedelta\n",
    "\n",
    "# n_jobs = 1\n",
    "\n",
    "# param_grid = [\n",
    "#     {\n",
    "#         \"tfidfvectorizer__ngram_range\": ((1,2),),\n",
    "#         \"tfidfvectorizer__min_df\": (1,),\n",
    "#         \"tfidfvectorizer__max_df\": (1.0,),\n",
    "#         \"svc__kernel\": (\"linear\",),\n",
    "#         \"svc__C\": (0.01, 0.1, 1, 10, 100, 1000, 10000)\n",
    "#     }\n",
    "# ]\n",
    "\n",
    "# # param_grid = [\n",
    "# #     {\n",
    "# #         \"tfidfvectorizer__ngram_range\": ((1,2)),\n",
    "# #         \"tfidfvectorizer__min_df\": (1,),\n",
    "# #         \"tfidfvectorizer__max_df\": (1.0,),\n",
    "# #         \"svc__kernel\": (\"rbf\",),\n",
    "# #         \"svc__C\": (0.01, 0.1, 1, 10, 100, 1000, 10000),\n",
    "# #         \"svc__gamma\": (0.0001, 0.001, 0.01, 0.1, 1)\n",
    "# #     }\n",
    "# # ]\n",
    "\n",
    "# # param_grid = [\n",
    "# #     {\n",
    "# #         \"tfidfvectorizer__ngram_range\": ((1,2),),\n",
    "# #         \"tfidfvectorizer__min_df\": (1,),\n",
    "# #         \"tfidfvectorizer__max_df\": (1.0,),\n",
    "# #         \"svc__kernel\": (\"linear\",),\n",
    "# #         \"svc__C\": (0.01, 0.1, 1, 10, 100, 1000, 10000),\n",
    "# #     },\n",
    "# #     {\n",
    "# #         \"tfidfvectorizer__ngram_range\": ((1,2),),\n",
    "# #         \"tfidfvectorizer__min_df\": (1,),\n",
    "# #         \"tfidfvectorizer__max_df\": (1.0,),\n",
    "# #         \"svc__kernel\": (\"rbf\",),\n",
    "# #         \"svc__C\": (0.01, 0.1, 1, 10, 100, 1000, 10000),\n",
    "# #         \"svc__gamma\": (\"scale\",)\n",
    "# #     }\n",
    "# # ]\n",
    "\n",
    "# grid_search, estimation = clf.tuning(X_train, y_train, param_grid, n_jobs, verbose=1)\n",
    "\n",
    "# print(f\"Finished in {str(timedelta(seconds=estimation))}\")\n",
    "\n",
    "# print(f\"Best score: {grid_search.best_score_}\")\n",
    "\n",
    "# print(\"Best hyper-parameters:\")\n",
    "# print(grid_search.best_params_)"
   ]
  },
  {
   "cell_type": "code",
   "execution_count": 9,
   "metadata": {},
   "outputs": [],
   "source": [
    "# import plotly.express as px\n",
    "\n",
    "# cv_results = grid_search.cv_results_\n",
    "            \n",
    "# cv_results_df = pd.DataFrame(cv_results)\n",
    "# parallel_coordinates_df = cv_results_df.loc[:, [col_name for col_name in cv_results_df.columns if \"param_\" in col_name or col_name == \"mean_test_score\"]]\n",
    "# parallel_coordinates_df = parallel_coordinates_df.rename(lambda col_name: \"MCC\" if col_name == \"mean_test_score\" else col_name.split(\"__\")[-1], axis=\"columns\")\n",
    "\n",
    "# dimensions = []\n",
    "\n",
    "# for col_name in parallel_coordinates_df:\n",
    "#     series = parallel_coordinates_df[col_name]\n",
    "\n",
    "#     if col_name == \"MCC\":\n",
    "#         dimensions.append({\n",
    "#             \"label\": col_name,\n",
    "#             \"values\": parallel_coordinates_df[col_name],\n",
    "#             \"range\": [-1, 1]\n",
    "#         })\n",
    "\n",
    "#     else:\n",
    "#         unique_values = list(series.unique())\n",
    "\n",
    "#         dimensions.append({\n",
    "#             \"label\": col_name,\n",
    "#             \"values\": [unique_values.index(value) for value in series],\n",
    "#             \"ticktext\": [str(value) for value in unique_values],\n",
    "#             \"tickvals\": list(range(len(unique_values)))\n",
    "#         })\n",
    "\n",
    "# fig = px.parallel_coordinates(\n",
    "#     parallel_coordinates_df,\n",
    "#     color=\"MCC\",\n",
    "#     color_continuous_scale=px.colors.diverging.RdYlGn,\n",
    "#     color_continuous_midpoint=0,\n",
    "#     range_color=[-1,1]\n",
    "# )\n",
    "\n",
    "# fig.update_traces(dimensions=dimensions)"
   ]
  },
  {
   "attachments": {},
   "cell_type": "markdown",
   "metadata": {},
   "source": [
    "### Apply the best hyper-parameters\n",
    "---"
   ]
  },
  {
   "cell_type": "code",
   "execution_count": 10,
   "metadata": {},
   "outputs": [],
   "source": [
    "# clf.classification_pipeline.set_params(**grid_search.best_params_)"
   ]
  },
  {
   "attachments": {},
   "cell_type": "markdown",
   "metadata": {},
   "source": [
    "### Train model\n",
    "---"
   ]
  },
  {
   "cell_type": "code",
   "execution_count": 11,
   "metadata": {},
   "outputs": [],
   "source": [
    "# clf.train_preprocessed(X_train, y_train)"
   ]
  },
  {
   "attachments": {},
   "cell_type": "markdown",
   "metadata": {},
   "source": [
    "### Save model\n",
    "---"
   ]
  },
  {
   "cell_type": "code",
   "execution_count": 12,
   "metadata": {},
   "outputs": [],
   "source": [
    "# clf.to_disk(path / \"assets/models/\")"
   ]
  },
  {
   "attachments": {},
   "cell_type": "markdown",
   "metadata": {},
   "source": [
    "### Load model\n",
    "---"
   ]
  },
  {
   "cell_type": "code",
   "execution_count": 14,
   "metadata": {},
   "outputs": [],
   "source": [
    "filepath = path / \"assets/models/model.2023.05.22.02.11.27.952634.pickle\"\n",
    "clf.from_disk(filepath)"
   ]
  },
  {
   "attachments": {},
   "cell_type": "markdown",
   "metadata": {},
   "source": [
    "### Test model\n",
    "---"
   ]
  },
  {
   "cell_type": "code",
   "execution_count": 15,
   "metadata": {},
   "outputs": [
    {
     "name": "stdout",
     "output_type": "stream",
     "text": [
      "2023-05-24 01:27:39 INFO: MODEL TESTINIG\n"
     ]
    }
   ],
   "source": [
    "y_pred = clf.test_preprocessed(X_test)"
   ]
  },
  {
   "attachments": {},
   "cell_type": "markdown",
   "metadata": {},
   "source": [
    "### Evaluation\n",
    "---"
   ]
  },
  {
   "cell_type": "code",
   "execution_count": 16,
   "metadata": {},
   "outputs": [
    {
     "name": "stdout",
     "output_type": "stream",
     "text": [
      "Accuracy: 0.7082744987291726\n",
      "MCC: 0.6237471733150306\n"
     ]
    }
   ],
   "source": [
    "accuracy, mcc = clf.score(y_test, y_pred)\n",
    "\n",
    "print(\"Accuracy:\", accuracy)\n",
    "print(\"MCC:\", mcc)"
   ]
  },
  {
   "attachments": {},
   "cell_type": "markdown",
   "metadata": {},
   "source": [
    "### Confusion Matrix\n",
    "---"
   ]
  },
  {
   "cell_type": "code",
   "execution_count": 17,
   "metadata": {},
   "outputs": [
    {
     "data": {
      "text/plain": [
       "<sklearn.metrics._plot.confusion_matrix.ConfusionMatrixDisplay at 0x16ad886f460>"
      ]
     },
     "execution_count": 17,
     "metadata": {},
     "output_type": "execute_result"
    },
    {
     "data": {
      "image/png": "[encoded data removed]",
      "text/plain": [
       "<Figure size 640x480 with 2 Axes>"
      ]
     },
     "metadata": {},
     "output_type": "display_data"
    }
   ],
   "source": [
    "from sklearn.metrics import ConfusionMatrixDisplay\n",
    "ConfusionMatrixDisplay.from_predictions(y_test, y_pred, normalize=\"true\", cmap=\"YlGn\")"
   ]
  },
  {
   "attachments": {},
   "cell_type": "markdown",
   "metadata": {},
   "source": [
    "## Analysis\n",
    "---"
   ]
  },
  {
   "cell_type": "code",
   "execution_count": 18,
   "metadata": {},
   "outputs": [
    {
     "data": {
      "text/plain": [
       "array(['aa.NOUN', 'aa.NOUN dengar.VERB', 'aa.NOUN href.NOUN', ...,\n",
       "       'zumba.NOUN gairah.NOUN', 'zumba.NOUN jam.NOUN',\n",
       "       'zumba.NOUN renang.VERB'], dtype=object)"
      ]
     },
     "execution_count": 18,
     "metadata": {},
     "output_type": "execute_result"
    }
   ],
   "source": [
    "clf.classification_pipeline.named_steps[\"tfidfvectorizer\"].get_feature_names_out()"
   ]
  }
 ],
 "metadata": {
  "kernelspec": {
   "display_name": "emotion-analysis",
   "language": "python",
   "name": "python3"
  },
  "language_info": {
   "codemirror_mode": {
    "name": "ipython",
    "version": 3
   },
   "file_extension": ".py",
   "mimetype": "text/x-python",
   "name": "python",
   "nbconvert_exporter": "python",
   "pygments_lexer": "ipython3",
   "version": "3.9.16"
  },
  "orig_nbformat": 4,
  "vscode": {
   "interpreter": {
    "hash": "6177d1207e3b4e003bd5f7e0d0e470f696ef2c8899bc099ae3ccb41c3d6c53a2"
   }
  }
 },
 "nbformat": 4,
 "nbformat_minor": 2
}
