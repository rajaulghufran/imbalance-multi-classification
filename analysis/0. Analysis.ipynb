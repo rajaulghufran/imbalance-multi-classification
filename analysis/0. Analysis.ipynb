{
 "cells": [
  {
   "attachments": {},
   "cell_type": "markdown",
   "metadata": {},
   "source": [
    "---"
   ]
  },
  {
   "cell_type": "code",
   "execution_count": null,
   "metadata": {},
   "outputs": [],
   "source": [
    "from pathlib import Path\n",
    "\n",
    "path = Path().absolute()"
   ]
  },
  {
   "cell_type": "code",
   "execution_count": null,
   "metadata": {},
   "outputs": [],
   "source": [
    "cd ../"
   ]
  },
  {
   "attachments": {},
   "cell_type": "markdown",
   "metadata": {},
   "source": [
    "---"
   ]
  },
  {
   "attachments": {},
   "cell_type": "markdown",
   "metadata": {},
   "source": [
    "## Load Dataset\n",
    "---"
   ]
  },
  {
   "cell_type": "code",
   "execution_count": null,
   "metadata": {},
   "outputs": [],
   "source": [
    "import pandas as pd\n",
    "\n",
    "df = pd.read_csv(path / \"assets/datasets/dataset-1.csv\", delimiter=\";\")"
   ]
  },
  {
   "attachments": {},
   "cell_type": "markdown",
   "metadata": {},
   "source": [
    "## Instantiate Classifier\n",
    "---"
   ]
  },
  {
   "cell_type": "code",
   "execution_count": null,
   "metadata": {},
   "outputs": [],
   "source": [
    "from pipeline.classification import Classification\n",
    "\n",
    "clf = Classification(n_jobs=4, target_offload=\"gpu:0\")"
   ]
  },
  {
   "attachments": {},
   "cell_type": "markdown",
   "metadata": {},
   "source": [
    "## Analysis\n",
    "---"
   ]
  },
  {
   "cell_type": "code",
   "execution_count": null,
   "metadata": {},
   "outputs": [],
   "source": [
    "import pickle\n",
    "from pipeline.classification import POS\n",
    "\n",
    "X = list(df[\"texts\"])\n",
    "y = list(df[\"targets\"])\n",
    "\n",
    "# from sklearn.model_selection import train_test_split\n",
    "#\n",
    "# X, _1, y, _2 = train_test_split(\n",
    "#     X,\n",
    "#     y,\n",
    "#     train_size=.1,\n",
    "#     random_state=42,\n",
    "#     stratify=y\n",
    "# )\n",
    "\n",
    "X_cleaned = clf.clean(X)\n",
    "X_tokenized = clf.tokenize(X_cleaned)\n",
    "# X_tokenized = clf.tokenize(X_cleaned, list(set(POS[\"tags\"]) - set([\"DET\",\"INTJ\",\"NUM\",\"PRON\",\"PROPN\",\"PUNCT\",\"X\"])))\n",
    "X_train, X_test, y_train, y_test = clf.train_test_split(X_tokenized, y)\n",
    "best_hyperparameters, estimation, grid_search = clf.tuning(X_train, y_train)\n",
    "\n",
    "with open(path / \"assets/best_hyperparameters.pickle\", \"wb\") as f:\n",
    "    pickle.dump(best_hyperparameters, f)\n",
    "\n",
    "# best_hyperparameters = {\n",
    "#     'svc__C': 10000,\n",
    "#     'svc__decision_function_shape': 'ovo',\n",
    "#     'svc__gamma': 0.0001,\n",
    "#     'svc__kernel': 'rbf',\n",
    "#     'tfidfvectorizer__max_df': 0.2,\n",
    "#     'tfidfvectorizer__min_df': 1,\n",
    "#     'tfidfvectorizer__ngram_range': (1, 2),\n",
    "#     'tfidfvectorizer__norm': 'l2'\n",
    "# }\n",
    "\n",
    "model = clf.train(X_train, y_train, best_hyperparameters)\n",
    "y_pred = clf.test(model, X_test)\n",
    "accuracy, mcc = clf.score(y_test, y_pred)\n",
    "\n",
    "print(\"Accuracy:\", accuracy)\n",
    "print(\"MCC:\", mcc)"
   ]
  },
  {
   "cell_type": "code",
   "execution_count": null,
   "metadata": {},
   "outputs": [],
   "source": [
    "import matplotlib.pyplot as plt\n",
    "from sklearn.metrics import ConfusionMatrixDisplay\n",
    "\n",
    "disp = ConfusionMatrixDisplay.from_predictions(y_test, y_pred)\n",
    "disp.plot()\n",
    "\n",
    "plt.show()"
   ]
  }
 ],
 "metadata": {
  "kernelspec": {
   "display_name": "emotion-analysis",
   "language": "python",
   "name": "python3"
  },
  "language_info": {
   "codemirror_mode": {
    "name": "ipython",
    "version": 3
   },
   "file_extension": ".py",
   "mimetype": "text/x-python",
   "name": "python",
   "nbconvert_exporter": "python",
   "pygments_lexer": "ipython3",
   "version": "3.9.16"
  },
  "orig_nbformat": 4,
  "vscode": {
   "interpreter": {
    "hash": "6177d1207e3b4e003bd5f7e0d0e470f696ef2c8899bc099ae3ccb41c3d6c53a2"
   }
  }
 },
 "nbformat": 4,
 "nbformat_minor": 2
}
