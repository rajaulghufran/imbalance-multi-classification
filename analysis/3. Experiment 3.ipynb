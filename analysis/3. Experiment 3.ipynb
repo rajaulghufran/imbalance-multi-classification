{
 "cells": [
  {
   "attachments": {},
   "cell_type": "markdown",
   "metadata": {},
   "source": [
    "---"
   ]
  },
  {
   "cell_type": "code",
   "execution_count": 1,
   "metadata": {},
   "outputs": [],
   "source": [
    "from pathlib import Path\n",
    "\n",
    "path = Path().absolute()"
   ]
  },
  {
   "cell_type": "code",
   "execution_count": 2,
   "metadata": {},
   "outputs": [
    {
     "name": "stdout",
     "output_type": "stream",
     "text": [
      "c:\\Users\\c10nGp4\\OneDrive\\Documents\\GitHub\\imbalance-multi-classification\n"
     ]
    }
   ],
   "source": [
    "cd ../"
   ]
  },
  {
   "cell_type": "code",
   "execution_count": 3,
   "metadata": {},
   "outputs": [],
   "source": [
    "import pickle\n",
    "import time\n",
    "\n",
    "from sklearn.pipeline import Pipeline"
   ]
  },
  {
   "attachments": {},
   "cell_type": "markdown",
   "metadata": {},
   "source": [
    "---"
   ]
  },
  {
   "attachments": {},
   "cell_type": "markdown",
   "metadata": {},
   "source": [
    "### Load Data\n",
    "---"
   ]
  },
  {
   "cell_type": "code",
   "execution_count": 4,
   "metadata": {},
   "outputs": [],
   "source": [
    "import pandas as pd\n",
    "\n",
    "# Load dataset\n",
    "training_set_df = pd.read_csv(path / \"assets/datasets/training-set-1.csv\", delimiter=\";\")\n",
    "testing_set_df = pd.read_csv(path / \"assets/datasets/testing-set-1.csv\", delimiter=\";\")\n",
    "\n",
    "# Get X and y from dataset\n",
    "X_train = list(training_set_df[\"texts\"])\n",
    "y_train = list(training_set_df[\"targets\"])\n",
    "\n",
    "X_test = list(testing_set_df[\"texts\"])\n",
    "y_test = list(testing_set_df[\"targets\"])"
   ]
  },
  {
   "attachments": {},
   "cell_type": "markdown",
   "metadata": {},
   "source": [
    "### Data Preparation\n",
    "---"
   ]
  },
  {
   "cell_type": "code",
   "execution_count": 5,
   "metadata": {},
   "outputs": [
    {
     "name": "stdout",
     "output_type": "stream",
     "text": [
      "2023-06-07 05:53:01 INFO: DOWNLOAD STANZA MODEL\n"
     ]
    },
    {
     "data": {
      "application/vnd.jupyter.widget-view+json": {
       "model_id": "d46caef5d6e645e3986a5dde0d229287",
       "version_major": 2,
       "version_minor": 0
      },
      "text/plain": [
       "Downloading https://raw.githubusercontent.com/stanfordnlp/stanza-resources/main/resources_1.5.1.json:   0%|   …"
      ]
     },
     "metadata": {},
     "output_type": "display_data"
    },
    {
     "name": "stderr",
     "output_type": "stream",
     "text": [
      "2023-06-07 05:53:02 INFO: Downloading default packages for language: id (Indonesian) ...\n",
      "2023-06-07 05:53:02 INFO: File exists: C:\\Users\\c10nGp4\\stanza_resources\\id\\default.zip\n",
      "2023-06-07 05:53:04 INFO: Finished downloading models and saved to C:\\Users\\c10nGp4\\stanza_resources.\n",
      "2023-06-07 05:53:04 INFO: Checking for updates to resources.json in case models have been updated.  Note: this behavior can be turned off with download_method=None or download_method=DownloadMethod.REUSE_RESOURCES\n"
     ]
    },
    {
     "name": "stdout",
     "output_type": "stream",
     "text": [
      "2023-06-07 05:53:04 INFO: LOAD STANZA PIPELINE: tokenize,mwt,pos,lemma\n"
     ]
    },
    {
     "data": {
      "application/vnd.jupyter.widget-view+json": {
       "model_id": "a9c8404aad204f6cb8e5ad1c87e30026",
       "version_major": 2,
       "version_minor": 0
      },
      "text/plain": [
       "Downloading https://raw.githubusercontent.com/stanfordnlp/stanza-resources/main/resources_1.5.0.json:   0%|   …"
      ]
     },
     "metadata": {},
     "output_type": "display_data"
    },
    {
     "data": {
      "application/vnd.jupyter.widget-view+json": {
       "model_id": "60826c27c12f455bae93122e76be85e0",
       "version_major": 2,
       "version_minor": 0
      },
      "text/plain": [
       "Downloading https://huggingface.co/stanfordnlp/stanza-id/resolve/v1.5.0/models/pos/gsd.pt:   0%|          | 0.…"
      ]
     },
     "metadata": {},
     "output_type": "display_data"
    },
    {
     "name": "stderr",
     "output_type": "stream",
     "text": [
      "2023-06-07 05:53:11 INFO: Loading these models for language: id (Indonesian):\n",
      "=======================\n",
      "| Processor | Package |\n",
      "-----------------------\n",
      "| tokenize  | gsd     |\n",
      "| mwt       | gsd     |\n",
      "| pos       | gsd     |\n",
      "| lemma     | gsd     |\n",
      "=======================\n",
      "\n",
      "2023-06-07 05:53:11 INFO: Using device: cuda\n",
      "2023-06-07 05:53:11 INFO: Loading: tokenize\n",
      "2023-06-07 05:53:13 INFO: Loading: mwt\n",
      "2023-06-07 05:53:13 INFO: Loading: pos\n",
      "2023-06-07 05:53:14 INFO: Loading: lemma\n",
      "2023-06-07 05:53:14 INFO: Done loading processors!\n"
     ]
    },
    {
     "name": "stdout",
     "output_type": "stream",
     "text": [
      "2023-06-07 05:53:14 INFO: TEXT CLEANING\n",
      "2023-06-07 05:53:15 INFO: TOKENIZE, MWT, POS, LEMMA\n",
      "2023-06-07 05:54:32 INFO: TEXT CLEANING\n",
      "2023-06-07 05:54:33 INFO: TOKENIZE, MWT, POS, LEMMA\n"
     ]
    }
   ],
   "source": [
    "from pipeline.text_cleaning import TextCleaning\n",
    "from pipeline.tokenize_mwt_pos_lemma import TokenizeMWTPOSLemma\n",
    "\n",
    "# Text Preprocessing\n",
    "\n",
    "text_preprocessing_pipeline: Pipeline = Pipeline([\n",
    "    (\"text_cleaning\", TextCleaning()),\n",
    "    (\"tokenize_mwt_pos_lemma\", TokenizeMWTPOSLemma())\n",
    "])\n",
    "\n",
    "X_train = text_preprocessing_pipeline.transform(X_train)\n",
    "X_test = text_preprocessing_pipeline.transform(X_test)"
   ]
  },
  {
   "attachments": {},
   "cell_type": "markdown",
   "metadata": {},
   "source": [
    "### Hyper-parameters tuning\n",
    "---"
   ]
  },
  {
   "cell_type": "code",
   "execution_count": 6,
   "metadata": {},
   "outputs": [],
   "source": [
    "# from pipeline.stopword_removal import StopWordRemoval\n",
    "\n",
    "# stopword_removal = StopWordRemoval()\n",
    "\n",
    "# X_train = stopword_removal.transform(X_train)\n",
    "# X_test = stopword_removal.transform(X_test)"
   ]
  },
  {
   "cell_type": "code",
   "execution_count": 7,
   "metadata": {},
   "outputs": [],
   "source": [
    "from sklearn.feature_extraction.text import TfidfVectorizer\n",
    "from sklearn.svm import LinearSVC\n",
    "\n",
    "from pipeline.pos_filter import POSFilter\n",
    "from pipeline.document_transformer import DocumentTransformer\n",
    "\n",
    "def fun(arg):\n",
    "    return arg\n",
    "\n",
    "tfidfvectorizer_hyperparameters = {\n",
    "    \"encoding\": \"ascii\",\n",
    "    \"decode_error\": \"ignore\",\n",
    "    \"strip_accents\": \"ascii\",\n",
    "    \"preprocessor\": fun,\n",
    "    \"tokenizer\": fun,\n",
    "    \"analyzer\": \"word\",\n",
    "    \"token_pattern\": None,\n",
    "    \"max_df\": 1.0,\n",
    "}\n",
    "\n",
    "linearsvc_hyperparameters = {\n",
    "    \"loss\": \"squared_hinge\",\n",
    "    \"dual\": False,\n",
    "    \"tol\": 0.0001,\n",
    "    \"multi_class\": \"ovr\",\n",
    "    \"max_iter\": 1000000,\n",
    "    \"random_state\": 42\n",
    "}\n",
    "\n",
    "document_transformer_hyperparameters = {\n",
    "    \"feat_attrs\": [\"text\"]\n",
    "}\n",
    "\n",
    "pipeline: Pipeline = Pipeline([\n",
    "    (\"pos_filter\", POSFilter()),\n",
    "    (\"document_transformer\", DocumentTransformer(**document_transformer_hyperparameters)),\n",
    "    (\"tfidfvectorizer\", TfidfVectorizer(**tfidfvectorizer_hyperparameters)),\n",
    "    (\"linearsvc\", LinearSVC(random_state=42))\n",
    "])"
   ]
  },
  {
   "cell_type": "code",
   "execution_count": 8,
   "metadata": {},
   "outputs": [],
   "source": [
    "from pipeline.pos_filter import POS\n",
    "\n",
    "param_distributions = [\n",
    "    {\n",
    "        \"pos_filter__pos\": (POS, (\"ADJ\",\"ADV\",\"NOUN\",\"PART\",\"VERB\")),\n",
    "        \"tfidfvectorizer__ngram_range\": ((1, 1), (1, 2)),\n",
    "        \"tfidfvectorizer__min_df\": (1, 5),\n",
    "        \"tfidfvectorizer__norm\": (\"l1\", \"l2\"),\n",
    "        \"tfidfvectorizer__sublinear_tf\": (True, False),\n",
    "        \"linearsvc__class_weight\": (None, \"balanced\"),\n",
    "        \"linearsvc__penalty\": (\"l1\",\"l2\"),\n",
    "        \"linearsvc__C\": (0.1, 1),\n",
    "        \"linearsvc__fit_intercept\": (True,),\n",
    "        \"linearsvc__intercept_scaling\": (1.0, 1000),\n",
    "    },\n",
    "    {\n",
    "        \"pos_filter__pos\": (POS, (\"ADJ\",\"ADV\",\"NOUN\",\"PART\",\"VERB\")),\n",
    "        \"tfidfvectorizer__ngram_range\": ((1, 1), (1, 2)),\n",
    "        \"tfidfvectorizer__min_df\": (1, 5),\n",
    "        \"tfidfvectorizer__norm\": (\"l1\", \"l2\"),\n",
    "        \"tfidfvectorizer__sublinear_tf\": (True, False),\n",
    "        \"linearsvc__class_weight\": (None, \"balanced\"),\n",
    "        \"linearsvc__penalty\": (\"l1\",\"l2\"),\n",
    "        \"linearsvc__C\": (0.1, 1),\n",
    "        \"linearsvc__fit_intercept\": (False,)\n",
    "    }\n",
    "]"
   ]
  },
  {
   "cell_type": "code",
   "execution_count": 9,
   "metadata": {},
   "outputs": [
    {
     "name": "stderr",
     "output_type": "stream",
     "text": [
      "c:\\Users\\c10nGp4\\anaconda3\\envs\\imbalance-multi-classification\\lib\\site-packages\\sklearn\\model_selection\\_search.py:305: UserWarning: The total space of parameters 768 is smaller than n_iter=1000. Running 768 iterations. For exhaustive searches, use GridSearchCV.\n",
      "  warnings.warn(\n"
     ]
    },
    {
     "name": "stdout",
     "output_type": "stream",
     "text": [
      "Fitting 5 folds for each of 768 candidates, totalling 3840 fits\n",
      "2023-06-07 05:54:58 INFO: POS REMOVAL\n",
      "2023-06-07 05:54:58 INFO: DOCUMENT TRANSFORMER\n",
      "2023-06-07 05:54:59 INFO: POS REMOVAL\n",
      "2023-06-07 05:54:59 INFO: DOCUMENT TRANSFORMER\n",
      "2023-06-07 05:55:00 INFO: POS REMOVAL\n",
      "2023-06-07 05:55:00 INFO: DOCUMENT TRANSFORMER\n",
      "2023-06-07 05:55:01 INFO: POS REMOVAL\n",
      "2023-06-07 05:55:01 INFO: DOCUMENT TRANSFORMER\n",
      "2023-06-07 05:55:02 INFO: POS REMOVAL\n",
      "2023-06-07 05:55:02 INFO: DOCUMENT TRANSFORMER\n",
      "2023-06-07 05:55:03 INFO: POS REMOVAL\n",
      "2023-06-07 05:55:03 INFO: DOCUMENT TRANSFORMER\n",
      "2023-06-07 05:55:04 INFO: POS REMOVAL\n",
      "2023-06-07 05:55:04 INFO: DOCUMENT TRANSFORMER\n",
      "2023-06-07 05:55:05 INFO: POS REMOVAL\n",
      "2023-06-07 05:55:05 INFO: DOCUMENT TRANSFORMER\n",
      "2023-06-07 05:55:06 INFO: POS REMOVAL\n",
      "2023-06-07 05:55:06 INFO: DOCUMENT TRANSFORMER\n",
      "2023-06-07 05:55:07 INFO: POS REMOVAL\n",
      "2023-06-07 05:55:07 INFO: DOCUMENT TRANSFORMER\n",
      "2023-06-07 05:55:08 INFO: POS REMOVAL\n",
      "2023-06-07 05:55:08 INFO: DOCUMENT TRANSFORMER\n",
      "2023-06-07 05:55:09 INFO: POS REMOVAL\n",
      "2023-06-07 05:55:09 INFO: DOCUMENT TRANSFORMER\n",
      "2023-06-07 05:55:10 INFO: POS REMOVAL\n",
      "2023-06-07 05:55:10 INFO: DOCUMENT TRANSFORMER\n",
      "2023-06-07 05:55:11 INFO: POS REMOVAL\n",
      "2023-06-07 05:55:11 INFO: DOCUMENT TRANSFORMER\n",
      "2023-06-07 05:55:12 INFO: POS REMOVAL\n",
      "2023-06-07 05:55:12 INFO: DOCUMENT TRANSFORMER\n",
      "2023-06-07 05:55:13 INFO: POS REMOVAL\n",
      "2023-06-07 05:55:13 INFO: DOCUMENT TRANSFORMER\n",
      "2023-06-07 05:55:14 INFO: POS REMOVAL\n",
      "2023-06-07 05:55:14 INFO: DOCUMENT TRANSFORMER\n",
      "2023-06-07 05:55:15 INFO: POS REMOVAL\n",
      "2023-06-07 05:55:15 INFO: DOCUMENT TRANSFORMER\n",
      "2023-06-07 05:55:16 INFO: POS REMOVAL\n",
      "2023-06-07 05:55:16 INFO: DOCUMENT TRANSFORMER\n",
      "2023-06-07 05:55:17 INFO: POS REMOVAL\n",
      "2023-06-07 05:55:17 INFO: DOCUMENT TRANSFORMER\n",
      "2023-06-07 05:55:18 INFO: POS REMOVAL\n",
      "2023-06-07 05:55:18 INFO: DOCUMENT TRANSFORMER\n",
      "2023-06-07 05:55:19 INFO: POS REMOVAL\n",
      "2023-06-07 05:55:20 INFO: DOCUMENT TRANSFORMER\n",
      "2023-06-07 05:55:21 INFO: POS REMOVAL\n",
      "2023-06-07 05:55:21 INFO: DOCUMENT TRANSFORMER\n",
      "2023-06-07 05:55:22 INFO: POS REMOVAL\n",
      "2023-06-07 05:55:22 INFO: DOCUMENT TRANSFORMER\n",
      "2023-06-07 05:55:23 INFO: POS REMOVAL\n",
      "2023-06-07 05:55:23 INFO: DOCUMENT TRANSFORMER\n",
      "2023-06-07 05:55:25 INFO: POS REMOVAL\n",
      "2023-06-07 05:55:25 INFO: DOCUMENT TRANSFORMER\n",
      "2023-06-07 05:55:26 INFO: POS REMOVAL\n",
      "2023-06-07 05:55:26 INFO: DOCUMENT TRANSFORMER\n",
      "2023-06-07 05:55:27 INFO: POS REMOVAL\n",
      "2023-06-07 05:55:27 INFO: DOCUMENT TRANSFORMER\n",
      "2023-06-07 05:55:28 INFO: POS REMOVAL\n",
      "2023-06-07 05:55:28 INFO: DOCUMENT TRANSFORMER\n",
      "2023-06-07 05:55:30 INFO: POS REMOVAL\n",
      "2023-06-07 05:55:30 INFO: DOCUMENT TRANSFORMER\n",
      "2023-06-07 05:55:31 INFO: POS REMOVAL\n",
      "2023-06-07 05:55:31 INFO: DOCUMENT TRANSFORMER\n",
      "2023-06-07 05:55:32 INFO: POS REMOVAL\n",
      "2023-06-07 05:55:32 INFO: DOCUMENT TRANSFORMER\n",
      "2023-06-07 05:55:34 INFO: POS REMOVAL\n",
      "2023-06-07 05:55:34 INFO: DOCUMENT TRANSFORMER\n",
      "2023-06-07 05:55:35 INFO: POS REMOVAL\n",
      "2023-06-07 05:55:35 INFO: DOCUMENT TRANSFORMER\n",
      "2023-06-07 05:55:36 INFO: POS REMOVAL\n",
      "2023-06-07 05:55:37 INFO: DOCUMENT TRANSFORMER\n",
      "2023-06-07 05:55:38 INFO: POS REMOVAL\n",
      "2023-06-07 05:55:38 INFO: DOCUMENT TRANSFORMER\n",
      "2023-06-07 05:55:39 INFO: POS REMOVAL\n",
      "2023-06-07 05:55:39 INFO: DOCUMENT TRANSFORMER\n",
      "2023-06-07 05:55:40 INFO: POS REMOVAL\n",
      "2023-06-07 05:55:40 INFO: DOCUMENT TRANSFORMER\n",
      "2023-06-07 05:55:41 INFO: POS REMOVAL\n",
      "2023-06-07 05:55:42 INFO: DOCUMENT TRANSFORMER\n",
      "2023-06-07 05:55:43 INFO: POS REMOVAL\n",
      "2023-06-07 05:55:43 INFO: DOCUMENT TRANSFORMER\n",
      "2023-06-07 05:55:44 INFO: POS REMOVAL\n",
      "2023-06-07 05:55:44 INFO: DOCUMENT TRANSFORMER\n",
      "2023-06-07 05:55:45 INFO: POS REMOVAL\n",
      "2023-06-07 05:55:45 INFO: DOCUMENT TRANSFORMER\n",
      "2023-06-07 05:55:46 INFO: POS REMOVAL\n",
      "2023-06-07 05:55:46 INFO: DOCUMENT TRANSFORMER\n",
      "2023-06-07 05:55:47 INFO: POS REMOVAL\n",
      "2023-06-07 05:55:47 INFO: DOCUMENT TRANSFORMER\n",
      "2023-06-07 05:55:48 INFO: POS REMOVAL\n",
      "2023-06-07 05:55:48 INFO: DOCUMENT TRANSFORMER\n",
      "2023-06-07 05:55:49 INFO: POS REMOVAL\n",
      "2023-06-07 05:55:49 INFO: DOCUMENT TRANSFORMER\n",
      "2023-06-07 05:55:50 INFO: POS REMOVAL\n",
      "2023-06-07 05:55:50 INFO: DOCUMENT TRANSFORMER\n",
      "2023-06-07 05:55:51 INFO: POS REMOVAL\n",
      "2023-06-07 05:55:51 INFO: DOCUMENT TRANSFORMER\n",
      "2023-06-07 05:55:52 INFO: POS REMOVAL\n",
      "2023-06-07 05:55:52 INFO: DOCUMENT TRANSFORMER\n",
      "2023-06-07 05:55:53 INFO: POS REMOVAL\n",
      "2023-06-07 05:55:53 INFO: DOCUMENT TRANSFORMER\n",
      "2023-06-07 05:55:54 INFO: POS REMOVAL\n",
      "2023-06-07 05:55:54 INFO: DOCUMENT TRANSFORMER\n",
      "2023-06-07 05:55:55 INFO: POS REMOVAL\n",
      "2023-06-07 05:55:55 INFO: DOCUMENT TRANSFORMER\n",
      "2023-06-07 05:55:56 INFO: POS REMOVAL\n",
      "2023-06-07 05:55:56 INFO: DOCUMENT TRANSFORMER\n",
      "2023-06-07 05:55:57 INFO: POS REMOVAL\n",
      "2023-06-07 05:55:57 INFO: DOCUMENT TRANSFORMER\n",
      "2023-06-07 05:55:58 INFO: POS REMOVAL\n",
      "2023-06-07 05:55:58 INFO: DOCUMENT TRANSFORMER\n",
      "2023-06-07 05:55:59 INFO: POS REMOVAL\n",
      "2023-06-07 05:55:59 INFO: DOCUMENT TRANSFORMER\n",
      "2023-06-07 05:56:00 INFO: POS REMOVAL\n",
      "2023-06-07 05:56:00 INFO: DOCUMENT TRANSFORMER\n",
      "2023-06-07 05:56:01 INFO: POS REMOVAL\n",
      "2023-06-07 05:56:01 INFO: DOCUMENT TRANSFORMER\n",
      "2023-06-07 05:56:01 INFO: POS REMOVAL\n",
      "2023-06-07 05:56:02 INFO: DOCUMENT TRANSFORMER\n",
      "2023-06-07 05:56:02 INFO: POS REMOVAL\n",
      "2023-06-07 05:56:03 INFO: DOCUMENT TRANSFORMER\n",
      "2023-06-07 05:56:03 INFO: POS REMOVAL\n",
      "2023-06-07 05:56:03 INFO: DOCUMENT TRANSFORMER\n",
      "2023-06-07 05:56:05 INFO: POS REMOVAL\n",
      "2023-06-07 05:56:05 INFO: DOCUMENT TRANSFORMER\n",
      "2023-06-07 05:56:06 INFO: POS REMOVAL\n",
      "2023-06-07 05:56:06 INFO: DOCUMENT TRANSFORMER\n",
      "2023-06-07 05:56:07 INFO: POS REMOVAL\n",
      "2023-06-07 05:56:07 INFO: DOCUMENT TRANSFORMER\n",
      "2023-06-07 05:56:08 INFO: POS REMOVAL\n",
      "2023-06-07 05:56:08 INFO: DOCUMENT TRANSFORMER\n",
      "2023-06-07 05:56:09 INFO: POS REMOVAL\n",
      "2023-06-07 05:56:09 INFO: DOCUMENT TRANSFORMER\n",
      "2023-06-07 05:56:10 INFO: POS REMOVAL\n",
      "2023-06-07 05:56:10 INFO: DOCUMENT TRANSFORMER\n",
      "2023-06-07 05:56:12 INFO: POS REMOVAL\n",
      "2023-06-07 05:56:12 INFO: DOCUMENT TRANSFORMER\n",
      "2023-06-07 05:56:13 INFO: POS REMOVAL\n",
      "2023-06-07 05:56:13 INFO: DOCUMENT TRANSFORMER\n",
      "2023-06-07 05:56:14 INFO: POS REMOVAL\n",
      "2023-06-07 05:56:14 INFO: DOCUMENT TRANSFORMER\n",
      "2023-06-07 05:56:15 INFO: POS REMOVAL\n",
      "2023-06-07 05:56:15 INFO: DOCUMENT TRANSFORMER\n",
      "2023-06-07 05:56:16 INFO: POS REMOVAL\n",
      "2023-06-07 05:56:16 INFO: DOCUMENT TRANSFORMER\n",
      "2023-06-07 05:56:17 INFO: POS REMOVAL\n",
      "2023-06-07 05:56:17 INFO: DOCUMENT TRANSFORMER\n",
      "2023-06-07 05:56:18 INFO: POS REMOVAL\n",
      "2023-06-07 05:56:19 INFO: DOCUMENT TRANSFORMER\n",
      "2023-06-07 05:56:20 INFO: POS REMOVAL\n",
      "2023-06-07 05:56:20 INFO: DOCUMENT TRANSFORMER\n",
      "2023-06-07 05:56:21 INFO: POS REMOVAL\n",
      "2023-06-07 05:56:21 INFO: DOCUMENT TRANSFORMER\n",
      "2023-06-07 05:56:22 INFO: POS REMOVAL\n",
      "2023-06-07 05:56:22 INFO: DOCUMENT TRANSFORMER\n",
      "2023-06-07 05:56:23 INFO: POS REMOVAL\n",
      "2023-06-07 05:56:23 INFO: DOCUMENT TRANSFORMER\n",
      "2023-06-07 05:56:25 INFO: POS REMOVAL\n",
      "2023-06-07 05:56:25 INFO: DOCUMENT TRANSFORMER\n",
      "2023-06-07 05:56:26 INFO: POS REMOVAL\n",
      "2023-06-07 05:56:26 INFO: DOCUMENT TRANSFORMER\n",
      "2023-06-07 05:56:27 INFO: POS REMOVAL\n",
      "2023-06-07 05:56:27 INFO: DOCUMENT TRANSFORMER\n",
      "2023-06-07 05:56:28 INFO: POS REMOVAL\n",
      "2023-06-07 05:56:28 INFO: DOCUMENT TRANSFORMER\n",
      "2023-06-07 05:56:29 INFO: POS REMOVAL\n",
      "2023-06-07 05:56:29 INFO: DOCUMENT TRANSFORMER\n",
      "2023-06-07 05:56:29 INFO: POS REMOVAL\n",
      "2023-06-07 05:56:29 INFO: DOCUMENT TRANSFORMER\n",
      "2023-06-07 05:56:30 INFO: POS REMOVAL\n",
      "2023-06-07 05:56:30 INFO: DOCUMENT TRANSFORMER\n",
      "2023-06-07 05:56:31 INFO: POS REMOVAL\n",
      "2023-06-07 05:56:31 INFO: DOCUMENT TRANSFORMER\n",
      "2023-06-07 05:56:31 INFO: POS REMOVAL\n",
      "2023-06-07 05:56:32 INFO: DOCUMENT TRANSFORMER\n",
      "2023-06-07 05:56:32 INFO: POS REMOVAL\n",
      "2023-06-07 05:56:32 INFO: DOCUMENT TRANSFORMER\n",
      "2023-06-07 05:56:33 INFO: POS REMOVAL\n",
      "2023-06-07 05:56:33 INFO: DOCUMENT TRANSFORMER\n",
      "2023-06-07 05:56:33 INFO: POS REMOVAL\n",
      "2023-06-07 05:56:34 INFO: DOCUMENT TRANSFORMER\n",
      "2023-06-07 05:56:34 INFO: POS REMOVAL\n",
      "2023-06-07 05:56:34 INFO: DOCUMENT TRANSFORMER\n",
      "2023-06-07 05:56:35 INFO: POS REMOVAL\n",
      "2023-06-07 05:56:35 INFO: DOCUMENT TRANSFORMER\n",
      "2023-06-07 05:56:35 INFO: POS REMOVAL\n",
      "2023-06-07 05:56:35 INFO: DOCUMENT TRANSFORMER\n",
      "2023-06-07 05:56:36 INFO: POS REMOVAL\n",
      "2023-06-07 05:56:36 INFO: DOCUMENT TRANSFORMER\n",
      "2023-06-07 05:56:37 INFO: POS REMOVAL\n",
      "2023-06-07 05:56:37 INFO: DOCUMENT TRANSFORMER\n",
      "2023-06-07 05:56:37 INFO: POS REMOVAL\n",
      "2023-06-07 05:56:37 INFO: DOCUMENT TRANSFORMER\n",
      "2023-06-07 05:56:38 INFO: POS REMOVAL\n",
      "2023-06-07 05:56:38 INFO: DOCUMENT TRANSFORMER\n",
      "2023-06-07 05:56:39 INFO: POS REMOVAL\n",
      "2023-06-07 05:56:39 INFO: DOCUMENT TRANSFORMER\n",
      "2023-06-07 05:56:39 INFO: POS REMOVAL\n",
      "2023-06-07 05:56:39 INFO: DOCUMENT TRANSFORMER\n",
      "2023-06-07 05:56:40 INFO: POS REMOVAL\n",
      "2023-06-07 05:56:40 INFO: DOCUMENT TRANSFORMER\n",
      "2023-06-07 05:56:41 INFO: POS REMOVAL\n",
      "2023-06-07 05:56:41 INFO: DOCUMENT TRANSFORMER\n",
      "2023-06-07 05:56:42 INFO: POS REMOVAL\n",
      "2023-06-07 05:56:42 INFO: DOCUMENT TRANSFORMER\n",
      "2023-06-07 05:56:42 INFO: POS REMOVAL\n",
      "2023-06-07 05:56:43 INFO: DOCUMENT TRANSFORMER\n",
      "2023-06-07 05:56:43 INFO: POS REMOVAL\n",
      "2023-06-07 05:56:43 INFO: DOCUMENT TRANSFORMER\n",
      "2023-06-07 05:56:44 INFO: POS REMOVAL\n",
      "2023-06-07 05:56:44 INFO: DOCUMENT TRANSFORMER\n",
      "2023-06-07 05:56:45 INFO: POS REMOVAL\n",
      "2023-06-07 05:56:45 INFO: DOCUMENT TRANSFORMER\n",
      "2023-06-07 05:56:46 INFO: POS REMOVAL\n",
      "2023-06-07 05:56:46 INFO: DOCUMENT TRANSFORMER\n",
      "2023-06-07 05:56:47 INFO: POS REMOVAL\n",
      "2023-06-07 05:56:47 INFO: DOCUMENT TRANSFORMER\n",
      "2023-06-07 05:56:48 INFO: POS REMOVAL\n",
      "2023-06-07 05:56:48 INFO: DOCUMENT TRANSFORMER\n",
      "2023-06-07 05:56:48 INFO: POS REMOVAL\n",
      "2023-06-07 05:56:49 INFO: DOCUMENT TRANSFORMER\n",
      "2023-06-07 05:56:49 INFO: POS REMOVAL\n",
      "2023-06-07 05:56:49 INFO: DOCUMENT TRANSFORMER\n",
      "2023-06-07 05:56:50 INFO: POS REMOVAL\n",
      "2023-06-07 05:56:50 INFO: DOCUMENT TRANSFORMER\n",
      "2023-06-07 05:56:51 INFO: POS REMOVAL\n",
      "2023-06-07 05:56:51 INFO: DOCUMENT TRANSFORMER\n",
      "2023-06-07 05:56:52 INFO: POS REMOVAL\n",
      "2023-06-07 05:56:52 INFO: DOCUMENT TRANSFORMER\n",
      "2023-06-07 05:56:53 INFO: POS REMOVAL\n",
      "2023-06-07 05:56:53 INFO: DOCUMENT TRANSFORMER\n",
      "2023-06-07 05:56:54 INFO: POS REMOVAL\n",
      "2023-06-07 05:56:54 INFO: DOCUMENT TRANSFORMER\n",
      "2023-06-07 05:56:55 INFO: POS REMOVAL\n",
      "2023-06-07 05:56:55 INFO: DOCUMENT TRANSFORMER\n",
      "2023-06-07 05:56:55 INFO: POS REMOVAL\n",
      "2023-06-07 05:56:56 INFO: DOCUMENT TRANSFORMER\n",
      "2023-06-07 05:56:56 INFO: POS REMOVAL\n",
      "2023-06-07 05:56:56 INFO: DOCUMENT TRANSFORMER\n",
      "2023-06-07 05:56:57 INFO: POS REMOVAL\n",
      "2023-06-07 05:56:57 INFO: DOCUMENT TRANSFORMER\n",
      "2023-06-07 05:56:58 INFO: POS REMOVAL\n",
      "2023-06-07 05:56:58 INFO: DOCUMENT TRANSFORMER\n",
      "2023-06-07 05:56:59 INFO: POS REMOVAL\n",
      "2023-06-07 05:56:59 INFO: DOCUMENT TRANSFORMER\n",
      "2023-06-07 05:56:59 INFO: POS REMOVAL\n",
      "2023-06-07 05:56:59 INFO: DOCUMENT TRANSFORMER\n",
      "2023-06-07 05:57:00 INFO: POS REMOVAL\n",
      "2023-06-07 05:57:00 INFO: DOCUMENT TRANSFORMER\n",
      "2023-06-07 05:57:01 INFO: POS REMOVAL\n",
      "2023-06-07 05:57:01 INFO: DOCUMENT TRANSFORMER\n",
      "2023-06-07 05:57:02 INFO: POS REMOVAL\n",
      "2023-06-07 05:57:02 INFO: DOCUMENT TRANSFORMER\n",
      "2023-06-07 05:57:02 INFO: POS REMOVAL\n",
      "2023-06-07 05:57:03 INFO: DOCUMENT TRANSFORMER\n",
      "2023-06-07 05:57:03 INFO: POS REMOVAL\n",
      "2023-06-07 05:57:03 INFO: DOCUMENT TRANSFORMER\n",
      "2023-06-07 05:57:04 INFO: POS REMOVAL\n",
      "2023-06-07 05:57:04 INFO: DOCUMENT TRANSFORMER\n",
      "2023-06-07 05:57:05 INFO: POS REMOVAL\n",
      "2023-06-07 05:57:05 INFO: DOCUMENT TRANSFORMER\n",
      "2023-06-07 05:57:05 INFO: POS REMOVAL\n",
      "2023-06-07 05:57:05 INFO: DOCUMENT TRANSFORMER\n",
      "2023-06-07 05:57:06 INFO: POS REMOVAL\n",
      "2023-06-07 05:57:06 INFO: DOCUMENT TRANSFORMER\n",
      "2023-06-07 05:57:06 INFO: POS REMOVAL\n",
      "2023-06-07 05:57:07 INFO: DOCUMENT TRANSFORMER\n",
      "2023-06-07 05:57:07 INFO: POS REMOVAL\n",
      "2023-06-07 05:57:07 INFO: DOCUMENT TRANSFORMER\n",
      "2023-06-07 05:57:08 INFO: POS REMOVAL\n",
      "2023-06-07 05:57:08 INFO: DOCUMENT TRANSFORMER\n",
      "2023-06-07 05:57:08 INFO: POS REMOVAL\n",
      "2023-06-07 05:57:09 INFO: DOCUMENT TRANSFORMER\n",
      "2023-06-07 05:57:09 INFO: POS REMOVAL\n",
      "2023-06-07 05:57:09 INFO: DOCUMENT TRANSFORMER\n",
      "2023-06-07 05:57:10 INFO: POS REMOVAL\n",
      "2023-06-07 05:57:10 INFO: DOCUMENT TRANSFORMER\n",
      "2023-06-07 05:57:10 INFO: POS REMOVAL\n",
      "2023-06-07 05:57:11 INFO: DOCUMENT TRANSFORMER\n",
      "2023-06-07 05:57:11 INFO: POS REMOVAL\n",
      "2023-06-07 05:57:11 INFO: DOCUMENT TRANSFORMER\n",
      "2023-06-07 05:57:12 INFO: POS REMOVAL\n",
      "2023-06-07 05:57:12 INFO: DOCUMENT TRANSFORMER\n",
      "2023-06-07 05:57:13 INFO: POS REMOVAL\n",
      "2023-06-07 05:57:13 INFO: DOCUMENT TRANSFORMER\n",
      "2023-06-07 05:57:13 INFO: POS REMOVAL\n",
      "2023-06-07 05:57:13 INFO: DOCUMENT TRANSFORMER\n",
      "2023-06-07 05:57:14 INFO: POS REMOVAL\n",
      "2023-06-07 05:57:14 INFO: DOCUMENT TRANSFORMER\n",
      "2023-06-07 05:57:15 INFO: POS REMOVAL\n",
      "2023-06-07 05:57:15 INFO: DOCUMENT TRANSFORMER\n",
      "2023-06-07 05:57:16 INFO: POS REMOVAL\n",
      "2023-06-07 05:57:16 INFO: DOCUMENT TRANSFORMER\n",
      "2023-06-07 05:57:16 INFO: POS REMOVAL\n",
      "2023-06-07 05:57:17 INFO: DOCUMENT TRANSFORMER\n",
      "2023-06-07 05:57:17 INFO: POS REMOVAL\n",
      "2023-06-07 05:57:17 INFO: DOCUMENT TRANSFORMER\n",
      "2023-06-07 05:57:18 INFO: POS REMOVAL\n",
      "2023-06-07 05:57:18 INFO: DOCUMENT TRANSFORMER\n",
      "2023-06-07 05:57:19 INFO: POS REMOVAL\n",
      "2023-06-07 05:57:19 INFO: DOCUMENT TRANSFORMER\n",
      "2023-06-07 05:57:20 INFO: POS REMOVAL\n",
      "2023-06-07 05:57:20 INFO: DOCUMENT TRANSFORMER\n",
      "2023-06-07 05:57:21 INFO: POS REMOVAL\n",
      "2023-06-07 05:57:21 INFO: DOCUMENT TRANSFORMER\n",
      "2023-06-07 05:57:21 INFO: POS REMOVAL\n",
      "2023-06-07 05:57:21 INFO: DOCUMENT TRANSFORMER\n",
      "2023-06-07 05:57:22 INFO: POS REMOVAL\n",
      "2023-06-07 05:57:22 INFO: DOCUMENT TRANSFORMER\n",
      "2023-06-07 05:57:23 INFO: POS REMOVAL\n",
      "2023-06-07 05:57:23 INFO: DOCUMENT TRANSFORMER\n",
      "2023-06-07 05:57:24 INFO: POS REMOVAL\n",
      "2023-06-07 05:57:24 INFO: DOCUMENT TRANSFORMER\n",
      "2023-06-07 05:57:24 INFO: POS REMOVAL\n",
      "2023-06-07 05:57:25 INFO: DOCUMENT TRANSFORMER\n",
      "2023-06-07 05:57:25 INFO: POS REMOVAL\n",
      "2023-06-07 05:57:25 INFO: DOCUMENT TRANSFORMER\n",
      "2023-06-07 05:57:26 INFO: POS REMOVAL\n",
      "2023-06-07 05:57:26 INFO: DOCUMENT TRANSFORMER\n",
      "2023-06-07 05:57:27 INFO: POS REMOVAL\n",
      "2023-06-07 05:57:27 INFO: DOCUMENT TRANSFORMER\n",
      "2023-06-07 05:57:28 INFO: POS REMOVAL\n",
      "2023-06-07 05:57:28 INFO: DOCUMENT TRANSFORMER\n",
      "2023-06-07 05:57:28 INFO: POS REMOVAL\n",
      "2023-06-07 05:57:28 INFO: DOCUMENT TRANSFORMER\n",
      "2023-06-07 05:57:28 INFO: POS REMOVAL\n",
      "2023-06-07 05:57:29 INFO: DOCUMENT TRANSFORMER\n",
      "2023-06-07 05:57:29 INFO: POS REMOVAL\n",
      "2023-06-07 05:57:29 INFO: DOCUMENT TRANSFORMER\n",
      "2023-06-07 05:57:29 INFO: POS REMOVAL\n",
      "2023-06-07 05:57:29 INFO: DOCUMENT TRANSFORMER\n",
      "2023-06-07 05:57:30 INFO: POS REMOVAL\n",
      "2023-06-07 05:57:30 INFO: DOCUMENT TRANSFORMER\n",
      "2023-06-07 05:57:30 INFO: POS REMOVAL\n",
      "2023-06-07 05:57:30 INFO: DOCUMENT TRANSFORMER\n",
      "2023-06-07 05:57:31 INFO: POS REMOVAL\n",
      "2023-06-07 05:57:31 INFO: DOCUMENT TRANSFORMER\n",
      "2023-06-07 05:57:31 INFO: POS REMOVAL\n",
      "2023-06-07 05:57:31 INFO: DOCUMENT TRANSFORMER\n",
      "2023-06-07 05:57:32 INFO: POS REMOVAL\n",
      "2023-06-07 05:57:32 INFO: DOCUMENT TRANSFORMER\n",
      "2023-06-07 05:57:32 INFO: POS REMOVAL\n",
      "2023-06-07 05:57:32 INFO: DOCUMENT TRANSFORMER\n",
      "2023-06-07 05:57:33 INFO: POS REMOVAL\n",
      "2023-06-07 05:57:33 INFO: DOCUMENT TRANSFORMER\n",
      "2023-06-07 05:57:33 INFO: POS REMOVAL\n",
      "2023-06-07 05:57:33 INFO: DOCUMENT TRANSFORMER\n",
      "2023-06-07 05:57:34 INFO: POS REMOVAL\n",
      "2023-06-07 05:57:34 INFO: DOCUMENT TRANSFORMER\n",
      "2023-06-07 05:57:34 INFO: POS REMOVAL\n",
      "2023-06-07 05:57:34 INFO: DOCUMENT TRANSFORMER\n",
      "2023-06-07 05:57:34 INFO: POS REMOVAL\n",
      "2023-06-07 05:57:34 INFO: DOCUMENT TRANSFORMER\n",
      "2023-06-07 05:57:35 INFO: POS REMOVAL\n",
      "2023-06-07 05:57:35 INFO: DOCUMENT TRANSFORMER\n",
      "2023-06-07 05:57:35 INFO: POS REMOVAL\n",
      "2023-06-07 05:57:35 INFO: DOCUMENT TRANSFORMER\n",
      "2023-06-07 05:57:35 INFO: POS REMOVAL\n",
      "2023-06-07 05:57:36 INFO: DOCUMENT TRANSFORMER\n",
      "2023-06-07 05:57:37 INFO: POS REMOVAL\n",
      "2023-06-07 05:57:37 INFO: DOCUMENT TRANSFORMER\n",
      "2023-06-07 05:57:37 INFO: POS REMOVAL\n",
      "2023-06-07 05:57:37 INFO: DOCUMENT TRANSFORMER\n",
      "2023-06-07 05:57:38 INFO: POS REMOVAL\n",
      "2023-06-07 05:57:38 INFO: DOCUMENT TRANSFORMER\n",
      "2023-06-07 05:57:38 INFO: POS REMOVAL\n",
      "2023-06-07 05:57:38 INFO: DOCUMENT TRANSFORMER\n",
      "2023-06-07 05:57:38 INFO: POS REMOVAL\n",
      "2023-06-07 05:57:38 INFO: DOCUMENT TRANSFORMER\n",
      "2023-06-07 05:57:39 INFO: POS REMOVAL\n",
      "2023-06-07 05:57:39 INFO: DOCUMENT TRANSFORMER\n",
      "2023-06-07 05:57:39 INFO: POS REMOVAL\n",
      "2023-06-07 05:57:39 INFO: DOCUMENT TRANSFORMER\n",
      "2023-06-07 05:57:39 INFO: POS REMOVAL\n",
      "2023-06-07 05:57:40 INFO: DOCUMENT TRANSFORMER\n",
      "2023-06-07 05:57:40 INFO: POS REMOVAL\n",
      "2023-06-07 05:57:40 INFO: DOCUMENT TRANSFORMER\n",
      "2023-06-07 05:57:40 INFO: POS REMOVAL\n",
      "2023-06-07 05:57:40 INFO: DOCUMENT TRANSFORMER\n",
      "2023-06-07 05:57:41 INFO: POS REMOVAL\n",
      "2023-06-07 05:57:41 INFO: DOCUMENT TRANSFORMER\n",
      "2023-06-07 05:57:41 INFO: POS REMOVAL\n",
      "2023-06-07 05:57:41 INFO: DOCUMENT TRANSFORMER\n",
      "2023-06-07 05:57:42 INFO: POS REMOVAL\n",
      "2023-06-07 05:57:42 INFO: DOCUMENT TRANSFORMER\n",
      "2023-06-07 05:57:42 INFO: POS REMOVAL\n",
      "2023-06-07 05:57:42 INFO: DOCUMENT TRANSFORMER\n",
      "2023-06-07 05:57:43 INFO: POS REMOVAL\n",
      "2023-06-07 05:57:43 INFO: DOCUMENT TRANSFORMER\n",
      "2023-06-07 05:57:43 INFO: POS REMOVAL\n",
      "2023-06-07 05:57:43 INFO: DOCUMENT TRANSFORMER\n",
      "2023-06-07 05:57:44 INFO: POS REMOVAL\n",
      "2023-06-07 05:57:44 INFO: DOCUMENT TRANSFORMER\n",
      "2023-06-07 05:57:44 INFO: POS REMOVAL\n",
      "2023-06-07 05:57:44 INFO: DOCUMENT TRANSFORMER\n",
      "2023-06-07 05:57:45 INFO: POS REMOVAL\n",
      "2023-06-07 05:57:45 INFO: DOCUMENT TRANSFORMER\n",
      "2023-06-07 05:57:45 INFO: POS REMOVAL\n",
      "2023-06-07 05:57:45 INFO: DOCUMENT TRANSFORMER\n",
      "2023-06-07 05:57:45 INFO: POS REMOVAL\n",
      "2023-06-07 05:57:45 INFO: DOCUMENT TRANSFORMER\n",
      "2023-06-07 05:57:46 INFO: POS REMOVAL\n",
      "2023-06-07 05:57:46 INFO: DOCUMENT TRANSFORMER\n",
      "2023-06-07 05:57:47 INFO: POS REMOVAL\n",
      "2023-06-07 05:57:47 INFO: DOCUMENT TRANSFORMER\n",
      "2023-06-07 05:57:47 INFO: POS REMOVAL\n",
      "2023-06-07 05:57:47 INFO: DOCUMENT TRANSFORMER\n",
      "2023-06-07 05:57:48 INFO: POS REMOVAL\n",
      "2023-06-07 05:57:48 INFO: DOCUMENT TRANSFORMER\n",
      "2023-06-07 05:57:48 INFO: POS REMOVAL\n",
      "2023-06-07 05:57:48 INFO: DOCUMENT TRANSFORMER\n",
      "2023-06-07 05:57:49 INFO: POS REMOVAL\n",
      "2023-06-07 05:57:49 INFO: DOCUMENT TRANSFORMER\n",
      "2023-06-07 05:57:49 INFO: POS REMOVAL\n",
      "2023-06-07 05:57:49 INFO: DOCUMENT TRANSFORMER\n",
      "2023-06-07 05:57:50 INFO: POS REMOVAL\n",
      "2023-06-07 05:57:50 INFO: DOCUMENT TRANSFORMER\n",
      "2023-06-07 05:57:50 INFO: POS REMOVAL\n",
      "2023-06-07 05:57:50 INFO: DOCUMENT TRANSFORMER\n",
      "2023-06-07 05:57:51 INFO: POS REMOVAL\n",
      "2023-06-07 05:57:51 INFO: DOCUMENT TRANSFORMER\n",
      "2023-06-07 05:57:51 INFO: POS REMOVAL\n",
      "2023-06-07 05:57:51 INFO: DOCUMENT TRANSFORMER\n",
      "2023-06-07 05:57:52 INFO: POS REMOVAL\n",
      "2023-06-07 05:57:52 INFO: DOCUMENT TRANSFORMER\n",
      "2023-06-07 05:57:52 INFO: POS REMOVAL\n",
      "2023-06-07 05:57:53 INFO: DOCUMENT TRANSFORMER\n",
      "2023-06-07 05:57:53 INFO: POS REMOVAL\n",
      "2023-06-07 05:57:53 INFO: DOCUMENT TRANSFORMER\n",
      "2023-06-07 05:57:54 INFO: POS REMOVAL\n",
      "2023-06-07 05:57:54 INFO: DOCUMENT TRANSFORMER\n",
      "2023-06-07 05:57:54 INFO: POS REMOVAL\n",
      "2023-06-07 05:57:54 INFO: DOCUMENT TRANSFORMER\n",
      "2023-06-07 05:57:55 INFO: POS REMOVAL\n",
      "2023-06-07 05:57:55 INFO: DOCUMENT TRANSFORMER\n",
      "2023-06-07 05:57:56 INFO: POS REMOVAL\n",
      "2023-06-07 05:57:56 INFO: DOCUMENT TRANSFORMER\n",
      "2023-06-07 05:57:56 INFO: POS REMOVAL\n",
      "2023-06-07 05:57:56 INFO: DOCUMENT TRANSFORMER\n",
      "2023-06-07 05:57:57 INFO: POS REMOVAL\n",
      "2023-06-07 05:57:57 INFO: DOCUMENT TRANSFORMER\n",
      "2023-06-07 05:57:57 INFO: POS REMOVAL\n",
      "2023-06-07 05:57:57 INFO: DOCUMENT TRANSFORMER\n",
      "2023-06-07 05:57:58 INFO: POS REMOVAL\n",
      "2023-06-07 05:57:58 INFO: DOCUMENT TRANSFORMER\n",
      "2023-06-07 05:57:58 INFO: POS REMOVAL\n",
      "2023-06-07 05:57:58 INFO: DOCUMENT TRANSFORMER\n",
      "2023-06-07 05:57:59 INFO: POS REMOVAL\n",
      "2023-06-07 05:57:59 INFO: DOCUMENT TRANSFORMER\n",
      "2023-06-07 05:57:59 INFO: POS REMOVAL\n",
      "2023-06-07 05:57:59 INFO: DOCUMENT TRANSFORMER\n",
      "2023-06-07 05:58:00 INFO: POS REMOVAL\n",
      "2023-06-07 05:58:00 INFO: DOCUMENT TRANSFORMER\n",
      "2023-06-07 05:58:00 INFO: POS REMOVAL\n",
      "2023-06-07 05:58:00 INFO: DOCUMENT TRANSFORMER\n",
      "2023-06-07 05:58:01 INFO: POS REMOVAL\n",
      "2023-06-07 05:58:01 INFO: DOCUMENT TRANSFORMER\n",
      "2023-06-07 05:58:01 INFO: POS REMOVAL\n",
      "2023-06-07 05:58:01 INFO: DOCUMENT TRANSFORMER\n",
      "2023-06-07 05:58:02 INFO: POS REMOVAL\n",
      "2023-06-07 05:58:02 INFO: DOCUMENT TRANSFORMER\n",
      "2023-06-07 05:58:02 INFO: POS REMOVAL\n",
      "2023-06-07 05:58:03 INFO: DOCUMENT TRANSFORMER\n",
      "2023-06-07 05:58:03 INFO: POS REMOVAL\n",
      "2023-06-07 05:58:03 INFO: DOCUMENT TRANSFORMER\n",
      "2023-06-07 05:58:04 INFO: POS REMOVAL\n",
      "2023-06-07 05:58:04 INFO: DOCUMENT TRANSFORMER\n",
      "2023-06-07 05:58:05 INFO: POS REMOVAL\n",
      "2023-06-07 05:58:05 INFO: DOCUMENT TRANSFORMER\n",
      "2023-06-07 05:58:05 INFO: POS REMOVAL\n",
      "2023-06-07 05:58:05 INFO: DOCUMENT TRANSFORMER\n",
      "2023-06-07 05:58:06 INFO: POS REMOVAL\n",
      "2023-06-07 05:58:06 INFO: DOCUMENT TRANSFORMER\n",
      "2023-06-07 05:58:06 INFO: POS REMOVAL\n",
      "2023-06-07 05:58:06 INFO: DOCUMENT TRANSFORMER\n",
      "2023-06-07 05:58:07 INFO: POS REMOVAL\n",
      "2023-06-07 05:58:07 INFO: DOCUMENT TRANSFORMER\n",
      "2023-06-07 05:58:07 INFO: POS REMOVAL\n",
      "2023-06-07 05:58:07 INFO: DOCUMENT TRANSFORMER\n",
      "2023-06-07 05:58:08 INFO: POS REMOVAL\n",
      "2023-06-07 05:58:08 INFO: DOCUMENT TRANSFORMER\n",
      "2023-06-07 05:58:08 INFO: POS REMOVAL\n",
      "2023-06-07 05:58:08 INFO: DOCUMENT TRANSFORMER\n",
      "2023-06-07 05:58:09 INFO: POS REMOVAL\n",
      "2023-06-07 05:58:09 INFO: DOCUMENT TRANSFORMER\n",
      "2023-06-07 05:58:09 INFO: POS REMOVAL\n",
      "2023-06-07 05:58:09 INFO: DOCUMENT TRANSFORMER\n",
      "2023-06-07 05:58:10 INFO: POS REMOVAL\n",
      "2023-06-07 05:58:10 INFO: DOCUMENT TRANSFORMER\n",
      "2023-06-07 05:58:10 INFO: POS REMOVAL\n",
      "2023-06-07 05:58:10 INFO: DOCUMENT TRANSFORMER\n",
      "2023-06-07 05:58:10 INFO: POS REMOVAL\n",
      "2023-06-07 05:58:10 INFO: DOCUMENT TRANSFORMER\n",
      "2023-06-07 05:58:11 INFO: POS REMOVAL\n",
      "2023-06-07 05:58:11 INFO: DOCUMENT TRANSFORMER\n",
      "2023-06-07 05:58:11 INFO: POS REMOVAL\n",
      "2023-06-07 05:58:11 INFO: DOCUMENT TRANSFORMER\n",
      "2023-06-07 05:58:11 INFO: POS REMOVAL\n",
      "2023-06-07 05:58:12 INFO: DOCUMENT TRANSFORMER\n",
      "2023-06-07 05:58:12 INFO: POS REMOVAL\n",
      "2023-06-07 05:58:12 INFO: DOCUMENT TRANSFORMER\n",
      "2023-06-07 05:58:12 INFO: POS REMOVAL\n",
      "2023-06-07 05:58:12 INFO: DOCUMENT TRANSFORMER\n",
      "2023-06-07 05:58:13 INFO: POS REMOVAL\n",
      "2023-06-07 05:58:13 INFO: DOCUMENT TRANSFORMER\n",
      "2023-06-07 05:58:13 INFO: POS REMOVAL\n",
      "2023-06-07 05:58:13 INFO: DOCUMENT TRANSFORMER\n",
      "2023-06-07 05:58:14 INFO: POS REMOVAL\n",
      "2023-06-07 05:58:14 INFO: DOCUMENT TRANSFORMER\n",
      "2023-06-07 05:58:14 INFO: POS REMOVAL\n",
      "2023-06-07 05:58:14 INFO: DOCUMENT TRANSFORMER\n",
      "2023-06-07 05:58:15 INFO: POS REMOVAL\n",
      "2023-06-07 05:58:15 INFO: DOCUMENT TRANSFORMER\n",
      "2023-06-07 05:58:15 INFO: POS REMOVAL\n",
      "2023-06-07 05:58:15 INFO: DOCUMENT TRANSFORMER\n",
      "2023-06-07 05:58:16 INFO: POS REMOVAL\n",
      "2023-06-07 05:58:16 INFO: DOCUMENT TRANSFORMER\n",
      "2023-06-07 05:58:16 INFO: POS REMOVAL\n",
      "2023-06-07 05:58:16 INFO: DOCUMENT TRANSFORMER\n",
      "2023-06-07 05:58:16 INFO: POS REMOVAL\n",
      "2023-06-07 05:58:16 INFO: DOCUMENT TRANSFORMER\n",
      "2023-06-07 05:58:17 INFO: POS REMOVAL\n",
      "2023-06-07 05:58:17 INFO: DOCUMENT TRANSFORMER\n",
      "2023-06-07 05:58:17 INFO: POS REMOVAL\n",
      "2023-06-07 05:58:17 INFO: DOCUMENT TRANSFORMER\n",
      "2023-06-07 05:58:17 INFO: POS REMOVAL\n",
      "2023-06-07 05:58:17 INFO: DOCUMENT TRANSFORMER\n",
      "2023-06-07 05:58:18 INFO: POS REMOVAL\n",
      "2023-06-07 05:58:18 INFO: DOCUMENT TRANSFORMER\n",
      "2023-06-07 05:58:18 INFO: POS REMOVAL\n",
      "2023-06-07 05:58:18 INFO: DOCUMENT TRANSFORMER\n",
      "2023-06-07 05:58:19 INFO: POS REMOVAL\n",
      "2023-06-07 05:58:19 INFO: DOCUMENT TRANSFORMER\n",
      "2023-06-07 05:58:19 INFO: POS REMOVAL\n",
      "2023-06-07 05:58:19 INFO: DOCUMENT TRANSFORMER\n",
      "2023-06-07 05:58:20 INFO: POS REMOVAL\n",
      "2023-06-07 05:58:20 INFO: DOCUMENT TRANSFORMER\n",
      "2023-06-07 05:58:20 INFO: POS REMOVAL\n",
      "2023-06-07 05:58:20 INFO: DOCUMENT TRANSFORMER\n",
      "2023-06-07 05:58:21 INFO: POS REMOVAL\n",
      "2023-06-07 05:58:21 INFO: DOCUMENT TRANSFORMER\n",
      "2023-06-07 05:58:21 INFO: POS REMOVAL\n",
      "2023-06-07 05:58:21 INFO: DOCUMENT TRANSFORMER\n",
      "2023-06-07 05:58:22 INFO: POS REMOVAL\n",
      "2023-06-07 05:58:22 INFO: DOCUMENT TRANSFORMER\n",
      "2023-06-07 05:58:22 INFO: POS REMOVAL\n",
      "2023-06-07 05:58:22 INFO: DOCUMENT TRANSFORMER\n",
      "2023-06-07 05:58:23 INFO: POS REMOVAL\n",
      "2023-06-07 05:58:23 INFO: DOCUMENT TRANSFORMER\n",
      "2023-06-07 05:58:23 INFO: POS REMOVAL\n",
      "2023-06-07 05:58:23 INFO: DOCUMENT TRANSFORMER\n",
      "2023-06-07 05:58:24 INFO: POS REMOVAL\n",
      "2023-06-07 05:58:24 INFO: DOCUMENT TRANSFORMER\n",
      "2023-06-07 05:58:24 INFO: POS REMOVAL\n",
      "2023-06-07 05:58:24 INFO: DOCUMENT TRANSFORMER\n",
      "2023-06-07 05:58:24 INFO: POS REMOVAL\n",
      "2023-06-07 05:58:24 INFO: DOCUMENT TRANSFORMER\n",
      "2023-06-07 05:58:25 INFO: POS REMOVAL\n",
      "2023-06-07 05:58:25 INFO: DOCUMENT TRANSFORMER\n",
      "2023-06-07 05:58:25 INFO: POS REMOVAL\n",
      "2023-06-07 05:58:25 INFO: DOCUMENT TRANSFORMER\n",
      "2023-06-07 05:58:25 INFO: POS REMOVAL\n",
      "2023-06-07 05:58:26 INFO: DOCUMENT TRANSFORMER\n",
      "2023-06-07 05:58:26 INFO: POS REMOVAL\n",
      "2023-06-07 05:58:26 INFO: DOCUMENT TRANSFORMER\n",
      "2023-06-07 05:58:26 INFO: POS REMOVAL\n",
      "2023-06-07 05:58:27 INFO: DOCUMENT TRANSFORMER\n",
      "2023-06-07 05:58:27 INFO: POS REMOVAL\n",
      "2023-06-07 05:58:27 INFO: DOCUMENT TRANSFORMER\n",
      "2023-06-07 05:58:27 INFO: POS REMOVAL\n",
      "2023-06-07 05:58:28 INFO: DOCUMENT TRANSFORMER\n",
      "2023-06-07 05:58:28 INFO: POS REMOVAL\n",
      "2023-06-07 05:58:28 INFO: DOCUMENT TRANSFORMER\n",
      "2023-06-07 05:58:29 INFO: POS REMOVAL\n",
      "2023-06-07 05:58:29 INFO: DOCUMENT TRANSFORMER\n",
      "2023-06-07 05:58:29 INFO: POS REMOVAL\n",
      "2023-06-07 05:58:29 INFO: DOCUMENT TRANSFORMER\n",
      "2023-06-07 05:58:30 INFO: POS REMOVAL\n",
      "2023-06-07 05:58:30 INFO: DOCUMENT TRANSFORMER\n",
      "2023-06-07 05:58:30 INFO: POS REMOVAL\n",
      "2023-06-07 05:58:30 INFO: DOCUMENT TRANSFORMER\n",
      "2023-06-07 05:58:31 INFO: POS REMOVAL\n",
      "2023-06-07 05:58:31 INFO: DOCUMENT TRANSFORMER\n",
      "2023-06-07 05:58:31 INFO: POS REMOVAL\n",
      "2023-06-07 05:58:31 INFO: DOCUMENT TRANSFORMER\n",
      "2023-06-07 05:58:32 INFO: POS REMOVAL\n",
      "2023-06-07 05:58:32 INFO: DOCUMENT TRANSFORMER\n",
      "2023-06-07 05:58:32 INFO: POS REMOVAL\n",
      "2023-06-07 05:58:32 INFO: DOCUMENT TRANSFORMER\n",
      "2023-06-07 05:58:33 INFO: POS REMOVAL\n",
      "2023-06-07 05:58:33 INFO: DOCUMENT TRANSFORMER\n",
      "2023-06-07 05:58:33 INFO: POS REMOVAL\n",
      "2023-06-07 05:58:33 INFO: DOCUMENT TRANSFORMER\n",
      "2023-06-07 05:58:34 INFO: POS REMOVAL\n",
      "2023-06-07 05:58:34 INFO: DOCUMENT TRANSFORMER\n",
      "2023-06-07 05:58:34 INFO: POS REMOVAL\n",
      "2023-06-07 05:58:34 INFO: DOCUMENT TRANSFORMER\n",
      "2023-06-07 05:58:35 INFO: POS REMOVAL\n",
      "2023-06-07 05:58:35 INFO: DOCUMENT TRANSFORMER\n",
      "2023-06-07 05:58:35 INFO: POS REMOVAL\n",
      "2023-06-07 05:58:35 INFO: DOCUMENT TRANSFORMER\n",
      "2023-06-07 05:58:36 INFO: POS REMOVAL\n",
      "2023-06-07 05:58:36 INFO: DOCUMENT TRANSFORMER\n",
      "2023-06-07 05:58:36 INFO: POS REMOVAL\n",
      "2023-06-07 05:58:36 INFO: DOCUMENT TRANSFORMER\n",
      "2023-06-07 05:58:37 INFO: POS REMOVAL\n",
      "2023-06-07 05:58:37 INFO: DOCUMENT TRANSFORMER\n",
      "2023-06-07 05:58:37 INFO: POS REMOVAL\n",
      "2023-06-07 05:58:37 INFO: DOCUMENT TRANSFORMER\n",
      "2023-06-07 05:58:38 INFO: POS REMOVAL\n",
      "2023-06-07 05:58:38 INFO: DOCUMENT TRANSFORMER\n",
      "2023-06-07 05:58:38 INFO: POS REMOVAL\n",
      "2023-06-07 05:58:38 INFO: DOCUMENT TRANSFORMER\n",
      "2023-06-07 05:58:39 INFO: POS REMOVAL\n",
      "2023-06-07 05:58:39 INFO: DOCUMENT TRANSFORMER\n",
      "2023-06-07 05:58:39 INFO: POS REMOVAL\n",
      "2023-06-07 05:58:39 INFO: DOCUMENT TRANSFORMER\n",
      "2023-06-07 05:58:40 INFO: POS REMOVAL\n",
      "2023-06-07 05:58:40 INFO: DOCUMENT TRANSFORMER\n",
      "2023-06-07 05:58:40 INFO: POS REMOVAL\n",
      "2023-06-07 05:58:40 INFO: DOCUMENT TRANSFORMER\n",
      "2023-06-07 05:58:40 INFO: POS REMOVAL\n",
      "2023-06-07 05:58:41 INFO: DOCUMENT TRANSFORMER\n",
      "2023-06-07 05:58:41 INFO: POS REMOVAL\n",
      "2023-06-07 05:58:41 INFO: DOCUMENT TRANSFORMER\n",
      "2023-06-07 05:58:41 INFO: POS REMOVAL\n",
      "2023-06-07 05:58:42 INFO: DOCUMENT TRANSFORMER\n",
      "2023-06-07 05:58:42 INFO: POS REMOVAL\n",
      "2023-06-07 05:58:42 INFO: DOCUMENT TRANSFORMER\n",
      "2023-06-07 05:58:42 INFO: POS REMOVAL\n",
      "2023-06-07 05:58:43 INFO: DOCUMENT TRANSFORMER\n",
      "2023-06-07 05:58:43 INFO: POS REMOVAL\n",
      "2023-06-07 05:58:43 INFO: DOCUMENT TRANSFORMER\n",
      "2023-06-07 05:58:44 INFO: POS REMOVAL\n",
      "2023-06-07 05:58:44 INFO: DOCUMENT TRANSFORMER\n",
      "2023-06-07 05:58:44 INFO: POS REMOVAL\n",
      "2023-06-07 05:58:44 INFO: DOCUMENT TRANSFORMER\n",
      "2023-06-07 05:58:45 INFO: POS REMOVAL\n",
      "2023-06-07 05:58:45 INFO: DOCUMENT TRANSFORMER\n",
      "2023-06-07 05:58:45 INFO: POS REMOVAL\n",
      "2023-06-07 05:58:45 INFO: DOCUMENT TRANSFORMER\n",
      "2023-06-07 05:58:46 INFO: POS REMOVAL\n",
      "2023-06-07 05:58:46 INFO: DOCUMENT TRANSFORMER\n",
      "2023-06-07 05:58:46 INFO: POS REMOVAL\n",
      "2023-06-07 05:58:46 INFO: DOCUMENT TRANSFORMER\n",
      "2023-06-07 05:58:46 INFO: POS REMOVAL\n",
      "2023-06-07 05:58:46 INFO: DOCUMENT TRANSFORMER\n",
      "2023-06-07 05:58:47 INFO: POS REMOVAL\n",
      "2023-06-07 05:58:47 INFO: DOCUMENT TRANSFORMER\n",
      "2023-06-07 05:58:47 INFO: POS REMOVAL\n",
      "2023-06-07 05:58:47 INFO: DOCUMENT TRANSFORMER\n",
      "2023-06-07 05:58:48 INFO: POS REMOVAL\n",
      "2023-06-07 05:58:48 INFO: DOCUMENT TRANSFORMER\n",
      "2023-06-07 05:58:48 INFO: POS REMOVAL\n",
      "2023-06-07 05:58:48 INFO: DOCUMENT TRANSFORMER\n",
      "2023-06-07 05:58:49 INFO: POS REMOVAL\n",
      "2023-06-07 05:58:49 INFO: DOCUMENT TRANSFORMER\n",
      "2023-06-07 05:58:49 INFO: POS REMOVAL\n",
      "2023-06-07 05:58:49 INFO: DOCUMENT TRANSFORMER\n",
      "2023-06-07 05:58:50 INFO: POS REMOVAL\n",
      "2023-06-07 05:58:50 INFO: DOCUMENT TRANSFORMER\n",
      "2023-06-07 05:58:50 INFO: POS REMOVAL\n",
      "2023-06-07 05:58:50 INFO: DOCUMENT TRANSFORMER\n",
      "2023-06-07 05:58:51 INFO: POS REMOVAL\n",
      "2023-06-07 05:58:51 INFO: DOCUMENT TRANSFORMER\n",
      "2023-06-07 05:58:51 INFO: POS REMOVAL\n",
      "2023-06-07 05:58:51 INFO: DOCUMENT TRANSFORMER\n",
      "2023-06-07 05:58:52 INFO: POS REMOVAL\n",
      "2023-06-07 05:58:52 INFO: DOCUMENT TRANSFORMER\n",
      "2023-06-07 05:58:53 INFO: POS REMOVAL\n",
      "2023-06-07 05:58:53 INFO: DOCUMENT TRANSFORMER\n",
      "2023-06-07 05:58:53 INFO: POS REMOVAL\n",
      "2023-06-07 05:58:53 INFO: DOCUMENT TRANSFORMER\n",
      "2023-06-07 05:58:53 INFO: POS REMOVAL\n",
      "2023-06-07 05:58:53 INFO: DOCUMENT TRANSFORMER\n",
      "2023-06-07 05:58:54 INFO: POS REMOVAL\n",
      "2023-06-07 05:58:54 INFO: DOCUMENT TRANSFORMER\n",
      "2023-06-07 05:58:54 INFO: POS REMOVAL\n",
      "2023-06-07 05:58:54 INFO: DOCUMENT TRANSFORMER\n",
      "2023-06-07 05:58:54 INFO: POS REMOVAL\n",
      "2023-06-07 05:58:54 INFO: DOCUMENT TRANSFORMER\n",
      "2023-06-07 05:58:54 INFO: POS REMOVAL\n",
      "2023-06-07 05:58:55 INFO: DOCUMENT TRANSFORMER\n",
      "2023-06-07 05:58:55 INFO: POS REMOVAL\n",
      "2023-06-07 05:58:55 INFO: DOCUMENT TRANSFORMER\n",
      "2023-06-07 05:58:55 INFO: POS REMOVAL\n",
      "2023-06-07 05:58:55 INFO: DOCUMENT TRANSFORMER\n",
      "2023-06-07 05:58:56 INFO: POS REMOVAL\n",
      "2023-06-07 05:58:56 INFO: DOCUMENT TRANSFORMER\n",
      "2023-06-07 05:58:56 INFO: POS REMOVAL\n",
      "2023-06-07 05:58:56 INFO: DOCUMENT TRANSFORMER\n",
      "2023-06-07 05:58:56 INFO: POS REMOVAL\n",
      "2023-06-07 05:58:56 INFO: DOCUMENT TRANSFORMER\n",
      "2023-06-07 05:58:56 INFO: POS REMOVAL\n",
      "2023-06-07 05:58:56 INFO: DOCUMENT TRANSFORMER\n",
      "2023-06-07 05:58:57 INFO: POS REMOVAL\n",
      "2023-06-07 05:58:57 INFO: DOCUMENT TRANSFORMER\n",
      "2023-06-07 05:58:57 INFO: POS REMOVAL\n",
      "2023-06-07 05:58:57 INFO: DOCUMENT TRANSFORMER\n",
      "2023-06-07 05:58:57 INFO: POS REMOVAL\n",
      "2023-06-07 05:58:57 INFO: DOCUMENT TRANSFORMER\n",
      "2023-06-07 05:58:58 INFO: POS REMOVAL\n",
      "2023-06-07 05:58:58 INFO: DOCUMENT TRANSFORMER\n",
      "2023-06-07 05:58:58 INFO: POS REMOVAL\n",
      "2023-06-07 05:58:58 INFO: DOCUMENT TRANSFORMER\n",
      "2023-06-07 05:58:58 INFO: POS REMOVAL\n",
      "2023-06-07 05:58:58 INFO: DOCUMENT TRANSFORMER\n",
      "2023-06-07 05:58:59 INFO: POS REMOVAL\n",
      "2023-06-07 05:58:59 INFO: DOCUMENT TRANSFORMER\n",
      "2023-06-07 05:58:59 INFO: POS REMOVAL\n",
      "2023-06-07 05:58:59 INFO: DOCUMENT TRANSFORMER\n",
      "2023-06-07 05:59:00 INFO: POS REMOVAL\n",
      "2023-06-07 05:59:00 INFO: DOCUMENT TRANSFORMER\n",
      "2023-06-07 05:59:00 INFO: POS REMOVAL\n",
      "2023-06-07 05:59:00 INFO: DOCUMENT TRANSFORMER\n",
      "2023-06-07 05:59:00 INFO: POS REMOVAL\n",
      "2023-06-07 05:59:00 INFO: DOCUMENT TRANSFORMER\n",
      "2023-06-07 05:59:00 INFO: POS REMOVAL\n",
      "2023-06-07 05:59:01 INFO: DOCUMENT TRANSFORMER\n",
      "2023-06-07 05:59:01 INFO: POS REMOVAL\n",
      "2023-06-07 05:59:01 INFO: DOCUMENT TRANSFORMER\n",
      "2023-06-07 05:59:01 INFO: POS REMOVAL\n",
      "2023-06-07 05:59:01 INFO: DOCUMENT TRANSFORMER\n",
      "2023-06-07 05:59:02 INFO: POS REMOVAL\n",
      "2023-06-07 05:59:02 INFO: DOCUMENT TRANSFORMER\n",
      "2023-06-07 05:59:02 INFO: POS REMOVAL\n",
      "2023-06-07 05:59:02 INFO: DOCUMENT TRANSFORMER\n",
      "2023-06-07 05:59:03 INFO: POS REMOVAL\n",
      "2023-06-07 05:59:03 INFO: DOCUMENT TRANSFORMER\n",
      "2023-06-07 05:59:03 INFO: POS REMOVAL\n",
      "2023-06-07 05:59:03 INFO: DOCUMENT TRANSFORMER\n",
      "2023-06-07 05:59:04 INFO: POS REMOVAL\n",
      "2023-06-07 05:59:04 INFO: DOCUMENT TRANSFORMER\n",
      "2023-06-07 05:59:04 INFO: POS REMOVAL\n",
      "2023-06-07 05:59:04 INFO: DOCUMENT TRANSFORMER\n",
      "2023-06-07 05:59:05 INFO: POS REMOVAL\n",
      "2023-06-07 05:59:05 INFO: DOCUMENT TRANSFORMER\n",
      "2023-06-07 05:59:06 INFO: POS REMOVAL\n",
      "2023-06-07 05:59:06 INFO: DOCUMENT TRANSFORMER\n",
      "2023-06-07 05:59:07 INFO: POS REMOVAL\n",
      "2023-06-07 05:59:07 INFO: DOCUMENT TRANSFORMER\n",
      "2023-06-07 05:59:07 INFO: POS REMOVAL\n",
      "2023-06-07 05:59:07 INFO: DOCUMENT TRANSFORMER\n",
      "2023-06-07 05:59:08 INFO: POS REMOVAL\n",
      "2023-06-07 05:59:08 INFO: DOCUMENT TRANSFORMER\n",
      "2023-06-07 05:59:08 INFO: POS REMOVAL\n",
      "2023-06-07 05:59:08 INFO: DOCUMENT TRANSFORMER\n",
      "2023-06-07 05:59:09 INFO: POS REMOVAL\n",
      "2023-06-07 05:59:09 INFO: DOCUMENT TRANSFORMER\n",
      "2023-06-07 05:59:10 INFO: POS REMOVAL\n",
      "2023-06-07 05:59:10 INFO: DOCUMENT TRANSFORMER\n",
      "2023-06-07 05:59:11 INFO: POS REMOVAL\n",
      "2023-06-07 05:59:11 INFO: DOCUMENT TRANSFORMER\n",
      "2023-06-07 05:59:11 INFO: POS REMOVAL\n",
      "2023-06-07 05:59:11 INFO: DOCUMENT TRANSFORMER\n",
      "2023-06-07 05:59:12 INFO: POS REMOVAL\n",
      "2023-06-07 05:59:12 INFO: DOCUMENT TRANSFORMER\n",
      "2023-06-07 05:59:12 INFO: POS REMOVAL\n",
      "2023-06-07 05:59:12 INFO: DOCUMENT TRANSFORMER\n",
      "2023-06-07 05:59:13 INFO: POS REMOVAL\n",
      "2023-06-07 05:59:13 INFO: DOCUMENT TRANSFORMER\n",
      "2023-06-07 05:59:14 INFO: POS REMOVAL\n",
      "2023-06-07 05:59:14 INFO: DOCUMENT TRANSFORMER\n",
      "2023-06-07 05:59:15 INFO: POS REMOVAL\n",
      "2023-06-07 05:59:15 INFO: DOCUMENT TRANSFORMER\n",
      "2023-06-07 05:59:15 INFO: POS REMOVAL\n",
      "2023-06-07 05:59:15 INFO: DOCUMENT TRANSFORMER\n",
      "2023-06-07 05:59:16 INFO: POS REMOVAL\n",
      "2023-06-07 05:59:16 INFO: DOCUMENT TRANSFORMER\n",
      "2023-06-07 05:59:16 INFO: POS REMOVAL\n",
      "2023-06-07 05:59:16 INFO: DOCUMENT TRANSFORMER\n",
      "2023-06-07 05:59:17 INFO: POS REMOVAL\n",
      "2023-06-07 05:59:17 INFO: DOCUMENT TRANSFORMER\n",
      "2023-06-07 05:59:18 INFO: POS REMOVAL\n",
      "2023-06-07 05:59:18 INFO: DOCUMENT TRANSFORMER\n",
      "2023-06-07 05:59:19 INFO: POS REMOVAL\n",
      "2023-06-07 05:59:19 INFO: DOCUMENT TRANSFORMER\n",
      "2023-06-07 05:59:19 INFO: POS REMOVAL\n",
      "2023-06-07 05:59:19 INFO: DOCUMENT TRANSFORMER\n",
      "2023-06-07 05:59:20 INFO: POS REMOVAL\n",
      "2023-06-07 05:59:20 INFO: DOCUMENT TRANSFORMER\n",
      "2023-06-07 05:59:20 INFO: POS REMOVAL\n",
      "2023-06-07 05:59:21 INFO: DOCUMENT TRANSFORMER\n",
      "2023-06-07 05:59:22 INFO: POS REMOVAL\n",
      "2023-06-07 05:59:22 INFO: DOCUMENT TRANSFORMER\n",
      "2023-06-07 05:59:22 INFO: POS REMOVAL\n",
      "2023-06-07 05:59:22 INFO: DOCUMENT TRANSFORMER\n",
      "2023-06-07 05:59:23 INFO: POS REMOVAL\n",
      "2023-06-07 05:59:23 INFO: DOCUMENT TRANSFORMER\n",
      "2023-06-07 05:59:23 INFO: POS REMOVAL\n",
      "2023-06-07 05:59:23 INFO: DOCUMENT TRANSFORMER\n",
      "2023-06-07 05:59:24 INFO: POS REMOVAL\n",
      "2023-06-07 05:59:24 INFO: DOCUMENT TRANSFORMER\n",
      "2023-06-07 05:59:25 INFO: POS REMOVAL\n",
      "2023-06-07 05:59:25 INFO: DOCUMENT TRANSFORMER\n",
      "2023-06-07 05:59:26 INFO: POS REMOVAL\n",
      "2023-06-07 05:59:26 INFO: DOCUMENT TRANSFORMER\n",
      "2023-06-07 05:59:26 INFO: POS REMOVAL\n",
      "2023-06-07 05:59:26 INFO: DOCUMENT TRANSFORMER\n",
      "2023-06-07 05:59:27 INFO: POS REMOVAL\n",
      "2023-06-07 05:59:27 INFO: DOCUMENT TRANSFORMER\n",
      "2023-06-07 05:59:27 INFO: POS REMOVAL\n",
      "2023-06-07 05:59:28 INFO: DOCUMENT TRANSFORMER\n",
      "2023-06-07 05:59:28 INFO: POS REMOVAL\n",
      "2023-06-07 05:59:28 INFO: DOCUMENT TRANSFORMER\n",
      "2023-06-07 05:59:28 INFO: POS REMOVAL\n",
      "2023-06-07 05:59:29 INFO: DOCUMENT TRANSFORMER\n",
      "2023-06-07 05:59:29 INFO: POS REMOVAL\n",
      "2023-06-07 05:59:29 INFO: DOCUMENT TRANSFORMER\n",
      "2023-06-07 05:59:30 INFO: POS REMOVAL\n",
      "2023-06-07 05:59:30 INFO: DOCUMENT TRANSFORMER\n",
      "2023-06-07 05:59:30 INFO: POS REMOVAL\n",
      "2023-06-07 05:59:30 INFO: DOCUMENT TRANSFORMER\n",
      "2023-06-07 05:59:31 INFO: POS REMOVAL\n",
      "2023-06-07 05:59:31 INFO: DOCUMENT TRANSFORMER\n",
      "2023-06-07 05:59:31 INFO: POS REMOVAL\n",
      "2023-06-07 05:59:31 INFO: DOCUMENT TRANSFORMER\n",
      "2023-06-07 05:59:32 INFO: POS REMOVAL\n",
      "2023-06-07 05:59:32 INFO: DOCUMENT TRANSFORMER\n",
      "2023-06-07 05:59:32 INFO: POS REMOVAL\n",
      "2023-06-07 05:59:32 INFO: DOCUMENT TRANSFORMER\n",
      "2023-06-07 05:59:33 INFO: POS REMOVAL\n",
      "2023-06-07 05:59:33 INFO: DOCUMENT TRANSFORMER\n",
      "2023-06-07 05:59:33 INFO: POS REMOVAL\n",
      "2023-06-07 05:59:33 INFO: DOCUMENT TRANSFORMER\n",
      "2023-06-07 05:59:34 INFO: POS REMOVAL\n",
      "2023-06-07 05:59:34 INFO: DOCUMENT TRANSFORMER\n",
      "2023-06-07 05:59:34 INFO: POS REMOVAL\n",
      "2023-06-07 05:59:34 INFO: DOCUMENT TRANSFORMER\n",
      "2023-06-07 05:59:35 INFO: POS REMOVAL\n",
      "2023-06-07 05:59:35 INFO: DOCUMENT TRANSFORMER\n",
      "2023-06-07 05:59:35 INFO: POS REMOVAL\n",
      "2023-06-07 05:59:35 INFO: DOCUMENT TRANSFORMER\n",
      "2023-06-07 05:59:36 INFO: POS REMOVAL\n",
      "2023-06-07 05:59:36 INFO: DOCUMENT TRANSFORMER\n",
      "2023-06-07 05:59:36 INFO: POS REMOVAL\n",
      "2023-06-07 05:59:36 INFO: DOCUMENT TRANSFORMER\n",
      "2023-06-07 05:59:36 INFO: POS REMOVAL\n",
      "2023-06-07 05:59:37 INFO: DOCUMENT TRANSFORMER\n",
      "2023-06-07 05:59:37 INFO: POS REMOVAL\n",
      "2023-06-07 05:59:37 INFO: DOCUMENT TRANSFORMER\n",
      "2023-06-07 05:59:37 INFO: POS REMOVAL\n",
      "2023-06-07 05:59:38 INFO: DOCUMENT TRANSFORMER\n",
      "2023-06-07 05:59:38 INFO: POS REMOVAL\n",
      "2023-06-07 05:59:38 INFO: DOCUMENT TRANSFORMER\n",
      "2023-06-07 05:59:38 INFO: POS REMOVAL\n",
      "2023-06-07 05:59:39 INFO: DOCUMENT TRANSFORMER\n",
      "2023-06-07 05:59:39 INFO: POS REMOVAL\n",
      "2023-06-07 05:59:39 INFO: DOCUMENT TRANSFORMER\n",
      "2023-06-07 05:59:39 INFO: POS REMOVAL\n",
      "2023-06-07 05:59:40 INFO: DOCUMENT TRANSFORMER\n",
      "2023-06-07 05:59:40 INFO: POS REMOVAL\n",
      "2023-06-07 05:59:40 INFO: DOCUMENT TRANSFORMER\n",
      "2023-06-07 05:59:40 INFO: POS REMOVAL\n",
      "2023-06-07 05:59:40 INFO: DOCUMENT TRANSFORMER\n",
      "2023-06-07 05:59:41 INFO: POS REMOVAL\n",
      "2023-06-07 05:59:41 INFO: DOCUMENT TRANSFORMER\n",
      "2023-06-07 05:59:41 INFO: POS REMOVAL\n",
      "2023-06-07 05:59:41 INFO: DOCUMENT TRANSFORMER\n",
      "2023-06-07 05:59:42 INFO: POS REMOVAL\n",
      "2023-06-07 05:59:42 INFO: DOCUMENT TRANSFORMER\n",
      "2023-06-07 05:59:42 INFO: POS REMOVAL\n",
      "2023-06-07 05:59:42 INFO: DOCUMENT TRANSFORMER\n",
      "2023-06-07 05:59:43 INFO: POS REMOVAL\n",
      "2023-06-07 05:59:43 INFO: DOCUMENT TRANSFORMER\n",
      "2023-06-07 05:59:43 INFO: POS REMOVAL\n",
      "2023-06-07 05:59:43 INFO: DOCUMENT TRANSFORMER\n",
      "2023-06-07 05:59:44 INFO: POS REMOVAL\n",
      "2023-06-07 05:59:44 INFO: DOCUMENT TRANSFORMER\n",
      "2023-06-07 05:59:44 INFO: POS REMOVAL\n",
      "2023-06-07 05:59:44 INFO: DOCUMENT TRANSFORMER\n",
      "2023-06-07 05:59:45 INFO: POS REMOVAL\n",
      "2023-06-07 05:59:45 INFO: DOCUMENT TRANSFORMER\n",
      "2023-06-07 05:59:45 INFO: POS REMOVAL\n",
      "2023-06-07 05:59:45 INFO: DOCUMENT TRANSFORMER\n",
      "2023-06-07 05:59:46 INFO: POS REMOVAL\n",
      "2023-06-07 05:59:46 INFO: DOCUMENT TRANSFORMER\n",
      "2023-06-07 05:59:46 INFO: POS REMOVAL\n",
      "2023-06-07 05:59:46 INFO: DOCUMENT TRANSFORMER\n",
      "2023-06-07 05:59:47 INFO: POS REMOVAL\n",
      "2023-06-07 05:59:47 INFO: DOCUMENT TRANSFORMER\n",
      "2023-06-07 05:59:47 INFO: POS REMOVAL\n",
      "2023-06-07 05:59:47 INFO: DOCUMENT TRANSFORMER\n",
      "2023-06-07 05:59:48 INFO: POS REMOVAL\n",
      "2023-06-07 05:59:48 INFO: DOCUMENT TRANSFORMER\n",
      "2023-06-07 05:59:48 INFO: POS REMOVAL\n",
      "2023-06-07 05:59:49 INFO: DOCUMENT TRANSFORMER\n",
      "2023-06-07 05:59:50 INFO: POS REMOVAL\n",
      "2023-06-07 05:59:50 INFO: DOCUMENT TRANSFORMER\n",
      "2023-06-07 05:59:50 INFO: POS REMOVAL\n",
      "2023-06-07 05:59:50 INFO: DOCUMENT TRANSFORMER\n",
      "2023-06-07 05:59:51 INFO: POS REMOVAL\n",
      "2023-06-07 05:59:51 INFO: DOCUMENT TRANSFORMER\n",
      "2023-06-07 05:59:52 INFO: POS REMOVAL\n",
      "2023-06-07 05:59:52 INFO: DOCUMENT TRANSFORMER\n",
      "2023-06-07 05:59:53 INFO: POS REMOVAL\n",
      "2023-06-07 05:59:53 INFO: DOCUMENT TRANSFORMER\n",
      "2023-06-07 05:59:53 INFO: POS REMOVAL\n",
      "2023-06-07 05:59:53 INFO: DOCUMENT TRANSFORMER\n",
      "2023-06-07 05:59:54 INFO: POS REMOVAL\n",
      "2023-06-07 05:59:54 INFO: DOCUMENT TRANSFORMER\n",
      "2023-06-07 05:59:54 INFO: POS REMOVAL\n",
      "2023-06-07 05:59:54 INFO: DOCUMENT TRANSFORMER\n",
      "2023-06-07 05:59:55 INFO: POS REMOVAL\n",
      "2023-06-07 05:59:55 INFO: DOCUMENT TRANSFORMER\n",
      "2023-06-07 05:59:55 INFO: POS REMOVAL\n",
      "2023-06-07 05:59:55 INFO: DOCUMENT TRANSFORMER\n",
      "2023-06-07 05:59:56 INFO: POS REMOVAL\n",
      "2023-06-07 05:59:56 INFO: DOCUMENT TRANSFORMER\n",
      "2023-06-07 05:59:56 INFO: POS REMOVAL\n",
      "2023-06-07 05:59:56 INFO: DOCUMENT TRANSFORMER\n",
      "2023-06-07 05:59:57 INFO: POS REMOVAL\n",
      "2023-06-07 05:59:57 INFO: DOCUMENT TRANSFORMER\n",
      "2023-06-07 05:59:57 INFO: POS REMOVAL\n",
      "2023-06-07 05:59:58 INFO: DOCUMENT TRANSFORMER\n",
      "2023-06-07 05:59:58 INFO: POS REMOVAL\n",
      "2023-06-07 05:59:58 INFO: DOCUMENT TRANSFORMER\n",
      "2023-06-07 05:59:59 INFO: POS REMOVAL\n",
      "2023-06-07 05:59:59 INFO: DOCUMENT TRANSFORMER\n",
      "2023-06-07 06:00:00 INFO: POS REMOVAL\n",
      "2023-06-07 06:00:00 INFO: DOCUMENT TRANSFORMER\n",
      "2023-06-07 06:00:00 INFO: POS REMOVAL\n",
      "2023-06-07 06:00:00 INFO: DOCUMENT TRANSFORMER\n",
      "2023-06-07 06:00:01 INFO: POS REMOVAL\n",
      "2023-06-07 06:00:01 INFO: DOCUMENT TRANSFORMER\n",
      "2023-06-07 06:00:01 INFO: POS REMOVAL\n",
      "2023-06-07 06:00:01 INFO: DOCUMENT TRANSFORMER\n",
      "2023-06-07 06:00:02 INFO: POS REMOVAL\n",
      "2023-06-07 06:00:02 INFO: DOCUMENT TRANSFORMER\n",
      "2023-06-07 06:00:02 INFO: POS REMOVAL\n",
      "2023-06-07 06:00:02 INFO: DOCUMENT TRANSFORMER\n",
      "2023-06-07 06:00:03 INFO: POS REMOVAL\n",
      "2023-06-07 06:00:03 INFO: DOCUMENT TRANSFORMER\n",
      "2023-06-07 06:00:03 INFO: POS REMOVAL\n",
      "2023-06-07 06:00:04 INFO: DOCUMENT TRANSFORMER\n",
      "2023-06-07 06:00:04 INFO: POS REMOVAL\n",
      "2023-06-07 06:00:04 INFO: DOCUMENT TRANSFORMER\n",
      "2023-06-07 06:00:05 INFO: POS REMOVAL\n",
      "2023-06-07 06:00:05 INFO: DOCUMENT TRANSFORMER\n",
      "2023-06-07 06:00:05 INFO: POS REMOVAL\n",
      "2023-06-07 06:00:05 INFO: DOCUMENT TRANSFORMER\n",
      "2023-06-07 06:00:06 INFO: POS REMOVAL\n",
      "2023-06-07 06:00:06 INFO: DOCUMENT TRANSFORMER\n",
      "2023-06-07 06:00:07 INFO: POS REMOVAL\n",
      "2023-06-07 06:00:07 INFO: DOCUMENT TRANSFORMER\n",
      "2023-06-07 06:00:07 INFO: POS REMOVAL\n",
      "2023-06-07 06:00:07 INFO: DOCUMENT TRANSFORMER\n",
      "2023-06-07 06:00:08 INFO: POS REMOVAL\n",
      "2023-06-07 06:00:08 INFO: DOCUMENT TRANSFORMER\n",
      "2023-06-07 06:00:08 INFO: POS REMOVAL\n",
      "2023-06-07 06:00:08 INFO: DOCUMENT TRANSFORMER\n",
      "2023-06-07 06:00:09 INFO: POS REMOVAL\n",
      "2023-06-07 06:00:09 INFO: DOCUMENT TRANSFORMER\n",
      "2023-06-07 06:00:09 INFO: POS REMOVAL\n",
      "2023-06-07 06:00:09 INFO: DOCUMENT TRANSFORMER\n",
      "2023-06-07 06:00:10 INFO: POS REMOVAL\n",
      "2023-06-07 06:00:10 INFO: DOCUMENT TRANSFORMER\n",
      "2023-06-07 06:00:10 INFO: POS REMOVAL\n",
      "2023-06-07 06:00:10 INFO: DOCUMENT TRANSFORMER\n",
      "2023-06-07 06:00:11 INFO: POS REMOVAL\n",
      "2023-06-07 06:00:11 INFO: DOCUMENT TRANSFORMER\n",
      "2023-06-07 06:00:11 INFO: POS REMOVAL\n",
      "2023-06-07 06:00:12 INFO: DOCUMENT TRANSFORMER\n",
      "2023-06-07 06:00:12 INFO: POS REMOVAL\n",
      "2023-06-07 06:00:12 INFO: DOCUMENT TRANSFORMER\n",
      "2023-06-07 06:00:13 INFO: POS REMOVAL\n",
      "2023-06-07 06:00:13 INFO: DOCUMENT TRANSFORMER\n",
      "2023-06-07 06:00:14 INFO: POS REMOVAL\n",
      "2023-06-07 06:00:14 INFO: DOCUMENT TRANSFORMER\n",
      "2023-06-07 06:00:14 INFO: POS REMOVAL\n",
      "2023-06-07 06:00:14 INFO: DOCUMENT TRANSFORMER\n",
      "2023-06-07 06:00:15 INFO: POS REMOVAL\n",
      "2023-06-07 06:00:15 INFO: DOCUMENT TRANSFORMER\n",
      "2023-06-07 06:00:16 INFO: POS REMOVAL\n",
      "2023-06-07 06:00:16 INFO: DOCUMENT TRANSFORMER\n",
      "2023-06-07 06:00:16 INFO: POS REMOVAL\n",
      "2023-06-07 06:00:17 INFO: DOCUMENT TRANSFORMER\n",
      "2023-06-07 06:00:17 INFO: POS REMOVAL\n",
      "2023-06-07 06:00:17 INFO: DOCUMENT TRANSFORMER\n",
      "2023-06-07 06:00:18 INFO: POS REMOVAL\n",
      "2023-06-07 06:00:18 INFO: DOCUMENT TRANSFORMER\n",
      "2023-06-07 06:00:19 INFO: POS REMOVAL\n",
      "2023-06-07 06:00:19 INFO: DOCUMENT TRANSFORMER\n",
      "2023-06-07 06:00:19 INFO: POS REMOVAL\n",
      "2023-06-07 06:00:20 INFO: DOCUMENT TRANSFORMER\n",
      "2023-06-07 06:00:20 INFO: POS REMOVAL\n",
      "2023-06-07 06:00:20 INFO: DOCUMENT TRANSFORMER\n",
      "2023-06-07 06:00:21 INFO: POS REMOVAL\n",
      "2023-06-07 06:00:21 INFO: DOCUMENT TRANSFORMER\n",
      "2023-06-07 06:00:22 INFO: POS REMOVAL\n",
      "2023-06-07 06:00:22 INFO: DOCUMENT TRANSFORMER\n",
      "2023-06-07 06:00:22 INFO: POS REMOVAL\n",
      "2023-06-07 06:00:23 INFO: DOCUMENT TRANSFORMER\n",
      "2023-06-07 06:00:23 INFO: POS REMOVAL\n",
      "2023-06-07 06:00:23 INFO: DOCUMENT TRANSFORMER\n",
      "2023-06-07 06:00:24 INFO: POS REMOVAL\n",
      "2023-06-07 06:00:24 INFO: DOCUMENT TRANSFORMER\n",
      "2023-06-07 06:00:25 INFO: POS REMOVAL\n",
      "2023-06-07 06:00:25 INFO: DOCUMENT TRANSFORMER\n",
      "2023-06-07 06:00:26 INFO: POS REMOVAL\n",
      "2023-06-07 06:00:26 INFO: DOCUMENT TRANSFORMER\n",
      "2023-06-07 06:00:26 INFO: POS REMOVAL\n",
      "2023-06-07 06:00:27 INFO: DOCUMENT TRANSFORMER\n",
      "2023-06-07 06:00:28 INFO: POS REMOVAL\n",
      "2023-06-07 06:00:28 INFO: DOCUMENT TRANSFORMER\n",
      "2023-06-07 06:00:29 INFO: POS REMOVAL\n",
      "2023-06-07 06:00:29 INFO: DOCUMENT TRANSFORMER\n",
      "2023-06-07 06:00:30 INFO: POS REMOVAL\n",
      "2023-06-07 06:00:30 INFO: DOCUMENT TRANSFORMER\n",
      "2023-06-07 06:00:31 INFO: POS REMOVAL\n",
      "2023-06-07 06:00:31 INFO: DOCUMENT TRANSFORMER\n",
      "2023-06-07 06:00:32 INFO: POS REMOVAL\n",
      "2023-06-07 06:00:32 INFO: DOCUMENT TRANSFORMER\n",
      "2023-06-07 06:00:32 INFO: POS REMOVAL\n",
      "2023-06-07 06:00:32 INFO: DOCUMENT TRANSFORMER\n",
      "2023-06-07 06:00:33 INFO: POS REMOVAL\n",
      "2023-06-07 06:00:33 INFO: DOCUMENT TRANSFORMER\n",
      "2023-06-07 06:00:34 INFO: POS REMOVAL\n",
      "2023-06-07 06:00:34 INFO: DOCUMENT TRANSFORMER\n",
      "2023-06-07 06:00:34 INFO: POS REMOVAL\n",
      "2023-06-07 06:00:34 INFO: DOCUMENT TRANSFORMER\n",
      "2023-06-07 06:00:35 INFO: POS REMOVAL\n",
      "2023-06-07 06:00:35 INFO: DOCUMENT TRANSFORMER\n",
      "2023-06-07 06:00:35 INFO: POS REMOVAL\n",
      "2023-06-07 06:00:35 INFO: DOCUMENT TRANSFORMER\n",
      "2023-06-07 06:00:36 INFO: POS REMOVAL\n",
      "2023-06-07 06:00:36 INFO: DOCUMENT TRANSFORMER\n",
      "2023-06-07 06:00:36 INFO: POS REMOVAL\n",
      "2023-06-07 06:00:36 INFO: DOCUMENT TRANSFORMER\n",
      "2023-06-07 06:00:37 INFO: POS REMOVAL\n",
      "2023-06-07 06:00:37 INFO: DOCUMENT TRANSFORMER\n",
      "2023-06-07 06:00:37 INFO: POS REMOVAL\n",
      "2023-06-07 06:00:37 INFO: DOCUMENT TRANSFORMER\n",
      "2023-06-07 06:00:38 INFO: POS REMOVAL\n",
      "2023-06-07 06:00:38 INFO: DOCUMENT TRANSFORMER\n",
      "2023-06-07 06:00:38 INFO: POS REMOVAL\n",
      "2023-06-07 06:00:38 INFO: DOCUMENT TRANSFORMER\n",
      "2023-06-07 06:00:39 INFO: POS REMOVAL\n",
      "2023-06-07 06:00:39 INFO: DOCUMENT TRANSFORMER\n",
      "2023-06-07 06:00:39 INFO: POS REMOVAL\n",
      "2023-06-07 06:00:39 INFO: DOCUMENT TRANSFORMER\n",
      "2023-06-07 06:00:40 INFO: POS REMOVAL\n",
      "2023-06-07 06:00:40 INFO: DOCUMENT TRANSFORMER\n",
      "2023-06-07 06:00:40 INFO: POS REMOVAL\n",
      "2023-06-07 06:00:40 INFO: DOCUMENT TRANSFORMER\n",
      "2023-06-07 06:00:40 INFO: POS REMOVAL\n",
      "2023-06-07 06:00:41 INFO: DOCUMENT TRANSFORMER\n",
      "2023-06-07 06:00:41 INFO: POS REMOVAL\n",
      "2023-06-07 06:00:41 INFO: DOCUMENT TRANSFORMER\n",
      "2023-06-07 06:00:41 INFO: POS REMOVAL\n",
      "2023-06-07 06:00:41 INFO: DOCUMENT TRANSFORMER\n",
      "2023-06-07 06:00:42 INFO: POS REMOVAL\n",
      "2023-06-07 06:00:42 INFO: DOCUMENT TRANSFORMER\n",
      "2023-06-07 06:00:42 INFO: POS REMOVAL\n",
      "2023-06-07 06:00:42 INFO: DOCUMENT TRANSFORMER\n",
      "2023-06-07 06:00:42 INFO: POS REMOVAL\n",
      "2023-06-07 06:00:42 INFO: DOCUMENT TRANSFORMER\n",
      "2023-06-07 06:00:43 INFO: POS REMOVAL\n",
      "2023-06-07 06:00:43 INFO: DOCUMENT TRANSFORMER\n",
      "2023-06-07 06:00:43 INFO: POS REMOVAL\n",
      "2023-06-07 06:00:43 INFO: DOCUMENT TRANSFORMER\n",
      "2023-06-07 06:00:44 INFO: POS REMOVAL\n",
      "2023-06-07 06:00:44 INFO: DOCUMENT TRANSFORMER\n",
      "2023-06-07 06:00:44 INFO: POS REMOVAL\n",
      "2023-06-07 06:00:44 INFO: DOCUMENT TRANSFORMER\n",
      "2023-06-07 06:00:44 INFO: POS REMOVAL\n",
      "2023-06-07 06:00:44 INFO: DOCUMENT TRANSFORMER\n",
      "2023-06-07 06:00:45 INFO: POS REMOVAL\n",
      "2023-06-07 06:00:45 INFO: DOCUMENT TRANSFORMER\n",
      "2023-06-07 06:00:45 INFO: POS REMOVAL\n",
      "2023-06-07 06:00:45 INFO: DOCUMENT TRANSFORMER\n",
      "2023-06-07 06:00:45 INFO: POS REMOVAL\n",
      "2023-06-07 06:00:45 INFO: DOCUMENT TRANSFORMER\n",
      "2023-06-07 06:00:46 INFO: POS REMOVAL\n",
      "2023-06-07 06:00:46 INFO: DOCUMENT TRANSFORMER\n",
      "2023-06-07 06:00:46 INFO: POS REMOVAL\n",
      "2023-06-07 06:00:46 INFO: DOCUMENT TRANSFORMER\n",
      "2023-06-07 06:00:47 INFO: POS REMOVAL\n",
      "2023-06-07 06:00:47 INFO: DOCUMENT TRANSFORMER\n",
      "2023-06-07 06:00:47 INFO: POS REMOVAL\n",
      "2023-06-07 06:00:47 INFO: DOCUMENT TRANSFORMER\n",
      "2023-06-07 06:00:47 INFO: POS REMOVAL\n",
      "2023-06-07 06:00:47 INFO: DOCUMENT TRANSFORMER\n",
      "2023-06-07 06:00:48 INFO: POS REMOVAL\n",
      "2023-06-07 06:00:48 INFO: DOCUMENT TRANSFORMER\n",
      "2023-06-07 06:00:48 INFO: POS REMOVAL\n",
      "2023-06-07 06:00:48 INFO: DOCUMENT TRANSFORMER\n",
      "2023-06-07 06:00:49 INFO: POS REMOVAL\n",
      "2023-06-07 06:00:49 INFO: DOCUMENT TRANSFORMER\n",
      "2023-06-07 06:00:49 INFO: POS REMOVAL\n",
      "2023-06-07 06:00:49 INFO: DOCUMENT TRANSFORMER\n",
      "2023-06-07 06:00:50 INFO: POS REMOVAL\n",
      "2023-06-07 06:00:50 INFO: DOCUMENT TRANSFORMER\n",
      "2023-06-07 06:00:50 INFO: POS REMOVAL\n",
      "2023-06-07 06:00:50 INFO: DOCUMENT TRANSFORMER\n",
      "2023-06-07 06:00:51 INFO: POS REMOVAL\n",
      "2023-06-07 06:00:51 INFO: DOCUMENT TRANSFORMER\n",
      "2023-06-07 06:00:51 INFO: POS REMOVAL\n",
      "2023-06-07 06:00:51 INFO: DOCUMENT TRANSFORMER\n",
      "2023-06-07 06:00:51 INFO: POS REMOVAL\n",
      "2023-06-07 06:00:51 INFO: DOCUMENT TRANSFORMER\n",
      "2023-06-07 06:00:52 INFO: POS REMOVAL\n",
      "2023-06-07 06:00:52 INFO: DOCUMENT TRANSFORMER\n",
      "2023-06-07 06:00:52 INFO: POS REMOVAL\n",
      "2023-06-07 06:00:52 INFO: DOCUMENT TRANSFORMER\n",
      "2023-06-07 06:00:53 INFO: POS REMOVAL\n",
      "2023-06-07 06:00:53 INFO: DOCUMENT TRANSFORMER\n",
      "2023-06-07 06:00:53 INFO: POS REMOVAL\n",
      "2023-06-07 06:00:54 INFO: DOCUMENT TRANSFORMER\n",
      "2023-06-07 06:00:54 INFO: POS REMOVAL\n",
      "2023-06-07 06:00:54 INFO: DOCUMENT TRANSFORMER\n",
      "2023-06-07 06:00:55 INFO: POS REMOVAL\n",
      "2023-06-07 06:00:55 INFO: DOCUMENT TRANSFORMER\n",
      "2023-06-07 06:00:55 INFO: POS REMOVAL\n",
      "2023-06-07 06:00:55 INFO: DOCUMENT TRANSFORMER\n",
      "2023-06-07 06:00:56 INFO: POS REMOVAL\n",
      "2023-06-07 06:00:56 INFO: DOCUMENT TRANSFORMER\n",
      "2023-06-07 06:00:56 INFO: POS REMOVAL\n",
      "2023-06-07 06:00:56 INFO: DOCUMENT TRANSFORMER\n",
      "2023-06-07 06:00:57 INFO: POS REMOVAL\n",
      "2023-06-07 06:00:57 INFO: DOCUMENT TRANSFORMER\n",
      "2023-06-07 06:00:57 INFO: POS REMOVAL\n",
      "2023-06-07 06:00:57 INFO: DOCUMENT TRANSFORMER\n",
      "2023-06-07 06:00:58 INFO: POS REMOVAL\n",
      "2023-06-07 06:00:58 INFO: DOCUMENT TRANSFORMER\n",
      "2023-06-07 06:00:58 INFO: POS REMOVAL\n",
      "2023-06-07 06:00:58 INFO: DOCUMENT TRANSFORMER\n",
      "2023-06-07 06:00:59 INFO: POS REMOVAL\n",
      "2023-06-07 06:00:59 INFO: DOCUMENT TRANSFORMER\n",
      "2023-06-07 06:00:59 INFO: POS REMOVAL\n",
      "2023-06-07 06:00:59 INFO: DOCUMENT TRANSFORMER\n",
      "2023-06-07 06:00:59 INFO: POS REMOVAL\n",
      "2023-06-07 06:00:59 INFO: DOCUMENT TRANSFORMER\n",
      "2023-06-07 06:01:00 INFO: POS REMOVAL\n",
      "2023-06-07 06:01:00 INFO: DOCUMENT TRANSFORMER\n",
      "2023-06-07 06:01:00 INFO: POS REMOVAL\n",
      "2023-06-07 06:01:00 INFO: DOCUMENT TRANSFORMER\n",
      "2023-06-07 06:01:01 INFO: POS REMOVAL\n",
      "2023-06-07 06:01:01 INFO: DOCUMENT TRANSFORMER\n",
      "2023-06-07 06:01:01 INFO: POS REMOVAL\n",
      "2023-06-07 06:01:01 INFO: DOCUMENT TRANSFORMER\n",
      "2023-06-07 06:01:01 INFO: POS REMOVAL\n",
      "2023-06-07 06:01:01 INFO: DOCUMENT TRANSFORMER\n",
      "2023-06-07 06:01:02 INFO: POS REMOVAL\n",
      "2023-06-07 06:01:02 INFO: DOCUMENT TRANSFORMER\n",
      "2023-06-07 06:01:02 INFO: POS REMOVAL\n",
      "2023-06-07 06:01:02 INFO: DOCUMENT TRANSFORMER\n",
      "2023-06-07 06:01:03 INFO: POS REMOVAL\n",
      "2023-06-07 06:01:03 INFO: DOCUMENT TRANSFORMER\n",
      "2023-06-07 06:01:03 INFO: POS REMOVAL\n",
      "2023-06-07 06:01:03 INFO: DOCUMENT TRANSFORMER\n",
      "2023-06-07 06:01:03 INFO: POS REMOVAL\n",
      "2023-06-07 06:01:03 INFO: DOCUMENT TRANSFORMER\n",
      "2023-06-07 06:01:04 INFO: POS REMOVAL\n",
      "2023-06-07 06:01:04 INFO: DOCUMENT TRANSFORMER\n",
      "2023-06-07 06:01:04 INFO: POS REMOVAL\n",
      "2023-06-07 06:01:04 INFO: DOCUMENT TRANSFORMER\n",
      "2023-06-07 06:01:05 INFO: POS REMOVAL\n",
      "2023-06-07 06:01:05 INFO: DOCUMENT TRANSFORMER\n",
      "2023-06-07 06:01:05 INFO: POS REMOVAL\n",
      "2023-06-07 06:01:05 INFO: DOCUMENT TRANSFORMER\n",
      "2023-06-07 06:01:05 INFO: POS REMOVAL\n",
      "2023-06-07 06:01:05 INFO: DOCUMENT TRANSFORMER\n",
      "2023-06-07 06:01:06 INFO: POS REMOVAL\n",
      "2023-06-07 06:01:06 INFO: DOCUMENT TRANSFORMER\n",
      "2023-06-07 06:01:06 INFO: POS REMOVAL\n",
      "2023-06-07 06:01:06 INFO: DOCUMENT TRANSFORMER\n",
      "2023-06-07 06:01:07 INFO: POS REMOVAL\n",
      "2023-06-07 06:01:07 INFO: DOCUMENT TRANSFORMER\n",
      "2023-06-07 06:01:07 INFO: POS REMOVAL\n",
      "2023-06-07 06:01:08 INFO: DOCUMENT TRANSFORMER\n",
      "2023-06-07 06:01:08 INFO: POS REMOVAL\n",
      "2023-06-07 06:01:08 INFO: DOCUMENT TRANSFORMER\n",
      "2023-06-07 06:01:08 INFO: POS REMOVAL\n",
      "2023-06-07 06:01:09 INFO: DOCUMENT TRANSFORMER\n",
      "2023-06-07 06:01:09 INFO: POS REMOVAL\n",
      "2023-06-07 06:01:09 INFO: DOCUMENT TRANSFORMER\n",
      "2023-06-07 06:01:10 INFO: POS REMOVAL\n",
      "2023-06-07 06:01:10 INFO: DOCUMENT TRANSFORMER\n",
      "2023-06-07 06:01:10 INFO: POS REMOVAL\n",
      "2023-06-07 06:01:10 INFO: DOCUMENT TRANSFORMER\n",
      "2023-06-07 06:01:11 INFO: POS REMOVAL\n",
      "2023-06-07 06:01:11 INFO: DOCUMENT TRANSFORMER\n",
      "2023-06-07 06:01:11 INFO: POS REMOVAL\n",
      "2023-06-07 06:01:11 INFO: DOCUMENT TRANSFORMER\n",
      "2023-06-07 06:01:12 INFO: POS REMOVAL\n",
      "2023-06-07 06:01:12 INFO: DOCUMENT TRANSFORMER\n",
      "2023-06-07 06:01:12 INFO: POS REMOVAL\n",
      "2023-06-07 06:01:12 INFO: DOCUMENT TRANSFORMER\n",
      "2023-06-07 06:01:13 INFO: POS REMOVAL\n",
      "2023-06-07 06:01:13 INFO: DOCUMENT TRANSFORMER\n",
      "2023-06-07 06:01:13 INFO: POS REMOVAL\n",
      "2023-06-07 06:01:13 INFO: DOCUMENT TRANSFORMER\n",
      "2023-06-07 06:01:14 INFO: POS REMOVAL\n",
      "2023-06-07 06:01:14 INFO: DOCUMENT TRANSFORMER\n",
      "2023-06-07 06:01:15 INFO: POS REMOVAL\n",
      "2023-06-07 06:01:15 INFO: DOCUMENT TRANSFORMER\n",
      "2023-06-07 06:01:15 INFO: POS REMOVAL\n",
      "2023-06-07 06:01:15 INFO: DOCUMENT TRANSFORMER\n",
      "2023-06-07 06:01:16 INFO: POS REMOVAL\n",
      "2023-06-07 06:01:16 INFO: DOCUMENT TRANSFORMER\n",
      "2023-06-07 06:01:16 INFO: POS REMOVAL\n",
      "2023-06-07 06:01:16 INFO: DOCUMENT TRANSFORMER\n",
      "2023-06-07 06:01:17 INFO: POS REMOVAL\n",
      "2023-06-07 06:01:17 INFO: DOCUMENT TRANSFORMER\n",
      "2023-06-07 06:01:17 INFO: POS REMOVAL\n",
      "2023-06-07 06:01:17 INFO: DOCUMENT TRANSFORMER\n",
      "2023-06-07 06:01:18 INFO: POS REMOVAL\n",
      "2023-06-07 06:01:18 INFO: DOCUMENT TRANSFORMER\n",
      "2023-06-07 06:01:18 INFO: POS REMOVAL\n",
      "2023-06-07 06:01:18 INFO: DOCUMENT TRANSFORMER\n",
      "2023-06-07 06:01:19 INFO: POS REMOVAL\n",
      "2023-06-07 06:01:19 INFO: DOCUMENT TRANSFORMER\n",
      "2023-06-07 06:01:19 INFO: POS REMOVAL\n",
      "2023-06-07 06:01:19 INFO: DOCUMENT TRANSFORMER\n",
      "2023-06-07 06:01:19 INFO: POS REMOVAL\n",
      "2023-06-07 06:01:19 INFO: DOCUMENT TRANSFORMER\n",
      "2023-06-07 06:01:20 INFO: POS REMOVAL\n",
      "2023-06-07 06:01:20 INFO: DOCUMENT TRANSFORMER\n",
      "2023-06-07 06:01:20 INFO: POS REMOVAL\n",
      "2023-06-07 06:01:20 INFO: DOCUMENT TRANSFORMER\n",
      "2023-06-07 06:01:20 INFO: POS REMOVAL\n",
      "2023-06-07 06:01:21 INFO: DOCUMENT TRANSFORMER\n",
      "2023-06-07 06:01:21 INFO: POS REMOVAL\n",
      "2023-06-07 06:01:21 INFO: DOCUMENT TRANSFORMER\n",
      "2023-06-07 06:01:21 INFO: POS REMOVAL\n",
      "2023-06-07 06:01:21 INFO: DOCUMENT TRANSFORMER\n",
      "2023-06-07 06:01:22 INFO: POS REMOVAL\n",
      "2023-06-07 06:01:22 INFO: DOCUMENT TRANSFORMER\n",
      "2023-06-07 06:01:22 INFO: POS REMOVAL\n",
      "2023-06-07 06:01:22 INFO: DOCUMENT TRANSFORMER\n",
      "2023-06-07 06:01:22 INFO: POS REMOVAL\n",
      "2023-06-07 06:01:23 INFO: DOCUMENT TRANSFORMER\n",
      "2023-06-07 06:01:23 INFO: POS REMOVAL\n",
      "2023-06-07 06:01:23 INFO: DOCUMENT TRANSFORMER\n",
      "2023-06-07 06:01:23 INFO: POS REMOVAL\n",
      "2023-06-07 06:01:23 INFO: DOCUMENT TRANSFORMER\n",
      "2023-06-07 06:01:24 INFO: POS REMOVAL\n",
      "2023-06-07 06:01:24 INFO: DOCUMENT TRANSFORMER\n",
      "2023-06-07 06:01:24 INFO: POS REMOVAL\n",
      "2023-06-07 06:01:24 INFO: DOCUMENT TRANSFORMER\n",
      "2023-06-07 06:01:24 INFO: POS REMOVAL\n",
      "2023-06-07 06:01:24 INFO: DOCUMENT TRANSFORMER\n",
      "2023-06-07 06:01:25 INFO: POS REMOVAL\n",
      "2023-06-07 06:01:25 INFO: DOCUMENT TRANSFORMER\n",
      "2023-06-07 06:01:25 INFO: POS REMOVAL\n",
      "2023-06-07 06:01:25 INFO: DOCUMENT TRANSFORMER\n",
      "2023-06-07 06:01:26 INFO: POS REMOVAL\n",
      "2023-06-07 06:01:26 INFO: DOCUMENT TRANSFORMER\n",
      "2023-06-07 06:01:26 INFO: POS REMOVAL\n",
      "2023-06-07 06:01:26 INFO: DOCUMENT TRANSFORMER\n",
      "2023-06-07 06:01:27 INFO: POS REMOVAL\n",
      "2023-06-07 06:01:27 INFO: DOCUMENT TRANSFORMER\n",
      "2023-06-07 06:01:27 INFO: POS REMOVAL\n",
      "2023-06-07 06:01:27 INFO: DOCUMENT TRANSFORMER\n",
      "2023-06-07 06:01:28 INFO: POS REMOVAL\n",
      "2023-06-07 06:01:28 INFO: DOCUMENT TRANSFORMER\n",
      "2023-06-07 06:01:28 INFO: POS REMOVAL\n",
      "2023-06-07 06:01:28 INFO: DOCUMENT TRANSFORMER\n",
      "2023-06-07 06:01:29 INFO: POS REMOVAL\n",
      "2023-06-07 06:01:29 INFO: DOCUMENT TRANSFORMER\n",
      "2023-06-07 06:01:29 INFO: POS REMOVAL\n",
      "2023-06-07 06:01:29 INFO: DOCUMENT TRANSFORMER\n",
      "2023-06-07 06:01:30 INFO: POS REMOVAL\n",
      "2023-06-07 06:01:30 INFO: DOCUMENT TRANSFORMER\n",
      "2023-06-07 06:01:30 INFO: POS REMOVAL\n",
      "2023-06-07 06:01:30 INFO: DOCUMENT TRANSFORMER\n",
      "2023-06-07 06:01:31 INFO: POS REMOVAL\n",
      "2023-06-07 06:01:31 INFO: DOCUMENT TRANSFORMER\n",
      "2023-06-07 06:01:31 INFO: POS REMOVAL\n",
      "2023-06-07 06:01:31 INFO: DOCUMENT TRANSFORMER\n",
      "2023-06-07 06:01:31 INFO: POS REMOVAL\n",
      "2023-06-07 06:01:32 INFO: DOCUMENT TRANSFORMER\n",
      "2023-06-07 06:01:32 INFO: POS REMOVAL\n",
      "2023-06-07 06:01:32 INFO: DOCUMENT TRANSFORMER\n",
      "2023-06-07 06:01:32 INFO: POS REMOVAL\n",
      "2023-06-07 06:01:32 INFO: DOCUMENT TRANSFORMER\n",
      "2023-06-07 06:01:33 INFO: POS REMOVAL\n",
      "2023-06-07 06:01:33 INFO: DOCUMENT TRANSFORMER\n",
      "2023-06-07 06:01:33 INFO: POS REMOVAL\n",
      "2023-06-07 06:01:33 INFO: DOCUMENT TRANSFORMER\n",
      "2023-06-07 06:01:34 INFO: POS REMOVAL\n",
      "2023-06-07 06:01:34 INFO: DOCUMENT TRANSFORMER\n"
     ]
    },
    {
     "name": "stderr",
     "output_type": "stream",
     "text": [
      "c:\\Users\\c10nGp4\\anaconda3\\envs\\imbalance-multi-classification\\lib\\site-packages\\sklearn\\svm\\_base.py:1244: ConvergenceWarning: Liblinear failed to converge, increase the number of iterations.\n",
      "  warnings.warn(\n"
     ]
    },
    {
     "name": "stdout",
     "output_type": "stream",
     "text": [
      "2023-06-07 06:01:37 INFO: POS REMOVAL\n",
      "2023-06-07 06:01:37 INFO: DOCUMENT TRANSFORMER\n",
      "2023-06-07 06:01:37 INFO: POS REMOVAL\n",
      "2023-06-07 06:01:37 INFO: DOCUMENT TRANSFORMER\n"
     ]
    },
    {
     "name": "stderr",
     "output_type": "stream",
     "text": [
      "c:\\Users\\c10nGp4\\anaconda3\\envs\\imbalance-multi-classification\\lib\\site-packages\\sklearn\\svm\\_base.py:1244: ConvergenceWarning: Liblinear failed to converge, increase the number of iterations.\n",
      "  warnings.warn(\n"
     ]
    },
    {
     "name": "stdout",
     "output_type": "stream",
     "text": [
      "2023-06-07 06:01:40 INFO: POS REMOVAL\n",
      "2023-06-07 06:01:40 INFO: DOCUMENT TRANSFORMER\n",
      "2023-06-07 06:01:40 INFO: POS REMOVAL\n",
      "2023-06-07 06:01:41 INFO: DOCUMENT TRANSFORMER\n"
     ]
    },
    {
     "name": "stderr",
     "output_type": "stream",
     "text": [
      "c:\\Users\\c10nGp4\\anaconda3\\envs\\imbalance-multi-classification\\lib\\site-packages\\sklearn\\svm\\_base.py:1244: ConvergenceWarning: Liblinear failed to converge, increase the number of iterations.\n",
      "  warnings.warn(\n"
     ]
    },
    {
     "name": "stdout",
     "output_type": "stream",
     "text": [
      "2023-06-07 06:01:44 INFO: POS REMOVAL\n",
      "2023-06-07 06:01:44 INFO: DOCUMENT TRANSFORMER\n",
      "2023-06-07 06:01:44 INFO: POS REMOVAL\n",
      "2023-06-07 06:01:44 INFO: DOCUMENT TRANSFORMER\n"
     ]
    },
    {
     "name": "stderr",
     "output_type": "stream",
     "text": [
      "c:\\Users\\c10nGp4\\anaconda3\\envs\\imbalance-multi-classification\\lib\\site-packages\\sklearn\\svm\\_base.py:1244: ConvergenceWarning: Liblinear failed to converge, increase the number of iterations.\n",
      "  warnings.warn(\n"
     ]
    },
    {
     "name": "stdout",
     "output_type": "stream",
     "text": [
      "2023-06-07 06:01:47 INFO: POS REMOVAL\n",
      "2023-06-07 06:01:47 INFO: DOCUMENT TRANSFORMER\n",
      "2023-06-07 06:01:47 INFO: POS REMOVAL\n",
      "2023-06-07 06:01:47 INFO: DOCUMENT TRANSFORMER\n"
     ]
    },
    {
     "name": "stderr",
     "output_type": "stream",
     "text": [
      "c:\\Users\\c10nGp4\\anaconda3\\envs\\imbalance-multi-classification\\lib\\site-packages\\sklearn\\svm\\_base.py:1244: ConvergenceWarning: Liblinear failed to converge, increase the number of iterations.\n",
      "  warnings.warn(\n"
     ]
    },
    {
     "name": "stdout",
     "output_type": "stream",
     "text": [
      "2023-06-07 06:01:50 INFO: POS REMOVAL\n",
      "2023-06-07 06:01:50 INFO: DOCUMENT TRANSFORMER\n",
      "2023-06-07 06:01:50 INFO: POS REMOVAL\n",
      "2023-06-07 06:01:50 INFO: DOCUMENT TRANSFORMER\n"
     ]
    },
    {
     "name": "stderr",
     "output_type": "stream",
     "text": [
      "c:\\Users\\c10nGp4\\anaconda3\\envs\\imbalance-multi-classification\\lib\\site-packages\\sklearn\\svm\\_base.py:1244: ConvergenceWarning: Liblinear failed to converge, increase the number of iterations.\n",
      "  warnings.warn(\n"
     ]
    },
    {
     "name": "stdout",
     "output_type": "stream",
     "text": [
      "2023-06-07 06:01:53 INFO: POS REMOVAL\n",
      "2023-06-07 06:01:53 INFO: DOCUMENT TRANSFORMER\n",
      "2023-06-07 06:01:54 INFO: POS REMOVAL\n",
      "2023-06-07 06:01:54 INFO: DOCUMENT TRANSFORMER\n"
     ]
    },
    {
     "name": "stderr",
     "output_type": "stream",
     "text": [
      "c:\\Users\\c10nGp4\\anaconda3\\envs\\imbalance-multi-classification\\lib\\site-packages\\sklearn\\svm\\_base.py:1244: ConvergenceWarning: Liblinear failed to converge, increase the number of iterations.\n",
      "  warnings.warn(\n"
     ]
    },
    {
     "name": "stdout",
     "output_type": "stream",
     "text": [
      "2023-06-07 06:01:57 INFO: POS REMOVAL\n",
      "2023-06-07 06:01:57 INFO: DOCUMENT TRANSFORMER\n",
      "2023-06-07 06:01:57 INFO: POS REMOVAL\n",
      "2023-06-07 06:01:57 INFO: DOCUMENT TRANSFORMER\n"
     ]
    },
    {
     "name": "stderr",
     "output_type": "stream",
     "text": [
      "c:\\Users\\c10nGp4\\anaconda3\\envs\\imbalance-multi-classification\\lib\\site-packages\\sklearn\\svm\\_base.py:1244: ConvergenceWarning: Liblinear failed to converge, increase the number of iterations.\n",
      "  warnings.warn(\n"
     ]
    },
    {
     "name": "stdout",
     "output_type": "stream",
     "text": [
      "2023-06-07 06:02:00 INFO: POS REMOVAL\n",
      "2023-06-07 06:02:00 INFO: DOCUMENT TRANSFORMER\n",
      "2023-06-07 06:02:01 INFO: POS REMOVAL\n",
      "2023-06-07 06:02:01 INFO: DOCUMENT TRANSFORMER\n"
     ]
    },
    {
     "name": "stderr",
     "output_type": "stream",
     "text": [
      "c:\\Users\\c10nGp4\\anaconda3\\envs\\imbalance-multi-classification\\lib\\site-packages\\sklearn\\svm\\_base.py:1244: ConvergenceWarning: Liblinear failed to converge, increase the number of iterations.\n",
      "  warnings.warn(\n"
     ]
    },
    {
     "name": "stdout",
     "output_type": "stream",
     "text": [
      "2023-06-07 06:02:04 INFO: POS REMOVAL\n",
      "2023-06-07 06:02:04 INFO: DOCUMENT TRANSFORMER\n",
      "2023-06-07 06:02:04 INFO: POS REMOVAL\n",
      "2023-06-07 06:02:04 INFO: DOCUMENT TRANSFORMER\n"
     ]
    },
    {
     "name": "stderr",
     "output_type": "stream",
     "text": [
      "c:\\Users\\c10nGp4\\anaconda3\\envs\\imbalance-multi-classification\\lib\\site-packages\\sklearn\\svm\\_base.py:1244: ConvergenceWarning: Liblinear failed to converge, increase the number of iterations.\n",
      "  warnings.warn(\n"
     ]
    },
    {
     "name": "stdout",
     "output_type": "stream",
     "text": [
      "2023-06-07 06:02:07 INFO: POS REMOVAL\n",
      "2023-06-07 06:02:07 INFO: DOCUMENT TRANSFORMER\n",
      "2023-06-07 06:02:07 INFO: POS REMOVAL\n",
      "2023-06-07 06:02:07 INFO: DOCUMENT TRANSFORMER\n"
     ]
    },
    {
     "name": "stderr",
     "output_type": "stream",
     "text": [
      "c:\\Users\\c10nGp4\\anaconda3\\envs\\imbalance-multi-classification\\lib\\site-packages\\sklearn\\svm\\_base.py:1244: ConvergenceWarning: Liblinear failed to converge, increase the number of iterations.\n",
      "  warnings.warn(\n"
     ]
    },
    {
     "name": "stdout",
     "output_type": "stream",
     "text": [
      "2023-06-07 06:02:10 INFO: POS REMOVAL\n",
      "2023-06-07 06:02:10 INFO: DOCUMENT TRANSFORMER\n",
      "2023-06-07 06:02:10 INFO: POS REMOVAL\n",
      "2023-06-07 06:02:10 INFO: DOCUMENT TRANSFORMER\n"
     ]
    },
    {
     "name": "stderr",
     "output_type": "stream",
     "text": [
      "c:\\Users\\c10nGp4\\anaconda3\\envs\\imbalance-multi-classification\\lib\\site-packages\\sklearn\\svm\\_base.py:1244: ConvergenceWarning: Liblinear failed to converge, increase the number of iterations.\n",
      "  warnings.warn(\n"
     ]
    },
    {
     "name": "stdout",
     "output_type": "stream",
     "text": [
      "2023-06-07 06:02:13 INFO: POS REMOVAL\n",
      "2023-06-07 06:02:13 INFO: DOCUMENT TRANSFORMER\n",
      "2023-06-07 06:02:13 INFO: POS REMOVAL\n",
      "2023-06-07 06:02:14 INFO: DOCUMENT TRANSFORMER\n"
     ]
    },
    {
     "name": "stderr",
     "output_type": "stream",
     "text": [
      "c:\\Users\\c10nGp4\\anaconda3\\envs\\imbalance-multi-classification\\lib\\site-packages\\sklearn\\svm\\_base.py:1244: ConvergenceWarning: Liblinear failed to converge, increase the number of iterations.\n",
      "  warnings.warn(\n"
     ]
    },
    {
     "name": "stdout",
     "output_type": "stream",
     "text": [
      "2023-06-07 06:02:17 INFO: POS REMOVAL\n",
      "2023-06-07 06:02:17 INFO: DOCUMENT TRANSFORMER\n",
      "2023-06-07 06:02:17 INFO: POS REMOVAL\n",
      "2023-06-07 06:02:17 INFO: DOCUMENT TRANSFORMER\n"
     ]
    },
    {
     "name": "stderr",
     "output_type": "stream",
     "text": [
      "c:\\Users\\c10nGp4\\anaconda3\\envs\\imbalance-multi-classification\\lib\\site-packages\\sklearn\\svm\\_base.py:1244: ConvergenceWarning: Liblinear failed to converge, increase the number of iterations.\n",
      "  warnings.warn(\n"
     ]
    },
    {
     "name": "stdout",
     "output_type": "stream",
     "text": [
      "2023-06-07 06:02:20 INFO: POS REMOVAL\n",
      "2023-06-07 06:02:20 INFO: DOCUMENT TRANSFORMER\n",
      "2023-06-07 06:02:20 INFO: POS REMOVAL\n",
      "2023-06-07 06:02:21 INFO: DOCUMENT TRANSFORMER\n"
     ]
    },
    {
     "name": "stderr",
     "output_type": "stream",
     "text": [
      "c:\\Users\\c10nGp4\\anaconda3\\envs\\imbalance-multi-classification\\lib\\site-packages\\sklearn\\svm\\_base.py:1244: ConvergenceWarning: Liblinear failed to converge, increase the number of iterations.\n",
      "  warnings.warn(\n"
     ]
    },
    {
     "name": "stdout",
     "output_type": "stream",
     "text": [
      "2023-06-07 06:02:24 INFO: POS REMOVAL\n",
      "2023-06-07 06:02:24 INFO: DOCUMENT TRANSFORMER\n",
      "2023-06-07 06:02:24 INFO: POS REMOVAL\n",
      "2023-06-07 06:02:24 INFO: DOCUMENT TRANSFORMER\n"
     ]
    },
    {
     "name": "stderr",
     "output_type": "stream",
     "text": [
      "c:\\Users\\c10nGp4\\anaconda3\\envs\\imbalance-multi-classification\\lib\\site-packages\\sklearn\\svm\\_base.py:1244: ConvergenceWarning: Liblinear failed to converge, increase the number of iterations.\n",
      "  warnings.warn(\n"
     ]
    },
    {
     "name": "stdout",
     "output_type": "stream",
     "text": [
      "2023-06-07 06:02:27 INFO: POS REMOVAL\n",
      "2023-06-07 06:02:27 INFO: DOCUMENT TRANSFORMER\n",
      "2023-06-07 06:02:27 INFO: POS REMOVAL\n",
      "2023-06-07 06:02:27 INFO: DOCUMENT TRANSFORMER\n"
     ]
    },
    {
     "name": "stderr",
     "output_type": "stream",
     "text": [
      "c:\\Users\\c10nGp4\\anaconda3\\envs\\imbalance-multi-classification\\lib\\site-packages\\sklearn\\svm\\_base.py:1244: ConvergenceWarning: Liblinear failed to converge, increase the number of iterations.\n",
      "  warnings.warn(\n"
     ]
    },
    {
     "name": "stdout",
     "output_type": "stream",
     "text": [
      "2023-06-07 06:02:30 INFO: POS REMOVAL\n",
      "2023-06-07 06:02:30 INFO: DOCUMENT TRANSFORMER\n",
      "2023-06-07 06:02:30 INFO: POS REMOVAL\n",
      "2023-06-07 06:02:31 INFO: DOCUMENT TRANSFORMER\n"
     ]
    },
    {
     "name": "stderr",
     "output_type": "stream",
     "text": [
      "c:\\Users\\c10nGp4\\anaconda3\\envs\\imbalance-multi-classification\\lib\\site-packages\\sklearn\\svm\\_base.py:1244: ConvergenceWarning: Liblinear failed to converge, increase the number of iterations.\n",
      "  warnings.warn(\n"
     ]
    },
    {
     "name": "stdout",
     "output_type": "stream",
     "text": [
      "2023-06-07 06:02:34 INFO: POS REMOVAL\n",
      "2023-06-07 06:02:34 INFO: DOCUMENT TRANSFORMER\n",
      "2023-06-07 06:02:34 INFO: POS REMOVAL\n",
      "2023-06-07 06:02:34 INFO: DOCUMENT TRANSFORMER\n"
     ]
    },
    {
     "name": "stderr",
     "output_type": "stream",
     "text": [
      "c:\\Users\\c10nGp4\\anaconda3\\envs\\imbalance-multi-classification\\lib\\site-packages\\sklearn\\svm\\_base.py:1244: ConvergenceWarning: Liblinear failed to converge, increase the number of iterations.\n",
      "  warnings.warn(\n"
     ]
    },
    {
     "name": "stdout",
     "output_type": "stream",
     "text": [
      "2023-06-07 06:02:37 INFO: POS REMOVAL\n",
      "2023-06-07 06:02:37 INFO: DOCUMENT TRANSFORMER\n",
      "2023-06-07 06:02:37 INFO: POS REMOVAL\n",
      "2023-06-07 06:02:37 INFO: DOCUMENT TRANSFORMER\n"
     ]
    },
    {
     "name": "stderr",
     "output_type": "stream",
     "text": [
      "c:\\Users\\c10nGp4\\anaconda3\\envs\\imbalance-multi-classification\\lib\\site-packages\\sklearn\\svm\\_base.py:1244: ConvergenceWarning: Liblinear failed to converge, increase the number of iterations.\n",
      "  warnings.warn(\n"
     ]
    },
    {
     "name": "stdout",
     "output_type": "stream",
     "text": [
      "2023-06-07 06:02:40 INFO: POS REMOVAL\n",
      "2023-06-07 06:02:40 INFO: DOCUMENT TRANSFORMER\n",
      "2023-06-07 06:02:40 INFO: POS REMOVAL\n",
      "2023-06-07 06:02:41 INFO: DOCUMENT TRANSFORMER\n"
     ]
    },
    {
     "name": "stderr",
     "output_type": "stream",
     "text": [
      "c:\\Users\\c10nGp4\\anaconda3\\envs\\imbalance-multi-classification\\lib\\site-packages\\sklearn\\svm\\_base.py:1244: ConvergenceWarning: Liblinear failed to converge, increase the number of iterations.\n",
      "  warnings.warn(\n"
     ]
    },
    {
     "name": "stdout",
     "output_type": "stream",
     "text": [
      "2023-06-07 06:02:45 INFO: POS REMOVAL\n",
      "2023-06-07 06:02:45 INFO: DOCUMENT TRANSFORMER\n",
      "2023-06-07 06:02:45 INFO: POS REMOVAL\n",
      "2023-06-07 06:02:45 INFO: DOCUMENT TRANSFORMER\n"
     ]
    },
    {
     "name": "stderr",
     "output_type": "stream",
     "text": [
      "c:\\Users\\c10nGp4\\anaconda3\\envs\\imbalance-multi-classification\\lib\\site-packages\\sklearn\\svm\\_base.py:1244: ConvergenceWarning: Liblinear failed to converge, increase the number of iterations.\n",
      "  warnings.warn(\n"
     ]
    },
    {
     "name": "stdout",
     "output_type": "stream",
     "text": [
      "2023-06-07 06:02:50 INFO: POS REMOVAL\n",
      "2023-06-07 06:02:50 INFO: DOCUMENT TRANSFORMER\n",
      "2023-06-07 06:02:50 INFO: POS REMOVAL\n",
      "2023-06-07 06:02:50 INFO: DOCUMENT TRANSFORMER\n"
     ]
    },
    {
     "name": "stderr",
     "output_type": "stream",
     "text": [
      "c:\\Users\\c10nGp4\\anaconda3\\envs\\imbalance-multi-classification\\lib\\site-packages\\sklearn\\svm\\_base.py:1244: ConvergenceWarning: Liblinear failed to converge, increase the number of iterations.\n",
      "  warnings.warn(\n"
     ]
    },
    {
     "name": "stdout",
     "output_type": "stream",
     "text": [
      "2023-06-07 06:02:54 INFO: POS REMOVAL\n",
      "2023-06-07 06:02:54 INFO: DOCUMENT TRANSFORMER\n",
      "2023-06-07 06:02:55 INFO: POS REMOVAL\n",
      "2023-06-07 06:02:55 INFO: DOCUMENT TRANSFORMER\n"
     ]
    },
    {
     "name": "stderr",
     "output_type": "stream",
     "text": [
      "c:\\Users\\c10nGp4\\anaconda3\\envs\\imbalance-multi-classification\\lib\\site-packages\\sklearn\\svm\\_base.py:1244: ConvergenceWarning: Liblinear failed to converge, increase the number of iterations.\n",
      "  warnings.warn(\n"
     ]
    },
    {
     "name": "stdout",
     "output_type": "stream",
     "text": [
      "2023-06-07 06:02:59 INFO: POS REMOVAL\n",
      "2023-06-07 06:02:59 INFO: DOCUMENT TRANSFORMER\n",
      "2023-06-07 06:02:59 INFO: POS REMOVAL\n",
      "2023-06-07 06:02:59 INFO: DOCUMENT TRANSFORMER\n"
     ]
    },
    {
     "name": "stderr",
     "output_type": "stream",
     "text": [
      "c:\\Users\\c10nGp4\\anaconda3\\envs\\imbalance-multi-classification\\lib\\site-packages\\sklearn\\svm\\_base.py:1244: ConvergenceWarning: Liblinear failed to converge, increase the number of iterations.\n",
      "  warnings.warn(\n"
     ]
    },
    {
     "name": "stdout",
     "output_type": "stream",
     "text": [
      "2023-06-07 06:03:04 INFO: POS REMOVAL\n",
      "2023-06-07 06:03:04 INFO: DOCUMENT TRANSFORMER\n",
      "2023-06-07 06:03:04 INFO: POS REMOVAL\n",
      "2023-06-07 06:03:04 INFO: DOCUMENT TRANSFORMER\n"
     ]
    },
    {
     "name": "stderr",
     "output_type": "stream",
     "text": [
      "c:\\Users\\c10nGp4\\anaconda3\\envs\\imbalance-multi-classification\\lib\\site-packages\\sklearn\\svm\\_base.py:1244: ConvergenceWarning: Liblinear failed to converge, increase the number of iterations.\n",
      "  warnings.warn(\n"
     ]
    },
    {
     "name": "stdout",
     "output_type": "stream",
     "text": [
      "2023-06-07 06:03:08 INFO: POS REMOVAL\n",
      "2023-06-07 06:03:08 INFO: DOCUMENT TRANSFORMER\n",
      "2023-06-07 06:03:09 INFO: POS REMOVAL\n",
      "2023-06-07 06:03:09 INFO: DOCUMENT TRANSFORMER\n"
     ]
    },
    {
     "name": "stderr",
     "output_type": "stream",
     "text": [
      "c:\\Users\\c10nGp4\\anaconda3\\envs\\imbalance-multi-classification\\lib\\site-packages\\sklearn\\svm\\_base.py:1244: ConvergenceWarning: Liblinear failed to converge, increase the number of iterations.\n",
      "  warnings.warn(\n"
     ]
    },
    {
     "name": "stdout",
     "output_type": "stream",
     "text": [
      "2023-06-07 06:03:13 INFO: POS REMOVAL\n",
      "2023-06-07 06:03:13 INFO: DOCUMENT TRANSFORMER\n",
      "2023-06-07 06:03:13 INFO: POS REMOVAL\n",
      "2023-06-07 06:03:13 INFO: DOCUMENT TRANSFORMER\n"
     ]
    },
    {
     "name": "stderr",
     "output_type": "stream",
     "text": [
      "c:\\Users\\c10nGp4\\anaconda3\\envs\\imbalance-multi-classification\\lib\\site-packages\\sklearn\\svm\\_base.py:1244: ConvergenceWarning: Liblinear failed to converge, increase the number of iterations.\n",
      "  warnings.warn(\n"
     ]
    },
    {
     "name": "stdout",
     "output_type": "stream",
     "text": [
      "2023-06-07 06:03:18 INFO: POS REMOVAL\n",
      "2023-06-07 06:03:18 INFO: DOCUMENT TRANSFORMER\n",
      "2023-06-07 06:03:18 INFO: POS REMOVAL\n",
      "2023-06-07 06:03:18 INFO: DOCUMENT TRANSFORMER\n"
     ]
    },
    {
     "name": "stderr",
     "output_type": "stream",
     "text": [
      "c:\\Users\\c10nGp4\\anaconda3\\envs\\imbalance-multi-classification\\lib\\site-packages\\sklearn\\svm\\_base.py:1244: ConvergenceWarning: Liblinear failed to converge, increase the number of iterations.\n",
      "  warnings.warn(\n"
     ]
    },
    {
     "name": "stdout",
     "output_type": "stream",
     "text": [
      "2023-06-07 06:03:22 INFO: POS REMOVAL\n",
      "2023-06-07 06:03:22 INFO: DOCUMENT TRANSFORMER\n",
      "2023-06-07 06:03:22 INFO: POS REMOVAL\n",
      "2023-06-07 06:03:23 INFO: DOCUMENT TRANSFORMER\n"
     ]
    },
    {
     "name": "stderr",
     "output_type": "stream",
     "text": [
      "c:\\Users\\c10nGp4\\anaconda3\\envs\\imbalance-multi-classification\\lib\\site-packages\\sklearn\\svm\\_base.py:1244: ConvergenceWarning: Liblinear failed to converge, increase the number of iterations.\n",
      "  warnings.warn(\n"
     ]
    },
    {
     "name": "stdout",
     "output_type": "stream",
     "text": [
      "2023-06-07 06:03:27 INFO: POS REMOVAL\n",
      "2023-06-07 06:03:27 INFO: DOCUMENT TRANSFORMER\n",
      "2023-06-07 06:03:27 INFO: POS REMOVAL\n",
      "2023-06-07 06:03:27 INFO: DOCUMENT TRANSFORMER\n"
     ]
    },
    {
     "name": "stderr",
     "output_type": "stream",
     "text": [
      "c:\\Users\\c10nGp4\\anaconda3\\envs\\imbalance-multi-classification\\lib\\site-packages\\sklearn\\svm\\_base.py:1244: ConvergenceWarning: Liblinear failed to converge, increase the number of iterations.\n",
      "  warnings.warn(\n"
     ]
    },
    {
     "name": "stdout",
     "output_type": "stream",
     "text": [
      "2023-06-07 06:03:32 INFO: POS REMOVAL\n",
      "2023-06-07 06:03:32 INFO: DOCUMENT TRANSFORMER\n",
      "2023-06-07 06:03:32 INFO: POS REMOVAL\n",
      "2023-06-07 06:03:32 INFO: DOCUMENT TRANSFORMER\n"
     ]
    },
    {
     "name": "stderr",
     "output_type": "stream",
     "text": [
      "c:\\Users\\c10nGp4\\anaconda3\\envs\\imbalance-multi-classification\\lib\\site-packages\\sklearn\\svm\\_base.py:1244: ConvergenceWarning: Liblinear failed to converge, increase the number of iterations.\n",
      "  warnings.warn(\n"
     ]
    },
    {
     "name": "stdout",
     "output_type": "stream",
     "text": [
      "2023-06-07 06:03:37 INFO: POS REMOVAL\n",
      "2023-06-07 06:03:37 INFO: DOCUMENT TRANSFORMER\n",
      "2023-06-07 06:03:37 INFO: POS REMOVAL\n",
      "2023-06-07 06:03:37 INFO: DOCUMENT TRANSFORMER\n"
     ]
    },
    {
     "name": "stderr",
     "output_type": "stream",
     "text": [
      "c:\\Users\\c10nGp4\\anaconda3\\envs\\imbalance-multi-classification\\lib\\site-packages\\sklearn\\svm\\_base.py:1244: ConvergenceWarning: Liblinear failed to converge, increase the number of iterations.\n",
      "  warnings.warn(\n"
     ]
    },
    {
     "name": "stdout",
     "output_type": "stream",
     "text": [
      "2023-06-07 06:03:41 INFO: POS REMOVAL\n",
      "2023-06-07 06:03:41 INFO: DOCUMENT TRANSFORMER\n",
      "2023-06-07 06:03:41 INFO: POS REMOVAL\n",
      "2023-06-07 06:03:41 INFO: DOCUMENT TRANSFORMER\n"
     ]
    },
    {
     "name": "stderr",
     "output_type": "stream",
     "text": [
      "c:\\Users\\c10nGp4\\anaconda3\\envs\\imbalance-multi-classification\\lib\\site-packages\\sklearn\\svm\\_base.py:1244: ConvergenceWarning: Liblinear failed to converge, increase the number of iterations.\n",
      "  warnings.warn(\n"
     ]
    },
    {
     "name": "stdout",
     "output_type": "stream",
     "text": [
      "2023-06-07 06:03:45 INFO: POS REMOVAL\n",
      "2023-06-07 06:03:45 INFO: DOCUMENT TRANSFORMER\n",
      "2023-06-07 06:03:45 INFO: POS REMOVAL\n",
      "2023-06-07 06:03:46 INFO: DOCUMENT TRANSFORMER\n"
     ]
    },
    {
     "name": "stderr",
     "output_type": "stream",
     "text": [
      "c:\\Users\\c10nGp4\\anaconda3\\envs\\imbalance-multi-classification\\lib\\site-packages\\sklearn\\svm\\_base.py:1244: ConvergenceWarning: Liblinear failed to converge, increase the number of iterations.\n",
      "  warnings.warn(\n"
     ]
    },
    {
     "name": "stdout",
     "output_type": "stream",
     "text": [
      "2023-06-07 06:03:52 INFO: POS REMOVAL\n",
      "2023-06-07 06:03:52 INFO: DOCUMENT TRANSFORMER\n",
      "2023-06-07 06:03:52 INFO: POS REMOVAL\n",
      "2023-06-07 06:03:52 INFO: DOCUMENT TRANSFORMER\n"
     ]
    },
    {
     "name": "stderr",
     "output_type": "stream",
     "text": [
      "c:\\Users\\c10nGp4\\anaconda3\\envs\\imbalance-multi-classification\\lib\\site-packages\\sklearn\\svm\\_base.py:1244: ConvergenceWarning: Liblinear failed to converge, increase the number of iterations.\n",
      "  warnings.warn(\n"
     ]
    },
    {
     "name": "stdout",
     "output_type": "stream",
     "text": [
      "2023-06-07 06:03:59 INFO: POS REMOVAL\n",
      "2023-06-07 06:03:59 INFO: DOCUMENT TRANSFORMER\n",
      "2023-06-07 06:03:59 INFO: POS REMOVAL\n",
      "2023-06-07 06:03:59 INFO: DOCUMENT TRANSFORMER\n"
     ]
    },
    {
     "name": "stderr",
     "output_type": "stream",
     "text": [
      "c:\\Users\\c10nGp4\\anaconda3\\envs\\imbalance-multi-classification\\lib\\site-packages\\sklearn\\svm\\_base.py:1244: ConvergenceWarning: Liblinear failed to converge, increase the number of iterations.\n",
      "  warnings.warn(\n"
     ]
    },
    {
     "name": "stdout",
     "output_type": "stream",
     "text": [
      "2023-06-07 06:04:05 INFO: POS REMOVAL\n",
      "2023-06-07 06:04:05 INFO: DOCUMENT TRANSFORMER\n",
      "2023-06-07 06:04:06 INFO: POS REMOVAL\n",
      "2023-06-07 06:04:06 INFO: DOCUMENT TRANSFORMER\n"
     ]
    },
    {
     "name": "stderr",
     "output_type": "stream",
     "text": [
      "c:\\Users\\c10nGp4\\anaconda3\\envs\\imbalance-multi-classification\\lib\\site-packages\\sklearn\\svm\\_base.py:1244: ConvergenceWarning: Liblinear failed to converge, increase the number of iterations.\n",
      "  warnings.warn(\n"
     ]
    },
    {
     "name": "stdout",
     "output_type": "stream",
     "text": [
      "2023-06-07 06:04:12 INFO: POS REMOVAL\n",
      "2023-06-07 06:04:12 INFO: DOCUMENT TRANSFORMER\n",
      "2023-06-07 06:04:12 INFO: POS REMOVAL\n",
      "2023-06-07 06:04:12 INFO: DOCUMENT TRANSFORMER\n"
     ]
    },
    {
     "name": "stderr",
     "output_type": "stream",
     "text": [
      "c:\\Users\\c10nGp4\\anaconda3\\envs\\imbalance-multi-classification\\lib\\site-packages\\sklearn\\svm\\_base.py:1244: ConvergenceWarning: Liblinear failed to converge, increase the number of iterations.\n",
      "  warnings.warn(\n"
     ]
    },
    {
     "name": "stdout",
     "output_type": "stream",
     "text": [
      "2023-06-07 06:04:18 INFO: POS REMOVAL\n",
      "2023-06-07 06:04:18 INFO: DOCUMENT TRANSFORMER\n",
      "2023-06-07 06:04:19 INFO: POS REMOVAL\n",
      "2023-06-07 06:04:19 INFO: DOCUMENT TRANSFORMER\n"
     ]
    },
    {
     "name": "stderr",
     "output_type": "stream",
     "text": [
      "c:\\Users\\c10nGp4\\anaconda3\\envs\\imbalance-multi-classification\\lib\\site-packages\\sklearn\\svm\\_base.py:1244: ConvergenceWarning: Liblinear failed to converge, increase the number of iterations.\n",
      "  warnings.warn(\n"
     ]
    },
    {
     "name": "stdout",
     "output_type": "stream",
     "text": [
      "2023-06-07 06:04:25 INFO: POS REMOVAL\n",
      "2023-06-07 06:04:25 INFO: DOCUMENT TRANSFORMER\n",
      "2023-06-07 06:04:25 INFO: POS REMOVAL\n",
      "2023-06-07 06:04:25 INFO: DOCUMENT TRANSFORMER\n"
     ]
    },
    {
     "name": "stderr",
     "output_type": "stream",
     "text": [
      "c:\\Users\\c10nGp4\\anaconda3\\envs\\imbalance-multi-classification\\lib\\site-packages\\sklearn\\svm\\_base.py:1244: ConvergenceWarning: Liblinear failed to converge, increase the number of iterations.\n",
      "  warnings.warn(\n"
     ]
    },
    {
     "name": "stdout",
     "output_type": "stream",
     "text": [
      "2023-06-07 06:04:29 INFO: POS REMOVAL\n",
      "2023-06-07 06:04:29 INFO: DOCUMENT TRANSFORMER\n",
      "2023-06-07 06:04:30 INFO: POS REMOVAL\n",
      "2023-06-07 06:04:30 INFO: DOCUMENT TRANSFORMER\n"
     ]
    },
    {
     "name": "stderr",
     "output_type": "stream",
     "text": [
      "c:\\Users\\c10nGp4\\anaconda3\\envs\\imbalance-multi-classification\\lib\\site-packages\\sklearn\\svm\\_base.py:1244: ConvergenceWarning: Liblinear failed to converge, increase the number of iterations.\n",
      "  warnings.warn(\n"
     ]
    },
    {
     "name": "stdout",
     "output_type": "stream",
     "text": [
      "2023-06-07 06:04:34 INFO: POS REMOVAL\n",
      "2023-06-07 06:04:34 INFO: DOCUMENT TRANSFORMER\n",
      "2023-06-07 06:04:34 INFO: POS REMOVAL\n",
      "2023-06-07 06:04:34 INFO: DOCUMENT TRANSFORMER\n"
     ]
    },
    {
     "name": "stderr",
     "output_type": "stream",
     "text": [
      "c:\\Users\\c10nGp4\\anaconda3\\envs\\imbalance-multi-classification\\lib\\site-packages\\sklearn\\svm\\_base.py:1244: ConvergenceWarning: Liblinear failed to converge, increase the number of iterations.\n",
      "  warnings.warn(\n"
     ]
    },
    {
     "name": "stdout",
     "output_type": "stream",
     "text": [
      "2023-06-07 06:04:37 INFO: POS REMOVAL\n",
      "2023-06-07 06:04:37 INFO: DOCUMENT TRANSFORMER\n",
      "2023-06-07 06:04:37 INFO: POS REMOVAL\n",
      "2023-06-07 06:04:38 INFO: DOCUMENT TRANSFORMER\n"
     ]
    },
    {
     "name": "stderr",
     "output_type": "stream",
     "text": [
      "c:\\Users\\c10nGp4\\anaconda3\\envs\\imbalance-multi-classification\\lib\\site-packages\\sklearn\\svm\\_base.py:1244: ConvergenceWarning: Liblinear failed to converge, increase the number of iterations.\n",
      "  warnings.warn(\n"
     ]
    },
    {
     "name": "stdout",
     "output_type": "stream",
     "text": [
      "2023-06-07 06:04:41 INFO: POS REMOVAL\n",
      "2023-06-07 06:04:41 INFO: DOCUMENT TRANSFORMER\n",
      "2023-06-07 06:04:42 INFO: POS REMOVAL\n",
      "2023-06-07 06:04:42 INFO: DOCUMENT TRANSFORMER\n"
     ]
    },
    {
     "name": "stderr",
     "output_type": "stream",
     "text": [
      "c:\\Users\\c10nGp4\\anaconda3\\envs\\imbalance-multi-classification\\lib\\site-packages\\sklearn\\svm\\_base.py:1244: ConvergenceWarning: Liblinear failed to converge, increase the number of iterations.\n",
      "  warnings.warn(\n"
     ]
    },
    {
     "name": "stdout",
     "output_type": "stream",
     "text": [
      "2023-06-07 06:04:45 INFO: POS REMOVAL\n",
      "2023-06-07 06:04:46 INFO: DOCUMENT TRANSFORMER\n",
      "2023-06-07 06:04:46 INFO: POS REMOVAL\n",
      "2023-06-07 06:04:46 INFO: DOCUMENT TRANSFORMER\n"
     ]
    },
    {
     "name": "stderr",
     "output_type": "stream",
     "text": [
      "c:\\Users\\c10nGp4\\anaconda3\\envs\\imbalance-multi-classification\\lib\\site-packages\\sklearn\\svm\\_base.py:1244: ConvergenceWarning: Liblinear failed to converge, increase the number of iterations.\n",
      "  warnings.warn(\n"
     ]
    },
    {
     "name": "stdout",
     "output_type": "stream",
     "text": [
      "2023-06-07 06:04:49 INFO: POS REMOVAL\n",
      "2023-06-07 06:04:49 INFO: DOCUMENT TRANSFORMER\n",
      "2023-06-07 06:04:49 INFO: POS REMOVAL\n",
      "2023-06-07 06:04:50 INFO: DOCUMENT TRANSFORMER\n"
     ]
    },
    {
     "name": "stderr",
     "output_type": "stream",
     "text": [
      "c:\\Users\\c10nGp4\\anaconda3\\envs\\imbalance-multi-classification\\lib\\site-packages\\sklearn\\svm\\_base.py:1244: ConvergenceWarning: Liblinear failed to converge, increase the number of iterations.\n",
      "  warnings.warn(\n"
     ]
    },
    {
     "name": "stdout",
     "output_type": "stream",
     "text": [
      "2023-06-07 06:04:53 INFO: POS REMOVAL\n",
      "2023-06-07 06:04:53 INFO: DOCUMENT TRANSFORMER\n",
      "2023-06-07 06:04:53 INFO: POS REMOVAL\n",
      "2023-06-07 06:04:53 INFO: DOCUMENT TRANSFORMER\n"
     ]
    },
    {
     "name": "stderr",
     "output_type": "stream",
     "text": [
      "c:\\Users\\c10nGp4\\anaconda3\\envs\\imbalance-multi-classification\\lib\\site-packages\\sklearn\\svm\\_base.py:1244: ConvergenceWarning: Liblinear failed to converge, increase the number of iterations.\n",
      "  warnings.warn(\n"
     ]
    },
    {
     "name": "stdout",
     "output_type": "stream",
     "text": [
      "2023-06-07 06:04:58 INFO: POS REMOVAL\n",
      "2023-06-07 06:04:58 INFO: DOCUMENT TRANSFORMER\n",
      "2023-06-07 06:04:58 INFO: POS REMOVAL\n",
      "2023-06-07 06:04:58 INFO: DOCUMENT TRANSFORMER\n"
     ]
    },
    {
     "name": "stderr",
     "output_type": "stream",
     "text": [
      "c:\\Users\\c10nGp4\\anaconda3\\envs\\imbalance-multi-classification\\lib\\site-packages\\sklearn\\svm\\_base.py:1244: ConvergenceWarning: Liblinear failed to converge, increase the number of iterations.\n",
      "  warnings.warn(\n"
     ]
    },
    {
     "name": "stdout",
     "output_type": "stream",
     "text": [
      "2023-06-07 06:05:02 INFO: POS REMOVAL\n",
      "2023-06-07 06:05:02 INFO: DOCUMENT TRANSFORMER\n",
      "2023-06-07 06:05:02 INFO: POS REMOVAL\n",
      "2023-06-07 06:05:02 INFO: DOCUMENT TRANSFORMER\n"
     ]
    },
    {
     "name": "stderr",
     "output_type": "stream",
     "text": [
      "c:\\Users\\c10nGp4\\anaconda3\\envs\\imbalance-multi-classification\\lib\\site-packages\\sklearn\\svm\\_base.py:1244: ConvergenceWarning: Liblinear failed to converge, increase the number of iterations.\n",
      "  warnings.warn(\n"
     ]
    },
    {
     "name": "stdout",
     "output_type": "stream",
     "text": [
      "2023-06-07 06:05:05 INFO: POS REMOVAL\n",
      "2023-06-07 06:05:05 INFO: DOCUMENT TRANSFORMER\n",
      "2023-06-07 06:05:05 INFO: POS REMOVAL\n",
      "2023-06-07 06:05:06 INFO: DOCUMENT TRANSFORMER\n"
     ]
    },
    {
     "name": "stderr",
     "output_type": "stream",
     "text": [
      "c:\\Users\\c10nGp4\\anaconda3\\envs\\imbalance-multi-classification\\lib\\site-packages\\sklearn\\svm\\_base.py:1244: ConvergenceWarning: Liblinear failed to converge, increase the number of iterations.\n",
      "  warnings.warn(\n"
     ]
    },
    {
     "name": "stdout",
     "output_type": "stream",
     "text": [
      "2023-06-07 06:05:08 INFO: POS REMOVAL\n",
      "2023-06-07 06:05:08 INFO: DOCUMENT TRANSFORMER\n",
      "2023-06-07 06:05:09 INFO: POS REMOVAL\n",
      "2023-06-07 06:05:09 INFO: DOCUMENT TRANSFORMER\n"
     ]
    },
    {
     "name": "stderr",
     "output_type": "stream",
     "text": [
      "c:\\Users\\c10nGp4\\anaconda3\\envs\\imbalance-multi-classification\\lib\\site-packages\\sklearn\\svm\\_base.py:1244: ConvergenceWarning: Liblinear failed to converge, increase the number of iterations.\n",
      "  warnings.warn(\n"
     ]
    },
    {
     "name": "stdout",
     "output_type": "stream",
     "text": [
      "2023-06-07 06:05:12 INFO: POS REMOVAL\n",
      "2023-06-07 06:05:12 INFO: DOCUMENT TRANSFORMER\n",
      "2023-06-07 06:05:12 INFO: POS REMOVAL\n",
      "2023-06-07 06:05:12 INFO: DOCUMENT TRANSFORMER\n"
     ]
    },
    {
     "name": "stderr",
     "output_type": "stream",
     "text": [
      "c:\\Users\\c10nGp4\\anaconda3\\envs\\imbalance-multi-classification\\lib\\site-packages\\sklearn\\svm\\_base.py:1244: ConvergenceWarning: Liblinear failed to converge, increase the number of iterations.\n",
      "  warnings.warn(\n"
     ]
    },
    {
     "name": "stdout",
     "output_type": "stream",
     "text": [
      "2023-06-07 06:05:16 INFO: POS REMOVAL\n",
      "2023-06-07 06:05:16 INFO: DOCUMENT TRANSFORMER\n",
      "2023-06-07 06:05:16 INFO: POS REMOVAL\n",
      "2023-06-07 06:05:16 INFO: DOCUMENT TRANSFORMER\n"
     ]
    },
    {
     "name": "stderr",
     "output_type": "stream",
     "text": [
      "c:\\Users\\c10nGp4\\anaconda3\\envs\\imbalance-multi-classification\\lib\\site-packages\\sklearn\\svm\\_base.py:1244: ConvergenceWarning: Liblinear failed to converge, increase the number of iterations.\n",
      "  warnings.warn(\n"
     ]
    },
    {
     "name": "stdout",
     "output_type": "stream",
     "text": [
      "2023-06-07 06:05:19 INFO: POS REMOVAL\n",
      "2023-06-07 06:05:19 INFO: DOCUMENT TRANSFORMER\n",
      "2023-06-07 06:05:19 INFO: POS REMOVAL\n",
      "2023-06-07 06:05:19 INFO: DOCUMENT TRANSFORMER\n"
     ]
    },
    {
     "name": "stderr",
     "output_type": "stream",
     "text": [
      "c:\\Users\\c10nGp4\\anaconda3\\envs\\imbalance-multi-classification\\lib\\site-packages\\sklearn\\svm\\_base.py:1244: ConvergenceWarning: Liblinear failed to converge, increase the number of iterations.\n",
      "  warnings.warn(\n"
     ]
    },
    {
     "name": "stdout",
     "output_type": "stream",
     "text": [
      "2023-06-07 06:05:22 INFO: POS REMOVAL\n",
      "2023-06-07 06:05:22 INFO: DOCUMENT TRANSFORMER\n",
      "2023-06-07 06:05:22 INFO: POS REMOVAL\n",
      "2023-06-07 06:05:22 INFO: DOCUMENT TRANSFORMER\n"
     ]
    },
    {
     "name": "stderr",
     "output_type": "stream",
     "text": [
      "c:\\Users\\c10nGp4\\anaconda3\\envs\\imbalance-multi-classification\\lib\\site-packages\\sklearn\\svm\\_base.py:1244: ConvergenceWarning: Liblinear failed to converge, increase the number of iterations.\n",
      "  warnings.warn(\n"
     ]
    },
    {
     "name": "stdout",
     "output_type": "stream",
     "text": [
      "2023-06-07 06:05:25 INFO: POS REMOVAL\n",
      "2023-06-07 06:05:25 INFO: DOCUMENT TRANSFORMER\n",
      "2023-06-07 06:05:25 INFO: POS REMOVAL\n",
      "2023-06-07 06:05:25 INFO: DOCUMENT TRANSFORMER\n"
     ]
    },
    {
     "name": "stderr",
     "output_type": "stream",
     "text": [
      "c:\\Users\\c10nGp4\\anaconda3\\envs\\imbalance-multi-classification\\lib\\site-packages\\sklearn\\svm\\_base.py:1244: ConvergenceWarning: Liblinear failed to converge, increase the number of iterations.\n",
      "  warnings.warn(\n"
     ]
    },
    {
     "name": "stdout",
     "output_type": "stream",
     "text": [
      "2023-06-07 06:05:28 INFO: POS REMOVAL\n",
      "2023-06-07 06:05:28 INFO: DOCUMENT TRANSFORMER\n",
      "2023-06-07 06:05:28 INFO: POS REMOVAL\n",
      "2023-06-07 06:05:28 INFO: DOCUMENT TRANSFORMER\n"
     ]
    },
    {
     "name": "stderr",
     "output_type": "stream",
     "text": [
      "c:\\Users\\c10nGp4\\anaconda3\\envs\\imbalance-multi-classification\\lib\\site-packages\\sklearn\\svm\\_base.py:1244: ConvergenceWarning: Liblinear failed to converge, increase the number of iterations.\n",
      "  warnings.warn(\n"
     ]
    },
    {
     "name": "stdout",
     "output_type": "stream",
     "text": [
      "2023-06-07 06:05:31 INFO: POS REMOVAL\n",
      "2023-06-07 06:05:31 INFO: DOCUMENT TRANSFORMER\n",
      "2023-06-07 06:05:31 INFO: POS REMOVAL\n",
      "2023-06-07 06:05:31 INFO: DOCUMENT TRANSFORMER\n"
     ]
    },
    {
     "name": "stderr",
     "output_type": "stream",
     "text": [
      "c:\\Users\\c10nGp4\\anaconda3\\envs\\imbalance-multi-classification\\lib\\site-packages\\sklearn\\svm\\_base.py:1244: ConvergenceWarning: Liblinear failed to converge, increase the number of iterations.\n",
      "  warnings.warn(\n"
     ]
    },
    {
     "name": "stdout",
     "output_type": "stream",
     "text": [
      "2023-06-07 06:05:34 INFO: POS REMOVAL\n",
      "2023-06-07 06:05:34 INFO: DOCUMENT TRANSFORMER\n",
      "2023-06-07 06:05:34 INFO: POS REMOVAL\n",
      "2023-06-07 06:05:34 INFO: DOCUMENT TRANSFORMER\n"
     ]
    },
    {
     "name": "stderr",
     "output_type": "stream",
     "text": [
      "c:\\Users\\c10nGp4\\anaconda3\\envs\\imbalance-multi-classification\\lib\\site-packages\\sklearn\\svm\\_base.py:1244: ConvergenceWarning: Liblinear failed to converge, increase the number of iterations.\n",
      "  warnings.warn(\n"
     ]
    },
    {
     "name": "stdout",
     "output_type": "stream",
     "text": [
      "2023-06-07 06:05:37 INFO: POS REMOVAL\n",
      "2023-06-07 06:05:37 INFO: DOCUMENT TRANSFORMER\n",
      "2023-06-07 06:05:37 INFO: POS REMOVAL\n",
      "2023-06-07 06:05:37 INFO: DOCUMENT TRANSFORMER\n"
     ]
    },
    {
     "name": "stderr",
     "output_type": "stream",
     "text": [
      "c:\\Users\\c10nGp4\\anaconda3\\envs\\imbalance-multi-classification\\lib\\site-packages\\sklearn\\svm\\_base.py:1244: ConvergenceWarning: Liblinear failed to converge, increase the number of iterations.\n",
      "  warnings.warn(\n"
     ]
    },
    {
     "name": "stdout",
     "output_type": "stream",
     "text": [
      "2023-06-07 06:05:40 INFO: POS REMOVAL\n",
      "2023-06-07 06:05:40 INFO: DOCUMENT TRANSFORMER\n",
      "2023-06-07 06:05:40 INFO: POS REMOVAL\n",
      "2023-06-07 06:05:40 INFO: DOCUMENT TRANSFORMER\n"
     ]
    },
    {
     "name": "stderr",
     "output_type": "stream",
     "text": [
      "c:\\Users\\c10nGp4\\anaconda3\\envs\\imbalance-multi-classification\\lib\\site-packages\\sklearn\\svm\\_base.py:1244: ConvergenceWarning: Liblinear failed to converge, increase the number of iterations.\n",
      "  warnings.warn(\n"
     ]
    },
    {
     "name": "stdout",
     "output_type": "stream",
     "text": [
      "2023-06-07 06:05:44 INFO: POS REMOVAL\n",
      "2023-06-07 06:05:44 INFO: DOCUMENT TRANSFORMER\n",
      "2023-06-07 06:05:44 INFO: POS REMOVAL\n",
      "2023-06-07 06:05:44 INFO: DOCUMENT TRANSFORMER\n"
     ]
    },
    {
     "name": "stderr",
     "output_type": "stream",
     "text": [
      "c:\\Users\\c10nGp4\\anaconda3\\envs\\imbalance-multi-classification\\lib\\site-packages\\sklearn\\svm\\_base.py:1244: ConvergenceWarning: Liblinear failed to converge, increase the number of iterations.\n",
      "  warnings.warn(\n"
     ]
    },
    {
     "name": "stdout",
     "output_type": "stream",
     "text": [
      "2023-06-07 06:05:47 INFO: POS REMOVAL\n",
      "2023-06-07 06:05:47 INFO: DOCUMENT TRANSFORMER\n",
      "2023-06-07 06:05:47 INFO: POS REMOVAL\n",
      "2023-06-07 06:05:47 INFO: DOCUMENT TRANSFORMER\n"
     ]
    },
    {
     "name": "stderr",
     "output_type": "stream",
     "text": [
      "c:\\Users\\c10nGp4\\anaconda3\\envs\\imbalance-multi-classification\\lib\\site-packages\\sklearn\\svm\\_base.py:1244: ConvergenceWarning: Liblinear failed to converge, increase the number of iterations.\n",
      "  warnings.warn(\n"
     ]
    },
    {
     "name": "stdout",
     "output_type": "stream",
     "text": [
      "2023-06-07 06:05:51 INFO: POS REMOVAL\n",
      "2023-06-07 06:05:51 INFO: DOCUMENT TRANSFORMER\n",
      "2023-06-07 06:05:51 INFO: POS REMOVAL\n",
      "2023-06-07 06:05:51 INFO: DOCUMENT TRANSFORMER\n"
     ]
    },
    {
     "name": "stderr",
     "output_type": "stream",
     "text": [
      "c:\\Users\\c10nGp4\\anaconda3\\envs\\imbalance-multi-classification\\lib\\site-packages\\sklearn\\svm\\_base.py:1244: ConvergenceWarning: Liblinear failed to converge, increase the number of iterations.\n",
      "  warnings.warn(\n"
     ]
    },
    {
     "name": "stdout",
     "output_type": "stream",
     "text": [
      "2023-06-07 06:05:54 INFO: POS REMOVAL\n",
      "2023-06-07 06:05:54 INFO: DOCUMENT TRANSFORMER\n",
      "2023-06-07 06:05:54 INFO: POS REMOVAL\n",
      "2023-06-07 06:05:54 INFO: DOCUMENT TRANSFORMER\n"
     ]
    },
    {
     "name": "stderr",
     "output_type": "stream",
     "text": [
      "c:\\Users\\c10nGp4\\anaconda3\\envs\\imbalance-multi-classification\\lib\\site-packages\\sklearn\\svm\\_base.py:1244: ConvergenceWarning: Liblinear failed to converge, increase the number of iterations.\n",
      "  warnings.warn(\n"
     ]
    },
    {
     "name": "stdout",
     "output_type": "stream",
     "text": [
      "2023-06-07 06:05:58 INFO: POS REMOVAL\n",
      "2023-06-07 06:05:58 INFO: DOCUMENT TRANSFORMER\n",
      "2023-06-07 06:05:58 INFO: POS REMOVAL\n",
      "2023-06-07 06:05:58 INFO: DOCUMENT TRANSFORMER\n"
     ]
    },
    {
     "name": "stderr",
     "output_type": "stream",
     "text": [
      "c:\\Users\\c10nGp4\\anaconda3\\envs\\imbalance-multi-classification\\lib\\site-packages\\sklearn\\svm\\_base.py:1244: ConvergenceWarning: Liblinear failed to converge, increase the number of iterations.\n",
      "  warnings.warn(\n"
     ]
    },
    {
     "name": "stdout",
     "output_type": "stream",
     "text": [
      "2023-06-07 06:06:01 INFO: POS REMOVAL\n",
      "2023-06-07 06:06:01 INFO: DOCUMENT TRANSFORMER\n",
      "2023-06-07 06:06:01 INFO: POS REMOVAL\n",
      "2023-06-07 06:06:01 INFO: DOCUMENT TRANSFORMER\n"
     ]
    },
    {
     "name": "stderr",
     "output_type": "stream",
     "text": [
      "c:\\Users\\c10nGp4\\anaconda3\\envs\\imbalance-multi-classification\\lib\\site-packages\\sklearn\\svm\\_base.py:1244: ConvergenceWarning: Liblinear failed to converge, increase the number of iterations.\n",
      "  warnings.warn(\n"
     ]
    },
    {
     "name": "stdout",
     "output_type": "stream",
     "text": [
      "2023-06-07 06:06:04 INFO: POS REMOVAL\n",
      "2023-06-07 06:06:05 INFO: DOCUMENT TRANSFORMER\n",
      "2023-06-07 06:06:05 INFO: POS REMOVAL\n",
      "2023-06-07 06:06:05 INFO: DOCUMENT TRANSFORMER\n"
     ]
    },
    {
     "name": "stderr",
     "output_type": "stream",
     "text": [
      "c:\\Users\\c10nGp4\\anaconda3\\envs\\imbalance-multi-classification\\lib\\site-packages\\sklearn\\svm\\_base.py:1244: ConvergenceWarning: Liblinear failed to converge, increase the number of iterations.\n",
      "  warnings.warn(\n"
     ]
    },
    {
     "name": "stdout",
     "output_type": "stream",
     "text": [
      "2023-06-07 06:06:08 INFO: POS REMOVAL\n",
      "2023-06-07 06:06:08 INFO: DOCUMENT TRANSFORMER\n",
      "2023-06-07 06:06:08 INFO: POS REMOVAL\n",
      "2023-06-07 06:06:08 INFO: DOCUMENT TRANSFORMER\n"
     ]
    },
    {
     "name": "stderr",
     "output_type": "stream",
     "text": [
      "c:\\Users\\c10nGp4\\anaconda3\\envs\\imbalance-multi-classification\\lib\\site-packages\\sklearn\\svm\\_base.py:1244: ConvergenceWarning: Liblinear failed to converge, increase the number of iterations.\n",
      "  warnings.warn(\n"
     ]
    },
    {
     "name": "stdout",
     "output_type": "stream",
     "text": [
      "2023-06-07 06:06:11 INFO: POS REMOVAL\n",
      "2023-06-07 06:06:11 INFO: DOCUMENT TRANSFORMER\n",
      "2023-06-07 06:06:11 INFO: POS REMOVAL\n",
      "2023-06-07 06:06:11 INFO: DOCUMENT TRANSFORMER\n"
     ]
    },
    {
     "name": "stderr",
     "output_type": "stream",
     "text": [
      "c:\\Users\\c10nGp4\\anaconda3\\envs\\imbalance-multi-classification\\lib\\site-packages\\sklearn\\svm\\_base.py:1244: ConvergenceWarning: Liblinear failed to converge, increase the number of iterations.\n",
      "  warnings.warn(\n"
     ]
    },
    {
     "name": "stdout",
     "output_type": "stream",
     "text": [
      "2023-06-07 06:06:15 INFO: POS REMOVAL\n",
      "2023-06-07 06:06:15 INFO: DOCUMENT TRANSFORMER\n",
      "2023-06-07 06:06:15 INFO: POS REMOVAL\n",
      "2023-06-07 06:06:15 INFO: DOCUMENT TRANSFORMER\n"
     ]
    },
    {
     "name": "stderr",
     "output_type": "stream",
     "text": [
      "c:\\Users\\c10nGp4\\anaconda3\\envs\\imbalance-multi-classification\\lib\\site-packages\\sklearn\\svm\\_base.py:1244: ConvergenceWarning: Liblinear failed to converge, increase the number of iterations.\n",
      "  warnings.warn(\n"
     ]
    },
    {
     "name": "stdout",
     "output_type": "stream",
     "text": [
      "2023-06-07 06:06:18 INFO: POS REMOVAL\n",
      "2023-06-07 06:06:18 INFO: DOCUMENT TRANSFORMER\n",
      "2023-06-07 06:06:18 INFO: POS REMOVAL\n",
      "2023-06-07 06:06:18 INFO: DOCUMENT TRANSFORMER\n"
     ]
    },
    {
     "name": "stderr",
     "output_type": "stream",
     "text": [
      "c:\\Users\\c10nGp4\\anaconda3\\envs\\imbalance-multi-classification\\lib\\site-packages\\sklearn\\svm\\_base.py:1244: ConvergenceWarning: Liblinear failed to converge, increase the number of iterations.\n",
      "  warnings.warn(\n"
     ]
    },
    {
     "name": "stdout",
     "output_type": "stream",
     "text": [
      "2023-06-07 06:06:23 INFO: POS REMOVAL\n",
      "2023-06-07 06:06:23 INFO: DOCUMENT TRANSFORMER\n",
      "2023-06-07 06:06:23 INFO: POS REMOVAL\n",
      "2023-06-07 06:06:23 INFO: DOCUMENT TRANSFORMER\n"
     ]
    },
    {
     "name": "stderr",
     "output_type": "stream",
     "text": [
      "c:\\Users\\c10nGp4\\anaconda3\\envs\\imbalance-multi-classification\\lib\\site-packages\\sklearn\\svm\\_base.py:1244: ConvergenceWarning: Liblinear failed to converge, increase the number of iterations.\n",
      "  warnings.warn(\n"
     ]
    },
    {
     "name": "stdout",
     "output_type": "stream",
     "text": [
      "2023-06-07 06:06:28 INFO: POS REMOVAL\n",
      "2023-06-07 06:06:28 INFO: DOCUMENT TRANSFORMER\n",
      "2023-06-07 06:06:28 INFO: POS REMOVAL\n",
      "2023-06-07 06:06:29 INFO: DOCUMENT TRANSFORMER\n"
     ]
    },
    {
     "name": "stderr",
     "output_type": "stream",
     "text": [
      "c:\\Users\\c10nGp4\\anaconda3\\envs\\imbalance-multi-classification\\lib\\site-packages\\sklearn\\svm\\_base.py:1244: ConvergenceWarning: Liblinear failed to converge, increase the number of iterations.\n",
      "  warnings.warn(\n"
     ]
    },
    {
     "name": "stdout",
     "output_type": "stream",
     "text": [
      "2023-06-07 06:06:34 INFO: POS REMOVAL\n",
      "2023-06-07 06:06:34 INFO: DOCUMENT TRANSFORMER\n",
      "2023-06-07 06:06:34 INFO: POS REMOVAL\n",
      "2023-06-07 06:06:34 INFO: DOCUMENT TRANSFORMER\n"
     ]
    },
    {
     "name": "stderr",
     "output_type": "stream",
     "text": [
      "c:\\Users\\c10nGp4\\anaconda3\\envs\\imbalance-multi-classification\\lib\\site-packages\\sklearn\\svm\\_base.py:1244: ConvergenceWarning: Liblinear failed to converge, increase the number of iterations.\n",
      "  warnings.warn(\n"
     ]
    },
    {
     "name": "stdout",
     "output_type": "stream",
     "text": [
      "2023-06-07 06:06:40 INFO: POS REMOVAL\n",
      "2023-06-07 06:06:40 INFO: DOCUMENT TRANSFORMER\n",
      "2023-06-07 06:06:40 INFO: POS REMOVAL\n",
      "2023-06-07 06:06:40 INFO: DOCUMENT TRANSFORMER\n"
     ]
    },
    {
     "name": "stderr",
     "output_type": "stream",
     "text": [
      "c:\\Users\\c10nGp4\\anaconda3\\envs\\imbalance-multi-classification\\lib\\site-packages\\sklearn\\svm\\_base.py:1244: ConvergenceWarning: Liblinear failed to converge, increase the number of iterations.\n",
      "  warnings.warn(\n"
     ]
    },
    {
     "name": "stdout",
     "output_type": "stream",
     "text": [
      "2023-06-07 06:06:44 INFO: POS REMOVAL\n",
      "2023-06-07 06:06:44 INFO: DOCUMENT TRANSFORMER\n",
      "2023-06-07 06:06:44 INFO: POS REMOVAL\n",
      "2023-06-07 06:06:44 INFO: DOCUMENT TRANSFORMER\n"
     ]
    },
    {
     "name": "stderr",
     "output_type": "stream",
     "text": [
      "c:\\Users\\c10nGp4\\anaconda3\\envs\\imbalance-multi-classification\\lib\\site-packages\\sklearn\\svm\\_base.py:1244: ConvergenceWarning: Liblinear failed to converge, increase the number of iterations.\n",
      "  warnings.warn(\n"
     ]
    },
    {
     "name": "stdout",
     "output_type": "stream",
     "text": [
      "2023-06-07 06:06:47 INFO: POS REMOVAL\n",
      "2023-06-07 06:06:47 INFO: DOCUMENT TRANSFORMER\n",
      "2023-06-07 06:06:47 INFO: POS REMOVAL\n",
      "2023-06-07 06:06:47 INFO: DOCUMENT TRANSFORMER\n"
     ]
    },
    {
     "name": "stderr",
     "output_type": "stream",
     "text": [
      "c:\\Users\\c10nGp4\\anaconda3\\envs\\imbalance-multi-classification\\lib\\site-packages\\sklearn\\svm\\_base.py:1244: ConvergenceWarning: Liblinear failed to converge, increase the number of iterations.\n",
      "  warnings.warn(\n"
     ]
    },
    {
     "name": "stdout",
     "output_type": "stream",
     "text": [
      "2023-06-07 06:06:51 INFO: POS REMOVAL\n",
      "2023-06-07 06:06:51 INFO: DOCUMENT TRANSFORMER\n",
      "2023-06-07 06:06:51 INFO: POS REMOVAL\n",
      "2023-06-07 06:06:51 INFO: DOCUMENT TRANSFORMER\n"
     ]
    },
    {
     "name": "stderr",
     "output_type": "stream",
     "text": [
      "c:\\Users\\c10nGp4\\anaconda3\\envs\\imbalance-multi-classification\\lib\\site-packages\\sklearn\\svm\\_base.py:1244: ConvergenceWarning: Liblinear failed to converge, increase the number of iterations.\n",
      "  warnings.warn(\n"
     ]
    },
    {
     "name": "stdout",
     "output_type": "stream",
     "text": [
      "2023-06-07 06:06:54 INFO: POS REMOVAL\n",
      "2023-06-07 06:06:54 INFO: DOCUMENT TRANSFORMER\n",
      "2023-06-07 06:06:54 INFO: POS REMOVAL\n",
      "2023-06-07 06:06:54 INFO: DOCUMENT TRANSFORMER\n"
     ]
    },
    {
     "name": "stderr",
     "output_type": "stream",
     "text": [
      "c:\\Users\\c10nGp4\\anaconda3\\envs\\imbalance-multi-classification\\lib\\site-packages\\sklearn\\svm\\_base.py:1244: ConvergenceWarning: Liblinear failed to converge, increase the number of iterations.\n",
      "  warnings.warn(\n"
     ]
    },
    {
     "name": "stdout",
     "output_type": "stream",
     "text": [
      "2023-06-07 06:06:57 INFO: POS REMOVAL\n",
      "2023-06-07 06:06:57 INFO: DOCUMENT TRANSFORMER\n",
      "2023-06-07 06:06:57 INFO: POS REMOVAL\n",
      "2023-06-07 06:06:57 INFO: DOCUMENT TRANSFORMER\n"
     ]
    },
    {
     "name": "stderr",
     "output_type": "stream",
     "text": [
      "c:\\Users\\c10nGp4\\anaconda3\\envs\\imbalance-multi-classification\\lib\\site-packages\\sklearn\\svm\\_base.py:1244: ConvergenceWarning: Liblinear failed to converge, increase the number of iterations.\n",
      "  warnings.warn(\n"
     ]
    },
    {
     "name": "stdout",
     "output_type": "stream",
     "text": [
      "2023-06-07 06:07:00 INFO: POS REMOVAL\n",
      "2023-06-07 06:07:00 INFO: DOCUMENT TRANSFORMER\n",
      "2023-06-07 06:07:01 INFO: POS REMOVAL\n",
      "2023-06-07 06:07:01 INFO: DOCUMENT TRANSFORMER\n"
     ]
    },
    {
     "name": "stderr",
     "output_type": "stream",
     "text": [
      "c:\\Users\\c10nGp4\\anaconda3\\envs\\imbalance-multi-classification\\lib\\site-packages\\sklearn\\svm\\_base.py:1244: ConvergenceWarning: Liblinear failed to converge, increase the number of iterations.\n",
      "  warnings.warn(\n"
     ]
    },
    {
     "name": "stdout",
     "output_type": "stream",
     "text": [
      "2023-06-07 06:07:04 INFO: POS REMOVAL\n",
      "2023-06-07 06:07:04 INFO: DOCUMENT TRANSFORMER\n",
      "2023-06-07 06:07:04 INFO: POS REMOVAL\n",
      "2023-06-07 06:07:04 INFO: DOCUMENT TRANSFORMER\n"
     ]
    },
    {
     "name": "stderr",
     "output_type": "stream",
     "text": [
      "c:\\Users\\c10nGp4\\anaconda3\\envs\\imbalance-multi-classification\\lib\\site-packages\\sklearn\\svm\\_base.py:1244: ConvergenceWarning: Liblinear failed to converge, increase the number of iterations.\n",
      "  warnings.warn(\n"
     ]
    },
    {
     "name": "stdout",
     "output_type": "stream",
     "text": [
      "2023-06-07 06:07:07 INFO: POS REMOVAL\n",
      "2023-06-07 06:07:07 INFO: DOCUMENT TRANSFORMER\n",
      "2023-06-07 06:07:07 INFO: POS REMOVAL\n",
      "2023-06-07 06:07:07 INFO: DOCUMENT TRANSFORMER\n"
     ]
    },
    {
     "name": "stderr",
     "output_type": "stream",
     "text": [
      "c:\\Users\\c10nGp4\\anaconda3\\envs\\imbalance-multi-classification\\lib\\site-packages\\sklearn\\svm\\_base.py:1244: ConvergenceWarning: Liblinear failed to converge, increase the number of iterations.\n",
      "  warnings.warn(\n"
     ]
    },
    {
     "name": "stdout",
     "output_type": "stream",
     "text": [
      "2023-06-07 06:07:10 INFO: POS REMOVAL\n",
      "2023-06-07 06:07:10 INFO: DOCUMENT TRANSFORMER\n",
      "2023-06-07 06:07:10 INFO: POS REMOVAL\n",
      "2023-06-07 06:07:10 INFO: DOCUMENT TRANSFORMER\n"
     ]
    },
    {
     "name": "stderr",
     "output_type": "stream",
     "text": [
      "c:\\Users\\c10nGp4\\anaconda3\\envs\\imbalance-multi-classification\\lib\\site-packages\\sklearn\\svm\\_base.py:1244: ConvergenceWarning: Liblinear failed to converge, increase the number of iterations.\n",
      "  warnings.warn(\n"
     ]
    },
    {
     "name": "stdout",
     "output_type": "stream",
     "text": [
      "2023-06-07 06:07:13 INFO: POS REMOVAL\n",
      "2023-06-07 06:07:14 INFO: DOCUMENT TRANSFORMER\n",
      "2023-06-07 06:07:14 INFO: POS REMOVAL\n",
      "2023-06-07 06:07:14 INFO: DOCUMENT TRANSFORMER\n"
     ]
    },
    {
     "name": "stderr",
     "output_type": "stream",
     "text": [
      "c:\\Users\\c10nGp4\\anaconda3\\envs\\imbalance-multi-classification\\lib\\site-packages\\sklearn\\svm\\_base.py:1244: ConvergenceWarning: Liblinear failed to converge, increase the number of iterations.\n",
      "  warnings.warn(\n"
     ]
    },
    {
     "name": "stdout",
     "output_type": "stream",
     "text": [
      "2023-06-07 06:07:17 INFO: POS REMOVAL\n",
      "2023-06-07 06:07:17 INFO: DOCUMENT TRANSFORMER\n",
      "2023-06-07 06:07:17 INFO: POS REMOVAL\n",
      "2023-06-07 06:07:17 INFO: DOCUMENT TRANSFORMER\n"
     ]
    },
    {
     "name": "stderr",
     "output_type": "stream",
     "text": [
      "c:\\Users\\c10nGp4\\anaconda3\\envs\\imbalance-multi-classification\\lib\\site-packages\\sklearn\\svm\\_base.py:1244: ConvergenceWarning: Liblinear failed to converge, increase the number of iterations.\n",
      "  warnings.warn(\n"
     ]
    },
    {
     "name": "stdout",
     "output_type": "stream",
     "text": [
      "2023-06-07 06:07:21 INFO: POS REMOVAL\n",
      "2023-06-07 06:07:21 INFO: DOCUMENT TRANSFORMER\n",
      "2023-06-07 06:07:21 INFO: POS REMOVAL\n",
      "2023-06-07 06:07:21 INFO: DOCUMENT TRANSFORMER\n"
     ]
    },
    {
     "name": "stderr",
     "output_type": "stream",
     "text": [
      "c:\\Users\\c10nGp4\\anaconda3\\envs\\imbalance-multi-classification\\lib\\site-packages\\sklearn\\svm\\_base.py:1244: ConvergenceWarning: Liblinear failed to converge, increase the number of iterations.\n",
      "  warnings.warn(\n"
     ]
    },
    {
     "name": "stdout",
     "output_type": "stream",
     "text": [
      "2023-06-07 06:07:26 INFO: POS REMOVAL\n",
      "2023-06-07 06:07:26 INFO: DOCUMENT TRANSFORMER\n",
      "2023-06-07 06:07:26 INFO: POS REMOVAL\n",
      "2023-06-07 06:07:26 INFO: DOCUMENT TRANSFORMER\n"
     ]
    },
    {
     "name": "stderr",
     "output_type": "stream",
     "text": [
      "c:\\Users\\c10nGp4\\anaconda3\\envs\\imbalance-multi-classification\\lib\\site-packages\\sklearn\\svm\\_base.py:1244: ConvergenceWarning: Liblinear failed to converge, increase the number of iterations.\n",
      "  warnings.warn(\n"
     ]
    },
    {
     "name": "stdout",
     "output_type": "stream",
     "text": [
      "2023-06-07 06:07:31 INFO: POS REMOVAL\n",
      "2023-06-07 06:07:31 INFO: DOCUMENT TRANSFORMER\n",
      "2023-06-07 06:07:31 INFO: POS REMOVAL\n",
      "2023-06-07 06:07:31 INFO: DOCUMENT TRANSFORMER\n"
     ]
    },
    {
     "name": "stderr",
     "output_type": "stream",
     "text": [
      "c:\\Users\\c10nGp4\\anaconda3\\envs\\imbalance-multi-classification\\lib\\site-packages\\sklearn\\svm\\_base.py:1244: ConvergenceWarning: Liblinear failed to converge, increase the number of iterations.\n",
      "  warnings.warn(\n"
     ]
    },
    {
     "name": "stdout",
     "output_type": "stream",
     "text": [
      "2023-06-07 06:07:36 INFO: POS REMOVAL\n",
      "2023-06-07 06:07:36 INFO: DOCUMENT TRANSFORMER\n",
      "2023-06-07 06:07:36 INFO: POS REMOVAL\n",
      "2023-06-07 06:07:36 INFO: DOCUMENT TRANSFORMER\n"
     ]
    },
    {
     "name": "stderr",
     "output_type": "stream",
     "text": [
      "c:\\Users\\c10nGp4\\anaconda3\\envs\\imbalance-multi-classification\\lib\\site-packages\\sklearn\\svm\\_base.py:1244: ConvergenceWarning: Liblinear failed to converge, increase the number of iterations.\n",
      "  warnings.warn(\n"
     ]
    },
    {
     "name": "stdout",
     "output_type": "stream",
     "text": [
      "2023-06-07 06:07:41 INFO: POS REMOVAL\n",
      "2023-06-07 06:07:41 INFO: DOCUMENT TRANSFORMER\n",
      "2023-06-07 06:07:41 INFO: POS REMOVAL\n",
      "2023-06-07 06:07:41 INFO: DOCUMENT TRANSFORMER\n"
     ]
    },
    {
     "name": "stderr",
     "output_type": "stream",
     "text": [
      "c:\\Users\\c10nGp4\\anaconda3\\envs\\imbalance-multi-classification\\lib\\site-packages\\sklearn\\svm\\_base.py:1244: ConvergenceWarning: Liblinear failed to converge, increase the number of iterations.\n",
      "  warnings.warn(\n"
     ]
    },
    {
     "name": "stdout",
     "output_type": "stream",
     "text": [
      "2023-06-07 06:07:46 INFO: POS REMOVAL\n",
      "2023-06-07 06:07:46 INFO: DOCUMENT TRANSFORMER\n",
      "2023-06-07 06:07:46 INFO: POS REMOVAL\n",
      "2023-06-07 06:07:46 INFO: DOCUMENT TRANSFORMER\n"
     ]
    },
    {
     "name": "stderr",
     "output_type": "stream",
     "text": [
      "c:\\Users\\c10nGp4\\anaconda3\\envs\\imbalance-multi-classification\\lib\\site-packages\\sklearn\\svm\\_base.py:1244: ConvergenceWarning: Liblinear failed to converge, increase the number of iterations.\n",
      "  warnings.warn(\n"
     ]
    },
    {
     "name": "stdout",
     "output_type": "stream",
     "text": [
      "2023-06-07 06:07:51 INFO: POS REMOVAL\n",
      "2023-06-07 06:07:51 INFO: DOCUMENT TRANSFORMER\n",
      "2023-06-07 06:07:51 INFO: POS REMOVAL\n",
      "2023-06-07 06:07:51 INFO: DOCUMENT TRANSFORMER\n"
     ]
    },
    {
     "name": "stderr",
     "output_type": "stream",
     "text": [
      "c:\\Users\\c10nGp4\\anaconda3\\envs\\imbalance-multi-classification\\lib\\site-packages\\sklearn\\svm\\_base.py:1244: ConvergenceWarning: Liblinear failed to converge, increase the number of iterations.\n",
      "  warnings.warn(\n"
     ]
    },
    {
     "name": "stdout",
     "output_type": "stream",
     "text": [
      "2023-06-07 06:07:56 INFO: POS REMOVAL\n",
      "2023-06-07 06:07:56 INFO: DOCUMENT TRANSFORMER\n",
      "2023-06-07 06:07:56 INFO: POS REMOVAL\n",
      "2023-06-07 06:07:56 INFO: DOCUMENT TRANSFORMER\n"
     ]
    },
    {
     "name": "stderr",
     "output_type": "stream",
     "text": [
      "c:\\Users\\c10nGp4\\anaconda3\\envs\\imbalance-multi-classification\\lib\\site-packages\\sklearn\\svm\\_base.py:1244: ConvergenceWarning: Liblinear failed to converge, increase the number of iterations.\n",
      "  warnings.warn(\n"
     ]
    },
    {
     "name": "stdout",
     "output_type": "stream",
     "text": [
      "2023-06-07 06:08:01 INFO: POS REMOVAL\n",
      "2023-06-07 06:08:01 INFO: DOCUMENT TRANSFORMER\n",
      "2023-06-07 06:08:01 INFO: POS REMOVAL\n",
      "2023-06-07 06:08:01 INFO: DOCUMENT TRANSFORMER\n"
     ]
    },
    {
     "name": "stderr",
     "output_type": "stream",
     "text": [
      "c:\\Users\\c10nGp4\\anaconda3\\envs\\imbalance-multi-classification\\lib\\site-packages\\sklearn\\svm\\_base.py:1244: ConvergenceWarning: Liblinear failed to converge, increase the number of iterations.\n",
      "  warnings.warn(\n"
     ]
    },
    {
     "name": "stdout",
     "output_type": "stream",
     "text": [
      "2023-06-07 06:08:06 INFO: POS REMOVAL\n",
      "2023-06-07 06:08:06 INFO: DOCUMENT TRANSFORMER\n",
      "2023-06-07 06:08:07 INFO: POS REMOVAL\n",
      "2023-06-07 06:08:07 INFO: DOCUMENT TRANSFORMER\n"
     ]
    },
    {
     "name": "stderr",
     "output_type": "stream",
     "text": [
      "c:\\Users\\c10nGp4\\anaconda3\\envs\\imbalance-multi-classification\\lib\\site-packages\\sklearn\\svm\\_base.py:1244: ConvergenceWarning: Liblinear failed to converge, increase the number of iterations.\n",
      "  warnings.warn(\n"
     ]
    },
    {
     "name": "stdout",
     "output_type": "stream",
     "text": [
      "2023-06-07 06:08:12 INFO: POS REMOVAL\n",
      "2023-06-07 06:08:12 INFO: DOCUMENT TRANSFORMER\n",
      "2023-06-07 06:08:12 INFO: POS REMOVAL\n",
      "2023-06-07 06:08:12 INFO: DOCUMENT TRANSFORMER\n"
     ]
    },
    {
     "name": "stderr",
     "output_type": "stream",
     "text": [
      "c:\\Users\\c10nGp4\\anaconda3\\envs\\imbalance-multi-classification\\lib\\site-packages\\sklearn\\svm\\_base.py:1244: ConvergenceWarning: Liblinear failed to converge, increase the number of iterations.\n",
      "  warnings.warn(\n"
     ]
    },
    {
     "name": "stdout",
     "output_type": "stream",
     "text": [
      "2023-06-07 06:08:17 INFO: POS REMOVAL\n",
      "2023-06-07 06:08:17 INFO: DOCUMENT TRANSFORMER\n",
      "2023-06-07 06:08:17 INFO: POS REMOVAL\n",
      "2023-06-07 06:08:17 INFO: DOCUMENT TRANSFORMER\n"
     ]
    },
    {
     "name": "stderr",
     "output_type": "stream",
     "text": [
      "c:\\Users\\c10nGp4\\anaconda3\\envs\\imbalance-multi-classification\\lib\\site-packages\\sklearn\\svm\\_base.py:1244: ConvergenceWarning: Liblinear failed to converge, increase the number of iterations.\n",
      "  warnings.warn(\n"
     ]
    },
    {
     "name": "stdout",
     "output_type": "stream",
     "text": [
      "2023-06-07 06:08:22 INFO: POS REMOVAL\n",
      "2023-06-07 06:08:22 INFO: DOCUMENT TRANSFORMER\n",
      "2023-06-07 06:08:22 INFO: POS REMOVAL\n",
      "2023-06-07 06:08:22 INFO: DOCUMENT TRANSFORMER\n"
     ]
    },
    {
     "name": "stderr",
     "output_type": "stream",
     "text": [
      "c:\\Users\\c10nGp4\\anaconda3\\envs\\imbalance-multi-classification\\lib\\site-packages\\sklearn\\svm\\_base.py:1244: ConvergenceWarning: Liblinear failed to converge, increase the number of iterations.\n",
      "  warnings.warn(\n"
     ]
    },
    {
     "name": "stdout",
     "output_type": "stream",
     "text": [
      "2023-06-07 06:08:30 INFO: POS REMOVAL\n",
      "2023-06-07 06:08:30 INFO: DOCUMENT TRANSFORMER\n",
      "2023-06-07 06:08:30 INFO: POS REMOVAL\n",
      "2023-06-07 06:08:30 INFO: DOCUMENT TRANSFORMER\n"
     ]
    },
    {
     "name": "stderr",
     "output_type": "stream",
     "text": [
      "c:\\Users\\c10nGp4\\anaconda3\\envs\\imbalance-multi-classification\\lib\\site-packages\\sklearn\\svm\\_base.py:1244: ConvergenceWarning: Liblinear failed to converge, increase the number of iterations.\n",
      "  warnings.warn(\n"
     ]
    },
    {
     "name": "stdout",
     "output_type": "stream",
     "text": [
      "2023-06-07 06:08:38 INFO: POS REMOVAL\n",
      "2023-06-07 06:08:38 INFO: DOCUMENT TRANSFORMER\n",
      "2023-06-07 06:08:38 INFO: POS REMOVAL\n",
      "2023-06-07 06:08:38 INFO: DOCUMENT TRANSFORMER\n"
     ]
    },
    {
     "name": "stderr",
     "output_type": "stream",
     "text": [
      "c:\\Users\\c10nGp4\\anaconda3\\envs\\imbalance-multi-classification\\lib\\site-packages\\sklearn\\svm\\_base.py:1244: ConvergenceWarning: Liblinear failed to converge, increase the number of iterations.\n",
      "  warnings.warn(\n"
     ]
    },
    {
     "name": "stdout",
     "output_type": "stream",
     "text": [
      "2023-06-07 06:08:46 INFO: POS REMOVAL\n",
      "2023-06-07 06:08:46 INFO: DOCUMENT TRANSFORMER\n",
      "2023-06-07 06:08:46 INFO: POS REMOVAL\n",
      "2023-06-07 06:08:46 INFO: DOCUMENT TRANSFORMER\n"
     ]
    },
    {
     "name": "stderr",
     "output_type": "stream",
     "text": [
      "c:\\Users\\c10nGp4\\anaconda3\\envs\\imbalance-multi-classification\\lib\\site-packages\\sklearn\\svm\\_base.py:1244: ConvergenceWarning: Liblinear failed to converge, increase the number of iterations.\n",
      "  warnings.warn(\n"
     ]
    },
    {
     "name": "stdout",
     "output_type": "stream",
     "text": [
      "2023-06-07 06:08:54 INFO: POS REMOVAL\n",
      "2023-06-07 06:08:54 INFO: DOCUMENT TRANSFORMER\n",
      "2023-06-07 06:08:54 INFO: POS REMOVAL\n",
      "2023-06-07 06:08:54 INFO: DOCUMENT TRANSFORMER\n"
     ]
    },
    {
     "name": "stderr",
     "output_type": "stream",
     "text": [
      "c:\\Users\\c10nGp4\\anaconda3\\envs\\imbalance-multi-classification\\lib\\site-packages\\sklearn\\svm\\_base.py:1244: ConvergenceWarning: Liblinear failed to converge, increase the number of iterations.\n",
      "  warnings.warn(\n"
     ]
    },
    {
     "name": "stdout",
     "output_type": "stream",
     "text": [
      "2023-06-07 06:09:02 INFO: POS REMOVAL\n",
      "2023-06-07 06:09:02 INFO: DOCUMENT TRANSFORMER\n",
      "2023-06-07 06:09:02 INFO: POS REMOVAL\n",
      "2023-06-07 06:09:02 INFO: DOCUMENT TRANSFORMER\n"
     ]
    },
    {
     "name": "stderr",
     "output_type": "stream",
     "text": [
      "c:\\Users\\c10nGp4\\anaconda3\\envs\\imbalance-multi-classification\\lib\\site-packages\\sklearn\\svm\\_base.py:1244: ConvergenceWarning: Liblinear failed to converge, increase the number of iterations.\n",
      "  warnings.warn(\n"
     ]
    },
    {
     "name": "stdout",
     "output_type": "stream",
     "text": [
      "2023-06-07 06:09:10 INFO: POS REMOVAL\n",
      "2023-06-07 06:09:10 INFO: DOCUMENT TRANSFORMER\n",
      "2023-06-07 06:09:10 INFO: POS REMOVAL\n",
      "2023-06-07 06:09:10 INFO: DOCUMENT TRANSFORMER\n"
     ]
    },
    {
     "name": "stderr",
     "output_type": "stream",
     "text": [
      "c:\\Users\\c10nGp4\\anaconda3\\envs\\imbalance-multi-classification\\lib\\site-packages\\sklearn\\svm\\_base.py:1244: ConvergenceWarning: Liblinear failed to converge, increase the number of iterations.\n",
      "  warnings.warn(\n"
     ]
    },
    {
     "name": "stdout",
     "output_type": "stream",
     "text": [
      "2023-06-07 06:09:18 INFO: POS REMOVAL\n",
      "2023-06-07 06:09:18 INFO: DOCUMENT TRANSFORMER\n",
      "2023-06-07 06:09:18 INFO: POS REMOVAL\n",
      "2023-06-07 06:09:18 INFO: DOCUMENT TRANSFORMER\n"
     ]
    },
    {
     "name": "stderr",
     "output_type": "stream",
     "text": [
      "c:\\Users\\c10nGp4\\anaconda3\\envs\\imbalance-multi-classification\\lib\\site-packages\\sklearn\\svm\\_base.py:1244: ConvergenceWarning: Liblinear failed to converge, increase the number of iterations.\n",
      "  warnings.warn(\n"
     ]
    },
    {
     "name": "stdout",
     "output_type": "stream",
     "text": [
      "2023-06-07 06:09:26 INFO: POS REMOVAL\n",
      "2023-06-07 06:09:26 INFO: DOCUMENT TRANSFORMER\n",
      "2023-06-07 06:09:26 INFO: POS REMOVAL\n",
      "2023-06-07 06:09:26 INFO: DOCUMENT TRANSFORMER\n"
     ]
    },
    {
     "name": "stderr",
     "output_type": "stream",
     "text": [
      "c:\\Users\\c10nGp4\\anaconda3\\envs\\imbalance-multi-classification\\lib\\site-packages\\sklearn\\svm\\_base.py:1244: ConvergenceWarning: Liblinear failed to converge, increase the number of iterations.\n",
      "  warnings.warn(\n"
     ]
    },
    {
     "name": "stdout",
     "output_type": "stream",
     "text": [
      "2023-06-07 06:09:34 INFO: POS REMOVAL\n",
      "2023-06-07 06:09:34 INFO: DOCUMENT TRANSFORMER\n",
      "2023-06-07 06:09:34 INFO: POS REMOVAL\n",
      "2023-06-07 06:09:34 INFO: DOCUMENT TRANSFORMER\n"
     ]
    },
    {
     "name": "stderr",
     "output_type": "stream",
     "text": [
      "c:\\Users\\c10nGp4\\anaconda3\\envs\\imbalance-multi-classification\\lib\\site-packages\\sklearn\\svm\\_base.py:1244: ConvergenceWarning: Liblinear failed to converge, increase the number of iterations.\n",
      "  warnings.warn(\n"
     ]
    },
    {
     "name": "stdout",
     "output_type": "stream",
     "text": [
      "2023-06-07 06:09:42 INFO: POS REMOVAL\n",
      "2023-06-07 06:09:42 INFO: DOCUMENT TRANSFORMER\n",
      "2023-06-07 06:09:42 INFO: POS REMOVAL\n",
      "2023-06-07 06:09:42 INFO: DOCUMENT TRANSFORMER\n"
     ]
    },
    {
     "name": "stderr",
     "output_type": "stream",
     "text": [
      "c:\\Users\\c10nGp4\\anaconda3\\envs\\imbalance-multi-classification\\lib\\site-packages\\sklearn\\svm\\_base.py:1244: ConvergenceWarning: Liblinear failed to converge, increase the number of iterations.\n",
      "  warnings.warn(\n"
     ]
    },
    {
     "name": "stdout",
     "output_type": "stream",
     "text": [
      "2023-06-07 06:09:50 INFO: POS REMOVAL\n",
      "2023-06-07 06:09:50 INFO: DOCUMENT TRANSFORMER\n",
      "2023-06-07 06:09:50 INFO: POS REMOVAL\n",
      "2023-06-07 06:09:50 INFO: DOCUMENT TRANSFORMER\n"
     ]
    },
    {
     "name": "stderr",
     "output_type": "stream",
     "text": [
      "c:\\Users\\c10nGp4\\anaconda3\\envs\\imbalance-multi-classification\\lib\\site-packages\\sklearn\\svm\\_base.py:1244: ConvergenceWarning: Liblinear failed to converge, increase the number of iterations.\n",
      "  warnings.warn(\n"
     ]
    },
    {
     "name": "stdout",
     "output_type": "stream",
     "text": [
      "2023-06-07 06:09:58 INFO: POS REMOVAL\n",
      "2023-06-07 06:09:58 INFO: DOCUMENT TRANSFORMER\n",
      "2023-06-07 06:09:58 INFO: POS REMOVAL\n",
      "2023-06-07 06:09:58 INFO: DOCUMENT TRANSFORMER\n"
     ]
    },
    {
     "name": "stderr",
     "output_type": "stream",
     "text": [
      "c:\\Users\\c10nGp4\\anaconda3\\envs\\imbalance-multi-classification\\lib\\site-packages\\sklearn\\svm\\_base.py:1244: ConvergenceWarning: Liblinear failed to converge, increase the number of iterations.\n",
      "  warnings.warn(\n"
     ]
    },
    {
     "name": "stdout",
     "output_type": "stream",
     "text": [
      "2023-06-07 06:10:05 INFO: POS REMOVAL\n",
      "2023-06-07 06:10:05 INFO: DOCUMENT TRANSFORMER\n",
      "2023-06-07 06:10:06 INFO: POS REMOVAL\n",
      "2023-06-07 06:10:06 INFO: DOCUMENT TRANSFORMER\n"
     ]
    },
    {
     "name": "stderr",
     "output_type": "stream",
     "text": [
      "c:\\Users\\c10nGp4\\anaconda3\\envs\\imbalance-multi-classification\\lib\\site-packages\\sklearn\\svm\\_base.py:1244: ConvergenceWarning: Liblinear failed to converge, increase the number of iterations.\n",
      "  warnings.warn(\n"
     ]
    },
    {
     "name": "stdout",
     "output_type": "stream",
     "text": [
      "2023-06-07 06:10:13 INFO: POS REMOVAL\n",
      "2023-06-07 06:10:13 INFO: DOCUMENT TRANSFORMER\n",
      "2023-06-07 06:10:14 INFO: POS REMOVAL\n",
      "2023-06-07 06:10:14 INFO: DOCUMENT TRANSFORMER\n"
     ]
    },
    {
     "name": "stderr",
     "output_type": "stream",
     "text": [
      "c:\\Users\\c10nGp4\\anaconda3\\envs\\imbalance-multi-classification\\lib\\site-packages\\sklearn\\svm\\_base.py:1244: ConvergenceWarning: Liblinear failed to converge, increase the number of iterations.\n",
      "  warnings.warn(\n"
     ]
    },
    {
     "name": "stdout",
     "output_type": "stream",
     "text": [
      "2023-06-07 06:10:20 INFO: POS REMOVAL\n",
      "2023-06-07 06:10:20 INFO: DOCUMENT TRANSFORMER\n",
      "2023-06-07 06:10:21 INFO: POS REMOVAL\n",
      "2023-06-07 06:10:21 INFO: DOCUMENT TRANSFORMER\n"
     ]
    },
    {
     "name": "stderr",
     "output_type": "stream",
     "text": [
      "c:\\Users\\c10nGp4\\anaconda3\\envs\\imbalance-multi-classification\\lib\\site-packages\\sklearn\\svm\\_base.py:1244: ConvergenceWarning: Liblinear failed to converge, increase the number of iterations.\n",
      "  warnings.warn(\n"
     ]
    },
    {
     "name": "stdout",
     "output_type": "stream",
     "text": [
      "2023-06-07 06:10:25 INFO: POS REMOVAL\n",
      "2023-06-07 06:10:25 INFO: DOCUMENT TRANSFORMER\n",
      "2023-06-07 06:10:25 INFO: POS REMOVAL\n",
      "2023-06-07 06:10:26 INFO: DOCUMENT TRANSFORMER\n"
     ]
    },
    {
     "name": "stderr",
     "output_type": "stream",
     "text": [
      "c:\\Users\\c10nGp4\\anaconda3\\envs\\imbalance-multi-classification\\lib\\site-packages\\sklearn\\svm\\_base.py:1244: ConvergenceWarning: Liblinear failed to converge, increase the number of iterations.\n",
      "  warnings.warn(\n"
     ]
    },
    {
     "name": "stdout",
     "output_type": "stream",
     "text": [
      "2023-06-07 06:10:30 INFO: POS REMOVAL\n",
      "2023-06-07 06:10:30 INFO: DOCUMENT TRANSFORMER\n",
      "2023-06-07 06:10:30 INFO: POS REMOVAL\n",
      "2023-06-07 06:10:30 INFO: DOCUMENT TRANSFORMER\n"
     ]
    },
    {
     "name": "stderr",
     "output_type": "stream",
     "text": [
      "c:\\Users\\c10nGp4\\anaconda3\\envs\\imbalance-multi-classification\\lib\\site-packages\\sklearn\\svm\\_base.py:1244: ConvergenceWarning: Liblinear failed to converge, increase the number of iterations.\n",
      "  warnings.warn(\n"
     ]
    },
    {
     "name": "stdout",
     "output_type": "stream",
     "text": [
      "2023-06-07 06:10:35 INFO: POS REMOVAL\n",
      "2023-06-07 06:10:35 INFO: DOCUMENT TRANSFORMER\n",
      "2023-06-07 06:10:35 INFO: POS REMOVAL\n",
      "2023-06-07 06:10:35 INFO: DOCUMENT TRANSFORMER\n"
     ]
    },
    {
     "name": "stderr",
     "output_type": "stream",
     "text": [
      "c:\\Users\\c10nGp4\\anaconda3\\envs\\imbalance-multi-classification\\lib\\site-packages\\sklearn\\svm\\_base.py:1244: ConvergenceWarning: Liblinear failed to converge, increase the number of iterations.\n",
      "  warnings.warn(\n"
     ]
    },
    {
     "name": "stdout",
     "output_type": "stream",
     "text": [
      "2023-06-07 06:10:40 INFO: POS REMOVAL\n",
      "2023-06-07 06:10:40 INFO: DOCUMENT TRANSFORMER\n",
      "2023-06-07 06:10:40 INFO: POS REMOVAL\n",
      "2023-06-07 06:10:40 INFO: DOCUMENT TRANSFORMER\n"
     ]
    },
    {
     "name": "stderr",
     "output_type": "stream",
     "text": [
      "c:\\Users\\c10nGp4\\anaconda3\\envs\\imbalance-multi-classification\\lib\\site-packages\\sklearn\\svm\\_base.py:1244: ConvergenceWarning: Liblinear failed to converge, increase the number of iterations.\n",
      "  warnings.warn(\n"
     ]
    },
    {
     "name": "stdout",
     "output_type": "stream",
     "text": [
      "2023-06-07 06:10:44 INFO: POS REMOVAL\n",
      "2023-06-07 06:10:44 INFO: DOCUMENT TRANSFORMER\n",
      "2023-06-07 06:10:44 INFO: POS REMOVAL\n",
      "2023-06-07 06:10:45 INFO: DOCUMENT TRANSFORMER\n"
     ]
    },
    {
     "name": "stderr",
     "output_type": "stream",
     "text": [
      "c:\\Users\\c10nGp4\\anaconda3\\envs\\imbalance-multi-classification\\lib\\site-packages\\sklearn\\svm\\_base.py:1244: ConvergenceWarning: Liblinear failed to converge, increase the number of iterations.\n",
      "  warnings.warn(\n"
     ]
    },
    {
     "name": "stdout",
     "output_type": "stream",
     "text": [
      "2023-06-07 06:10:47 INFO: POS REMOVAL\n",
      "2023-06-07 06:10:47 INFO: DOCUMENT TRANSFORMER\n",
      "2023-06-07 06:10:48 INFO: POS REMOVAL\n",
      "2023-06-07 06:10:48 INFO: DOCUMENT TRANSFORMER\n"
     ]
    },
    {
     "name": "stderr",
     "output_type": "stream",
     "text": [
      "c:\\Users\\c10nGp4\\anaconda3\\envs\\imbalance-multi-classification\\lib\\site-packages\\sklearn\\svm\\_base.py:1244: ConvergenceWarning: Liblinear failed to converge, increase the number of iterations.\n",
      "  warnings.warn(\n"
     ]
    },
    {
     "name": "stdout",
     "output_type": "stream",
     "text": [
      "2023-06-07 06:10:51 INFO: POS REMOVAL\n",
      "2023-06-07 06:10:51 INFO: DOCUMENT TRANSFORMER\n",
      "2023-06-07 06:10:51 INFO: POS REMOVAL\n",
      "2023-06-07 06:10:51 INFO: DOCUMENT TRANSFORMER\n"
     ]
    },
    {
     "name": "stderr",
     "output_type": "stream",
     "text": [
      "c:\\Users\\c10nGp4\\anaconda3\\envs\\imbalance-multi-classification\\lib\\site-packages\\sklearn\\svm\\_base.py:1244: ConvergenceWarning: Liblinear failed to converge, increase the number of iterations.\n",
      "  warnings.warn(\n"
     ]
    },
    {
     "name": "stdout",
     "output_type": "stream",
     "text": [
      "2023-06-07 06:10:54 INFO: POS REMOVAL\n",
      "2023-06-07 06:10:54 INFO: DOCUMENT TRANSFORMER\n",
      "2023-06-07 06:10:54 INFO: POS REMOVAL\n",
      "2023-06-07 06:10:54 INFO: DOCUMENT TRANSFORMER\n"
     ]
    },
    {
     "name": "stderr",
     "output_type": "stream",
     "text": [
      "c:\\Users\\c10nGp4\\anaconda3\\envs\\imbalance-multi-classification\\lib\\site-packages\\sklearn\\svm\\_base.py:1244: ConvergenceWarning: Liblinear failed to converge, increase the number of iterations.\n",
      "  warnings.warn(\n"
     ]
    },
    {
     "name": "stdout",
     "output_type": "stream",
     "text": [
      "2023-06-07 06:10:57 INFO: POS REMOVAL\n",
      "2023-06-07 06:10:57 INFO: DOCUMENT TRANSFORMER\n",
      "2023-06-07 06:10:57 INFO: POS REMOVAL\n",
      "2023-06-07 06:10:57 INFO: DOCUMENT TRANSFORMER\n"
     ]
    },
    {
     "name": "stderr",
     "output_type": "stream",
     "text": [
      "c:\\Users\\c10nGp4\\anaconda3\\envs\\imbalance-multi-classification\\lib\\site-packages\\sklearn\\svm\\_base.py:1244: ConvergenceWarning: Liblinear failed to converge, increase the number of iterations.\n",
      "  warnings.warn(\n"
     ]
    },
    {
     "name": "stdout",
     "output_type": "stream",
     "text": [
      "2023-06-07 06:11:00 INFO: POS REMOVAL\n",
      "2023-06-07 06:11:00 INFO: DOCUMENT TRANSFORMER\n",
      "2023-06-07 06:11:00 INFO: POS REMOVAL\n",
      "2023-06-07 06:11:00 INFO: DOCUMENT TRANSFORMER\n"
     ]
    },
    {
     "name": "stderr",
     "output_type": "stream",
     "text": [
      "c:\\Users\\c10nGp4\\anaconda3\\envs\\imbalance-multi-classification\\lib\\site-packages\\sklearn\\svm\\_base.py:1244: ConvergenceWarning: Liblinear failed to converge, increase the number of iterations.\n",
      "  warnings.warn(\n"
     ]
    },
    {
     "name": "stdout",
     "output_type": "stream",
     "text": [
      "2023-06-07 06:11:03 INFO: POS REMOVAL\n",
      "2023-06-07 06:11:03 INFO: DOCUMENT TRANSFORMER\n",
      "2023-06-07 06:11:03 INFO: POS REMOVAL\n",
      "2023-06-07 06:11:03 INFO: DOCUMENT TRANSFORMER\n"
     ]
    },
    {
     "name": "stderr",
     "output_type": "stream",
     "text": [
      "c:\\Users\\c10nGp4\\anaconda3\\envs\\imbalance-multi-classification\\lib\\site-packages\\sklearn\\svm\\_base.py:1244: ConvergenceWarning: Liblinear failed to converge, increase the number of iterations.\n",
      "  warnings.warn(\n"
     ]
    },
    {
     "name": "stdout",
     "output_type": "stream",
     "text": [
      "2023-06-07 06:11:06 INFO: POS REMOVAL\n",
      "2023-06-07 06:11:06 INFO: DOCUMENT TRANSFORMER\n",
      "2023-06-07 06:11:06 INFO: POS REMOVAL\n",
      "2023-06-07 06:11:06 INFO: DOCUMENT TRANSFORMER\n"
     ]
    },
    {
     "name": "stderr",
     "output_type": "stream",
     "text": [
      "c:\\Users\\c10nGp4\\anaconda3\\envs\\imbalance-multi-classification\\lib\\site-packages\\sklearn\\svm\\_base.py:1244: ConvergenceWarning: Liblinear failed to converge, increase the number of iterations.\n",
      "  warnings.warn(\n"
     ]
    },
    {
     "name": "stdout",
     "output_type": "stream",
     "text": [
      "2023-06-07 06:11:09 INFO: POS REMOVAL\n",
      "2023-06-07 06:11:09 INFO: DOCUMENT TRANSFORMER\n",
      "2023-06-07 06:11:09 INFO: POS REMOVAL\n",
      "2023-06-07 06:11:09 INFO: DOCUMENT TRANSFORMER\n"
     ]
    },
    {
     "name": "stderr",
     "output_type": "stream",
     "text": [
      "c:\\Users\\c10nGp4\\anaconda3\\envs\\imbalance-multi-classification\\lib\\site-packages\\sklearn\\svm\\_base.py:1244: ConvergenceWarning: Liblinear failed to converge, increase the number of iterations.\n",
      "  warnings.warn(\n"
     ]
    },
    {
     "name": "stdout",
     "output_type": "stream",
     "text": [
      "2023-06-07 06:11:12 INFO: POS REMOVAL\n",
      "2023-06-07 06:11:12 INFO: DOCUMENT TRANSFORMER\n",
      "2023-06-07 06:11:12 INFO: POS REMOVAL\n",
      "2023-06-07 06:11:12 INFO: DOCUMENT TRANSFORMER\n"
     ]
    },
    {
     "name": "stderr",
     "output_type": "stream",
     "text": [
      "c:\\Users\\c10nGp4\\anaconda3\\envs\\imbalance-multi-classification\\lib\\site-packages\\sklearn\\svm\\_base.py:1244: ConvergenceWarning: Liblinear failed to converge, increase the number of iterations.\n",
      "  warnings.warn(\n"
     ]
    },
    {
     "name": "stdout",
     "output_type": "stream",
     "text": [
      "2023-06-07 06:11:15 INFO: POS REMOVAL\n",
      "2023-06-07 06:11:15 INFO: DOCUMENT TRANSFORMER\n",
      "2023-06-07 06:11:15 INFO: POS REMOVAL\n",
      "2023-06-07 06:11:15 INFO: DOCUMENT TRANSFORMER\n"
     ]
    },
    {
     "name": "stderr",
     "output_type": "stream",
     "text": [
      "c:\\Users\\c10nGp4\\anaconda3\\envs\\imbalance-multi-classification\\lib\\site-packages\\sklearn\\svm\\_base.py:1244: ConvergenceWarning: Liblinear failed to converge, increase the number of iterations.\n",
      "  warnings.warn(\n"
     ]
    },
    {
     "name": "stdout",
     "output_type": "stream",
     "text": [
      "2023-06-07 06:11:18 INFO: POS REMOVAL\n",
      "2023-06-07 06:11:18 INFO: DOCUMENT TRANSFORMER\n",
      "2023-06-07 06:11:18 INFO: POS REMOVAL\n",
      "2023-06-07 06:11:18 INFO: DOCUMENT TRANSFORMER\n"
     ]
    },
    {
     "name": "stderr",
     "output_type": "stream",
     "text": [
      "c:\\Users\\c10nGp4\\anaconda3\\envs\\imbalance-multi-classification\\lib\\site-packages\\sklearn\\svm\\_base.py:1244: ConvergenceWarning: Liblinear failed to converge, increase the number of iterations.\n",
      "  warnings.warn(\n"
     ]
    },
    {
     "name": "stdout",
     "output_type": "stream",
     "text": [
      "2023-06-07 06:11:21 INFO: POS REMOVAL\n",
      "2023-06-07 06:11:21 INFO: DOCUMENT TRANSFORMER\n",
      "2023-06-07 06:11:21 INFO: POS REMOVAL\n",
      "2023-06-07 06:11:22 INFO: DOCUMENT TRANSFORMER\n"
     ]
    },
    {
     "name": "stderr",
     "output_type": "stream",
     "text": [
      "c:\\Users\\c10nGp4\\anaconda3\\envs\\imbalance-multi-classification\\lib\\site-packages\\sklearn\\svm\\_base.py:1244: ConvergenceWarning: Liblinear failed to converge, increase the number of iterations.\n",
      "  warnings.warn(\n"
     ]
    },
    {
     "name": "stdout",
     "output_type": "stream",
     "text": [
      "2023-06-07 06:11:24 INFO: POS REMOVAL\n",
      "2023-06-07 06:11:24 INFO: DOCUMENT TRANSFORMER\n",
      "2023-06-07 06:11:25 INFO: POS REMOVAL\n",
      "2023-06-07 06:11:25 INFO: DOCUMENT TRANSFORMER\n"
     ]
    },
    {
     "name": "stderr",
     "output_type": "stream",
     "text": [
      "c:\\Users\\c10nGp4\\anaconda3\\envs\\imbalance-multi-classification\\lib\\site-packages\\sklearn\\svm\\_base.py:1244: ConvergenceWarning: Liblinear failed to converge, increase the number of iterations.\n",
      "  warnings.warn(\n"
     ]
    },
    {
     "name": "stdout",
     "output_type": "stream",
     "text": [
      "2023-06-07 06:11:28 INFO: POS REMOVAL\n",
      "2023-06-07 06:11:28 INFO: DOCUMENT TRANSFORMER\n",
      "2023-06-07 06:11:28 INFO: POS REMOVAL\n",
      "2023-06-07 06:11:28 INFO: DOCUMENT TRANSFORMER\n"
     ]
    },
    {
     "name": "stderr",
     "output_type": "stream",
     "text": [
      "c:\\Users\\c10nGp4\\anaconda3\\envs\\imbalance-multi-classification\\lib\\site-packages\\sklearn\\svm\\_base.py:1244: ConvergenceWarning: Liblinear failed to converge, increase the number of iterations.\n",
      "  warnings.warn(\n"
     ]
    },
    {
     "name": "stdout",
     "output_type": "stream",
     "text": [
      "2023-06-07 06:11:31 INFO: POS REMOVAL\n",
      "2023-06-07 06:11:31 INFO: DOCUMENT TRANSFORMER\n",
      "2023-06-07 06:11:31 INFO: POS REMOVAL\n",
      "2023-06-07 06:11:31 INFO: DOCUMENT TRANSFORMER\n"
     ]
    },
    {
     "name": "stderr",
     "output_type": "stream",
     "text": [
      "c:\\Users\\c10nGp4\\anaconda3\\envs\\imbalance-multi-classification\\lib\\site-packages\\sklearn\\svm\\_base.py:1244: ConvergenceWarning: Liblinear failed to converge, increase the number of iterations.\n",
      "  warnings.warn(\n"
     ]
    },
    {
     "name": "stdout",
     "output_type": "stream",
     "text": [
      "2023-06-07 06:11:34 INFO: POS REMOVAL\n",
      "2023-06-07 06:11:34 INFO: DOCUMENT TRANSFORMER\n",
      "2023-06-07 06:11:34 INFO: POS REMOVAL\n",
      "2023-06-07 06:11:34 INFO: DOCUMENT TRANSFORMER\n"
     ]
    },
    {
     "name": "stderr",
     "output_type": "stream",
     "text": [
      "c:\\Users\\c10nGp4\\anaconda3\\envs\\imbalance-multi-classification\\lib\\site-packages\\sklearn\\svm\\_base.py:1244: ConvergenceWarning: Liblinear failed to converge, increase the number of iterations.\n",
      "  warnings.warn(\n"
     ]
    },
    {
     "name": "stdout",
     "output_type": "stream",
     "text": [
      "2023-06-07 06:11:37 INFO: POS REMOVAL\n",
      "2023-06-07 06:11:37 INFO: DOCUMENT TRANSFORMER\n",
      "2023-06-07 06:11:37 INFO: POS REMOVAL\n",
      "2023-06-07 06:11:37 INFO: DOCUMENT TRANSFORMER\n"
     ]
    },
    {
     "name": "stderr",
     "output_type": "stream",
     "text": [
      "c:\\Users\\c10nGp4\\anaconda3\\envs\\imbalance-multi-classification\\lib\\site-packages\\sklearn\\svm\\_base.py:1244: ConvergenceWarning: Liblinear failed to converge, increase the number of iterations.\n",
      "  warnings.warn(\n"
     ]
    },
    {
     "name": "stdout",
     "output_type": "stream",
     "text": [
      "2023-06-07 06:11:40 INFO: POS REMOVAL\n",
      "2023-06-07 06:11:40 INFO: DOCUMENT TRANSFORMER\n",
      "2023-06-07 06:11:40 INFO: POS REMOVAL\n",
      "2023-06-07 06:11:40 INFO: DOCUMENT TRANSFORMER\n"
     ]
    },
    {
     "name": "stderr",
     "output_type": "stream",
     "text": [
      "c:\\Users\\c10nGp4\\anaconda3\\envs\\imbalance-multi-classification\\lib\\site-packages\\sklearn\\svm\\_base.py:1244: ConvergenceWarning: Liblinear failed to converge, increase the number of iterations.\n",
      "  warnings.warn(\n"
     ]
    },
    {
     "name": "stdout",
     "output_type": "stream",
     "text": [
      "2023-06-07 06:11:43 INFO: POS REMOVAL\n",
      "2023-06-07 06:11:43 INFO: DOCUMENT TRANSFORMER\n",
      "2023-06-07 06:11:43 INFO: POS REMOVAL\n",
      "2023-06-07 06:11:43 INFO: DOCUMENT TRANSFORMER\n"
     ]
    },
    {
     "name": "stderr",
     "output_type": "stream",
     "text": [
      "c:\\Users\\c10nGp4\\anaconda3\\envs\\imbalance-multi-classification\\lib\\site-packages\\sklearn\\svm\\_base.py:1244: ConvergenceWarning: Liblinear failed to converge, increase the number of iterations.\n",
      "  warnings.warn(\n"
     ]
    },
    {
     "name": "stdout",
     "output_type": "stream",
     "text": [
      "2023-06-07 06:11:46 INFO: POS REMOVAL\n",
      "2023-06-07 06:11:46 INFO: DOCUMENT TRANSFORMER\n",
      "2023-06-07 06:11:46 INFO: POS REMOVAL\n",
      "2023-06-07 06:11:47 INFO: DOCUMENT TRANSFORMER\n"
     ]
    },
    {
     "name": "stderr",
     "output_type": "stream",
     "text": [
      "c:\\Users\\c10nGp4\\anaconda3\\envs\\imbalance-multi-classification\\lib\\site-packages\\sklearn\\svm\\_base.py:1244: ConvergenceWarning: Liblinear failed to converge, increase the number of iterations.\n",
      "  warnings.warn(\n"
     ]
    },
    {
     "name": "stdout",
     "output_type": "stream",
     "text": [
      "2023-06-07 06:11:50 INFO: POS REMOVAL\n",
      "2023-06-07 06:11:50 INFO: DOCUMENT TRANSFORMER\n",
      "2023-06-07 06:11:50 INFO: POS REMOVAL\n",
      "2023-06-07 06:11:50 INFO: DOCUMENT TRANSFORMER\n"
     ]
    },
    {
     "name": "stderr",
     "output_type": "stream",
     "text": [
      "c:\\Users\\c10nGp4\\anaconda3\\envs\\imbalance-multi-classification\\lib\\site-packages\\sklearn\\svm\\_base.py:1244: ConvergenceWarning: Liblinear failed to converge, increase the number of iterations.\n",
      "  warnings.warn(\n"
     ]
    },
    {
     "name": "stdout",
     "output_type": "stream",
     "text": [
      "2023-06-07 06:11:54 INFO: POS REMOVAL\n",
      "2023-06-07 06:11:54 INFO: DOCUMENT TRANSFORMER\n",
      "2023-06-07 06:11:54 INFO: POS REMOVAL\n",
      "2023-06-07 06:11:54 INFO: DOCUMENT TRANSFORMER\n"
     ]
    },
    {
     "name": "stderr",
     "output_type": "stream",
     "text": [
      "c:\\Users\\c10nGp4\\anaconda3\\envs\\imbalance-multi-classification\\lib\\site-packages\\sklearn\\svm\\_base.py:1244: ConvergenceWarning: Liblinear failed to converge, increase the number of iterations.\n",
      "  warnings.warn(\n"
     ]
    },
    {
     "name": "stdout",
     "output_type": "stream",
     "text": [
      "2023-06-07 06:11:57 INFO: POS REMOVAL\n",
      "2023-06-07 06:11:57 INFO: DOCUMENT TRANSFORMER\n",
      "2023-06-07 06:11:57 INFO: POS REMOVAL\n",
      "2023-06-07 06:11:57 INFO: DOCUMENT TRANSFORMER\n"
     ]
    },
    {
     "name": "stderr",
     "output_type": "stream",
     "text": [
      "c:\\Users\\c10nGp4\\anaconda3\\envs\\imbalance-multi-classification\\lib\\site-packages\\sklearn\\svm\\_base.py:1244: ConvergenceWarning: Liblinear failed to converge, increase the number of iterations.\n",
      "  warnings.warn(\n"
     ]
    },
    {
     "name": "stdout",
     "output_type": "stream",
     "text": [
      "2023-06-07 06:12:01 INFO: POS REMOVAL\n",
      "2023-06-07 06:12:01 INFO: DOCUMENT TRANSFORMER\n",
      "2023-06-07 06:12:01 INFO: POS REMOVAL\n",
      "2023-06-07 06:12:01 INFO: DOCUMENT TRANSFORMER\n"
     ]
    },
    {
     "name": "stderr",
     "output_type": "stream",
     "text": [
      "c:\\Users\\c10nGp4\\anaconda3\\envs\\imbalance-multi-classification\\lib\\site-packages\\sklearn\\svm\\_base.py:1244: ConvergenceWarning: Liblinear failed to converge, increase the number of iterations.\n",
      "  warnings.warn(\n"
     ]
    },
    {
     "name": "stdout",
     "output_type": "stream",
     "text": [
      "2023-06-07 06:12:04 INFO: POS REMOVAL\n",
      "2023-06-07 06:12:04 INFO: DOCUMENT TRANSFORMER\n",
      "2023-06-07 06:12:04 INFO: POS REMOVAL\n",
      "2023-06-07 06:12:04 INFO: DOCUMENT TRANSFORMER\n"
     ]
    },
    {
     "name": "stderr",
     "output_type": "stream",
     "text": [
      "c:\\Users\\c10nGp4\\anaconda3\\envs\\imbalance-multi-classification\\lib\\site-packages\\sklearn\\svm\\_base.py:1244: ConvergenceWarning: Liblinear failed to converge, increase the number of iterations.\n",
      "  warnings.warn(\n"
     ]
    },
    {
     "name": "stdout",
     "output_type": "stream",
     "text": [
      "2023-06-07 06:12:07 INFO: POS REMOVAL\n",
      "2023-06-07 06:12:07 INFO: DOCUMENT TRANSFORMER\n",
      "2023-06-07 06:12:08 INFO: POS REMOVAL\n",
      "2023-06-07 06:12:08 INFO: DOCUMENT TRANSFORMER\n"
     ]
    },
    {
     "name": "stderr",
     "output_type": "stream",
     "text": [
      "c:\\Users\\c10nGp4\\anaconda3\\envs\\imbalance-multi-classification\\lib\\site-packages\\sklearn\\svm\\_base.py:1244: ConvergenceWarning: Liblinear failed to converge, increase the number of iterations.\n",
      "  warnings.warn(\n"
     ]
    },
    {
     "name": "stdout",
     "output_type": "stream",
     "text": [
      "2023-06-07 06:12:11 INFO: POS REMOVAL\n",
      "2023-06-07 06:12:11 INFO: DOCUMENT TRANSFORMER\n",
      "2023-06-07 06:12:11 INFO: POS REMOVAL\n",
      "2023-06-07 06:12:11 INFO: DOCUMENT TRANSFORMER\n"
     ]
    },
    {
     "name": "stderr",
     "output_type": "stream",
     "text": [
      "c:\\Users\\c10nGp4\\anaconda3\\envs\\imbalance-multi-classification\\lib\\site-packages\\sklearn\\svm\\_base.py:1244: ConvergenceWarning: Liblinear failed to converge, increase the number of iterations.\n",
      "  warnings.warn(\n"
     ]
    },
    {
     "name": "stdout",
     "output_type": "stream",
     "text": [
      "2023-06-07 06:12:14 INFO: POS REMOVAL\n",
      "2023-06-07 06:12:14 INFO: DOCUMENT TRANSFORMER\n",
      "2023-06-07 06:12:14 INFO: POS REMOVAL\n",
      "2023-06-07 06:12:15 INFO: DOCUMENT TRANSFORMER\n"
     ]
    },
    {
     "name": "stderr",
     "output_type": "stream",
     "text": [
      "c:\\Users\\c10nGp4\\anaconda3\\envs\\imbalance-multi-classification\\lib\\site-packages\\sklearn\\svm\\_base.py:1244: ConvergenceWarning: Liblinear failed to converge, increase the number of iterations.\n",
      "  warnings.warn(\n"
     ]
    },
    {
     "name": "stdout",
     "output_type": "stream",
     "text": [
      "2023-06-07 06:12:18 INFO: POS REMOVAL\n",
      "2023-06-07 06:12:18 INFO: DOCUMENT TRANSFORMER\n",
      "2023-06-07 06:12:18 INFO: POS REMOVAL\n",
      "2023-06-07 06:12:18 INFO: DOCUMENT TRANSFORMER\n"
     ]
    },
    {
     "name": "stderr",
     "output_type": "stream",
     "text": [
      "c:\\Users\\c10nGp4\\anaconda3\\envs\\imbalance-multi-classification\\lib\\site-packages\\sklearn\\svm\\_base.py:1244: ConvergenceWarning: Liblinear failed to converge, increase the number of iterations.\n",
      "  warnings.warn(\n"
     ]
    },
    {
     "name": "stdout",
     "output_type": "stream",
     "text": [
      "2023-06-07 06:12:21 INFO: POS REMOVAL\n",
      "2023-06-07 06:12:21 INFO: DOCUMENT TRANSFORMER\n",
      "2023-06-07 06:12:21 INFO: POS REMOVAL\n",
      "2023-06-07 06:12:21 INFO: DOCUMENT TRANSFORMER\n"
     ]
    },
    {
     "name": "stderr",
     "output_type": "stream",
     "text": [
      "c:\\Users\\c10nGp4\\anaconda3\\envs\\imbalance-multi-classification\\lib\\site-packages\\sklearn\\svm\\_base.py:1244: ConvergenceWarning: Liblinear failed to converge, increase the number of iterations.\n",
      "  warnings.warn(\n"
     ]
    },
    {
     "name": "stdout",
     "output_type": "stream",
     "text": [
      "2023-06-07 06:12:25 INFO: POS REMOVAL\n",
      "2023-06-07 06:12:25 INFO: DOCUMENT TRANSFORMER\n",
      "2023-06-07 06:12:25 INFO: POS REMOVAL\n",
      "2023-06-07 06:12:25 INFO: DOCUMENT TRANSFORMER\n"
     ]
    },
    {
     "name": "stderr",
     "output_type": "stream",
     "text": [
      "c:\\Users\\c10nGp4\\anaconda3\\envs\\imbalance-multi-classification\\lib\\site-packages\\sklearn\\svm\\_base.py:1244: ConvergenceWarning: Liblinear failed to converge, increase the number of iterations.\n",
      "  warnings.warn(\n"
     ]
    },
    {
     "name": "stdout",
     "output_type": "stream",
     "text": [
      "2023-06-07 06:12:28 INFO: POS REMOVAL\n",
      "2023-06-07 06:12:28 INFO: DOCUMENT TRANSFORMER\n",
      "2023-06-07 06:12:28 INFO: POS REMOVAL\n",
      "2023-06-07 06:12:28 INFO: DOCUMENT TRANSFORMER\n"
     ]
    },
    {
     "name": "stderr",
     "output_type": "stream",
     "text": [
      "c:\\Users\\c10nGp4\\anaconda3\\envs\\imbalance-multi-classification\\lib\\site-packages\\sklearn\\svm\\_base.py:1244: ConvergenceWarning: Liblinear failed to converge, increase the number of iterations.\n",
      "  warnings.warn(\n"
     ]
    },
    {
     "name": "stdout",
     "output_type": "stream",
     "text": [
      "2023-06-07 06:12:31 INFO: POS REMOVAL\n",
      "2023-06-07 06:12:31 INFO: DOCUMENT TRANSFORMER\n",
      "2023-06-07 06:12:32 INFO: POS REMOVAL\n",
      "2023-06-07 06:12:32 INFO: DOCUMENT TRANSFORMER\n"
     ]
    },
    {
     "name": "stderr",
     "output_type": "stream",
     "text": [
      "c:\\Users\\c10nGp4\\anaconda3\\envs\\imbalance-multi-classification\\lib\\site-packages\\sklearn\\svm\\_base.py:1244: ConvergenceWarning: Liblinear failed to converge, increase the number of iterations.\n",
      "  warnings.warn(\n"
     ]
    },
    {
     "name": "stdout",
     "output_type": "stream",
     "text": [
      "2023-06-07 06:12:35 INFO: POS REMOVAL\n",
      "2023-06-07 06:12:35 INFO: DOCUMENT TRANSFORMER\n",
      "2023-06-07 06:12:35 INFO: POS REMOVAL\n",
      "2023-06-07 06:12:35 INFO: DOCUMENT TRANSFORMER\n"
     ]
    },
    {
     "name": "stderr",
     "output_type": "stream",
     "text": [
      "c:\\Users\\c10nGp4\\anaconda3\\envs\\imbalance-multi-classification\\lib\\site-packages\\sklearn\\svm\\_base.py:1244: ConvergenceWarning: Liblinear failed to converge, increase the number of iterations.\n",
      "  warnings.warn(\n"
     ]
    },
    {
     "name": "stdout",
     "output_type": "stream",
     "text": [
      "2023-06-07 06:12:38 INFO: POS REMOVAL\n",
      "2023-06-07 06:12:38 INFO: DOCUMENT TRANSFORMER\n",
      "2023-06-07 06:12:39 INFO: POS REMOVAL\n",
      "2023-06-07 06:12:39 INFO: DOCUMENT TRANSFORMER\n"
     ]
    },
    {
     "name": "stderr",
     "output_type": "stream",
     "text": [
      "c:\\Users\\c10nGp4\\anaconda3\\envs\\imbalance-multi-classification\\lib\\site-packages\\sklearn\\svm\\_base.py:1244: ConvergenceWarning: Liblinear failed to converge, increase the number of iterations.\n",
      "  warnings.warn(\n"
     ]
    },
    {
     "name": "stdout",
     "output_type": "stream",
     "text": [
      "2023-06-07 06:12:42 INFO: POS REMOVAL\n",
      "2023-06-07 06:12:42 INFO: DOCUMENT TRANSFORMER\n",
      "2023-06-07 06:12:42 INFO: POS REMOVAL\n",
      "2023-06-07 06:12:42 INFO: DOCUMENT TRANSFORMER\n"
     ]
    },
    {
     "name": "stderr",
     "output_type": "stream",
     "text": [
      "c:\\Users\\c10nGp4\\anaconda3\\envs\\imbalance-multi-classification\\lib\\site-packages\\sklearn\\svm\\_base.py:1244: ConvergenceWarning: Liblinear failed to converge, increase the number of iterations.\n",
      "  warnings.warn(\n"
     ]
    },
    {
     "name": "stdout",
     "output_type": "stream",
     "text": [
      "2023-06-07 06:12:45 INFO: POS REMOVAL\n",
      "2023-06-07 06:12:45 INFO: DOCUMENT TRANSFORMER\n",
      "2023-06-07 06:12:45 INFO: POS REMOVAL\n",
      "2023-06-07 06:12:46 INFO: DOCUMENT TRANSFORMER\n"
     ]
    },
    {
     "name": "stderr",
     "output_type": "stream",
     "text": [
      "c:\\Users\\c10nGp4\\anaconda3\\envs\\imbalance-multi-classification\\lib\\site-packages\\sklearn\\svm\\_base.py:1244: ConvergenceWarning: Liblinear failed to converge, increase the number of iterations.\n",
      "  warnings.warn(\n"
     ]
    },
    {
     "name": "stdout",
     "output_type": "stream",
     "text": [
      "2023-06-07 06:12:49 INFO: POS REMOVAL\n",
      "2023-06-07 06:12:49 INFO: DOCUMENT TRANSFORMER\n",
      "2023-06-07 06:12:49 INFO: POS REMOVAL\n",
      "2023-06-07 06:12:49 INFO: DOCUMENT TRANSFORMER\n"
     ]
    },
    {
     "name": "stderr",
     "output_type": "stream",
     "text": [
      "c:\\Users\\c10nGp4\\anaconda3\\envs\\imbalance-multi-classification\\lib\\site-packages\\sklearn\\svm\\_base.py:1244: ConvergenceWarning: Liblinear failed to converge, increase the number of iterations.\n",
      "  warnings.warn(\n"
     ]
    },
    {
     "name": "stdout",
     "output_type": "stream",
     "text": [
      "2023-06-07 06:12:52 INFO: POS REMOVAL\n",
      "2023-06-07 06:12:52 INFO: DOCUMENT TRANSFORMER\n",
      "2023-06-07 06:12:53 INFO: POS REMOVAL\n",
      "2023-06-07 06:12:53 INFO: DOCUMENT TRANSFORMER\n"
     ]
    },
    {
     "name": "stderr",
     "output_type": "stream",
     "text": [
      "c:\\Users\\c10nGp4\\anaconda3\\envs\\imbalance-multi-classification\\lib\\site-packages\\sklearn\\svm\\_base.py:1244: ConvergenceWarning: Liblinear failed to converge, increase the number of iterations.\n",
      "  warnings.warn(\n"
     ]
    },
    {
     "name": "stdout",
     "output_type": "stream",
     "text": [
      "2023-06-07 06:12:56 INFO: POS REMOVAL\n",
      "2023-06-07 06:12:56 INFO: DOCUMENT TRANSFORMER\n",
      "2023-06-07 06:12:56 INFO: POS REMOVAL\n",
      "2023-06-07 06:12:56 INFO: DOCUMENT TRANSFORMER\n",
      "2023-06-07 06:12:56 INFO: POS REMOVAL\n",
      "2023-06-07 06:12:57 INFO: DOCUMENT TRANSFORMER\n",
      "2023-06-07 06:12:57 INFO: POS REMOVAL\n",
      "2023-06-07 06:12:57 INFO: DOCUMENT TRANSFORMER\n",
      "2023-06-07 06:12:57 INFO: POS REMOVAL\n",
      "2023-06-07 06:12:57 INFO: DOCUMENT TRANSFORMER\n",
      "2023-06-07 06:12:58 INFO: POS REMOVAL\n",
      "2023-06-07 06:12:58 INFO: DOCUMENT TRANSFORMER\n",
      "2023-06-07 06:12:58 INFO: POS REMOVAL\n",
      "2023-06-07 06:12:58 INFO: DOCUMENT TRANSFORMER\n",
      "2023-06-07 06:12:58 INFO: POS REMOVAL\n",
      "2023-06-07 06:12:59 INFO: DOCUMENT TRANSFORMER\n",
      "2023-06-07 06:12:59 INFO: POS REMOVAL\n",
      "2023-06-07 06:12:59 INFO: DOCUMENT TRANSFORMER\n",
      "2023-06-07 06:12:59 INFO: POS REMOVAL\n",
      "2023-06-07 06:12:59 INFO: DOCUMENT TRANSFORMER\n",
      "2023-06-07 06:13:00 INFO: POS REMOVAL\n",
      "2023-06-07 06:13:00 INFO: DOCUMENT TRANSFORMER\n",
      "2023-06-07 06:13:00 INFO: POS REMOVAL\n",
      "2023-06-07 06:13:00 INFO: DOCUMENT TRANSFORMER\n",
      "2023-06-07 06:13:01 INFO: POS REMOVAL\n",
      "2023-06-07 06:13:01 INFO: DOCUMENT TRANSFORMER\n",
      "2023-06-07 06:13:01 INFO: POS REMOVAL\n",
      "2023-06-07 06:13:01 INFO: DOCUMENT TRANSFORMER\n",
      "2023-06-07 06:13:01 INFO: POS REMOVAL\n",
      "2023-06-07 06:13:01 INFO: DOCUMENT TRANSFORMER\n",
      "2023-06-07 06:13:02 INFO: POS REMOVAL\n",
      "2023-06-07 06:13:02 INFO: DOCUMENT TRANSFORMER\n",
      "2023-06-07 06:13:02 INFO: POS REMOVAL\n",
      "2023-06-07 06:13:02 INFO: DOCUMENT TRANSFORMER\n",
      "2023-06-07 06:13:03 INFO: POS REMOVAL\n",
      "2023-06-07 06:13:03 INFO: DOCUMENT TRANSFORMER\n",
      "2023-06-07 06:13:03 INFO: POS REMOVAL\n",
      "2023-06-07 06:13:03 INFO: DOCUMENT TRANSFORMER\n",
      "2023-06-07 06:13:03 INFO: POS REMOVAL\n",
      "2023-06-07 06:13:04 INFO: DOCUMENT TRANSFORMER\n",
      "2023-06-07 06:13:04 INFO: POS REMOVAL\n",
      "2023-06-07 06:13:04 INFO: DOCUMENT TRANSFORMER\n",
      "2023-06-07 06:13:04 INFO: POS REMOVAL\n",
      "2023-06-07 06:13:04 INFO: DOCUMENT TRANSFORMER\n",
      "2023-06-07 06:13:05 INFO: POS REMOVAL\n",
      "2023-06-07 06:13:05 INFO: DOCUMENT TRANSFORMER\n",
      "2023-06-07 06:13:05 INFO: POS REMOVAL\n",
      "2023-06-07 06:13:05 INFO: DOCUMENT TRANSFORMER\n",
      "2023-06-07 06:13:06 INFO: POS REMOVAL\n",
      "2023-06-07 06:13:06 INFO: DOCUMENT TRANSFORMER\n",
      "2023-06-07 06:13:06 INFO: POS REMOVAL\n",
      "2023-06-07 06:13:06 INFO: DOCUMENT TRANSFORMER\n",
      "2023-06-07 06:13:07 INFO: POS REMOVAL\n",
      "2023-06-07 06:13:07 INFO: DOCUMENT TRANSFORMER\n",
      "2023-06-07 06:13:08 INFO: POS REMOVAL\n",
      "2023-06-07 06:13:08 INFO: DOCUMENT TRANSFORMER\n",
      "2023-06-07 06:13:08 INFO: POS REMOVAL\n",
      "2023-06-07 06:13:09 INFO: DOCUMENT TRANSFORMER\n",
      "2023-06-07 06:13:09 INFO: POS REMOVAL\n",
      "2023-06-07 06:13:09 INFO: DOCUMENT TRANSFORMER\n",
      "2023-06-07 06:13:10 INFO: POS REMOVAL\n",
      "2023-06-07 06:13:10 INFO: DOCUMENT TRANSFORMER\n",
      "2023-06-07 06:13:10 INFO: POS REMOVAL\n",
      "2023-06-07 06:13:10 INFO: DOCUMENT TRANSFORMER\n",
      "2023-06-07 06:13:11 INFO: POS REMOVAL\n",
      "2023-06-07 06:13:11 INFO: DOCUMENT TRANSFORMER\n",
      "2023-06-07 06:13:11 INFO: POS REMOVAL\n",
      "2023-06-07 06:13:11 INFO: DOCUMENT TRANSFORMER\n",
      "2023-06-07 06:13:12 INFO: POS REMOVAL\n",
      "2023-06-07 06:13:12 INFO: DOCUMENT TRANSFORMER\n",
      "2023-06-07 06:13:12 INFO: POS REMOVAL\n",
      "2023-06-07 06:13:12 INFO: DOCUMENT TRANSFORMER\n",
      "2023-06-07 06:13:13 INFO: POS REMOVAL\n",
      "2023-06-07 06:13:13 INFO: DOCUMENT TRANSFORMER\n",
      "2023-06-07 06:13:13 INFO: POS REMOVAL\n",
      "2023-06-07 06:13:14 INFO: DOCUMENT TRANSFORMER\n",
      "2023-06-07 06:13:14 INFO: POS REMOVAL\n",
      "2023-06-07 06:13:14 INFO: DOCUMENT TRANSFORMER\n",
      "2023-06-07 06:13:15 INFO: POS REMOVAL\n",
      "2023-06-07 06:13:15 INFO: DOCUMENT TRANSFORMER\n",
      "2023-06-07 06:13:15 INFO: POS REMOVAL\n",
      "2023-06-07 06:13:15 INFO: DOCUMENT TRANSFORMER\n",
      "2023-06-07 06:13:16 INFO: POS REMOVAL\n",
      "2023-06-07 06:13:16 INFO: DOCUMENT TRANSFORMER\n",
      "2023-06-07 06:13:16 INFO: POS REMOVAL\n",
      "2023-06-07 06:13:16 INFO: DOCUMENT TRANSFORMER\n",
      "2023-06-07 06:13:16 INFO: POS REMOVAL\n",
      "2023-06-07 06:13:17 INFO: DOCUMENT TRANSFORMER\n",
      "2023-06-07 06:13:17 INFO: POS REMOVAL\n",
      "2023-06-07 06:13:17 INFO: DOCUMENT TRANSFORMER\n",
      "2023-06-07 06:13:17 INFO: POS REMOVAL\n",
      "2023-06-07 06:13:17 INFO: DOCUMENT TRANSFORMER\n",
      "2023-06-07 06:13:18 INFO: POS REMOVAL\n",
      "2023-06-07 06:13:18 INFO: DOCUMENT TRANSFORMER\n",
      "2023-06-07 06:13:18 INFO: POS REMOVAL\n",
      "2023-06-07 06:13:18 INFO: DOCUMENT TRANSFORMER\n",
      "2023-06-07 06:13:18 INFO: POS REMOVAL\n",
      "2023-06-07 06:13:19 INFO: DOCUMENT TRANSFORMER\n",
      "2023-06-07 06:13:19 INFO: POS REMOVAL\n",
      "2023-06-07 06:13:19 INFO: DOCUMENT TRANSFORMER\n",
      "2023-06-07 06:13:19 INFO: POS REMOVAL\n",
      "2023-06-07 06:13:19 INFO: DOCUMENT TRANSFORMER\n",
      "2023-06-07 06:13:20 INFO: POS REMOVAL\n",
      "2023-06-07 06:13:20 INFO: DOCUMENT TRANSFORMER\n",
      "2023-06-07 06:13:20 INFO: POS REMOVAL\n",
      "2023-06-07 06:13:20 INFO: DOCUMENT TRANSFORMER\n",
      "2023-06-07 06:13:21 INFO: POS REMOVAL\n",
      "2023-06-07 06:13:21 INFO: DOCUMENT TRANSFORMER\n",
      "2023-06-07 06:13:21 INFO: POS REMOVAL\n",
      "2023-06-07 06:13:21 INFO: DOCUMENT TRANSFORMER\n",
      "2023-06-07 06:13:21 INFO: POS REMOVAL\n",
      "2023-06-07 06:13:21 INFO: DOCUMENT TRANSFORMER\n",
      "2023-06-07 06:13:22 INFO: POS REMOVAL\n",
      "2023-06-07 06:13:22 INFO: DOCUMENT TRANSFORMER\n",
      "2023-06-07 06:13:22 INFO: POS REMOVAL\n",
      "2023-06-07 06:13:22 INFO: DOCUMENT TRANSFORMER\n",
      "2023-06-07 06:13:23 INFO: POS REMOVAL\n",
      "2023-06-07 06:13:23 INFO: DOCUMENT TRANSFORMER\n",
      "2023-06-07 06:13:23 INFO: POS REMOVAL\n",
      "2023-06-07 06:13:23 INFO: DOCUMENT TRANSFORMER\n",
      "2023-06-07 06:13:23 INFO: POS REMOVAL\n",
      "2023-06-07 06:13:23 INFO: DOCUMENT TRANSFORMER\n",
      "2023-06-07 06:13:24 INFO: POS REMOVAL\n",
      "2023-06-07 06:13:24 INFO: DOCUMENT TRANSFORMER\n",
      "2023-06-07 06:13:24 INFO: POS REMOVAL\n",
      "2023-06-07 06:13:24 INFO: DOCUMENT TRANSFORMER\n",
      "2023-06-07 06:13:25 INFO: POS REMOVAL\n",
      "2023-06-07 06:13:25 INFO: DOCUMENT TRANSFORMER\n",
      "2023-06-07 06:13:25 INFO: POS REMOVAL\n",
      "2023-06-07 06:13:25 INFO: DOCUMENT TRANSFORMER\n",
      "2023-06-07 06:13:26 INFO: POS REMOVAL\n",
      "2023-06-07 06:13:26 INFO: DOCUMENT TRANSFORMER\n",
      "2023-06-07 06:13:26 INFO: POS REMOVAL\n",
      "2023-06-07 06:13:26 INFO: DOCUMENT TRANSFORMER\n",
      "2023-06-07 06:13:27 INFO: POS REMOVAL\n",
      "2023-06-07 06:13:27 INFO: DOCUMENT TRANSFORMER\n",
      "2023-06-07 06:13:27 INFO: POS REMOVAL\n",
      "2023-06-07 06:13:27 INFO: DOCUMENT TRANSFORMER\n",
      "2023-06-07 06:13:27 INFO: POS REMOVAL\n",
      "2023-06-07 06:13:28 INFO: DOCUMENT TRANSFORMER\n",
      "2023-06-07 06:13:28 INFO: POS REMOVAL\n",
      "2023-06-07 06:13:28 INFO: DOCUMENT TRANSFORMER\n",
      "2023-06-07 06:13:28 INFO: POS REMOVAL\n",
      "2023-06-07 06:13:29 INFO: DOCUMENT TRANSFORMER\n",
      "2023-06-07 06:13:29 INFO: POS REMOVAL\n",
      "2023-06-07 06:13:29 INFO: DOCUMENT TRANSFORMER\n",
      "2023-06-07 06:13:29 INFO: POS REMOVAL\n",
      "2023-06-07 06:13:30 INFO: DOCUMENT TRANSFORMER\n",
      "2023-06-07 06:13:30 INFO: POS REMOVAL\n",
      "2023-06-07 06:13:30 INFO: DOCUMENT TRANSFORMER\n",
      "2023-06-07 06:13:31 INFO: POS REMOVAL\n",
      "2023-06-07 06:13:31 INFO: DOCUMENT TRANSFORMER\n",
      "2023-06-07 06:13:31 INFO: POS REMOVAL\n",
      "2023-06-07 06:13:31 INFO: DOCUMENT TRANSFORMER\n",
      "2023-06-07 06:13:32 INFO: POS REMOVAL\n",
      "2023-06-07 06:13:32 INFO: DOCUMENT TRANSFORMER\n",
      "2023-06-07 06:13:32 INFO: POS REMOVAL\n",
      "2023-06-07 06:13:32 INFO: DOCUMENT TRANSFORMER\n",
      "2023-06-07 06:13:33 INFO: POS REMOVAL\n",
      "2023-06-07 06:13:33 INFO: DOCUMENT TRANSFORMER\n",
      "2023-06-07 06:13:33 INFO: POS REMOVAL\n",
      "2023-06-07 06:13:33 INFO: DOCUMENT TRANSFORMER\n",
      "2023-06-07 06:13:34 INFO: POS REMOVAL\n",
      "2023-06-07 06:13:34 INFO: DOCUMENT TRANSFORMER\n",
      "2023-06-07 06:13:34 INFO: POS REMOVAL\n",
      "2023-06-07 06:13:34 INFO: DOCUMENT TRANSFORMER\n",
      "2023-06-07 06:13:35 INFO: POS REMOVAL\n",
      "2023-06-07 06:13:35 INFO: DOCUMENT TRANSFORMER\n",
      "2023-06-07 06:13:35 INFO: POS REMOVAL\n",
      "2023-06-07 06:13:35 INFO: DOCUMENT TRANSFORMER\n",
      "2023-06-07 06:13:35 INFO: POS REMOVAL\n",
      "2023-06-07 06:13:35 INFO: DOCUMENT TRANSFORMER\n",
      "2023-06-07 06:13:36 INFO: POS REMOVAL\n",
      "2023-06-07 06:13:36 INFO: DOCUMENT TRANSFORMER\n",
      "2023-06-07 06:13:36 INFO: POS REMOVAL\n",
      "2023-06-07 06:13:36 INFO: DOCUMENT TRANSFORMER\n",
      "2023-06-07 06:13:37 INFO: POS REMOVAL\n",
      "2023-06-07 06:13:37 INFO: DOCUMENT TRANSFORMER\n",
      "2023-06-07 06:13:37 INFO: POS REMOVAL\n",
      "2023-06-07 06:13:37 INFO: DOCUMENT TRANSFORMER\n",
      "2023-06-07 06:13:37 INFO: POS REMOVAL\n",
      "2023-06-07 06:13:37 INFO: DOCUMENT TRANSFORMER\n",
      "2023-06-07 06:13:38 INFO: POS REMOVAL\n",
      "2023-06-07 06:13:38 INFO: DOCUMENT TRANSFORMER\n",
      "2023-06-07 06:13:38 INFO: POS REMOVAL\n",
      "2023-06-07 06:13:38 INFO: DOCUMENT TRANSFORMER\n",
      "2023-06-07 06:13:39 INFO: POS REMOVAL\n",
      "2023-06-07 06:13:39 INFO: DOCUMENT TRANSFORMER\n",
      "2023-06-07 06:13:39 INFO: POS REMOVAL\n",
      "2023-06-07 06:13:39 INFO: DOCUMENT TRANSFORMER\n",
      "2023-06-07 06:13:39 INFO: POS REMOVAL\n",
      "2023-06-07 06:13:39 INFO: DOCUMENT TRANSFORMER\n",
      "2023-06-07 06:13:40 INFO: POS REMOVAL\n",
      "2023-06-07 06:13:40 INFO: DOCUMENT TRANSFORMER\n",
      "2023-06-07 06:13:40 INFO: POS REMOVAL\n",
      "2023-06-07 06:13:40 INFO: DOCUMENT TRANSFORMER\n",
      "2023-06-07 06:13:41 INFO: POS REMOVAL\n",
      "2023-06-07 06:13:41 INFO: DOCUMENT TRANSFORMER\n",
      "2023-06-07 06:13:41 INFO: POS REMOVAL\n",
      "2023-06-07 06:13:41 INFO: DOCUMENT TRANSFORMER\n",
      "2023-06-07 06:13:41 INFO: POS REMOVAL\n",
      "2023-06-07 06:13:41 INFO: DOCUMENT TRANSFORMER\n",
      "2023-06-07 06:13:42 INFO: POS REMOVAL\n",
      "2023-06-07 06:13:42 INFO: DOCUMENT TRANSFORMER\n",
      "2023-06-07 06:13:42 INFO: POS REMOVAL\n",
      "2023-06-07 06:13:42 INFO: DOCUMENT TRANSFORMER\n",
      "2023-06-07 06:13:43 INFO: POS REMOVAL\n",
      "2023-06-07 06:13:43 INFO: DOCUMENT TRANSFORMER\n",
      "2023-06-07 06:13:43 INFO: POS REMOVAL\n",
      "2023-06-07 06:13:44 INFO: DOCUMENT TRANSFORMER\n",
      "2023-06-07 06:13:44 INFO: POS REMOVAL\n",
      "2023-06-07 06:13:44 INFO: DOCUMENT TRANSFORMER\n",
      "2023-06-07 06:13:45 INFO: POS REMOVAL\n",
      "2023-06-07 06:13:45 INFO: DOCUMENT TRANSFORMER\n",
      "2023-06-07 06:13:45 INFO: POS REMOVAL\n",
      "2023-06-07 06:13:45 INFO: DOCUMENT TRANSFORMER\n",
      "2023-06-07 06:13:46 INFO: POS REMOVAL\n",
      "2023-06-07 06:13:46 INFO: DOCUMENT TRANSFORMER\n",
      "2023-06-07 06:13:46 INFO: POS REMOVAL\n",
      "2023-06-07 06:13:46 INFO: DOCUMENT TRANSFORMER\n",
      "2023-06-07 06:13:47 INFO: POS REMOVAL\n",
      "2023-06-07 06:13:47 INFO: DOCUMENT TRANSFORMER\n",
      "2023-06-07 06:13:47 INFO: POS REMOVAL\n",
      "2023-06-07 06:13:47 INFO: DOCUMENT TRANSFORMER\n",
      "2023-06-07 06:13:48 INFO: POS REMOVAL\n",
      "2023-06-07 06:13:48 INFO: DOCUMENT TRANSFORMER\n",
      "2023-06-07 06:13:48 INFO: POS REMOVAL\n",
      "2023-06-07 06:13:48 INFO: DOCUMENT TRANSFORMER\n",
      "2023-06-07 06:13:49 INFO: POS REMOVAL\n",
      "2023-06-07 06:13:49 INFO: DOCUMENT TRANSFORMER\n",
      "2023-06-07 06:13:49 INFO: POS REMOVAL\n",
      "2023-06-07 06:13:49 INFO: DOCUMENT TRANSFORMER\n",
      "2023-06-07 06:13:50 INFO: POS REMOVAL\n",
      "2023-06-07 06:13:50 INFO: DOCUMENT TRANSFORMER\n",
      "2023-06-07 06:13:51 INFO: POS REMOVAL\n",
      "2023-06-07 06:13:51 INFO: DOCUMENT TRANSFORMER\n",
      "2023-06-07 06:13:51 INFO: POS REMOVAL\n",
      "2023-06-07 06:13:51 INFO: DOCUMENT TRANSFORMER\n",
      "2023-06-07 06:13:52 INFO: POS REMOVAL\n",
      "2023-06-07 06:13:52 INFO: DOCUMENT TRANSFORMER\n",
      "2023-06-07 06:13:53 INFO: POS REMOVAL\n",
      "2023-06-07 06:13:53 INFO: DOCUMENT TRANSFORMER\n",
      "2023-06-07 06:13:53 INFO: POS REMOVAL\n",
      "2023-06-07 06:13:53 INFO: DOCUMENT TRANSFORMER\n",
      "2023-06-07 06:13:54 INFO: POS REMOVAL\n",
      "2023-06-07 06:13:54 INFO: DOCUMENT TRANSFORMER\n",
      "2023-06-07 06:13:54 INFO: POS REMOVAL\n",
      "2023-06-07 06:13:54 INFO: DOCUMENT TRANSFORMER\n",
      "2023-06-07 06:13:54 INFO: POS REMOVAL\n",
      "2023-06-07 06:13:54 INFO: DOCUMENT TRANSFORMER\n",
      "2023-06-07 06:13:55 INFO: POS REMOVAL\n",
      "2023-06-07 06:13:55 INFO: DOCUMENT TRANSFORMER\n",
      "2023-06-07 06:13:55 INFO: POS REMOVAL\n",
      "2023-06-07 06:13:55 INFO: DOCUMENT TRANSFORMER\n",
      "2023-06-07 06:13:56 INFO: POS REMOVAL\n",
      "2023-06-07 06:13:56 INFO: DOCUMENT TRANSFORMER\n",
      "2023-06-07 06:13:56 INFO: POS REMOVAL\n",
      "2023-06-07 06:13:56 INFO: DOCUMENT TRANSFORMER\n",
      "2023-06-07 06:13:56 INFO: POS REMOVAL\n",
      "2023-06-07 06:13:56 INFO: DOCUMENT TRANSFORMER\n",
      "2023-06-07 06:13:57 INFO: POS REMOVAL\n",
      "2023-06-07 06:13:57 INFO: DOCUMENT TRANSFORMER\n",
      "2023-06-07 06:13:57 INFO: POS REMOVAL\n",
      "2023-06-07 06:13:57 INFO: DOCUMENT TRANSFORMER\n",
      "2023-06-07 06:13:58 INFO: POS REMOVAL\n",
      "2023-06-07 06:13:58 INFO: DOCUMENT TRANSFORMER\n",
      "2023-06-07 06:13:58 INFO: POS REMOVAL\n",
      "2023-06-07 06:13:58 INFO: DOCUMENT TRANSFORMER\n",
      "2023-06-07 06:13:58 INFO: POS REMOVAL\n",
      "2023-06-07 06:13:58 INFO: DOCUMENT TRANSFORMER\n",
      "2023-06-07 06:13:59 INFO: POS REMOVAL\n",
      "2023-06-07 06:13:59 INFO: DOCUMENT TRANSFORMER\n",
      "2023-06-07 06:13:59 INFO: POS REMOVAL\n",
      "2023-06-07 06:13:59 INFO: DOCUMENT TRANSFORMER\n",
      "2023-06-07 06:14:00 INFO: POS REMOVAL\n",
      "2023-06-07 06:14:00 INFO: DOCUMENT TRANSFORMER\n",
      "2023-06-07 06:14:00 INFO: POS REMOVAL\n",
      "2023-06-07 06:14:00 INFO: DOCUMENT TRANSFORMER\n",
      "2023-06-07 06:14:00 INFO: POS REMOVAL\n",
      "2023-06-07 06:14:00 INFO: DOCUMENT TRANSFORMER\n",
      "2023-06-07 06:14:01 INFO: POS REMOVAL\n",
      "2023-06-07 06:14:01 INFO: DOCUMENT TRANSFORMER\n",
      "2023-06-07 06:14:01 INFO: POS REMOVAL\n",
      "2023-06-07 06:14:01 INFO: DOCUMENT TRANSFORMER\n",
      "2023-06-07 06:14:02 INFO: POS REMOVAL\n",
      "2023-06-07 06:14:02 INFO: DOCUMENT TRANSFORMER\n",
      "2023-06-07 06:14:02 INFO: POS REMOVAL\n",
      "2023-06-07 06:14:02 INFO: DOCUMENT TRANSFORMER\n",
      "2023-06-07 06:14:03 INFO: POS REMOVAL\n",
      "2023-06-07 06:14:03 INFO: DOCUMENT TRANSFORMER\n",
      "2023-06-07 06:14:03 INFO: POS REMOVAL\n",
      "2023-06-07 06:14:03 INFO: DOCUMENT TRANSFORMER\n",
      "2023-06-07 06:14:04 INFO: POS REMOVAL\n",
      "2023-06-07 06:14:04 INFO: DOCUMENT TRANSFORMER\n",
      "2023-06-07 06:14:04 INFO: POS REMOVAL\n",
      "2023-06-07 06:14:04 INFO: DOCUMENT TRANSFORMER\n",
      "2023-06-07 06:14:05 INFO: POS REMOVAL\n",
      "2023-06-07 06:14:05 INFO: DOCUMENT TRANSFORMER\n",
      "2023-06-07 06:14:05 INFO: POS REMOVAL\n",
      "2023-06-07 06:14:05 INFO: DOCUMENT TRANSFORMER\n",
      "2023-06-07 06:14:06 INFO: POS REMOVAL\n",
      "2023-06-07 06:14:06 INFO: DOCUMENT TRANSFORMER\n",
      "2023-06-07 06:14:06 INFO: POS REMOVAL\n",
      "2023-06-07 06:14:06 INFO: DOCUMENT TRANSFORMER\n",
      "2023-06-07 06:14:07 INFO: POS REMOVAL\n",
      "2023-06-07 06:14:07 INFO: DOCUMENT TRANSFORMER\n",
      "2023-06-07 06:14:07 INFO: POS REMOVAL\n",
      "2023-06-07 06:14:07 INFO: DOCUMENT TRANSFORMER\n",
      "2023-06-07 06:14:08 INFO: POS REMOVAL\n",
      "2023-06-07 06:14:08 INFO: DOCUMENT TRANSFORMER\n",
      "2023-06-07 06:14:08 INFO: POS REMOVAL\n",
      "2023-06-07 06:14:08 INFO: DOCUMENT TRANSFORMER\n",
      "2023-06-07 06:14:09 INFO: POS REMOVAL\n",
      "2023-06-07 06:14:09 INFO: DOCUMENT TRANSFORMER\n",
      "2023-06-07 06:14:09 INFO: POS REMOVAL\n",
      "2023-06-07 06:14:09 INFO: DOCUMENT TRANSFORMER\n",
      "2023-06-07 06:14:10 INFO: POS REMOVAL\n",
      "2023-06-07 06:14:10 INFO: DOCUMENT TRANSFORMER\n",
      "2023-06-07 06:14:10 INFO: POS REMOVAL\n",
      "2023-06-07 06:14:10 INFO: DOCUMENT TRANSFORMER\n",
      "2023-06-07 06:14:11 INFO: POS REMOVAL\n",
      "2023-06-07 06:14:11 INFO: DOCUMENT TRANSFORMER\n",
      "2023-06-07 06:14:11 INFO: POS REMOVAL\n",
      "2023-06-07 06:14:11 INFO: DOCUMENT TRANSFORMER\n",
      "2023-06-07 06:14:11 INFO: POS REMOVAL\n",
      "2023-06-07 06:14:11 INFO: DOCUMENT TRANSFORMER\n",
      "2023-06-07 06:14:12 INFO: POS REMOVAL\n",
      "2023-06-07 06:14:12 INFO: DOCUMENT TRANSFORMER\n",
      "2023-06-07 06:14:12 INFO: POS REMOVAL\n",
      "2023-06-07 06:14:12 INFO: DOCUMENT TRANSFORMER\n",
      "2023-06-07 06:14:12 INFO: POS REMOVAL\n",
      "2023-06-07 06:14:12 INFO: DOCUMENT TRANSFORMER\n",
      "2023-06-07 06:14:13 INFO: POS REMOVAL\n",
      "2023-06-07 06:14:13 INFO: DOCUMENT TRANSFORMER\n",
      "2023-06-07 06:14:13 INFO: POS REMOVAL\n",
      "2023-06-07 06:14:13 INFO: DOCUMENT TRANSFORMER\n",
      "2023-06-07 06:14:13 INFO: POS REMOVAL\n",
      "2023-06-07 06:14:13 INFO: DOCUMENT TRANSFORMER\n",
      "2023-06-07 06:14:13 INFO: POS REMOVAL\n",
      "2023-06-07 06:14:13 INFO: DOCUMENT TRANSFORMER\n",
      "2023-06-07 06:14:14 INFO: POS REMOVAL\n",
      "2023-06-07 06:14:14 INFO: DOCUMENT TRANSFORMER\n",
      "2023-06-07 06:14:14 INFO: POS REMOVAL\n",
      "2023-06-07 06:14:14 INFO: DOCUMENT TRANSFORMER\n",
      "2023-06-07 06:14:15 INFO: POS REMOVAL\n",
      "2023-06-07 06:14:15 INFO: DOCUMENT TRANSFORMER\n",
      "2023-06-07 06:14:15 INFO: POS REMOVAL\n",
      "2023-06-07 06:14:15 INFO: DOCUMENT TRANSFORMER\n",
      "2023-06-07 06:14:15 INFO: POS REMOVAL\n",
      "2023-06-07 06:14:15 INFO: DOCUMENT TRANSFORMER\n",
      "2023-06-07 06:14:15 INFO: POS REMOVAL\n",
      "2023-06-07 06:14:15 INFO: DOCUMENT TRANSFORMER\n",
      "2023-06-07 06:14:16 INFO: POS REMOVAL\n",
      "2023-06-07 06:14:16 INFO: DOCUMENT TRANSFORMER\n",
      "2023-06-07 06:14:16 INFO: POS REMOVAL\n",
      "2023-06-07 06:14:16 INFO: DOCUMENT TRANSFORMER\n",
      "2023-06-07 06:14:16 INFO: POS REMOVAL\n",
      "2023-06-07 06:14:16 INFO: DOCUMENT TRANSFORMER\n",
      "2023-06-07 06:14:16 INFO: POS REMOVAL\n",
      "2023-06-07 06:14:16 INFO: DOCUMENT TRANSFORMER\n",
      "2023-06-07 06:14:17 INFO: POS REMOVAL\n",
      "2023-06-07 06:14:17 INFO: DOCUMENT TRANSFORMER\n",
      "2023-06-07 06:14:17 INFO: POS REMOVAL\n",
      "2023-06-07 06:14:17 INFO: DOCUMENT TRANSFORMER\n",
      "2023-06-07 06:14:17 INFO: POS REMOVAL\n",
      "2023-06-07 06:14:17 INFO: DOCUMENT TRANSFORMER\n",
      "2023-06-07 06:14:17 INFO: POS REMOVAL\n",
      "2023-06-07 06:14:18 INFO: DOCUMENT TRANSFORMER\n",
      "2023-06-07 06:14:18 INFO: POS REMOVAL\n",
      "2023-06-07 06:14:18 INFO: DOCUMENT TRANSFORMER\n",
      "2023-06-07 06:14:18 INFO: POS REMOVAL\n",
      "2023-06-07 06:14:18 INFO: DOCUMENT TRANSFORMER\n",
      "2023-06-07 06:14:18 INFO: POS REMOVAL\n",
      "2023-06-07 06:14:18 INFO: DOCUMENT TRANSFORMER\n",
      "2023-06-07 06:14:19 INFO: POS REMOVAL\n",
      "2023-06-07 06:14:19 INFO: DOCUMENT TRANSFORMER\n",
      "2023-06-07 06:14:19 INFO: POS REMOVAL\n",
      "2023-06-07 06:14:19 INFO: DOCUMENT TRANSFORMER\n",
      "2023-06-07 06:14:19 INFO: POS REMOVAL\n",
      "2023-06-07 06:14:19 INFO: DOCUMENT TRANSFORMER\n",
      "2023-06-07 06:14:20 INFO: POS REMOVAL\n",
      "2023-06-07 06:14:20 INFO: DOCUMENT TRANSFORMER\n",
      "2023-06-07 06:14:20 INFO: POS REMOVAL\n",
      "2023-06-07 06:14:20 INFO: DOCUMENT TRANSFORMER\n",
      "2023-06-07 06:14:20 INFO: POS REMOVAL\n",
      "2023-06-07 06:14:20 INFO: DOCUMENT TRANSFORMER\n",
      "2023-06-07 06:14:20 INFO: POS REMOVAL\n",
      "2023-06-07 06:14:20 INFO: DOCUMENT TRANSFORMER\n",
      "2023-06-07 06:14:21 INFO: POS REMOVAL\n",
      "2023-06-07 06:14:21 INFO: DOCUMENT TRANSFORMER\n",
      "2023-06-07 06:14:21 INFO: POS REMOVAL\n",
      "2023-06-07 06:14:21 INFO: DOCUMENT TRANSFORMER\n",
      "2023-06-07 06:14:21 INFO: POS REMOVAL\n",
      "2023-06-07 06:14:21 INFO: DOCUMENT TRANSFORMER\n",
      "2023-06-07 06:14:21 INFO: POS REMOVAL\n",
      "2023-06-07 06:14:21 INFO: DOCUMENT TRANSFORMER\n",
      "2023-06-07 06:14:22 INFO: POS REMOVAL\n",
      "2023-06-07 06:14:22 INFO: DOCUMENT TRANSFORMER\n",
      "2023-06-07 06:14:22 INFO: POS REMOVAL\n",
      "2023-06-07 06:14:22 INFO: DOCUMENT TRANSFORMER\n",
      "2023-06-07 06:14:22 INFO: POS REMOVAL\n",
      "2023-06-07 06:14:22 INFO: DOCUMENT TRANSFORMER\n",
      "2023-06-07 06:14:22 INFO: POS REMOVAL\n",
      "2023-06-07 06:14:22 INFO: DOCUMENT TRANSFORMER\n",
      "2023-06-07 06:14:23 INFO: POS REMOVAL\n",
      "2023-06-07 06:14:23 INFO: DOCUMENT TRANSFORMER\n",
      "2023-06-07 06:14:23 INFO: POS REMOVAL\n",
      "2023-06-07 06:14:23 INFO: DOCUMENT TRANSFORMER\n",
      "2023-06-07 06:14:24 INFO: POS REMOVAL\n",
      "2023-06-07 06:14:24 INFO: DOCUMENT TRANSFORMER\n",
      "2023-06-07 06:14:24 INFO: POS REMOVAL\n",
      "2023-06-07 06:14:24 INFO: DOCUMENT TRANSFORMER\n",
      "2023-06-07 06:14:24 INFO: POS REMOVAL\n",
      "2023-06-07 06:14:24 INFO: DOCUMENT TRANSFORMER\n",
      "2023-06-07 06:14:25 INFO: POS REMOVAL\n",
      "2023-06-07 06:14:25 INFO: DOCUMENT TRANSFORMER\n",
      "2023-06-07 06:14:25 INFO: POS REMOVAL\n",
      "2023-06-07 06:14:25 INFO: DOCUMENT TRANSFORMER\n",
      "2023-06-07 06:14:25 INFO: POS REMOVAL\n",
      "2023-06-07 06:14:25 INFO: DOCUMENT TRANSFORMER\n",
      "2023-06-07 06:14:26 INFO: POS REMOVAL\n",
      "2023-06-07 06:14:26 INFO: DOCUMENT TRANSFORMER\n",
      "2023-06-07 06:14:26 INFO: POS REMOVAL\n",
      "2023-06-07 06:14:26 INFO: DOCUMENT TRANSFORMER\n",
      "2023-06-07 06:14:27 INFO: POS REMOVAL\n",
      "2023-06-07 06:14:27 INFO: DOCUMENT TRANSFORMER\n",
      "2023-06-07 06:14:27 INFO: POS REMOVAL\n",
      "2023-06-07 06:14:27 INFO: DOCUMENT TRANSFORMER\n",
      "2023-06-07 06:14:27 INFO: POS REMOVAL\n",
      "2023-06-07 06:14:27 INFO: DOCUMENT TRANSFORMER\n",
      "2023-06-07 06:14:27 INFO: POS REMOVAL\n",
      "2023-06-07 06:14:28 INFO: DOCUMENT TRANSFORMER\n",
      "2023-06-07 06:14:28 INFO: POS REMOVAL\n",
      "2023-06-07 06:14:28 INFO: DOCUMENT TRANSFORMER\n",
      "2023-06-07 06:14:28 INFO: POS REMOVAL\n",
      "2023-06-07 06:14:28 INFO: DOCUMENT TRANSFORMER\n",
      "2023-06-07 06:14:29 INFO: POS REMOVAL\n",
      "2023-06-07 06:14:29 INFO: DOCUMENT TRANSFORMER\n",
      "2023-06-07 06:14:29 INFO: POS REMOVAL\n",
      "2023-06-07 06:14:29 INFO: DOCUMENT TRANSFORMER\n",
      "2023-06-07 06:14:30 INFO: POS REMOVAL\n",
      "2023-06-07 06:14:30 INFO: DOCUMENT TRANSFORMER\n",
      "2023-06-07 06:14:30 INFO: POS REMOVAL\n",
      "2023-06-07 06:14:30 INFO: DOCUMENT TRANSFORMER\n",
      "2023-06-07 06:14:30 INFO: POS REMOVAL\n",
      "2023-06-07 06:14:30 INFO: DOCUMENT TRANSFORMER\n",
      "2023-06-07 06:14:30 INFO: POS REMOVAL\n",
      "2023-06-07 06:14:30 INFO: DOCUMENT TRANSFORMER\n",
      "2023-06-07 06:14:31 INFO: POS REMOVAL\n",
      "2023-06-07 06:14:31 INFO: DOCUMENT TRANSFORMER\n",
      "2023-06-07 06:14:31 INFO: POS REMOVAL\n",
      "2023-06-07 06:14:31 INFO: DOCUMENT TRANSFORMER\n",
      "2023-06-07 06:14:32 INFO: POS REMOVAL\n",
      "2023-06-07 06:14:32 INFO: DOCUMENT TRANSFORMER\n",
      "2023-06-07 06:14:32 INFO: POS REMOVAL\n",
      "2023-06-07 06:14:32 INFO: DOCUMENT TRANSFORMER\n",
      "2023-06-07 06:14:32 INFO: POS REMOVAL\n",
      "2023-06-07 06:14:32 INFO: DOCUMENT TRANSFORMER\n",
      "2023-06-07 06:14:32 INFO: POS REMOVAL\n",
      "2023-06-07 06:14:33 INFO: DOCUMENT TRANSFORMER\n",
      "2023-06-07 06:14:33 INFO: POS REMOVAL\n",
      "2023-06-07 06:14:33 INFO: DOCUMENT TRANSFORMER\n",
      "2023-06-07 06:14:33 INFO: POS REMOVAL\n",
      "2023-06-07 06:14:33 INFO: DOCUMENT TRANSFORMER\n",
      "2023-06-07 06:14:34 INFO: POS REMOVAL\n",
      "2023-06-07 06:14:34 INFO: DOCUMENT TRANSFORMER\n",
      "2023-06-07 06:14:34 INFO: POS REMOVAL\n",
      "2023-06-07 06:14:34 INFO: DOCUMENT TRANSFORMER\n",
      "2023-06-07 06:14:35 INFO: POS REMOVAL\n",
      "2023-06-07 06:14:35 INFO: DOCUMENT TRANSFORMER\n",
      "2023-06-07 06:14:35 INFO: POS REMOVAL\n",
      "2023-06-07 06:14:35 INFO: DOCUMENT TRANSFORMER\n",
      "2023-06-07 06:14:35 INFO: POS REMOVAL\n",
      "2023-06-07 06:14:35 INFO: DOCUMENT TRANSFORMER\n",
      "2023-06-07 06:14:35 INFO: POS REMOVAL\n",
      "2023-06-07 06:14:35 INFO: DOCUMENT TRANSFORMER\n",
      "2023-06-07 06:14:36 INFO: POS REMOVAL\n",
      "2023-06-07 06:14:36 INFO: DOCUMENT TRANSFORMER\n",
      "2023-06-07 06:14:36 INFO: POS REMOVAL\n",
      "2023-06-07 06:14:36 INFO: DOCUMENT TRANSFORMER\n",
      "2023-06-07 06:14:37 INFO: POS REMOVAL\n",
      "2023-06-07 06:14:37 INFO: DOCUMENT TRANSFORMER\n",
      "2023-06-07 06:14:37 INFO: POS REMOVAL\n",
      "2023-06-07 06:14:37 INFO: DOCUMENT TRANSFORMER\n",
      "2023-06-07 06:14:37 INFO: POS REMOVAL\n",
      "2023-06-07 06:14:37 INFO: DOCUMENT TRANSFORMER\n",
      "2023-06-07 06:14:37 INFO: POS REMOVAL\n",
      "2023-06-07 06:14:37 INFO: DOCUMENT TRANSFORMER\n",
      "2023-06-07 06:14:38 INFO: POS REMOVAL\n",
      "2023-06-07 06:14:38 INFO: DOCUMENT TRANSFORMER\n",
      "2023-06-07 06:14:38 INFO: POS REMOVAL\n",
      "2023-06-07 06:14:38 INFO: DOCUMENT TRANSFORMER\n",
      "2023-06-07 06:14:38 INFO: POS REMOVAL\n",
      "2023-06-07 06:14:38 INFO: DOCUMENT TRANSFORMER\n",
      "2023-06-07 06:14:38 INFO: POS REMOVAL\n",
      "2023-06-07 06:14:39 INFO: DOCUMENT TRANSFORMER\n",
      "2023-06-07 06:14:39 INFO: POS REMOVAL\n",
      "2023-06-07 06:14:39 INFO: DOCUMENT TRANSFORMER\n",
      "2023-06-07 06:14:39 INFO: POS REMOVAL\n",
      "2023-06-07 06:14:39 INFO: DOCUMENT TRANSFORMER\n",
      "2023-06-07 06:14:39 INFO: POS REMOVAL\n",
      "2023-06-07 06:14:39 INFO: DOCUMENT TRANSFORMER\n",
      "2023-06-07 06:14:40 INFO: POS REMOVAL\n",
      "2023-06-07 06:14:40 INFO: DOCUMENT TRANSFORMER\n",
      "2023-06-07 06:14:40 INFO: POS REMOVAL\n",
      "2023-06-07 06:14:40 INFO: DOCUMENT TRANSFORMER\n",
      "2023-06-07 06:14:40 INFO: POS REMOVAL\n",
      "2023-06-07 06:14:40 INFO: DOCUMENT TRANSFORMER\n",
      "2023-06-07 06:14:41 INFO: POS REMOVAL\n",
      "2023-06-07 06:14:41 INFO: DOCUMENT TRANSFORMER\n",
      "2023-06-07 06:14:41 INFO: POS REMOVAL\n",
      "2023-06-07 06:14:41 INFO: DOCUMENT TRANSFORMER\n",
      "2023-06-07 06:14:41 INFO: POS REMOVAL\n",
      "2023-06-07 06:14:41 INFO: DOCUMENT TRANSFORMER\n",
      "2023-06-07 06:14:41 INFO: POS REMOVAL\n",
      "2023-06-07 06:14:41 INFO: DOCUMENT TRANSFORMER\n",
      "2023-06-07 06:14:42 INFO: POS REMOVAL\n",
      "2023-06-07 06:14:42 INFO: DOCUMENT TRANSFORMER\n",
      "2023-06-07 06:14:42 INFO: POS REMOVAL\n",
      "2023-06-07 06:14:42 INFO: DOCUMENT TRANSFORMER\n",
      "2023-06-07 06:14:42 INFO: POS REMOVAL\n",
      "2023-06-07 06:14:42 INFO: DOCUMENT TRANSFORMER\n",
      "2023-06-07 06:14:42 INFO: POS REMOVAL\n",
      "2023-06-07 06:14:42 INFO: DOCUMENT TRANSFORMER\n",
      "2023-06-07 06:14:43 INFO: POS REMOVAL\n",
      "2023-06-07 06:14:43 INFO: DOCUMENT TRANSFORMER\n",
      "2023-06-07 06:14:43 INFO: POS REMOVAL\n",
      "2023-06-07 06:14:43 INFO: DOCUMENT TRANSFORMER\n",
      "2023-06-07 06:14:44 INFO: POS REMOVAL\n",
      "2023-06-07 06:14:44 INFO: DOCUMENT TRANSFORMER\n",
      "2023-06-07 06:14:44 INFO: POS REMOVAL\n",
      "2023-06-07 06:14:44 INFO: DOCUMENT TRANSFORMER\n",
      "2023-06-07 06:14:44 INFO: POS REMOVAL\n",
      "2023-06-07 06:14:44 INFO: DOCUMENT TRANSFORMER\n",
      "2023-06-07 06:14:44 INFO: POS REMOVAL\n",
      "2023-06-07 06:14:44 INFO: DOCUMENT TRANSFORMER\n",
      "2023-06-07 06:14:45 INFO: POS REMOVAL\n",
      "2023-06-07 06:14:45 INFO: DOCUMENT TRANSFORMER\n",
      "2023-06-07 06:14:45 INFO: POS REMOVAL\n",
      "2023-06-07 06:14:45 INFO: DOCUMENT TRANSFORMER\n",
      "2023-06-07 06:14:45 INFO: POS REMOVAL\n",
      "2023-06-07 06:14:45 INFO: DOCUMENT TRANSFORMER\n",
      "2023-06-07 06:14:45 INFO: POS REMOVAL\n",
      "2023-06-07 06:14:45 INFO: DOCUMENT TRANSFORMER\n",
      "2023-06-07 06:14:46 INFO: POS REMOVAL\n",
      "2023-06-07 06:14:46 INFO: DOCUMENT TRANSFORMER\n",
      "2023-06-07 06:14:46 INFO: POS REMOVAL\n",
      "2023-06-07 06:14:46 INFO: DOCUMENT TRANSFORMER\n",
      "2023-06-07 06:14:46 INFO: POS REMOVAL\n",
      "2023-06-07 06:14:46 INFO: DOCUMENT TRANSFORMER\n",
      "2023-06-07 06:14:46 INFO: POS REMOVAL\n",
      "2023-06-07 06:14:47 INFO: DOCUMENT TRANSFORMER\n",
      "2023-06-07 06:14:47 INFO: POS REMOVAL\n",
      "2023-06-07 06:14:47 INFO: DOCUMENT TRANSFORMER\n",
      "2023-06-07 06:14:47 INFO: POS REMOVAL\n",
      "2023-06-07 06:14:47 INFO: DOCUMENT TRANSFORMER\n",
      "2023-06-07 06:14:47 INFO: POS REMOVAL\n",
      "2023-06-07 06:14:47 INFO: DOCUMENT TRANSFORMER\n",
      "2023-06-07 06:14:48 INFO: POS REMOVAL\n",
      "2023-06-07 06:14:48 INFO: DOCUMENT TRANSFORMER\n",
      "2023-06-07 06:14:48 INFO: POS REMOVAL\n",
      "2023-06-07 06:14:48 INFO: DOCUMENT TRANSFORMER\n",
      "2023-06-07 06:14:48 INFO: POS REMOVAL\n",
      "2023-06-07 06:14:48 INFO: DOCUMENT TRANSFORMER\n",
      "2023-06-07 06:14:49 INFO: POS REMOVAL\n",
      "2023-06-07 06:14:49 INFO: DOCUMENT TRANSFORMER\n",
      "2023-06-07 06:14:49 INFO: POS REMOVAL\n",
      "2023-06-07 06:14:49 INFO: DOCUMENT TRANSFORMER\n",
      "2023-06-07 06:14:49 INFO: POS REMOVAL\n",
      "2023-06-07 06:14:49 INFO: DOCUMENT TRANSFORMER\n",
      "2023-06-07 06:14:49 INFO: POS REMOVAL\n",
      "2023-06-07 06:14:49 INFO: DOCUMENT TRANSFORMER\n",
      "2023-06-07 06:14:50 INFO: POS REMOVAL\n",
      "2023-06-07 06:14:50 INFO: DOCUMENT TRANSFORMER\n",
      "2023-06-07 06:14:50 INFO: POS REMOVAL\n",
      "2023-06-07 06:14:50 INFO: DOCUMENT TRANSFORMER\n",
      "2023-06-07 06:14:50 INFO: POS REMOVAL\n",
      "2023-06-07 06:14:50 INFO: DOCUMENT TRANSFORMER\n",
      "2023-06-07 06:14:51 INFO: POS REMOVAL\n",
      "2023-06-07 06:14:51 INFO: DOCUMENT TRANSFORMER\n",
      "2023-06-07 06:14:51 INFO: POS REMOVAL\n",
      "2023-06-07 06:14:51 INFO: DOCUMENT TRANSFORMER\n",
      "2023-06-07 06:14:51 INFO: POS REMOVAL\n",
      "2023-06-07 06:14:51 INFO: DOCUMENT TRANSFORMER\n",
      "2023-06-07 06:14:52 INFO: POS REMOVAL\n",
      "2023-06-07 06:14:52 INFO: DOCUMENT TRANSFORMER\n",
      "2023-06-07 06:14:52 INFO: POS REMOVAL\n",
      "2023-06-07 06:14:52 INFO: DOCUMENT TRANSFORMER\n",
      "2023-06-07 06:14:52 INFO: POS REMOVAL\n",
      "2023-06-07 06:14:52 INFO: DOCUMENT TRANSFORMER\n",
      "2023-06-07 06:14:52 INFO: POS REMOVAL\n",
      "2023-06-07 06:14:53 INFO: DOCUMENT TRANSFORMER\n",
      "2023-06-07 06:14:53 INFO: POS REMOVAL\n",
      "2023-06-07 06:14:53 INFO: DOCUMENT TRANSFORMER\n",
      "2023-06-07 06:14:53 INFO: POS REMOVAL\n",
      "2023-06-07 06:14:53 INFO: DOCUMENT TRANSFORMER\n",
      "2023-06-07 06:14:54 INFO: POS REMOVAL\n",
      "2023-06-07 06:14:54 INFO: DOCUMENT TRANSFORMER\n",
      "2023-06-07 06:14:54 INFO: POS REMOVAL\n",
      "2023-06-07 06:14:54 INFO: DOCUMENT TRANSFORMER\n",
      "2023-06-07 06:14:54 INFO: POS REMOVAL\n",
      "2023-06-07 06:14:54 INFO: DOCUMENT TRANSFORMER\n",
      "2023-06-07 06:14:54 INFO: POS REMOVAL\n",
      "2023-06-07 06:14:54 INFO: DOCUMENT TRANSFORMER\n",
      "2023-06-07 06:14:55 INFO: POS REMOVAL\n",
      "2023-06-07 06:14:55 INFO: DOCUMENT TRANSFORMER\n",
      "2023-06-07 06:14:55 INFO: POS REMOVAL\n",
      "2023-06-07 06:14:55 INFO: DOCUMENT TRANSFORMER\n",
      "2023-06-07 06:14:56 INFO: POS REMOVAL\n",
      "2023-06-07 06:14:56 INFO: DOCUMENT TRANSFORMER\n",
      "2023-06-07 06:14:56 INFO: POS REMOVAL\n",
      "2023-06-07 06:14:56 INFO: DOCUMENT TRANSFORMER\n",
      "2023-06-07 06:14:56 INFO: POS REMOVAL\n",
      "2023-06-07 06:14:56 INFO: DOCUMENT TRANSFORMER\n",
      "2023-06-07 06:14:56 INFO: POS REMOVAL\n",
      "2023-06-07 06:14:56 INFO: DOCUMENT TRANSFORMER\n",
      "2023-06-07 06:14:57 INFO: POS REMOVAL\n",
      "2023-06-07 06:14:57 INFO: DOCUMENT TRANSFORMER\n",
      "2023-06-07 06:14:57 INFO: POS REMOVAL\n",
      "2023-06-07 06:14:57 INFO: DOCUMENT TRANSFORMER\n",
      "2023-06-07 06:14:57 INFO: POS REMOVAL\n",
      "2023-06-07 06:14:57 INFO: DOCUMENT TRANSFORMER\n",
      "2023-06-07 06:14:58 INFO: POS REMOVAL\n",
      "2023-06-07 06:14:58 INFO: DOCUMENT TRANSFORMER\n",
      "2023-06-07 06:14:58 INFO: POS REMOVAL\n",
      "2023-06-07 06:14:58 INFO: DOCUMENT TRANSFORMER\n",
      "2023-06-07 06:14:58 INFO: POS REMOVAL\n",
      "2023-06-07 06:14:58 INFO: DOCUMENT TRANSFORMER\n",
      "2023-06-07 06:14:59 INFO: POS REMOVAL\n",
      "2023-06-07 06:14:59 INFO: DOCUMENT TRANSFORMER\n",
      "2023-06-07 06:14:59 INFO: POS REMOVAL\n",
      "2023-06-07 06:14:59 INFO: DOCUMENT TRANSFORMER\n",
      "2023-06-07 06:14:59 INFO: POS REMOVAL\n",
      "2023-06-07 06:14:59 INFO: DOCUMENT TRANSFORMER\n",
      "2023-06-07 06:14:59 INFO: POS REMOVAL\n",
      "2023-06-07 06:15:00 INFO: DOCUMENT TRANSFORMER\n",
      "2023-06-07 06:15:00 INFO: POS REMOVAL\n",
      "2023-06-07 06:15:00 INFO: DOCUMENT TRANSFORMER\n",
      "2023-06-07 06:15:00 INFO: POS REMOVAL\n",
      "2023-06-07 06:15:00 INFO: DOCUMENT TRANSFORMER\n",
      "2023-06-07 06:15:01 INFO: POS REMOVAL\n",
      "2023-06-07 06:15:01 INFO: DOCUMENT TRANSFORMER\n",
      "2023-06-07 06:15:01 INFO: POS REMOVAL\n",
      "2023-06-07 06:15:01 INFO: DOCUMENT TRANSFORMER\n",
      "2023-06-07 06:15:01 INFO: POS REMOVAL\n",
      "2023-06-07 06:15:01 INFO: DOCUMENT TRANSFORMER\n",
      "2023-06-07 06:15:01 INFO: POS REMOVAL\n",
      "2023-06-07 06:15:01 INFO: DOCUMENT TRANSFORMER\n",
      "2023-06-07 06:15:02 INFO: POS REMOVAL\n",
      "2023-06-07 06:15:02 INFO: DOCUMENT TRANSFORMER\n",
      "2023-06-07 06:15:02 INFO: POS REMOVAL\n",
      "2023-06-07 06:15:02 INFO: DOCUMENT TRANSFORMER\n",
      "2023-06-07 06:15:02 INFO: POS REMOVAL\n",
      "2023-06-07 06:15:02 INFO: DOCUMENT TRANSFORMER\n",
      "2023-06-07 06:15:02 INFO: POS REMOVAL\n",
      "2023-06-07 06:15:02 INFO: DOCUMENT TRANSFORMER\n",
      "2023-06-07 06:15:03 INFO: POS REMOVAL\n",
      "2023-06-07 06:15:03 INFO: DOCUMENT TRANSFORMER\n",
      "2023-06-07 06:15:03 INFO: POS REMOVAL\n",
      "2023-06-07 06:15:03 INFO: DOCUMENT TRANSFORMER\n",
      "2023-06-07 06:15:03 INFO: POS REMOVAL\n",
      "2023-06-07 06:15:03 INFO: DOCUMENT TRANSFORMER\n",
      "2023-06-07 06:15:03 INFO: POS REMOVAL\n",
      "2023-06-07 06:15:04 INFO: DOCUMENT TRANSFORMER\n",
      "2023-06-07 06:15:04 INFO: POS REMOVAL\n",
      "2023-06-07 06:15:04 INFO: DOCUMENT TRANSFORMER\n",
      "2023-06-07 06:15:04 INFO: POS REMOVAL\n",
      "2023-06-07 06:15:04 INFO: DOCUMENT TRANSFORMER\n",
      "2023-06-07 06:15:04 INFO: POS REMOVAL\n",
      "2023-06-07 06:15:04 INFO: DOCUMENT TRANSFORMER\n",
      "2023-06-07 06:15:05 INFO: POS REMOVAL\n",
      "2023-06-07 06:15:05 INFO: DOCUMENT TRANSFORMER\n",
      "2023-06-07 06:15:05 INFO: POS REMOVAL\n",
      "2023-06-07 06:15:05 INFO: DOCUMENT TRANSFORMER\n",
      "2023-06-07 06:15:05 INFO: POS REMOVAL\n",
      "2023-06-07 06:15:05 INFO: DOCUMENT TRANSFORMER\n",
      "2023-06-07 06:15:05 INFO: POS REMOVAL\n",
      "2023-06-07 06:15:05 INFO: DOCUMENT TRANSFORMER\n",
      "2023-06-07 06:15:06 INFO: POS REMOVAL\n",
      "2023-06-07 06:15:06 INFO: DOCUMENT TRANSFORMER\n",
      "2023-06-07 06:15:06 INFO: POS REMOVAL\n",
      "2023-06-07 06:15:06 INFO: DOCUMENT TRANSFORMER\n",
      "2023-06-07 06:15:06 INFO: POS REMOVAL\n",
      "2023-06-07 06:15:06 INFO: DOCUMENT TRANSFORMER\n",
      "2023-06-07 06:15:07 INFO: POS REMOVAL\n",
      "2023-06-07 06:15:07 INFO: DOCUMENT TRANSFORMER\n",
      "2023-06-07 06:15:07 INFO: POS REMOVAL\n",
      "2023-06-07 06:15:07 INFO: DOCUMENT TRANSFORMER\n",
      "2023-06-07 06:15:07 INFO: POS REMOVAL\n",
      "2023-06-07 06:15:07 INFO: DOCUMENT TRANSFORMER\n",
      "2023-06-07 06:15:07 INFO: POS REMOVAL\n",
      "2023-06-07 06:15:07 INFO: DOCUMENT TRANSFORMER\n",
      "2023-06-07 06:15:08 INFO: POS REMOVAL\n",
      "2023-06-07 06:15:08 INFO: DOCUMENT TRANSFORMER\n",
      "2023-06-07 06:15:08 INFO: POS REMOVAL\n",
      "2023-06-07 06:15:08 INFO: DOCUMENT TRANSFORMER\n",
      "2023-06-07 06:15:08 INFO: POS REMOVAL\n",
      "2023-06-07 06:15:08 INFO: DOCUMENT TRANSFORMER\n",
      "2023-06-07 06:15:08 INFO: POS REMOVAL\n",
      "2023-06-07 06:15:08 INFO: DOCUMENT TRANSFORMER\n",
      "2023-06-07 06:15:09 INFO: POS REMOVAL\n",
      "2023-06-07 06:15:09 INFO: DOCUMENT TRANSFORMER\n",
      "2023-06-07 06:15:09 INFO: POS REMOVAL\n",
      "2023-06-07 06:15:09 INFO: DOCUMENT TRANSFORMER\n",
      "2023-06-07 06:15:10 INFO: POS REMOVAL\n",
      "2023-06-07 06:15:10 INFO: DOCUMENT TRANSFORMER\n",
      "2023-06-07 06:15:10 INFO: POS REMOVAL\n",
      "2023-06-07 06:15:10 INFO: DOCUMENT TRANSFORMER\n",
      "2023-06-07 06:15:10 INFO: POS REMOVAL\n",
      "2023-06-07 06:15:10 INFO: DOCUMENT TRANSFORMER\n",
      "2023-06-07 06:15:10 INFO: POS REMOVAL\n",
      "2023-06-07 06:15:10 INFO: DOCUMENT TRANSFORMER\n",
      "2023-06-07 06:15:11 INFO: POS REMOVAL\n",
      "2023-06-07 06:15:11 INFO: DOCUMENT TRANSFORMER\n",
      "2023-06-07 06:15:11 INFO: POS REMOVAL\n",
      "2023-06-07 06:15:11 INFO: DOCUMENT TRANSFORMER\n",
      "2023-06-07 06:15:11 INFO: POS REMOVAL\n",
      "2023-06-07 06:15:11 INFO: DOCUMENT TRANSFORMER\n",
      "2023-06-07 06:15:11 INFO: POS REMOVAL\n",
      "2023-06-07 06:15:11 INFO: DOCUMENT TRANSFORMER\n",
      "2023-06-07 06:15:12 INFO: POS REMOVAL\n",
      "2023-06-07 06:15:12 INFO: DOCUMENT TRANSFORMER\n",
      "2023-06-07 06:15:12 INFO: POS REMOVAL\n",
      "2023-06-07 06:15:12 INFO: DOCUMENT TRANSFORMER\n",
      "2023-06-07 06:15:13 INFO: POS REMOVAL\n",
      "2023-06-07 06:15:13 INFO: DOCUMENT TRANSFORMER\n",
      "2023-06-07 06:15:13 INFO: POS REMOVAL\n",
      "2023-06-07 06:15:13 INFO: DOCUMENT TRANSFORMER\n",
      "2023-06-07 06:15:13 INFO: POS REMOVAL\n",
      "2023-06-07 06:15:13 INFO: DOCUMENT TRANSFORMER\n",
      "2023-06-07 06:15:13 INFO: POS REMOVAL\n",
      "2023-06-07 06:15:13 INFO: DOCUMENT TRANSFORMER\n",
      "2023-06-07 06:15:14 INFO: POS REMOVAL\n",
      "2023-06-07 06:15:14 INFO: DOCUMENT TRANSFORMER\n",
      "2023-06-07 06:15:14 INFO: POS REMOVAL\n",
      "2023-06-07 06:15:14 INFO: DOCUMENT TRANSFORMER\n",
      "2023-06-07 06:15:15 INFO: POS REMOVAL\n",
      "2023-06-07 06:15:15 INFO: DOCUMENT TRANSFORMER\n",
      "2023-06-07 06:15:15 INFO: POS REMOVAL\n",
      "2023-06-07 06:15:15 INFO: DOCUMENT TRANSFORMER\n",
      "2023-06-07 06:15:15 INFO: POS REMOVAL\n",
      "2023-06-07 06:15:15 INFO: DOCUMENT TRANSFORMER\n",
      "2023-06-07 06:15:15 INFO: POS REMOVAL\n",
      "2023-06-07 06:15:16 INFO: DOCUMENT TRANSFORMER\n",
      "2023-06-07 06:15:16 INFO: POS REMOVAL\n",
      "2023-06-07 06:15:16 INFO: DOCUMENT TRANSFORMER\n",
      "2023-06-07 06:15:16 INFO: POS REMOVAL\n",
      "2023-06-07 06:15:16 INFO: DOCUMENT TRANSFORMER\n",
      "2023-06-07 06:15:17 INFO: POS REMOVAL\n",
      "2023-06-07 06:15:17 INFO: DOCUMENT TRANSFORMER\n",
      "2023-06-07 06:15:17 INFO: POS REMOVAL\n",
      "2023-06-07 06:15:17 INFO: DOCUMENT TRANSFORMER\n",
      "2023-06-07 06:15:17 INFO: POS REMOVAL\n",
      "2023-06-07 06:15:17 INFO: DOCUMENT TRANSFORMER\n",
      "2023-06-07 06:15:18 INFO: POS REMOVAL\n",
      "2023-06-07 06:15:18 INFO: DOCUMENT TRANSFORMER\n",
      "2023-06-07 06:15:18 INFO: POS REMOVAL\n",
      "2023-06-07 06:15:18 INFO: DOCUMENT TRANSFORMER\n",
      "2023-06-07 06:15:18 INFO: POS REMOVAL\n",
      "2023-06-07 06:15:18 INFO: DOCUMENT TRANSFORMER\n",
      "2023-06-07 06:15:19 INFO: POS REMOVAL\n",
      "2023-06-07 06:15:19 INFO: DOCUMENT TRANSFORMER\n",
      "2023-06-07 06:15:19 INFO: POS REMOVAL\n",
      "2023-06-07 06:15:19 INFO: DOCUMENT TRANSFORMER\n",
      "2023-06-07 06:15:20 INFO: POS REMOVAL\n",
      "2023-06-07 06:15:20 INFO: DOCUMENT TRANSFORMER\n",
      "2023-06-07 06:15:20 INFO: POS REMOVAL\n",
      "2023-06-07 06:15:20 INFO: DOCUMENT TRANSFORMER\n",
      "2023-06-07 06:15:20 INFO: POS REMOVAL\n",
      "2023-06-07 06:15:20 INFO: DOCUMENT TRANSFORMER\n",
      "2023-06-07 06:15:20 INFO: POS REMOVAL\n",
      "2023-06-07 06:15:20 INFO: DOCUMENT TRANSFORMER\n",
      "2023-06-07 06:15:21 INFO: POS REMOVAL\n",
      "2023-06-07 06:15:21 INFO: DOCUMENT TRANSFORMER\n",
      "2023-06-07 06:15:21 INFO: POS REMOVAL\n",
      "2023-06-07 06:15:21 INFO: DOCUMENT TRANSFORMER\n",
      "2023-06-07 06:15:22 INFO: POS REMOVAL\n",
      "2023-06-07 06:15:22 INFO: DOCUMENT TRANSFORMER\n",
      "2023-06-07 06:15:22 INFO: POS REMOVAL\n",
      "2023-06-07 06:15:22 INFO: DOCUMENT TRANSFORMER\n",
      "2023-06-07 06:15:22 INFO: POS REMOVAL\n",
      "2023-06-07 06:15:22 INFO: DOCUMENT TRANSFORMER\n",
      "2023-06-07 06:15:23 INFO: POS REMOVAL\n",
      "2023-06-07 06:15:23 INFO: DOCUMENT TRANSFORMER\n",
      "2023-06-07 06:15:23 INFO: POS REMOVAL\n",
      "2023-06-07 06:15:23 INFO: DOCUMENT TRANSFORMER\n",
      "2023-06-07 06:15:23 INFO: POS REMOVAL\n",
      "2023-06-07 06:15:23 INFO: DOCUMENT TRANSFORMER\n",
      "2023-06-07 06:15:24 INFO: POS REMOVAL\n",
      "2023-06-07 06:15:24 INFO: DOCUMENT TRANSFORMER\n",
      "2023-06-07 06:15:24 INFO: POS REMOVAL\n",
      "2023-06-07 06:15:24 INFO: DOCUMENT TRANSFORMER\n",
      "2023-06-07 06:15:25 INFO: POS REMOVAL\n",
      "2023-06-07 06:15:25 INFO: DOCUMENT TRANSFORMER\n",
      "2023-06-07 06:15:25 INFO: POS REMOVAL\n",
      "2023-06-07 06:15:25 INFO: DOCUMENT TRANSFORMER\n",
      "2023-06-07 06:15:25 INFO: POS REMOVAL\n",
      "2023-06-07 06:15:25 INFO: DOCUMENT TRANSFORMER\n",
      "2023-06-07 06:15:25 INFO: POS REMOVAL\n",
      "2023-06-07 06:15:25 INFO: DOCUMENT TRANSFORMER\n",
      "2023-06-07 06:15:26 INFO: POS REMOVAL\n",
      "2023-06-07 06:15:26 INFO: DOCUMENT TRANSFORMER\n",
      "2023-06-07 06:15:26 INFO: POS REMOVAL\n",
      "2023-06-07 06:15:26 INFO: DOCUMENT TRANSFORMER\n",
      "2023-06-07 06:15:27 INFO: POS REMOVAL\n",
      "2023-06-07 06:15:27 INFO: DOCUMENT TRANSFORMER\n",
      "2023-06-07 06:15:27 INFO: POS REMOVAL\n",
      "2023-06-07 06:15:27 INFO: DOCUMENT TRANSFORMER\n",
      "2023-06-07 06:15:27 INFO: POS REMOVAL\n",
      "2023-06-07 06:15:27 INFO: DOCUMENT TRANSFORMER\n",
      "2023-06-07 06:15:27 INFO: POS REMOVAL\n",
      "2023-06-07 06:15:27 INFO: DOCUMENT TRANSFORMER\n",
      "2023-06-07 06:15:28 INFO: POS REMOVAL\n",
      "2023-06-07 06:15:28 INFO: DOCUMENT TRANSFORMER\n",
      "2023-06-07 06:15:28 INFO: POS REMOVAL\n",
      "2023-06-07 06:15:28 INFO: DOCUMENT TRANSFORMER\n",
      "2023-06-07 06:15:28 INFO: POS REMOVAL\n",
      "2023-06-07 06:15:28 INFO: DOCUMENT TRANSFORMER\n",
      "2023-06-07 06:15:28 INFO: POS REMOVAL\n",
      "2023-06-07 06:15:28 INFO: DOCUMENT TRANSFORMER\n",
      "2023-06-07 06:15:29 INFO: POS REMOVAL\n",
      "2023-06-07 06:15:29 INFO: DOCUMENT TRANSFORMER\n",
      "2023-06-07 06:15:29 INFO: POS REMOVAL\n",
      "2023-06-07 06:15:29 INFO: DOCUMENT TRANSFORMER\n",
      "2023-06-07 06:15:29 INFO: POS REMOVAL\n",
      "2023-06-07 06:15:29 INFO: DOCUMENT TRANSFORMER\n",
      "2023-06-07 06:15:29 INFO: POS REMOVAL\n",
      "2023-06-07 06:15:29 INFO: DOCUMENT TRANSFORMER\n",
      "2023-06-07 06:15:30 INFO: POS REMOVAL\n",
      "2023-06-07 06:15:30 INFO: DOCUMENT TRANSFORMER\n",
      "2023-06-07 06:15:30 INFO: POS REMOVAL\n",
      "2023-06-07 06:15:30 INFO: DOCUMENT TRANSFORMER\n",
      "2023-06-07 06:15:30 INFO: POS REMOVAL\n",
      "2023-06-07 06:15:30 INFO: DOCUMENT TRANSFORMER\n",
      "2023-06-07 06:15:30 INFO: POS REMOVAL\n",
      "2023-06-07 06:15:30 INFO: DOCUMENT TRANSFORMER\n",
      "2023-06-07 06:15:31 INFO: POS REMOVAL\n",
      "2023-06-07 06:15:31 INFO: DOCUMENT TRANSFORMER\n",
      "2023-06-07 06:15:31 INFO: POS REMOVAL\n",
      "2023-06-07 06:15:31 INFO: DOCUMENT TRANSFORMER\n",
      "2023-06-07 06:15:31 INFO: POS REMOVAL\n",
      "2023-06-07 06:15:31 INFO: DOCUMENT TRANSFORMER\n",
      "2023-06-07 06:15:31 INFO: POS REMOVAL\n",
      "2023-06-07 06:15:31 INFO: DOCUMENT TRANSFORMER\n",
      "2023-06-07 06:15:32 INFO: POS REMOVAL\n",
      "2023-06-07 06:15:32 INFO: DOCUMENT TRANSFORMER\n",
      "2023-06-07 06:15:32 INFO: POS REMOVAL\n",
      "2023-06-07 06:15:32 INFO: DOCUMENT TRANSFORMER\n",
      "2023-06-07 06:15:32 INFO: POS REMOVAL\n",
      "2023-06-07 06:15:32 INFO: DOCUMENT TRANSFORMER\n",
      "2023-06-07 06:15:32 INFO: POS REMOVAL\n",
      "2023-06-07 06:15:33 INFO: DOCUMENT TRANSFORMER\n",
      "2023-06-07 06:15:33 INFO: POS REMOVAL\n",
      "2023-06-07 06:15:33 INFO: DOCUMENT TRANSFORMER\n",
      "2023-06-07 06:15:33 INFO: POS REMOVAL\n",
      "2023-06-07 06:15:33 INFO: DOCUMENT TRANSFORMER\n",
      "2023-06-07 06:15:33 INFO: POS REMOVAL\n",
      "2023-06-07 06:15:33 INFO: DOCUMENT TRANSFORMER\n",
      "2023-06-07 06:15:34 INFO: POS REMOVAL\n",
      "2023-06-07 06:15:34 INFO: DOCUMENT TRANSFORMER\n",
      "2023-06-07 06:15:34 INFO: POS REMOVAL\n",
      "2023-06-07 06:15:34 INFO: DOCUMENT TRANSFORMER\n",
      "2023-06-07 06:15:34 INFO: POS REMOVAL\n",
      "2023-06-07 06:15:34 INFO: DOCUMENT TRANSFORMER\n",
      "2023-06-07 06:15:35 INFO: POS REMOVAL\n",
      "2023-06-07 06:15:35 INFO: DOCUMENT TRANSFORMER\n",
      "2023-06-07 06:15:35 INFO: POS REMOVAL\n",
      "2023-06-07 06:15:35 INFO: DOCUMENT TRANSFORMER\n",
      "2023-06-07 06:15:35 INFO: POS REMOVAL\n",
      "2023-06-07 06:15:35 INFO: DOCUMENT TRANSFORMER\n",
      "2023-06-07 06:15:35 INFO: POS REMOVAL\n",
      "2023-06-07 06:15:35 INFO: DOCUMENT TRANSFORMER\n",
      "2023-06-07 06:15:36 INFO: POS REMOVAL\n",
      "2023-06-07 06:15:36 INFO: DOCUMENT TRANSFORMER\n",
      "2023-06-07 06:15:36 INFO: POS REMOVAL\n",
      "2023-06-07 06:15:36 INFO: DOCUMENT TRANSFORMER\n",
      "2023-06-07 06:15:36 INFO: POS REMOVAL\n",
      "2023-06-07 06:15:36 INFO: DOCUMENT TRANSFORMER\n",
      "2023-06-07 06:15:36 INFO: POS REMOVAL\n",
      "2023-06-07 06:15:36 INFO: DOCUMENT TRANSFORMER\n",
      "2023-06-07 06:15:37 INFO: POS REMOVAL\n",
      "2023-06-07 06:15:37 INFO: DOCUMENT TRANSFORMER\n",
      "2023-06-07 06:15:37 INFO: POS REMOVAL\n",
      "2023-06-07 06:15:37 INFO: DOCUMENT TRANSFORMER\n",
      "2023-06-07 06:15:38 INFO: POS REMOVAL\n",
      "2023-06-07 06:15:38 INFO: DOCUMENT TRANSFORMER\n",
      "2023-06-07 06:15:38 INFO: POS REMOVAL\n",
      "2023-06-07 06:15:38 INFO: DOCUMENT TRANSFORMER\n",
      "2023-06-07 06:15:38 INFO: POS REMOVAL\n",
      "2023-06-07 06:15:38 INFO: DOCUMENT TRANSFORMER\n",
      "2023-06-07 06:15:39 INFO: POS REMOVAL\n",
      "2023-06-07 06:15:39 INFO: DOCUMENT TRANSFORMER\n",
      "2023-06-07 06:15:39 INFO: POS REMOVAL\n",
      "2023-06-07 06:15:39 INFO: DOCUMENT TRANSFORMER\n",
      "2023-06-07 06:15:39 INFO: POS REMOVAL\n",
      "2023-06-07 06:15:39 INFO: DOCUMENT TRANSFORMER\n",
      "2023-06-07 06:15:40 INFO: POS REMOVAL\n",
      "2023-06-07 06:15:40 INFO: DOCUMENT TRANSFORMER\n",
      "2023-06-07 06:15:40 INFO: POS REMOVAL\n",
      "2023-06-07 06:15:40 INFO: DOCUMENT TRANSFORMER\n",
      "2023-06-07 06:15:40 INFO: POS REMOVAL\n",
      "2023-06-07 06:15:40 INFO: DOCUMENT TRANSFORMER\n",
      "2023-06-07 06:15:40 INFO: POS REMOVAL\n",
      "2023-06-07 06:15:41 INFO: DOCUMENT TRANSFORMER\n",
      "2023-06-07 06:15:41 INFO: POS REMOVAL\n",
      "2023-06-07 06:15:41 INFO: DOCUMENT TRANSFORMER\n",
      "2023-06-07 06:15:41 INFO: POS REMOVAL\n",
      "2023-06-07 06:15:41 INFO: DOCUMENT TRANSFORMER\n",
      "2023-06-07 06:15:42 INFO: POS REMOVAL\n",
      "2023-06-07 06:15:42 INFO: DOCUMENT TRANSFORMER\n",
      "2023-06-07 06:15:42 INFO: POS REMOVAL\n",
      "2023-06-07 06:15:42 INFO: DOCUMENT TRANSFORMER\n",
      "2023-06-07 06:15:42 INFO: POS REMOVAL\n",
      "2023-06-07 06:15:42 INFO: DOCUMENT TRANSFORMER\n",
      "2023-06-07 06:15:42 INFO: POS REMOVAL\n",
      "2023-06-07 06:15:42 INFO: DOCUMENT TRANSFORMER\n",
      "2023-06-07 06:15:43 INFO: POS REMOVAL\n",
      "2023-06-07 06:15:43 INFO: DOCUMENT TRANSFORMER\n",
      "2023-06-07 06:15:43 INFO: POS REMOVAL\n",
      "2023-06-07 06:15:43 INFO: DOCUMENT TRANSFORMER\n",
      "2023-06-07 06:15:44 INFO: POS REMOVAL\n",
      "2023-06-07 06:15:44 INFO: DOCUMENT TRANSFORMER\n",
      "2023-06-07 06:15:44 INFO: POS REMOVAL\n",
      "2023-06-07 06:15:44 INFO: DOCUMENT TRANSFORMER\n",
      "2023-06-07 06:15:44 INFO: POS REMOVAL\n",
      "2023-06-07 06:15:44 INFO: DOCUMENT TRANSFORMER\n",
      "2023-06-07 06:15:44 INFO: POS REMOVAL\n",
      "2023-06-07 06:15:44 INFO: DOCUMENT TRANSFORMER\n",
      "2023-06-07 06:15:45 INFO: POS REMOVAL\n",
      "2023-06-07 06:15:45 INFO: DOCUMENT TRANSFORMER\n",
      "2023-06-07 06:15:45 INFO: POS REMOVAL\n",
      "2023-06-07 06:15:45 INFO: DOCUMENT TRANSFORMER\n",
      "2023-06-07 06:15:46 INFO: POS REMOVAL\n",
      "2023-06-07 06:15:46 INFO: DOCUMENT TRANSFORMER\n",
      "2023-06-07 06:15:46 INFO: POS REMOVAL\n",
      "2023-06-07 06:15:46 INFO: DOCUMENT TRANSFORMER\n",
      "2023-06-07 06:15:46 INFO: POS REMOVAL\n",
      "2023-06-07 06:15:46 INFO: DOCUMENT TRANSFORMER\n",
      "2023-06-07 06:15:46 INFO: POS REMOVAL\n",
      "2023-06-07 06:15:46 INFO: DOCUMENT TRANSFORMER\n",
      "2023-06-07 06:15:47 INFO: POS REMOVAL\n",
      "2023-06-07 06:15:47 INFO: DOCUMENT TRANSFORMER\n",
      "2023-06-07 06:15:47 INFO: POS REMOVAL\n",
      "2023-06-07 06:15:47 INFO: DOCUMENT TRANSFORMER\n",
      "2023-06-07 06:15:47 INFO: POS REMOVAL\n",
      "2023-06-07 06:15:47 INFO: DOCUMENT TRANSFORMER\n",
      "2023-06-07 06:15:48 INFO: POS REMOVAL\n",
      "2023-06-07 06:15:48 INFO: DOCUMENT TRANSFORMER\n",
      "2023-06-07 06:15:48 INFO: POS REMOVAL\n",
      "2023-06-07 06:15:48 INFO: DOCUMENT TRANSFORMER\n",
      "2023-06-07 06:15:48 INFO: POS REMOVAL\n",
      "2023-06-07 06:15:48 INFO: DOCUMENT TRANSFORMER\n",
      "2023-06-07 06:15:49 INFO: POS REMOVAL\n",
      "2023-06-07 06:15:49 INFO: DOCUMENT TRANSFORMER\n",
      "2023-06-07 06:15:49 INFO: POS REMOVAL\n",
      "2023-06-07 06:15:49 INFO: DOCUMENT TRANSFORMER\n",
      "2023-06-07 06:15:49 INFO: POS REMOVAL\n",
      "2023-06-07 06:15:49 INFO: DOCUMENT TRANSFORMER\n",
      "2023-06-07 06:15:50 INFO: POS REMOVAL\n",
      "2023-06-07 06:15:50 INFO: DOCUMENT TRANSFORMER\n",
      "2023-06-07 06:15:50 INFO: POS REMOVAL\n",
      "2023-06-07 06:15:50 INFO: DOCUMENT TRANSFORMER\n",
      "2023-06-07 06:15:50 INFO: POS REMOVAL\n",
      "2023-06-07 06:15:50 INFO: DOCUMENT TRANSFORMER\n",
      "2023-06-07 06:15:51 INFO: POS REMOVAL\n",
      "2023-06-07 06:15:51 INFO: DOCUMENT TRANSFORMER\n",
      "2023-06-07 06:15:51 INFO: POS REMOVAL\n",
      "2023-06-07 06:15:51 INFO: DOCUMENT TRANSFORMER\n",
      "2023-06-07 06:15:51 INFO: POS REMOVAL\n",
      "2023-06-07 06:15:51 INFO: DOCUMENT TRANSFORMER\n",
      "2023-06-07 06:15:52 INFO: POS REMOVAL\n",
      "2023-06-07 06:15:52 INFO: DOCUMENT TRANSFORMER\n",
      "2023-06-07 06:15:52 INFO: POS REMOVAL\n",
      "2023-06-07 06:15:52 INFO: DOCUMENT TRANSFORMER\n",
      "2023-06-07 06:15:53 INFO: POS REMOVAL\n",
      "2023-06-07 06:15:53 INFO: DOCUMENT TRANSFORMER\n",
      "2023-06-07 06:15:53 INFO: POS REMOVAL\n",
      "2023-06-07 06:15:53 INFO: DOCUMENT TRANSFORMER\n",
      "2023-06-07 06:15:53 INFO: POS REMOVAL\n",
      "2023-06-07 06:15:53 INFO: DOCUMENT TRANSFORMER\n",
      "2023-06-07 06:15:54 INFO: POS REMOVAL\n",
      "2023-06-07 06:15:54 INFO: DOCUMENT TRANSFORMER\n",
      "2023-06-07 06:15:54 INFO: POS REMOVAL\n",
      "2023-06-07 06:15:54 INFO: DOCUMENT TRANSFORMER\n",
      "2023-06-07 06:15:55 INFO: POS REMOVAL\n",
      "2023-06-07 06:15:55 INFO: DOCUMENT TRANSFORMER\n",
      "2023-06-07 06:15:55 INFO: POS REMOVAL\n",
      "2023-06-07 06:15:55 INFO: DOCUMENT TRANSFORMER\n",
      "2023-06-07 06:15:55 INFO: POS REMOVAL\n",
      "2023-06-07 06:15:56 INFO: DOCUMENT TRANSFORMER\n",
      "2023-06-07 06:15:56 INFO: POS REMOVAL\n",
      "2023-06-07 06:15:56 INFO: DOCUMENT TRANSFORMER\n",
      "2023-06-07 06:15:56 INFO: POS REMOVAL\n",
      "2023-06-07 06:15:56 INFO: DOCUMENT TRANSFORMER\n",
      "2023-06-07 06:15:57 INFO: POS REMOVAL\n",
      "2023-06-07 06:15:57 INFO: DOCUMENT TRANSFORMER\n",
      "2023-06-07 06:15:57 INFO: POS REMOVAL\n",
      "2023-06-07 06:15:57 INFO: DOCUMENT TRANSFORMER\n",
      "2023-06-07 06:15:58 INFO: POS REMOVAL\n",
      "2023-06-07 06:15:58 INFO: DOCUMENT TRANSFORMER\n",
      "2023-06-07 06:15:58 INFO: POS REMOVAL\n",
      "2023-06-07 06:15:58 INFO: DOCUMENT TRANSFORMER\n",
      "2023-06-07 06:15:58 INFO: POS REMOVAL\n",
      "2023-06-07 06:15:59 INFO: DOCUMENT TRANSFORMER\n",
      "2023-06-07 06:15:59 INFO: POS REMOVAL\n",
      "2023-06-07 06:15:59 INFO: DOCUMENT TRANSFORMER\n",
      "2023-06-07 06:16:00 INFO: POS REMOVAL\n",
      "2023-06-07 06:16:00 INFO: DOCUMENT TRANSFORMER\n",
      "2023-06-07 06:16:00 INFO: POS REMOVAL\n",
      "2023-06-07 06:16:00 INFO: DOCUMENT TRANSFORMER\n",
      "2023-06-07 06:16:01 INFO: POS REMOVAL\n",
      "2023-06-07 06:16:01 INFO: DOCUMENT TRANSFORMER\n",
      "2023-06-07 06:16:02 INFO: POS REMOVAL\n",
      "2023-06-07 06:16:02 INFO: DOCUMENT TRANSFORMER\n",
      "2023-06-07 06:16:02 INFO: POS REMOVAL\n",
      "2023-06-07 06:16:03 INFO: DOCUMENT TRANSFORMER\n",
      "2023-06-07 06:16:03 INFO: POS REMOVAL\n",
      "2023-06-07 06:16:03 INFO: DOCUMENT TRANSFORMER\n",
      "2023-06-07 06:16:04 INFO: POS REMOVAL\n",
      "2023-06-07 06:16:04 INFO: DOCUMENT TRANSFORMER\n",
      "2023-06-07 06:16:04 INFO: POS REMOVAL\n",
      "2023-06-07 06:16:04 INFO: DOCUMENT TRANSFORMER\n",
      "2023-06-07 06:16:05 INFO: POS REMOVAL\n",
      "2023-06-07 06:16:05 INFO: DOCUMENT TRANSFORMER\n",
      "2023-06-07 06:16:05 INFO: POS REMOVAL\n",
      "2023-06-07 06:16:05 INFO: DOCUMENT TRANSFORMER\n",
      "2023-06-07 06:16:06 INFO: POS REMOVAL\n",
      "2023-06-07 06:16:06 INFO: DOCUMENT TRANSFORMER\n",
      "2023-06-07 06:16:06 INFO: POS REMOVAL\n",
      "2023-06-07 06:16:06 INFO: DOCUMENT TRANSFORMER\n",
      "2023-06-07 06:16:07 INFO: POS REMOVAL\n",
      "2023-06-07 06:16:07 INFO: DOCUMENT TRANSFORMER\n",
      "2023-06-07 06:16:07 INFO: POS REMOVAL\n",
      "2023-06-07 06:16:08 INFO: DOCUMENT TRANSFORMER\n",
      "2023-06-07 06:16:08 INFO: POS REMOVAL\n",
      "2023-06-07 06:16:08 INFO: DOCUMENT TRANSFORMER\n",
      "2023-06-07 06:16:09 INFO: POS REMOVAL\n",
      "2023-06-07 06:16:09 INFO: DOCUMENT TRANSFORMER\n",
      "2023-06-07 06:16:09 INFO: POS REMOVAL\n",
      "2023-06-07 06:16:09 INFO: DOCUMENT TRANSFORMER\n",
      "2023-06-07 06:16:10 INFO: POS REMOVAL\n",
      "2023-06-07 06:16:10 INFO: DOCUMENT TRANSFORMER\n",
      "2023-06-07 06:16:10 INFO: POS REMOVAL\n",
      "2023-06-07 06:16:10 INFO: DOCUMENT TRANSFORMER\n",
      "2023-06-07 06:16:11 INFO: POS REMOVAL\n",
      "2023-06-07 06:16:11 INFO: DOCUMENT TRANSFORMER\n",
      "2023-06-07 06:16:11 INFO: POS REMOVAL\n",
      "2023-06-07 06:16:11 INFO: DOCUMENT TRANSFORMER\n",
      "2023-06-07 06:16:12 INFO: POS REMOVAL\n",
      "2023-06-07 06:16:12 INFO: DOCUMENT TRANSFORMER\n",
      "2023-06-07 06:16:12 INFO: POS REMOVAL\n",
      "2023-06-07 06:16:12 INFO: DOCUMENT TRANSFORMER\n",
      "2023-06-07 06:16:12 INFO: POS REMOVAL\n",
      "2023-06-07 06:16:13 INFO: DOCUMENT TRANSFORMER\n",
      "2023-06-07 06:16:13 INFO: POS REMOVAL\n",
      "2023-06-07 06:16:13 INFO: DOCUMENT TRANSFORMER\n",
      "2023-06-07 06:16:13 INFO: POS REMOVAL\n",
      "2023-06-07 06:16:13 INFO: DOCUMENT TRANSFORMER\n",
      "2023-06-07 06:16:14 INFO: POS REMOVAL\n",
      "2023-06-07 06:16:14 INFO: DOCUMENT TRANSFORMER\n",
      "2023-06-07 06:16:14 INFO: POS REMOVAL\n",
      "2023-06-07 06:16:14 INFO: DOCUMENT TRANSFORMER\n",
      "2023-06-07 06:16:15 INFO: POS REMOVAL\n",
      "2023-06-07 06:16:15 INFO: DOCUMENT TRANSFORMER\n",
      "2023-06-07 06:16:15 INFO: POS REMOVAL\n",
      "2023-06-07 06:16:15 INFO: DOCUMENT TRANSFORMER\n",
      "2023-06-07 06:16:16 INFO: POS REMOVAL\n",
      "2023-06-07 06:16:16 INFO: DOCUMENT TRANSFORMER\n",
      "2023-06-07 06:16:16 INFO: POS REMOVAL\n",
      "2023-06-07 06:16:16 INFO: DOCUMENT TRANSFORMER\n",
      "2023-06-07 06:16:16 INFO: POS REMOVAL\n",
      "2023-06-07 06:16:16 INFO: DOCUMENT TRANSFORMER\n",
      "2023-06-07 06:16:17 INFO: POS REMOVAL\n",
      "2023-06-07 06:16:17 INFO: DOCUMENT TRANSFORMER\n",
      "2023-06-07 06:16:17 INFO: POS REMOVAL\n",
      "2023-06-07 06:16:17 INFO: DOCUMENT TRANSFORMER\n",
      "2023-06-07 06:16:18 INFO: POS REMOVAL\n",
      "2023-06-07 06:16:18 INFO: DOCUMENT TRANSFORMER\n",
      "2023-06-07 06:16:18 INFO: POS REMOVAL\n",
      "2023-06-07 06:16:18 INFO: DOCUMENT TRANSFORMER\n",
      "2023-06-07 06:16:18 INFO: POS REMOVAL\n",
      "2023-06-07 06:16:18 INFO: DOCUMENT TRANSFORMER\n",
      "2023-06-07 06:16:19 INFO: POS REMOVAL\n",
      "2023-06-07 06:16:19 INFO: DOCUMENT TRANSFORMER\n",
      "2023-06-07 06:16:19 INFO: POS REMOVAL\n",
      "2023-06-07 06:16:19 INFO: DOCUMENT TRANSFORMER\n",
      "2023-06-07 06:16:20 INFO: POS REMOVAL\n",
      "2023-06-07 06:16:20 INFO: DOCUMENT TRANSFORMER\n",
      "2023-06-07 06:16:20 INFO: POS REMOVAL\n",
      "2023-06-07 06:16:20 INFO: DOCUMENT TRANSFORMER\n",
      "2023-06-07 06:16:21 INFO: POS REMOVAL\n",
      "2023-06-07 06:16:21 INFO: DOCUMENT TRANSFORMER\n",
      "2023-06-07 06:16:21 INFO: POS REMOVAL\n",
      "2023-06-07 06:16:21 INFO: DOCUMENT TRANSFORMER\n",
      "2023-06-07 06:16:22 INFO: POS REMOVAL\n",
      "2023-06-07 06:16:22 INFO: DOCUMENT TRANSFORMER\n",
      "2023-06-07 06:16:22 INFO: POS REMOVAL\n",
      "2023-06-07 06:16:22 INFO: DOCUMENT TRANSFORMER\n",
      "2023-06-07 06:16:23 INFO: POS REMOVAL\n",
      "2023-06-07 06:16:23 INFO: DOCUMENT TRANSFORMER\n",
      "2023-06-07 06:16:23 INFO: POS REMOVAL\n",
      "2023-06-07 06:16:23 INFO: DOCUMENT TRANSFORMER\n",
      "2023-06-07 06:16:24 INFO: POS REMOVAL\n",
      "2023-06-07 06:16:24 INFO: DOCUMENT TRANSFORMER\n",
      "2023-06-07 06:16:24 INFO: POS REMOVAL\n",
      "2023-06-07 06:16:24 INFO: DOCUMENT TRANSFORMER\n",
      "2023-06-07 06:16:25 INFO: POS REMOVAL\n",
      "2023-06-07 06:16:25 INFO: DOCUMENT TRANSFORMER\n",
      "2023-06-07 06:16:26 INFO: POS REMOVAL\n",
      "2023-06-07 06:16:26 INFO: DOCUMENT TRANSFORMER\n",
      "2023-06-07 06:16:26 INFO: POS REMOVAL\n",
      "2023-06-07 06:16:26 INFO: DOCUMENT TRANSFORMER\n",
      "2023-06-07 06:16:27 INFO: POS REMOVAL\n",
      "2023-06-07 06:16:27 INFO: DOCUMENT TRANSFORMER\n",
      "2023-06-07 06:16:27 INFO: POS REMOVAL\n",
      "2023-06-07 06:16:27 INFO: DOCUMENT TRANSFORMER\n",
      "2023-06-07 06:16:27 INFO: POS REMOVAL\n",
      "2023-06-07 06:16:28 INFO: DOCUMENT TRANSFORMER\n",
      "2023-06-07 06:16:28 INFO: POS REMOVAL\n",
      "2023-06-07 06:16:28 INFO: DOCUMENT TRANSFORMER\n",
      "2023-06-07 06:16:28 INFO: POS REMOVAL\n",
      "2023-06-07 06:16:29 INFO: DOCUMENT TRANSFORMER\n",
      "2023-06-07 06:16:29 INFO: POS REMOVAL\n",
      "2023-06-07 06:16:29 INFO: DOCUMENT TRANSFORMER\n",
      "2023-06-07 06:16:29 INFO: POS REMOVAL\n",
      "2023-06-07 06:16:29 INFO: DOCUMENT TRANSFORMER\n",
      "2023-06-07 06:16:30 INFO: POS REMOVAL\n",
      "2023-06-07 06:16:30 INFO: DOCUMENT TRANSFORMER\n",
      "2023-06-07 06:16:30 INFO: POS REMOVAL\n",
      "2023-06-07 06:16:30 INFO: DOCUMENT TRANSFORMER\n",
      "2023-06-07 06:16:31 INFO: POS REMOVAL\n",
      "2023-06-07 06:16:31 INFO: DOCUMENT TRANSFORMER\n",
      "2023-06-07 06:16:31 INFO: POS REMOVAL\n",
      "2023-06-07 06:16:31 INFO: DOCUMENT TRANSFORMER\n",
      "2023-06-07 06:16:31 INFO: POS REMOVAL\n",
      "2023-06-07 06:16:32 INFO: DOCUMENT TRANSFORMER\n",
      "2023-06-07 06:16:32 INFO: POS REMOVAL\n",
      "2023-06-07 06:16:32 INFO: DOCUMENT TRANSFORMER\n",
      "2023-06-07 06:16:32 INFO: POS REMOVAL\n",
      "2023-06-07 06:16:32 INFO: DOCUMENT TRANSFORMER\n",
      "2023-06-07 06:16:33 INFO: POS REMOVAL\n",
      "2023-06-07 06:16:33 INFO: DOCUMENT TRANSFORMER\n",
      "2023-06-07 06:16:33 INFO: POS REMOVAL\n",
      "2023-06-07 06:16:33 INFO: DOCUMENT TRANSFORMER\n",
      "2023-06-07 06:16:33 INFO: POS REMOVAL\n",
      "2023-06-07 06:16:34 INFO: DOCUMENT TRANSFORMER\n",
      "2023-06-07 06:16:34 INFO: POS REMOVAL\n",
      "2023-06-07 06:16:34 INFO: DOCUMENT TRANSFORMER\n",
      "2023-06-07 06:16:34 INFO: POS REMOVAL\n",
      "2023-06-07 06:16:34 INFO: DOCUMENT TRANSFORMER\n",
      "2023-06-07 06:16:35 INFO: POS REMOVAL\n",
      "2023-06-07 06:16:35 INFO: DOCUMENT TRANSFORMER\n",
      "2023-06-07 06:16:35 INFO: POS REMOVAL\n",
      "2023-06-07 06:16:35 INFO: DOCUMENT TRANSFORMER\n",
      "2023-06-07 06:16:36 INFO: POS REMOVAL\n",
      "2023-06-07 06:16:36 INFO: DOCUMENT TRANSFORMER\n",
      "2023-06-07 06:16:36 INFO: POS REMOVAL\n",
      "2023-06-07 06:16:36 INFO: DOCUMENT TRANSFORMER\n",
      "2023-06-07 06:16:36 INFO: POS REMOVAL\n",
      "2023-06-07 06:16:36 INFO: DOCUMENT TRANSFORMER\n",
      "2023-06-07 06:16:37 INFO: POS REMOVAL\n",
      "2023-06-07 06:16:37 INFO: DOCUMENT TRANSFORMER\n",
      "2023-06-07 06:16:37 INFO: POS REMOVAL\n",
      "2023-06-07 06:16:37 INFO: DOCUMENT TRANSFORMER\n",
      "2023-06-07 06:16:38 INFO: POS REMOVAL\n",
      "2023-06-07 06:16:38 INFO: DOCUMENT TRANSFORMER\n",
      "2023-06-07 06:16:38 INFO: POS REMOVAL\n",
      "2023-06-07 06:16:38 INFO: DOCUMENT TRANSFORMER\n",
      "2023-06-07 06:16:39 INFO: POS REMOVAL\n",
      "2023-06-07 06:16:39 INFO: DOCUMENT TRANSFORMER\n",
      "2023-06-07 06:16:39 INFO: POS REMOVAL\n",
      "2023-06-07 06:16:39 INFO: DOCUMENT TRANSFORMER\n",
      "2023-06-07 06:16:40 INFO: POS REMOVAL\n",
      "2023-06-07 06:16:40 INFO: DOCUMENT TRANSFORMER\n",
      "2023-06-07 06:16:40 INFO: POS REMOVAL\n",
      "2023-06-07 06:16:41 INFO: DOCUMENT TRANSFORMER\n",
      "2023-06-07 06:16:41 INFO: POS REMOVAL\n",
      "2023-06-07 06:16:41 INFO: DOCUMENT TRANSFORMER\n",
      "2023-06-07 06:16:42 INFO: POS REMOVAL\n",
      "2023-06-07 06:16:42 INFO: DOCUMENT TRANSFORMER\n",
      "2023-06-07 06:16:42 INFO: POS REMOVAL\n",
      "2023-06-07 06:16:42 INFO: DOCUMENT TRANSFORMER\n",
      "2023-06-07 06:16:43 INFO: POS REMOVAL\n",
      "2023-06-07 06:16:43 INFO: DOCUMENT TRANSFORMER\n",
      "2023-06-07 06:16:43 INFO: POS REMOVAL\n",
      "2023-06-07 06:16:43 INFO: DOCUMENT TRANSFORMER\n",
      "2023-06-07 06:16:44 INFO: POS REMOVAL\n",
      "2023-06-07 06:16:44 INFO: DOCUMENT TRANSFORMER\n",
      "2023-06-07 06:16:44 INFO: POS REMOVAL\n",
      "2023-06-07 06:16:44 INFO: DOCUMENT TRANSFORMER\n",
      "2023-06-07 06:16:45 INFO: POS REMOVAL\n",
      "2023-06-07 06:16:45 INFO: DOCUMENT TRANSFORMER\n",
      "2023-06-07 06:16:45 INFO: POS REMOVAL\n",
      "2023-06-07 06:16:45 INFO: DOCUMENT TRANSFORMER\n",
      "2023-06-07 06:16:46 INFO: POS REMOVAL\n",
      "2023-06-07 06:16:46 INFO: DOCUMENT TRANSFORMER\n",
      "2023-06-07 06:16:46 INFO: POS REMOVAL\n",
      "2023-06-07 06:16:47 INFO: DOCUMENT TRANSFORMER\n",
      "2023-06-07 06:16:48 INFO: POS REMOVAL\n",
      "2023-06-07 06:16:48 INFO: DOCUMENT TRANSFORMER\n",
      "2023-06-07 06:16:48 INFO: POS REMOVAL\n",
      "2023-06-07 06:16:48 INFO: DOCUMENT TRANSFORMER\n",
      "2023-06-07 06:16:49 INFO: POS REMOVAL\n",
      "2023-06-07 06:16:49 INFO: DOCUMENT TRANSFORMER\n",
      "2023-06-07 06:16:49 INFO: POS REMOVAL\n",
      "2023-06-07 06:16:49 INFO: DOCUMENT TRANSFORMER\n",
      "2023-06-07 06:16:49 INFO: POS REMOVAL\n",
      "2023-06-07 06:16:50 INFO: DOCUMENT TRANSFORMER\n",
      "2023-06-07 06:16:50 INFO: POS REMOVAL\n",
      "2023-06-07 06:16:50 INFO: DOCUMENT TRANSFORMER\n",
      "2023-06-07 06:16:50 INFO: POS REMOVAL\n",
      "2023-06-07 06:16:50 INFO: DOCUMENT TRANSFORMER\n",
      "2023-06-07 06:16:51 INFO: POS REMOVAL\n",
      "2023-06-07 06:16:51 INFO: DOCUMENT TRANSFORMER\n",
      "2023-06-07 06:16:51 INFO: POS REMOVAL\n",
      "2023-06-07 06:16:51 INFO: DOCUMENT TRANSFORMER\n",
      "2023-06-07 06:16:51 INFO: POS REMOVAL\n",
      "2023-06-07 06:16:52 INFO: DOCUMENT TRANSFORMER\n",
      "2023-06-07 06:16:52 INFO: POS REMOVAL\n",
      "2023-06-07 06:16:52 INFO: DOCUMENT TRANSFORMER\n",
      "2023-06-07 06:16:52 INFO: POS REMOVAL\n",
      "2023-06-07 06:16:52 INFO: DOCUMENT TRANSFORMER\n",
      "2023-06-07 06:16:53 INFO: POS REMOVAL\n",
      "2023-06-07 06:16:53 INFO: DOCUMENT TRANSFORMER\n",
      "2023-06-07 06:16:53 INFO: POS REMOVAL\n",
      "2023-06-07 06:16:53 INFO: DOCUMENT TRANSFORMER\n",
      "2023-06-07 06:16:54 INFO: POS REMOVAL\n",
      "2023-06-07 06:16:54 INFO: DOCUMENT TRANSFORMER\n",
      "2023-06-07 06:16:54 INFO: POS REMOVAL\n",
      "2023-06-07 06:16:54 INFO: DOCUMENT TRANSFORMER\n",
      "2023-06-07 06:16:54 INFO: POS REMOVAL\n",
      "2023-06-07 06:16:54 INFO: DOCUMENT TRANSFORMER\n",
      "2023-06-07 06:16:55 INFO: POS REMOVAL\n",
      "2023-06-07 06:16:55 INFO: DOCUMENT TRANSFORMER\n",
      "2023-06-07 06:16:55 INFO: POS REMOVAL\n",
      "2023-06-07 06:16:55 INFO: DOCUMENT TRANSFORMER\n",
      "2023-06-07 06:16:56 INFO: POS REMOVAL\n",
      "2023-06-07 06:16:56 INFO: DOCUMENT TRANSFORMER\n",
      "2023-06-07 06:16:56 INFO: POS REMOVAL\n",
      "2023-06-07 06:16:56 INFO: DOCUMENT TRANSFORMER\n",
      "2023-06-07 06:16:56 INFO: POS REMOVAL\n",
      "2023-06-07 06:16:56 INFO: DOCUMENT TRANSFORMER\n",
      "2023-06-07 06:16:57 INFO: POS REMOVAL\n",
      "2023-06-07 06:16:57 INFO: DOCUMENT TRANSFORMER\n",
      "2023-06-07 06:16:57 INFO: POS REMOVAL\n",
      "2023-06-07 06:16:57 INFO: DOCUMENT TRANSFORMER\n",
      "2023-06-07 06:16:58 INFO: POS REMOVAL\n",
      "2023-06-07 06:16:58 INFO: DOCUMENT TRANSFORMER\n",
      "2023-06-07 06:16:58 INFO: POS REMOVAL\n",
      "2023-06-07 06:16:58 INFO: DOCUMENT TRANSFORMER\n",
      "2023-06-07 06:16:59 INFO: POS REMOVAL\n",
      "2023-06-07 06:16:59 INFO: DOCUMENT TRANSFORMER\n",
      "2023-06-07 06:16:59 INFO: POS REMOVAL\n",
      "2023-06-07 06:16:59 INFO: DOCUMENT TRANSFORMER\n",
      "2023-06-07 06:17:00 INFO: POS REMOVAL\n",
      "2023-06-07 06:17:00 INFO: DOCUMENT TRANSFORMER\n",
      "2023-06-07 06:17:00 INFO: POS REMOVAL\n",
      "2023-06-07 06:17:00 INFO: DOCUMENT TRANSFORMER\n",
      "2023-06-07 06:17:01 INFO: POS REMOVAL\n",
      "2023-06-07 06:17:01 INFO: DOCUMENT TRANSFORMER\n",
      "2023-06-07 06:17:01 INFO: POS REMOVAL\n",
      "2023-06-07 06:17:01 INFO: DOCUMENT TRANSFORMER\n",
      "2023-06-07 06:17:02 INFO: POS REMOVAL\n",
      "2023-06-07 06:17:02 INFO: DOCUMENT TRANSFORMER\n",
      "2023-06-07 06:17:02 INFO: POS REMOVAL\n",
      "2023-06-07 06:17:02 INFO: DOCUMENT TRANSFORMER\n",
      "2023-06-07 06:17:03 INFO: POS REMOVAL\n",
      "2023-06-07 06:17:03 INFO: DOCUMENT TRANSFORMER\n",
      "2023-06-07 06:17:03 INFO: POS REMOVAL\n",
      "2023-06-07 06:17:03 INFO: DOCUMENT TRANSFORMER\n",
      "2023-06-07 06:17:04 INFO: POS REMOVAL\n",
      "2023-06-07 06:17:04 INFO: DOCUMENT TRANSFORMER\n",
      "2023-06-07 06:17:04 INFO: POS REMOVAL\n",
      "2023-06-07 06:17:04 INFO: DOCUMENT TRANSFORMER\n",
      "2023-06-07 06:17:05 INFO: POS REMOVAL\n",
      "2023-06-07 06:17:05 INFO: DOCUMENT TRANSFORMER\n",
      "2023-06-07 06:17:05 INFO: POS REMOVAL\n",
      "2023-06-07 06:17:05 INFO: DOCUMENT TRANSFORMER\n",
      "2023-06-07 06:17:06 INFO: POS REMOVAL\n",
      "2023-06-07 06:17:06 INFO: DOCUMENT TRANSFORMER\n",
      "2023-06-07 06:17:06 INFO: POS REMOVAL\n",
      "2023-06-07 06:17:06 INFO: DOCUMENT TRANSFORMER\n",
      "2023-06-07 06:17:06 INFO: POS REMOVAL\n",
      "2023-06-07 06:17:07 INFO: DOCUMENT TRANSFORMER\n"
     ]
    },
    {
     "name": "stderr",
     "output_type": "stream",
     "text": [
      "c:\\Users\\c10nGp4\\anaconda3\\envs\\imbalance-multi-classification\\lib\\site-packages\\sklearn\\svm\\_base.py:1244: ConvergenceWarning: Liblinear failed to converge, increase the number of iterations.\n",
      "  warnings.warn(\n"
     ]
    },
    {
     "name": "stdout",
     "output_type": "stream",
     "text": [
      "2023-06-07 06:17:10 INFO: POS REMOVAL\n",
      "2023-06-07 06:17:10 INFO: DOCUMENT TRANSFORMER\n",
      "2023-06-07 06:17:10 INFO: POS REMOVAL\n",
      "2023-06-07 06:17:10 INFO: DOCUMENT TRANSFORMER\n"
     ]
    },
    {
     "name": "stderr",
     "output_type": "stream",
     "text": [
      "c:\\Users\\c10nGp4\\anaconda3\\envs\\imbalance-multi-classification\\lib\\site-packages\\sklearn\\svm\\_base.py:1244: ConvergenceWarning: Liblinear failed to converge, increase the number of iterations.\n",
      "  warnings.warn(\n"
     ]
    },
    {
     "name": "stdout",
     "output_type": "stream",
     "text": [
      "2023-06-07 06:17:13 INFO: POS REMOVAL\n",
      "2023-06-07 06:17:13 INFO: DOCUMENT TRANSFORMER\n",
      "2023-06-07 06:17:13 INFO: POS REMOVAL\n",
      "2023-06-07 06:17:13 INFO: DOCUMENT TRANSFORMER\n"
     ]
    },
    {
     "name": "stderr",
     "output_type": "stream",
     "text": [
      "c:\\Users\\c10nGp4\\anaconda3\\envs\\imbalance-multi-classification\\lib\\site-packages\\sklearn\\svm\\_base.py:1244: ConvergenceWarning: Liblinear failed to converge, increase the number of iterations.\n",
      "  warnings.warn(\n"
     ]
    },
    {
     "name": "stdout",
     "output_type": "stream",
     "text": [
      "2023-06-07 06:17:16 INFO: POS REMOVAL\n",
      "2023-06-07 06:17:16 INFO: DOCUMENT TRANSFORMER\n",
      "2023-06-07 06:17:16 INFO: POS REMOVAL\n",
      "2023-06-07 06:17:16 INFO: DOCUMENT TRANSFORMER\n"
     ]
    },
    {
     "name": "stderr",
     "output_type": "stream",
     "text": [
      "c:\\Users\\c10nGp4\\anaconda3\\envs\\imbalance-multi-classification\\lib\\site-packages\\sklearn\\svm\\_base.py:1244: ConvergenceWarning: Liblinear failed to converge, increase the number of iterations.\n",
      "  warnings.warn(\n"
     ]
    },
    {
     "name": "stdout",
     "output_type": "stream",
     "text": [
      "2023-06-07 06:17:19 INFO: POS REMOVAL\n",
      "2023-06-07 06:17:19 INFO: DOCUMENT TRANSFORMER\n",
      "2023-06-07 06:17:20 INFO: POS REMOVAL\n",
      "2023-06-07 06:17:20 INFO: DOCUMENT TRANSFORMER\n"
     ]
    },
    {
     "name": "stderr",
     "output_type": "stream",
     "text": [
      "c:\\Users\\c10nGp4\\anaconda3\\envs\\imbalance-multi-classification\\lib\\site-packages\\sklearn\\svm\\_base.py:1244: ConvergenceWarning: Liblinear failed to converge, increase the number of iterations.\n",
      "  warnings.warn(\n"
     ]
    },
    {
     "name": "stdout",
     "output_type": "stream",
     "text": [
      "2023-06-07 06:17:23 INFO: POS REMOVAL\n",
      "2023-06-07 06:17:23 INFO: DOCUMENT TRANSFORMER\n",
      "2023-06-07 06:17:23 INFO: POS REMOVAL\n",
      "2023-06-07 06:17:23 INFO: DOCUMENT TRANSFORMER\n"
     ]
    },
    {
     "name": "stderr",
     "output_type": "stream",
     "text": [
      "c:\\Users\\c10nGp4\\anaconda3\\envs\\imbalance-multi-classification\\lib\\site-packages\\sklearn\\svm\\_base.py:1244: ConvergenceWarning: Liblinear failed to converge, increase the number of iterations.\n",
      "  warnings.warn(\n"
     ]
    },
    {
     "name": "stdout",
     "output_type": "stream",
     "text": [
      "2023-06-07 06:17:26 INFO: POS REMOVAL\n",
      "2023-06-07 06:17:26 INFO: DOCUMENT TRANSFORMER\n",
      "2023-06-07 06:17:27 INFO: POS REMOVAL\n",
      "2023-06-07 06:17:27 INFO: DOCUMENT TRANSFORMER\n"
     ]
    },
    {
     "name": "stderr",
     "output_type": "stream",
     "text": [
      "c:\\Users\\c10nGp4\\anaconda3\\envs\\imbalance-multi-classification\\lib\\site-packages\\sklearn\\svm\\_base.py:1244: ConvergenceWarning: Liblinear failed to converge, increase the number of iterations.\n",
      "  warnings.warn(\n"
     ]
    },
    {
     "name": "stdout",
     "output_type": "stream",
     "text": [
      "2023-06-07 06:17:30 INFO: POS REMOVAL\n",
      "2023-06-07 06:17:30 INFO: DOCUMENT TRANSFORMER\n",
      "2023-06-07 06:17:30 INFO: POS REMOVAL\n",
      "2023-06-07 06:17:30 INFO: DOCUMENT TRANSFORMER\n"
     ]
    },
    {
     "name": "stderr",
     "output_type": "stream",
     "text": [
      "c:\\Users\\c10nGp4\\anaconda3\\envs\\imbalance-multi-classification\\lib\\site-packages\\sklearn\\svm\\_base.py:1244: ConvergenceWarning: Liblinear failed to converge, increase the number of iterations.\n",
      "  warnings.warn(\n"
     ]
    },
    {
     "name": "stdout",
     "output_type": "stream",
     "text": [
      "2023-06-07 06:17:33 INFO: POS REMOVAL\n",
      "2023-06-07 06:17:33 INFO: DOCUMENT TRANSFORMER\n",
      "2023-06-07 06:17:33 INFO: POS REMOVAL\n",
      "2023-06-07 06:17:33 INFO: DOCUMENT TRANSFORMER\n"
     ]
    },
    {
     "name": "stderr",
     "output_type": "stream",
     "text": [
      "c:\\Users\\c10nGp4\\anaconda3\\envs\\imbalance-multi-classification\\lib\\site-packages\\sklearn\\svm\\_base.py:1244: ConvergenceWarning: Liblinear failed to converge, increase the number of iterations.\n",
      "  warnings.warn(\n"
     ]
    },
    {
     "name": "stdout",
     "output_type": "stream",
     "text": [
      "2023-06-07 06:17:36 INFO: POS REMOVAL\n",
      "2023-06-07 06:17:36 INFO: DOCUMENT TRANSFORMER\n",
      "2023-06-07 06:17:36 INFO: POS REMOVAL\n",
      "2023-06-07 06:17:36 INFO: DOCUMENT TRANSFORMER\n"
     ]
    },
    {
     "name": "stderr",
     "output_type": "stream",
     "text": [
      "c:\\Users\\c10nGp4\\anaconda3\\envs\\imbalance-multi-classification\\lib\\site-packages\\sklearn\\svm\\_base.py:1244: ConvergenceWarning: Liblinear failed to converge, increase the number of iterations.\n",
      "  warnings.warn(\n"
     ]
    },
    {
     "name": "stdout",
     "output_type": "stream",
     "text": [
      "2023-06-07 06:17:40 INFO: POS REMOVAL\n",
      "2023-06-07 06:17:40 INFO: DOCUMENT TRANSFORMER\n",
      "2023-06-07 06:17:40 INFO: POS REMOVAL\n",
      "2023-06-07 06:17:40 INFO: DOCUMENT TRANSFORMER\n"
     ]
    },
    {
     "name": "stderr",
     "output_type": "stream",
     "text": [
      "c:\\Users\\c10nGp4\\anaconda3\\envs\\imbalance-multi-classification\\lib\\site-packages\\sklearn\\svm\\_base.py:1244: ConvergenceWarning: Liblinear failed to converge, increase the number of iterations.\n",
      "  warnings.warn(\n"
     ]
    },
    {
     "name": "stdout",
     "output_type": "stream",
     "text": [
      "2023-06-07 06:17:43 INFO: POS REMOVAL\n",
      "2023-06-07 06:17:43 INFO: DOCUMENT TRANSFORMER\n",
      "2023-06-07 06:17:43 INFO: POS REMOVAL\n",
      "2023-06-07 06:17:43 INFO: DOCUMENT TRANSFORMER\n"
     ]
    },
    {
     "name": "stderr",
     "output_type": "stream",
     "text": [
      "c:\\Users\\c10nGp4\\anaconda3\\envs\\imbalance-multi-classification\\lib\\site-packages\\sklearn\\svm\\_base.py:1244: ConvergenceWarning: Liblinear failed to converge, increase the number of iterations.\n",
      "  warnings.warn(\n"
     ]
    },
    {
     "name": "stdout",
     "output_type": "stream",
     "text": [
      "2023-06-07 06:17:46 INFO: POS REMOVAL\n",
      "2023-06-07 06:17:46 INFO: DOCUMENT TRANSFORMER\n",
      "2023-06-07 06:17:47 INFO: POS REMOVAL\n",
      "2023-06-07 06:17:47 INFO: DOCUMENT TRANSFORMER\n"
     ]
    },
    {
     "name": "stderr",
     "output_type": "stream",
     "text": [
      "c:\\Users\\c10nGp4\\anaconda3\\envs\\imbalance-multi-classification\\lib\\site-packages\\sklearn\\svm\\_base.py:1244: ConvergenceWarning: Liblinear failed to converge, increase the number of iterations.\n",
      "  warnings.warn(\n"
     ]
    },
    {
     "name": "stdout",
     "output_type": "stream",
     "text": [
      "2023-06-07 06:17:50 INFO: POS REMOVAL\n",
      "2023-06-07 06:17:50 INFO: DOCUMENT TRANSFORMER\n",
      "2023-06-07 06:17:50 INFO: POS REMOVAL\n",
      "2023-06-07 06:17:50 INFO: DOCUMENT TRANSFORMER\n"
     ]
    },
    {
     "name": "stderr",
     "output_type": "stream",
     "text": [
      "c:\\Users\\c10nGp4\\anaconda3\\envs\\imbalance-multi-classification\\lib\\site-packages\\sklearn\\svm\\_base.py:1244: ConvergenceWarning: Liblinear failed to converge, increase the number of iterations.\n",
      "  warnings.warn(\n"
     ]
    },
    {
     "name": "stdout",
     "output_type": "stream",
     "text": [
      "2023-06-07 06:17:53 INFO: POS REMOVAL\n",
      "2023-06-07 06:17:53 INFO: DOCUMENT TRANSFORMER\n",
      "2023-06-07 06:17:53 INFO: POS REMOVAL\n",
      "2023-06-07 06:17:53 INFO: DOCUMENT TRANSFORMER\n"
     ]
    },
    {
     "name": "stderr",
     "output_type": "stream",
     "text": [
      "c:\\Users\\c10nGp4\\anaconda3\\envs\\imbalance-multi-classification\\lib\\site-packages\\sklearn\\svm\\_base.py:1244: ConvergenceWarning: Liblinear failed to converge, increase the number of iterations.\n",
      "  warnings.warn(\n"
     ]
    },
    {
     "name": "stdout",
     "output_type": "stream",
     "text": [
      "2023-06-07 06:17:56 INFO: POS REMOVAL\n",
      "2023-06-07 06:17:56 INFO: DOCUMENT TRANSFORMER\n",
      "2023-06-07 06:17:57 INFO: POS REMOVAL\n",
      "2023-06-07 06:17:57 INFO: DOCUMENT TRANSFORMER\n"
     ]
    },
    {
     "name": "stderr",
     "output_type": "stream",
     "text": [
      "c:\\Users\\c10nGp4\\anaconda3\\envs\\imbalance-multi-classification\\lib\\site-packages\\sklearn\\svm\\_base.py:1244: ConvergenceWarning: Liblinear failed to converge, increase the number of iterations.\n",
      "  warnings.warn(\n"
     ]
    },
    {
     "name": "stdout",
     "output_type": "stream",
     "text": [
      "2023-06-07 06:18:00 INFO: POS REMOVAL\n",
      "2023-06-07 06:18:00 INFO: DOCUMENT TRANSFORMER\n",
      "2023-06-07 06:18:00 INFO: POS REMOVAL\n",
      "2023-06-07 06:18:00 INFO: DOCUMENT TRANSFORMER\n"
     ]
    },
    {
     "name": "stderr",
     "output_type": "stream",
     "text": [
      "c:\\Users\\c10nGp4\\anaconda3\\envs\\imbalance-multi-classification\\lib\\site-packages\\sklearn\\svm\\_base.py:1244: ConvergenceWarning: Liblinear failed to converge, increase the number of iterations.\n",
      "  warnings.warn(\n"
     ]
    },
    {
     "name": "stdout",
     "output_type": "stream",
     "text": [
      "2023-06-07 06:18:03 INFO: POS REMOVAL\n",
      "2023-06-07 06:18:03 INFO: DOCUMENT TRANSFORMER\n",
      "2023-06-07 06:18:03 INFO: POS REMOVAL\n",
      "2023-06-07 06:18:03 INFO: DOCUMENT TRANSFORMER\n"
     ]
    },
    {
     "name": "stderr",
     "output_type": "stream",
     "text": [
      "c:\\Users\\c10nGp4\\anaconda3\\envs\\imbalance-multi-classification\\lib\\site-packages\\sklearn\\svm\\_base.py:1244: ConvergenceWarning: Liblinear failed to converge, increase the number of iterations.\n",
      "  warnings.warn(\n"
     ]
    },
    {
     "name": "stdout",
     "output_type": "stream",
     "text": [
      "2023-06-07 06:18:06 INFO: POS REMOVAL\n",
      "2023-06-07 06:18:06 INFO: DOCUMENT TRANSFORMER\n",
      "2023-06-07 06:18:06 INFO: POS REMOVAL\n",
      "2023-06-07 06:18:06 INFO: DOCUMENT TRANSFORMER\n"
     ]
    },
    {
     "name": "stderr",
     "output_type": "stream",
     "text": [
      "c:\\Users\\c10nGp4\\anaconda3\\envs\\imbalance-multi-classification\\lib\\site-packages\\sklearn\\svm\\_base.py:1244: ConvergenceWarning: Liblinear failed to converge, increase the number of iterations.\n",
      "  warnings.warn(\n"
     ]
    },
    {
     "name": "stdout",
     "output_type": "stream",
     "text": [
      "2023-06-07 06:18:09 INFO: POS REMOVAL\n",
      "2023-06-07 06:18:09 INFO: DOCUMENT TRANSFORMER\n",
      "2023-06-07 06:18:10 INFO: POS REMOVAL\n",
      "2023-06-07 06:18:10 INFO: DOCUMENT TRANSFORMER\n"
     ]
    },
    {
     "name": "stderr",
     "output_type": "stream",
     "text": [
      "c:\\Users\\c10nGp4\\anaconda3\\envs\\imbalance-multi-classification\\lib\\site-packages\\sklearn\\svm\\_base.py:1244: ConvergenceWarning: Liblinear failed to converge, increase the number of iterations.\n",
      "  warnings.warn(\n"
     ]
    },
    {
     "name": "stdout",
     "output_type": "stream",
     "text": [
      "2023-06-07 06:18:13 INFO: POS REMOVAL\n",
      "2023-06-07 06:18:13 INFO: DOCUMENT TRANSFORMER\n",
      "2023-06-07 06:18:13 INFO: POS REMOVAL\n",
      "2023-06-07 06:18:13 INFO: DOCUMENT TRANSFORMER\n"
     ]
    },
    {
     "name": "stderr",
     "output_type": "stream",
     "text": [
      "c:\\Users\\c10nGp4\\anaconda3\\envs\\imbalance-multi-classification\\lib\\site-packages\\sklearn\\svm\\_base.py:1244: ConvergenceWarning: Liblinear failed to converge, increase the number of iterations.\n",
      "  warnings.warn(\n"
     ]
    },
    {
     "name": "stdout",
     "output_type": "stream",
     "text": [
      "2023-06-07 06:18:17 INFO: POS REMOVAL\n",
      "2023-06-07 06:18:17 INFO: DOCUMENT TRANSFORMER\n",
      "2023-06-07 06:18:17 INFO: POS REMOVAL\n",
      "2023-06-07 06:18:17 INFO: DOCUMENT TRANSFORMER\n"
     ]
    },
    {
     "name": "stderr",
     "output_type": "stream",
     "text": [
      "c:\\Users\\c10nGp4\\anaconda3\\envs\\imbalance-multi-classification\\lib\\site-packages\\sklearn\\svm\\_base.py:1244: ConvergenceWarning: Liblinear failed to converge, increase the number of iterations.\n",
      "  warnings.warn(\n"
     ]
    },
    {
     "name": "stdout",
     "output_type": "stream",
     "text": [
      "2023-06-07 06:18:22 INFO: POS REMOVAL\n",
      "2023-06-07 06:18:22 INFO: DOCUMENT TRANSFORMER\n",
      "2023-06-07 06:18:22 INFO: POS REMOVAL\n",
      "2023-06-07 06:18:22 INFO: DOCUMENT TRANSFORMER\n"
     ]
    },
    {
     "name": "stderr",
     "output_type": "stream",
     "text": [
      "c:\\Users\\c10nGp4\\anaconda3\\envs\\imbalance-multi-classification\\lib\\site-packages\\sklearn\\svm\\_base.py:1244: ConvergenceWarning: Liblinear failed to converge, increase the number of iterations.\n",
      "  warnings.warn(\n"
     ]
    },
    {
     "name": "stdout",
     "output_type": "stream",
     "text": [
      "2023-06-07 06:18:26 INFO: POS REMOVAL\n",
      "2023-06-07 06:18:26 INFO: DOCUMENT TRANSFORMER\n",
      "2023-06-07 06:18:27 INFO: POS REMOVAL\n",
      "2023-06-07 06:18:27 INFO: DOCUMENT TRANSFORMER\n"
     ]
    },
    {
     "name": "stderr",
     "output_type": "stream",
     "text": [
      "c:\\Users\\c10nGp4\\anaconda3\\envs\\imbalance-multi-classification\\lib\\site-packages\\sklearn\\svm\\_base.py:1244: ConvergenceWarning: Liblinear failed to converge, increase the number of iterations.\n",
      "  warnings.warn(\n"
     ]
    },
    {
     "name": "stdout",
     "output_type": "stream",
     "text": [
      "2023-06-07 06:18:31 INFO: POS REMOVAL\n",
      "2023-06-07 06:18:31 INFO: DOCUMENT TRANSFORMER\n",
      "2023-06-07 06:18:31 INFO: POS REMOVAL\n",
      "2023-06-07 06:18:31 INFO: DOCUMENT TRANSFORMER\n"
     ]
    },
    {
     "name": "stderr",
     "output_type": "stream",
     "text": [
      "c:\\Users\\c10nGp4\\anaconda3\\envs\\imbalance-multi-classification\\lib\\site-packages\\sklearn\\svm\\_base.py:1244: ConvergenceWarning: Liblinear failed to converge, increase the number of iterations.\n",
      "  warnings.warn(\n"
     ]
    },
    {
     "name": "stdout",
     "output_type": "stream",
     "text": [
      "2023-06-07 06:18:36 INFO: POS REMOVAL\n",
      "2023-06-07 06:18:36 INFO: DOCUMENT TRANSFORMER\n",
      "2023-06-07 06:18:36 INFO: POS REMOVAL\n",
      "2023-06-07 06:18:36 INFO: DOCUMENT TRANSFORMER\n"
     ]
    },
    {
     "name": "stderr",
     "output_type": "stream",
     "text": [
      "c:\\Users\\c10nGp4\\anaconda3\\envs\\imbalance-multi-classification\\lib\\site-packages\\sklearn\\svm\\_base.py:1244: ConvergenceWarning: Liblinear failed to converge, increase the number of iterations.\n",
      "  warnings.warn(\n"
     ]
    },
    {
     "name": "stdout",
     "output_type": "stream",
     "text": [
      "2023-06-07 06:18:40 INFO: POS REMOVAL\n",
      "2023-06-07 06:18:40 INFO: DOCUMENT TRANSFORMER\n",
      "2023-06-07 06:18:40 INFO: POS REMOVAL\n",
      "2023-06-07 06:18:40 INFO: DOCUMENT TRANSFORMER\n"
     ]
    },
    {
     "name": "stderr",
     "output_type": "stream",
     "text": [
      "c:\\Users\\c10nGp4\\anaconda3\\envs\\imbalance-multi-classification\\lib\\site-packages\\sklearn\\svm\\_base.py:1244: ConvergenceWarning: Liblinear failed to converge, increase the number of iterations.\n",
      "  warnings.warn(\n"
     ]
    },
    {
     "name": "stdout",
     "output_type": "stream",
     "text": [
      "2023-06-07 06:18:45 INFO: POS REMOVAL\n",
      "2023-06-07 06:18:45 INFO: DOCUMENT TRANSFORMER\n",
      "2023-06-07 06:18:45 INFO: POS REMOVAL\n",
      "2023-06-07 06:18:45 INFO: DOCUMENT TRANSFORMER\n"
     ]
    },
    {
     "name": "stderr",
     "output_type": "stream",
     "text": [
      "c:\\Users\\c10nGp4\\anaconda3\\envs\\imbalance-multi-classification\\lib\\site-packages\\sklearn\\svm\\_base.py:1244: ConvergenceWarning: Liblinear failed to converge, increase the number of iterations.\n",
      "  warnings.warn(\n"
     ]
    },
    {
     "name": "stdout",
     "output_type": "stream",
     "text": [
      "2023-06-07 06:18:50 INFO: POS REMOVAL\n",
      "2023-06-07 06:18:50 INFO: DOCUMENT TRANSFORMER\n",
      "2023-06-07 06:18:50 INFO: POS REMOVAL\n",
      "2023-06-07 06:18:50 INFO: DOCUMENT TRANSFORMER\n"
     ]
    },
    {
     "name": "stderr",
     "output_type": "stream",
     "text": [
      "c:\\Users\\c10nGp4\\anaconda3\\envs\\imbalance-multi-classification\\lib\\site-packages\\sklearn\\svm\\_base.py:1244: ConvergenceWarning: Liblinear failed to converge, increase the number of iterations.\n",
      "  warnings.warn(\n"
     ]
    },
    {
     "name": "stdout",
     "output_type": "stream",
     "text": [
      "2023-06-07 06:18:55 INFO: POS REMOVAL\n",
      "2023-06-07 06:18:55 INFO: DOCUMENT TRANSFORMER\n",
      "2023-06-07 06:18:55 INFO: POS REMOVAL\n",
      "2023-06-07 06:18:55 INFO: DOCUMENT TRANSFORMER\n"
     ]
    },
    {
     "name": "stderr",
     "output_type": "stream",
     "text": [
      "c:\\Users\\c10nGp4\\anaconda3\\envs\\imbalance-multi-classification\\lib\\site-packages\\sklearn\\svm\\_base.py:1244: ConvergenceWarning: Liblinear failed to converge, increase the number of iterations.\n",
      "  warnings.warn(\n"
     ]
    },
    {
     "name": "stdout",
     "output_type": "stream",
     "text": [
      "2023-06-07 06:19:00 INFO: POS REMOVAL\n",
      "2023-06-07 06:19:00 INFO: DOCUMENT TRANSFORMER\n",
      "2023-06-07 06:19:00 INFO: POS REMOVAL\n",
      "2023-06-07 06:19:00 INFO: DOCUMENT TRANSFORMER\n"
     ]
    },
    {
     "name": "stderr",
     "output_type": "stream",
     "text": [
      "c:\\Users\\c10nGp4\\anaconda3\\envs\\imbalance-multi-classification\\lib\\site-packages\\sklearn\\svm\\_base.py:1244: ConvergenceWarning: Liblinear failed to converge, increase the number of iterations.\n",
      "  warnings.warn(\n"
     ]
    },
    {
     "name": "stdout",
     "output_type": "stream",
     "text": [
      "2023-06-07 06:19:04 INFO: POS REMOVAL\n",
      "2023-06-07 06:19:04 INFO: DOCUMENT TRANSFORMER\n",
      "2023-06-07 06:19:04 INFO: POS REMOVAL\n",
      "2023-06-07 06:19:05 INFO: DOCUMENT TRANSFORMER\n"
     ]
    },
    {
     "name": "stderr",
     "output_type": "stream",
     "text": [
      "c:\\Users\\c10nGp4\\anaconda3\\envs\\imbalance-multi-classification\\lib\\site-packages\\sklearn\\svm\\_base.py:1244: ConvergenceWarning: Liblinear failed to converge, increase the number of iterations.\n",
      "  warnings.warn(\n"
     ]
    },
    {
     "name": "stdout",
     "output_type": "stream",
     "text": [
      "2023-06-07 06:19:09 INFO: POS REMOVAL\n",
      "2023-06-07 06:19:09 INFO: DOCUMENT TRANSFORMER\n",
      "2023-06-07 06:19:09 INFO: POS REMOVAL\n",
      "2023-06-07 06:19:09 INFO: DOCUMENT TRANSFORMER\n"
     ]
    },
    {
     "name": "stderr",
     "output_type": "stream",
     "text": [
      "c:\\Users\\c10nGp4\\anaconda3\\envs\\imbalance-multi-classification\\lib\\site-packages\\sklearn\\svm\\_base.py:1244: ConvergenceWarning: Liblinear failed to converge, increase the number of iterations.\n",
      "  warnings.warn(\n"
     ]
    },
    {
     "name": "stdout",
     "output_type": "stream",
     "text": [
      "2023-06-07 06:19:14 INFO: POS REMOVAL\n",
      "2023-06-07 06:19:14 INFO: DOCUMENT TRANSFORMER\n",
      "2023-06-07 06:19:14 INFO: POS REMOVAL\n",
      "2023-06-07 06:19:14 INFO: DOCUMENT TRANSFORMER\n"
     ]
    },
    {
     "name": "stderr",
     "output_type": "stream",
     "text": [
      "c:\\Users\\c10nGp4\\anaconda3\\envs\\imbalance-multi-classification\\lib\\site-packages\\sklearn\\svm\\_base.py:1244: ConvergenceWarning: Liblinear failed to converge, increase the number of iterations.\n",
      "  warnings.warn(\n"
     ]
    },
    {
     "name": "stdout",
     "output_type": "stream",
     "text": [
      "2023-06-07 06:19:18 INFO: POS REMOVAL\n",
      "2023-06-07 06:19:18 INFO: DOCUMENT TRANSFORMER\n",
      "2023-06-07 06:19:18 INFO: POS REMOVAL\n",
      "2023-06-07 06:19:19 INFO: DOCUMENT TRANSFORMER\n"
     ]
    },
    {
     "name": "stderr",
     "output_type": "stream",
     "text": [
      "c:\\Users\\c10nGp4\\anaconda3\\envs\\imbalance-multi-classification\\lib\\site-packages\\sklearn\\svm\\_base.py:1244: ConvergenceWarning: Liblinear failed to converge, increase the number of iterations.\n",
      "  warnings.warn(\n"
     ]
    },
    {
     "name": "stdout",
     "output_type": "stream",
     "text": [
      "2023-06-07 06:19:23 INFO: POS REMOVAL\n",
      "2023-06-07 06:19:23 INFO: DOCUMENT TRANSFORMER\n",
      "2023-06-07 06:19:23 INFO: POS REMOVAL\n",
      "2023-06-07 06:19:23 INFO: DOCUMENT TRANSFORMER\n"
     ]
    },
    {
     "name": "stderr",
     "output_type": "stream",
     "text": [
      "c:\\Users\\c10nGp4\\anaconda3\\envs\\imbalance-multi-classification\\lib\\site-packages\\sklearn\\svm\\_base.py:1244: ConvergenceWarning: Liblinear failed to converge, increase the number of iterations.\n",
      "  warnings.warn(\n"
     ]
    },
    {
     "name": "stdout",
     "output_type": "stream",
     "text": [
      "2023-06-07 06:19:28 INFO: POS REMOVAL\n",
      "2023-06-07 06:19:28 INFO: DOCUMENT TRANSFORMER\n",
      "2023-06-07 06:19:28 INFO: POS REMOVAL\n",
      "2023-06-07 06:19:28 INFO: DOCUMENT TRANSFORMER\n"
     ]
    },
    {
     "name": "stderr",
     "output_type": "stream",
     "text": [
      "c:\\Users\\c10nGp4\\anaconda3\\envs\\imbalance-multi-classification\\lib\\site-packages\\sklearn\\svm\\_base.py:1244: ConvergenceWarning: Liblinear failed to converge, increase the number of iterations.\n",
      "  warnings.warn(\n"
     ]
    },
    {
     "name": "stdout",
     "output_type": "stream",
     "text": [
      "2023-06-07 06:19:33 INFO: POS REMOVAL\n",
      "2023-06-07 06:19:33 INFO: DOCUMENT TRANSFORMER\n",
      "2023-06-07 06:19:33 INFO: POS REMOVAL\n",
      "2023-06-07 06:19:33 INFO: DOCUMENT TRANSFORMER\n"
     ]
    },
    {
     "name": "stderr",
     "output_type": "stream",
     "text": [
      "c:\\Users\\c10nGp4\\anaconda3\\envs\\imbalance-multi-classification\\lib\\site-packages\\sklearn\\svm\\_base.py:1244: ConvergenceWarning: Liblinear failed to converge, increase the number of iterations.\n",
      "  warnings.warn(\n"
     ]
    },
    {
     "name": "stdout",
     "output_type": "stream",
     "text": [
      "2023-06-07 06:19:37 INFO: POS REMOVAL\n",
      "2023-06-07 06:19:37 INFO: DOCUMENT TRANSFORMER\n",
      "2023-06-07 06:19:37 INFO: POS REMOVAL\n",
      "2023-06-07 06:19:37 INFO: DOCUMENT TRANSFORMER\n"
     ]
    },
    {
     "name": "stderr",
     "output_type": "stream",
     "text": [
      "c:\\Users\\c10nGp4\\anaconda3\\envs\\imbalance-multi-classification\\lib\\site-packages\\sklearn\\svm\\_base.py:1244: ConvergenceWarning: Liblinear failed to converge, increase the number of iterations.\n",
      "  warnings.warn(\n"
     ]
    },
    {
     "name": "stdout",
     "output_type": "stream",
     "text": [
      "2023-06-07 06:19:42 INFO: POS REMOVAL\n",
      "2023-06-07 06:19:42 INFO: DOCUMENT TRANSFORMER\n",
      "2023-06-07 06:19:42 INFO: POS REMOVAL\n",
      "2023-06-07 06:19:42 INFO: DOCUMENT TRANSFORMER\n"
     ]
    },
    {
     "name": "stderr",
     "output_type": "stream",
     "text": [
      "c:\\Users\\c10nGp4\\anaconda3\\envs\\imbalance-multi-classification\\lib\\site-packages\\sklearn\\svm\\_base.py:1244: ConvergenceWarning: Liblinear failed to converge, increase the number of iterations.\n",
      "  warnings.warn(\n"
     ]
    },
    {
     "name": "stdout",
     "output_type": "stream",
     "text": [
      "2023-06-07 06:19:47 INFO: POS REMOVAL\n",
      "2023-06-07 06:19:47 INFO: DOCUMENT TRANSFORMER\n",
      "2023-06-07 06:19:47 INFO: POS REMOVAL\n",
      "2023-06-07 06:19:47 INFO: DOCUMENT TRANSFORMER\n"
     ]
    },
    {
     "name": "stderr",
     "output_type": "stream",
     "text": [
      "c:\\Users\\c10nGp4\\anaconda3\\envs\\imbalance-multi-classification\\lib\\site-packages\\sklearn\\svm\\_base.py:1244: ConvergenceWarning: Liblinear failed to converge, increase the number of iterations.\n",
      "  warnings.warn(\n"
     ]
    },
    {
     "name": "stdout",
     "output_type": "stream",
     "text": [
      "2023-06-07 06:19:50 INFO: POS REMOVAL\n",
      "2023-06-07 06:19:50 INFO: DOCUMENT TRANSFORMER\n",
      "2023-06-07 06:19:50 INFO: POS REMOVAL\n",
      "2023-06-07 06:19:50 INFO: DOCUMENT TRANSFORMER\n"
     ]
    },
    {
     "name": "stderr",
     "output_type": "stream",
     "text": [
      "c:\\Users\\c10nGp4\\anaconda3\\envs\\imbalance-multi-classification\\lib\\site-packages\\sklearn\\svm\\_base.py:1244: ConvergenceWarning: Liblinear failed to converge, increase the number of iterations.\n",
      "  warnings.warn(\n"
     ]
    },
    {
     "name": "stdout",
     "output_type": "stream",
     "text": [
      "2023-06-07 06:19:53 INFO: POS REMOVAL\n",
      "2023-06-07 06:19:53 INFO: DOCUMENT TRANSFORMER\n",
      "2023-06-07 06:19:53 INFO: POS REMOVAL\n",
      "2023-06-07 06:19:53 INFO: DOCUMENT TRANSFORMER\n"
     ]
    },
    {
     "name": "stderr",
     "output_type": "stream",
     "text": [
      "c:\\Users\\c10nGp4\\anaconda3\\envs\\imbalance-multi-classification\\lib\\site-packages\\sklearn\\svm\\_base.py:1244: ConvergenceWarning: Liblinear failed to converge, increase the number of iterations.\n",
      "  warnings.warn(\n"
     ]
    },
    {
     "name": "stdout",
     "output_type": "stream",
     "text": [
      "2023-06-07 06:19:56 INFO: POS REMOVAL\n",
      "2023-06-07 06:19:56 INFO: DOCUMENT TRANSFORMER\n",
      "2023-06-07 06:19:56 INFO: POS REMOVAL\n",
      "2023-06-07 06:19:57 INFO: DOCUMENT TRANSFORMER\n"
     ]
    },
    {
     "name": "stderr",
     "output_type": "stream",
     "text": [
      "c:\\Users\\c10nGp4\\anaconda3\\envs\\imbalance-multi-classification\\lib\\site-packages\\sklearn\\svm\\_base.py:1244: ConvergenceWarning: Liblinear failed to converge, increase the number of iterations.\n",
      "  warnings.warn(\n"
     ]
    },
    {
     "name": "stdout",
     "output_type": "stream",
     "text": [
      "2023-06-07 06:19:59 INFO: POS REMOVAL\n",
      "2023-06-07 06:20:00 INFO: DOCUMENT TRANSFORMER\n",
      "2023-06-07 06:20:00 INFO: POS REMOVAL\n",
      "2023-06-07 06:20:00 INFO: DOCUMENT TRANSFORMER\n"
     ]
    },
    {
     "name": "stderr",
     "output_type": "stream",
     "text": [
      "c:\\Users\\c10nGp4\\anaconda3\\envs\\imbalance-multi-classification\\lib\\site-packages\\sklearn\\svm\\_base.py:1244: ConvergenceWarning: Liblinear failed to converge, increase the number of iterations.\n",
      "  warnings.warn(\n"
     ]
    },
    {
     "name": "stdout",
     "output_type": "stream",
     "text": [
      "2023-06-07 06:20:03 INFO: POS REMOVAL\n",
      "2023-06-07 06:20:03 INFO: DOCUMENT TRANSFORMER\n",
      "2023-06-07 06:20:03 INFO: POS REMOVAL\n",
      "2023-06-07 06:20:03 INFO: DOCUMENT TRANSFORMER\n"
     ]
    },
    {
     "name": "stderr",
     "output_type": "stream",
     "text": [
      "c:\\Users\\c10nGp4\\anaconda3\\envs\\imbalance-multi-classification\\lib\\site-packages\\sklearn\\svm\\_base.py:1244: ConvergenceWarning: Liblinear failed to converge, increase the number of iterations.\n",
      "  warnings.warn(\n"
     ]
    },
    {
     "name": "stdout",
     "output_type": "stream",
     "text": [
      "2023-06-07 06:20:06 INFO: POS REMOVAL\n",
      "2023-06-07 06:20:06 INFO: DOCUMENT TRANSFORMER\n",
      "2023-06-07 06:20:06 INFO: POS REMOVAL\n",
      "2023-06-07 06:20:06 INFO: DOCUMENT TRANSFORMER\n"
     ]
    },
    {
     "name": "stderr",
     "output_type": "stream",
     "text": [
      "c:\\Users\\c10nGp4\\anaconda3\\envs\\imbalance-multi-classification\\lib\\site-packages\\sklearn\\svm\\_base.py:1244: ConvergenceWarning: Liblinear failed to converge, increase the number of iterations.\n",
      "  warnings.warn(\n"
     ]
    },
    {
     "name": "stdout",
     "output_type": "stream",
     "text": [
      "2023-06-07 06:20:09 INFO: POS REMOVAL\n",
      "2023-06-07 06:20:09 INFO: DOCUMENT TRANSFORMER\n",
      "2023-06-07 06:20:09 INFO: POS REMOVAL\n",
      "2023-06-07 06:20:09 INFO: DOCUMENT TRANSFORMER\n"
     ]
    },
    {
     "name": "stderr",
     "output_type": "stream",
     "text": [
      "c:\\Users\\c10nGp4\\anaconda3\\envs\\imbalance-multi-classification\\lib\\site-packages\\sklearn\\svm\\_base.py:1244: ConvergenceWarning: Liblinear failed to converge, increase the number of iterations.\n",
      "  warnings.warn(\n"
     ]
    },
    {
     "name": "stdout",
     "output_type": "stream",
     "text": [
      "2023-06-07 06:20:12 INFO: POS REMOVAL\n",
      "2023-06-07 06:20:12 INFO: DOCUMENT TRANSFORMER\n",
      "2023-06-07 06:20:12 INFO: POS REMOVAL\n",
      "2023-06-07 06:20:12 INFO: DOCUMENT TRANSFORMER\n"
     ]
    },
    {
     "name": "stderr",
     "output_type": "stream",
     "text": [
      "c:\\Users\\c10nGp4\\anaconda3\\envs\\imbalance-multi-classification\\lib\\site-packages\\sklearn\\svm\\_base.py:1244: ConvergenceWarning: Liblinear failed to converge, increase the number of iterations.\n",
      "  warnings.warn(\n"
     ]
    },
    {
     "name": "stdout",
     "output_type": "stream",
     "text": [
      "2023-06-07 06:20:15 INFO: POS REMOVAL\n",
      "2023-06-07 06:20:15 INFO: DOCUMENT TRANSFORMER\n",
      "2023-06-07 06:20:15 INFO: POS REMOVAL\n",
      "2023-06-07 06:20:16 INFO: DOCUMENT TRANSFORMER\n"
     ]
    },
    {
     "name": "stderr",
     "output_type": "stream",
     "text": [
      "c:\\Users\\c10nGp4\\anaconda3\\envs\\imbalance-multi-classification\\lib\\site-packages\\sklearn\\svm\\_base.py:1244: ConvergenceWarning: Liblinear failed to converge, increase the number of iterations.\n",
      "  warnings.warn(\n"
     ]
    },
    {
     "name": "stdout",
     "output_type": "stream",
     "text": [
      "2023-06-07 06:20:19 INFO: POS REMOVAL\n",
      "2023-06-07 06:20:19 INFO: DOCUMENT TRANSFORMER\n",
      "2023-06-07 06:20:19 INFO: POS REMOVAL\n",
      "2023-06-07 06:20:19 INFO: DOCUMENT TRANSFORMER\n"
     ]
    },
    {
     "name": "stderr",
     "output_type": "stream",
     "text": [
      "c:\\Users\\c10nGp4\\anaconda3\\envs\\imbalance-multi-classification\\lib\\site-packages\\sklearn\\svm\\_base.py:1244: ConvergenceWarning: Liblinear failed to converge, increase the number of iterations.\n",
      "  warnings.warn(\n"
     ]
    },
    {
     "name": "stdout",
     "output_type": "stream",
     "text": [
      "2023-06-07 06:20:22 INFO: POS REMOVAL\n",
      "2023-06-07 06:20:22 INFO: DOCUMENT TRANSFORMER\n",
      "2023-06-07 06:20:22 INFO: POS REMOVAL\n",
      "2023-06-07 06:20:22 INFO: DOCUMENT TRANSFORMER\n"
     ]
    },
    {
     "name": "stderr",
     "output_type": "stream",
     "text": [
      "c:\\Users\\c10nGp4\\anaconda3\\envs\\imbalance-multi-classification\\lib\\site-packages\\sklearn\\svm\\_base.py:1244: ConvergenceWarning: Liblinear failed to converge, increase the number of iterations.\n",
      "  warnings.warn(\n"
     ]
    },
    {
     "name": "stdout",
     "output_type": "stream",
     "text": [
      "2023-06-07 06:20:25 INFO: POS REMOVAL\n",
      "2023-06-07 06:20:25 INFO: DOCUMENT TRANSFORMER\n",
      "2023-06-07 06:20:25 INFO: POS REMOVAL\n",
      "2023-06-07 06:20:25 INFO: DOCUMENT TRANSFORMER\n"
     ]
    },
    {
     "name": "stderr",
     "output_type": "stream",
     "text": [
      "c:\\Users\\c10nGp4\\anaconda3\\envs\\imbalance-multi-classification\\lib\\site-packages\\sklearn\\svm\\_base.py:1244: ConvergenceWarning: Liblinear failed to converge, increase the number of iterations.\n",
      "  warnings.warn(\n"
     ]
    },
    {
     "name": "stdout",
     "output_type": "stream",
     "text": [
      "2023-06-07 06:20:28 INFO: POS REMOVAL\n",
      "2023-06-07 06:20:28 INFO: DOCUMENT TRANSFORMER\n",
      "2023-06-07 06:20:28 INFO: POS REMOVAL\n",
      "2023-06-07 06:20:28 INFO: DOCUMENT TRANSFORMER\n"
     ]
    },
    {
     "name": "stderr",
     "output_type": "stream",
     "text": [
      "c:\\Users\\c10nGp4\\anaconda3\\envs\\imbalance-multi-classification\\lib\\site-packages\\sklearn\\svm\\_base.py:1244: ConvergenceWarning: Liblinear failed to converge, increase the number of iterations.\n",
      "  warnings.warn(\n"
     ]
    },
    {
     "name": "stdout",
     "output_type": "stream",
     "text": [
      "2023-06-07 06:20:31 INFO: POS REMOVAL\n",
      "2023-06-07 06:20:31 INFO: DOCUMENT TRANSFORMER\n",
      "2023-06-07 06:20:31 INFO: POS REMOVAL\n",
      "2023-06-07 06:20:31 INFO: DOCUMENT TRANSFORMER\n"
     ]
    },
    {
     "name": "stderr",
     "output_type": "stream",
     "text": [
      "c:\\Users\\c10nGp4\\anaconda3\\envs\\imbalance-multi-classification\\lib\\site-packages\\sklearn\\svm\\_base.py:1244: ConvergenceWarning: Liblinear failed to converge, increase the number of iterations.\n",
      "  warnings.warn(\n"
     ]
    },
    {
     "name": "stdout",
     "output_type": "stream",
     "text": [
      "2023-06-07 06:20:34 INFO: POS REMOVAL\n",
      "2023-06-07 06:20:34 INFO: DOCUMENT TRANSFORMER\n",
      "2023-06-07 06:20:34 INFO: POS REMOVAL\n",
      "2023-06-07 06:20:34 INFO: DOCUMENT TRANSFORMER\n"
     ]
    },
    {
     "name": "stderr",
     "output_type": "stream",
     "text": [
      "c:\\Users\\c10nGp4\\anaconda3\\envs\\imbalance-multi-classification\\lib\\site-packages\\sklearn\\svm\\_base.py:1244: ConvergenceWarning: Liblinear failed to converge, increase the number of iterations.\n",
      "  warnings.warn(\n"
     ]
    },
    {
     "name": "stdout",
     "output_type": "stream",
     "text": [
      "2023-06-07 06:20:37 INFO: POS REMOVAL\n",
      "2023-06-07 06:20:37 INFO: DOCUMENT TRANSFORMER\n",
      "2023-06-07 06:20:37 INFO: POS REMOVAL\n",
      "2023-06-07 06:20:37 INFO: DOCUMENT TRANSFORMER\n"
     ]
    },
    {
     "name": "stderr",
     "output_type": "stream",
     "text": [
      "c:\\Users\\c10nGp4\\anaconda3\\envs\\imbalance-multi-classification\\lib\\site-packages\\sklearn\\svm\\_base.py:1244: ConvergenceWarning: Liblinear failed to converge, increase the number of iterations.\n",
      "  warnings.warn(\n"
     ]
    },
    {
     "name": "stdout",
     "output_type": "stream",
     "text": [
      "2023-06-07 06:20:40 INFO: POS REMOVAL\n",
      "2023-06-07 06:20:40 INFO: DOCUMENT TRANSFORMER\n",
      "2023-06-07 06:20:40 INFO: POS REMOVAL\n",
      "2023-06-07 06:20:40 INFO: DOCUMENT TRANSFORMER\n"
     ]
    },
    {
     "name": "stderr",
     "output_type": "stream",
     "text": [
      "c:\\Users\\c10nGp4\\anaconda3\\envs\\imbalance-multi-classification\\lib\\site-packages\\sklearn\\svm\\_base.py:1244: ConvergenceWarning: Liblinear failed to converge, increase the number of iterations.\n",
      "  warnings.warn(\n"
     ]
    },
    {
     "name": "stdout",
     "output_type": "stream",
     "text": [
      "2023-06-07 06:20:43 INFO: POS REMOVAL\n",
      "2023-06-07 06:20:43 INFO: DOCUMENT TRANSFORMER\n",
      "2023-06-07 06:20:44 INFO: POS REMOVAL\n",
      "2023-06-07 06:20:44 INFO: DOCUMENT TRANSFORMER\n"
     ]
    },
    {
     "name": "stderr",
     "output_type": "stream",
     "text": [
      "c:\\Users\\c10nGp4\\anaconda3\\envs\\imbalance-multi-classification\\lib\\site-packages\\sklearn\\svm\\_base.py:1244: ConvergenceWarning: Liblinear failed to converge, increase the number of iterations.\n",
      "  warnings.warn(\n"
     ]
    },
    {
     "name": "stdout",
     "output_type": "stream",
     "text": [
      "2023-06-07 06:20:47 INFO: POS REMOVAL\n",
      "2023-06-07 06:20:47 INFO: DOCUMENT TRANSFORMER\n",
      "2023-06-07 06:20:47 INFO: POS REMOVAL\n",
      "2023-06-07 06:20:47 INFO: DOCUMENT TRANSFORMER\n"
     ]
    },
    {
     "name": "stderr",
     "output_type": "stream",
     "text": [
      "c:\\Users\\c10nGp4\\anaconda3\\envs\\imbalance-multi-classification\\lib\\site-packages\\sklearn\\svm\\_base.py:1244: ConvergenceWarning: Liblinear failed to converge, increase the number of iterations.\n",
      "  warnings.warn(\n"
     ]
    },
    {
     "name": "stdout",
     "output_type": "stream",
     "text": [
      "2023-06-07 06:20:50 INFO: POS REMOVAL\n",
      "2023-06-07 06:20:50 INFO: DOCUMENT TRANSFORMER\n",
      "2023-06-07 06:20:50 INFO: POS REMOVAL\n",
      "2023-06-07 06:20:50 INFO: DOCUMENT TRANSFORMER\n"
     ]
    },
    {
     "name": "stderr",
     "output_type": "stream",
     "text": [
      "c:\\Users\\c10nGp4\\anaconda3\\envs\\imbalance-multi-classification\\lib\\site-packages\\sklearn\\svm\\_base.py:1244: ConvergenceWarning: Liblinear failed to converge, increase the number of iterations.\n",
      "  warnings.warn(\n"
     ]
    },
    {
     "name": "stdout",
     "output_type": "stream",
     "text": [
      "2023-06-07 06:20:53 INFO: POS REMOVAL\n",
      "2023-06-07 06:20:53 INFO: DOCUMENT TRANSFORMER\n",
      "2023-06-07 06:20:53 INFO: POS REMOVAL\n",
      "2023-06-07 06:20:53 INFO: DOCUMENT TRANSFORMER\n"
     ]
    },
    {
     "name": "stderr",
     "output_type": "stream",
     "text": [
      "c:\\Users\\c10nGp4\\anaconda3\\envs\\imbalance-multi-classification\\lib\\site-packages\\sklearn\\svm\\_base.py:1244: ConvergenceWarning: Liblinear failed to converge, increase the number of iterations.\n",
      "  warnings.warn(\n"
     ]
    },
    {
     "name": "stdout",
     "output_type": "stream",
     "text": [
      "2023-06-07 06:20:57 INFO: POS REMOVAL\n",
      "2023-06-07 06:20:57 INFO: DOCUMENT TRANSFORMER\n",
      "2023-06-07 06:20:57 INFO: POS REMOVAL\n",
      "2023-06-07 06:20:57 INFO: DOCUMENT TRANSFORMER\n"
     ]
    },
    {
     "name": "stderr",
     "output_type": "stream",
     "text": [
      "c:\\Users\\c10nGp4\\anaconda3\\envs\\imbalance-multi-classification\\lib\\site-packages\\sklearn\\svm\\_base.py:1244: ConvergenceWarning: Liblinear failed to converge, increase the number of iterations.\n",
      "  warnings.warn(\n"
     ]
    },
    {
     "name": "stdout",
     "output_type": "stream",
     "text": [
      "2023-06-07 06:21:00 INFO: POS REMOVAL\n",
      "2023-06-07 06:21:00 INFO: DOCUMENT TRANSFORMER\n",
      "2023-06-07 06:21:00 INFO: POS REMOVAL\n",
      "2023-06-07 06:21:00 INFO: DOCUMENT TRANSFORMER\n"
     ]
    },
    {
     "name": "stderr",
     "output_type": "stream",
     "text": [
      "c:\\Users\\c10nGp4\\anaconda3\\envs\\imbalance-multi-classification\\lib\\site-packages\\sklearn\\svm\\_base.py:1244: ConvergenceWarning: Liblinear failed to converge, increase the number of iterations.\n",
      "  warnings.warn(\n"
     ]
    },
    {
     "name": "stdout",
     "output_type": "stream",
     "text": [
      "2023-06-07 06:21:04 INFO: POS REMOVAL\n",
      "2023-06-07 06:21:04 INFO: DOCUMENT TRANSFORMER\n",
      "2023-06-07 06:21:04 INFO: POS REMOVAL\n",
      "2023-06-07 06:21:04 INFO: DOCUMENT TRANSFORMER\n"
     ]
    },
    {
     "name": "stderr",
     "output_type": "stream",
     "text": [
      "c:\\Users\\c10nGp4\\anaconda3\\envs\\imbalance-multi-classification\\lib\\site-packages\\sklearn\\svm\\_base.py:1244: ConvergenceWarning: Liblinear failed to converge, increase the number of iterations.\n",
      "  warnings.warn(\n"
     ]
    },
    {
     "name": "stdout",
     "output_type": "stream",
     "text": [
      "2023-06-07 06:21:07 INFO: POS REMOVAL\n",
      "2023-06-07 06:21:07 INFO: DOCUMENT TRANSFORMER\n",
      "2023-06-07 06:21:07 INFO: POS REMOVAL\n",
      "2023-06-07 06:21:07 INFO: DOCUMENT TRANSFORMER\n"
     ]
    },
    {
     "name": "stderr",
     "output_type": "stream",
     "text": [
      "c:\\Users\\c10nGp4\\anaconda3\\envs\\imbalance-multi-classification\\lib\\site-packages\\sklearn\\svm\\_base.py:1244: ConvergenceWarning: Liblinear failed to converge, increase the number of iterations.\n",
      "  warnings.warn(\n"
     ]
    },
    {
     "name": "stdout",
     "output_type": "stream",
     "text": [
      "2023-06-07 06:21:11 INFO: POS REMOVAL\n",
      "2023-06-07 06:21:11 INFO: DOCUMENT TRANSFORMER\n",
      "2023-06-07 06:21:11 INFO: POS REMOVAL\n",
      "2023-06-07 06:21:11 INFO: DOCUMENT TRANSFORMER\n"
     ]
    },
    {
     "name": "stderr",
     "output_type": "stream",
     "text": [
      "c:\\Users\\c10nGp4\\anaconda3\\envs\\imbalance-multi-classification\\lib\\site-packages\\sklearn\\svm\\_base.py:1244: ConvergenceWarning: Liblinear failed to converge, increase the number of iterations.\n",
      "  warnings.warn(\n"
     ]
    },
    {
     "name": "stdout",
     "output_type": "stream",
     "text": [
      "2023-06-07 06:21:14 INFO: POS REMOVAL\n",
      "2023-06-07 06:21:14 INFO: DOCUMENT TRANSFORMER\n",
      "2023-06-07 06:21:14 INFO: POS REMOVAL\n",
      "2023-06-07 06:21:14 INFO: DOCUMENT TRANSFORMER\n"
     ]
    },
    {
     "name": "stderr",
     "output_type": "stream",
     "text": [
      "c:\\Users\\c10nGp4\\anaconda3\\envs\\imbalance-multi-classification\\lib\\site-packages\\sklearn\\svm\\_base.py:1244: ConvergenceWarning: Liblinear failed to converge, increase the number of iterations.\n",
      "  warnings.warn(\n"
     ]
    },
    {
     "name": "stdout",
     "output_type": "stream",
     "text": [
      "2023-06-07 06:21:18 INFO: POS REMOVAL\n",
      "2023-06-07 06:21:18 INFO: DOCUMENT TRANSFORMER\n",
      "2023-06-07 06:21:18 INFO: POS REMOVAL\n",
      "2023-06-07 06:21:18 INFO: DOCUMENT TRANSFORMER\n"
     ]
    },
    {
     "name": "stderr",
     "output_type": "stream",
     "text": [
      "c:\\Users\\c10nGp4\\anaconda3\\envs\\imbalance-multi-classification\\lib\\site-packages\\sklearn\\svm\\_base.py:1244: ConvergenceWarning: Liblinear failed to converge, increase the number of iterations.\n",
      "  warnings.warn(\n"
     ]
    },
    {
     "name": "stdout",
     "output_type": "stream",
     "text": [
      "2023-06-07 06:21:22 INFO: POS REMOVAL\n",
      "2023-06-07 06:21:22 INFO: DOCUMENT TRANSFORMER\n",
      "2023-06-07 06:21:22 INFO: POS REMOVAL\n",
      "2023-06-07 06:21:22 INFO: DOCUMENT TRANSFORMER\n"
     ]
    },
    {
     "name": "stderr",
     "output_type": "stream",
     "text": [
      "c:\\Users\\c10nGp4\\anaconda3\\envs\\imbalance-multi-classification\\lib\\site-packages\\sklearn\\svm\\_base.py:1244: ConvergenceWarning: Liblinear failed to converge, increase the number of iterations.\n",
      "  warnings.warn(\n"
     ]
    },
    {
     "name": "stdout",
     "output_type": "stream",
     "text": [
      "2023-06-07 06:21:26 INFO: POS REMOVAL\n",
      "2023-06-07 06:21:26 INFO: DOCUMENT TRANSFORMER\n",
      "2023-06-07 06:21:26 INFO: POS REMOVAL\n",
      "2023-06-07 06:21:26 INFO: DOCUMENT TRANSFORMER\n"
     ]
    },
    {
     "name": "stderr",
     "output_type": "stream",
     "text": [
      "c:\\Users\\c10nGp4\\anaconda3\\envs\\imbalance-multi-classification\\lib\\site-packages\\sklearn\\svm\\_base.py:1244: ConvergenceWarning: Liblinear failed to converge, increase the number of iterations.\n",
      "  warnings.warn(\n"
     ]
    },
    {
     "name": "stdout",
     "output_type": "stream",
     "text": [
      "2023-06-07 06:21:31 INFO: POS REMOVAL\n",
      "2023-06-07 06:21:31 INFO: DOCUMENT TRANSFORMER\n",
      "2023-06-07 06:21:32 INFO: POS REMOVAL\n",
      "2023-06-07 06:21:32 INFO: DOCUMENT TRANSFORMER\n"
     ]
    },
    {
     "name": "stderr",
     "output_type": "stream",
     "text": [
      "c:\\Users\\c10nGp4\\anaconda3\\envs\\imbalance-multi-classification\\lib\\site-packages\\sklearn\\svm\\_base.py:1244: ConvergenceWarning: Liblinear failed to converge, increase the number of iterations.\n",
      "  warnings.warn(\n"
     ]
    },
    {
     "name": "stdout",
     "output_type": "stream",
     "text": [
      "2023-06-07 06:21:37 INFO: POS REMOVAL\n",
      "2023-06-07 06:21:37 INFO: DOCUMENT TRANSFORMER\n",
      "2023-06-07 06:21:37 INFO: POS REMOVAL\n",
      "2023-06-07 06:21:37 INFO: DOCUMENT TRANSFORMER\n"
     ]
    },
    {
     "name": "stderr",
     "output_type": "stream",
     "text": [
      "c:\\Users\\c10nGp4\\anaconda3\\envs\\imbalance-multi-classification\\lib\\site-packages\\sklearn\\svm\\_base.py:1244: ConvergenceWarning: Liblinear failed to converge, increase the number of iterations.\n",
      "  warnings.warn(\n"
     ]
    },
    {
     "name": "stdout",
     "output_type": "stream",
     "text": [
      "2023-06-07 06:21:43 INFO: POS REMOVAL\n",
      "2023-06-07 06:21:43 INFO: DOCUMENT TRANSFORMER\n",
      "2023-06-07 06:21:43 INFO: POS REMOVAL\n",
      "2023-06-07 06:21:43 INFO: DOCUMENT TRANSFORMER\n"
     ]
    },
    {
     "name": "stderr",
     "output_type": "stream",
     "text": [
      "c:\\Users\\c10nGp4\\anaconda3\\envs\\imbalance-multi-classification\\lib\\site-packages\\sklearn\\svm\\_base.py:1244: ConvergenceWarning: Liblinear failed to converge, increase the number of iterations.\n",
      "  warnings.warn(\n"
     ]
    },
    {
     "name": "stdout",
     "output_type": "stream",
     "text": [
      "2023-06-07 06:21:49 INFO: POS REMOVAL\n",
      "2023-06-07 06:21:49 INFO: DOCUMENT TRANSFORMER\n",
      "2023-06-07 06:21:49 INFO: POS REMOVAL\n",
      "2023-06-07 06:21:49 INFO: DOCUMENT TRANSFORMER\n"
     ]
    },
    {
     "name": "stderr",
     "output_type": "stream",
     "text": [
      "c:\\Users\\c10nGp4\\anaconda3\\envs\\imbalance-multi-classification\\lib\\site-packages\\sklearn\\svm\\_base.py:1244: ConvergenceWarning: Liblinear failed to converge, increase the number of iterations.\n",
      "  warnings.warn(\n"
     ]
    },
    {
     "name": "stdout",
     "output_type": "stream",
     "text": [
      "2023-06-07 06:21:54 INFO: POS REMOVAL\n",
      "2023-06-07 06:21:54 INFO: DOCUMENT TRANSFORMER\n",
      "2023-06-07 06:21:54 INFO: POS REMOVAL\n",
      "2023-06-07 06:21:55 INFO: DOCUMENT TRANSFORMER\n"
     ]
    },
    {
     "name": "stderr",
     "output_type": "stream",
     "text": [
      "c:\\Users\\c10nGp4\\anaconda3\\envs\\imbalance-multi-classification\\lib\\site-packages\\sklearn\\svm\\_base.py:1244: ConvergenceWarning: Liblinear failed to converge, increase the number of iterations.\n",
      "  warnings.warn(\n"
     ]
    },
    {
     "name": "stdout",
     "output_type": "stream",
     "text": [
      "2023-06-07 06:22:00 INFO: POS REMOVAL\n",
      "2023-06-07 06:22:00 INFO: DOCUMENT TRANSFORMER\n",
      "2023-06-07 06:22:00 INFO: POS REMOVAL\n",
      "2023-06-07 06:22:00 INFO: DOCUMENT TRANSFORMER\n"
     ]
    },
    {
     "name": "stderr",
     "output_type": "stream",
     "text": [
      "c:\\Users\\c10nGp4\\anaconda3\\envs\\imbalance-multi-classification\\lib\\site-packages\\sklearn\\svm\\_base.py:1244: ConvergenceWarning: Liblinear failed to converge, increase the number of iterations.\n",
      "  warnings.warn(\n"
     ]
    },
    {
     "name": "stdout",
     "output_type": "stream",
     "text": [
      "2023-06-07 06:22:06 INFO: POS REMOVAL\n",
      "2023-06-07 06:22:06 INFO: DOCUMENT TRANSFORMER\n",
      "2023-06-07 06:22:06 INFO: POS REMOVAL\n",
      "2023-06-07 06:22:06 INFO: DOCUMENT TRANSFORMER\n"
     ]
    },
    {
     "name": "stderr",
     "output_type": "stream",
     "text": [
      "c:\\Users\\c10nGp4\\anaconda3\\envs\\imbalance-multi-classification\\lib\\site-packages\\sklearn\\svm\\_base.py:1244: ConvergenceWarning: Liblinear failed to converge, increase the number of iterations.\n",
      "  warnings.warn(\n"
     ]
    },
    {
     "name": "stdout",
     "output_type": "stream",
     "text": [
      "2023-06-07 06:22:11 INFO: POS REMOVAL\n",
      "2023-06-07 06:22:11 INFO: DOCUMENT TRANSFORMER\n",
      "2023-06-07 06:22:11 INFO: POS REMOVAL\n",
      "2023-06-07 06:22:12 INFO: DOCUMENT TRANSFORMER\n"
     ]
    },
    {
     "name": "stderr",
     "output_type": "stream",
     "text": [
      "c:\\Users\\c10nGp4\\anaconda3\\envs\\imbalance-multi-classification\\lib\\site-packages\\sklearn\\svm\\_base.py:1244: ConvergenceWarning: Liblinear failed to converge, increase the number of iterations.\n",
      "  warnings.warn(\n"
     ]
    },
    {
     "name": "stdout",
     "output_type": "stream",
     "text": [
      "2023-06-07 06:22:17 INFO: POS REMOVAL\n",
      "2023-06-07 06:22:17 INFO: DOCUMENT TRANSFORMER\n",
      "2023-06-07 06:22:17 INFO: POS REMOVAL\n",
      "2023-06-07 06:22:17 INFO: DOCUMENT TRANSFORMER\n"
     ]
    },
    {
     "name": "stderr",
     "output_type": "stream",
     "text": [
      "c:\\Users\\c10nGp4\\anaconda3\\envs\\imbalance-multi-classification\\lib\\site-packages\\sklearn\\svm\\_base.py:1244: ConvergenceWarning: Liblinear failed to converge, increase the number of iterations.\n",
      "  warnings.warn(\n"
     ]
    },
    {
     "name": "stdout",
     "output_type": "stream",
     "text": [
      "2023-06-07 06:22:22 INFO: POS REMOVAL\n",
      "2023-06-07 06:22:22 INFO: DOCUMENT TRANSFORMER\n",
      "2023-06-07 06:22:23 INFO: POS REMOVAL\n",
      "2023-06-07 06:22:23 INFO: DOCUMENT TRANSFORMER\n"
     ]
    },
    {
     "name": "stderr",
     "output_type": "stream",
     "text": [
      "c:\\Users\\c10nGp4\\anaconda3\\envs\\imbalance-multi-classification\\lib\\site-packages\\sklearn\\svm\\_base.py:1244: ConvergenceWarning: Liblinear failed to converge, increase the number of iterations.\n",
      "  warnings.warn(\n"
     ]
    },
    {
     "name": "stdout",
     "output_type": "stream",
     "text": [
      "2023-06-07 06:22:28 INFO: POS REMOVAL\n",
      "2023-06-07 06:22:28 INFO: DOCUMENT TRANSFORMER\n",
      "2023-06-07 06:22:28 INFO: POS REMOVAL\n",
      "2023-06-07 06:22:28 INFO: DOCUMENT TRANSFORMER\n"
     ]
    },
    {
     "name": "stderr",
     "output_type": "stream",
     "text": [
      "c:\\Users\\c10nGp4\\anaconda3\\envs\\imbalance-multi-classification\\lib\\site-packages\\sklearn\\svm\\_base.py:1244: ConvergenceWarning: Liblinear failed to converge, increase the number of iterations.\n",
      "  warnings.warn(\n"
     ]
    },
    {
     "name": "stdout",
     "output_type": "stream",
     "text": [
      "2023-06-07 06:22:33 INFO: POS REMOVAL\n",
      "2023-06-07 06:22:33 INFO: DOCUMENT TRANSFORMER\n",
      "2023-06-07 06:22:33 INFO: POS REMOVAL\n",
      "2023-06-07 06:22:33 INFO: DOCUMENT TRANSFORMER\n"
     ]
    },
    {
     "name": "stderr",
     "output_type": "stream",
     "text": [
      "c:\\Users\\c10nGp4\\anaconda3\\envs\\imbalance-multi-classification\\lib\\site-packages\\sklearn\\svm\\_base.py:1244: ConvergenceWarning: Liblinear failed to converge, increase the number of iterations.\n",
      "  warnings.warn(\n"
     ]
    },
    {
     "name": "stdout",
     "output_type": "stream",
     "text": [
      "2023-06-07 06:22:38 INFO: POS REMOVAL\n",
      "2023-06-07 06:22:38 INFO: DOCUMENT TRANSFORMER\n",
      "2023-06-07 06:22:38 INFO: POS REMOVAL\n",
      "2023-06-07 06:22:38 INFO: DOCUMENT TRANSFORMER\n"
     ]
    },
    {
     "name": "stderr",
     "output_type": "stream",
     "text": [
      "c:\\Users\\c10nGp4\\anaconda3\\envs\\imbalance-multi-classification\\lib\\site-packages\\sklearn\\svm\\_base.py:1244: ConvergenceWarning: Liblinear failed to converge, increase the number of iterations.\n",
      "  warnings.warn(\n"
     ]
    },
    {
     "name": "stdout",
     "output_type": "stream",
     "text": [
      "2023-06-07 06:22:43 INFO: POS REMOVAL\n",
      "2023-06-07 06:22:43 INFO: DOCUMENT TRANSFORMER\n",
      "2023-06-07 06:22:43 INFO: POS REMOVAL\n",
      "2023-06-07 06:22:43 INFO: DOCUMENT TRANSFORMER\n"
     ]
    },
    {
     "name": "stderr",
     "output_type": "stream",
     "text": [
      "c:\\Users\\c10nGp4\\anaconda3\\envs\\imbalance-multi-classification\\lib\\site-packages\\sklearn\\svm\\_base.py:1244: ConvergenceWarning: Liblinear failed to converge, increase the number of iterations.\n",
      "  warnings.warn(\n"
     ]
    },
    {
     "name": "stdout",
     "output_type": "stream",
     "text": [
      "2023-06-07 06:22:48 INFO: POS REMOVAL\n",
      "2023-06-07 06:22:48 INFO: DOCUMENT TRANSFORMER\n",
      "2023-06-07 06:22:49 INFO: POS REMOVAL\n",
      "2023-06-07 06:22:49 INFO: DOCUMENT TRANSFORMER\n"
     ]
    },
    {
     "name": "stderr",
     "output_type": "stream",
     "text": [
      "c:\\Users\\c10nGp4\\anaconda3\\envs\\imbalance-multi-classification\\lib\\site-packages\\sklearn\\svm\\_base.py:1244: ConvergenceWarning: Liblinear failed to converge, increase the number of iterations.\n",
      "  warnings.warn(\n"
     ]
    },
    {
     "name": "stdout",
     "output_type": "stream",
     "text": [
      "2023-06-07 06:22:53 INFO: POS REMOVAL\n",
      "2023-06-07 06:22:53 INFO: DOCUMENT TRANSFORMER\n",
      "2023-06-07 06:22:54 INFO: POS REMOVAL\n",
      "2023-06-07 06:22:54 INFO: DOCUMENT TRANSFORMER\n"
     ]
    },
    {
     "name": "stderr",
     "output_type": "stream",
     "text": [
      "c:\\Users\\c10nGp4\\anaconda3\\envs\\imbalance-multi-classification\\lib\\site-packages\\sklearn\\svm\\_base.py:1244: ConvergenceWarning: Liblinear failed to converge, increase the number of iterations.\n",
      "  warnings.warn(\n"
     ]
    },
    {
     "name": "stdout",
     "output_type": "stream",
     "text": [
      "2023-06-07 06:22:59 INFO: POS REMOVAL\n",
      "2023-06-07 06:22:59 INFO: DOCUMENT TRANSFORMER\n",
      "2023-06-07 06:22:59 INFO: POS REMOVAL\n",
      "2023-06-07 06:22:59 INFO: DOCUMENT TRANSFORMER\n"
     ]
    },
    {
     "name": "stderr",
     "output_type": "stream",
     "text": [
      "c:\\Users\\c10nGp4\\anaconda3\\envs\\imbalance-multi-classification\\lib\\site-packages\\sklearn\\svm\\_base.py:1244: ConvergenceWarning: Liblinear failed to converge, increase the number of iterations.\n",
      "  warnings.warn(\n"
     ]
    },
    {
     "name": "stdout",
     "output_type": "stream",
     "text": [
      "2023-06-07 06:23:04 INFO: POS REMOVAL\n",
      "2023-06-07 06:23:04 INFO: DOCUMENT TRANSFORMER\n",
      "2023-06-07 06:23:04 INFO: POS REMOVAL\n",
      "2023-06-07 06:23:04 INFO: DOCUMENT TRANSFORMER\n"
     ]
    },
    {
     "name": "stderr",
     "output_type": "stream",
     "text": [
      "c:\\Users\\c10nGp4\\anaconda3\\envs\\imbalance-multi-classification\\lib\\site-packages\\sklearn\\svm\\_base.py:1244: ConvergenceWarning: Liblinear failed to converge, increase the number of iterations.\n",
      "  warnings.warn(\n"
     ]
    },
    {
     "name": "stdout",
     "output_type": "stream",
     "text": [
      "2023-06-07 06:23:09 INFO: POS REMOVAL\n",
      "2023-06-07 06:23:09 INFO: DOCUMENT TRANSFORMER\n",
      "2023-06-07 06:23:09 INFO: POS REMOVAL\n",
      "2023-06-07 06:23:09 INFO: DOCUMENT TRANSFORMER\n"
     ]
    },
    {
     "name": "stderr",
     "output_type": "stream",
     "text": [
      "c:\\Users\\c10nGp4\\anaconda3\\envs\\imbalance-multi-classification\\lib\\site-packages\\sklearn\\svm\\_base.py:1244: ConvergenceWarning: Liblinear failed to converge, increase the number of iterations.\n",
      "  warnings.warn(\n"
     ]
    },
    {
     "name": "stdout",
     "output_type": "stream",
     "text": [
      "2023-06-07 06:23:14 INFO: POS REMOVAL\n",
      "2023-06-07 06:23:14 INFO: DOCUMENT TRANSFORMER\n",
      "2023-06-07 06:23:14 INFO: POS REMOVAL\n",
      "2023-06-07 06:23:14 INFO: DOCUMENT TRANSFORMER\n"
     ]
    },
    {
     "name": "stderr",
     "output_type": "stream",
     "text": [
      "c:\\Users\\c10nGp4\\anaconda3\\envs\\imbalance-multi-classification\\lib\\site-packages\\sklearn\\svm\\_base.py:1244: ConvergenceWarning: Liblinear failed to converge, increase the number of iterations.\n",
      "  warnings.warn(\n"
     ]
    },
    {
     "name": "stdout",
     "output_type": "stream",
     "text": [
      "2023-06-07 06:23:19 INFO: POS REMOVAL\n",
      "2023-06-07 06:23:19 INFO: DOCUMENT TRANSFORMER\n",
      "2023-06-07 06:23:19 INFO: POS REMOVAL\n",
      "2023-06-07 06:23:19 INFO: DOCUMENT TRANSFORMER\n"
     ]
    },
    {
     "name": "stderr",
     "output_type": "stream",
     "text": [
      "c:\\Users\\c10nGp4\\anaconda3\\envs\\imbalance-multi-classification\\lib\\site-packages\\sklearn\\svm\\_base.py:1244: ConvergenceWarning: Liblinear failed to converge, increase the number of iterations.\n",
      "  warnings.warn(\n"
     ]
    },
    {
     "name": "stdout",
     "output_type": "stream",
     "text": [
      "2023-06-07 06:23:24 INFO: POS REMOVAL\n",
      "2023-06-07 06:23:24 INFO: DOCUMENT TRANSFORMER\n",
      "2023-06-07 06:23:24 INFO: POS REMOVAL\n",
      "2023-06-07 06:23:24 INFO: DOCUMENT TRANSFORMER\n"
     ]
    },
    {
     "name": "stderr",
     "output_type": "stream",
     "text": [
      "c:\\Users\\c10nGp4\\anaconda3\\envs\\imbalance-multi-classification\\lib\\site-packages\\sklearn\\svm\\_base.py:1244: ConvergenceWarning: Liblinear failed to converge, increase the number of iterations.\n",
      "  warnings.warn(\n"
     ]
    },
    {
     "name": "stdout",
     "output_type": "stream",
     "text": [
      "2023-06-07 06:23:29 INFO: POS REMOVAL\n",
      "2023-06-07 06:23:29 INFO: DOCUMENT TRANSFORMER\n",
      "2023-06-07 06:23:29 INFO: POS REMOVAL\n",
      "2023-06-07 06:23:29 INFO: DOCUMENT TRANSFORMER\n"
     ]
    },
    {
     "name": "stderr",
     "output_type": "stream",
     "text": [
      "c:\\Users\\c10nGp4\\anaconda3\\envs\\imbalance-multi-classification\\lib\\site-packages\\sklearn\\svm\\_base.py:1244: ConvergenceWarning: Liblinear failed to converge, increase the number of iterations.\n",
      "  warnings.warn(\n"
     ]
    },
    {
     "name": "stdout",
     "output_type": "stream",
     "text": [
      "2023-06-07 06:23:34 INFO: POS REMOVAL\n",
      "2023-06-07 06:23:34 INFO: DOCUMENT TRANSFORMER\n",
      "2023-06-07 06:23:34 INFO: POS REMOVAL\n",
      "2023-06-07 06:23:34 INFO: DOCUMENT TRANSFORMER\n"
     ]
    },
    {
     "name": "stderr",
     "output_type": "stream",
     "text": [
      "c:\\Users\\c10nGp4\\anaconda3\\envs\\imbalance-multi-classification\\lib\\site-packages\\sklearn\\svm\\_base.py:1244: ConvergenceWarning: Liblinear failed to converge, increase the number of iterations.\n",
      "  warnings.warn(\n"
     ]
    },
    {
     "name": "stdout",
     "output_type": "stream",
     "text": [
      "2023-06-07 06:23:39 INFO: POS REMOVAL\n",
      "2023-06-07 06:23:39 INFO: DOCUMENT TRANSFORMER\n",
      "2023-06-07 06:23:39 INFO: POS REMOVAL\n",
      "2023-06-07 06:23:39 INFO: DOCUMENT TRANSFORMER\n"
     ]
    },
    {
     "name": "stderr",
     "output_type": "stream",
     "text": [
      "c:\\Users\\c10nGp4\\anaconda3\\envs\\imbalance-multi-classification\\lib\\site-packages\\sklearn\\svm\\_base.py:1244: ConvergenceWarning: Liblinear failed to converge, increase the number of iterations.\n",
      "  warnings.warn(\n"
     ]
    },
    {
     "name": "stdout",
     "output_type": "stream",
     "text": [
      "2023-06-07 06:23:44 INFO: POS REMOVAL\n",
      "2023-06-07 06:23:44 INFO: DOCUMENT TRANSFORMER\n",
      "2023-06-07 06:23:44 INFO: POS REMOVAL\n",
      "2023-06-07 06:23:44 INFO: DOCUMENT TRANSFORMER\n"
     ]
    },
    {
     "name": "stderr",
     "output_type": "stream",
     "text": [
      "c:\\Users\\c10nGp4\\anaconda3\\envs\\imbalance-multi-classification\\lib\\site-packages\\sklearn\\svm\\_base.py:1244: ConvergenceWarning: Liblinear failed to converge, increase the number of iterations.\n",
      "  warnings.warn(\n"
     ]
    },
    {
     "name": "stdout",
     "output_type": "stream",
     "text": [
      "2023-06-07 06:23:49 INFO: POS REMOVAL\n",
      "2023-06-07 06:23:49 INFO: DOCUMENT TRANSFORMER\n",
      "2023-06-07 06:23:49 INFO: POS REMOVAL\n",
      "2023-06-07 06:23:49 INFO: DOCUMENT TRANSFORMER\n"
     ]
    },
    {
     "name": "stderr",
     "output_type": "stream",
     "text": [
      "c:\\Users\\c10nGp4\\anaconda3\\envs\\imbalance-multi-classification\\lib\\site-packages\\sklearn\\svm\\_base.py:1244: ConvergenceWarning: Liblinear failed to converge, increase the number of iterations.\n",
      "  warnings.warn(\n"
     ]
    },
    {
     "name": "stdout",
     "output_type": "stream",
     "text": [
      "2023-06-07 06:23:53 INFO: POS REMOVAL\n",
      "2023-06-07 06:23:53 INFO: DOCUMENT TRANSFORMER\n",
      "2023-06-07 06:23:53 INFO: POS REMOVAL\n",
      "2023-06-07 06:23:54 INFO: DOCUMENT TRANSFORMER\n"
     ]
    },
    {
     "name": "stderr",
     "output_type": "stream",
     "text": [
      "c:\\Users\\c10nGp4\\anaconda3\\envs\\imbalance-multi-classification\\lib\\site-packages\\sklearn\\svm\\_base.py:1244: ConvergenceWarning: Liblinear failed to converge, increase the number of iterations.\n",
      "  warnings.warn(\n"
     ]
    },
    {
     "name": "stdout",
     "output_type": "stream",
     "text": [
      "2023-06-07 06:23:58 INFO: POS REMOVAL\n",
      "2023-06-07 06:23:58 INFO: DOCUMENT TRANSFORMER\n",
      "2023-06-07 06:23:58 INFO: POS REMOVAL\n",
      "2023-06-07 06:23:58 INFO: DOCUMENT TRANSFORMER\n"
     ]
    },
    {
     "name": "stderr",
     "output_type": "stream",
     "text": [
      "c:\\Users\\c10nGp4\\anaconda3\\envs\\imbalance-multi-classification\\lib\\site-packages\\sklearn\\svm\\_base.py:1244: ConvergenceWarning: Liblinear failed to converge, increase the number of iterations.\n",
      "  warnings.warn(\n"
     ]
    },
    {
     "name": "stdout",
     "output_type": "stream",
     "text": [
      "2023-06-07 06:24:03 INFO: POS REMOVAL\n",
      "2023-06-07 06:24:03 INFO: DOCUMENT TRANSFORMER\n",
      "2023-06-07 06:24:03 INFO: POS REMOVAL\n",
      "2023-06-07 06:24:03 INFO: DOCUMENT TRANSFORMER\n"
     ]
    },
    {
     "name": "stderr",
     "output_type": "stream",
     "text": [
      "c:\\Users\\c10nGp4\\anaconda3\\envs\\imbalance-multi-classification\\lib\\site-packages\\sklearn\\svm\\_base.py:1244: ConvergenceWarning: Liblinear failed to converge, increase the number of iterations.\n",
      "  warnings.warn(\n"
     ]
    },
    {
     "name": "stdout",
     "output_type": "stream",
     "text": [
      "2023-06-07 06:24:10 INFO: POS REMOVAL\n",
      "2023-06-07 06:24:10 INFO: DOCUMENT TRANSFORMER\n",
      "2023-06-07 06:24:10 INFO: POS REMOVAL\n",
      "2023-06-07 06:24:11 INFO: DOCUMENT TRANSFORMER\n"
     ]
    },
    {
     "name": "stderr",
     "output_type": "stream",
     "text": [
      "c:\\Users\\c10nGp4\\anaconda3\\envs\\imbalance-multi-classification\\lib\\site-packages\\sklearn\\svm\\_base.py:1244: ConvergenceWarning: Liblinear failed to converge, increase the number of iterations.\n",
      "  warnings.warn(\n"
     ]
    },
    {
     "name": "stdout",
     "output_type": "stream",
     "text": [
      "2023-06-07 06:24:18 INFO: POS REMOVAL\n",
      "2023-06-07 06:24:18 INFO: DOCUMENT TRANSFORMER\n",
      "2023-06-07 06:24:18 INFO: POS REMOVAL\n",
      "2023-06-07 06:24:18 INFO: DOCUMENT TRANSFORMER\n"
     ]
    },
    {
     "name": "stderr",
     "output_type": "stream",
     "text": [
      "c:\\Users\\c10nGp4\\anaconda3\\envs\\imbalance-multi-classification\\lib\\site-packages\\sklearn\\svm\\_base.py:1244: ConvergenceWarning: Liblinear failed to converge, increase the number of iterations.\n",
      "  warnings.warn(\n"
     ]
    },
    {
     "name": "stdout",
     "output_type": "stream",
     "text": [
      "2023-06-07 06:24:25 INFO: POS REMOVAL\n",
      "2023-06-07 06:24:25 INFO: DOCUMENT TRANSFORMER\n",
      "2023-06-07 06:24:25 INFO: POS REMOVAL\n",
      "2023-06-07 06:24:26 INFO: DOCUMENT TRANSFORMER\n"
     ]
    },
    {
     "name": "stderr",
     "output_type": "stream",
     "text": [
      "c:\\Users\\c10nGp4\\anaconda3\\envs\\imbalance-multi-classification\\lib\\site-packages\\sklearn\\svm\\_base.py:1244: ConvergenceWarning: Liblinear failed to converge, increase the number of iterations.\n",
      "  warnings.warn(\n"
     ]
    },
    {
     "name": "stdout",
     "output_type": "stream",
     "text": [
      "2023-06-07 06:24:33 INFO: POS REMOVAL\n",
      "2023-06-07 06:24:33 INFO: DOCUMENT TRANSFORMER\n",
      "2023-06-07 06:24:33 INFO: POS REMOVAL\n",
      "2023-06-07 06:24:33 INFO: DOCUMENT TRANSFORMER\n"
     ]
    },
    {
     "name": "stderr",
     "output_type": "stream",
     "text": [
      "c:\\Users\\c10nGp4\\anaconda3\\envs\\imbalance-multi-classification\\lib\\site-packages\\sklearn\\svm\\_base.py:1244: ConvergenceWarning: Liblinear failed to converge, increase the number of iterations.\n",
      "  warnings.warn(\n"
     ]
    },
    {
     "name": "stdout",
     "output_type": "stream",
     "text": [
      "2023-06-07 06:24:40 INFO: POS REMOVAL\n",
      "2023-06-07 06:24:40 INFO: DOCUMENT TRANSFORMER\n",
      "2023-06-07 06:24:40 INFO: POS REMOVAL\n",
      "2023-06-07 06:24:41 INFO: DOCUMENT TRANSFORMER\n"
     ]
    },
    {
     "name": "stderr",
     "output_type": "stream",
     "text": [
      "c:\\Users\\c10nGp4\\anaconda3\\envs\\imbalance-multi-classification\\lib\\site-packages\\sklearn\\svm\\_base.py:1244: ConvergenceWarning: Liblinear failed to converge, increase the number of iterations.\n",
      "  warnings.warn(\n"
     ]
    },
    {
     "name": "stdout",
     "output_type": "stream",
     "text": [
      "2023-06-07 06:24:48 INFO: POS REMOVAL\n",
      "2023-06-07 06:24:48 INFO: DOCUMENT TRANSFORMER\n",
      "2023-06-07 06:24:48 INFO: POS REMOVAL\n",
      "2023-06-07 06:24:48 INFO: DOCUMENT TRANSFORMER\n"
     ]
    },
    {
     "name": "stderr",
     "output_type": "stream",
     "text": [
      "c:\\Users\\c10nGp4\\anaconda3\\envs\\imbalance-multi-classification\\lib\\site-packages\\sklearn\\svm\\_base.py:1244: ConvergenceWarning: Liblinear failed to converge, increase the number of iterations.\n",
      "  warnings.warn(\n"
     ]
    },
    {
     "name": "stdout",
     "output_type": "stream",
     "text": [
      "2023-06-07 06:24:55 INFO: POS REMOVAL\n",
      "2023-06-07 06:24:55 INFO: DOCUMENT TRANSFORMER\n",
      "2023-06-07 06:24:55 INFO: POS REMOVAL\n",
      "2023-06-07 06:24:56 INFO: DOCUMENT TRANSFORMER\n"
     ]
    },
    {
     "name": "stderr",
     "output_type": "stream",
     "text": [
      "c:\\Users\\c10nGp4\\anaconda3\\envs\\imbalance-multi-classification\\lib\\site-packages\\sklearn\\svm\\_base.py:1244: ConvergenceWarning: Liblinear failed to converge, increase the number of iterations.\n",
      "  warnings.warn(\n"
     ]
    },
    {
     "name": "stdout",
     "output_type": "stream",
     "text": [
      "2023-06-07 06:25:01 INFO: POS REMOVAL\n",
      "2023-06-07 06:25:01 INFO: DOCUMENT TRANSFORMER\n",
      "2023-06-07 06:25:01 INFO: POS REMOVAL\n",
      "2023-06-07 06:25:02 INFO: DOCUMENT TRANSFORMER\n"
     ]
    },
    {
     "name": "stderr",
     "output_type": "stream",
     "text": [
      "c:\\Users\\c10nGp4\\anaconda3\\envs\\imbalance-multi-classification\\lib\\site-packages\\sklearn\\svm\\_base.py:1244: ConvergenceWarning: Liblinear failed to converge, increase the number of iterations.\n",
      "  warnings.warn(\n"
     ]
    },
    {
     "name": "stdout",
     "output_type": "stream",
     "text": [
      "2023-06-07 06:25:09 INFO: POS REMOVAL\n",
      "2023-06-07 06:25:09 INFO: DOCUMENT TRANSFORMER\n",
      "2023-06-07 06:25:09 INFO: POS REMOVAL\n",
      "2023-06-07 06:25:09 INFO: DOCUMENT TRANSFORMER\n"
     ]
    },
    {
     "name": "stderr",
     "output_type": "stream",
     "text": [
      "c:\\Users\\c10nGp4\\anaconda3\\envs\\imbalance-multi-classification\\lib\\site-packages\\sklearn\\svm\\_base.py:1244: ConvergenceWarning: Liblinear failed to converge, increase the number of iterations.\n",
      "  warnings.warn(\n"
     ]
    },
    {
     "name": "stdout",
     "output_type": "stream",
     "text": [
      "2023-06-07 06:25:16 INFO: POS REMOVAL\n",
      "2023-06-07 06:25:16 INFO: DOCUMENT TRANSFORMER\n",
      "2023-06-07 06:25:16 INFO: POS REMOVAL\n",
      "2023-06-07 06:25:16 INFO: DOCUMENT TRANSFORMER\n"
     ]
    },
    {
     "name": "stderr",
     "output_type": "stream",
     "text": [
      "c:\\Users\\c10nGp4\\anaconda3\\envs\\imbalance-multi-classification\\lib\\site-packages\\sklearn\\svm\\_base.py:1244: ConvergenceWarning: Liblinear failed to converge, increase the number of iterations.\n",
      "  warnings.warn(\n"
     ]
    },
    {
     "name": "stdout",
     "output_type": "stream",
     "text": [
      "2023-06-07 06:25:24 INFO: POS REMOVAL\n",
      "2023-06-07 06:25:24 INFO: DOCUMENT TRANSFORMER\n",
      "2023-06-07 06:25:24 INFO: POS REMOVAL\n",
      "2023-06-07 06:25:24 INFO: DOCUMENT TRANSFORMER\n"
     ]
    },
    {
     "name": "stderr",
     "output_type": "stream",
     "text": [
      "c:\\Users\\c10nGp4\\anaconda3\\envs\\imbalance-multi-classification\\lib\\site-packages\\sklearn\\svm\\_base.py:1244: ConvergenceWarning: Liblinear failed to converge, increase the number of iterations.\n",
      "  warnings.warn(\n"
     ]
    },
    {
     "name": "stdout",
     "output_type": "stream",
     "text": [
      "2023-06-07 06:25:31 INFO: POS REMOVAL\n",
      "2023-06-07 06:25:31 INFO: DOCUMENT TRANSFORMER\n",
      "2023-06-07 06:25:31 INFO: POS REMOVAL\n",
      "2023-06-07 06:25:31 INFO: DOCUMENT TRANSFORMER\n"
     ]
    },
    {
     "name": "stderr",
     "output_type": "stream",
     "text": [
      "c:\\Users\\c10nGp4\\anaconda3\\envs\\imbalance-multi-classification\\lib\\site-packages\\sklearn\\svm\\_base.py:1244: ConvergenceWarning: Liblinear failed to converge, increase the number of iterations.\n",
      "  warnings.warn(\n"
     ]
    },
    {
     "name": "stdout",
     "output_type": "stream",
     "text": [
      "2023-06-07 06:25:38 INFO: POS REMOVAL\n",
      "2023-06-07 06:25:38 INFO: DOCUMENT TRANSFORMER\n",
      "2023-06-07 06:25:39 INFO: POS REMOVAL\n",
      "2023-06-07 06:25:39 INFO: DOCUMENT TRANSFORMER\n"
     ]
    },
    {
     "name": "stderr",
     "output_type": "stream",
     "text": [
      "c:\\Users\\c10nGp4\\anaconda3\\envs\\imbalance-multi-classification\\lib\\site-packages\\sklearn\\svm\\_base.py:1244: ConvergenceWarning: Liblinear failed to converge, increase the number of iterations.\n",
      "  warnings.warn(\n"
     ]
    },
    {
     "name": "stdout",
     "output_type": "stream",
     "text": [
      "2023-06-07 06:25:46 INFO: POS REMOVAL\n",
      "2023-06-07 06:25:46 INFO: DOCUMENT TRANSFORMER\n",
      "2023-06-07 06:25:46 INFO: POS REMOVAL\n",
      "2023-06-07 06:25:46 INFO: DOCUMENT TRANSFORMER\n"
     ]
    },
    {
     "name": "stderr",
     "output_type": "stream",
     "text": [
      "c:\\Users\\c10nGp4\\anaconda3\\envs\\imbalance-multi-classification\\lib\\site-packages\\sklearn\\svm\\_base.py:1244: ConvergenceWarning: Liblinear failed to converge, increase the number of iterations.\n",
      "  warnings.warn(\n"
     ]
    },
    {
     "name": "stdout",
     "output_type": "stream",
     "text": [
      "2023-06-07 06:25:53 INFO: POS REMOVAL\n",
      "2023-06-07 06:25:53 INFO: DOCUMENT TRANSFORMER\n",
      "2023-06-07 06:25:54 INFO: POS REMOVAL\n",
      "2023-06-07 06:25:54 INFO: DOCUMENT TRANSFORMER\n"
     ]
    },
    {
     "name": "stderr",
     "output_type": "stream",
     "text": [
      "c:\\Users\\c10nGp4\\anaconda3\\envs\\imbalance-multi-classification\\lib\\site-packages\\sklearn\\svm\\_base.py:1244: ConvergenceWarning: Liblinear failed to converge, increase the number of iterations.\n",
      "  warnings.warn(\n"
     ]
    },
    {
     "name": "stdout",
     "output_type": "stream",
     "text": [
      "2023-06-07 06:26:01 INFO: POS REMOVAL\n",
      "2023-06-07 06:26:01 INFO: DOCUMENT TRANSFORMER\n",
      "2023-06-07 06:26:01 INFO: POS REMOVAL\n",
      "2023-06-07 06:26:01 INFO: DOCUMENT TRANSFORMER\n"
     ]
    },
    {
     "name": "stderr",
     "output_type": "stream",
     "text": [
      "c:\\Users\\c10nGp4\\anaconda3\\envs\\imbalance-multi-classification\\lib\\site-packages\\sklearn\\svm\\_base.py:1244: ConvergenceWarning: Liblinear failed to converge, increase the number of iterations.\n",
      "  warnings.warn(\n"
     ]
    },
    {
     "name": "stdout",
     "output_type": "stream",
     "text": [
      "2023-06-07 06:26:09 INFO: POS REMOVAL\n",
      "2023-06-07 06:26:09 INFO: DOCUMENT TRANSFORMER\n",
      "2023-06-07 06:26:09 INFO: POS REMOVAL\n",
      "2023-06-07 06:26:09 INFO: DOCUMENT TRANSFORMER\n"
     ]
    },
    {
     "name": "stderr",
     "output_type": "stream",
     "text": [
      "c:\\Users\\c10nGp4\\anaconda3\\envs\\imbalance-multi-classification\\lib\\site-packages\\sklearn\\svm\\_base.py:1244: ConvergenceWarning: Liblinear failed to converge, increase the number of iterations.\n",
      "  warnings.warn(\n"
     ]
    },
    {
     "name": "stdout",
     "output_type": "stream",
     "text": [
      "2023-06-07 06:26:16 INFO: POS REMOVAL\n",
      "2023-06-07 06:26:16 INFO: DOCUMENT TRANSFORMER\n",
      "2023-06-07 06:26:16 INFO: POS REMOVAL\n",
      "2023-06-07 06:26:16 INFO: DOCUMENT TRANSFORMER\n"
     ]
    },
    {
     "name": "stderr",
     "output_type": "stream",
     "text": [
      "c:\\Users\\c10nGp4\\anaconda3\\envs\\imbalance-multi-classification\\lib\\site-packages\\sklearn\\svm\\_base.py:1244: ConvergenceWarning: Liblinear failed to converge, increase the number of iterations.\n",
      "  warnings.warn(\n"
     ]
    },
    {
     "name": "stdout",
     "output_type": "stream",
     "text": [
      "2023-06-07 06:26:23 INFO: POS REMOVAL\n",
      "2023-06-07 06:26:23 INFO: DOCUMENT TRANSFORMER\n",
      "2023-06-07 06:26:24 INFO: POS REMOVAL\n",
      "2023-06-07 06:26:24 INFO: DOCUMENT TRANSFORMER\n"
     ]
    },
    {
     "name": "stderr",
     "output_type": "stream",
     "text": [
      "c:\\Users\\c10nGp4\\anaconda3\\envs\\imbalance-multi-classification\\lib\\site-packages\\sklearn\\svm\\_base.py:1244: ConvergenceWarning: Liblinear failed to converge, increase the number of iterations.\n",
      "  warnings.warn(\n"
     ]
    },
    {
     "name": "stdout",
     "output_type": "stream",
     "text": [
      "2023-06-07 06:26:31 INFO: POS REMOVAL\n",
      "2023-06-07 06:26:31 INFO: DOCUMENT TRANSFORMER\n",
      "2023-06-07 06:26:31 INFO: POS REMOVAL\n",
      "2023-06-07 06:26:31 INFO: DOCUMENT TRANSFORMER\n"
     ]
    },
    {
     "name": "stderr",
     "output_type": "stream",
     "text": [
      "c:\\Users\\c10nGp4\\anaconda3\\envs\\imbalance-multi-classification\\lib\\site-packages\\sklearn\\svm\\_base.py:1244: ConvergenceWarning: Liblinear failed to converge, increase the number of iterations.\n",
      "  warnings.warn(\n"
     ]
    },
    {
     "name": "stdout",
     "output_type": "stream",
     "text": [
      "2023-06-07 06:26:36 INFO: POS REMOVAL\n",
      "2023-06-07 06:26:36 INFO: DOCUMENT TRANSFORMER\n",
      "2023-06-07 06:26:36 INFO: POS REMOVAL\n",
      "2023-06-07 06:26:36 INFO: DOCUMENT TRANSFORMER\n"
     ]
    },
    {
     "name": "stderr",
     "output_type": "stream",
     "text": [
      "c:\\Users\\c10nGp4\\anaconda3\\envs\\imbalance-multi-classification\\lib\\site-packages\\sklearn\\svm\\_base.py:1244: ConvergenceWarning: Liblinear failed to converge, increase the number of iterations.\n",
      "  warnings.warn(\n"
     ]
    },
    {
     "name": "stdout",
     "output_type": "stream",
     "text": [
      "2023-06-07 06:26:40 INFO: POS REMOVAL\n",
      "2023-06-07 06:26:40 INFO: DOCUMENT TRANSFORMER\n",
      "2023-06-07 06:26:40 INFO: POS REMOVAL\n",
      "2023-06-07 06:26:40 INFO: DOCUMENT TRANSFORMER\n"
     ]
    },
    {
     "name": "stderr",
     "output_type": "stream",
     "text": [
      "c:\\Users\\c10nGp4\\anaconda3\\envs\\imbalance-multi-classification\\lib\\site-packages\\sklearn\\svm\\_base.py:1244: ConvergenceWarning: Liblinear failed to converge, increase the number of iterations.\n",
      "  warnings.warn(\n"
     ]
    },
    {
     "name": "stdout",
     "output_type": "stream",
     "text": [
      "2023-06-07 06:26:45 INFO: POS REMOVAL\n",
      "2023-06-07 06:26:45 INFO: DOCUMENT TRANSFORMER\n",
      "2023-06-07 06:26:45 INFO: POS REMOVAL\n",
      "2023-06-07 06:26:45 INFO: DOCUMENT TRANSFORMER\n"
     ]
    },
    {
     "name": "stderr",
     "output_type": "stream",
     "text": [
      "c:\\Users\\c10nGp4\\anaconda3\\envs\\imbalance-multi-classification\\lib\\site-packages\\sklearn\\svm\\_base.py:1244: ConvergenceWarning: Liblinear failed to converge, increase the number of iterations.\n",
      "  warnings.warn(\n"
     ]
    },
    {
     "name": "stdout",
     "output_type": "stream",
     "text": [
      "2023-06-07 06:26:49 INFO: POS REMOVAL\n",
      "2023-06-07 06:26:49 INFO: DOCUMENT TRANSFORMER\n",
      "2023-06-07 06:26:49 INFO: POS REMOVAL\n",
      "2023-06-07 06:26:50 INFO: DOCUMENT TRANSFORMER\n"
     ]
    },
    {
     "name": "stderr",
     "output_type": "stream",
     "text": [
      "c:\\Users\\c10nGp4\\anaconda3\\envs\\imbalance-multi-classification\\lib\\site-packages\\sklearn\\svm\\_base.py:1244: ConvergenceWarning: Liblinear failed to converge, increase the number of iterations.\n",
      "  warnings.warn(\n"
     ]
    },
    {
     "name": "stdout",
     "output_type": "stream",
     "text": [
      "2023-06-07 06:26:54 INFO: POS REMOVAL\n",
      "2023-06-07 06:26:54 INFO: DOCUMENT TRANSFORMER\n",
      "2023-06-07 06:26:54 INFO: POS REMOVAL\n",
      "2023-06-07 06:26:54 INFO: DOCUMENT TRANSFORMER\n"
     ]
    },
    {
     "name": "stderr",
     "output_type": "stream",
     "text": [
      "c:\\Users\\c10nGp4\\anaconda3\\envs\\imbalance-multi-classification\\lib\\site-packages\\sklearn\\svm\\_base.py:1244: ConvergenceWarning: Liblinear failed to converge, increase the number of iterations.\n",
      "  warnings.warn(\n"
     ]
    },
    {
     "name": "stdout",
     "output_type": "stream",
     "text": [
      "2023-06-07 06:26:58 INFO: POS REMOVAL\n",
      "2023-06-07 06:26:58 INFO: DOCUMENT TRANSFORMER\n",
      "2023-06-07 06:26:59 INFO: POS REMOVAL\n",
      "2023-06-07 06:26:59 INFO: DOCUMENT TRANSFORMER\n"
     ]
    },
    {
     "name": "stderr",
     "output_type": "stream",
     "text": [
      "c:\\Users\\c10nGp4\\anaconda3\\envs\\imbalance-multi-classification\\lib\\site-packages\\sklearn\\svm\\_base.py:1244: ConvergenceWarning: Liblinear failed to converge, increase the number of iterations.\n",
      "  warnings.warn(\n"
     ]
    },
    {
     "name": "stdout",
     "output_type": "stream",
     "text": [
      "2023-06-07 06:27:03 INFO: POS REMOVAL\n",
      "2023-06-07 06:27:03 INFO: DOCUMENT TRANSFORMER\n",
      "2023-06-07 06:27:03 INFO: POS REMOVAL\n",
      "2023-06-07 06:27:03 INFO: DOCUMENT TRANSFORMER\n"
     ]
    },
    {
     "name": "stderr",
     "output_type": "stream",
     "text": [
      "c:\\Users\\c10nGp4\\anaconda3\\envs\\imbalance-multi-classification\\lib\\site-packages\\sklearn\\svm\\_base.py:1244: ConvergenceWarning: Liblinear failed to converge, increase the number of iterations.\n",
      "  warnings.warn(\n"
     ]
    },
    {
     "name": "stdout",
     "output_type": "stream",
     "text": [
      "2023-06-07 06:27:08 INFO: POS REMOVAL\n",
      "2023-06-07 06:27:08 INFO: DOCUMENT TRANSFORMER\n",
      "2023-06-07 06:27:08 INFO: POS REMOVAL\n",
      "2023-06-07 06:27:08 INFO: DOCUMENT TRANSFORMER\n"
     ]
    },
    {
     "name": "stderr",
     "output_type": "stream",
     "text": [
      "c:\\Users\\c10nGp4\\anaconda3\\envs\\imbalance-multi-classification\\lib\\site-packages\\sklearn\\svm\\_base.py:1244: ConvergenceWarning: Liblinear failed to converge, increase the number of iterations.\n",
      "  warnings.warn(\n"
     ]
    },
    {
     "name": "stdout",
     "output_type": "stream",
     "text": [
      "2023-06-07 06:27:12 INFO: POS REMOVAL\n",
      "2023-06-07 06:27:12 INFO: DOCUMENT TRANSFORMER\n",
      "2023-06-07 06:27:12 INFO: POS REMOVAL\n",
      "2023-06-07 06:27:12 INFO: DOCUMENT TRANSFORMER\n"
     ]
    },
    {
     "name": "stderr",
     "output_type": "stream",
     "text": [
      "c:\\Users\\c10nGp4\\anaconda3\\envs\\imbalance-multi-classification\\lib\\site-packages\\sklearn\\svm\\_base.py:1244: ConvergenceWarning: Liblinear failed to converge, increase the number of iterations.\n",
      "  warnings.warn(\n"
     ]
    },
    {
     "name": "stdout",
     "output_type": "stream",
     "text": [
      "2023-06-07 06:27:17 INFO: POS REMOVAL\n",
      "2023-06-07 06:27:17 INFO: DOCUMENT TRANSFORMER\n",
      "2023-06-07 06:27:17 INFO: POS REMOVAL\n",
      "2023-06-07 06:27:17 INFO: DOCUMENT TRANSFORMER\n"
     ]
    },
    {
     "name": "stderr",
     "output_type": "stream",
     "text": [
      "c:\\Users\\c10nGp4\\anaconda3\\envs\\imbalance-multi-classification\\lib\\site-packages\\sklearn\\svm\\_base.py:1244: ConvergenceWarning: Liblinear failed to converge, increase the number of iterations.\n",
      "  warnings.warn(\n"
     ]
    },
    {
     "name": "stdout",
     "output_type": "stream",
     "text": [
      "2023-06-07 06:27:21 INFO: POS REMOVAL\n",
      "2023-06-07 06:27:21 INFO: DOCUMENT TRANSFORMER\n",
      "2023-06-07 06:27:21 INFO: POS REMOVAL\n",
      "2023-06-07 06:27:22 INFO: DOCUMENT TRANSFORMER\n"
     ]
    },
    {
     "name": "stderr",
     "output_type": "stream",
     "text": [
      "c:\\Users\\c10nGp4\\anaconda3\\envs\\imbalance-multi-classification\\lib\\site-packages\\sklearn\\svm\\_base.py:1244: ConvergenceWarning: Liblinear failed to converge, increase the number of iterations.\n",
      "  warnings.warn(\n"
     ]
    },
    {
     "name": "stdout",
     "output_type": "stream",
     "text": [
      "2023-06-07 06:27:26 INFO: POS REMOVAL\n",
      "2023-06-07 06:27:26 INFO: DOCUMENT TRANSFORMER\n",
      "2023-06-07 06:27:26 INFO: POS REMOVAL\n",
      "2023-06-07 06:27:26 INFO: DOCUMENT TRANSFORMER\n"
     ]
    },
    {
     "name": "stderr",
     "output_type": "stream",
     "text": [
      "c:\\Users\\c10nGp4\\anaconda3\\envs\\imbalance-multi-classification\\lib\\site-packages\\sklearn\\svm\\_base.py:1244: ConvergenceWarning: Liblinear failed to converge, increase the number of iterations.\n",
      "  warnings.warn(\n"
     ]
    },
    {
     "name": "stdout",
     "output_type": "stream",
     "text": [
      "2023-06-07 06:27:31 INFO: POS REMOVAL\n",
      "2023-06-07 06:27:31 INFO: DOCUMENT TRANSFORMER\n",
      "2023-06-07 06:27:31 INFO: POS REMOVAL\n",
      "2023-06-07 06:27:31 INFO: DOCUMENT TRANSFORMER\n"
     ]
    },
    {
     "name": "stderr",
     "output_type": "stream",
     "text": [
      "c:\\Users\\c10nGp4\\anaconda3\\envs\\imbalance-multi-classification\\lib\\site-packages\\sklearn\\svm\\_base.py:1244: ConvergenceWarning: Liblinear failed to converge, increase the number of iterations.\n",
      "  warnings.warn(\n"
     ]
    },
    {
     "name": "stdout",
     "output_type": "stream",
     "text": [
      "2023-06-07 06:27:35 INFO: POS REMOVAL\n",
      "2023-06-07 06:27:35 INFO: DOCUMENT TRANSFORMER\n",
      "2023-06-07 06:27:35 INFO: POS REMOVAL\n",
      "2023-06-07 06:27:35 INFO: DOCUMENT TRANSFORMER\n"
     ]
    },
    {
     "name": "stderr",
     "output_type": "stream",
     "text": [
      "c:\\Users\\c10nGp4\\anaconda3\\envs\\imbalance-multi-classification\\lib\\site-packages\\sklearn\\svm\\_base.py:1244: ConvergenceWarning: Liblinear failed to converge, increase the number of iterations.\n",
      "  warnings.warn(\n"
     ]
    },
    {
     "name": "stdout",
     "output_type": "stream",
     "text": [
      "2023-06-07 06:27:39 INFO: POS REMOVAL\n",
      "2023-06-07 06:27:39 INFO: DOCUMENT TRANSFORMER\n",
      "2023-06-07 06:27:40 INFO: POS REMOVAL\n",
      "2023-06-07 06:27:40 INFO: DOCUMENT TRANSFORMER\n"
     ]
    },
    {
     "name": "stderr",
     "output_type": "stream",
     "text": [
      "c:\\Users\\c10nGp4\\anaconda3\\envs\\imbalance-multi-classification\\lib\\site-packages\\sklearn\\svm\\_base.py:1244: ConvergenceWarning: Liblinear failed to converge, increase the number of iterations.\n",
      "  warnings.warn(\n"
     ]
    },
    {
     "name": "stdout",
     "output_type": "stream",
     "text": [
      "2023-06-07 06:27:44 INFO: POS REMOVAL\n",
      "2023-06-07 06:27:44 INFO: DOCUMENT TRANSFORMER\n",
      "2023-06-07 06:27:44 INFO: POS REMOVAL\n",
      "2023-06-07 06:27:44 INFO: DOCUMENT TRANSFORMER\n"
     ]
    },
    {
     "name": "stderr",
     "output_type": "stream",
     "text": [
      "c:\\Users\\c10nGp4\\anaconda3\\envs\\imbalance-multi-classification\\lib\\site-packages\\sklearn\\svm\\_base.py:1244: ConvergenceWarning: Liblinear failed to converge, increase the number of iterations.\n",
      "  warnings.warn(\n"
     ]
    },
    {
     "name": "stdout",
     "output_type": "stream",
     "text": [
      "2023-06-07 06:27:48 INFO: POS REMOVAL\n",
      "2023-06-07 06:27:48 INFO: DOCUMENT TRANSFORMER\n",
      "2023-06-07 06:27:49 INFO: POS REMOVAL\n",
      "2023-06-07 06:27:49 INFO: DOCUMENT TRANSFORMER\n"
     ]
    },
    {
     "name": "stderr",
     "output_type": "stream",
     "text": [
      "c:\\Users\\c10nGp4\\anaconda3\\envs\\imbalance-multi-classification\\lib\\site-packages\\sklearn\\svm\\_base.py:1244: ConvergenceWarning: Liblinear failed to converge, increase the number of iterations.\n",
      "  warnings.warn(\n"
     ]
    },
    {
     "name": "stdout",
     "output_type": "stream",
     "text": [
      "2023-06-07 06:27:53 INFO: POS REMOVAL\n",
      "2023-06-07 06:27:54 INFO: DOCUMENT TRANSFORMER\n",
      "2023-06-07 06:27:54 INFO: POS REMOVAL\n",
      "2023-06-07 06:27:54 INFO: DOCUMENT TRANSFORMER\n"
     ]
    },
    {
     "name": "stderr",
     "output_type": "stream",
     "text": [
      "c:\\Users\\c10nGp4\\anaconda3\\envs\\imbalance-multi-classification\\lib\\site-packages\\sklearn\\svm\\_base.py:1244: ConvergenceWarning: Liblinear failed to converge, increase the number of iterations.\n",
      "  warnings.warn(\n"
     ]
    },
    {
     "name": "stdout",
     "output_type": "stream",
     "text": [
      "2023-06-07 06:27:58 INFO: POS REMOVAL\n",
      "2023-06-07 06:27:58 INFO: DOCUMENT TRANSFORMER\n",
      "2023-06-07 06:27:58 INFO: POS REMOVAL\n",
      "2023-06-07 06:27:58 INFO: DOCUMENT TRANSFORMER\n"
     ]
    },
    {
     "name": "stderr",
     "output_type": "stream",
     "text": [
      "c:\\Users\\c10nGp4\\anaconda3\\envs\\imbalance-multi-classification\\lib\\site-packages\\sklearn\\svm\\_base.py:1244: ConvergenceWarning: Liblinear failed to converge, increase the number of iterations.\n",
      "  warnings.warn(\n"
     ]
    },
    {
     "name": "stdout",
     "output_type": "stream",
     "text": [
      "2023-06-07 06:28:02 INFO: POS REMOVAL\n",
      "2023-06-07 06:28:02 INFO: DOCUMENT TRANSFORMER\n",
      "2023-06-07 06:28:03 INFO: POS REMOVAL\n",
      "2023-06-07 06:28:03 INFO: DOCUMENT TRANSFORMER\n"
     ]
    },
    {
     "name": "stderr",
     "output_type": "stream",
     "text": [
      "c:\\Users\\c10nGp4\\anaconda3\\envs\\imbalance-multi-classification\\lib\\site-packages\\sklearn\\svm\\_base.py:1244: ConvergenceWarning: Liblinear failed to converge, increase the number of iterations.\n",
      "  warnings.warn(\n"
     ]
    },
    {
     "name": "stdout",
     "output_type": "stream",
     "text": [
      "2023-06-07 06:28:08 INFO: POS REMOVAL\n",
      "2023-06-07 06:28:08 INFO: DOCUMENT TRANSFORMER\n",
      "2023-06-07 06:28:08 INFO: POS REMOVAL\n",
      "2023-06-07 06:28:08 INFO: DOCUMENT TRANSFORMER\n"
     ]
    },
    {
     "name": "stderr",
     "output_type": "stream",
     "text": [
      "c:\\Users\\c10nGp4\\anaconda3\\envs\\imbalance-multi-classification\\lib\\site-packages\\sklearn\\svm\\_base.py:1244: ConvergenceWarning: Liblinear failed to converge, increase the number of iterations.\n",
      "  warnings.warn(\n"
     ]
    },
    {
     "name": "stdout",
     "output_type": "stream",
     "text": [
      "2023-06-07 06:28:13 INFO: POS REMOVAL\n",
      "2023-06-07 06:28:13 INFO: DOCUMENT TRANSFORMER\n",
      "2023-06-07 06:28:13 INFO: POS REMOVAL\n",
      "2023-06-07 06:28:13 INFO: DOCUMENT TRANSFORMER\n"
     ]
    },
    {
     "name": "stderr",
     "output_type": "stream",
     "text": [
      "c:\\Users\\c10nGp4\\anaconda3\\envs\\imbalance-multi-classification\\lib\\site-packages\\sklearn\\svm\\_base.py:1244: ConvergenceWarning: Liblinear failed to converge, increase the number of iterations.\n",
      "  warnings.warn(\n"
     ]
    },
    {
     "name": "stdout",
     "output_type": "stream",
     "text": [
      "2023-06-07 06:28:18 INFO: POS REMOVAL\n",
      "2023-06-07 06:28:18 INFO: DOCUMENT TRANSFORMER\n",
      "2023-06-07 06:28:19 INFO: POS REMOVAL\n",
      "2023-06-07 06:28:19 INFO: DOCUMENT TRANSFORMER\n"
     ]
    },
    {
     "name": "stderr",
     "output_type": "stream",
     "text": [
      "c:\\Users\\c10nGp4\\anaconda3\\envs\\imbalance-multi-classification\\lib\\site-packages\\sklearn\\svm\\_base.py:1244: ConvergenceWarning: Liblinear failed to converge, increase the number of iterations.\n",
      "  warnings.warn(\n"
     ]
    },
    {
     "name": "stdout",
     "output_type": "stream",
     "text": [
      "2023-06-07 06:28:24 INFO: POS REMOVAL\n",
      "2023-06-07 06:28:24 INFO: DOCUMENT TRANSFORMER\n",
      "2023-06-07 06:28:24 INFO: POS REMOVAL\n",
      "2023-06-07 06:28:24 INFO: DOCUMENT TRANSFORMER\n"
     ]
    },
    {
     "name": "stderr",
     "output_type": "stream",
     "text": [
      "c:\\Users\\c10nGp4\\anaconda3\\envs\\imbalance-multi-classification\\lib\\site-packages\\sklearn\\svm\\_base.py:1244: ConvergenceWarning: Liblinear failed to converge, increase the number of iterations.\n",
      "  warnings.warn(\n"
     ]
    },
    {
     "name": "stdout",
     "output_type": "stream",
     "text": [
      "2023-06-07 06:28:29 INFO: POS REMOVAL\n",
      "2023-06-07 06:28:29 INFO: DOCUMENT TRANSFORMER\n",
      "2023-06-07 06:28:29 INFO: POS REMOVAL\n",
      "2023-06-07 06:28:29 INFO: DOCUMENT TRANSFORMER\n"
     ]
    },
    {
     "name": "stderr",
     "output_type": "stream",
     "text": [
      "c:\\Users\\c10nGp4\\anaconda3\\envs\\imbalance-multi-classification\\lib\\site-packages\\sklearn\\svm\\_base.py:1244: ConvergenceWarning: Liblinear failed to converge, increase the number of iterations.\n",
      "  warnings.warn(\n"
     ]
    },
    {
     "name": "stdout",
     "output_type": "stream",
     "text": [
      "2023-06-07 06:28:34 INFO: POS REMOVAL\n",
      "2023-06-07 06:28:34 INFO: DOCUMENT TRANSFORMER\n",
      "2023-06-07 06:28:34 INFO: POS REMOVAL\n",
      "2023-06-07 06:28:35 INFO: DOCUMENT TRANSFORMER\n"
     ]
    },
    {
     "name": "stderr",
     "output_type": "stream",
     "text": [
      "c:\\Users\\c10nGp4\\anaconda3\\envs\\imbalance-multi-classification\\lib\\site-packages\\sklearn\\svm\\_base.py:1244: ConvergenceWarning: Liblinear failed to converge, increase the number of iterations.\n",
      "  warnings.warn(\n"
     ]
    },
    {
     "name": "stdout",
     "output_type": "stream",
     "text": [
      "2023-06-07 06:28:40 INFO: POS REMOVAL\n",
      "2023-06-07 06:28:40 INFO: DOCUMENT TRANSFORMER\n",
      "2023-06-07 06:28:40 INFO: POS REMOVAL\n",
      "2023-06-07 06:28:40 INFO: DOCUMENT TRANSFORMER\n"
     ]
    },
    {
     "name": "stderr",
     "output_type": "stream",
     "text": [
      "c:\\Users\\c10nGp4\\anaconda3\\envs\\imbalance-multi-classification\\lib\\site-packages\\sklearn\\svm\\_base.py:1244: ConvergenceWarning: Liblinear failed to converge, increase the number of iterations.\n",
      "  warnings.warn(\n"
     ]
    },
    {
     "name": "stdout",
     "output_type": "stream",
     "text": [
      "2023-06-07 06:28:45 INFO: POS REMOVAL\n",
      "2023-06-07 06:28:45 INFO: DOCUMENT TRANSFORMER\n",
      "2023-06-07 06:28:45 INFO: POS REMOVAL\n",
      "2023-06-07 06:28:45 INFO: DOCUMENT TRANSFORMER\n"
     ]
    },
    {
     "name": "stderr",
     "output_type": "stream",
     "text": [
      "c:\\Users\\c10nGp4\\anaconda3\\envs\\imbalance-multi-classification\\lib\\site-packages\\sklearn\\svm\\_base.py:1244: ConvergenceWarning: Liblinear failed to converge, increase the number of iterations.\n",
      "  warnings.warn(\n"
     ]
    },
    {
     "name": "stdout",
     "output_type": "stream",
     "text": [
      "2023-06-07 06:28:51 INFO: POS REMOVAL\n",
      "2023-06-07 06:28:51 INFO: DOCUMENT TRANSFORMER\n",
      "2023-06-07 06:28:51 INFO: POS REMOVAL\n",
      "2023-06-07 06:28:51 INFO: DOCUMENT TRANSFORMER\n"
     ]
    },
    {
     "name": "stderr",
     "output_type": "stream",
     "text": [
      "c:\\Users\\c10nGp4\\anaconda3\\envs\\imbalance-multi-classification\\lib\\site-packages\\sklearn\\svm\\_base.py:1244: ConvergenceWarning: Liblinear failed to converge, increase the number of iterations.\n",
      "  warnings.warn(\n"
     ]
    },
    {
     "name": "stdout",
     "output_type": "stream",
     "text": [
      "2023-06-07 06:28:56 INFO: POS REMOVAL\n",
      "2023-06-07 06:28:56 INFO: DOCUMENT TRANSFORMER\n",
      "2023-06-07 06:28:56 INFO: POS REMOVAL\n",
      "2023-06-07 06:28:56 INFO: DOCUMENT TRANSFORMER\n"
     ]
    },
    {
     "name": "stderr",
     "output_type": "stream",
     "text": [
      "c:\\Users\\c10nGp4\\anaconda3\\envs\\imbalance-multi-classification\\lib\\site-packages\\sklearn\\svm\\_base.py:1244: ConvergenceWarning: Liblinear failed to converge, increase the number of iterations.\n",
      "  warnings.warn(\n"
     ]
    },
    {
     "name": "stdout",
     "output_type": "stream",
     "text": [
      "2023-06-07 06:29:01 INFO: POS REMOVAL\n",
      "2023-06-07 06:29:01 INFO: DOCUMENT TRANSFORMER\n",
      "2023-06-07 06:29:01 INFO: POS REMOVAL\n",
      "2023-06-07 06:29:02 INFO: DOCUMENT TRANSFORMER\n"
     ]
    },
    {
     "name": "stderr",
     "output_type": "stream",
     "text": [
      "c:\\Users\\c10nGp4\\anaconda3\\envs\\imbalance-multi-classification\\lib\\site-packages\\sklearn\\svm\\_base.py:1244: ConvergenceWarning: Liblinear failed to converge, increase the number of iterations.\n",
      "  warnings.warn(\n"
     ]
    },
    {
     "name": "stdout",
     "output_type": "stream",
     "text": [
      "2023-06-07 06:29:07 INFO: POS REMOVAL\n",
      "2023-06-07 06:29:07 INFO: DOCUMENT TRANSFORMER\n",
      "2023-06-07 06:29:07 INFO: POS REMOVAL\n",
      "2023-06-07 06:29:07 INFO: DOCUMENT TRANSFORMER\n"
     ]
    },
    {
     "name": "stderr",
     "output_type": "stream",
     "text": [
      "c:\\Users\\c10nGp4\\anaconda3\\envs\\imbalance-multi-classification\\lib\\site-packages\\sklearn\\svm\\_base.py:1244: ConvergenceWarning: Liblinear failed to converge, increase the number of iterations.\n",
      "  warnings.warn(\n"
     ]
    },
    {
     "name": "stdout",
     "output_type": "stream",
     "text": [
      "2023-06-07 06:29:12 INFO: POS REMOVAL\n",
      "2023-06-07 06:29:12 INFO: DOCUMENT TRANSFORMER\n",
      "2023-06-07 06:29:12 INFO: POS REMOVAL\n",
      "2023-06-07 06:29:12 INFO: DOCUMENT TRANSFORMER\n"
     ]
    },
    {
     "name": "stderr",
     "output_type": "stream",
     "text": [
      "c:\\Users\\c10nGp4\\anaconda3\\envs\\imbalance-multi-classification\\lib\\site-packages\\sklearn\\svm\\_base.py:1244: ConvergenceWarning: Liblinear failed to converge, increase the number of iterations.\n",
      "  warnings.warn(\n"
     ]
    },
    {
     "name": "stdout",
     "output_type": "stream",
     "text": [
      "2023-06-07 06:29:17 INFO: POS REMOVAL\n",
      "2023-06-07 06:29:17 INFO: DOCUMENT TRANSFORMER\n",
      "2023-06-07 06:29:17 INFO: POS REMOVAL\n",
      "2023-06-07 06:29:18 INFO: DOCUMENT TRANSFORMER\n"
     ]
    },
    {
     "name": "stderr",
     "output_type": "stream",
     "text": [
      "c:\\Users\\c10nGp4\\anaconda3\\envs\\imbalance-multi-classification\\lib\\site-packages\\sklearn\\svm\\_base.py:1244: ConvergenceWarning: Liblinear failed to converge, increase the number of iterations.\n",
      "  warnings.warn(\n"
     ]
    },
    {
     "name": "stdout",
     "output_type": "stream",
     "text": [
      "2023-06-07 06:29:23 INFO: POS REMOVAL\n",
      "2023-06-07 06:29:23 INFO: DOCUMENT TRANSFORMER\n",
      "2023-06-07 06:29:23 INFO: POS REMOVAL\n",
      "2023-06-07 06:29:23 INFO: DOCUMENT TRANSFORMER\n"
     ]
    },
    {
     "name": "stderr",
     "output_type": "stream",
     "text": [
      "c:\\Users\\c10nGp4\\anaconda3\\envs\\imbalance-multi-classification\\lib\\site-packages\\sklearn\\svm\\_base.py:1244: ConvergenceWarning: Liblinear failed to converge, increase the number of iterations.\n",
      "  warnings.warn(\n"
     ]
    },
    {
     "name": "stdout",
     "output_type": "stream",
     "text": [
      "2023-06-07 06:29:28 INFO: POS REMOVAL\n",
      "2023-06-07 06:29:28 INFO: DOCUMENT TRANSFORMER\n",
      "2023-06-07 06:29:28 INFO: POS REMOVAL\n",
      "2023-06-07 06:29:28 INFO: DOCUMENT TRANSFORMER\n"
     ]
    },
    {
     "name": "stderr",
     "output_type": "stream",
     "text": [
      "c:\\Users\\c10nGp4\\anaconda3\\envs\\imbalance-multi-classification\\lib\\site-packages\\sklearn\\svm\\_base.py:1244: ConvergenceWarning: Liblinear failed to converge, increase the number of iterations.\n",
      "  warnings.warn(\n"
     ]
    },
    {
     "name": "stdout",
     "output_type": "stream",
     "text": [
      "2023-06-07 06:29:33 INFO: POS REMOVAL\n",
      "2023-06-07 06:29:33 INFO: DOCUMENT TRANSFORMER\n",
      "2023-06-07 06:29:34 INFO: POS REMOVAL\n",
      "2023-06-07 06:29:34 INFO: DOCUMENT TRANSFORMER\n"
     ]
    },
    {
     "name": "stderr",
     "output_type": "stream",
     "text": [
      "c:\\Users\\c10nGp4\\anaconda3\\envs\\imbalance-multi-classification\\lib\\site-packages\\sklearn\\svm\\_base.py:1244: ConvergenceWarning: Liblinear failed to converge, increase the number of iterations.\n",
      "  warnings.warn(\n"
     ]
    },
    {
     "name": "stdout",
     "output_type": "stream",
     "text": [
      "2023-06-07 06:29:39 INFO: POS REMOVAL\n",
      "2023-06-07 06:29:39 INFO: DOCUMENT TRANSFORMER\n",
      "2023-06-07 06:29:39 INFO: POS REMOVAL\n",
      "2023-06-07 06:29:39 INFO: DOCUMENT TRANSFORMER\n"
     ]
    },
    {
     "name": "stderr",
     "output_type": "stream",
     "text": [
      "c:\\Users\\c10nGp4\\anaconda3\\envs\\imbalance-multi-classification\\lib\\site-packages\\sklearn\\svm\\_base.py:1244: ConvergenceWarning: Liblinear failed to converge, increase the number of iterations.\n",
      "  warnings.warn(\n"
     ]
    },
    {
     "name": "stdout",
     "output_type": "stream",
     "text": [
      "2023-06-07 06:29:44 INFO: POS REMOVAL\n",
      "2023-06-07 06:29:44 INFO: DOCUMENT TRANSFORMER\n",
      "2023-06-07 06:29:44 INFO: POS REMOVAL\n",
      "2023-06-07 06:29:44 INFO: DOCUMENT TRANSFORMER\n"
     ]
    },
    {
     "name": "stderr",
     "output_type": "stream",
     "text": [
      "c:\\Users\\c10nGp4\\anaconda3\\envs\\imbalance-multi-classification\\lib\\site-packages\\sklearn\\svm\\_base.py:1244: ConvergenceWarning: Liblinear failed to converge, increase the number of iterations.\n",
      "  warnings.warn(\n"
     ]
    },
    {
     "name": "stdout",
     "output_type": "stream",
     "text": [
      "2023-06-07 06:29:49 INFO: POS REMOVAL\n",
      "2023-06-07 06:29:50 INFO: DOCUMENT TRANSFORMER\n",
      "2023-06-07 06:29:50 INFO: POS REMOVAL\n",
      "2023-06-07 06:29:50 INFO: DOCUMENT TRANSFORMER\n",
      "2023-06-07 06:29:50 INFO: POS REMOVAL\n",
      "2023-06-07 06:29:50 INFO: DOCUMENT TRANSFORMER\n",
      "2023-06-07 06:29:51 INFO: POS REMOVAL\n",
      "2023-06-07 06:29:51 INFO: DOCUMENT TRANSFORMER\n",
      "2023-06-07 06:29:52 INFO: POS REMOVAL\n",
      "2023-06-07 06:29:52 INFO: DOCUMENT TRANSFORMER\n",
      "2023-06-07 06:29:52 INFO: POS REMOVAL\n",
      "2023-06-07 06:29:52 INFO: DOCUMENT TRANSFORMER\n",
      "2023-06-07 06:29:53 INFO: POS REMOVAL\n",
      "2023-06-07 06:29:53 INFO: DOCUMENT TRANSFORMER\n",
      "2023-06-07 06:29:54 INFO: POS REMOVAL\n",
      "2023-06-07 06:29:54 INFO: DOCUMENT TRANSFORMER\n",
      "2023-06-07 06:29:54 INFO: POS REMOVAL\n",
      "2023-06-07 06:29:55 INFO: DOCUMENT TRANSFORMER\n",
      "2023-06-07 06:29:55 INFO: POS REMOVAL\n",
      "2023-06-07 06:29:55 INFO: DOCUMENT TRANSFORMER\n",
      "2023-06-07 06:29:56 INFO: POS REMOVAL\n",
      "2023-06-07 06:29:56 INFO: DOCUMENT TRANSFORMER\n",
      "2023-06-07 06:29:56 INFO: POS REMOVAL\n",
      "2023-06-07 06:29:57 INFO: DOCUMENT TRANSFORMER\n",
      "2023-06-07 06:29:57 INFO: POS REMOVAL\n",
      "2023-06-07 06:29:57 INFO: DOCUMENT TRANSFORMER\n",
      "2023-06-07 06:29:58 INFO: POS REMOVAL\n",
      "2023-06-07 06:29:58 INFO: DOCUMENT TRANSFORMER\n",
      "2023-06-07 06:29:59 INFO: POS REMOVAL\n",
      "2023-06-07 06:29:59 INFO: DOCUMENT TRANSFORMER\n",
      "2023-06-07 06:29:59 INFO: POS REMOVAL\n",
      "2023-06-07 06:29:59 INFO: DOCUMENT TRANSFORMER\n",
      "2023-06-07 06:30:00 INFO: POS REMOVAL\n",
      "2023-06-07 06:30:00 INFO: DOCUMENT TRANSFORMER\n",
      "2023-06-07 06:30:01 INFO: POS REMOVAL\n",
      "2023-06-07 06:30:01 INFO: DOCUMENT TRANSFORMER\n",
      "2023-06-07 06:30:01 INFO: POS REMOVAL\n",
      "2023-06-07 06:30:01 INFO: DOCUMENT TRANSFORMER\n",
      "2023-06-07 06:30:02 INFO: POS REMOVAL\n",
      "2023-06-07 06:30:02 INFO: DOCUMENT TRANSFORMER\n",
      "2023-06-07 06:30:03 INFO: POS REMOVAL\n",
      "2023-06-07 06:30:03 INFO: DOCUMENT TRANSFORMER\n",
      "2023-06-07 06:30:03 INFO: POS REMOVAL\n",
      "2023-06-07 06:30:03 INFO: DOCUMENT TRANSFORMER\n",
      "2023-06-07 06:30:04 INFO: POS REMOVAL\n",
      "2023-06-07 06:30:04 INFO: DOCUMENT TRANSFORMER\n",
      "2023-06-07 06:30:05 INFO: POS REMOVAL\n",
      "2023-06-07 06:30:05 INFO: DOCUMENT TRANSFORMER\n",
      "2023-06-07 06:30:07 INFO: POS REMOVAL\n",
      "2023-06-07 06:30:07 INFO: DOCUMENT TRANSFORMER\n",
      "2023-06-07 06:30:07 INFO: POS REMOVAL\n",
      "2023-06-07 06:30:08 INFO: DOCUMENT TRANSFORMER\n",
      "2023-06-07 06:30:08 INFO: POS REMOVAL\n",
      "2023-06-07 06:30:08 INFO: DOCUMENT TRANSFORMER\n",
      "2023-06-07 06:30:09 INFO: POS REMOVAL\n",
      "2023-06-07 06:30:09 INFO: DOCUMENT TRANSFORMER\n",
      "2023-06-07 06:30:10 INFO: POS REMOVAL\n",
      "2023-06-07 06:30:10 INFO: DOCUMENT TRANSFORMER\n",
      "2023-06-07 06:30:11 INFO: POS REMOVAL\n",
      "2023-06-07 06:30:11 INFO: DOCUMENT TRANSFORMER\n",
      "2023-06-07 06:30:12 INFO: POS REMOVAL\n",
      "2023-06-07 06:30:12 INFO: DOCUMENT TRANSFORMER\n",
      "2023-06-07 06:30:13 INFO: POS REMOVAL\n",
      "2023-06-07 06:30:13 INFO: DOCUMENT TRANSFORMER\n",
      "2023-06-07 06:30:14 INFO: POS REMOVAL\n",
      "2023-06-07 06:30:14 INFO: DOCUMENT TRANSFORMER\n",
      "2023-06-07 06:30:15 INFO: POS REMOVAL\n",
      "2023-06-07 06:30:15 INFO: DOCUMENT TRANSFORMER\n",
      "2023-06-07 06:30:15 INFO: POS REMOVAL\n",
      "2023-06-07 06:30:16 INFO: DOCUMENT TRANSFORMER\n",
      "2023-06-07 06:30:16 INFO: POS REMOVAL\n",
      "2023-06-07 06:30:16 INFO: DOCUMENT TRANSFORMER\n",
      "2023-06-07 06:30:17 INFO: POS REMOVAL\n",
      "2023-06-07 06:30:17 INFO: DOCUMENT TRANSFORMER\n",
      "2023-06-07 06:30:18 INFO: POS REMOVAL\n",
      "2023-06-07 06:30:18 INFO: DOCUMENT TRANSFORMER\n",
      "2023-06-07 06:30:19 INFO: POS REMOVAL\n",
      "2023-06-07 06:30:19 INFO: DOCUMENT TRANSFORMER\n",
      "2023-06-07 06:30:20 INFO: POS REMOVAL\n",
      "2023-06-07 06:30:20 INFO: DOCUMENT TRANSFORMER\n",
      "2023-06-07 06:30:21 INFO: POS REMOVAL\n",
      "2023-06-07 06:30:21 INFO: DOCUMENT TRANSFORMER\n",
      "2023-06-07 06:30:22 INFO: POS REMOVAL\n",
      "2023-06-07 06:30:22 INFO: DOCUMENT TRANSFORMER\n",
      "2023-06-07 06:30:22 INFO: POS REMOVAL\n",
      "2023-06-07 06:30:23 INFO: DOCUMENT TRANSFORMER\n",
      "2023-06-07 06:30:23 INFO: POS REMOVAL\n",
      "2023-06-07 06:30:23 INFO: DOCUMENT TRANSFORMER\n",
      "2023-06-07 06:30:24 INFO: POS REMOVAL\n",
      "2023-06-07 06:30:24 INFO: DOCUMENT TRANSFORMER\n",
      "2023-06-07 06:30:24 INFO: POS REMOVAL\n",
      "2023-06-07 06:30:25 INFO: DOCUMENT TRANSFORMER\n",
      "2023-06-07 06:30:25 INFO: POS REMOVAL\n",
      "2023-06-07 06:30:25 INFO: DOCUMENT TRANSFORMER\n",
      "2023-06-07 06:30:26 INFO: POS REMOVAL\n",
      "2023-06-07 06:30:26 INFO: DOCUMENT TRANSFORMER\n",
      "2023-06-07 06:30:26 INFO: POS REMOVAL\n",
      "2023-06-07 06:30:26 INFO: DOCUMENT TRANSFORMER\n",
      "2023-06-07 06:30:27 INFO: POS REMOVAL\n",
      "2023-06-07 06:30:27 INFO: DOCUMENT TRANSFORMER\n",
      "2023-06-07 06:30:28 INFO: POS REMOVAL\n",
      "2023-06-07 06:30:28 INFO: DOCUMENT TRANSFORMER\n",
      "2023-06-07 06:30:28 INFO: POS REMOVAL\n",
      "2023-06-07 06:30:29 INFO: DOCUMENT TRANSFORMER\n",
      "2023-06-07 06:30:29 INFO: POS REMOVAL\n",
      "2023-06-07 06:30:29 INFO: DOCUMENT TRANSFORMER\n",
      "2023-06-07 06:30:30 INFO: POS REMOVAL\n",
      "2023-06-07 06:30:30 INFO: DOCUMENT TRANSFORMER\n",
      "2023-06-07 06:30:30 INFO: POS REMOVAL\n",
      "2023-06-07 06:30:31 INFO: DOCUMENT TRANSFORMER\n",
      "2023-06-07 06:30:31 INFO: POS REMOVAL\n",
      "2023-06-07 06:30:31 INFO: DOCUMENT TRANSFORMER\n",
      "2023-06-07 06:30:32 INFO: POS REMOVAL\n",
      "2023-06-07 06:30:32 INFO: DOCUMENT TRANSFORMER\n",
      "2023-06-07 06:30:32 INFO: POS REMOVAL\n",
      "2023-06-07 06:30:33 INFO: DOCUMENT TRANSFORMER\n",
      "2023-06-07 06:30:33 INFO: POS REMOVAL\n",
      "2023-06-07 06:30:33 INFO: DOCUMENT TRANSFORMER\n",
      "2023-06-07 06:30:34 INFO: POS REMOVAL\n",
      "2023-06-07 06:30:34 INFO: DOCUMENT TRANSFORMER\n",
      "2023-06-07 06:30:35 INFO: POS REMOVAL\n",
      "2023-06-07 06:30:35 INFO: DOCUMENT TRANSFORMER\n",
      "2023-06-07 06:30:35 INFO: POS REMOVAL\n",
      "2023-06-07 06:30:35 INFO: DOCUMENT TRANSFORMER\n",
      "2023-06-07 06:30:36 INFO: POS REMOVAL\n",
      "2023-06-07 06:30:36 INFO: DOCUMENT TRANSFORMER\n",
      "2023-06-07 06:30:37 INFO: POS REMOVAL\n",
      "2023-06-07 06:30:37 INFO: DOCUMENT TRANSFORMER\n",
      "2023-06-07 06:30:38 INFO: POS REMOVAL\n",
      "2023-06-07 06:30:38 INFO: DOCUMENT TRANSFORMER\n",
      "2023-06-07 06:30:38 INFO: POS REMOVAL\n",
      "2023-06-07 06:30:39 INFO: DOCUMENT TRANSFORMER\n",
      "2023-06-07 06:30:39 INFO: POS REMOVAL\n",
      "2023-06-07 06:30:39 INFO: DOCUMENT TRANSFORMER\n",
      "2023-06-07 06:30:40 INFO: POS REMOVAL\n",
      "2023-06-07 06:30:40 INFO: DOCUMENT TRANSFORMER\n",
      "2023-06-07 06:30:41 INFO: POS REMOVAL\n",
      "2023-06-07 06:30:41 INFO: DOCUMENT TRANSFORMER\n",
      "2023-06-07 06:30:42 INFO: POS REMOVAL\n",
      "2023-06-07 06:30:42 INFO: DOCUMENT TRANSFORMER\n",
      "2023-06-07 06:30:43 INFO: POS REMOVAL\n",
      "2023-06-07 06:30:43 INFO: DOCUMENT TRANSFORMER\n",
      "2023-06-07 06:30:44 INFO: POS REMOVAL\n",
      "2023-06-07 06:30:44 INFO: DOCUMENT TRANSFORMER\n",
      "2023-06-07 06:30:45 INFO: POS REMOVAL\n",
      "2023-06-07 06:30:45 INFO: DOCUMENT TRANSFORMER\n",
      "2023-06-07 06:30:46 INFO: POS REMOVAL\n",
      "2023-06-07 06:30:46 INFO: DOCUMENT TRANSFORMER\n",
      "2023-06-07 06:30:46 INFO: POS REMOVAL\n",
      "2023-06-07 06:30:47 INFO: DOCUMENT TRANSFORMER\n",
      "2023-06-07 06:30:47 INFO: POS REMOVAL\n",
      "2023-06-07 06:30:47 INFO: DOCUMENT TRANSFORMER\n",
      "2023-06-07 06:30:48 INFO: POS REMOVAL\n",
      "2023-06-07 06:30:48 INFO: DOCUMENT TRANSFORMER\n",
      "2023-06-07 06:30:49 INFO: POS REMOVAL\n",
      "2023-06-07 06:30:49 INFO: DOCUMENT TRANSFORMER\n",
      "2023-06-07 06:30:50 INFO: POS REMOVAL\n",
      "2023-06-07 06:30:50 INFO: DOCUMENT TRANSFORMER\n",
      "2023-06-07 06:30:50 INFO: POS REMOVAL\n",
      "2023-06-07 06:30:51 INFO: DOCUMENT TRANSFORMER\n",
      "2023-06-07 06:30:51 INFO: POS REMOVAL\n",
      "2023-06-07 06:30:51 INFO: DOCUMENT TRANSFORMER\n",
      "2023-06-07 06:30:52 INFO: POS REMOVAL\n",
      "2023-06-07 06:30:52 INFO: DOCUMENT TRANSFORMER\n",
      "2023-06-07 06:30:53 INFO: POS REMOVAL\n",
      "2023-06-07 06:30:53 INFO: DOCUMENT TRANSFORMER\n",
      "2023-06-07 06:30:54 INFO: POS REMOVAL\n",
      "2023-06-07 06:30:54 INFO: DOCUMENT TRANSFORMER\n",
      "2023-06-07 06:30:54 INFO: POS REMOVAL\n",
      "2023-06-07 06:30:54 INFO: DOCUMENT TRANSFORMER\n",
      "2023-06-07 06:30:55 INFO: POS REMOVAL\n",
      "2023-06-07 06:30:55 INFO: DOCUMENT TRANSFORMER\n",
      "2023-06-07 06:30:56 INFO: POS REMOVAL\n",
      "2023-06-07 06:30:56 INFO: DOCUMENT TRANSFORMER\n",
      "2023-06-07 06:30:56 INFO: POS REMOVAL\n",
      "2023-06-07 06:30:56 INFO: DOCUMENT TRANSFORMER\n",
      "2023-06-07 06:30:57 INFO: POS REMOVAL\n",
      "2023-06-07 06:30:57 INFO: DOCUMENT TRANSFORMER\n",
      "2023-06-07 06:30:58 INFO: POS REMOVAL\n",
      "2023-06-07 06:30:58 INFO: DOCUMENT TRANSFORMER\n",
      "2023-06-07 06:30:58 INFO: POS REMOVAL\n",
      "2023-06-07 06:30:58 INFO: DOCUMENT TRANSFORMER\n",
      "2023-06-07 06:30:59 INFO: POS REMOVAL\n",
      "2023-06-07 06:30:59 INFO: DOCUMENT TRANSFORMER\n",
      "2023-06-07 06:31:00 INFO: POS REMOVAL\n",
      "2023-06-07 06:31:00 INFO: DOCUMENT TRANSFORMER\n",
      "2023-06-07 06:31:00 INFO: POS REMOVAL\n",
      "2023-06-07 06:31:01 INFO: DOCUMENT TRANSFORMER\n",
      "2023-06-07 06:31:01 INFO: POS REMOVAL\n",
      "2023-06-07 06:31:01 INFO: DOCUMENT TRANSFORMER\n",
      "2023-06-07 06:31:02 INFO: POS REMOVAL\n",
      "2023-06-07 06:31:02 INFO: DOCUMENT TRANSFORMER\n",
      "2023-06-07 06:31:02 INFO: POS REMOVAL\n",
      "2023-06-07 06:31:03 INFO: DOCUMENT TRANSFORMER\n",
      "2023-06-07 06:31:03 INFO: POS REMOVAL\n",
      "2023-06-07 06:31:03 INFO: DOCUMENT TRANSFORMER\n",
      "2023-06-07 06:31:04 INFO: POS REMOVAL\n",
      "2023-06-07 06:31:04 INFO: DOCUMENT TRANSFORMER\n",
      "2023-06-07 06:31:05 INFO: POS REMOVAL\n",
      "2023-06-07 06:31:05 INFO: DOCUMENT TRANSFORMER\n",
      "2023-06-07 06:31:05 INFO: POS REMOVAL\n",
      "2023-06-07 06:31:05 INFO: DOCUMENT TRANSFORMER\n",
      "2023-06-07 06:31:06 INFO: POS REMOVAL\n",
      "2023-06-07 06:31:06 INFO: DOCUMENT TRANSFORMER\n",
      "2023-06-07 06:31:07 INFO: POS REMOVAL\n",
      "2023-06-07 06:31:07 INFO: DOCUMENT TRANSFORMER\n",
      "2023-06-07 06:31:08 INFO: POS REMOVAL\n",
      "2023-06-07 06:31:08 INFO: DOCUMENT TRANSFORMER\n",
      "2023-06-07 06:31:09 INFO: POS REMOVAL\n",
      "2023-06-07 06:31:09 INFO: DOCUMENT TRANSFORMER\n",
      "2023-06-07 06:31:10 INFO: POS REMOVAL\n",
      "2023-06-07 06:31:10 INFO: DOCUMENT TRANSFORMER\n",
      "2023-06-07 06:31:10 INFO: POS REMOVAL\n",
      "2023-06-07 06:31:11 INFO: DOCUMENT TRANSFORMER\n",
      "2023-06-07 06:31:11 INFO: POS REMOVAL\n",
      "2023-06-07 06:31:11 INFO: DOCUMENT TRANSFORMER\n",
      "2023-06-07 06:31:12 INFO: POS REMOVAL\n",
      "2023-06-07 06:31:12 INFO: DOCUMENT TRANSFORMER\n",
      "2023-06-07 06:31:13 INFO: POS REMOVAL\n",
      "2023-06-07 06:31:13 INFO: DOCUMENT TRANSFORMER\n",
      "2023-06-07 06:31:14 INFO: POS REMOVAL\n",
      "2023-06-07 06:31:14 INFO: DOCUMENT TRANSFORMER\n",
      "2023-06-07 06:31:15 INFO: POS REMOVAL\n",
      "2023-06-07 06:31:15 INFO: DOCUMENT TRANSFORMER\n",
      "2023-06-07 06:31:16 INFO: POS REMOVAL\n",
      "2023-06-07 06:31:16 INFO: DOCUMENT TRANSFORMER\n",
      "2023-06-07 06:31:17 INFO: POS REMOVAL\n",
      "2023-06-07 06:31:17 INFO: DOCUMENT TRANSFORMER\n",
      "2023-06-07 06:31:18 INFO: POS REMOVAL\n",
      "2023-06-07 06:31:18 INFO: DOCUMENT TRANSFORMER\n",
      "2023-06-07 06:31:19 INFO: POS REMOVAL\n",
      "2023-06-07 06:31:19 INFO: DOCUMENT TRANSFORMER\n",
      "2023-06-07 06:31:20 INFO: POS REMOVAL\n",
      "2023-06-07 06:31:20 INFO: DOCUMENT TRANSFORMER\n",
      "2023-06-07 06:31:21 INFO: POS REMOVAL\n",
      "2023-06-07 06:31:21 INFO: DOCUMENT TRANSFORMER\n",
      "2023-06-07 06:31:22 INFO: POS REMOVAL\n",
      "2023-06-07 06:31:22 INFO: DOCUMENT TRANSFORMER\n",
      "2023-06-07 06:31:23 INFO: POS REMOVAL\n",
      "2023-06-07 06:31:23 INFO: DOCUMENT TRANSFORMER\n",
      "2023-06-07 06:31:24 INFO: POS REMOVAL\n",
      "2023-06-07 06:31:24 INFO: DOCUMENT TRANSFORMER\n",
      "2023-06-07 06:31:25 INFO: POS REMOVAL\n",
      "2023-06-07 06:31:25 INFO: DOCUMENT TRANSFORMER\n",
      "2023-06-07 06:31:26 INFO: POS REMOVAL\n",
      "2023-06-07 06:31:26 INFO: DOCUMENT TRANSFORMER\n",
      "2023-06-07 06:31:26 INFO: POS REMOVAL\n",
      "2023-06-07 06:31:26 INFO: DOCUMENT TRANSFORMER\n",
      "2023-06-07 06:31:27 INFO: POS REMOVAL\n",
      "2023-06-07 06:31:27 INFO: DOCUMENT TRANSFORMER\n",
      "2023-06-07 06:31:28 INFO: POS REMOVAL\n",
      "2023-06-07 06:31:28 INFO: DOCUMENT TRANSFORMER\n",
      "2023-06-07 06:31:28 INFO: POS REMOVAL\n",
      "2023-06-07 06:31:28 INFO: DOCUMENT TRANSFORMER\n",
      "2023-06-07 06:31:29 INFO: POS REMOVAL\n",
      "2023-06-07 06:31:29 INFO: DOCUMENT TRANSFORMER\n",
      "2023-06-07 06:31:30 INFO: POS REMOVAL\n",
      "2023-06-07 06:31:30 INFO: DOCUMENT TRANSFORMER\n",
      "2023-06-07 06:31:30 INFO: POS REMOVAL\n",
      "2023-06-07 06:31:30 INFO: DOCUMENT TRANSFORMER\n",
      "2023-06-07 06:31:31 INFO: POS REMOVAL\n",
      "2023-06-07 06:31:31 INFO: DOCUMENT TRANSFORMER\n",
      "2023-06-07 06:31:32 INFO: POS REMOVAL\n",
      "2023-06-07 06:31:32 INFO: DOCUMENT TRANSFORMER\n",
      "2023-06-07 06:31:32 INFO: POS REMOVAL\n",
      "2023-06-07 06:31:32 INFO: DOCUMENT TRANSFORMER\n",
      "2023-06-07 06:31:33 INFO: POS REMOVAL\n",
      "2023-06-07 06:31:33 INFO: DOCUMENT TRANSFORMER\n",
      "2023-06-07 06:31:34 INFO: POS REMOVAL\n",
      "2023-06-07 06:31:34 INFO: DOCUMENT TRANSFORMER\n",
      "2023-06-07 06:31:34 INFO: POS REMOVAL\n",
      "2023-06-07 06:31:34 INFO: DOCUMENT TRANSFORMER\n",
      "2023-06-07 06:31:35 INFO: POS REMOVAL\n",
      "2023-06-07 06:31:35 INFO: DOCUMENT TRANSFORMER\n",
      "2023-06-07 06:31:36 INFO: POS REMOVAL\n",
      "2023-06-07 06:31:36 INFO: DOCUMENT TRANSFORMER\n",
      "2023-06-07 06:31:36 INFO: POS REMOVAL\n",
      "2023-06-07 06:31:36 INFO: DOCUMENT TRANSFORMER\n",
      "2023-06-07 06:31:37 INFO: POS REMOVAL\n",
      "2023-06-07 06:31:37 INFO: DOCUMENT TRANSFORMER\n",
      "2023-06-07 06:31:38 INFO: POS REMOVAL\n",
      "2023-06-07 06:31:38 INFO: DOCUMENT TRANSFORMER\n",
      "2023-06-07 06:31:38 INFO: POS REMOVAL\n",
      "2023-06-07 06:31:38 INFO: DOCUMENT TRANSFORMER\n",
      "2023-06-07 06:31:39 INFO: POS REMOVAL\n",
      "2023-06-07 06:31:39 INFO: DOCUMENT TRANSFORMER\n",
      "2023-06-07 06:31:40 INFO: POS REMOVAL\n",
      "2023-06-07 06:31:40 INFO: DOCUMENT TRANSFORMER\n",
      "2023-06-07 06:31:41 INFO: POS REMOVAL\n",
      "2023-06-07 06:31:41 INFO: DOCUMENT TRANSFORMER\n",
      "2023-06-07 06:31:41 INFO: POS REMOVAL\n",
      "2023-06-07 06:31:42 INFO: DOCUMENT TRANSFORMER\n",
      "2023-06-07 06:31:42 INFO: POS REMOVAL\n",
      "2023-06-07 06:31:42 INFO: DOCUMENT TRANSFORMER\n",
      "2023-06-07 06:31:43 INFO: POS REMOVAL\n",
      "2023-06-07 06:31:43 INFO: DOCUMENT TRANSFORMER\n",
      "2023-06-07 06:31:44 INFO: POS REMOVAL\n",
      "2023-06-07 06:31:44 INFO: DOCUMENT TRANSFORMER\n",
      "2023-06-07 06:31:45 INFO: POS REMOVAL\n",
      "2023-06-07 06:31:45 INFO: DOCUMENT TRANSFORMER\n",
      "2023-06-07 06:31:46 INFO: POS REMOVAL\n",
      "2023-06-07 06:31:46 INFO: DOCUMENT TRANSFORMER\n",
      "2023-06-07 06:31:46 INFO: POS REMOVAL\n",
      "2023-06-07 06:31:46 INFO: DOCUMENT TRANSFORMER\n",
      "2023-06-07 06:31:47 INFO: POS REMOVAL\n",
      "2023-06-07 06:31:47 INFO: DOCUMENT TRANSFORMER\n",
      "2023-06-07 06:31:48 INFO: POS REMOVAL\n",
      "2023-06-07 06:31:48 INFO: DOCUMENT TRANSFORMER\n",
      "2023-06-07 06:31:49 INFO: POS REMOVAL\n",
      "2023-06-07 06:31:49 INFO: DOCUMENT TRANSFORMER\n",
      "2023-06-07 06:31:50 INFO: POS REMOVAL\n",
      "2023-06-07 06:31:50 INFO: DOCUMENT TRANSFORMER\n",
      "2023-06-07 06:31:50 INFO: POS REMOVAL\n",
      "2023-06-07 06:31:50 INFO: DOCUMENT TRANSFORMER\n",
      "2023-06-07 06:31:51 INFO: POS REMOVAL\n",
      "2023-06-07 06:31:51 INFO: DOCUMENT TRANSFORMER\n",
      "2023-06-07 06:31:52 INFO: POS REMOVAL\n",
      "2023-06-07 06:31:52 INFO: DOCUMENT TRANSFORMER\n",
      "2023-06-07 06:31:53 INFO: POS REMOVAL\n",
      "2023-06-07 06:31:53 INFO: DOCUMENT TRANSFORMER\n",
      "2023-06-07 06:31:54 INFO: POS REMOVAL\n",
      "2023-06-07 06:31:54 INFO: DOCUMENT TRANSFORMER\n",
      "2023-06-07 06:31:54 INFO: POS REMOVAL\n",
      "2023-06-07 06:31:54 INFO: DOCUMENT TRANSFORMER\n",
      "2023-06-07 06:31:55 INFO: POS REMOVAL\n",
      "2023-06-07 06:31:55 INFO: DOCUMENT TRANSFORMER\n",
      "2023-06-07 06:31:55 INFO: POS REMOVAL\n",
      "2023-06-07 06:31:55 INFO: DOCUMENT TRANSFORMER\n",
      "2023-06-07 06:31:56 INFO: POS REMOVAL\n",
      "2023-06-07 06:31:56 INFO: DOCUMENT TRANSFORMER\n",
      "2023-06-07 06:31:56 INFO: POS REMOVAL\n",
      "2023-06-07 06:31:56 INFO: DOCUMENT TRANSFORMER\n",
      "2023-06-07 06:31:58 INFO: POS REMOVAL\n",
      "2023-06-07 06:31:58 INFO: DOCUMENT TRANSFORMER\n",
      "2023-06-07 06:31:58 INFO: POS REMOVAL\n",
      "2023-06-07 06:31:58 INFO: DOCUMENT TRANSFORMER\n",
      "2023-06-07 06:31:59 INFO: POS REMOVAL\n",
      "2023-06-07 06:31:59 INFO: DOCUMENT TRANSFORMER\n",
      "2023-06-07 06:31:59 INFO: POS REMOVAL\n",
      "2023-06-07 06:31:59 INFO: DOCUMENT TRANSFORMER\n",
      "2023-06-07 06:32:00 INFO: POS REMOVAL\n",
      "2023-06-07 06:32:00 INFO: DOCUMENT TRANSFORMER\n",
      "2023-06-07 06:32:00 INFO: POS REMOVAL\n",
      "2023-06-07 06:32:00 INFO: DOCUMENT TRANSFORMER\n",
      "2023-06-07 06:32:01 INFO: POS REMOVAL\n",
      "2023-06-07 06:32:01 INFO: DOCUMENT TRANSFORMER\n",
      "2023-06-07 06:32:01 INFO: POS REMOVAL\n",
      "2023-06-07 06:32:01 INFO: DOCUMENT TRANSFORMER\n",
      "2023-06-07 06:32:02 INFO: POS REMOVAL\n",
      "2023-06-07 06:32:02 INFO: DOCUMENT TRANSFORMER\n",
      "2023-06-07 06:32:02 INFO: POS REMOVAL\n",
      "2023-06-07 06:32:02 INFO: DOCUMENT TRANSFORMER\n",
      "2023-06-07 06:32:03 INFO: POS REMOVAL\n",
      "2023-06-07 06:32:03 INFO: DOCUMENT TRANSFORMER\n",
      "2023-06-07 06:32:03 INFO: POS REMOVAL\n",
      "2023-06-07 06:32:03 INFO: DOCUMENT TRANSFORMER\n",
      "2023-06-07 06:32:04 INFO: POS REMOVAL\n",
      "2023-06-07 06:32:04 INFO: DOCUMENT TRANSFORMER\n",
      "2023-06-07 06:32:04 INFO: POS REMOVAL\n",
      "2023-06-07 06:32:04 INFO: DOCUMENT TRANSFORMER\n",
      "2023-06-07 06:32:05 INFO: POS REMOVAL\n",
      "2023-06-07 06:32:05 INFO: DOCUMENT TRANSFORMER\n",
      "2023-06-07 06:32:05 INFO: POS REMOVAL\n",
      "2023-06-07 06:32:05 INFO: DOCUMENT TRANSFORMER\n",
      "2023-06-07 06:32:05 INFO: POS REMOVAL\n",
      "2023-06-07 06:32:06 INFO: DOCUMENT TRANSFORMER\n",
      "2023-06-07 06:32:06 INFO: POS REMOVAL\n",
      "2023-06-07 06:32:06 INFO: DOCUMENT TRANSFORMER\n",
      "2023-06-07 06:32:06 INFO: POS REMOVAL\n",
      "2023-06-07 06:32:07 INFO: DOCUMENT TRANSFORMER\n",
      "2023-06-07 06:32:07 INFO: POS REMOVAL\n",
      "2023-06-07 06:32:07 INFO: DOCUMENT TRANSFORMER\n",
      "2023-06-07 06:32:07 INFO: POS REMOVAL\n",
      "2023-06-07 06:32:07 INFO: DOCUMENT TRANSFORMER\n",
      "2023-06-07 06:32:08 INFO: POS REMOVAL\n",
      "2023-06-07 06:32:08 INFO: DOCUMENT TRANSFORMER\n",
      "2023-06-07 06:32:08 INFO: POS REMOVAL\n",
      "2023-06-07 06:32:08 INFO: DOCUMENT TRANSFORMER\n",
      "2023-06-07 06:32:09 INFO: POS REMOVAL\n",
      "2023-06-07 06:32:09 INFO: DOCUMENT TRANSFORMER\n",
      "2023-06-07 06:32:09 INFO: POS REMOVAL\n",
      "2023-06-07 06:32:09 INFO: DOCUMENT TRANSFORMER\n",
      "2023-06-07 06:32:10 INFO: POS REMOVAL\n",
      "2023-06-07 06:32:10 INFO: DOCUMENT TRANSFORMER\n",
      "2023-06-07 06:32:10 INFO: POS REMOVAL\n",
      "2023-06-07 06:32:10 INFO: DOCUMENT TRANSFORMER\n",
      "2023-06-07 06:32:11 INFO: POS REMOVAL\n",
      "2023-06-07 06:32:11 INFO: DOCUMENT TRANSFORMER\n",
      "2023-06-07 06:32:11 INFO: POS REMOVAL\n",
      "2023-06-07 06:32:11 INFO: DOCUMENT TRANSFORMER\n",
      "2023-06-07 06:32:11 INFO: POS REMOVAL\n",
      "2023-06-07 06:32:12 INFO: DOCUMENT TRANSFORMER\n",
      "2023-06-07 06:32:12 INFO: POS REMOVAL\n",
      "2023-06-07 06:32:12 INFO: DOCUMENT TRANSFORMER\n",
      "2023-06-07 06:32:12 INFO: POS REMOVAL\n",
      "2023-06-07 06:32:13 INFO: DOCUMENT TRANSFORMER\n",
      "2023-06-07 06:32:13 INFO: POS REMOVAL\n",
      "2023-06-07 06:32:13 INFO: DOCUMENT TRANSFORMER\n",
      "2023-06-07 06:32:13 INFO: POS REMOVAL\n",
      "2023-06-07 06:32:14 INFO: DOCUMENT TRANSFORMER\n",
      "2023-06-07 06:32:14 INFO: POS REMOVAL\n",
      "2023-06-07 06:32:14 INFO: DOCUMENT TRANSFORMER\n",
      "2023-06-07 06:32:14 INFO: POS REMOVAL\n",
      "2023-06-07 06:32:15 INFO: DOCUMENT TRANSFORMER\n",
      "2023-06-07 06:32:16 INFO: POS REMOVAL\n",
      "2023-06-07 06:32:16 INFO: DOCUMENT TRANSFORMER\n",
      "2023-06-07 06:32:16 INFO: POS REMOVAL\n",
      "2023-06-07 06:32:16 INFO: DOCUMENT TRANSFORMER\n",
      "2023-06-07 06:32:17 INFO: POS REMOVAL\n",
      "2023-06-07 06:32:17 INFO: DOCUMENT TRANSFORMER\n",
      "2023-06-07 06:32:17 INFO: POS REMOVAL\n",
      "2023-06-07 06:32:17 INFO: DOCUMENT TRANSFORMER\n",
      "2023-06-07 06:32:18 INFO: POS REMOVAL\n",
      "2023-06-07 06:32:18 INFO: DOCUMENT TRANSFORMER\n",
      "2023-06-07 06:32:18 INFO: POS REMOVAL\n",
      "2023-06-07 06:32:18 INFO: DOCUMENT TRANSFORMER\n",
      "2023-06-07 06:32:19 INFO: POS REMOVAL\n",
      "2023-06-07 06:32:19 INFO: DOCUMENT TRANSFORMER\n",
      "2023-06-07 06:32:20 INFO: POS REMOVAL\n",
      "2023-06-07 06:32:20 INFO: DOCUMENT TRANSFORMER\n",
      "2023-06-07 06:32:21 INFO: POS REMOVAL\n",
      "2023-06-07 06:32:21 INFO: DOCUMENT TRANSFORMER\n",
      "2023-06-07 06:32:21 INFO: POS REMOVAL\n",
      "2023-06-07 06:32:21 INFO: DOCUMENT TRANSFORMER\n",
      "2023-06-07 06:32:22 INFO: POS REMOVAL\n",
      "2023-06-07 06:32:22 INFO: DOCUMENT TRANSFORMER\n",
      "2023-06-07 06:32:22 INFO: POS REMOVAL\n",
      "2023-06-07 06:32:22 INFO: DOCUMENT TRANSFORMER\n",
      "2023-06-07 06:32:23 INFO: POS REMOVAL\n",
      "2023-06-07 06:32:23 INFO: DOCUMENT TRANSFORMER\n",
      "2023-06-07 06:32:24 INFO: POS REMOVAL\n",
      "2023-06-07 06:32:24 INFO: DOCUMENT TRANSFORMER\n",
      "2023-06-07 06:32:25 INFO: POS REMOVAL\n",
      "2023-06-07 06:32:25 INFO: DOCUMENT TRANSFORMER\n",
      "2023-06-07 06:32:25 INFO: POS REMOVAL\n",
      "2023-06-07 06:32:25 INFO: DOCUMENT TRANSFORMER\n",
      "2023-06-07 06:32:26 INFO: POS REMOVAL\n",
      "2023-06-07 06:32:26 INFO: DOCUMENT TRANSFORMER\n",
      "2023-06-07 06:32:26 INFO: POS REMOVAL\n",
      "2023-06-07 06:32:26 INFO: DOCUMENT TRANSFORMER\n",
      "2023-06-07 06:32:27 INFO: POS REMOVAL\n",
      "2023-06-07 06:32:27 INFO: DOCUMENT TRANSFORMER\n",
      "2023-06-07 06:32:27 INFO: POS REMOVAL\n",
      "2023-06-07 06:32:28 INFO: DOCUMENT TRANSFORMER\n",
      "2023-06-07 06:32:29 INFO: POS REMOVAL\n",
      "2023-06-07 06:32:29 INFO: DOCUMENT TRANSFORMER\n",
      "2023-06-07 06:32:29 INFO: POS REMOVAL\n",
      "2023-06-07 06:32:29 INFO: DOCUMENT TRANSFORMER\n",
      "2023-06-07 06:32:30 INFO: POS REMOVAL\n",
      "2023-06-07 06:32:30 INFO: DOCUMENT TRANSFORMER\n",
      "2023-06-07 06:32:30 INFO: POS REMOVAL\n",
      "2023-06-07 06:32:30 INFO: DOCUMENT TRANSFORMER\n",
      "2023-06-07 06:32:31 INFO: POS REMOVAL\n",
      "2023-06-07 06:32:31 INFO: DOCUMENT TRANSFORMER\n",
      "2023-06-07 06:32:31 INFO: POS REMOVAL\n",
      "2023-06-07 06:32:32 INFO: DOCUMENT TRANSFORMER\n",
      "2023-06-07 06:32:33 INFO: POS REMOVAL\n",
      "2023-06-07 06:32:33 INFO: DOCUMENT TRANSFORMER\n",
      "2023-06-07 06:32:33 INFO: POS REMOVAL\n",
      "2023-06-07 06:32:33 INFO: DOCUMENT TRANSFORMER\n",
      "2023-06-07 06:32:34 INFO: POS REMOVAL\n",
      "2023-06-07 06:32:34 INFO: DOCUMENT TRANSFORMER\n",
      "2023-06-07 06:32:34 INFO: POS REMOVAL\n",
      "2023-06-07 06:32:34 INFO: DOCUMENT TRANSFORMER\n",
      "2023-06-07 06:32:35 INFO: POS REMOVAL\n",
      "2023-06-07 06:32:35 INFO: DOCUMENT TRANSFORMER\n",
      "2023-06-07 06:32:35 INFO: POS REMOVAL\n",
      "2023-06-07 06:32:35 INFO: DOCUMENT TRANSFORMER\n",
      "2023-06-07 06:32:36 INFO: POS REMOVAL\n",
      "2023-06-07 06:32:36 INFO: DOCUMENT TRANSFORMER\n",
      "2023-06-07 06:32:37 INFO: POS REMOVAL\n",
      "2023-06-07 06:32:37 INFO: DOCUMENT TRANSFORMER\n",
      "2023-06-07 06:32:38 INFO: POS REMOVAL\n",
      "2023-06-07 06:32:38 INFO: DOCUMENT TRANSFORMER\n",
      "2023-06-07 06:32:38 INFO: POS REMOVAL\n",
      "2023-06-07 06:32:38 INFO: DOCUMENT TRANSFORMER\n",
      "2023-06-07 06:32:39 INFO: POS REMOVAL\n",
      "2023-06-07 06:32:39 INFO: DOCUMENT TRANSFORMER\n",
      "2023-06-07 06:32:39 INFO: POS REMOVAL\n",
      "2023-06-07 06:32:39 INFO: DOCUMENT TRANSFORMER\n",
      "2023-06-07 06:32:40 INFO: POS REMOVAL\n",
      "2023-06-07 06:32:40 INFO: DOCUMENT TRANSFORMER\n",
      "2023-06-07 06:32:41 INFO: POS REMOVAL\n",
      "2023-06-07 06:32:41 INFO: DOCUMENT TRANSFORMER\n",
      "2023-06-07 06:32:41 INFO: POS REMOVAL\n",
      "2023-06-07 06:32:41 INFO: DOCUMENT TRANSFORMER\n",
      "2023-06-07 06:32:41 INFO: POS REMOVAL\n",
      "2023-06-07 06:32:42 INFO: DOCUMENT TRANSFORMER\n",
      "2023-06-07 06:32:42 INFO: POS REMOVAL\n",
      "2023-06-07 06:32:42 INFO: DOCUMENT TRANSFORMER\n",
      "2023-06-07 06:32:42 INFO: POS REMOVAL\n",
      "2023-06-07 06:32:43 INFO: DOCUMENT TRANSFORMER\n",
      "2023-06-07 06:32:43 INFO: POS REMOVAL\n",
      "2023-06-07 06:32:43 INFO: DOCUMENT TRANSFORMER\n",
      "2023-06-07 06:32:43 INFO: POS REMOVAL\n",
      "2023-06-07 06:32:44 INFO: DOCUMENT TRANSFORMER\n",
      "2023-06-07 06:32:44 INFO: POS REMOVAL\n",
      "2023-06-07 06:32:44 INFO: DOCUMENT TRANSFORMER\n",
      "2023-06-07 06:32:44 INFO: POS REMOVAL\n",
      "2023-06-07 06:32:44 INFO: DOCUMENT TRANSFORMER\n",
      "2023-06-07 06:32:45 INFO: POS REMOVAL\n",
      "2023-06-07 06:32:45 INFO: DOCUMENT TRANSFORMER\n",
      "2023-06-07 06:32:45 INFO: POS REMOVAL\n",
      "2023-06-07 06:32:45 INFO: DOCUMENT TRANSFORMER\n",
      "2023-06-07 06:32:46 INFO: POS REMOVAL\n",
      "2023-06-07 06:32:46 INFO: DOCUMENT TRANSFORMER\n",
      "2023-06-07 06:32:46 INFO: POS REMOVAL\n",
      "2023-06-07 06:32:46 INFO: DOCUMENT TRANSFORMER\n",
      "2023-06-07 06:32:47 INFO: POS REMOVAL\n",
      "2023-06-07 06:32:47 INFO: DOCUMENT TRANSFORMER\n",
      "2023-06-07 06:32:47 INFO: POS REMOVAL\n",
      "2023-06-07 06:32:47 INFO: DOCUMENT TRANSFORMER\n",
      "2023-06-07 06:32:49 INFO: POS REMOVAL\n",
      "2023-06-07 06:32:49 INFO: DOCUMENT TRANSFORMER\n",
      "2023-06-07 06:32:49 INFO: POS REMOVAL\n",
      "2023-06-07 06:32:49 INFO: DOCUMENT TRANSFORMER\n",
      "2023-06-07 06:32:49 INFO: POS REMOVAL\n",
      "2023-06-07 06:32:50 INFO: DOCUMENT TRANSFORMER\n",
      "2023-06-07 06:32:50 INFO: POS REMOVAL\n",
      "2023-06-07 06:32:50 INFO: DOCUMENT TRANSFORMER\n",
      "2023-06-07 06:32:50 INFO: POS REMOVAL\n",
      "2023-06-07 06:32:50 INFO: DOCUMENT TRANSFORMER\n",
      "2023-06-07 06:32:51 INFO: POS REMOVAL\n",
      "2023-06-07 06:32:51 INFO: DOCUMENT TRANSFORMER\n",
      "2023-06-07 06:32:51 INFO: POS REMOVAL\n",
      "2023-06-07 06:32:51 INFO: DOCUMENT TRANSFORMER\n",
      "2023-06-07 06:32:52 INFO: POS REMOVAL\n",
      "2023-06-07 06:32:52 INFO: DOCUMENT TRANSFORMER\n",
      "2023-06-07 06:32:52 INFO: POS REMOVAL\n",
      "2023-06-07 06:32:52 INFO: DOCUMENT TRANSFORMER\n",
      "2023-06-07 06:32:53 INFO: POS REMOVAL\n",
      "2023-06-07 06:32:53 INFO: DOCUMENT TRANSFORMER\n",
      "2023-06-07 06:32:53 INFO: POS REMOVAL\n",
      "2023-06-07 06:32:53 INFO: DOCUMENT TRANSFORMER\n",
      "2023-06-07 06:32:54 INFO: POS REMOVAL\n",
      "2023-06-07 06:32:54 INFO: DOCUMENT TRANSFORMER\n",
      "2023-06-07 06:32:54 INFO: POS REMOVAL\n",
      "2023-06-07 06:32:54 INFO: DOCUMENT TRANSFORMER\n",
      "2023-06-07 06:32:54 INFO: POS REMOVAL\n",
      "2023-06-07 06:32:55 INFO: DOCUMENT TRANSFORMER\n",
      "2023-06-07 06:32:55 INFO: POS REMOVAL\n",
      "2023-06-07 06:32:55 INFO: DOCUMENT TRANSFORMER\n",
      "2023-06-07 06:32:55 INFO: POS REMOVAL\n",
      "2023-06-07 06:32:55 INFO: DOCUMENT TRANSFORMER\n",
      "2023-06-07 06:32:56 INFO: POS REMOVAL\n",
      "2023-06-07 06:32:56 INFO: DOCUMENT TRANSFORMER\n",
      "2023-06-07 06:32:56 INFO: POS REMOVAL\n",
      "2023-06-07 06:32:56 INFO: DOCUMENT TRANSFORMER\n",
      "2023-06-07 06:32:57 INFO: POS REMOVAL\n",
      "2023-06-07 06:32:57 INFO: DOCUMENT TRANSFORMER\n",
      "2023-06-07 06:32:57 INFO: POS REMOVAL\n",
      "2023-06-07 06:32:57 INFO: DOCUMENT TRANSFORMER\n",
      "2023-06-07 06:32:58 INFO: POS REMOVAL\n",
      "2023-06-07 06:32:58 INFO: DOCUMENT TRANSFORMER\n",
      "2023-06-07 06:32:58 INFO: POS REMOVAL\n",
      "2023-06-07 06:32:58 INFO: DOCUMENT TRANSFORMER\n",
      "2023-06-07 06:32:59 INFO: POS REMOVAL\n",
      "2023-06-07 06:32:59 INFO: DOCUMENT TRANSFORMER\n",
      "2023-06-07 06:32:59 INFO: POS REMOVAL\n",
      "2023-06-07 06:32:59 INFO: DOCUMENT TRANSFORMER\n",
      "2023-06-07 06:33:00 INFO: POS REMOVAL\n",
      "2023-06-07 06:33:00 INFO: DOCUMENT TRANSFORMER\n",
      "2023-06-07 06:33:00 INFO: POS REMOVAL\n",
      "2023-06-07 06:33:00 INFO: DOCUMENT TRANSFORMER\n",
      "2023-06-07 06:33:01 INFO: POS REMOVAL\n",
      "2023-06-07 06:33:01 INFO: DOCUMENT TRANSFORMER\n",
      "2023-06-07 06:33:01 INFO: POS REMOVAL\n",
      "2023-06-07 06:33:01 INFO: DOCUMENT TRANSFORMER\n",
      "2023-06-07 06:33:02 INFO: POS REMOVAL\n",
      "2023-06-07 06:33:02 INFO: DOCUMENT TRANSFORMER\n",
      "2023-06-07 06:33:02 INFO: POS REMOVAL\n",
      "2023-06-07 06:33:03 INFO: DOCUMENT TRANSFORMER\n",
      "2023-06-07 06:33:03 INFO: POS REMOVAL\n",
      "2023-06-07 06:33:03 INFO: DOCUMENT TRANSFORMER\n",
      "2023-06-07 06:33:04 INFO: POS REMOVAL\n",
      "2023-06-07 06:33:04 INFO: DOCUMENT TRANSFORMER\n",
      "2023-06-07 06:33:04 INFO: POS REMOVAL\n",
      "2023-06-07 06:33:04 INFO: DOCUMENT TRANSFORMER\n",
      "2023-06-07 06:33:05 INFO: POS REMOVAL\n",
      "2023-06-07 06:33:05 INFO: DOCUMENT TRANSFORMER\n",
      "2023-06-07 06:33:06 INFO: POS REMOVAL\n",
      "2023-06-07 06:33:06 INFO: DOCUMENT TRANSFORMER\n",
      "2023-06-07 06:33:06 INFO: POS REMOVAL\n",
      "2023-06-07 06:33:06 INFO: DOCUMENT TRANSFORMER\n",
      "2023-06-07 06:33:07 INFO: POS REMOVAL\n",
      "2023-06-07 06:33:07 INFO: DOCUMENT TRANSFORMER\n",
      "2023-06-07 06:33:07 INFO: POS REMOVAL\n",
      "2023-06-07 06:33:07 INFO: DOCUMENT TRANSFORMER\n",
      "2023-06-07 06:33:08 INFO: POS REMOVAL\n",
      "2023-06-07 06:33:08 INFO: DOCUMENT TRANSFORMER\n",
      "2023-06-07 06:33:08 INFO: POS REMOVAL\n",
      "2023-06-07 06:33:08 INFO: DOCUMENT TRANSFORMER\n",
      "2023-06-07 06:33:09 INFO: POS REMOVAL\n",
      "2023-06-07 06:33:09 INFO: DOCUMENT TRANSFORMER\n",
      "2023-06-07 06:33:09 INFO: POS REMOVAL\n",
      "2023-06-07 06:33:09 INFO: DOCUMENT TRANSFORMER\n",
      "2023-06-07 06:33:10 INFO: POS REMOVAL\n",
      "2023-06-07 06:33:10 INFO: DOCUMENT TRANSFORMER\n",
      "2023-06-07 06:33:10 INFO: POS REMOVAL\n",
      "2023-06-07 06:33:11 INFO: DOCUMENT TRANSFORMER\n",
      "2023-06-07 06:33:11 INFO: POS REMOVAL\n",
      "2023-06-07 06:33:11 INFO: DOCUMENT TRANSFORMER\n",
      "2023-06-07 06:33:12 INFO: POS REMOVAL\n",
      "2023-06-07 06:33:12 INFO: DOCUMENT TRANSFORMER\n",
      "2023-06-07 06:33:13 INFO: POS REMOVAL\n",
      "2023-06-07 06:33:13 INFO: DOCUMENT TRANSFORMER\n",
      "2023-06-07 06:33:13 INFO: POS REMOVAL\n",
      "2023-06-07 06:33:13 INFO: DOCUMENT TRANSFORMER\n",
      "2023-06-07 06:33:14 INFO: POS REMOVAL\n",
      "2023-06-07 06:33:14 INFO: DOCUMENT TRANSFORMER\n",
      "2023-06-07 06:33:14 INFO: POS REMOVAL\n",
      "2023-06-07 06:33:14 INFO: DOCUMENT TRANSFORMER\n",
      "2023-06-07 06:33:15 INFO: POS REMOVAL\n",
      "2023-06-07 06:33:15 INFO: DOCUMENT TRANSFORMER\n",
      "2023-06-07 06:33:15 INFO: POS REMOVAL\n",
      "2023-06-07 06:33:15 INFO: DOCUMENT TRANSFORMER\n",
      "2023-06-07 06:33:16 INFO: POS REMOVAL\n",
      "2023-06-07 06:33:16 INFO: DOCUMENT TRANSFORMER\n",
      "2023-06-07 06:33:16 INFO: POS REMOVAL\n",
      "2023-06-07 06:33:16 INFO: DOCUMENT TRANSFORMER\n",
      "2023-06-07 06:33:17 INFO: POS REMOVAL\n",
      "2023-06-07 06:33:17 INFO: DOCUMENT TRANSFORMER\n",
      "2023-06-07 06:33:17 INFO: POS REMOVAL\n",
      "2023-06-07 06:33:17 INFO: DOCUMENT TRANSFORMER\n",
      "2023-06-07 06:33:18 INFO: POS REMOVAL\n",
      "2023-06-07 06:33:18 INFO: DOCUMENT TRANSFORMER\n",
      "2023-06-07 06:33:18 INFO: POS REMOVAL\n",
      "2023-06-07 06:33:18 INFO: DOCUMENT TRANSFORMER\n",
      "2023-06-07 06:33:19 INFO: POS REMOVAL\n",
      "2023-06-07 06:33:19 INFO: DOCUMENT TRANSFORMER\n",
      "2023-06-07 06:33:19 INFO: POS REMOVAL\n",
      "2023-06-07 06:33:20 INFO: DOCUMENT TRANSFORMER\n",
      "2023-06-07 06:33:20 INFO: POS REMOVAL\n",
      "2023-06-07 06:33:20 INFO: DOCUMENT TRANSFORMER\n",
      "2023-06-07 06:33:21 INFO: POS REMOVAL\n",
      "2023-06-07 06:33:21 INFO: DOCUMENT TRANSFORMER\n",
      "2023-06-07 06:33:22 INFO: POS REMOVAL\n",
      "2023-06-07 06:33:22 INFO: DOCUMENT TRANSFORMER\n",
      "2023-06-07 06:33:22 INFO: POS REMOVAL\n",
      "2023-06-07 06:33:22 INFO: DOCUMENT TRANSFORMER\n",
      "2023-06-07 06:33:23 INFO: POS REMOVAL\n",
      "2023-06-07 06:33:23 INFO: DOCUMENT TRANSFORMER\n",
      "2023-06-07 06:33:23 INFO: POS REMOVAL\n",
      "2023-06-07 06:33:23 INFO: DOCUMENT TRANSFORMER\n",
      "2023-06-07 06:33:24 INFO: POS REMOVAL\n",
      "2023-06-07 06:33:24 INFO: DOCUMENT TRANSFORMER\n",
      "2023-06-07 06:33:24 INFO: POS REMOVAL\n",
      "2023-06-07 06:33:24 INFO: DOCUMENT TRANSFORMER\n",
      "2023-06-07 06:33:25 INFO: POS REMOVAL\n",
      "2023-06-07 06:33:25 INFO: DOCUMENT TRANSFORMER\n",
      "2023-06-07 06:33:25 INFO: POS REMOVAL\n",
      "2023-06-07 06:33:25 INFO: DOCUMENT TRANSFORMER\n",
      "2023-06-07 06:33:26 INFO: POS REMOVAL\n",
      "2023-06-07 06:33:26 INFO: DOCUMENT TRANSFORMER\n",
      "2023-06-07 06:33:26 INFO: POS REMOVAL\n",
      "2023-06-07 06:33:26 INFO: DOCUMENT TRANSFORMER\n",
      "2023-06-07 06:33:27 INFO: POS REMOVAL\n",
      "2023-06-07 06:33:27 INFO: DOCUMENT TRANSFORMER\n",
      "2023-06-07 06:33:27 INFO: POS REMOVAL\n",
      "2023-06-07 06:33:27 INFO: DOCUMENT TRANSFORMER\n",
      "2023-06-07 06:33:28 INFO: POS REMOVAL\n",
      "2023-06-07 06:33:28 INFO: DOCUMENT TRANSFORMER\n",
      "2023-06-07 06:33:28 INFO: POS REMOVAL\n",
      "2023-06-07 06:33:28 INFO: DOCUMENT TRANSFORMER\n",
      "2023-06-07 06:33:29 INFO: POS REMOVAL\n",
      "2023-06-07 06:33:29 INFO: DOCUMENT TRANSFORMER\n",
      "2023-06-07 06:33:29 INFO: POS REMOVAL\n",
      "2023-06-07 06:33:29 INFO: DOCUMENT TRANSFORMER\n",
      "2023-06-07 06:33:30 INFO: POS REMOVAL\n",
      "2023-06-07 06:33:30 INFO: DOCUMENT TRANSFORMER\n",
      "2023-06-07 06:33:30 INFO: POS REMOVAL\n",
      "2023-06-07 06:33:30 INFO: DOCUMENT TRANSFORMER\n",
      "2023-06-07 06:33:31 INFO: POS REMOVAL\n",
      "2023-06-07 06:33:31 INFO: DOCUMENT TRANSFORMER\n",
      "2023-06-07 06:33:31 INFO: POS REMOVAL\n",
      "2023-06-07 06:33:31 INFO: DOCUMENT TRANSFORMER\n",
      "2023-06-07 06:33:32 INFO: POS REMOVAL\n",
      "2023-06-07 06:33:32 INFO: DOCUMENT TRANSFORMER\n",
      "2023-06-07 06:33:32 INFO: POS REMOVAL\n",
      "2023-06-07 06:33:32 INFO: DOCUMENT TRANSFORMER\n",
      "2023-06-07 06:33:33 INFO: POS REMOVAL\n",
      "2023-06-07 06:33:33 INFO: DOCUMENT TRANSFORMER\n",
      "2023-06-07 06:33:33 INFO: POS REMOVAL\n",
      "2023-06-07 06:33:33 INFO: DOCUMENT TRANSFORMER\n",
      "2023-06-07 06:33:34 INFO: POS REMOVAL\n",
      "2023-06-07 06:33:34 INFO: DOCUMENT TRANSFORMER\n",
      "2023-06-07 06:33:34 INFO: POS REMOVAL\n",
      "2023-06-07 06:33:34 INFO: DOCUMENT TRANSFORMER\n",
      "2023-06-07 06:33:35 INFO: POS REMOVAL\n",
      "2023-06-07 06:33:35 INFO: DOCUMENT TRANSFORMER\n",
      "2023-06-07 06:33:35 INFO: POS REMOVAL\n",
      "2023-06-07 06:33:35 INFO: DOCUMENT TRANSFORMER\n",
      "2023-06-07 06:33:36 INFO: POS REMOVAL\n",
      "2023-06-07 06:33:36 INFO: DOCUMENT TRANSFORMER\n",
      "2023-06-07 06:33:36 INFO: POS REMOVAL\n",
      "2023-06-07 06:33:36 INFO: DOCUMENT TRANSFORMER\n",
      "2023-06-07 06:33:37 INFO: POS REMOVAL\n",
      "2023-06-07 06:33:37 INFO: DOCUMENT TRANSFORMER\n",
      "2023-06-07 06:33:37 INFO: POS REMOVAL\n",
      "2023-06-07 06:33:37 INFO: DOCUMENT TRANSFORMER\n",
      "2023-06-07 06:33:38 INFO: POS REMOVAL\n",
      "2023-06-07 06:33:38 INFO: DOCUMENT TRANSFORMER\n",
      "2023-06-07 06:33:38 INFO: POS REMOVAL\n",
      "2023-06-07 06:33:38 INFO: DOCUMENT TRANSFORMER\n",
      "2023-06-07 06:33:39 INFO: POS REMOVAL\n",
      "2023-06-07 06:33:39 INFO: DOCUMENT TRANSFORMER\n",
      "2023-06-07 06:33:39 INFO: POS REMOVAL\n",
      "2023-06-07 06:33:39 INFO: DOCUMENT TRANSFORMER\n",
      "2023-06-07 06:33:40 INFO: POS REMOVAL\n",
      "2023-06-07 06:33:40 INFO: DOCUMENT TRANSFORMER\n",
      "2023-06-07 06:33:40 INFO: POS REMOVAL\n",
      "2023-06-07 06:33:40 INFO: DOCUMENT TRANSFORMER\n",
      "2023-06-07 06:33:41 INFO: POS REMOVAL\n",
      "2023-06-07 06:33:41 INFO: DOCUMENT TRANSFORMER\n",
      "2023-06-07 06:33:41 INFO: POS REMOVAL\n",
      "2023-06-07 06:33:41 INFO: DOCUMENT TRANSFORMER\n",
      "2023-06-07 06:33:42 INFO: POS REMOVAL\n",
      "2023-06-07 06:33:42 INFO: DOCUMENT TRANSFORMER\n",
      "2023-06-07 06:33:42 INFO: POS REMOVAL\n",
      "2023-06-07 06:33:42 INFO: DOCUMENT TRANSFORMER\n",
      "2023-06-07 06:33:43 INFO: POS REMOVAL\n",
      "2023-06-07 06:33:43 INFO: DOCUMENT TRANSFORMER\n",
      "2023-06-07 06:33:43 INFO: POS REMOVAL\n",
      "2023-06-07 06:33:43 INFO: DOCUMENT TRANSFORMER\n",
      "2023-06-07 06:33:44 INFO: POS REMOVAL\n",
      "2023-06-07 06:33:44 INFO: DOCUMENT TRANSFORMER\n",
      "2023-06-07 06:33:44 INFO: POS REMOVAL\n",
      "2023-06-07 06:33:44 INFO: DOCUMENT TRANSFORMER\n",
      "2023-06-07 06:33:45 INFO: POS REMOVAL\n",
      "2023-06-07 06:33:46 INFO: DOCUMENT TRANSFORMER\n",
      "2023-06-07 06:33:46 INFO: POS REMOVAL\n",
      "2023-06-07 06:33:46 INFO: DOCUMENT TRANSFORMER\n",
      "2023-06-07 06:33:47 INFO: POS REMOVAL\n",
      "2023-06-07 06:33:47 INFO: DOCUMENT TRANSFORMER\n",
      "2023-06-07 06:33:47 INFO: POS REMOVAL\n",
      "2023-06-07 06:33:47 INFO: DOCUMENT TRANSFORMER\n",
      "2023-06-07 06:33:48 INFO: POS REMOVAL\n",
      "2023-06-07 06:33:48 INFO: DOCUMENT TRANSFORMER\n",
      "2023-06-07 06:33:48 INFO: POS REMOVAL\n",
      "2023-06-07 06:33:48 INFO: DOCUMENT TRANSFORMER\n",
      "2023-06-07 06:33:49 INFO: POS REMOVAL\n",
      "2023-06-07 06:33:49 INFO: DOCUMENT TRANSFORMER\n",
      "2023-06-07 06:33:50 INFO: POS REMOVAL\n",
      "2023-06-07 06:33:50 INFO: DOCUMENT TRANSFORMER\n",
      "2023-06-07 06:33:51 INFO: POS REMOVAL\n",
      "2023-06-07 06:33:51 INFO: DOCUMENT TRANSFORMER\n",
      "2023-06-07 06:33:51 INFO: POS REMOVAL\n",
      "2023-06-07 06:33:51 INFO: DOCUMENT TRANSFORMER\n",
      "2023-06-07 06:33:52 INFO: POS REMOVAL\n",
      "2023-06-07 06:33:52 INFO: DOCUMENT TRANSFORMER\n",
      "2023-06-07 06:33:52 INFO: POS REMOVAL\n",
      "2023-06-07 06:33:52 INFO: DOCUMENT TRANSFORMER\n",
      "2023-06-07 06:33:53 INFO: POS REMOVAL\n",
      "2023-06-07 06:33:53 INFO: DOCUMENT TRANSFORMER\n",
      "2023-06-07 06:33:53 INFO: POS REMOVAL\n",
      "2023-06-07 06:33:54 INFO: DOCUMENT TRANSFORMER\n",
      "2023-06-07 06:33:55 INFO: POS REMOVAL\n",
      "2023-06-07 06:33:55 INFO: DOCUMENT TRANSFORMER\n",
      "2023-06-07 06:33:55 INFO: POS REMOVAL\n",
      "2023-06-07 06:33:55 INFO: DOCUMENT TRANSFORMER\n",
      "2023-06-07 06:33:56 INFO: POS REMOVAL\n",
      "2023-06-07 06:33:56 INFO: DOCUMENT TRANSFORMER\n",
      "2023-06-07 06:33:56 INFO: POS REMOVAL\n",
      "2023-06-07 06:33:56 INFO: DOCUMENT TRANSFORMER\n",
      "2023-06-07 06:33:57 INFO: POS REMOVAL\n",
      "2023-06-07 06:33:57 INFO: DOCUMENT TRANSFORMER\n",
      "2023-06-07 06:33:57 INFO: POS REMOVAL\n",
      "2023-06-07 06:33:58 INFO: DOCUMENT TRANSFORMER\n",
      "2023-06-07 06:33:59 INFO: POS REMOVAL\n",
      "2023-06-07 06:33:59 INFO: DOCUMENT TRANSFORMER\n",
      "2023-06-07 06:33:59 INFO: POS REMOVAL\n",
      "2023-06-07 06:33:59 INFO: DOCUMENT TRANSFORMER\n",
      "2023-06-07 06:34:00 INFO: POS REMOVAL\n",
      "2023-06-07 06:34:00 INFO: DOCUMENT TRANSFORMER\n",
      "2023-06-07 06:34:00 INFO: POS REMOVAL\n",
      "2023-06-07 06:34:00 INFO: DOCUMENT TRANSFORMER\n",
      "2023-06-07 06:34:01 INFO: POS REMOVAL\n",
      "2023-06-07 06:34:01 INFO: DOCUMENT TRANSFORMER\n",
      "2023-06-07 06:34:02 INFO: POS REMOVAL\n",
      "2023-06-07 06:34:02 INFO: DOCUMENT TRANSFORMER\n",
      "2023-06-07 06:34:03 INFO: POS REMOVAL\n",
      "2023-06-07 06:34:03 INFO: DOCUMENT TRANSFORMER\n",
      "2023-06-07 06:34:03 INFO: POS REMOVAL\n",
      "2023-06-07 06:34:03 INFO: DOCUMENT TRANSFORMER\n",
      "2023-06-07 06:34:04 INFO: POS REMOVAL\n",
      "2023-06-07 06:34:04 INFO: DOCUMENT TRANSFORMER\n",
      "2023-06-07 06:34:04 INFO: POS REMOVAL\n",
      "2023-06-07 06:34:04 INFO: DOCUMENT TRANSFORMER\n",
      "2023-06-07 06:34:05 INFO: POS REMOVAL\n",
      "2023-06-07 06:34:05 INFO: DOCUMENT TRANSFORMER\n",
      "2023-06-07 06:34:05 INFO: POS REMOVAL\n",
      "2023-06-07 06:34:05 INFO: DOCUMENT TRANSFORMER\n",
      "2023-06-07 06:34:06 INFO: POS REMOVAL\n",
      "2023-06-07 06:34:06 INFO: DOCUMENT TRANSFORMER\n",
      "2023-06-07 06:34:07 INFO: POS REMOVAL\n",
      "2023-06-07 06:34:07 INFO: DOCUMENT TRANSFORMER\n",
      "2023-06-07 06:34:08 INFO: POS REMOVAL\n",
      "2023-06-07 06:34:08 INFO: DOCUMENT TRANSFORMER\n",
      "2023-06-07 06:34:08 INFO: POS REMOVAL\n",
      "2023-06-07 06:34:08 INFO: DOCUMENT TRANSFORMER\n",
      "2023-06-07 06:34:09 INFO: POS REMOVAL\n",
      "2023-06-07 06:34:09 INFO: DOCUMENT TRANSFORMER\n",
      "2023-06-07 06:34:09 INFO: POS REMOVAL\n",
      "2023-06-07 06:34:09 INFO: DOCUMENT TRANSFORMER\n",
      "2023-06-07 06:34:10 INFO: POS REMOVAL\n",
      "2023-06-07 06:34:10 INFO: DOCUMENT TRANSFORMER\n",
      "2023-06-07 06:34:10 INFO: POS REMOVAL\n",
      "2023-06-07 06:34:10 INFO: DOCUMENT TRANSFORMER\n",
      "2023-06-07 06:34:11 INFO: POS REMOVAL\n",
      "2023-06-07 06:34:11 INFO: DOCUMENT TRANSFORMER\n",
      "2023-06-07 06:34:11 INFO: POS REMOVAL\n",
      "2023-06-07 06:34:11 INFO: DOCUMENT TRANSFORMER\n",
      "2023-06-07 06:34:12 INFO: POS REMOVAL\n",
      "2023-06-07 06:34:12 INFO: DOCUMENT TRANSFORMER\n",
      "2023-06-07 06:34:12 INFO: POS REMOVAL\n",
      "2023-06-07 06:34:12 INFO: DOCUMENT TRANSFORMER\n",
      "2023-06-07 06:34:13 INFO: POS REMOVAL\n",
      "2023-06-07 06:34:13 INFO: DOCUMENT TRANSFORMER\n",
      "2023-06-07 06:34:13 INFO: POS REMOVAL\n",
      "2023-06-07 06:34:13 INFO: DOCUMENT TRANSFORMER\n",
      "2023-06-07 06:34:14 INFO: POS REMOVAL\n",
      "2023-06-07 06:34:14 INFO: DOCUMENT TRANSFORMER\n",
      "2023-06-07 06:34:14 INFO: POS REMOVAL\n",
      "2023-06-07 06:34:14 INFO: DOCUMENT TRANSFORMER\n",
      "2023-06-07 06:34:15 INFO: POS REMOVAL\n",
      "2023-06-07 06:34:15 INFO: DOCUMENT TRANSFORMER\n",
      "2023-06-07 06:34:15 INFO: POS REMOVAL\n",
      "2023-06-07 06:34:15 INFO: DOCUMENT TRANSFORMER\n",
      "2023-06-07 06:34:16 INFO: POS REMOVAL\n",
      "2023-06-07 06:34:16 INFO: DOCUMENT TRANSFORMER\n",
      "2023-06-07 06:34:16 INFO: POS REMOVAL\n",
      "2023-06-07 06:34:16 INFO: DOCUMENT TRANSFORMER\n",
      "2023-06-07 06:34:17 INFO: POS REMOVAL\n",
      "2023-06-07 06:34:17 INFO: DOCUMENT TRANSFORMER\n",
      "2023-06-07 06:34:17 INFO: POS REMOVAL\n",
      "2023-06-07 06:34:17 INFO: DOCUMENT TRANSFORMER\n",
      "2023-06-07 06:34:18 INFO: POS REMOVAL\n",
      "2023-06-07 06:34:18 INFO: DOCUMENT TRANSFORMER\n",
      "2023-06-07 06:34:18 INFO: POS REMOVAL\n",
      "2023-06-07 06:34:18 INFO: DOCUMENT TRANSFORMER\n",
      "2023-06-07 06:34:19 INFO: POS REMOVAL\n",
      "2023-06-07 06:34:19 INFO: DOCUMENT TRANSFORMER\n",
      "2023-06-07 06:34:19 INFO: POS REMOVAL\n",
      "2023-06-07 06:34:19 INFO: DOCUMENT TRANSFORMER\n",
      "2023-06-07 06:34:20 INFO: POS REMOVAL\n",
      "2023-06-07 06:34:20 INFO: DOCUMENT TRANSFORMER\n",
      "2023-06-07 06:34:20 INFO: POS REMOVAL\n",
      "2023-06-07 06:34:20 INFO: DOCUMENT TRANSFORMER\n",
      "2023-06-07 06:34:21 INFO: POS REMOVAL\n",
      "2023-06-07 06:34:21 INFO: DOCUMENT TRANSFORMER\n",
      "2023-06-07 06:34:21 INFO: POS REMOVAL\n",
      "2023-06-07 06:34:21 INFO: DOCUMENT TRANSFORMER\n",
      "2023-06-07 06:34:22 INFO: POS REMOVAL\n",
      "2023-06-07 06:34:22 INFO: DOCUMENT TRANSFORMER\n",
      "2023-06-07 06:34:22 INFO: POS REMOVAL\n",
      "2023-06-07 06:34:22 INFO: DOCUMENT TRANSFORMER\n",
      "2023-06-07 06:34:23 INFO: POS REMOVAL\n",
      "2023-06-07 06:34:23 INFO: DOCUMENT TRANSFORMER\n",
      "2023-06-07 06:34:23 INFO: POS REMOVAL\n",
      "2023-06-07 06:34:23 INFO: DOCUMENT TRANSFORMER\n",
      "2023-06-07 06:34:24 INFO: POS REMOVAL\n",
      "2023-06-07 06:34:24 INFO: DOCUMENT TRANSFORMER\n",
      "2023-06-07 06:34:24 INFO: POS REMOVAL\n",
      "2023-06-07 06:34:24 INFO: DOCUMENT TRANSFORMER\n",
      "2023-06-07 06:34:25 INFO: POS REMOVAL\n",
      "2023-06-07 06:34:25 INFO: DOCUMENT TRANSFORMER\n",
      "2023-06-07 06:34:25 INFO: POS REMOVAL\n",
      "2023-06-07 06:34:25 INFO: DOCUMENT TRANSFORMER\n",
      "2023-06-07 06:34:26 INFO: POS REMOVAL\n",
      "2023-06-07 06:34:26 INFO: DOCUMENT TRANSFORMER\n",
      "2023-06-07 06:34:26 INFO: POS REMOVAL\n",
      "2023-06-07 06:34:26 INFO: DOCUMENT TRANSFORMER\n",
      "2023-06-07 06:34:27 INFO: POS REMOVAL\n",
      "2023-06-07 06:34:27 INFO: DOCUMENT TRANSFORMER\n",
      "2023-06-07 06:34:27 INFO: POS REMOVAL\n",
      "2023-06-07 06:34:27 INFO: DOCUMENT TRANSFORMER\n",
      "2023-06-07 06:34:28 INFO: POS REMOVAL\n",
      "2023-06-07 06:34:28 INFO: DOCUMENT TRANSFORMER\n",
      "2023-06-07 06:34:28 INFO: POS REMOVAL\n",
      "2023-06-07 06:34:28 INFO: DOCUMENT TRANSFORMER\n",
      "2023-06-07 06:34:29 INFO: POS REMOVAL\n",
      "2023-06-07 06:34:29 INFO: DOCUMENT TRANSFORMER\n",
      "2023-06-07 06:34:29 INFO: POS REMOVAL\n",
      "2023-06-07 06:34:29 INFO: DOCUMENT TRANSFORMER\n",
      "2023-06-07 06:34:30 INFO: POS REMOVAL\n",
      "2023-06-07 06:34:30 INFO: DOCUMENT TRANSFORMER\n",
      "2023-06-07 06:34:30 INFO: POS REMOVAL\n",
      "2023-06-07 06:34:30 INFO: DOCUMENT TRANSFORMER\n",
      "2023-06-07 06:34:31 INFO: POS REMOVAL\n",
      "2023-06-07 06:34:31 INFO: DOCUMENT TRANSFORMER\n",
      "2023-06-07 06:34:31 INFO: POS REMOVAL\n",
      "2023-06-07 06:34:31 INFO: DOCUMENT TRANSFORMER\n",
      "2023-06-07 06:34:32 INFO: POS REMOVAL\n",
      "2023-06-07 06:34:32 INFO: DOCUMENT TRANSFORMER\n",
      "2023-06-07 06:34:32 INFO: POS REMOVAL\n",
      "2023-06-07 06:34:32 INFO: DOCUMENT TRANSFORMER\n",
      "2023-06-07 06:34:33 INFO: POS REMOVAL\n",
      "2023-06-07 06:34:33 INFO: DOCUMENT TRANSFORMER\n",
      "2023-06-07 06:34:34 INFO: POS REMOVAL\n",
      "2023-06-07 06:34:34 INFO: DOCUMENT TRANSFORMER\n",
      "2023-06-07 06:34:34 INFO: POS REMOVAL\n",
      "2023-06-07 06:34:35 INFO: DOCUMENT TRANSFORMER\n",
      "2023-06-07 06:34:35 INFO: POS REMOVAL\n",
      "2023-06-07 06:34:35 INFO: DOCUMENT TRANSFORMER\n",
      "2023-06-07 06:34:36 INFO: POS REMOVAL\n",
      "2023-06-07 06:34:36 INFO: DOCUMENT TRANSFORMER\n",
      "2023-06-07 06:34:36 INFO: POS REMOVAL\n",
      "2023-06-07 06:34:36 INFO: DOCUMENT TRANSFORMER\n",
      "2023-06-07 06:34:37 INFO: POS REMOVAL\n",
      "2023-06-07 06:34:37 INFO: DOCUMENT TRANSFORMER\n",
      "2023-06-07 06:34:37 INFO: POS REMOVAL\n",
      "2023-06-07 06:34:37 INFO: DOCUMENT TRANSFORMER\n",
      "2023-06-07 06:34:38 INFO: POS REMOVAL\n",
      "2023-06-07 06:34:38 INFO: DOCUMENT TRANSFORMER\n",
      "2023-06-07 06:34:38 INFO: POS REMOVAL\n",
      "2023-06-07 06:34:38 INFO: DOCUMENT TRANSFORMER\n",
      "2023-06-07 06:34:39 INFO: POS REMOVAL\n",
      "2023-06-07 06:34:39 INFO: DOCUMENT TRANSFORMER\n",
      "2023-06-07 06:34:39 INFO: POS REMOVAL\n",
      "2023-06-07 06:34:39 INFO: DOCUMENT TRANSFORMER\n",
      "2023-06-07 06:34:40 INFO: POS REMOVAL\n",
      "2023-06-07 06:34:40 INFO: DOCUMENT TRANSFORMER\n",
      "2023-06-07 06:34:40 INFO: POS REMOVAL\n",
      "2023-06-07 06:34:40 INFO: DOCUMENT TRANSFORMER\n",
      "2023-06-07 06:34:41 INFO: POS REMOVAL\n",
      "2023-06-07 06:34:41 INFO: DOCUMENT TRANSFORMER\n",
      "2023-06-07 06:34:41 INFO: POS REMOVAL\n",
      "2023-06-07 06:34:42 INFO: DOCUMENT TRANSFORMER\n",
      "2023-06-07 06:34:42 INFO: POS REMOVAL\n",
      "2023-06-07 06:34:42 INFO: DOCUMENT TRANSFORMER\n",
      "2023-06-07 06:34:43 INFO: POS REMOVAL\n",
      "2023-06-07 06:34:43 INFO: DOCUMENT TRANSFORMER\n",
      "2023-06-07 06:34:44 INFO: POS REMOVAL\n",
      "2023-06-07 06:34:44 INFO: DOCUMENT TRANSFORMER\n",
      "2023-06-07 06:34:44 INFO: POS REMOVAL\n",
      "2023-06-07 06:34:44 INFO: DOCUMENT TRANSFORMER\n",
      "2023-06-07 06:34:45 INFO: POS REMOVAL\n",
      "2023-06-07 06:34:45 INFO: DOCUMENT TRANSFORMER\n",
      "2023-06-07 06:34:45 INFO: POS REMOVAL\n",
      "2023-06-07 06:34:45 INFO: DOCUMENT TRANSFORMER\n",
      "2023-06-07 06:34:46 INFO: POS REMOVAL\n",
      "2023-06-07 06:34:46 INFO: DOCUMENT TRANSFORMER\n",
      "2023-06-07 06:34:46 INFO: POS REMOVAL\n",
      "2023-06-07 06:34:46 INFO: DOCUMENT TRANSFORMER\n",
      "2023-06-07 06:34:47 INFO: POS REMOVAL\n",
      "2023-06-07 06:34:47 INFO: DOCUMENT TRANSFORMER\n",
      "2023-06-07 06:34:47 INFO: POS REMOVAL\n",
      "2023-06-07 06:34:47 INFO: DOCUMENT TRANSFORMER\n",
      "2023-06-07 06:34:48 INFO: POS REMOVAL\n",
      "2023-06-07 06:34:48 INFO: DOCUMENT TRANSFORMER\n",
      "2023-06-07 06:34:48 INFO: POS REMOVAL\n",
      "2023-06-07 06:34:48 INFO: DOCUMENT TRANSFORMER\n",
      "2023-06-07 06:34:49 INFO: POS REMOVAL\n",
      "2023-06-07 06:34:49 INFO: DOCUMENT TRANSFORMER\n",
      "2023-06-07 06:34:49 INFO: POS REMOVAL\n",
      "2023-06-07 06:34:50 INFO: DOCUMENT TRANSFORMER\n",
      "2023-06-07 06:34:50 INFO: POS REMOVAL\n",
      "2023-06-07 06:34:51 INFO: DOCUMENT TRANSFORMER\n",
      "2023-06-07 06:34:51 INFO: POS REMOVAL\n",
      "2023-06-07 06:34:51 INFO: DOCUMENT TRANSFORMER\n",
      "2023-06-07 06:34:52 INFO: POS REMOVAL\n",
      "2023-06-07 06:34:52 INFO: DOCUMENT TRANSFORMER\n",
      "2023-06-07 06:34:52 INFO: POS REMOVAL\n",
      "2023-06-07 06:34:52 INFO: DOCUMENT TRANSFORMER\n",
      "2023-06-07 06:34:53 INFO: POS REMOVAL\n",
      "2023-06-07 06:34:53 INFO: DOCUMENT TRANSFORMER\n",
      "2023-06-07 06:34:53 INFO: POS REMOVAL\n",
      "2023-06-07 06:34:53 INFO: DOCUMENT TRANSFORMER\n",
      "2023-06-07 06:34:54 INFO: POS REMOVAL\n",
      "2023-06-07 06:34:54 INFO: DOCUMENT TRANSFORMER\n",
      "2023-06-07 06:34:55 INFO: POS REMOVAL\n",
      "2023-06-07 06:34:55 INFO: DOCUMENT TRANSFORMER\n",
      "2023-06-07 06:34:55 INFO: POS REMOVAL\n",
      "2023-06-07 06:34:55 INFO: DOCUMENT TRANSFORMER\n",
      "2023-06-07 06:34:56 INFO: POS REMOVAL\n",
      "2023-06-07 06:34:56 INFO: DOCUMENT TRANSFORMER\n",
      "2023-06-07 06:34:57 INFO: POS REMOVAL\n",
      "2023-06-07 06:34:57 INFO: DOCUMENT TRANSFORMER\n",
      "2023-06-07 06:34:57 INFO: POS REMOVAL\n",
      "2023-06-07 06:34:57 INFO: DOCUMENT TRANSFORMER\n",
      "2023-06-07 06:34:58 INFO: POS REMOVAL\n",
      "2023-06-07 06:34:58 INFO: DOCUMENT TRANSFORMER\n",
      "2023-06-07 06:34:59 INFO: POS REMOVAL\n",
      "2023-06-07 06:34:59 INFO: DOCUMENT TRANSFORMER\n",
      "2023-06-07 06:34:59 INFO: POS REMOVAL\n",
      "2023-06-07 06:35:00 INFO: DOCUMENT TRANSFORMER\n",
      "2023-06-07 06:35:00 INFO: POS REMOVAL\n",
      "2023-06-07 06:35:00 INFO: DOCUMENT TRANSFORMER\n",
      "2023-06-07 06:35:01 INFO: POS REMOVAL\n",
      "2023-06-07 06:35:01 INFO: DOCUMENT TRANSFORMER\n",
      "2023-06-07 06:35:02 INFO: POS REMOVAL\n",
      "2023-06-07 06:35:02 INFO: DOCUMENT TRANSFORMER\n",
      "2023-06-07 06:35:02 INFO: POS REMOVAL\n",
      "2023-06-07 06:35:02 INFO: DOCUMENT TRANSFORMER\n",
      "2023-06-07 06:35:03 INFO: POS REMOVAL\n",
      "2023-06-07 06:35:03 INFO: DOCUMENT TRANSFORMER\n",
      "2023-06-07 06:35:04 INFO: POS REMOVAL\n",
      "2023-06-07 06:35:04 INFO: DOCUMENT TRANSFORMER\n",
      "2023-06-07 06:35:04 INFO: POS REMOVAL\n",
      "2023-06-07 06:35:04 INFO: DOCUMENT TRANSFORMER\n",
      "2023-06-07 06:35:05 INFO: POS REMOVAL\n",
      "2023-06-07 06:35:05 INFO: DOCUMENT TRANSFORMER\n",
      "2023-06-07 06:35:06 INFO: POS REMOVAL\n",
      "2023-06-07 06:35:06 INFO: DOCUMENT TRANSFORMER\n",
      "2023-06-07 06:35:07 INFO: POS REMOVAL\n",
      "2023-06-07 06:35:07 INFO: DOCUMENT TRANSFORMER\n",
      "2023-06-07 06:35:08 INFO: POS REMOVAL\n",
      "2023-06-07 06:35:08 INFO: DOCUMENT TRANSFORMER\n",
      "2023-06-07 06:35:09 INFO: POS REMOVAL\n",
      "2023-06-07 06:35:09 INFO: DOCUMENT TRANSFORMER\n",
      "2023-06-07 06:35:10 INFO: POS REMOVAL\n",
      "2023-06-07 06:35:10 INFO: DOCUMENT TRANSFORMER\n",
      "2023-06-07 06:35:11 INFO: POS REMOVAL\n",
      "2023-06-07 06:35:11 INFO: DOCUMENT TRANSFORMER\n",
      "2023-06-07 06:35:12 INFO: POS REMOVAL\n",
      "2023-06-07 06:35:12 INFO: DOCUMENT TRANSFORMER\n",
      "2023-06-07 06:35:13 INFO: POS REMOVAL\n",
      "2023-06-07 06:35:13 INFO: DOCUMENT TRANSFORMER\n",
      "2023-06-07 06:35:13 INFO: POS REMOVAL\n",
      "2023-06-07 06:35:14 INFO: DOCUMENT TRANSFORMER\n",
      "2023-06-07 06:35:14 INFO: POS REMOVAL\n",
      "2023-06-07 06:35:14 INFO: DOCUMENT TRANSFORMER\n",
      "2023-06-07 06:35:15 INFO: POS REMOVAL\n",
      "2023-06-07 06:35:15 INFO: DOCUMENT TRANSFORMER\n",
      "2023-06-07 06:35:16 INFO: POS REMOVAL\n",
      "2023-06-07 06:35:16 INFO: DOCUMENT TRANSFORMER\n",
      "2023-06-07 06:35:17 INFO: POS REMOVAL\n",
      "2023-06-07 06:35:17 INFO: DOCUMENT TRANSFORMER\n",
      "2023-06-07 06:35:18 INFO: POS REMOVAL\n",
      "2023-06-07 06:35:18 INFO: DOCUMENT TRANSFORMER\n",
      "2023-06-07 06:35:19 INFO: POS REMOVAL\n",
      "2023-06-07 06:35:19 INFO: DOCUMENT TRANSFORMER\n",
      "2023-06-07 06:35:20 INFO: POS REMOVAL\n",
      "2023-06-07 06:35:20 INFO: DOCUMENT TRANSFORMER\n",
      "2023-06-07 06:35:21 INFO: POS REMOVAL\n",
      "2023-06-07 06:35:21 INFO: DOCUMENT TRANSFORMER\n",
      "2023-06-07 06:35:22 INFO: POS REMOVAL\n",
      "2023-06-07 06:35:22 INFO: DOCUMENT TRANSFORMER\n",
      "2023-06-07 06:35:22 INFO: POS REMOVAL\n",
      "2023-06-07 06:35:23 INFO: DOCUMENT TRANSFORMER\n",
      "2023-06-07 06:35:23 INFO: POS REMOVAL\n",
      "2023-06-07 06:35:23 INFO: DOCUMENT TRANSFORMER\n",
      "2023-06-07 06:35:24 INFO: POS REMOVAL\n",
      "2023-06-07 06:35:24 INFO: DOCUMENT TRANSFORMER\n",
      "2023-06-07 06:35:25 INFO: POS REMOVAL\n",
      "2023-06-07 06:35:25 INFO: DOCUMENT TRANSFORMER\n",
      "2023-06-07 06:35:26 INFO: POS REMOVAL\n",
      "2023-06-07 06:35:26 INFO: DOCUMENT TRANSFORMER\n",
      "2023-06-07 06:35:26 INFO: POS REMOVAL\n",
      "2023-06-07 06:35:26 INFO: DOCUMENT TRANSFORMER\n",
      "2023-06-07 06:35:27 INFO: POS REMOVAL\n",
      "2023-06-07 06:35:27 INFO: DOCUMENT TRANSFORMER\n",
      "2023-06-07 06:35:28 INFO: POS REMOVAL\n",
      "2023-06-07 06:35:28 INFO: DOCUMENT TRANSFORMER\n",
      "2023-06-07 06:35:28 INFO: POS REMOVAL\n",
      "2023-06-07 06:35:28 INFO: DOCUMENT TRANSFORMER\n",
      "2023-06-07 06:35:29 INFO: POS REMOVAL\n",
      "2023-06-07 06:35:29 INFO: DOCUMENT TRANSFORMER\n",
      "2023-06-07 06:35:30 INFO: POS REMOVAL\n",
      "2023-06-07 06:35:30 INFO: DOCUMENT TRANSFORMER\n",
      "2023-06-07 06:35:30 INFO: POS REMOVAL\n",
      "2023-06-07 06:35:30 INFO: DOCUMENT TRANSFORMER\n",
      "2023-06-07 06:35:31 INFO: POS REMOVAL\n",
      "2023-06-07 06:35:31 INFO: DOCUMENT TRANSFORMER\n",
      "2023-06-07 06:35:32 INFO: POS REMOVAL\n",
      "2023-06-07 06:35:32 INFO: DOCUMENT TRANSFORMER\n",
      "2023-06-07 06:35:32 INFO: POS REMOVAL\n",
      "2023-06-07 06:35:32 INFO: DOCUMENT TRANSFORMER\n",
      "2023-06-07 06:35:33 INFO: POS REMOVAL\n",
      "2023-06-07 06:35:33 INFO: DOCUMENT TRANSFORMER\n",
      "2023-06-07 06:35:34 INFO: POS REMOVAL\n",
      "2023-06-07 06:35:34 INFO: DOCUMENT TRANSFORMER\n",
      "2023-06-07 06:35:34 INFO: POS REMOVAL\n",
      "2023-06-07 06:35:34 INFO: DOCUMENT TRANSFORMER\n",
      "2023-06-07 06:35:35 INFO: POS REMOVAL\n",
      "2023-06-07 06:35:35 INFO: DOCUMENT TRANSFORMER\n",
      "2023-06-07 06:35:36 INFO: POS REMOVAL\n",
      "2023-06-07 06:35:36 INFO: DOCUMENT TRANSFORMER\n",
      "2023-06-07 06:35:36 INFO: POS REMOVAL\n",
      "2023-06-07 06:35:37 INFO: DOCUMENT TRANSFORMER\n",
      "2023-06-07 06:35:37 INFO: POS REMOVAL\n",
      "2023-06-07 06:35:37 INFO: DOCUMENT TRANSFORMER\n",
      "2023-06-07 06:35:38 INFO: POS REMOVAL\n",
      "2023-06-07 06:35:38 INFO: DOCUMENT TRANSFORMER\n",
      "2023-06-07 06:35:39 INFO: POS REMOVAL\n",
      "2023-06-07 06:35:39 INFO: DOCUMENT TRANSFORMER\n",
      "2023-06-07 06:35:39 INFO: POS REMOVAL\n",
      "2023-06-07 06:35:39 INFO: DOCUMENT TRANSFORMER\n",
      "2023-06-07 06:35:40 INFO: POS REMOVAL\n",
      "2023-06-07 06:35:40 INFO: DOCUMENT TRANSFORMER\n",
      "2023-06-07 06:35:41 INFO: POS REMOVAL\n",
      "2023-06-07 06:35:41 INFO: DOCUMENT TRANSFORMER\n",
      "2023-06-07 06:35:42 INFO: POS REMOVAL\n",
      "2023-06-07 06:35:42 INFO: DOCUMENT TRANSFORMER\n",
      "2023-06-07 06:35:43 INFO: POS REMOVAL\n",
      "2023-06-07 06:35:43 INFO: DOCUMENT TRANSFORMER\n",
      "2023-06-07 06:35:43 INFO: POS REMOVAL\n",
      "2023-06-07 06:35:44 INFO: DOCUMENT TRANSFORMER\n",
      "2023-06-07 06:35:45 INFO: POS REMOVAL\n",
      "2023-06-07 06:35:45 INFO: DOCUMENT TRANSFORMER\n",
      "2023-06-07 06:35:46 INFO: POS REMOVAL\n",
      "2023-06-07 06:35:46 INFO: DOCUMENT TRANSFORMER\n",
      "2023-06-07 06:35:46 INFO: POS REMOVAL\n",
      "2023-06-07 06:35:46 INFO: DOCUMENT TRANSFORMER\n",
      "2023-06-07 06:35:47 INFO: POS REMOVAL\n",
      "2023-06-07 06:35:47 INFO: DOCUMENT TRANSFORMER\n",
      "2023-06-07 06:35:48 INFO: POS REMOVAL\n",
      "2023-06-07 06:35:48 INFO: DOCUMENT TRANSFORMER\n",
      "2023-06-07 06:35:49 INFO: POS REMOVAL\n",
      "2023-06-07 06:35:49 INFO: DOCUMENT TRANSFORMER\n",
      "2023-06-07 06:35:49 INFO: POS REMOVAL\n",
      "2023-06-07 06:35:49 INFO: DOCUMENT TRANSFORMER\n",
      "2023-06-07 06:35:50 INFO: POS REMOVAL\n",
      "2023-06-07 06:35:50 INFO: DOCUMENT TRANSFORMER\n",
      "2023-06-07 06:35:51 INFO: POS REMOVAL\n",
      "2023-06-07 06:35:51 INFO: DOCUMENT TRANSFORMER\n",
      "2023-06-07 06:35:52 INFO: POS REMOVAL\n",
      "2023-06-07 06:35:52 INFO: DOCUMENT TRANSFORMER\n",
      "2023-06-07 06:35:53 INFO: POS REMOVAL\n",
      "2023-06-07 06:35:53 INFO: DOCUMENT TRANSFORMER\n",
      "2023-06-07 06:35:53 INFO: POS REMOVAL\n",
      "2023-06-07 06:35:53 INFO: DOCUMENT TRANSFORMER\n",
      "2023-06-07 06:35:54 INFO: POS REMOVAL\n",
      "2023-06-07 06:35:54 INFO: DOCUMENT TRANSFORMER\n",
      "2023-06-07 06:35:55 INFO: POS REMOVAL\n",
      "2023-06-07 06:35:55 INFO: DOCUMENT TRANSFORMER\n",
      "2023-06-07 06:35:56 INFO: POS REMOVAL\n",
      "2023-06-07 06:35:56 INFO: DOCUMENT TRANSFORMER\n",
      "2023-06-07 06:35:56 INFO: POS REMOVAL\n",
      "2023-06-07 06:35:56 INFO: DOCUMENT TRANSFORMER\n",
      "2023-06-07 06:35:57 INFO: POS REMOVAL\n",
      "2023-06-07 06:35:57 INFO: DOCUMENT TRANSFORMER\n",
      "2023-06-07 06:35:58 INFO: POS REMOVAL\n",
      "2023-06-07 06:35:58 INFO: DOCUMENT TRANSFORMER\n",
      "2023-06-07 06:35:58 INFO: POS REMOVAL\n",
      "2023-06-07 06:35:58 INFO: DOCUMENT TRANSFORMER\n",
      "2023-06-07 06:35:59 INFO: POS REMOVAL\n",
      "2023-06-07 06:35:59 INFO: DOCUMENT TRANSFORMER\n",
      "2023-06-07 06:36:00 INFO: POS REMOVAL\n",
      "2023-06-07 06:36:00 INFO: DOCUMENT TRANSFORMER\n",
      "2023-06-07 06:36:00 INFO: POS REMOVAL\n",
      "2023-06-07 06:36:00 INFO: DOCUMENT TRANSFORMER\n",
      "2023-06-07 06:36:01 INFO: POS REMOVAL\n",
      "2023-06-07 06:36:01 INFO: DOCUMENT TRANSFORMER\n",
      "2023-06-07 06:36:02 INFO: POS REMOVAL\n",
      "2023-06-07 06:36:02 INFO: DOCUMENT TRANSFORMER\n",
      "2023-06-07 06:36:02 INFO: POS REMOVAL\n",
      "2023-06-07 06:36:02 INFO: DOCUMENT TRANSFORMER\n",
      "2023-06-07 06:36:03 INFO: POS REMOVAL\n",
      "2023-06-07 06:36:03 INFO: DOCUMENT TRANSFORMER\n",
      "2023-06-07 06:36:04 INFO: POS REMOVAL\n",
      "2023-06-07 06:36:04 INFO: DOCUMENT TRANSFORMER\n",
      "2023-06-07 06:36:04 INFO: POS REMOVAL\n",
      "2023-06-07 06:36:05 INFO: DOCUMENT TRANSFORMER\n",
      "2023-06-07 06:36:05 INFO: POS REMOVAL\n",
      "2023-06-07 06:36:05 INFO: DOCUMENT TRANSFORMER\n",
      "2023-06-07 06:36:06 INFO: POS REMOVAL\n",
      "2023-06-07 06:36:06 INFO: DOCUMENT TRANSFORMER\n",
      "2023-06-07 06:36:06 INFO: POS REMOVAL\n",
      "2023-06-07 06:36:07 INFO: DOCUMENT TRANSFORMER\n",
      "2023-06-07 06:36:07 INFO: POS REMOVAL\n",
      "2023-06-07 06:36:07 INFO: DOCUMENT TRANSFORMER\n",
      "2023-06-07 06:36:08 INFO: POS REMOVAL\n",
      "2023-06-07 06:36:08 INFO: DOCUMENT TRANSFORMER\n",
      "2023-06-07 06:36:09 INFO: POS REMOVAL\n",
      "2023-06-07 06:36:09 INFO: DOCUMENT TRANSFORMER\n",
      "2023-06-07 06:36:10 INFO: POS REMOVAL\n",
      "2023-06-07 06:36:10 INFO: DOCUMENT TRANSFORMER\n",
      "2023-06-07 06:36:10 INFO: POS REMOVAL\n",
      "2023-06-07 06:36:11 INFO: DOCUMENT TRANSFORMER\n",
      "2023-06-07 06:36:11 INFO: POS REMOVAL\n",
      "2023-06-07 06:36:11 INFO: DOCUMENT TRANSFORMER\n",
      "2023-06-07 06:36:12 INFO: POS REMOVAL\n",
      "2023-06-07 06:36:12 INFO: DOCUMENT TRANSFORMER\n",
      "2023-06-07 06:36:13 INFO: POS REMOVAL\n",
      "2023-06-07 06:36:13 INFO: DOCUMENT TRANSFORMER\n",
      "2023-06-07 06:36:14 INFO: POS REMOVAL\n",
      "2023-06-07 06:36:14 INFO: DOCUMENT TRANSFORMER\n",
      "2023-06-07 06:36:15 INFO: POS REMOVAL\n",
      "2023-06-07 06:36:15 INFO: DOCUMENT TRANSFORMER\n",
      "2023-06-07 06:36:16 INFO: POS REMOVAL\n",
      "2023-06-07 06:36:16 INFO: DOCUMENT TRANSFORMER\n",
      "2023-06-07 06:36:17 INFO: POS REMOVAL\n",
      "2023-06-07 06:36:17 INFO: DOCUMENT TRANSFORMER\n",
      "2023-06-07 06:36:18 INFO: POS REMOVAL\n",
      "2023-06-07 06:36:18 INFO: DOCUMENT TRANSFORMER\n",
      "2023-06-07 06:36:18 INFO: POS REMOVAL\n",
      "2023-06-07 06:36:19 INFO: DOCUMENT TRANSFORMER\n",
      "2023-06-07 06:36:19 INFO: POS REMOVAL\n",
      "2023-06-07 06:36:19 INFO: DOCUMENT TRANSFORMER\n",
      "2023-06-07 06:36:20 INFO: POS REMOVAL\n",
      "2023-06-07 06:36:20 INFO: DOCUMENT TRANSFORMER\n",
      "2023-06-07 06:36:22 INFO: POS REMOVAL\n",
      "2023-06-07 06:36:22 INFO: DOCUMENT TRANSFORMER\n",
      "2023-06-07 06:36:23 INFO: POS REMOVAL\n",
      "2023-06-07 06:36:23 INFO: DOCUMENT TRANSFORMER\n",
      "2023-06-07 06:36:23 INFO: POS REMOVAL\n",
      "2023-06-07 06:36:24 INFO: DOCUMENT TRANSFORMER\n",
      "2023-06-07 06:36:24 INFO: POS REMOVAL\n",
      "2023-06-07 06:36:24 INFO: DOCUMENT TRANSFORMER\n",
      "2023-06-07 06:36:25 INFO: POS REMOVAL\n",
      "2023-06-07 06:36:25 INFO: DOCUMENT TRANSFORMER\n",
      "2023-06-07 06:36:26 INFO: POS REMOVAL\n",
      "2023-06-07 06:36:26 INFO: DOCUMENT TRANSFORMER\n",
      "2023-06-07 06:36:27 INFO: POS REMOVAL\n",
      "2023-06-07 06:36:27 INFO: DOCUMENT TRANSFORMER\n",
      "2023-06-07 06:36:27 INFO: POS REMOVAL\n",
      "2023-06-07 06:36:28 INFO: DOCUMENT TRANSFORMER\n",
      "2023-06-07 06:36:28 INFO: POS REMOVAL\n",
      "2023-06-07 06:36:28 INFO: DOCUMENT TRANSFORMER\n",
      "2023-06-07 06:36:29 INFO: POS REMOVAL\n",
      "2023-06-07 06:36:29 INFO: DOCUMENT TRANSFORMER\n",
      "2023-06-07 06:36:29 INFO: POS REMOVAL\n",
      "2023-06-07 06:36:30 INFO: DOCUMENT TRANSFORMER\n",
      "2023-06-07 06:36:30 INFO: POS REMOVAL\n",
      "2023-06-07 06:36:30 INFO: DOCUMENT TRANSFORMER\n",
      "2023-06-07 06:36:31 INFO: POS REMOVAL\n",
      "2023-06-07 06:36:31 INFO: DOCUMENT TRANSFORMER\n",
      "2023-06-07 06:36:31 INFO: POS REMOVAL\n",
      "2023-06-07 06:36:31 INFO: DOCUMENT TRANSFORMER\n",
      "2023-06-07 06:36:32 INFO: POS REMOVAL\n",
      "2023-06-07 06:36:32 INFO: DOCUMENT TRANSFORMER\n",
      "2023-06-07 06:36:33 INFO: POS REMOVAL\n",
      "2023-06-07 06:36:33 INFO: DOCUMENT TRANSFORMER\n",
      "2023-06-07 06:36:33 INFO: POS REMOVAL\n",
      "2023-06-07 06:36:33 INFO: DOCUMENT TRANSFORMER\n",
      "2023-06-07 06:36:34 INFO: POS REMOVAL\n",
      "2023-06-07 06:36:34 INFO: DOCUMENT TRANSFORMER\n",
      "2023-06-07 06:36:35 INFO: POS REMOVAL\n",
      "2023-06-07 06:36:35 INFO: DOCUMENT TRANSFORMER\n",
      "2023-06-07 06:36:35 INFO: POS REMOVAL\n",
      "2023-06-07 06:36:36 INFO: DOCUMENT TRANSFORMER\n",
      "2023-06-07 06:36:36 INFO: POS REMOVAL\n",
      "2023-06-07 06:36:36 INFO: DOCUMENT TRANSFORMER\n",
      "2023-06-07 06:36:37 INFO: POS REMOVAL\n",
      "2023-06-07 06:36:37 INFO: DOCUMENT TRANSFORMER\n",
      "2023-06-07 06:36:38 INFO: POS REMOVAL\n",
      "2023-06-07 06:36:38 INFO: DOCUMENT TRANSFORMER\n",
      "2023-06-07 06:36:38 INFO: POS REMOVAL\n",
      "2023-06-07 06:36:38 INFO: DOCUMENT TRANSFORMER\n",
      "2023-06-07 06:36:39 INFO: POS REMOVAL\n",
      "2023-06-07 06:36:39 INFO: DOCUMENT TRANSFORMER\n",
      "2023-06-07 06:36:40 INFO: POS REMOVAL\n",
      "2023-06-07 06:36:40 INFO: DOCUMENT TRANSFORMER\n",
      "2023-06-07 06:36:40 INFO: POS REMOVAL\n",
      "2023-06-07 06:36:41 INFO: DOCUMENT TRANSFORMER\n",
      "2023-06-07 06:36:41 INFO: POS REMOVAL\n",
      "2023-06-07 06:36:42 INFO: DOCUMENT TRANSFORMER\n",
      "2023-06-07 06:36:42 INFO: POS REMOVAL\n",
      "2023-06-07 06:36:42 INFO: DOCUMENT TRANSFORMER\n",
      "2023-06-07 06:36:43 INFO: POS REMOVAL\n",
      "2023-06-07 06:36:43 INFO: DOCUMENT TRANSFORMER\n",
      "2023-06-07 06:36:44 INFO: POS REMOVAL\n",
      "2023-06-07 06:36:44 INFO: DOCUMENT TRANSFORMER\n",
      "2023-06-07 06:36:45 INFO: POS REMOVAL\n",
      "2023-06-07 06:36:45 INFO: DOCUMENT TRANSFORMER\n",
      "2023-06-07 06:36:46 INFO: POS REMOVAL\n",
      "2023-06-07 06:36:46 INFO: DOCUMENT TRANSFORMER\n",
      "2023-06-07 06:36:47 INFO: POS REMOVAL\n",
      "2023-06-07 06:36:47 INFO: DOCUMENT TRANSFORMER\n",
      "2023-06-07 06:36:48 INFO: POS REMOVAL\n",
      "2023-06-07 06:36:48 INFO: DOCUMENT TRANSFORMER\n",
      "2023-06-07 06:36:48 INFO: POS REMOVAL\n",
      "2023-06-07 06:36:48 INFO: DOCUMENT TRANSFORMER\n",
      "2023-06-07 06:36:49 INFO: POS REMOVAL\n",
      "2023-06-07 06:36:49 INFO: DOCUMENT TRANSFORMER\n",
      "2023-06-07 06:36:49 INFO: POS REMOVAL\n",
      "2023-06-07 06:36:49 INFO: DOCUMENT TRANSFORMER\n",
      "2023-06-07 06:36:50 INFO: POS REMOVAL\n",
      "2023-06-07 06:36:50 INFO: DOCUMENT TRANSFORMER\n",
      "2023-06-07 06:36:50 INFO: POS REMOVAL\n",
      "2023-06-07 06:36:50 INFO: DOCUMENT TRANSFORMER\n",
      "2023-06-07 06:36:51 INFO: POS REMOVAL\n",
      "2023-06-07 06:36:51 INFO: DOCUMENT TRANSFORMER\n",
      "2023-06-07 06:36:51 INFO: POS REMOVAL\n",
      "2023-06-07 06:36:51 INFO: DOCUMENT TRANSFORMER\n",
      "2023-06-07 06:36:52 INFO: POS REMOVAL\n",
      "2023-06-07 06:36:52 INFO: DOCUMENT TRANSFORMER\n",
      "2023-06-07 06:36:52 INFO: POS REMOVAL\n",
      "2023-06-07 06:36:52 INFO: DOCUMENT TRANSFORMER\n",
      "2023-06-07 06:36:53 INFO: POS REMOVAL\n",
      "2023-06-07 06:36:53 INFO: DOCUMENT TRANSFORMER\n",
      "2023-06-07 06:36:54 INFO: POS REMOVAL\n",
      "2023-06-07 06:36:54 INFO: DOCUMENT TRANSFORMER\n"
     ]
    },
    {
     "name": "stderr",
     "output_type": "stream",
     "text": [
      "c:\\Users\\c10nGp4\\anaconda3\\envs\\imbalance-multi-classification\\lib\\site-packages\\sklearn\\svm\\_base.py:1244: ConvergenceWarning: Liblinear failed to converge, increase the number of iterations.\n",
      "  warnings.warn(\n"
     ]
    },
    {
     "name": "stdout",
     "output_type": "stream",
     "text": [
      "2023-06-07 06:36:57 INFO: POS REMOVAL\n",
      "2023-06-07 06:36:57 INFO: DOCUMENT TRANSFORMER\n",
      "2023-06-07 06:36:57 INFO: POS REMOVAL\n",
      "2023-06-07 06:36:57 INFO: DOCUMENT TRANSFORMER\n"
     ]
    },
    {
     "name": "stderr",
     "output_type": "stream",
     "text": [
      "c:\\Users\\c10nGp4\\anaconda3\\envs\\imbalance-multi-classification\\lib\\site-packages\\sklearn\\svm\\_base.py:1244: ConvergenceWarning: Liblinear failed to converge, increase the number of iterations.\n",
      "  warnings.warn(\n"
     ]
    },
    {
     "name": "stdout",
     "output_type": "stream",
     "text": [
      "2023-06-07 06:37:01 INFO: POS REMOVAL\n",
      "2023-06-07 06:37:01 INFO: DOCUMENT TRANSFORMER\n",
      "2023-06-07 06:37:01 INFO: POS REMOVAL\n",
      "2023-06-07 06:37:01 INFO: DOCUMENT TRANSFORMER\n"
     ]
    },
    {
     "name": "stderr",
     "output_type": "stream",
     "text": [
      "c:\\Users\\c10nGp4\\anaconda3\\envs\\imbalance-multi-classification\\lib\\site-packages\\sklearn\\svm\\_base.py:1244: ConvergenceWarning: Liblinear failed to converge, increase the number of iterations.\n",
      "  warnings.warn(\n"
     ]
    },
    {
     "name": "stdout",
     "output_type": "stream",
     "text": [
      "2023-06-07 06:37:04 INFO: POS REMOVAL\n",
      "2023-06-07 06:37:04 INFO: DOCUMENT TRANSFORMER\n",
      "2023-06-07 06:37:04 INFO: POS REMOVAL\n",
      "2023-06-07 06:37:04 INFO: DOCUMENT TRANSFORMER\n"
     ]
    },
    {
     "name": "stderr",
     "output_type": "stream",
     "text": [
      "c:\\Users\\c10nGp4\\anaconda3\\envs\\imbalance-multi-classification\\lib\\site-packages\\sklearn\\svm\\_base.py:1244: ConvergenceWarning: Liblinear failed to converge, increase the number of iterations.\n",
      "  warnings.warn(\n"
     ]
    },
    {
     "name": "stdout",
     "output_type": "stream",
     "text": [
      "2023-06-07 06:37:07 INFO: POS REMOVAL\n",
      "2023-06-07 06:37:07 INFO: DOCUMENT TRANSFORMER\n",
      "2023-06-07 06:37:07 INFO: POS REMOVAL\n",
      "2023-06-07 06:37:07 INFO: DOCUMENT TRANSFORMER\n"
     ]
    },
    {
     "name": "stderr",
     "output_type": "stream",
     "text": [
      "c:\\Users\\c10nGp4\\anaconda3\\envs\\imbalance-multi-classification\\lib\\site-packages\\sklearn\\svm\\_base.py:1244: ConvergenceWarning: Liblinear failed to converge, increase the number of iterations.\n",
      "  warnings.warn(\n"
     ]
    },
    {
     "name": "stdout",
     "output_type": "stream",
     "text": [
      "2023-06-07 06:37:10 INFO: POS REMOVAL\n",
      "2023-06-07 06:37:10 INFO: DOCUMENT TRANSFORMER\n",
      "2023-06-07 06:37:10 INFO: POS REMOVAL\n",
      "2023-06-07 06:37:10 INFO: DOCUMENT TRANSFORMER\n"
     ]
    },
    {
     "name": "stderr",
     "output_type": "stream",
     "text": [
      "c:\\Users\\c10nGp4\\anaconda3\\envs\\imbalance-multi-classification\\lib\\site-packages\\sklearn\\svm\\_base.py:1244: ConvergenceWarning: Liblinear failed to converge, increase the number of iterations.\n",
      "  warnings.warn(\n"
     ]
    },
    {
     "name": "stdout",
     "output_type": "stream",
     "text": [
      "2023-06-07 06:37:13 INFO: POS REMOVAL\n",
      "2023-06-07 06:37:13 INFO: DOCUMENT TRANSFORMER\n",
      "2023-06-07 06:37:13 INFO: POS REMOVAL\n",
      "2023-06-07 06:37:13 INFO: DOCUMENT TRANSFORMER\n"
     ]
    },
    {
     "name": "stderr",
     "output_type": "stream",
     "text": [
      "c:\\Users\\c10nGp4\\anaconda3\\envs\\imbalance-multi-classification\\lib\\site-packages\\sklearn\\svm\\_base.py:1244: ConvergenceWarning: Liblinear failed to converge, increase the number of iterations.\n",
      "  warnings.warn(\n"
     ]
    },
    {
     "name": "stdout",
     "output_type": "stream",
     "text": [
      "2023-06-07 06:37:16 INFO: POS REMOVAL\n",
      "2023-06-07 06:37:16 INFO: DOCUMENT TRANSFORMER\n",
      "2023-06-07 06:37:16 INFO: POS REMOVAL\n",
      "2023-06-07 06:37:16 INFO: DOCUMENT TRANSFORMER\n"
     ]
    },
    {
     "name": "stderr",
     "output_type": "stream",
     "text": [
      "c:\\Users\\c10nGp4\\anaconda3\\envs\\imbalance-multi-classification\\lib\\site-packages\\sklearn\\svm\\_base.py:1244: ConvergenceWarning: Liblinear failed to converge, increase the number of iterations.\n",
      "  warnings.warn(\n"
     ]
    },
    {
     "name": "stdout",
     "output_type": "stream",
     "text": [
      "2023-06-07 06:37:19 INFO: POS REMOVAL\n",
      "2023-06-07 06:37:19 INFO: DOCUMENT TRANSFORMER\n",
      "2023-06-07 06:37:20 INFO: POS REMOVAL\n",
      "2023-06-07 06:37:20 INFO: DOCUMENT TRANSFORMER\n"
     ]
    },
    {
     "name": "stderr",
     "output_type": "stream",
     "text": [
      "c:\\Users\\c10nGp4\\anaconda3\\envs\\imbalance-multi-classification\\lib\\site-packages\\sklearn\\svm\\_base.py:1244: ConvergenceWarning: Liblinear failed to converge, increase the number of iterations.\n",
      "  warnings.warn(\n"
     ]
    },
    {
     "name": "stdout",
     "output_type": "stream",
     "text": [
      "2023-06-07 06:37:23 INFO: POS REMOVAL\n",
      "2023-06-07 06:37:23 INFO: DOCUMENT TRANSFORMER\n",
      "2023-06-07 06:37:23 INFO: POS REMOVAL\n",
      "2023-06-07 06:37:23 INFO: DOCUMENT TRANSFORMER\n"
     ]
    },
    {
     "name": "stderr",
     "output_type": "stream",
     "text": [
      "c:\\Users\\c10nGp4\\anaconda3\\envs\\imbalance-multi-classification\\lib\\site-packages\\sklearn\\svm\\_base.py:1244: ConvergenceWarning: Liblinear failed to converge, increase the number of iterations.\n",
      "  warnings.warn(\n"
     ]
    },
    {
     "name": "stdout",
     "output_type": "stream",
     "text": [
      "2023-06-07 06:37:26 INFO: POS REMOVAL\n",
      "2023-06-07 06:37:26 INFO: DOCUMENT TRANSFORMER\n",
      "2023-06-07 06:37:26 INFO: POS REMOVAL\n",
      "2023-06-07 06:37:26 INFO: DOCUMENT TRANSFORMER\n"
     ]
    },
    {
     "name": "stderr",
     "output_type": "stream",
     "text": [
      "c:\\Users\\c10nGp4\\anaconda3\\envs\\imbalance-multi-classification\\lib\\site-packages\\sklearn\\svm\\_base.py:1244: ConvergenceWarning: Liblinear failed to converge, increase the number of iterations.\n",
      "  warnings.warn(\n"
     ]
    },
    {
     "name": "stdout",
     "output_type": "stream",
     "text": [
      "2023-06-07 06:37:29 INFO: POS REMOVAL\n",
      "2023-06-07 06:37:29 INFO: DOCUMENT TRANSFORMER\n",
      "2023-06-07 06:37:29 INFO: POS REMOVAL\n",
      "2023-06-07 06:37:29 INFO: DOCUMENT TRANSFORMER\n"
     ]
    },
    {
     "name": "stderr",
     "output_type": "stream",
     "text": [
      "c:\\Users\\c10nGp4\\anaconda3\\envs\\imbalance-multi-classification\\lib\\site-packages\\sklearn\\svm\\_base.py:1244: ConvergenceWarning: Liblinear failed to converge, increase the number of iterations.\n",
      "  warnings.warn(\n"
     ]
    },
    {
     "name": "stdout",
     "output_type": "stream",
     "text": [
      "2023-06-07 06:37:32 INFO: POS REMOVAL\n",
      "2023-06-07 06:37:32 INFO: DOCUMENT TRANSFORMER\n",
      "2023-06-07 06:37:32 INFO: POS REMOVAL\n",
      "2023-06-07 06:37:32 INFO: DOCUMENT TRANSFORMER\n"
     ]
    },
    {
     "name": "stderr",
     "output_type": "stream",
     "text": [
      "c:\\Users\\c10nGp4\\anaconda3\\envs\\imbalance-multi-classification\\lib\\site-packages\\sklearn\\svm\\_base.py:1244: ConvergenceWarning: Liblinear failed to converge, increase the number of iterations.\n",
      "  warnings.warn(\n"
     ]
    },
    {
     "name": "stdout",
     "output_type": "stream",
     "text": [
      "2023-06-07 06:37:35 INFO: POS REMOVAL\n",
      "2023-06-07 06:37:35 INFO: DOCUMENT TRANSFORMER\n",
      "2023-06-07 06:37:35 INFO: POS REMOVAL\n",
      "2023-06-07 06:37:35 INFO: DOCUMENT TRANSFORMER\n"
     ]
    },
    {
     "name": "stderr",
     "output_type": "stream",
     "text": [
      "c:\\Users\\c10nGp4\\anaconda3\\envs\\imbalance-multi-classification\\lib\\site-packages\\sklearn\\svm\\_base.py:1244: ConvergenceWarning: Liblinear failed to converge, increase the number of iterations.\n",
      "  warnings.warn(\n"
     ]
    },
    {
     "name": "stdout",
     "output_type": "stream",
     "text": [
      "2023-06-07 06:37:38 INFO: POS REMOVAL\n",
      "2023-06-07 06:37:38 INFO: DOCUMENT TRANSFORMER\n",
      "2023-06-07 06:37:38 INFO: POS REMOVAL\n",
      "2023-06-07 06:37:38 INFO: DOCUMENT TRANSFORMER\n"
     ]
    },
    {
     "name": "stderr",
     "output_type": "stream",
     "text": [
      "c:\\Users\\c10nGp4\\anaconda3\\envs\\imbalance-multi-classification\\lib\\site-packages\\sklearn\\svm\\_base.py:1244: ConvergenceWarning: Liblinear failed to converge, increase the number of iterations.\n",
      "  warnings.warn(\n"
     ]
    },
    {
     "name": "stdout",
     "output_type": "stream",
     "text": [
      "2023-06-07 06:37:41 INFO: POS REMOVAL\n",
      "2023-06-07 06:37:42 INFO: DOCUMENT TRANSFORMER\n",
      "2023-06-07 06:37:42 INFO: POS REMOVAL\n",
      "2023-06-07 06:37:42 INFO: DOCUMENT TRANSFORMER\n"
     ]
    },
    {
     "name": "stderr",
     "output_type": "stream",
     "text": [
      "c:\\Users\\c10nGp4\\anaconda3\\envs\\imbalance-multi-classification\\lib\\site-packages\\sklearn\\svm\\_base.py:1244: ConvergenceWarning: Liblinear failed to converge, increase the number of iterations.\n",
      "  warnings.warn(\n"
     ]
    },
    {
     "name": "stdout",
     "output_type": "stream",
     "text": [
      "2023-06-07 06:37:45 INFO: POS REMOVAL\n",
      "2023-06-07 06:37:45 INFO: DOCUMENT TRANSFORMER\n",
      "2023-06-07 06:37:45 INFO: POS REMOVAL\n",
      "2023-06-07 06:37:45 INFO: DOCUMENT TRANSFORMER\n"
     ]
    },
    {
     "name": "stderr",
     "output_type": "stream",
     "text": [
      "c:\\Users\\c10nGp4\\anaconda3\\envs\\imbalance-multi-classification\\lib\\site-packages\\sklearn\\svm\\_base.py:1244: ConvergenceWarning: Liblinear failed to converge, increase the number of iterations.\n",
      "  warnings.warn(\n"
     ]
    },
    {
     "name": "stdout",
     "output_type": "stream",
     "text": [
      "2023-06-07 06:37:48 INFO: POS REMOVAL\n",
      "2023-06-07 06:37:48 INFO: DOCUMENT TRANSFORMER\n",
      "2023-06-07 06:37:48 INFO: POS REMOVAL\n",
      "2023-06-07 06:37:48 INFO: DOCUMENT TRANSFORMER\n"
     ]
    },
    {
     "name": "stderr",
     "output_type": "stream",
     "text": [
      "c:\\Users\\c10nGp4\\anaconda3\\envs\\imbalance-multi-classification\\lib\\site-packages\\sklearn\\svm\\_base.py:1244: ConvergenceWarning: Liblinear failed to converge, increase the number of iterations.\n",
      "  warnings.warn(\n"
     ]
    },
    {
     "name": "stdout",
     "output_type": "stream",
     "text": [
      "2023-06-07 06:37:51 INFO: POS REMOVAL\n",
      "2023-06-07 06:37:51 INFO: DOCUMENT TRANSFORMER\n",
      "2023-06-07 06:37:51 INFO: POS REMOVAL\n",
      "2023-06-07 06:37:51 INFO: DOCUMENT TRANSFORMER\n"
     ]
    },
    {
     "name": "stderr",
     "output_type": "stream",
     "text": [
      "c:\\Users\\c10nGp4\\anaconda3\\envs\\imbalance-multi-classification\\lib\\site-packages\\sklearn\\svm\\_base.py:1244: ConvergenceWarning: Liblinear failed to converge, increase the number of iterations.\n",
      "  warnings.warn(\n"
     ]
    },
    {
     "name": "stdout",
     "output_type": "stream",
     "text": [
      "2023-06-07 06:37:54 INFO: POS REMOVAL\n",
      "2023-06-07 06:37:54 INFO: DOCUMENT TRANSFORMER\n",
      "2023-06-07 06:37:54 INFO: POS REMOVAL\n",
      "2023-06-07 06:37:54 INFO: DOCUMENT TRANSFORMER\n"
     ]
    },
    {
     "name": "stderr",
     "output_type": "stream",
     "text": [
      "c:\\Users\\c10nGp4\\anaconda3\\envs\\imbalance-multi-classification\\lib\\site-packages\\sklearn\\svm\\_base.py:1244: ConvergenceWarning: Liblinear failed to converge, increase the number of iterations.\n",
      "  warnings.warn(\n"
     ]
    },
    {
     "name": "stdout",
     "output_type": "stream",
     "text": [
      "2023-06-07 06:37:57 INFO: POS REMOVAL\n",
      "2023-06-07 06:37:57 INFO: DOCUMENT TRANSFORMER\n",
      "2023-06-07 06:37:57 INFO: POS REMOVAL\n",
      "2023-06-07 06:37:58 INFO: DOCUMENT TRANSFORMER\n"
     ]
    },
    {
     "name": "stderr",
     "output_type": "stream",
     "text": [
      "c:\\Users\\c10nGp4\\anaconda3\\envs\\imbalance-multi-classification\\lib\\site-packages\\sklearn\\svm\\_base.py:1244: ConvergenceWarning: Liblinear failed to converge, increase the number of iterations.\n",
      "  warnings.warn(\n"
     ]
    },
    {
     "name": "stdout",
     "output_type": "stream",
     "text": [
      "2023-06-07 06:38:02 INFO: POS REMOVAL\n",
      "2023-06-07 06:38:02 INFO: DOCUMENT TRANSFORMER\n",
      "2023-06-07 06:38:02 INFO: POS REMOVAL\n",
      "2023-06-07 06:38:02 INFO: DOCUMENT TRANSFORMER\n"
     ]
    },
    {
     "name": "stderr",
     "output_type": "stream",
     "text": [
      "c:\\Users\\c10nGp4\\anaconda3\\envs\\imbalance-multi-classification\\lib\\site-packages\\sklearn\\svm\\_base.py:1244: ConvergenceWarning: Liblinear failed to converge, increase the number of iterations.\n",
      "  warnings.warn(\n"
     ]
    },
    {
     "name": "stdout",
     "output_type": "stream",
     "text": [
      "2023-06-07 06:38:06 INFO: POS REMOVAL\n",
      "2023-06-07 06:38:06 INFO: DOCUMENT TRANSFORMER\n",
      "2023-06-07 06:38:06 INFO: POS REMOVAL\n",
      "2023-06-07 06:38:07 INFO: DOCUMENT TRANSFORMER\n"
     ]
    },
    {
     "name": "stderr",
     "output_type": "stream",
     "text": [
      "c:\\Users\\c10nGp4\\anaconda3\\envs\\imbalance-multi-classification\\lib\\site-packages\\sklearn\\svm\\_base.py:1244: ConvergenceWarning: Liblinear failed to converge, increase the number of iterations.\n",
      "  warnings.warn(\n"
     ]
    },
    {
     "name": "stdout",
     "output_type": "stream",
     "text": [
      "2023-06-07 06:38:11 INFO: POS REMOVAL\n",
      "2023-06-07 06:38:11 INFO: DOCUMENT TRANSFORMER\n",
      "2023-06-07 06:38:11 INFO: POS REMOVAL\n",
      "2023-06-07 06:38:11 INFO: DOCUMENT TRANSFORMER\n"
     ]
    },
    {
     "name": "stderr",
     "output_type": "stream",
     "text": [
      "c:\\Users\\c10nGp4\\anaconda3\\envs\\imbalance-multi-classification\\lib\\site-packages\\sklearn\\svm\\_base.py:1244: ConvergenceWarning: Liblinear failed to converge, increase the number of iterations.\n",
      "  warnings.warn(\n"
     ]
    },
    {
     "name": "stdout",
     "output_type": "stream",
     "text": [
      "2023-06-07 06:38:15 INFO: POS REMOVAL\n",
      "2023-06-07 06:38:15 INFO: DOCUMENT TRANSFORMER\n",
      "2023-06-07 06:38:16 INFO: POS REMOVAL\n",
      "2023-06-07 06:38:16 INFO: DOCUMENT TRANSFORMER\n"
     ]
    },
    {
     "name": "stderr",
     "output_type": "stream",
     "text": [
      "c:\\Users\\c10nGp4\\anaconda3\\envs\\imbalance-multi-classification\\lib\\site-packages\\sklearn\\svm\\_base.py:1244: ConvergenceWarning: Liblinear failed to converge, increase the number of iterations.\n",
      "  warnings.warn(\n"
     ]
    },
    {
     "name": "stdout",
     "output_type": "stream",
     "text": [
      "2023-06-07 06:38:20 INFO: POS REMOVAL\n",
      "2023-06-07 06:38:20 INFO: DOCUMENT TRANSFORMER\n",
      "2023-06-07 06:38:20 INFO: POS REMOVAL\n",
      "2023-06-07 06:38:20 INFO: DOCUMENT TRANSFORMER\n"
     ]
    },
    {
     "name": "stderr",
     "output_type": "stream",
     "text": [
      "c:\\Users\\c10nGp4\\anaconda3\\envs\\imbalance-multi-classification\\lib\\site-packages\\sklearn\\svm\\_base.py:1244: ConvergenceWarning: Liblinear failed to converge, increase the number of iterations.\n",
      "  warnings.warn(\n"
     ]
    },
    {
     "name": "stdout",
     "output_type": "stream",
     "text": [
      "2023-06-07 06:38:24 INFO: POS REMOVAL\n",
      "2023-06-07 06:38:24 INFO: DOCUMENT TRANSFORMER\n",
      "2023-06-07 06:38:24 INFO: POS REMOVAL\n",
      "2023-06-07 06:38:25 INFO: DOCUMENT TRANSFORMER\n"
     ]
    },
    {
     "name": "stderr",
     "output_type": "stream",
     "text": [
      "c:\\Users\\c10nGp4\\anaconda3\\envs\\imbalance-multi-classification\\lib\\site-packages\\sklearn\\svm\\_base.py:1244: ConvergenceWarning: Liblinear failed to converge, increase the number of iterations.\n",
      "  warnings.warn(\n"
     ]
    },
    {
     "name": "stdout",
     "output_type": "stream",
     "text": [
      "2023-06-07 06:38:29 INFO: POS REMOVAL\n",
      "2023-06-07 06:38:29 INFO: DOCUMENT TRANSFORMER\n",
      "2023-06-07 06:38:29 INFO: POS REMOVAL\n",
      "2023-06-07 06:38:29 INFO: DOCUMENT TRANSFORMER\n"
     ]
    },
    {
     "name": "stderr",
     "output_type": "stream",
     "text": [
      "c:\\Users\\c10nGp4\\anaconda3\\envs\\imbalance-multi-classification\\lib\\site-packages\\sklearn\\svm\\_base.py:1244: ConvergenceWarning: Liblinear failed to converge, increase the number of iterations.\n",
      "  warnings.warn(\n"
     ]
    },
    {
     "name": "stdout",
     "output_type": "stream",
     "text": [
      "2023-06-07 06:38:33 INFO: POS REMOVAL\n",
      "2023-06-07 06:38:33 INFO: DOCUMENT TRANSFORMER\n",
      "2023-06-07 06:38:34 INFO: POS REMOVAL\n",
      "2023-06-07 06:38:34 INFO: DOCUMENT TRANSFORMER\n"
     ]
    },
    {
     "name": "stderr",
     "output_type": "stream",
     "text": [
      "c:\\Users\\c10nGp4\\anaconda3\\envs\\imbalance-multi-classification\\lib\\site-packages\\sklearn\\svm\\_base.py:1244: ConvergenceWarning: Liblinear failed to converge, increase the number of iterations.\n",
      "  warnings.warn(\n"
     ]
    },
    {
     "name": "stdout",
     "output_type": "stream",
     "text": [
      "2023-06-07 06:38:38 INFO: POS REMOVAL\n",
      "2023-06-07 06:38:38 INFO: DOCUMENT TRANSFORMER\n",
      "2023-06-07 06:38:38 INFO: POS REMOVAL\n",
      "2023-06-07 06:38:38 INFO: DOCUMENT TRANSFORMER\n"
     ]
    },
    {
     "name": "stderr",
     "output_type": "stream",
     "text": [
      "c:\\Users\\c10nGp4\\anaconda3\\envs\\imbalance-multi-classification\\lib\\site-packages\\sklearn\\svm\\_base.py:1244: ConvergenceWarning: Liblinear failed to converge, increase the number of iterations.\n",
      "  warnings.warn(\n"
     ]
    },
    {
     "name": "stdout",
     "output_type": "stream",
     "text": [
      "2023-06-07 06:38:42 INFO: POS REMOVAL\n",
      "2023-06-07 06:38:42 INFO: DOCUMENT TRANSFORMER\n",
      "2023-06-07 06:38:42 INFO: POS REMOVAL\n",
      "2023-06-07 06:38:43 INFO: DOCUMENT TRANSFORMER\n"
     ]
    },
    {
     "name": "stderr",
     "output_type": "stream",
     "text": [
      "c:\\Users\\c10nGp4\\anaconda3\\envs\\imbalance-multi-classification\\lib\\site-packages\\sklearn\\svm\\_base.py:1244: ConvergenceWarning: Liblinear failed to converge, increase the number of iterations.\n",
      "  warnings.warn(\n"
     ]
    },
    {
     "name": "stdout",
     "output_type": "stream",
     "text": [
      "2023-06-07 06:38:47 INFO: POS REMOVAL\n",
      "2023-06-07 06:38:47 INFO: DOCUMENT TRANSFORMER\n",
      "2023-06-07 06:38:47 INFO: POS REMOVAL\n",
      "2023-06-07 06:38:47 INFO: DOCUMENT TRANSFORMER\n"
     ]
    },
    {
     "name": "stderr",
     "output_type": "stream",
     "text": [
      "c:\\Users\\c10nGp4\\anaconda3\\envs\\imbalance-multi-classification\\lib\\site-packages\\sklearn\\svm\\_base.py:1244: ConvergenceWarning: Liblinear failed to converge, increase the number of iterations.\n",
      "  warnings.warn(\n"
     ]
    },
    {
     "name": "stdout",
     "output_type": "stream",
     "text": [
      "2023-06-07 06:38:51 INFO: POS REMOVAL\n",
      "2023-06-07 06:38:51 INFO: DOCUMENT TRANSFORMER\n",
      "2023-06-07 06:38:52 INFO: POS REMOVAL\n",
      "2023-06-07 06:38:52 INFO: DOCUMENT TRANSFORMER\n"
     ]
    },
    {
     "name": "stderr",
     "output_type": "stream",
     "text": [
      "c:\\Users\\c10nGp4\\anaconda3\\envs\\imbalance-multi-classification\\lib\\site-packages\\sklearn\\svm\\_base.py:1244: ConvergenceWarning: Liblinear failed to converge, increase the number of iterations.\n",
      "  warnings.warn(\n"
     ]
    },
    {
     "name": "stdout",
     "output_type": "stream",
     "text": [
      "2023-06-07 06:38:56 INFO: POS REMOVAL\n",
      "2023-06-07 06:38:56 INFO: DOCUMENT TRANSFORMER\n",
      "2023-06-07 06:38:56 INFO: POS REMOVAL\n",
      "2023-06-07 06:38:56 INFO: DOCUMENT TRANSFORMER\n"
     ]
    },
    {
     "name": "stderr",
     "output_type": "stream",
     "text": [
      "c:\\Users\\c10nGp4\\anaconda3\\envs\\imbalance-multi-classification\\lib\\site-packages\\sklearn\\svm\\_base.py:1244: ConvergenceWarning: Liblinear failed to converge, increase the number of iterations.\n",
      "  warnings.warn(\n"
     ]
    },
    {
     "name": "stdout",
     "output_type": "stream",
     "text": [
      "2023-06-07 06:39:00 INFO: POS REMOVAL\n",
      "2023-06-07 06:39:00 INFO: DOCUMENT TRANSFORMER\n",
      "2023-06-07 06:39:01 INFO: POS REMOVAL\n",
      "2023-06-07 06:39:01 INFO: DOCUMENT TRANSFORMER\n"
     ]
    },
    {
     "name": "stderr",
     "output_type": "stream",
     "text": [
      "c:\\Users\\c10nGp4\\anaconda3\\envs\\imbalance-multi-classification\\lib\\site-packages\\sklearn\\svm\\_base.py:1244: ConvergenceWarning: Liblinear failed to converge, increase the number of iterations.\n",
      "  warnings.warn(\n"
     ]
    },
    {
     "name": "stdout",
     "output_type": "stream",
     "text": [
      "2023-06-07 06:39:05 INFO: POS REMOVAL\n",
      "2023-06-07 06:39:05 INFO: DOCUMENT TRANSFORMER\n",
      "2023-06-07 06:39:05 INFO: POS REMOVAL\n",
      "2023-06-07 06:39:05 INFO: DOCUMENT TRANSFORMER\n"
     ]
    },
    {
     "name": "stderr",
     "output_type": "stream",
     "text": [
      "c:\\Users\\c10nGp4\\anaconda3\\envs\\imbalance-multi-classification\\lib\\site-packages\\sklearn\\svm\\_base.py:1244: ConvergenceWarning: Liblinear failed to converge, increase the number of iterations.\n",
      "  warnings.warn(\n"
     ]
    },
    {
     "name": "stdout",
     "output_type": "stream",
     "text": [
      "2023-06-07 06:39:10 INFO: POS REMOVAL\n",
      "2023-06-07 06:39:10 INFO: DOCUMENT TRANSFORMER\n",
      "2023-06-07 06:39:10 INFO: POS REMOVAL\n",
      "2023-06-07 06:39:10 INFO: DOCUMENT TRANSFORMER\n"
     ]
    },
    {
     "name": "stderr",
     "output_type": "stream",
     "text": [
      "c:\\Users\\c10nGp4\\anaconda3\\envs\\imbalance-multi-classification\\lib\\site-packages\\sklearn\\svm\\_base.py:1244: ConvergenceWarning: Liblinear failed to converge, increase the number of iterations.\n",
      "  warnings.warn(\n"
     ]
    },
    {
     "name": "stdout",
     "output_type": "stream",
     "text": [
      "2023-06-07 06:39:14 INFO: POS REMOVAL\n",
      "2023-06-07 06:39:14 INFO: DOCUMENT TRANSFORMER\n",
      "2023-06-07 06:39:14 INFO: POS REMOVAL\n",
      "2023-06-07 06:39:14 INFO: DOCUMENT TRANSFORMER\n"
     ]
    },
    {
     "name": "stderr",
     "output_type": "stream",
     "text": [
      "c:\\Users\\c10nGp4\\anaconda3\\envs\\imbalance-multi-classification\\lib\\site-packages\\sklearn\\svm\\_base.py:1244: ConvergenceWarning: Liblinear failed to converge, increase the number of iterations.\n",
      "  warnings.warn(\n"
     ]
    },
    {
     "name": "stdout",
     "output_type": "stream",
     "text": [
      "2023-06-07 06:39:19 INFO: POS REMOVAL\n",
      "2023-06-07 06:39:19 INFO: DOCUMENT TRANSFORMER\n",
      "2023-06-07 06:39:19 INFO: POS REMOVAL\n",
      "2023-06-07 06:39:19 INFO: DOCUMENT TRANSFORMER\n"
     ]
    },
    {
     "name": "stderr",
     "output_type": "stream",
     "text": [
      "c:\\Users\\c10nGp4\\anaconda3\\envs\\imbalance-multi-classification\\lib\\site-packages\\sklearn\\svm\\_base.py:1244: ConvergenceWarning: Liblinear failed to converge, increase the number of iterations.\n",
      "  warnings.warn(\n"
     ]
    },
    {
     "name": "stdout",
     "output_type": "stream",
     "text": [
      "2023-06-07 06:39:23 INFO: POS REMOVAL\n",
      "2023-06-07 06:39:23 INFO: DOCUMENT TRANSFORMER\n",
      "2023-06-07 06:39:23 INFO: POS REMOVAL\n",
      "2023-06-07 06:39:23 INFO: DOCUMENT TRANSFORMER\n"
     ]
    },
    {
     "name": "stderr",
     "output_type": "stream",
     "text": [
      "c:\\Users\\c10nGp4\\anaconda3\\envs\\imbalance-multi-classification\\lib\\site-packages\\sklearn\\svm\\_base.py:1244: ConvergenceWarning: Liblinear failed to converge, increase the number of iterations.\n",
      "  warnings.warn(\n"
     ]
    },
    {
     "name": "stdout",
     "output_type": "stream",
     "text": [
      "2023-06-07 06:39:28 INFO: POS REMOVAL\n",
      "2023-06-07 06:39:28 INFO: DOCUMENT TRANSFORMER\n",
      "2023-06-07 06:39:28 INFO: POS REMOVAL\n",
      "2023-06-07 06:39:28 INFO: DOCUMENT TRANSFORMER\n"
     ]
    },
    {
     "name": "stderr",
     "output_type": "stream",
     "text": [
      "c:\\Users\\c10nGp4\\anaconda3\\envs\\imbalance-multi-classification\\lib\\site-packages\\sklearn\\svm\\_base.py:1244: ConvergenceWarning: Liblinear failed to converge, increase the number of iterations.\n",
      "  warnings.warn(\n"
     ]
    },
    {
     "name": "stdout",
     "output_type": "stream",
     "text": [
      "2023-06-07 06:39:31 INFO: POS REMOVAL\n",
      "2023-06-07 06:39:31 INFO: DOCUMENT TRANSFORMER\n",
      "2023-06-07 06:39:31 INFO: POS REMOVAL\n",
      "2023-06-07 06:39:31 INFO: DOCUMENT TRANSFORMER\n"
     ]
    },
    {
     "name": "stderr",
     "output_type": "stream",
     "text": [
      "c:\\Users\\c10nGp4\\anaconda3\\envs\\imbalance-multi-classification\\lib\\site-packages\\sklearn\\svm\\_base.py:1244: ConvergenceWarning: Liblinear failed to converge, increase the number of iterations.\n",
      "  warnings.warn(\n"
     ]
    },
    {
     "name": "stdout",
     "output_type": "stream",
     "text": [
      "2023-06-07 06:39:34 INFO: POS REMOVAL\n",
      "2023-06-07 06:39:34 INFO: DOCUMENT TRANSFORMER\n",
      "2023-06-07 06:39:34 INFO: POS REMOVAL\n",
      "2023-06-07 06:39:34 INFO: DOCUMENT TRANSFORMER\n"
     ]
    },
    {
     "name": "stderr",
     "output_type": "stream",
     "text": [
      "c:\\Users\\c10nGp4\\anaconda3\\envs\\imbalance-multi-classification\\lib\\site-packages\\sklearn\\svm\\_base.py:1244: ConvergenceWarning: Liblinear failed to converge, increase the number of iterations.\n",
      "  warnings.warn(\n"
     ]
    },
    {
     "name": "stdout",
     "output_type": "stream",
     "text": [
      "2023-06-07 06:39:37 INFO: POS REMOVAL\n",
      "2023-06-07 06:39:37 INFO: DOCUMENT TRANSFORMER\n",
      "2023-06-07 06:39:37 INFO: POS REMOVAL\n",
      "2023-06-07 06:39:37 INFO: DOCUMENT TRANSFORMER\n"
     ]
    },
    {
     "name": "stderr",
     "output_type": "stream",
     "text": [
      "c:\\Users\\c10nGp4\\anaconda3\\envs\\imbalance-multi-classification\\lib\\site-packages\\sklearn\\svm\\_base.py:1244: ConvergenceWarning: Liblinear failed to converge, increase the number of iterations.\n",
      "  warnings.warn(\n"
     ]
    },
    {
     "name": "stdout",
     "output_type": "stream",
     "text": [
      "2023-06-07 06:39:40 INFO: POS REMOVAL\n",
      "2023-06-07 06:39:40 INFO: DOCUMENT TRANSFORMER\n",
      "2023-06-07 06:39:40 INFO: POS REMOVAL\n",
      "2023-06-07 06:39:40 INFO: DOCUMENT TRANSFORMER\n"
     ]
    },
    {
     "name": "stderr",
     "output_type": "stream",
     "text": [
      "c:\\Users\\c10nGp4\\anaconda3\\envs\\imbalance-multi-classification\\lib\\site-packages\\sklearn\\svm\\_base.py:1244: ConvergenceWarning: Liblinear failed to converge, increase the number of iterations.\n",
      "  warnings.warn(\n"
     ]
    },
    {
     "name": "stdout",
     "output_type": "stream",
     "text": [
      "2023-06-07 06:39:43 INFO: POS REMOVAL\n",
      "2023-06-07 06:39:43 INFO: DOCUMENT TRANSFORMER\n",
      "2023-06-07 06:39:43 INFO: POS REMOVAL\n",
      "2023-06-07 06:39:43 INFO: DOCUMENT TRANSFORMER\n"
     ]
    },
    {
     "name": "stderr",
     "output_type": "stream",
     "text": [
      "c:\\Users\\c10nGp4\\anaconda3\\envs\\imbalance-multi-classification\\lib\\site-packages\\sklearn\\svm\\_base.py:1244: ConvergenceWarning: Liblinear failed to converge, increase the number of iterations.\n",
      "  warnings.warn(\n"
     ]
    },
    {
     "name": "stdout",
     "output_type": "stream",
     "text": [
      "2023-06-07 06:39:47 INFO: POS REMOVAL\n",
      "2023-06-07 06:39:47 INFO: DOCUMENT TRANSFORMER\n",
      "2023-06-07 06:39:47 INFO: POS REMOVAL\n",
      "2023-06-07 06:39:47 INFO: DOCUMENT TRANSFORMER\n"
     ]
    },
    {
     "name": "stderr",
     "output_type": "stream",
     "text": [
      "c:\\Users\\c10nGp4\\anaconda3\\envs\\imbalance-multi-classification\\lib\\site-packages\\sklearn\\svm\\_base.py:1244: ConvergenceWarning: Liblinear failed to converge, increase the number of iterations.\n",
      "  warnings.warn(\n"
     ]
    },
    {
     "name": "stdout",
     "output_type": "stream",
     "text": [
      "2023-06-07 06:39:50 INFO: POS REMOVAL\n",
      "2023-06-07 06:39:50 INFO: DOCUMENT TRANSFORMER\n",
      "2023-06-07 06:39:50 INFO: POS REMOVAL\n",
      "2023-06-07 06:39:50 INFO: DOCUMENT TRANSFORMER\n"
     ]
    },
    {
     "name": "stderr",
     "output_type": "stream",
     "text": [
      "c:\\Users\\c10nGp4\\anaconda3\\envs\\imbalance-multi-classification\\lib\\site-packages\\sklearn\\svm\\_base.py:1244: ConvergenceWarning: Liblinear failed to converge, increase the number of iterations.\n",
      "  warnings.warn(\n"
     ]
    },
    {
     "name": "stdout",
     "output_type": "stream",
     "text": [
      "2023-06-07 06:39:53 INFO: POS REMOVAL\n",
      "2023-06-07 06:39:53 INFO: DOCUMENT TRANSFORMER\n",
      "2023-06-07 06:39:53 INFO: POS REMOVAL\n",
      "2023-06-07 06:39:53 INFO: DOCUMENT TRANSFORMER\n"
     ]
    },
    {
     "name": "stderr",
     "output_type": "stream",
     "text": [
      "c:\\Users\\c10nGp4\\anaconda3\\envs\\imbalance-multi-classification\\lib\\site-packages\\sklearn\\svm\\_base.py:1244: ConvergenceWarning: Liblinear failed to converge, increase the number of iterations.\n",
      "  warnings.warn(\n"
     ]
    },
    {
     "name": "stdout",
     "output_type": "stream",
     "text": [
      "2023-06-07 06:39:56 INFO: POS REMOVAL\n",
      "2023-06-07 06:39:56 INFO: DOCUMENT TRANSFORMER\n",
      "2023-06-07 06:39:56 INFO: POS REMOVAL\n",
      "2023-06-07 06:39:56 INFO: DOCUMENT TRANSFORMER\n"
     ]
    },
    {
     "name": "stderr",
     "output_type": "stream",
     "text": [
      "c:\\Users\\c10nGp4\\anaconda3\\envs\\imbalance-multi-classification\\lib\\site-packages\\sklearn\\svm\\_base.py:1244: ConvergenceWarning: Liblinear failed to converge, increase the number of iterations.\n",
      "  warnings.warn(\n"
     ]
    },
    {
     "name": "stdout",
     "output_type": "stream",
     "text": [
      "2023-06-07 06:39:59 INFO: POS REMOVAL\n",
      "2023-06-07 06:39:59 INFO: DOCUMENT TRANSFORMER\n",
      "2023-06-07 06:39:59 INFO: POS REMOVAL\n",
      "2023-06-07 06:39:59 INFO: DOCUMENT TRANSFORMER\n"
     ]
    },
    {
     "name": "stderr",
     "output_type": "stream",
     "text": [
      "c:\\Users\\c10nGp4\\anaconda3\\envs\\imbalance-multi-classification\\lib\\site-packages\\sklearn\\svm\\_base.py:1244: ConvergenceWarning: Liblinear failed to converge, increase the number of iterations.\n",
      "  warnings.warn(\n"
     ]
    },
    {
     "name": "stdout",
     "output_type": "stream",
     "text": [
      "2023-06-07 06:40:02 INFO: POS REMOVAL\n",
      "2023-06-07 06:40:02 INFO: DOCUMENT TRANSFORMER\n",
      "2023-06-07 06:40:02 INFO: POS REMOVAL\n",
      "2023-06-07 06:40:02 INFO: DOCUMENT TRANSFORMER\n"
     ]
    },
    {
     "name": "stderr",
     "output_type": "stream",
     "text": [
      "c:\\Users\\c10nGp4\\anaconda3\\envs\\imbalance-multi-classification\\lib\\site-packages\\sklearn\\svm\\_base.py:1244: ConvergenceWarning: Liblinear failed to converge, increase the number of iterations.\n",
      "  warnings.warn(\n"
     ]
    },
    {
     "name": "stdout",
     "output_type": "stream",
     "text": [
      "2023-06-07 06:40:05 INFO: POS REMOVAL\n",
      "2023-06-07 06:40:05 INFO: DOCUMENT TRANSFORMER\n",
      "2023-06-07 06:40:05 INFO: POS REMOVAL\n",
      "2023-06-07 06:40:05 INFO: DOCUMENT TRANSFORMER\n"
     ]
    },
    {
     "name": "stderr",
     "output_type": "stream",
     "text": [
      "c:\\Users\\c10nGp4\\anaconda3\\envs\\imbalance-multi-classification\\lib\\site-packages\\sklearn\\svm\\_base.py:1244: ConvergenceWarning: Liblinear failed to converge, increase the number of iterations.\n",
      "  warnings.warn(\n"
     ]
    },
    {
     "name": "stdout",
     "output_type": "stream",
     "text": [
      "2023-06-07 06:40:08 INFO: POS REMOVAL\n",
      "2023-06-07 06:40:08 INFO: DOCUMENT TRANSFORMER\n",
      "2023-06-07 06:40:08 INFO: POS REMOVAL\n",
      "2023-06-07 06:40:08 INFO: DOCUMENT TRANSFORMER\n"
     ]
    },
    {
     "name": "stderr",
     "output_type": "stream",
     "text": [
      "c:\\Users\\c10nGp4\\anaconda3\\envs\\imbalance-multi-classification\\lib\\site-packages\\sklearn\\svm\\_base.py:1244: ConvergenceWarning: Liblinear failed to converge, increase the number of iterations.\n",
      "  warnings.warn(\n"
     ]
    },
    {
     "name": "stdout",
     "output_type": "stream",
     "text": [
      "2023-06-07 06:40:11 INFO: POS REMOVAL\n",
      "2023-06-07 06:40:11 INFO: DOCUMENT TRANSFORMER\n",
      "2023-06-07 06:40:11 INFO: POS REMOVAL\n",
      "2023-06-07 06:40:11 INFO: DOCUMENT TRANSFORMER\n"
     ]
    },
    {
     "name": "stderr",
     "output_type": "stream",
     "text": [
      "c:\\Users\\c10nGp4\\anaconda3\\envs\\imbalance-multi-classification\\lib\\site-packages\\sklearn\\svm\\_base.py:1244: ConvergenceWarning: Liblinear failed to converge, increase the number of iterations.\n",
      "  warnings.warn(\n"
     ]
    },
    {
     "name": "stdout",
     "output_type": "stream",
     "text": [
      "2023-06-07 06:40:14 INFO: POS REMOVAL\n",
      "2023-06-07 06:40:14 INFO: DOCUMENT TRANSFORMER\n",
      "2023-06-07 06:40:14 INFO: POS REMOVAL\n",
      "2023-06-07 06:40:14 INFO: DOCUMENT TRANSFORMER\n"
     ]
    },
    {
     "name": "stderr",
     "output_type": "stream",
     "text": [
      "c:\\Users\\c10nGp4\\anaconda3\\envs\\imbalance-multi-classification\\lib\\site-packages\\sklearn\\svm\\_base.py:1244: ConvergenceWarning: Liblinear failed to converge, increase the number of iterations.\n",
      "  warnings.warn(\n"
     ]
    },
    {
     "name": "stdout",
     "output_type": "stream",
     "text": [
      "2023-06-07 06:40:17 INFO: POS REMOVAL\n",
      "2023-06-07 06:40:17 INFO: DOCUMENT TRANSFORMER\n",
      "2023-06-07 06:40:17 INFO: POS REMOVAL\n",
      "2023-06-07 06:40:17 INFO: DOCUMENT TRANSFORMER\n"
     ]
    },
    {
     "name": "stderr",
     "output_type": "stream",
     "text": [
      "c:\\Users\\c10nGp4\\anaconda3\\envs\\imbalance-multi-classification\\lib\\site-packages\\sklearn\\svm\\_base.py:1244: ConvergenceWarning: Liblinear failed to converge, increase the number of iterations.\n",
      "  warnings.warn(\n"
     ]
    },
    {
     "name": "stdout",
     "output_type": "stream",
     "text": [
      "2023-06-07 06:40:20 INFO: POS REMOVAL\n",
      "2023-06-07 06:40:20 INFO: DOCUMENT TRANSFORMER\n",
      "2023-06-07 06:40:20 INFO: POS REMOVAL\n",
      "2023-06-07 06:40:20 INFO: DOCUMENT TRANSFORMER\n"
     ]
    },
    {
     "name": "stderr",
     "output_type": "stream",
     "text": [
      "c:\\Users\\c10nGp4\\anaconda3\\envs\\imbalance-multi-classification\\lib\\site-packages\\sklearn\\svm\\_base.py:1244: ConvergenceWarning: Liblinear failed to converge, increase the number of iterations.\n",
      "  warnings.warn(\n"
     ]
    },
    {
     "name": "stdout",
     "output_type": "stream",
     "text": [
      "2023-06-07 06:40:23 INFO: POS REMOVAL\n",
      "2023-06-07 06:40:23 INFO: DOCUMENT TRANSFORMER\n",
      "2023-06-07 06:40:23 INFO: POS REMOVAL\n",
      "2023-06-07 06:40:23 INFO: DOCUMENT TRANSFORMER\n"
     ]
    },
    {
     "name": "stderr",
     "output_type": "stream",
     "text": [
      "c:\\Users\\c10nGp4\\anaconda3\\envs\\imbalance-multi-classification\\lib\\site-packages\\sklearn\\svm\\_base.py:1244: ConvergenceWarning: Liblinear failed to converge, increase the number of iterations.\n",
      "  warnings.warn(\n"
     ]
    },
    {
     "name": "stdout",
     "output_type": "stream",
     "text": [
      "2023-06-07 06:40:26 INFO: POS REMOVAL\n",
      "2023-06-07 06:40:26 INFO: DOCUMENT TRANSFORMER\n",
      "2023-06-07 06:40:26 INFO: POS REMOVAL\n",
      "2023-06-07 06:40:26 INFO: DOCUMENT TRANSFORMER\n"
     ]
    },
    {
     "name": "stderr",
     "output_type": "stream",
     "text": [
      "c:\\Users\\c10nGp4\\anaconda3\\envs\\imbalance-multi-classification\\lib\\site-packages\\sklearn\\svm\\_base.py:1244: ConvergenceWarning: Liblinear failed to converge, increase the number of iterations.\n",
      "  warnings.warn(\n"
     ]
    },
    {
     "name": "stdout",
     "output_type": "stream",
     "text": [
      "2023-06-07 06:40:29 INFO: POS REMOVAL\n",
      "2023-06-07 06:40:29 INFO: DOCUMENT TRANSFORMER\n",
      "2023-06-07 06:40:29 INFO: POS REMOVAL\n",
      "2023-06-07 06:40:29 INFO: DOCUMENT TRANSFORMER\n"
     ]
    },
    {
     "name": "stderr",
     "output_type": "stream",
     "text": [
      "c:\\Users\\c10nGp4\\anaconda3\\envs\\imbalance-multi-classification\\lib\\site-packages\\sklearn\\svm\\_base.py:1244: ConvergenceWarning: Liblinear failed to converge, increase the number of iterations.\n",
      "  warnings.warn(\n"
     ]
    },
    {
     "name": "stdout",
     "output_type": "stream",
     "text": [
      "2023-06-07 06:40:32 INFO: POS REMOVAL\n",
      "2023-06-07 06:40:32 INFO: DOCUMENT TRANSFORMER\n",
      "2023-06-07 06:40:32 INFO: POS REMOVAL\n",
      "2023-06-07 06:40:33 INFO: DOCUMENT TRANSFORMER\n"
     ]
    },
    {
     "name": "stderr",
     "output_type": "stream",
     "text": [
      "c:\\Users\\c10nGp4\\anaconda3\\envs\\imbalance-multi-classification\\lib\\site-packages\\sklearn\\svm\\_base.py:1244: ConvergenceWarning: Liblinear failed to converge, increase the number of iterations.\n",
      "  warnings.warn(\n"
     ]
    },
    {
     "name": "stdout",
     "output_type": "stream",
     "text": [
      "2023-06-07 06:40:36 INFO: POS REMOVAL\n",
      "2023-06-07 06:40:36 INFO: DOCUMENT TRANSFORMER\n",
      "2023-06-07 06:40:36 INFO: POS REMOVAL\n",
      "2023-06-07 06:40:36 INFO: DOCUMENT TRANSFORMER\n"
     ]
    },
    {
     "name": "stderr",
     "output_type": "stream",
     "text": [
      "c:\\Users\\c10nGp4\\anaconda3\\envs\\imbalance-multi-classification\\lib\\site-packages\\sklearn\\svm\\_base.py:1244: ConvergenceWarning: Liblinear failed to converge, increase the number of iterations.\n",
      "  warnings.warn(\n"
     ]
    },
    {
     "name": "stdout",
     "output_type": "stream",
     "text": [
      "2023-06-07 06:40:39 INFO: POS REMOVAL\n",
      "2023-06-07 06:40:39 INFO: DOCUMENT TRANSFORMER\n",
      "2023-06-07 06:40:39 INFO: POS REMOVAL\n",
      "2023-06-07 06:40:39 INFO: DOCUMENT TRANSFORMER\n"
     ]
    },
    {
     "name": "stderr",
     "output_type": "stream",
     "text": [
      "c:\\Users\\c10nGp4\\anaconda3\\envs\\imbalance-multi-classification\\lib\\site-packages\\sklearn\\svm\\_base.py:1244: ConvergenceWarning: Liblinear failed to converge, increase the number of iterations.\n",
      "  warnings.warn(\n"
     ]
    },
    {
     "name": "stdout",
     "output_type": "stream",
     "text": [
      "2023-06-07 06:40:43 INFO: POS REMOVAL\n",
      "2023-06-07 06:40:43 INFO: DOCUMENT TRANSFORMER\n",
      "2023-06-07 06:40:43 INFO: POS REMOVAL\n",
      "2023-06-07 06:40:43 INFO: DOCUMENT TRANSFORMER\n"
     ]
    },
    {
     "name": "stderr",
     "output_type": "stream",
     "text": [
      "c:\\Users\\c10nGp4\\anaconda3\\envs\\imbalance-multi-classification\\lib\\site-packages\\sklearn\\svm\\_base.py:1244: ConvergenceWarning: Liblinear failed to converge, increase the number of iterations.\n",
      "  warnings.warn(\n"
     ]
    },
    {
     "name": "stdout",
     "output_type": "stream",
     "text": [
      "2023-06-07 06:40:46 INFO: POS REMOVAL\n",
      "2023-06-07 06:40:46 INFO: DOCUMENT TRANSFORMER\n",
      "2023-06-07 06:40:46 INFO: POS REMOVAL\n",
      "2023-06-07 06:40:46 INFO: DOCUMENT TRANSFORMER\n"
     ]
    },
    {
     "name": "stderr",
     "output_type": "stream",
     "text": [
      "c:\\Users\\c10nGp4\\anaconda3\\envs\\imbalance-multi-classification\\lib\\site-packages\\sklearn\\svm\\_base.py:1244: ConvergenceWarning: Liblinear failed to converge, increase the number of iterations.\n",
      "  warnings.warn(\n"
     ]
    },
    {
     "name": "stdout",
     "output_type": "stream",
     "text": [
      "2023-06-07 06:40:49 INFO: POS REMOVAL\n",
      "2023-06-07 06:40:49 INFO: DOCUMENT TRANSFORMER\n",
      "2023-06-07 06:40:49 INFO: POS REMOVAL\n",
      "2023-06-07 06:40:50 INFO: DOCUMENT TRANSFORMER\n"
     ]
    },
    {
     "name": "stderr",
     "output_type": "stream",
     "text": [
      "c:\\Users\\c10nGp4\\anaconda3\\envs\\imbalance-multi-classification\\lib\\site-packages\\sklearn\\svm\\_base.py:1244: ConvergenceWarning: Liblinear failed to converge, increase the number of iterations.\n",
      "  warnings.warn(\n"
     ]
    },
    {
     "name": "stdout",
     "output_type": "stream",
     "text": [
      "2023-06-07 06:40:53 INFO: POS REMOVAL\n",
      "2023-06-07 06:40:53 INFO: DOCUMENT TRANSFORMER\n",
      "2023-06-07 06:40:53 INFO: POS REMOVAL\n",
      "2023-06-07 06:40:53 INFO: DOCUMENT TRANSFORMER\n"
     ]
    },
    {
     "name": "stderr",
     "output_type": "stream",
     "text": [
      "c:\\Users\\c10nGp4\\anaconda3\\envs\\imbalance-multi-classification\\lib\\site-packages\\sklearn\\svm\\_base.py:1244: ConvergenceWarning: Liblinear failed to converge, increase the number of iterations.\n",
      "  warnings.warn(\n"
     ]
    },
    {
     "name": "stdout",
     "output_type": "stream",
     "text": [
      "2023-06-07 06:40:56 INFO: POS REMOVAL\n",
      "2023-06-07 06:40:56 INFO: DOCUMENT TRANSFORMER\n",
      "2023-06-07 06:40:56 INFO: POS REMOVAL\n",
      "2023-06-07 06:40:56 INFO: DOCUMENT TRANSFORMER\n"
     ]
    },
    {
     "name": "stderr",
     "output_type": "stream",
     "text": [
      "c:\\Users\\c10nGp4\\anaconda3\\envs\\imbalance-multi-classification\\lib\\site-packages\\sklearn\\svm\\_base.py:1244: ConvergenceWarning: Liblinear failed to converge, increase the number of iterations.\n",
      "  warnings.warn(\n"
     ]
    },
    {
     "name": "stdout",
     "output_type": "stream",
     "text": [
      "2023-06-07 06:41:00 INFO: POS REMOVAL\n",
      "2023-06-07 06:41:00 INFO: DOCUMENT TRANSFORMER\n",
      "2023-06-07 06:41:00 INFO: POS REMOVAL\n",
      "2023-06-07 06:41:00 INFO: DOCUMENT TRANSFORMER\n"
     ]
    },
    {
     "name": "stderr",
     "output_type": "stream",
     "text": [
      "c:\\Users\\c10nGp4\\anaconda3\\envs\\imbalance-multi-classification\\lib\\site-packages\\sklearn\\svm\\_base.py:1244: ConvergenceWarning: Liblinear failed to converge, increase the number of iterations.\n",
      "  warnings.warn(\n"
     ]
    },
    {
     "name": "stdout",
     "output_type": "stream",
     "text": [
      "2023-06-07 06:41:03 INFO: POS REMOVAL\n",
      "2023-06-07 06:41:03 INFO: DOCUMENT TRANSFORMER\n",
      "2023-06-07 06:41:03 INFO: POS REMOVAL\n",
      "2023-06-07 06:41:03 INFO: DOCUMENT TRANSFORMER\n"
     ]
    },
    {
     "name": "stderr",
     "output_type": "stream",
     "text": [
      "c:\\Users\\c10nGp4\\anaconda3\\envs\\imbalance-multi-classification\\lib\\site-packages\\sklearn\\svm\\_base.py:1244: ConvergenceWarning: Liblinear failed to converge, increase the number of iterations.\n",
      "  warnings.warn(\n"
     ]
    },
    {
     "name": "stdout",
     "output_type": "stream",
     "text": [
      "2023-06-07 06:41:07 INFO: POS REMOVAL\n",
      "2023-06-07 06:41:07 INFO: DOCUMENT TRANSFORMER\n",
      "2023-06-07 06:41:07 INFO: POS REMOVAL\n",
      "2023-06-07 06:41:07 INFO: DOCUMENT TRANSFORMER\n"
     ]
    },
    {
     "name": "stderr",
     "output_type": "stream",
     "text": [
      "c:\\Users\\c10nGp4\\anaconda3\\envs\\imbalance-multi-classification\\lib\\site-packages\\sklearn\\svm\\_base.py:1244: ConvergenceWarning: Liblinear failed to converge, increase the number of iterations.\n",
      "  warnings.warn(\n"
     ]
    },
    {
     "name": "stdout",
     "output_type": "stream",
     "text": [
      "2023-06-07 06:41:11 INFO: POS REMOVAL\n",
      "2023-06-07 06:41:11 INFO: DOCUMENT TRANSFORMER\n",
      "2023-06-07 06:41:11 INFO: POS REMOVAL\n",
      "2023-06-07 06:41:11 INFO: DOCUMENT TRANSFORMER\n"
     ]
    },
    {
     "name": "stderr",
     "output_type": "stream",
     "text": [
      "c:\\Users\\c10nGp4\\anaconda3\\envs\\imbalance-multi-classification\\lib\\site-packages\\sklearn\\svm\\_base.py:1244: ConvergenceWarning: Liblinear failed to converge, increase the number of iterations.\n",
      "  warnings.warn(\n"
     ]
    },
    {
     "name": "stdout",
     "output_type": "stream",
     "text": [
      "2023-06-07 06:41:15 INFO: POS REMOVAL\n",
      "2023-06-07 06:41:15 INFO: DOCUMENT TRANSFORMER\n",
      "2023-06-07 06:41:15 INFO: POS REMOVAL\n",
      "2023-06-07 06:41:15 INFO: DOCUMENT TRANSFORMER\n"
     ]
    },
    {
     "name": "stderr",
     "output_type": "stream",
     "text": [
      "c:\\Users\\c10nGp4\\anaconda3\\envs\\imbalance-multi-classification\\lib\\site-packages\\sklearn\\svm\\_base.py:1244: ConvergenceWarning: Liblinear failed to converge, increase the number of iterations.\n",
      "  warnings.warn(\n"
     ]
    },
    {
     "name": "stdout",
     "output_type": "stream",
     "text": [
      "2023-06-07 06:41:18 INFO: POS REMOVAL\n",
      "2023-06-07 06:41:18 INFO: DOCUMENT TRANSFORMER\n",
      "2023-06-07 06:41:18 INFO: POS REMOVAL\n",
      "2023-06-07 06:41:18 INFO: DOCUMENT TRANSFORMER\n"
     ]
    },
    {
     "name": "stderr",
     "output_type": "stream",
     "text": [
      "c:\\Users\\c10nGp4\\anaconda3\\envs\\imbalance-multi-classification\\lib\\site-packages\\sklearn\\svm\\_base.py:1244: ConvergenceWarning: Liblinear failed to converge, increase the number of iterations.\n",
      "  warnings.warn(\n"
     ]
    },
    {
     "name": "stdout",
     "output_type": "stream",
     "text": [
      "2023-06-07 06:41:22 INFO: POS REMOVAL\n",
      "2023-06-07 06:41:22 INFO: DOCUMENT TRANSFORMER\n",
      "2023-06-07 06:41:22 INFO: POS REMOVAL\n",
      "2023-06-07 06:41:22 INFO: DOCUMENT TRANSFORMER\n"
     ]
    },
    {
     "name": "stderr",
     "output_type": "stream",
     "text": [
      "c:\\Users\\c10nGp4\\anaconda3\\envs\\imbalance-multi-classification\\lib\\site-packages\\sklearn\\svm\\_base.py:1244: ConvergenceWarning: Liblinear failed to converge, increase the number of iterations.\n",
      "  warnings.warn(\n"
     ]
    },
    {
     "name": "stdout",
     "output_type": "stream",
     "text": [
      "2023-06-07 06:41:25 INFO: POS REMOVAL\n",
      "2023-06-07 06:41:25 INFO: DOCUMENT TRANSFORMER\n",
      "2023-06-07 06:41:25 INFO: POS REMOVAL\n",
      "2023-06-07 06:41:25 INFO: DOCUMENT TRANSFORMER\n"
     ]
    },
    {
     "name": "stderr",
     "output_type": "stream",
     "text": [
      "c:\\Users\\c10nGp4\\anaconda3\\envs\\imbalance-multi-classification\\lib\\site-packages\\sklearn\\svm\\_base.py:1244: ConvergenceWarning: Liblinear failed to converge, increase the number of iterations.\n",
      "  warnings.warn(\n"
     ]
    },
    {
     "name": "stdout",
     "output_type": "stream",
     "text": [
      "2023-06-07 06:41:28 INFO: POS REMOVAL\n",
      "2023-06-07 06:41:28 INFO: DOCUMENT TRANSFORMER\n",
      "2023-06-07 06:41:28 INFO: POS REMOVAL\n",
      "2023-06-07 06:41:29 INFO: DOCUMENT TRANSFORMER\n"
     ]
    },
    {
     "name": "stderr",
     "output_type": "stream",
     "text": [
      "c:\\Users\\c10nGp4\\anaconda3\\envs\\imbalance-multi-classification\\lib\\site-packages\\sklearn\\svm\\_base.py:1244: ConvergenceWarning: Liblinear failed to converge, increase the number of iterations.\n",
      "  warnings.warn(\n"
     ]
    },
    {
     "name": "stdout",
     "output_type": "stream",
     "text": [
      "2023-06-07 06:41:32 INFO: POS REMOVAL\n",
      "2023-06-07 06:41:32 INFO: DOCUMENT TRANSFORMER\n",
      "2023-06-07 06:41:32 INFO: POS REMOVAL\n",
      "2023-06-07 06:41:32 INFO: DOCUMENT TRANSFORMER\n"
     ]
    },
    {
     "name": "stderr",
     "output_type": "stream",
     "text": [
      "c:\\Users\\c10nGp4\\anaconda3\\envs\\imbalance-multi-classification\\lib\\site-packages\\sklearn\\svm\\_base.py:1244: ConvergenceWarning: Liblinear failed to converge, increase the number of iterations.\n",
      "  warnings.warn(\n"
     ]
    },
    {
     "name": "stdout",
     "output_type": "stream",
     "text": [
      "2023-06-07 06:41:35 INFO: POS REMOVAL\n",
      "2023-06-07 06:41:35 INFO: DOCUMENT TRANSFORMER\n",
      "2023-06-07 06:41:35 INFO: POS REMOVAL\n",
      "2023-06-07 06:41:35 INFO: DOCUMENT TRANSFORMER\n"
     ]
    },
    {
     "name": "stderr",
     "output_type": "stream",
     "text": [
      "c:\\Users\\c10nGp4\\anaconda3\\envs\\imbalance-multi-classification\\lib\\site-packages\\sklearn\\svm\\_base.py:1244: ConvergenceWarning: Liblinear failed to converge, increase the number of iterations.\n",
      "  warnings.warn(\n"
     ]
    },
    {
     "name": "stdout",
     "output_type": "stream",
     "text": [
      "2023-06-07 06:41:39 INFO: POS REMOVAL\n",
      "2023-06-07 06:41:39 INFO: DOCUMENT TRANSFORMER\n",
      "2023-06-07 06:41:39 INFO: POS REMOVAL\n",
      "2023-06-07 06:41:39 INFO: DOCUMENT TRANSFORMER\n"
     ]
    },
    {
     "name": "stderr",
     "output_type": "stream",
     "text": [
      "c:\\Users\\c10nGp4\\anaconda3\\envs\\imbalance-multi-classification\\lib\\site-packages\\sklearn\\svm\\_base.py:1244: ConvergenceWarning: Liblinear failed to converge, increase the number of iterations.\n",
      "  warnings.warn(\n"
     ]
    },
    {
     "name": "stdout",
     "output_type": "stream",
     "text": [
      "2023-06-07 06:41:42 INFO: POS REMOVAL\n",
      "2023-06-07 06:41:42 INFO: DOCUMENT TRANSFORMER\n",
      "2023-06-07 06:41:42 INFO: POS REMOVAL\n",
      "2023-06-07 06:41:42 INFO: DOCUMENT TRANSFORMER\n"
     ]
    },
    {
     "name": "stderr",
     "output_type": "stream",
     "text": [
      "c:\\Users\\c10nGp4\\anaconda3\\envs\\imbalance-multi-classification\\lib\\site-packages\\sklearn\\svm\\_base.py:1244: ConvergenceWarning: Liblinear failed to converge, increase the number of iterations.\n",
      "  warnings.warn(\n"
     ]
    },
    {
     "name": "stdout",
     "output_type": "stream",
     "text": [
      "2023-06-07 06:41:45 INFO: POS REMOVAL\n",
      "2023-06-07 06:41:45 INFO: DOCUMENT TRANSFORMER\n",
      "2023-06-07 06:41:45 INFO: POS REMOVAL\n",
      "2023-06-07 06:41:45 INFO: DOCUMENT TRANSFORMER\n"
     ]
    },
    {
     "name": "stderr",
     "output_type": "stream",
     "text": [
      "c:\\Users\\c10nGp4\\anaconda3\\envs\\imbalance-multi-classification\\lib\\site-packages\\sklearn\\svm\\_base.py:1244: ConvergenceWarning: Liblinear failed to converge, increase the number of iterations.\n",
      "  warnings.warn(\n"
     ]
    },
    {
     "name": "stdout",
     "output_type": "stream",
     "text": [
      "2023-06-07 06:41:48 INFO: POS REMOVAL\n",
      "2023-06-07 06:41:48 INFO: DOCUMENT TRANSFORMER\n",
      "2023-06-07 06:41:49 INFO: POS REMOVAL\n",
      "2023-06-07 06:41:49 INFO: DOCUMENT TRANSFORMER\n"
     ]
    },
    {
     "name": "stderr",
     "output_type": "stream",
     "text": [
      "c:\\Users\\c10nGp4\\anaconda3\\envs\\imbalance-multi-classification\\lib\\site-packages\\sklearn\\svm\\_base.py:1244: ConvergenceWarning: Liblinear failed to converge, increase the number of iterations.\n",
      "  warnings.warn(\n"
     ]
    },
    {
     "name": "stdout",
     "output_type": "stream",
     "text": [
      "2023-06-07 06:41:52 INFO: POS REMOVAL\n",
      "2023-06-07 06:41:52 INFO: DOCUMENT TRANSFORMER\n",
      "2023-06-07 06:41:52 INFO: POS REMOVAL\n",
      "2023-06-07 06:41:52 INFO: DOCUMENT TRANSFORMER\n"
     ]
    },
    {
     "name": "stderr",
     "output_type": "stream",
     "text": [
      "c:\\Users\\c10nGp4\\anaconda3\\envs\\imbalance-multi-classification\\lib\\site-packages\\sklearn\\svm\\_base.py:1244: ConvergenceWarning: Liblinear failed to converge, increase the number of iterations.\n",
      "  warnings.warn(\n"
     ]
    },
    {
     "name": "stdout",
     "output_type": "stream",
     "text": [
      "2023-06-07 06:41:55 INFO: POS REMOVAL\n",
      "2023-06-07 06:41:55 INFO: DOCUMENT TRANSFORMER\n",
      "2023-06-07 06:41:55 INFO: POS REMOVAL\n",
      "2023-06-07 06:41:55 INFO: DOCUMENT TRANSFORMER\n"
     ]
    },
    {
     "name": "stderr",
     "output_type": "stream",
     "text": [
      "c:\\Users\\c10nGp4\\anaconda3\\envs\\imbalance-multi-classification\\lib\\site-packages\\sklearn\\svm\\_base.py:1244: ConvergenceWarning: Liblinear failed to converge, increase the number of iterations.\n",
      "  warnings.warn(\n"
     ]
    },
    {
     "name": "stdout",
     "output_type": "stream",
     "text": [
      "2023-06-07 06:41:58 INFO: POS REMOVAL\n",
      "2023-06-07 06:41:58 INFO: DOCUMENT TRANSFORMER\n",
      "2023-06-07 06:41:59 INFO: POS REMOVAL\n",
      "2023-06-07 06:41:59 INFO: DOCUMENT TRANSFORMER\n"
     ]
    },
    {
     "name": "stderr",
     "output_type": "stream",
     "text": [
      "c:\\Users\\c10nGp4\\anaconda3\\envs\\imbalance-multi-classification\\lib\\site-packages\\sklearn\\svm\\_base.py:1244: ConvergenceWarning: Liblinear failed to converge, increase the number of iterations.\n",
      "  warnings.warn(\n"
     ]
    },
    {
     "name": "stdout",
     "output_type": "stream",
     "text": [
      "2023-06-07 06:42:02 INFO: POS REMOVAL\n",
      "2023-06-07 06:42:02 INFO: DOCUMENT TRANSFORMER\n",
      "2023-06-07 06:42:02 INFO: POS REMOVAL\n",
      "2023-06-07 06:42:02 INFO: DOCUMENT TRANSFORMER\n"
     ]
    },
    {
     "name": "stderr",
     "output_type": "stream",
     "text": [
      "c:\\Users\\c10nGp4\\anaconda3\\envs\\imbalance-multi-classification\\lib\\site-packages\\sklearn\\svm\\_base.py:1244: ConvergenceWarning: Liblinear failed to converge, increase the number of iterations.\n",
      "  warnings.warn(\n"
     ]
    },
    {
     "name": "stdout",
     "output_type": "stream",
     "text": [
      "2023-06-07 06:42:05 INFO: POS REMOVAL\n",
      "2023-06-07 06:42:05 INFO: DOCUMENT TRANSFORMER\n",
      "2023-06-07 06:42:05 INFO: POS REMOVAL\n",
      "2023-06-07 06:42:05 INFO: DOCUMENT TRANSFORMER\n"
     ]
    },
    {
     "name": "stderr",
     "output_type": "stream",
     "text": [
      "c:\\Users\\c10nGp4\\anaconda3\\envs\\imbalance-multi-classification\\lib\\site-packages\\sklearn\\svm\\_base.py:1244: ConvergenceWarning: Liblinear failed to converge, increase the number of iterations.\n",
      "  warnings.warn(\n"
     ]
    },
    {
     "name": "stdout",
     "output_type": "stream",
     "text": [
      "2023-06-07 06:42:08 INFO: POS REMOVAL\n",
      "2023-06-07 06:42:08 INFO: DOCUMENT TRANSFORMER\n",
      "2023-06-07 06:42:08 INFO: POS REMOVAL\n",
      "2023-06-07 06:42:08 INFO: DOCUMENT TRANSFORMER\n"
     ]
    },
    {
     "name": "stderr",
     "output_type": "stream",
     "text": [
      "c:\\Users\\c10nGp4\\anaconda3\\envs\\imbalance-multi-classification\\lib\\site-packages\\sklearn\\svm\\_base.py:1244: ConvergenceWarning: Liblinear failed to converge, increase the number of iterations.\n",
      "  warnings.warn(\n"
     ]
    },
    {
     "name": "stdout",
     "output_type": "stream",
     "text": [
      "2023-06-07 06:42:12 INFO: POS REMOVAL\n",
      "2023-06-07 06:42:12 INFO: DOCUMENT TRANSFORMER\n",
      "2023-06-07 06:42:12 INFO: POS REMOVAL\n",
      "2023-06-07 06:42:12 INFO: DOCUMENT TRANSFORMER\n"
     ]
    },
    {
     "name": "stderr",
     "output_type": "stream",
     "text": [
      "c:\\Users\\c10nGp4\\anaconda3\\envs\\imbalance-multi-classification\\lib\\site-packages\\sklearn\\svm\\_base.py:1244: ConvergenceWarning: Liblinear failed to converge, increase the number of iterations.\n",
      "  warnings.warn(\n"
     ]
    },
    {
     "name": "stdout",
     "output_type": "stream",
     "text": [
      "2023-06-07 06:42:15 INFO: POS REMOVAL\n",
      "2023-06-07 06:42:15 INFO: DOCUMENT TRANSFORMER\n",
      "2023-06-07 06:42:15 INFO: POS REMOVAL\n",
      "2023-06-07 06:42:15 INFO: DOCUMENT TRANSFORMER\n"
     ]
    },
    {
     "name": "stderr",
     "output_type": "stream",
     "text": [
      "c:\\Users\\c10nGp4\\anaconda3\\envs\\imbalance-multi-classification\\lib\\site-packages\\sklearn\\svm\\_base.py:1244: ConvergenceWarning: Liblinear failed to converge, increase the number of iterations.\n",
      "  warnings.warn(\n"
     ]
    },
    {
     "name": "stdout",
     "output_type": "stream",
     "text": [
      "2023-06-07 06:42:18 INFO: POS REMOVAL\n",
      "2023-06-07 06:42:18 INFO: DOCUMENT TRANSFORMER\n",
      "2023-06-07 06:42:18 INFO: POS REMOVAL\n",
      "2023-06-07 06:42:19 INFO: DOCUMENT TRANSFORMER\n"
     ]
    },
    {
     "name": "stderr",
     "output_type": "stream",
     "text": [
      "c:\\Users\\c10nGp4\\anaconda3\\envs\\imbalance-multi-classification\\lib\\site-packages\\sklearn\\svm\\_base.py:1244: ConvergenceWarning: Liblinear failed to converge, increase the number of iterations.\n",
      "  warnings.warn(\n"
     ]
    },
    {
     "name": "stdout",
     "output_type": "stream",
     "text": [
      "2023-06-07 06:42:22 INFO: POS REMOVAL\n",
      "2023-06-07 06:42:22 INFO: DOCUMENT TRANSFORMER\n",
      "2023-06-07 06:42:22 INFO: POS REMOVAL\n",
      "2023-06-07 06:42:22 INFO: DOCUMENT TRANSFORMER\n"
     ]
    },
    {
     "name": "stderr",
     "output_type": "stream",
     "text": [
      "c:\\Users\\c10nGp4\\anaconda3\\envs\\imbalance-multi-classification\\lib\\site-packages\\sklearn\\svm\\_base.py:1244: ConvergenceWarning: Liblinear failed to converge, increase the number of iterations.\n",
      "  warnings.warn(\n"
     ]
    },
    {
     "name": "stdout",
     "output_type": "stream",
     "text": [
      "2023-06-07 06:42:25 INFO: POS REMOVAL\n",
      "2023-06-07 06:42:25 INFO: DOCUMENT TRANSFORMER\n",
      "2023-06-07 06:42:25 INFO: POS REMOVAL\n",
      "2023-06-07 06:42:25 INFO: DOCUMENT TRANSFORMER\n"
     ]
    },
    {
     "name": "stderr",
     "output_type": "stream",
     "text": [
      "c:\\Users\\c10nGp4\\anaconda3\\envs\\imbalance-multi-classification\\lib\\site-packages\\sklearn\\svm\\_base.py:1244: ConvergenceWarning: Liblinear failed to converge, increase the number of iterations.\n",
      "  warnings.warn(\n"
     ]
    },
    {
     "name": "stdout",
     "output_type": "stream",
     "text": [
      "2023-06-07 06:42:28 INFO: POS REMOVAL\n",
      "2023-06-07 06:42:28 INFO: DOCUMENT TRANSFORMER\n",
      "2023-06-07 06:42:28 INFO: POS REMOVAL\n",
      "2023-06-07 06:42:28 INFO: DOCUMENT TRANSFORMER\n"
     ]
    },
    {
     "name": "stderr",
     "output_type": "stream",
     "text": [
      "c:\\Users\\c10nGp4\\anaconda3\\envs\\imbalance-multi-classification\\lib\\site-packages\\sklearn\\svm\\_base.py:1244: ConvergenceWarning: Liblinear failed to converge, increase the number of iterations.\n",
      "  warnings.warn(\n"
     ]
    },
    {
     "name": "stdout",
     "output_type": "stream",
     "text": [
      "2023-06-07 06:42:32 INFO: POS REMOVAL\n",
      "2023-06-07 06:42:32 INFO: DOCUMENT TRANSFORMER\n",
      "2023-06-07 06:42:32 INFO: POS REMOVAL\n",
      "2023-06-07 06:42:32 INFO: DOCUMENT TRANSFORMER\n"
     ]
    },
    {
     "name": "stderr",
     "output_type": "stream",
     "text": [
      "c:\\Users\\c10nGp4\\anaconda3\\envs\\imbalance-multi-classification\\lib\\site-packages\\sklearn\\svm\\_base.py:1244: ConvergenceWarning: Liblinear failed to converge, increase the number of iterations.\n",
      "  warnings.warn(\n"
     ]
    },
    {
     "name": "stdout",
     "output_type": "stream",
     "text": [
      "2023-06-07 06:42:35 INFO: POS REMOVAL\n",
      "2023-06-07 06:42:35 INFO: DOCUMENT TRANSFORMER\n",
      "2023-06-07 06:42:35 INFO: POS REMOVAL\n",
      "2023-06-07 06:42:35 INFO: DOCUMENT TRANSFORMER\n"
     ]
    },
    {
     "name": "stderr",
     "output_type": "stream",
     "text": [
      "c:\\Users\\c10nGp4\\anaconda3\\envs\\imbalance-multi-classification\\lib\\site-packages\\sklearn\\svm\\_base.py:1244: ConvergenceWarning: Liblinear failed to converge, increase the number of iterations.\n",
      "  warnings.warn(\n"
     ]
    },
    {
     "name": "stdout",
     "output_type": "stream",
     "text": [
      "2023-06-07 06:42:38 INFO: POS REMOVAL\n",
      "2023-06-07 06:42:38 INFO: DOCUMENT TRANSFORMER\n",
      "2023-06-07 06:42:38 INFO: POS REMOVAL\n",
      "2023-06-07 06:42:38 INFO: DOCUMENT TRANSFORMER\n"
     ]
    },
    {
     "name": "stderr",
     "output_type": "stream",
     "text": [
      "c:\\Users\\c10nGp4\\anaconda3\\envs\\imbalance-multi-classification\\lib\\site-packages\\sklearn\\svm\\_base.py:1244: ConvergenceWarning: Liblinear failed to converge, increase the number of iterations.\n",
      "  warnings.warn(\n"
     ]
    },
    {
     "name": "stdout",
     "output_type": "stream",
     "text": [
      "2023-06-07 06:42:41 INFO: POS REMOVAL\n",
      "2023-06-07 06:42:41 INFO: DOCUMENT TRANSFORMER\n",
      "2023-06-07 06:42:42 INFO: POS REMOVAL\n",
      "2023-06-07 06:42:42 INFO: DOCUMENT TRANSFORMER\n"
     ]
    },
    {
     "name": "stderr",
     "output_type": "stream",
     "text": [
      "c:\\Users\\c10nGp4\\anaconda3\\envs\\imbalance-multi-classification\\lib\\site-packages\\sklearn\\svm\\_base.py:1244: ConvergenceWarning: Liblinear failed to converge, increase the number of iterations.\n",
      "  warnings.warn(\n"
     ]
    },
    {
     "name": "stdout",
     "output_type": "stream",
     "text": [
      "2023-06-07 06:42:45 INFO: POS REMOVAL\n",
      "2023-06-07 06:42:45 INFO: DOCUMENT TRANSFORMER\n",
      "2023-06-07 06:42:45 INFO: POS REMOVAL\n",
      "2023-06-07 06:42:45 INFO: DOCUMENT TRANSFORMER\n"
     ]
    },
    {
     "name": "stderr",
     "output_type": "stream",
     "text": [
      "c:\\Users\\c10nGp4\\anaconda3\\envs\\imbalance-multi-classification\\lib\\site-packages\\sklearn\\svm\\_base.py:1244: ConvergenceWarning: Liblinear failed to converge, increase the number of iterations.\n",
      "  warnings.warn(\n"
     ]
    },
    {
     "name": "stdout",
     "output_type": "stream",
     "text": [
      "2023-06-07 06:42:49 INFO: POS REMOVAL\n",
      "2023-06-07 06:42:49 INFO: DOCUMENT TRANSFORMER\n",
      "2023-06-07 06:42:49 INFO: POS REMOVAL\n",
      "2023-06-07 06:42:49 INFO: DOCUMENT TRANSFORMER\n"
     ]
    },
    {
     "name": "stderr",
     "output_type": "stream",
     "text": [
      "c:\\Users\\c10nGp4\\anaconda3\\envs\\imbalance-multi-classification\\lib\\site-packages\\sklearn\\svm\\_base.py:1244: ConvergenceWarning: Liblinear failed to converge, increase the number of iterations.\n",
      "  warnings.warn(\n"
     ]
    },
    {
     "name": "stdout",
     "output_type": "stream",
     "text": [
      "2023-06-07 06:42:54 INFO: POS REMOVAL\n",
      "2023-06-07 06:42:54 INFO: DOCUMENT TRANSFORMER\n",
      "2023-06-07 06:42:54 INFO: POS REMOVAL\n",
      "2023-06-07 06:42:54 INFO: DOCUMENT TRANSFORMER\n"
     ]
    },
    {
     "name": "stderr",
     "output_type": "stream",
     "text": [
      "c:\\Users\\c10nGp4\\anaconda3\\envs\\imbalance-multi-classification\\lib\\site-packages\\sklearn\\svm\\_base.py:1244: ConvergenceWarning: Liblinear failed to converge, increase the number of iterations.\n",
      "  warnings.warn(\n"
     ]
    },
    {
     "name": "stdout",
     "output_type": "stream",
     "text": [
      "2023-06-07 06:42:59 INFO: POS REMOVAL\n",
      "2023-06-07 06:42:59 INFO: DOCUMENT TRANSFORMER\n",
      "2023-06-07 06:42:59 INFO: POS REMOVAL\n",
      "2023-06-07 06:42:59 INFO: DOCUMENT TRANSFORMER\n"
     ]
    },
    {
     "name": "stderr",
     "output_type": "stream",
     "text": [
      "c:\\Users\\c10nGp4\\anaconda3\\envs\\imbalance-multi-classification\\lib\\site-packages\\sklearn\\svm\\_base.py:1244: ConvergenceWarning: Liblinear failed to converge, increase the number of iterations.\n",
      "  warnings.warn(\n"
     ]
    },
    {
     "name": "stdout",
     "output_type": "stream",
     "text": [
      "2023-06-07 06:43:04 INFO: POS REMOVAL\n",
      "2023-06-07 06:43:04 INFO: DOCUMENT TRANSFORMER\n",
      "2023-06-07 06:43:04 INFO: POS REMOVAL\n",
      "2023-06-07 06:43:04 INFO: DOCUMENT TRANSFORMER\n"
     ]
    },
    {
     "name": "stderr",
     "output_type": "stream",
     "text": [
      "c:\\Users\\c10nGp4\\anaconda3\\envs\\imbalance-multi-classification\\lib\\site-packages\\sklearn\\svm\\_base.py:1244: ConvergenceWarning: Liblinear failed to converge, increase the number of iterations.\n",
      "  warnings.warn(\n"
     ]
    },
    {
     "name": "stdout",
     "output_type": "stream",
     "text": [
      "2023-06-07 06:43:08 INFO: POS REMOVAL\n",
      "2023-06-07 06:43:08 INFO: DOCUMENT TRANSFORMER\n",
      "2023-06-07 06:43:08 INFO: POS REMOVAL\n",
      "2023-06-07 06:43:08 INFO: DOCUMENT TRANSFORMER\n"
     ]
    },
    {
     "name": "stderr",
     "output_type": "stream",
     "text": [
      "c:\\Users\\c10nGp4\\anaconda3\\envs\\imbalance-multi-classification\\lib\\site-packages\\sklearn\\svm\\_base.py:1244: ConvergenceWarning: Liblinear failed to converge, increase the number of iterations.\n",
      "  warnings.warn(\n"
     ]
    },
    {
     "name": "stdout",
     "output_type": "stream",
     "text": [
      "2023-06-07 06:43:13 INFO: POS REMOVAL\n",
      "2023-06-07 06:43:13 INFO: DOCUMENT TRANSFORMER\n",
      "2023-06-07 06:43:13 INFO: POS REMOVAL\n",
      "2023-06-07 06:43:13 INFO: DOCUMENT TRANSFORMER\n"
     ]
    },
    {
     "name": "stderr",
     "output_type": "stream",
     "text": [
      "c:\\Users\\c10nGp4\\anaconda3\\envs\\imbalance-multi-classification\\lib\\site-packages\\sklearn\\svm\\_base.py:1244: ConvergenceWarning: Liblinear failed to converge, increase the number of iterations.\n",
      "  warnings.warn(\n"
     ]
    },
    {
     "name": "stdout",
     "output_type": "stream",
     "text": [
      "2023-06-07 06:43:17 INFO: POS REMOVAL\n",
      "2023-06-07 06:43:17 INFO: DOCUMENT TRANSFORMER\n",
      "2023-06-07 06:43:18 INFO: POS REMOVAL\n",
      "2023-06-07 06:43:18 INFO: DOCUMENT TRANSFORMER\n"
     ]
    },
    {
     "name": "stderr",
     "output_type": "stream",
     "text": [
      "c:\\Users\\c10nGp4\\anaconda3\\envs\\imbalance-multi-classification\\lib\\site-packages\\sklearn\\svm\\_base.py:1244: ConvergenceWarning: Liblinear failed to converge, increase the number of iterations.\n",
      "  warnings.warn(\n"
     ]
    },
    {
     "name": "stdout",
     "output_type": "stream",
     "text": [
      "2023-06-07 06:43:22 INFO: POS REMOVAL\n",
      "2023-06-07 06:43:22 INFO: DOCUMENT TRANSFORMER\n",
      "2023-06-07 06:43:22 INFO: POS REMOVAL\n",
      "2023-06-07 06:43:22 INFO: DOCUMENT TRANSFORMER\n"
     ]
    },
    {
     "name": "stderr",
     "output_type": "stream",
     "text": [
      "c:\\Users\\c10nGp4\\anaconda3\\envs\\imbalance-multi-classification\\lib\\site-packages\\sklearn\\svm\\_base.py:1244: ConvergenceWarning: Liblinear failed to converge, increase the number of iterations.\n",
      "  warnings.warn(\n"
     ]
    },
    {
     "name": "stdout",
     "output_type": "stream",
     "text": [
      "2023-06-07 06:43:26 INFO: POS REMOVAL\n",
      "2023-06-07 06:43:26 INFO: DOCUMENT TRANSFORMER\n",
      "2023-06-07 06:43:26 INFO: POS REMOVAL\n",
      "2023-06-07 06:43:26 INFO: DOCUMENT TRANSFORMER\n"
     ]
    },
    {
     "name": "stderr",
     "output_type": "stream",
     "text": [
      "c:\\Users\\c10nGp4\\anaconda3\\envs\\imbalance-multi-classification\\lib\\site-packages\\sklearn\\svm\\_base.py:1244: ConvergenceWarning: Liblinear failed to converge, increase the number of iterations.\n",
      "  warnings.warn(\n"
     ]
    },
    {
     "name": "stdout",
     "output_type": "stream",
     "text": [
      "2023-06-07 06:43:31 INFO: POS REMOVAL\n",
      "2023-06-07 06:43:31 INFO: DOCUMENT TRANSFORMER\n",
      "2023-06-07 06:43:31 INFO: POS REMOVAL\n",
      "2023-06-07 06:43:31 INFO: DOCUMENT TRANSFORMER\n"
     ]
    },
    {
     "name": "stderr",
     "output_type": "stream",
     "text": [
      "c:\\Users\\c10nGp4\\anaconda3\\envs\\imbalance-multi-classification\\lib\\site-packages\\sklearn\\svm\\_base.py:1244: ConvergenceWarning: Liblinear failed to converge, increase the number of iterations.\n",
      "  warnings.warn(\n"
     ]
    },
    {
     "name": "stdout",
     "output_type": "stream",
     "text": [
      "2023-06-07 06:43:35 INFO: POS REMOVAL\n",
      "2023-06-07 06:43:35 INFO: DOCUMENT TRANSFORMER\n",
      "2023-06-07 06:43:35 INFO: POS REMOVAL\n",
      "2023-06-07 06:43:35 INFO: DOCUMENT TRANSFORMER\n"
     ]
    },
    {
     "name": "stderr",
     "output_type": "stream",
     "text": [
      "c:\\Users\\c10nGp4\\anaconda3\\envs\\imbalance-multi-classification\\lib\\site-packages\\sklearn\\svm\\_base.py:1244: ConvergenceWarning: Liblinear failed to converge, increase the number of iterations.\n",
      "  warnings.warn(\n"
     ]
    },
    {
     "name": "stdout",
     "output_type": "stream",
     "text": [
      "2023-06-07 06:43:40 INFO: POS REMOVAL\n",
      "2023-06-07 06:43:40 INFO: DOCUMENT TRANSFORMER\n",
      "2023-06-07 06:43:40 INFO: POS REMOVAL\n",
      "2023-06-07 06:43:40 INFO: DOCUMENT TRANSFORMER\n"
     ]
    },
    {
     "name": "stderr",
     "output_type": "stream",
     "text": [
      "c:\\Users\\c10nGp4\\anaconda3\\envs\\imbalance-multi-classification\\lib\\site-packages\\sklearn\\svm\\_base.py:1244: ConvergenceWarning: Liblinear failed to converge, increase the number of iterations.\n",
      "  warnings.warn(\n"
     ]
    },
    {
     "name": "stdout",
     "output_type": "stream",
     "text": [
      "2023-06-07 06:43:44 INFO: POS REMOVAL\n",
      "2023-06-07 06:43:44 INFO: DOCUMENT TRANSFORMER\n",
      "2023-06-07 06:43:44 INFO: POS REMOVAL\n",
      "2023-06-07 06:43:44 INFO: DOCUMENT TRANSFORMER\n"
     ]
    },
    {
     "name": "stderr",
     "output_type": "stream",
     "text": [
      "c:\\Users\\c10nGp4\\anaconda3\\envs\\imbalance-multi-classification\\lib\\site-packages\\sklearn\\svm\\_base.py:1244: ConvergenceWarning: Liblinear failed to converge, increase the number of iterations.\n",
      "  warnings.warn(\n"
     ]
    },
    {
     "name": "stdout",
     "output_type": "stream",
     "text": [
      "2023-06-07 06:43:49 INFO: POS REMOVAL\n",
      "2023-06-07 06:43:49 INFO: DOCUMENT TRANSFORMER\n",
      "2023-06-07 06:43:49 INFO: POS REMOVAL\n",
      "2023-06-07 06:43:49 INFO: DOCUMENT TRANSFORMER\n"
     ]
    },
    {
     "name": "stderr",
     "output_type": "stream",
     "text": [
      "c:\\Users\\c10nGp4\\anaconda3\\envs\\imbalance-multi-classification\\lib\\site-packages\\sklearn\\svm\\_base.py:1244: ConvergenceWarning: Liblinear failed to converge, increase the number of iterations.\n",
      "  warnings.warn(\n"
     ]
    },
    {
     "name": "stdout",
     "output_type": "stream",
     "text": [
      "2023-06-07 06:43:53 INFO: POS REMOVAL\n",
      "2023-06-07 06:43:53 INFO: DOCUMENT TRANSFORMER\n",
      "2023-06-07 06:43:53 INFO: POS REMOVAL\n",
      "2023-06-07 06:43:53 INFO: DOCUMENT TRANSFORMER\n"
     ]
    },
    {
     "name": "stderr",
     "output_type": "stream",
     "text": [
      "c:\\Users\\c10nGp4\\anaconda3\\envs\\imbalance-multi-classification\\lib\\site-packages\\sklearn\\svm\\_base.py:1244: ConvergenceWarning: Liblinear failed to converge, increase the number of iterations.\n",
      "  warnings.warn(\n"
     ]
    },
    {
     "name": "stdout",
     "output_type": "stream",
     "text": [
      "2023-06-07 06:43:58 INFO: POS REMOVAL\n",
      "2023-06-07 06:43:58 INFO: DOCUMENT TRANSFORMER\n",
      "2023-06-07 06:43:58 INFO: POS REMOVAL\n",
      "2023-06-07 06:43:58 INFO: DOCUMENT TRANSFORMER\n"
     ]
    },
    {
     "name": "stderr",
     "output_type": "stream",
     "text": [
      "c:\\Users\\c10nGp4\\anaconda3\\envs\\imbalance-multi-classification\\lib\\site-packages\\sklearn\\svm\\_base.py:1244: ConvergenceWarning: Liblinear failed to converge, increase the number of iterations.\n",
      "  warnings.warn(\n"
     ]
    },
    {
     "name": "stdout",
     "output_type": "stream",
     "text": [
      "2023-06-07 06:44:02 INFO: POS REMOVAL\n",
      "2023-06-07 06:44:02 INFO: DOCUMENT TRANSFORMER\n",
      "2023-06-07 06:44:02 INFO: POS REMOVAL\n",
      "2023-06-07 06:44:03 INFO: DOCUMENT TRANSFORMER\n"
     ]
    },
    {
     "name": "stderr",
     "output_type": "stream",
     "text": [
      "c:\\Users\\c10nGp4\\anaconda3\\envs\\imbalance-multi-classification\\lib\\site-packages\\sklearn\\svm\\_base.py:1244: ConvergenceWarning: Liblinear failed to converge, increase the number of iterations.\n",
      "  warnings.warn(\n"
     ]
    },
    {
     "name": "stdout",
     "output_type": "stream",
     "text": [
      "2023-06-07 06:44:07 INFO: POS REMOVAL\n",
      "2023-06-07 06:44:07 INFO: DOCUMENT TRANSFORMER\n",
      "2023-06-07 06:44:07 INFO: POS REMOVAL\n",
      "2023-06-07 06:44:07 INFO: DOCUMENT TRANSFORMER\n"
     ]
    },
    {
     "name": "stderr",
     "output_type": "stream",
     "text": [
      "c:\\Users\\c10nGp4\\anaconda3\\envs\\imbalance-multi-classification\\lib\\site-packages\\sklearn\\svm\\_base.py:1244: ConvergenceWarning: Liblinear failed to converge, increase the number of iterations.\n",
      "  warnings.warn(\n"
     ]
    },
    {
     "name": "stdout",
     "output_type": "stream",
     "text": [
      "2023-06-07 06:44:12 INFO: POS REMOVAL\n",
      "2023-06-07 06:44:12 INFO: DOCUMENT TRANSFORMER\n",
      "2023-06-07 06:44:12 INFO: POS REMOVAL\n",
      "2023-06-07 06:44:12 INFO: DOCUMENT TRANSFORMER\n"
     ]
    },
    {
     "name": "stderr",
     "output_type": "stream",
     "text": [
      "c:\\Users\\c10nGp4\\anaconda3\\envs\\imbalance-multi-classification\\lib\\site-packages\\sklearn\\svm\\_base.py:1244: ConvergenceWarning: Liblinear failed to converge, increase the number of iterations.\n",
      "  warnings.warn(\n"
     ]
    },
    {
     "name": "stdout",
     "output_type": "stream",
     "text": [
      "2023-06-07 06:44:17 INFO: POS REMOVAL\n",
      "2023-06-07 06:44:17 INFO: DOCUMENT TRANSFORMER\n",
      "2023-06-07 06:44:17 INFO: POS REMOVAL\n",
      "2023-06-07 06:44:17 INFO: DOCUMENT TRANSFORMER\n"
     ]
    },
    {
     "name": "stderr",
     "output_type": "stream",
     "text": [
      "c:\\Users\\c10nGp4\\anaconda3\\envs\\imbalance-multi-classification\\lib\\site-packages\\sklearn\\svm\\_base.py:1244: ConvergenceWarning: Liblinear failed to converge, increase the number of iterations.\n",
      "  warnings.warn(\n"
     ]
    },
    {
     "name": "stdout",
     "output_type": "stream",
     "text": [
      "2023-06-07 06:44:20 INFO: POS REMOVAL\n",
      "2023-06-07 06:44:20 INFO: DOCUMENT TRANSFORMER\n",
      "2023-06-07 06:44:20 INFO: POS REMOVAL\n",
      "2023-06-07 06:44:20 INFO: DOCUMENT TRANSFORMER\n"
     ]
    },
    {
     "name": "stderr",
     "output_type": "stream",
     "text": [
      "c:\\Users\\c10nGp4\\anaconda3\\envs\\imbalance-multi-classification\\lib\\site-packages\\sklearn\\svm\\_base.py:1244: ConvergenceWarning: Liblinear failed to converge, increase the number of iterations.\n",
      "  warnings.warn(\n"
     ]
    },
    {
     "name": "stdout",
     "output_type": "stream",
     "text": [
      "2023-06-07 06:44:23 INFO: POS REMOVAL\n",
      "2023-06-07 06:44:23 INFO: DOCUMENT TRANSFORMER\n",
      "2023-06-07 06:44:23 INFO: POS REMOVAL\n",
      "2023-06-07 06:44:23 INFO: DOCUMENT TRANSFORMER\n"
     ]
    },
    {
     "name": "stderr",
     "output_type": "stream",
     "text": [
      "c:\\Users\\c10nGp4\\anaconda3\\envs\\imbalance-multi-classification\\lib\\site-packages\\sklearn\\svm\\_base.py:1244: ConvergenceWarning: Liblinear failed to converge, increase the number of iterations.\n",
      "  warnings.warn(\n"
     ]
    },
    {
     "name": "stdout",
     "output_type": "stream",
     "text": [
      "2023-06-07 06:44:26 INFO: POS REMOVAL\n",
      "2023-06-07 06:44:26 INFO: DOCUMENT TRANSFORMER\n",
      "2023-06-07 06:44:26 INFO: POS REMOVAL\n",
      "2023-06-07 06:44:26 INFO: DOCUMENT TRANSFORMER\n"
     ]
    },
    {
     "name": "stderr",
     "output_type": "stream",
     "text": [
      "c:\\Users\\c10nGp4\\anaconda3\\envs\\imbalance-multi-classification\\lib\\site-packages\\sklearn\\svm\\_base.py:1244: ConvergenceWarning: Liblinear failed to converge, increase the number of iterations.\n",
      "  warnings.warn(\n"
     ]
    },
    {
     "name": "stdout",
     "output_type": "stream",
     "text": [
      "2023-06-07 06:44:29 INFO: POS REMOVAL\n",
      "2023-06-07 06:44:29 INFO: DOCUMENT TRANSFORMER\n",
      "2023-06-07 06:44:29 INFO: POS REMOVAL\n",
      "2023-06-07 06:44:29 INFO: DOCUMENT TRANSFORMER\n"
     ]
    },
    {
     "name": "stderr",
     "output_type": "stream",
     "text": [
      "c:\\Users\\c10nGp4\\anaconda3\\envs\\imbalance-multi-classification\\lib\\site-packages\\sklearn\\svm\\_base.py:1244: ConvergenceWarning: Liblinear failed to converge, increase the number of iterations.\n",
      "  warnings.warn(\n"
     ]
    },
    {
     "name": "stdout",
     "output_type": "stream",
     "text": [
      "2023-06-07 06:44:32 INFO: POS REMOVAL\n",
      "2023-06-07 06:44:32 INFO: DOCUMENT TRANSFORMER\n",
      "2023-06-07 06:44:32 INFO: POS REMOVAL\n",
      "2023-06-07 06:44:32 INFO: DOCUMENT TRANSFORMER\n"
     ]
    },
    {
     "name": "stderr",
     "output_type": "stream",
     "text": [
      "c:\\Users\\c10nGp4\\anaconda3\\envs\\imbalance-multi-classification\\lib\\site-packages\\sklearn\\svm\\_base.py:1244: ConvergenceWarning: Liblinear failed to converge, increase the number of iterations.\n",
      "  warnings.warn(\n"
     ]
    },
    {
     "name": "stdout",
     "output_type": "stream",
     "text": [
      "2023-06-07 06:44:35 INFO: POS REMOVAL\n",
      "2023-06-07 06:44:35 INFO: DOCUMENT TRANSFORMER\n",
      "2023-06-07 06:44:35 INFO: POS REMOVAL\n",
      "2023-06-07 06:44:35 INFO: DOCUMENT TRANSFORMER\n"
     ]
    },
    {
     "name": "stderr",
     "output_type": "stream",
     "text": [
      "c:\\Users\\c10nGp4\\anaconda3\\envs\\imbalance-multi-classification\\lib\\site-packages\\sklearn\\svm\\_base.py:1244: ConvergenceWarning: Liblinear failed to converge, increase the number of iterations.\n",
      "  warnings.warn(\n"
     ]
    },
    {
     "name": "stdout",
     "output_type": "stream",
     "text": [
      "2023-06-07 06:44:38 INFO: POS REMOVAL\n",
      "2023-06-07 06:44:38 INFO: DOCUMENT TRANSFORMER\n",
      "2023-06-07 06:44:38 INFO: POS REMOVAL\n",
      "2023-06-07 06:44:38 INFO: DOCUMENT TRANSFORMER\n"
     ]
    },
    {
     "name": "stderr",
     "output_type": "stream",
     "text": [
      "c:\\Users\\c10nGp4\\anaconda3\\envs\\imbalance-multi-classification\\lib\\site-packages\\sklearn\\svm\\_base.py:1244: ConvergenceWarning: Liblinear failed to converge, increase the number of iterations.\n",
      "  warnings.warn(\n"
     ]
    },
    {
     "name": "stdout",
     "output_type": "stream",
     "text": [
      "2023-06-07 06:44:41 INFO: POS REMOVAL\n",
      "2023-06-07 06:44:41 INFO: DOCUMENT TRANSFORMER\n",
      "2023-06-07 06:44:41 INFO: POS REMOVAL\n",
      "2023-06-07 06:44:41 INFO: DOCUMENT TRANSFORMER\n"
     ]
    },
    {
     "name": "stderr",
     "output_type": "stream",
     "text": [
      "c:\\Users\\c10nGp4\\anaconda3\\envs\\imbalance-multi-classification\\lib\\site-packages\\sklearn\\svm\\_base.py:1244: ConvergenceWarning: Liblinear failed to converge, increase the number of iterations.\n",
      "  warnings.warn(\n"
     ]
    },
    {
     "name": "stdout",
     "output_type": "stream",
     "text": [
      "2023-06-07 06:44:44 INFO: POS REMOVAL\n",
      "2023-06-07 06:44:44 INFO: DOCUMENT TRANSFORMER\n",
      "2023-06-07 06:44:44 INFO: POS REMOVAL\n",
      "2023-06-07 06:44:45 INFO: DOCUMENT TRANSFORMER\n"
     ]
    },
    {
     "name": "stderr",
     "output_type": "stream",
     "text": [
      "c:\\Users\\c10nGp4\\anaconda3\\envs\\imbalance-multi-classification\\lib\\site-packages\\sklearn\\svm\\_base.py:1244: ConvergenceWarning: Liblinear failed to converge, increase the number of iterations.\n",
      "  warnings.warn(\n"
     ]
    },
    {
     "name": "stdout",
     "output_type": "stream",
     "text": [
      "2023-06-07 06:44:48 INFO: POS REMOVAL\n",
      "2023-06-07 06:44:48 INFO: DOCUMENT TRANSFORMER\n",
      "2023-06-07 06:44:48 INFO: POS REMOVAL\n",
      "2023-06-07 06:44:48 INFO: DOCUMENT TRANSFORMER\n"
     ]
    },
    {
     "name": "stderr",
     "output_type": "stream",
     "text": [
      "c:\\Users\\c10nGp4\\anaconda3\\envs\\imbalance-multi-classification\\lib\\site-packages\\sklearn\\svm\\_base.py:1244: ConvergenceWarning: Liblinear failed to converge, increase the number of iterations.\n",
      "  warnings.warn(\n"
     ]
    },
    {
     "name": "stdout",
     "output_type": "stream",
     "text": [
      "2023-06-07 06:44:51 INFO: POS REMOVAL\n",
      "2023-06-07 06:44:51 INFO: DOCUMENT TRANSFORMER\n",
      "2023-06-07 06:44:51 INFO: POS REMOVAL\n",
      "2023-06-07 06:44:51 INFO: DOCUMENT TRANSFORMER\n"
     ]
    },
    {
     "name": "stderr",
     "output_type": "stream",
     "text": [
      "c:\\Users\\c10nGp4\\anaconda3\\envs\\imbalance-multi-classification\\lib\\site-packages\\sklearn\\svm\\_base.py:1244: ConvergenceWarning: Liblinear failed to converge, increase the number of iterations.\n",
      "  warnings.warn(\n"
     ]
    },
    {
     "name": "stdout",
     "output_type": "stream",
     "text": [
      "2023-06-07 06:44:54 INFO: POS REMOVAL\n",
      "2023-06-07 06:44:54 INFO: DOCUMENT TRANSFORMER\n",
      "2023-06-07 06:44:54 INFO: POS REMOVAL\n",
      "2023-06-07 06:44:54 INFO: DOCUMENT TRANSFORMER\n"
     ]
    },
    {
     "name": "stderr",
     "output_type": "stream",
     "text": [
      "c:\\Users\\c10nGp4\\anaconda3\\envs\\imbalance-multi-classification\\lib\\site-packages\\sklearn\\svm\\_base.py:1244: ConvergenceWarning: Liblinear failed to converge, increase the number of iterations.\n",
      "  warnings.warn(\n"
     ]
    },
    {
     "name": "stdout",
     "output_type": "stream",
     "text": [
      "2023-06-07 06:44:58 INFO: POS REMOVAL\n",
      "2023-06-07 06:44:58 INFO: DOCUMENT TRANSFORMER\n",
      "2023-06-07 06:44:58 INFO: POS REMOVAL\n",
      "2023-06-07 06:44:58 INFO: DOCUMENT TRANSFORMER\n"
     ]
    },
    {
     "name": "stderr",
     "output_type": "stream",
     "text": [
      "c:\\Users\\c10nGp4\\anaconda3\\envs\\imbalance-multi-classification\\lib\\site-packages\\sklearn\\svm\\_base.py:1244: ConvergenceWarning: Liblinear failed to converge, increase the number of iterations.\n",
      "  warnings.warn(\n"
     ]
    },
    {
     "name": "stdout",
     "output_type": "stream",
     "text": [
      "2023-06-07 06:45:01 INFO: POS REMOVAL\n",
      "2023-06-07 06:45:01 INFO: DOCUMENT TRANSFORMER\n",
      "2023-06-07 06:45:01 INFO: POS REMOVAL\n",
      "2023-06-07 06:45:01 INFO: DOCUMENT TRANSFORMER\n"
     ]
    },
    {
     "name": "stderr",
     "output_type": "stream",
     "text": [
      "c:\\Users\\c10nGp4\\anaconda3\\envs\\imbalance-multi-classification\\lib\\site-packages\\sklearn\\svm\\_base.py:1244: ConvergenceWarning: Liblinear failed to converge, increase the number of iterations.\n",
      "  warnings.warn(\n"
     ]
    },
    {
     "name": "stdout",
     "output_type": "stream",
     "text": [
      "2023-06-07 06:45:05 INFO: POS REMOVAL\n",
      "2023-06-07 06:45:05 INFO: DOCUMENT TRANSFORMER\n",
      "2023-06-07 06:45:05 INFO: POS REMOVAL\n",
      "2023-06-07 06:45:05 INFO: DOCUMENT TRANSFORMER\n"
     ]
    },
    {
     "name": "stderr",
     "output_type": "stream",
     "text": [
      "c:\\Users\\c10nGp4\\anaconda3\\envs\\imbalance-multi-classification\\lib\\site-packages\\sklearn\\svm\\_base.py:1244: ConvergenceWarning: Liblinear failed to converge, increase the number of iterations.\n",
      "  warnings.warn(\n"
     ]
    },
    {
     "name": "stdout",
     "output_type": "stream",
     "text": [
      "2023-06-07 06:45:08 INFO: POS REMOVAL\n",
      "2023-06-07 06:45:08 INFO: DOCUMENT TRANSFORMER\n",
      "2023-06-07 06:45:08 INFO: POS REMOVAL\n",
      "2023-06-07 06:45:08 INFO: DOCUMENT TRANSFORMER\n"
     ]
    },
    {
     "name": "stderr",
     "output_type": "stream",
     "text": [
      "c:\\Users\\c10nGp4\\anaconda3\\envs\\imbalance-multi-classification\\lib\\site-packages\\sklearn\\svm\\_base.py:1244: ConvergenceWarning: Liblinear failed to converge, increase the number of iterations.\n",
      "  warnings.warn(\n"
     ]
    },
    {
     "name": "stdout",
     "output_type": "stream",
     "text": [
      "2023-06-07 06:45:11 INFO: POS REMOVAL\n",
      "2023-06-07 06:45:11 INFO: DOCUMENT TRANSFORMER\n",
      "2023-06-07 06:45:11 INFO: POS REMOVAL\n",
      "2023-06-07 06:45:11 INFO: DOCUMENT TRANSFORMER\n"
     ]
    },
    {
     "name": "stderr",
     "output_type": "stream",
     "text": [
      "c:\\Users\\c10nGp4\\anaconda3\\envs\\imbalance-multi-classification\\lib\\site-packages\\sklearn\\svm\\_base.py:1244: ConvergenceWarning: Liblinear failed to converge, increase the number of iterations.\n",
      "  warnings.warn(\n"
     ]
    },
    {
     "name": "stdout",
     "output_type": "stream",
     "text": [
      "2023-06-07 06:45:15 INFO: POS REMOVAL\n",
      "2023-06-07 06:45:15 INFO: DOCUMENT TRANSFORMER\n",
      "2023-06-07 06:45:15 INFO: POS REMOVAL\n",
      "2023-06-07 06:45:15 INFO: DOCUMENT TRANSFORMER\n"
     ]
    },
    {
     "name": "stderr",
     "output_type": "stream",
     "text": [
      "c:\\Users\\c10nGp4\\anaconda3\\envs\\imbalance-multi-classification\\lib\\site-packages\\sklearn\\svm\\_base.py:1244: ConvergenceWarning: Liblinear failed to converge, increase the number of iterations.\n",
      "  warnings.warn(\n"
     ]
    },
    {
     "name": "stdout",
     "output_type": "stream",
     "text": [
      "2023-06-07 06:45:18 INFO: POS REMOVAL\n",
      "2023-06-07 06:45:18 INFO: DOCUMENT TRANSFORMER\n",
      "2023-06-07 06:45:18 INFO: POS REMOVAL\n",
      "2023-06-07 06:45:18 INFO: DOCUMENT TRANSFORMER\n"
     ]
    },
    {
     "name": "stderr",
     "output_type": "stream",
     "text": [
      "c:\\Users\\c10nGp4\\anaconda3\\envs\\imbalance-multi-classification\\lib\\site-packages\\sklearn\\svm\\_base.py:1244: ConvergenceWarning: Liblinear failed to converge, increase the number of iterations.\n",
      "  warnings.warn(\n"
     ]
    },
    {
     "name": "stdout",
     "output_type": "stream",
     "text": [
      "2023-06-07 06:45:21 INFO: POS REMOVAL\n",
      "2023-06-07 06:45:21 INFO: DOCUMENT TRANSFORMER\n",
      "2023-06-07 06:45:21 INFO: POS REMOVAL\n",
      "2023-06-07 06:45:21 INFO: DOCUMENT TRANSFORMER\n"
     ]
    },
    {
     "name": "stderr",
     "output_type": "stream",
     "text": [
      "c:\\Users\\c10nGp4\\anaconda3\\envs\\imbalance-multi-classification\\lib\\site-packages\\sklearn\\svm\\_base.py:1244: ConvergenceWarning: Liblinear failed to converge, increase the number of iterations.\n",
      "  warnings.warn(\n"
     ]
    },
    {
     "name": "stdout",
     "output_type": "stream",
     "text": [
      "2023-06-07 06:45:24 INFO: POS REMOVAL\n",
      "2023-06-07 06:45:24 INFO: DOCUMENT TRANSFORMER\n",
      "2023-06-07 06:45:25 INFO: POS REMOVAL\n",
      "2023-06-07 06:45:25 INFO: DOCUMENT TRANSFORMER\n"
     ]
    },
    {
     "name": "stderr",
     "output_type": "stream",
     "text": [
      "c:\\Users\\c10nGp4\\anaconda3\\envs\\imbalance-multi-classification\\lib\\site-packages\\sklearn\\svm\\_base.py:1244: ConvergenceWarning: Liblinear failed to converge, increase the number of iterations.\n",
      "  warnings.warn(\n"
     ]
    },
    {
     "name": "stdout",
     "output_type": "stream",
     "text": [
      "2023-06-07 06:45:28 INFO: POS REMOVAL\n",
      "2023-06-07 06:45:28 INFO: DOCUMENT TRANSFORMER\n",
      "2023-06-07 06:45:28 INFO: POS REMOVAL\n",
      "2023-06-07 06:45:28 INFO: DOCUMENT TRANSFORMER\n"
     ]
    },
    {
     "name": "stderr",
     "output_type": "stream",
     "text": [
      "c:\\Users\\c10nGp4\\anaconda3\\envs\\imbalance-multi-classification\\lib\\site-packages\\sklearn\\svm\\_base.py:1244: ConvergenceWarning: Liblinear failed to converge, increase the number of iterations.\n",
      "  warnings.warn(\n"
     ]
    },
    {
     "name": "stdout",
     "output_type": "stream",
     "text": [
      "2023-06-07 06:45:32 INFO: POS REMOVAL\n",
      "2023-06-07 06:45:32 INFO: DOCUMENT TRANSFORMER\n",
      "2023-06-07 06:45:32 INFO: POS REMOVAL\n",
      "2023-06-07 06:45:32 INFO: DOCUMENT TRANSFORMER\n"
     ]
    },
    {
     "name": "stderr",
     "output_type": "stream",
     "text": [
      "c:\\Users\\c10nGp4\\anaconda3\\envs\\imbalance-multi-classification\\lib\\site-packages\\sklearn\\svm\\_base.py:1244: ConvergenceWarning: Liblinear failed to converge, increase the number of iterations.\n",
      "  warnings.warn(\n"
     ]
    },
    {
     "name": "stdout",
     "output_type": "stream",
     "text": [
      "2023-06-07 06:45:35 INFO: POS REMOVAL\n",
      "2023-06-07 06:45:35 INFO: DOCUMENT TRANSFORMER\n",
      "2023-06-07 06:45:35 INFO: POS REMOVAL\n",
      "2023-06-07 06:45:35 INFO: DOCUMENT TRANSFORMER\n"
     ]
    },
    {
     "name": "stderr",
     "output_type": "stream",
     "text": [
      "c:\\Users\\c10nGp4\\anaconda3\\envs\\imbalance-multi-classification\\lib\\site-packages\\sklearn\\svm\\_base.py:1244: ConvergenceWarning: Liblinear failed to converge, increase the number of iterations.\n",
      "  warnings.warn(\n"
     ]
    },
    {
     "name": "stdout",
     "output_type": "stream",
     "text": [
      "2023-06-07 06:45:39 INFO: POS REMOVAL\n",
      "2023-06-07 06:45:39 INFO: DOCUMENT TRANSFORMER\n",
      "2023-06-07 06:45:39 INFO: POS REMOVAL\n",
      "2023-06-07 06:45:39 INFO: DOCUMENT TRANSFORMER\n"
     ]
    },
    {
     "name": "stderr",
     "output_type": "stream",
     "text": [
      "c:\\Users\\c10nGp4\\anaconda3\\envs\\imbalance-multi-classification\\lib\\site-packages\\sklearn\\svm\\_base.py:1244: ConvergenceWarning: Liblinear failed to converge, increase the number of iterations.\n",
      "  warnings.warn(\n"
     ]
    },
    {
     "name": "stdout",
     "output_type": "stream",
     "text": [
      "2023-06-07 06:45:42 INFO: POS REMOVAL\n",
      "2023-06-07 06:45:42 INFO: DOCUMENT TRANSFORMER\n",
      "2023-06-07 06:45:42 INFO: POS REMOVAL\n",
      "2023-06-07 06:45:42 INFO: DOCUMENT TRANSFORMER\n"
     ]
    },
    {
     "name": "stderr",
     "output_type": "stream",
     "text": [
      "c:\\Users\\c10nGp4\\anaconda3\\envs\\imbalance-multi-classification\\lib\\site-packages\\sklearn\\svm\\_base.py:1244: ConvergenceWarning: Liblinear failed to converge, increase the number of iterations.\n",
      "  warnings.warn(\n"
     ]
    },
    {
     "name": "stdout",
     "output_type": "stream",
     "text": [
      "2023-06-07 06:45:46 INFO: POS REMOVAL\n",
      "2023-06-07 06:45:46 INFO: DOCUMENT TRANSFORMER\n",
      "2023-06-07 06:45:46 INFO: POS REMOVAL\n",
      "2023-06-07 06:45:46 INFO: DOCUMENT TRANSFORMER\n"
     ]
    },
    {
     "name": "stderr",
     "output_type": "stream",
     "text": [
      "c:\\Users\\c10nGp4\\anaconda3\\envs\\imbalance-multi-classification\\lib\\site-packages\\sklearn\\svm\\_base.py:1244: ConvergenceWarning: Liblinear failed to converge, increase the number of iterations.\n",
      "  warnings.warn(\n"
     ]
    },
    {
     "name": "stdout",
     "output_type": "stream",
     "text": [
      "2023-06-07 06:45:49 INFO: POS REMOVAL\n",
      "2023-06-07 06:45:49 INFO: DOCUMENT TRANSFORMER\n",
      "2023-06-07 06:45:49 INFO: POS REMOVAL\n",
      "2023-06-07 06:45:49 INFO: DOCUMENT TRANSFORMER\n"
     ]
    },
    {
     "name": "stderr",
     "output_type": "stream",
     "text": [
      "c:\\Users\\c10nGp4\\anaconda3\\envs\\imbalance-multi-classification\\lib\\site-packages\\sklearn\\svm\\_base.py:1244: ConvergenceWarning: Liblinear failed to converge, increase the number of iterations.\n",
      "  warnings.warn(\n"
     ]
    },
    {
     "name": "stdout",
     "output_type": "stream",
     "text": [
      "2023-06-07 06:45:53 INFO: POS REMOVAL\n",
      "2023-06-07 06:45:53 INFO: DOCUMENT TRANSFORMER\n",
      "2023-06-07 06:45:53 INFO: POS REMOVAL\n",
      "2023-06-07 06:45:53 INFO: DOCUMENT TRANSFORMER\n"
     ]
    },
    {
     "name": "stderr",
     "output_type": "stream",
     "text": [
      "c:\\Users\\c10nGp4\\anaconda3\\envs\\imbalance-multi-classification\\lib\\site-packages\\sklearn\\svm\\_base.py:1244: ConvergenceWarning: Liblinear failed to converge, increase the number of iterations.\n",
      "  warnings.warn(\n"
     ]
    },
    {
     "name": "stdout",
     "output_type": "stream",
     "text": [
      "2023-06-07 06:45:56 INFO: POS REMOVAL\n",
      "2023-06-07 06:45:56 INFO: DOCUMENT TRANSFORMER\n",
      "2023-06-07 06:45:56 INFO: POS REMOVAL\n",
      "2023-06-07 06:45:56 INFO: DOCUMENT TRANSFORMER\n"
     ]
    },
    {
     "name": "stderr",
     "output_type": "stream",
     "text": [
      "c:\\Users\\c10nGp4\\anaconda3\\envs\\imbalance-multi-classification\\lib\\site-packages\\sklearn\\svm\\_base.py:1244: ConvergenceWarning: Liblinear failed to converge, increase the number of iterations.\n",
      "  warnings.warn(\n"
     ]
    },
    {
     "name": "stdout",
     "output_type": "stream",
     "text": [
      "2023-06-07 06:46:00 INFO: POS REMOVAL\n",
      "2023-06-07 06:46:00 INFO: DOCUMENT TRANSFORMER\n",
      "2023-06-07 06:46:00 INFO: POS REMOVAL\n",
      "2023-06-07 06:46:00 INFO: DOCUMENT TRANSFORMER\n"
     ]
    },
    {
     "name": "stderr",
     "output_type": "stream",
     "text": [
      "c:\\Users\\c10nGp4\\anaconda3\\envs\\imbalance-multi-classification\\lib\\site-packages\\sklearn\\svm\\_base.py:1244: ConvergenceWarning: Liblinear failed to converge, increase the number of iterations.\n",
      "  warnings.warn(\n"
     ]
    },
    {
     "name": "stdout",
     "output_type": "stream",
     "text": [
      "2023-06-07 06:46:03 INFO: POS REMOVAL\n",
      "2023-06-07 06:46:03 INFO: DOCUMENT TRANSFORMER\n",
      "2023-06-07 06:46:03 INFO: POS REMOVAL\n",
      "2023-06-07 06:46:03 INFO: DOCUMENT TRANSFORMER\n"
     ]
    },
    {
     "name": "stderr",
     "output_type": "stream",
     "text": [
      "c:\\Users\\c10nGp4\\anaconda3\\envs\\imbalance-multi-classification\\lib\\site-packages\\sklearn\\svm\\_base.py:1244: ConvergenceWarning: Liblinear failed to converge, increase the number of iterations.\n",
      "  warnings.warn(\n"
     ]
    },
    {
     "name": "stdout",
     "output_type": "stream",
     "text": [
      "2023-06-07 06:46:07 INFO: POS REMOVAL\n",
      "2023-06-07 06:46:07 INFO: DOCUMENT TRANSFORMER\n",
      "2023-06-07 06:46:07 INFO: POS REMOVAL\n",
      "2023-06-07 06:46:07 INFO: DOCUMENT TRANSFORMER\n"
     ]
    },
    {
     "name": "stderr",
     "output_type": "stream",
     "text": [
      "c:\\Users\\c10nGp4\\anaconda3\\envs\\imbalance-multi-classification\\lib\\site-packages\\sklearn\\svm\\_base.py:1244: ConvergenceWarning: Liblinear failed to converge, increase the number of iterations.\n",
      "  warnings.warn(\n"
     ]
    },
    {
     "name": "stdout",
     "output_type": "stream",
     "text": [
      "2023-06-07 06:46:10 INFO: POS REMOVAL\n",
      "2023-06-07 06:46:10 INFO: DOCUMENT TRANSFORMER\n",
      "2023-06-07 06:46:10 INFO: POS REMOVAL\n",
      "2023-06-07 06:46:10 INFO: DOCUMENT TRANSFORMER\n"
     ]
    },
    {
     "name": "stderr",
     "output_type": "stream",
     "text": [
      "c:\\Users\\c10nGp4\\anaconda3\\envs\\imbalance-multi-classification\\lib\\site-packages\\sklearn\\svm\\_base.py:1244: ConvergenceWarning: Liblinear failed to converge, increase the number of iterations.\n",
      "  warnings.warn(\n"
     ]
    },
    {
     "name": "stdout",
     "output_type": "stream",
     "text": [
      "2023-06-07 06:46:13 INFO: POS REMOVAL\n",
      "2023-06-07 06:46:13 INFO: DOCUMENT TRANSFORMER\n",
      "2023-06-07 06:46:14 INFO: POS REMOVAL\n",
      "2023-06-07 06:46:14 INFO: DOCUMENT TRANSFORMER\n"
     ]
    },
    {
     "name": "stderr",
     "output_type": "stream",
     "text": [
      "c:\\Users\\c10nGp4\\anaconda3\\envs\\imbalance-multi-classification\\lib\\site-packages\\sklearn\\svm\\_base.py:1244: ConvergenceWarning: Liblinear failed to converge, increase the number of iterations.\n",
      "  warnings.warn(\n"
     ]
    },
    {
     "name": "stdout",
     "output_type": "stream",
     "text": [
      "2023-06-07 06:46:17 INFO: POS REMOVAL\n",
      "2023-06-07 06:46:17 INFO: DOCUMENT TRANSFORMER\n",
      "2023-06-07 06:46:17 INFO: POS REMOVAL\n",
      "2023-06-07 06:46:17 INFO: DOCUMENT TRANSFORMER\n"
     ]
    },
    {
     "name": "stderr",
     "output_type": "stream",
     "text": [
      "c:\\Users\\c10nGp4\\anaconda3\\envs\\imbalance-multi-classification\\lib\\site-packages\\sklearn\\svm\\_base.py:1244: ConvergenceWarning: Liblinear failed to converge, increase the number of iterations.\n",
      "  warnings.warn(\n"
     ]
    },
    {
     "name": "stdout",
     "output_type": "stream",
     "text": [
      "2023-06-07 06:46:20 INFO: POS REMOVAL\n",
      "2023-06-07 06:46:20 INFO: DOCUMENT TRANSFORMER\n",
      "2023-06-07 06:46:21 INFO: POS REMOVAL\n",
      "2023-06-07 06:46:21 INFO: DOCUMENT TRANSFORMER\n"
     ]
    },
    {
     "name": "stderr",
     "output_type": "stream",
     "text": [
      "c:\\Users\\c10nGp4\\anaconda3\\envs\\imbalance-multi-classification\\lib\\site-packages\\sklearn\\svm\\_base.py:1244: ConvergenceWarning: Liblinear failed to converge, increase the number of iterations.\n",
      "  warnings.warn(\n"
     ]
    },
    {
     "name": "stdout",
     "output_type": "stream",
     "text": [
      "2023-06-07 06:46:24 INFO: POS REMOVAL\n",
      "2023-06-07 06:46:24 INFO: DOCUMENT TRANSFORMER\n",
      "2023-06-07 06:46:24 INFO: POS REMOVAL\n",
      "2023-06-07 06:46:24 INFO: DOCUMENT TRANSFORMER\n"
     ]
    },
    {
     "name": "stderr",
     "output_type": "stream",
     "text": [
      "c:\\Users\\c10nGp4\\anaconda3\\envs\\imbalance-multi-classification\\lib\\site-packages\\sklearn\\svm\\_base.py:1244: ConvergenceWarning: Liblinear failed to converge, increase the number of iterations.\n",
      "  warnings.warn(\n"
     ]
    },
    {
     "name": "stdout",
     "output_type": "stream",
     "text": [
      "2023-06-07 06:46:27 INFO: POS REMOVAL\n",
      "2023-06-07 06:46:27 INFO: DOCUMENT TRANSFORMER\n",
      "2023-06-07 06:46:27 INFO: POS REMOVAL\n",
      "2023-06-07 06:46:28 INFO: DOCUMENT TRANSFORMER\n"
     ]
    },
    {
     "name": "stderr",
     "output_type": "stream",
     "text": [
      "c:\\Users\\c10nGp4\\anaconda3\\envs\\imbalance-multi-classification\\lib\\site-packages\\sklearn\\svm\\_base.py:1244: ConvergenceWarning: Liblinear failed to converge, increase the number of iterations.\n",
      "  warnings.warn(\n"
     ]
    },
    {
     "name": "stdout",
     "output_type": "stream",
     "text": [
      "2023-06-07 06:46:31 INFO: POS REMOVAL\n",
      "2023-06-07 06:46:31 INFO: DOCUMENT TRANSFORMER\n",
      "2023-06-07 06:46:31 INFO: POS REMOVAL\n",
      "2023-06-07 06:46:31 INFO: DOCUMENT TRANSFORMER\n",
      "2023-06-07 06:46:31 INFO: POS REMOVAL\n",
      "2023-06-07 06:46:31 INFO: DOCUMENT TRANSFORMER\n",
      "2023-06-07 06:46:32 INFO: POS REMOVAL\n",
      "2023-06-07 06:46:32 INFO: DOCUMENT TRANSFORMER\n",
      "2023-06-07 06:46:32 INFO: POS REMOVAL\n",
      "2023-06-07 06:46:32 INFO: DOCUMENT TRANSFORMER\n",
      "2023-06-07 06:46:32 INFO: POS REMOVAL\n",
      "2023-06-07 06:46:33 INFO: DOCUMENT TRANSFORMER\n",
      "2023-06-07 06:46:33 INFO: POS REMOVAL\n",
      "2023-06-07 06:46:33 INFO: DOCUMENT TRANSFORMER\n",
      "2023-06-07 06:46:33 INFO: POS REMOVAL\n",
      "2023-06-07 06:46:33 INFO: DOCUMENT TRANSFORMER\n",
      "2023-06-07 06:46:34 INFO: POS REMOVAL\n",
      "2023-06-07 06:46:34 INFO: DOCUMENT TRANSFORMER\n",
      "2023-06-07 06:46:34 INFO: POS REMOVAL\n",
      "2023-06-07 06:46:34 INFO: DOCUMENT TRANSFORMER\n",
      "2023-06-07 06:46:34 INFO: POS REMOVAL\n",
      "2023-06-07 06:46:34 INFO: DOCUMENT TRANSFORMER\n",
      "2023-06-07 06:46:35 INFO: POS REMOVAL\n",
      "2023-06-07 06:46:35 INFO: DOCUMENT TRANSFORMER\n",
      "2023-06-07 06:46:35 INFO: POS REMOVAL\n",
      "2023-06-07 06:46:35 INFO: DOCUMENT TRANSFORMER\n",
      "2023-06-07 06:46:36 INFO: POS REMOVAL\n",
      "2023-06-07 06:46:36 INFO: DOCUMENT TRANSFORMER\n",
      "2023-06-07 06:46:36 INFO: POS REMOVAL\n",
      "2023-06-07 06:46:36 INFO: DOCUMENT TRANSFORMER\n",
      "2023-06-07 06:46:36 INFO: POS REMOVAL\n",
      "2023-06-07 06:46:36 INFO: DOCUMENT TRANSFORMER\n",
      "2023-06-07 06:46:37 INFO: POS REMOVAL\n",
      "2023-06-07 06:46:37 INFO: DOCUMENT TRANSFORMER\n",
      "2023-06-07 06:46:37 INFO: POS REMOVAL\n",
      "2023-06-07 06:46:37 INFO: DOCUMENT TRANSFORMER\n",
      "2023-06-07 06:46:38 INFO: POS REMOVAL\n",
      "2023-06-07 06:46:38 INFO: DOCUMENT TRANSFORMER\n",
      "2023-06-07 06:46:38 INFO: POS REMOVAL\n",
      "2023-06-07 06:46:38 INFO: DOCUMENT TRANSFORMER\n",
      "2023-06-07 06:46:38 INFO: POS REMOVAL\n",
      "2023-06-07 06:46:38 INFO: DOCUMENT TRANSFORMER\n",
      "2023-06-07 06:46:39 INFO: POS REMOVAL\n",
      "2023-06-07 06:46:39 INFO: DOCUMENT TRANSFORMER\n",
      "2023-06-07 06:46:40 INFO: POS REMOVAL\n",
      "2023-06-07 06:46:40 INFO: DOCUMENT TRANSFORMER\n",
      "2023-06-07 06:46:40 INFO: POS REMOVAL\n",
      "2023-06-07 06:46:40 INFO: DOCUMENT TRANSFORMER\n",
      "2023-06-07 06:46:41 INFO: POS REMOVAL\n",
      "2023-06-07 06:46:41 INFO: DOCUMENT TRANSFORMER\n",
      "2023-06-07 06:46:41 INFO: POS REMOVAL\n",
      "2023-06-07 06:46:41 INFO: DOCUMENT TRANSFORMER\n",
      "2023-06-07 06:46:42 INFO: POS REMOVAL\n",
      "2023-06-07 06:46:42 INFO: DOCUMENT TRANSFORMER\n",
      "2023-06-07 06:46:42 INFO: POS REMOVAL\n",
      "2023-06-07 06:46:42 INFO: DOCUMENT TRANSFORMER\n",
      "2023-06-07 06:46:43 INFO: POS REMOVAL\n",
      "2023-06-07 06:46:43 INFO: DOCUMENT TRANSFORMER\n",
      "2023-06-07 06:46:43 INFO: POS REMOVAL\n",
      "2023-06-07 06:46:43 INFO: DOCUMENT TRANSFORMER\n",
      "2023-06-07 06:46:44 INFO: POS REMOVAL\n",
      "2023-06-07 06:46:44 INFO: DOCUMENT TRANSFORMER\n",
      "2023-06-07 06:46:45 INFO: POS REMOVAL\n",
      "2023-06-07 06:46:45 INFO: DOCUMENT TRANSFORMER\n",
      "2023-06-07 06:46:45 INFO: POS REMOVAL\n",
      "2023-06-07 06:46:45 INFO: DOCUMENT TRANSFORMER\n",
      "2023-06-07 06:46:46 INFO: POS REMOVAL\n",
      "2023-06-07 06:46:46 INFO: DOCUMENT TRANSFORMER\n",
      "2023-06-07 06:46:46 INFO: POS REMOVAL\n",
      "2023-06-07 06:46:46 INFO: DOCUMENT TRANSFORMER\n",
      "2023-06-07 06:46:47 INFO: POS REMOVAL\n",
      "2023-06-07 06:46:47 INFO: DOCUMENT TRANSFORMER\n",
      "2023-06-07 06:46:47 INFO: POS REMOVAL\n",
      "2023-06-07 06:46:47 INFO: DOCUMENT TRANSFORMER\n",
      "2023-06-07 06:46:48 INFO: POS REMOVAL\n",
      "2023-06-07 06:46:48 INFO: DOCUMENT TRANSFORMER\n",
      "2023-06-07 06:46:48 INFO: POS REMOVAL\n",
      "2023-06-07 06:46:48 INFO: DOCUMENT TRANSFORMER\n",
      "2023-06-07 06:46:49 INFO: POS REMOVAL\n",
      "2023-06-07 06:46:49 INFO: DOCUMENT TRANSFORMER\n",
      "2023-06-07 06:46:49 INFO: POS REMOVAL\n",
      "2023-06-07 06:46:49 INFO: DOCUMENT TRANSFORMER\n",
      "2023-06-07 06:46:50 INFO: POS REMOVAL\n",
      "2023-06-07 06:46:50 INFO: DOCUMENT TRANSFORMER\n",
      "2023-06-07 06:46:50 INFO: POS REMOVAL\n",
      "2023-06-07 06:46:50 INFO: DOCUMENT TRANSFORMER\n",
      "2023-06-07 06:46:51 INFO: POS REMOVAL\n",
      "2023-06-07 06:46:51 INFO: DOCUMENT TRANSFORMER\n",
      "2023-06-07 06:46:51 INFO: POS REMOVAL\n",
      "2023-06-07 06:46:51 INFO: DOCUMENT TRANSFORMER\n",
      "2023-06-07 06:46:51 INFO: POS REMOVAL\n",
      "2023-06-07 06:46:51 INFO: DOCUMENT TRANSFORMER\n",
      "2023-06-07 06:46:52 INFO: POS REMOVAL\n",
      "2023-06-07 06:46:52 INFO: DOCUMENT TRANSFORMER\n",
      "2023-06-07 06:46:52 INFO: POS REMOVAL\n",
      "2023-06-07 06:46:52 INFO: DOCUMENT TRANSFORMER\n",
      "2023-06-07 06:46:53 INFO: POS REMOVAL\n",
      "2023-06-07 06:46:53 INFO: DOCUMENT TRANSFORMER\n",
      "2023-06-07 06:46:53 INFO: POS REMOVAL\n",
      "2023-06-07 06:46:53 INFO: DOCUMENT TRANSFORMER\n",
      "2023-06-07 06:46:53 INFO: POS REMOVAL\n",
      "2023-06-07 06:46:53 INFO: DOCUMENT TRANSFORMER\n",
      "2023-06-07 06:46:54 INFO: POS REMOVAL\n",
      "2023-06-07 06:46:54 INFO: DOCUMENT TRANSFORMER\n",
      "2023-06-07 06:46:54 INFO: POS REMOVAL\n",
      "2023-06-07 06:46:54 INFO: DOCUMENT TRANSFORMER\n",
      "2023-06-07 06:46:54 INFO: POS REMOVAL\n",
      "2023-06-07 06:46:55 INFO: DOCUMENT TRANSFORMER\n",
      "2023-06-07 06:46:55 INFO: POS REMOVAL\n",
      "2023-06-07 06:46:55 INFO: DOCUMENT TRANSFORMER\n",
      "2023-06-07 06:46:55 INFO: POS REMOVAL\n",
      "2023-06-07 06:46:55 INFO: DOCUMENT TRANSFORMER\n",
      "2023-06-07 06:46:56 INFO: POS REMOVAL\n",
      "2023-06-07 06:46:56 INFO: DOCUMENT TRANSFORMER\n",
      "2023-06-07 06:46:56 INFO: POS REMOVAL\n",
      "2023-06-07 06:46:56 INFO: DOCUMENT TRANSFORMER\n",
      "2023-06-07 06:46:56 INFO: POS REMOVAL\n",
      "2023-06-07 06:46:56 INFO: DOCUMENT TRANSFORMER\n",
      "2023-06-07 06:46:57 INFO: POS REMOVAL\n",
      "2023-06-07 06:46:57 INFO: DOCUMENT TRANSFORMER\n",
      "2023-06-07 06:46:57 INFO: POS REMOVAL\n",
      "2023-06-07 06:46:57 INFO: DOCUMENT TRANSFORMER\n",
      "2023-06-07 06:46:58 INFO: POS REMOVAL\n",
      "2023-06-07 06:46:58 INFO: DOCUMENT TRANSFORMER\n",
      "2023-06-07 06:46:58 INFO: POS REMOVAL\n",
      "2023-06-07 06:46:58 INFO: DOCUMENT TRANSFORMER\n",
      "2023-06-07 06:46:59 INFO: POS REMOVAL\n",
      "2023-06-07 06:46:59 INFO: DOCUMENT TRANSFORMER\n",
      "2023-06-07 06:46:59 INFO: POS REMOVAL\n",
      "2023-06-07 06:46:59 INFO: DOCUMENT TRANSFORMER\n",
      "2023-06-07 06:46:59 INFO: POS REMOVAL\n",
      "2023-06-07 06:47:00 INFO: DOCUMENT TRANSFORMER\n",
      "2023-06-07 06:47:00 INFO: POS REMOVAL\n",
      "2023-06-07 06:47:00 INFO: DOCUMENT TRANSFORMER\n",
      "2023-06-07 06:47:00 INFO: POS REMOVAL\n",
      "2023-06-07 06:47:00 INFO: DOCUMENT TRANSFORMER\n",
      "2023-06-07 06:47:01 INFO: POS REMOVAL\n",
      "2023-06-07 06:47:01 INFO: DOCUMENT TRANSFORMER\n",
      "2023-06-07 06:47:02 INFO: POS REMOVAL\n",
      "2023-06-07 06:47:02 INFO: DOCUMENT TRANSFORMER\n",
      "2023-06-07 06:47:02 INFO: POS REMOVAL\n",
      "2023-06-07 06:47:02 INFO: DOCUMENT TRANSFORMER\n",
      "2023-06-07 06:47:03 INFO: POS REMOVAL\n",
      "2023-06-07 06:47:03 INFO: DOCUMENT TRANSFORMER\n",
      "2023-06-07 06:47:03 INFO: POS REMOVAL\n",
      "2023-06-07 06:47:03 INFO: DOCUMENT TRANSFORMER\n",
      "2023-06-07 06:47:04 INFO: POS REMOVAL\n",
      "2023-06-07 06:47:04 INFO: DOCUMENT TRANSFORMER\n",
      "2023-06-07 06:47:04 INFO: POS REMOVAL\n",
      "2023-06-07 06:47:04 INFO: DOCUMENT TRANSFORMER\n",
      "2023-06-07 06:47:05 INFO: POS REMOVAL\n",
      "2023-06-07 06:47:05 INFO: DOCUMENT TRANSFORMER\n",
      "2023-06-07 06:47:05 INFO: POS REMOVAL\n",
      "2023-06-07 06:47:05 INFO: DOCUMENT TRANSFORMER\n",
      "2023-06-07 06:47:06 INFO: POS REMOVAL\n",
      "2023-06-07 06:47:06 INFO: DOCUMENT TRANSFORMER\n",
      "2023-06-07 06:47:06 INFO: POS REMOVAL\n",
      "2023-06-07 06:47:06 INFO: DOCUMENT TRANSFORMER\n",
      "2023-06-07 06:47:07 INFO: POS REMOVAL\n",
      "2023-06-07 06:47:07 INFO: DOCUMENT TRANSFORMER\n",
      "2023-06-07 06:47:07 INFO: POS REMOVAL\n",
      "2023-06-07 06:47:07 INFO: DOCUMENT TRANSFORMER\n",
      "2023-06-07 06:47:08 INFO: POS REMOVAL\n",
      "2023-06-07 06:47:08 INFO: DOCUMENT TRANSFORMER\n",
      "2023-06-07 06:47:08 INFO: POS REMOVAL\n",
      "2023-06-07 06:47:08 INFO: DOCUMENT TRANSFORMER\n",
      "2023-06-07 06:47:08 INFO: POS REMOVAL\n",
      "2023-06-07 06:47:08 INFO: DOCUMENT TRANSFORMER\n",
      "2023-06-07 06:47:09 INFO: POS REMOVAL\n",
      "2023-06-07 06:47:09 INFO: DOCUMENT TRANSFORMER\n",
      "2023-06-07 06:47:09 INFO: POS REMOVAL\n",
      "2023-06-07 06:47:09 INFO: DOCUMENT TRANSFORMER\n",
      "2023-06-07 06:47:10 INFO: POS REMOVAL\n",
      "2023-06-07 06:47:10 INFO: DOCUMENT TRANSFORMER\n",
      "2023-06-07 06:47:10 INFO: POS REMOVAL\n",
      "2023-06-07 06:47:10 INFO: DOCUMENT TRANSFORMER\n",
      "2023-06-07 06:47:11 INFO: POS REMOVAL\n",
      "2023-06-07 06:47:11 INFO: DOCUMENT TRANSFORMER\n",
      "2023-06-07 06:47:11 INFO: POS REMOVAL\n",
      "2023-06-07 06:47:11 INFO: DOCUMENT TRANSFORMER\n",
      "2023-06-07 06:47:12 INFO: POS REMOVAL\n",
      "2023-06-07 06:47:12 INFO: DOCUMENT TRANSFORMER\n",
      "2023-06-07 06:47:12 INFO: POS REMOVAL\n",
      "2023-06-07 06:47:12 INFO: DOCUMENT TRANSFORMER\n",
      "2023-06-07 06:47:12 INFO: POS REMOVAL\n",
      "2023-06-07 06:47:13 INFO: DOCUMENT TRANSFORMER\n",
      "2023-06-07 06:47:13 INFO: POS REMOVAL\n",
      "2023-06-07 06:47:13 INFO: DOCUMENT TRANSFORMER\n",
      "2023-06-07 06:47:13 INFO: POS REMOVAL\n",
      "2023-06-07 06:47:13 INFO: DOCUMENT TRANSFORMER\n",
      "2023-06-07 06:47:14 INFO: POS REMOVAL\n",
      "2023-06-07 06:47:14 INFO: DOCUMENT TRANSFORMER\n",
      "2023-06-07 06:47:14 INFO: POS REMOVAL\n",
      "2023-06-07 06:47:14 INFO: DOCUMENT TRANSFORMER\n",
      "2023-06-07 06:47:15 INFO: POS REMOVAL\n",
      "2023-06-07 06:47:15 INFO: DOCUMENT TRANSFORMER\n",
      "2023-06-07 06:47:15 INFO: POS REMOVAL\n",
      "2023-06-07 06:47:15 INFO: DOCUMENT TRANSFORMER\n",
      "2023-06-07 06:47:15 INFO: POS REMOVAL\n",
      "2023-06-07 06:47:16 INFO: DOCUMENT TRANSFORMER\n",
      "2023-06-07 06:47:16 INFO: POS REMOVAL\n",
      "2023-06-07 06:47:16 INFO: DOCUMENT TRANSFORMER\n",
      "2023-06-07 06:47:16 INFO: POS REMOVAL\n",
      "2023-06-07 06:47:16 INFO: DOCUMENT TRANSFORMER\n",
      "2023-06-07 06:47:17 INFO: POS REMOVAL\n",
      "2023-06-07 06:47:17 INFO: DOCUMENT TRANSFORMER\n",
      "2023-06-07 06:47:17 INFO: POS REMOVAL\n",
      "2023-06-07 06:47:17 INFO: DOCUMENT TRANSFORMER\n",
      "2023-06-07 06:47:18 INFO: POS REMOVAL\n",
      "2023-06-07 06:47:18 INFO: DOCUMENT TRANSFORMER\n",
      "2023-06-07 06:47:18 INFO: POS REMOVAL\n",
      "2023-06-07 06:47:19 INFO: DOCUMENT TRANSFORMER\n",
      "2023-06-07 06:47:19 INFO: POS REMOVAL\n",
      "2023-06-07 06:47:19 INFO: DOCUMENT TRANSFORMER\n",
      "2023-06-07 06:47:20 INFO: POS REMOVAL\n",
      "2023-06-07 06:47:20 INFO: DOCUMENT TRANSFORMER\n",
      "2023-06-07 06:47:20 INFO: POS REMOVAL\n",
      "2023-06-07 06:47:20 INFO: DOCUMENT TRANSFORMER\n",
      "2023-06-07 06:47:21 INFO: POS REMOVAL\n",
      "2023-06-07 06:47:21 INFO: DOCUMENT TRANSFORMER\n",
      "2023-06-07 06:47:21 INFO: POS REMOVAL\n",
      "2023-06-07 06:47:21 INFO: DOCUMENT TRANSFORMER\n",
      "2023-06-07 06:47:22 INFO: POS REMOVAL\n",
      "2023-06-07 06:47:22 INFO: DOCUMENT TRANSFORMER\n",
      "2023-06-07 06:47:22 INFO: POS REMOVAL\n",
      "2023-06-07 06:47:23 INFO: DOCUMENT TRANSFORMER\n",
      "2023-06-07 06:47:23 INFO: POS REMOVAL\n",
      "2023-06-07 06:47:23 INFO: DOCUMENT TRANSFORMER\n",
      "2023-06-07 06:47:24 INFO: POS REMOVAL\n",
      "2023-06-07 06:47:24 INFO: DOCUMENT TRANSFORMER\n",
      "2023-06-07 06:47:25 INFO: POS REMOVAL\n",
      "2023-06-07 06:47:25 INFO: DOCUMENT TRANSFORMER\n",
      "2023-06-07 06:47:25 INFO: POS REMOVAL\n",
      "2023-06-07 06:47:25 INFO: DOCUMENT TRANSFORMER\n",
      "2023-06-07 06:47:26 INFO: POS REMOVAL\n",
      "2023-06-07 06:47:26 INFO: DOCUMENT TRANSFORMER\n",
      "2023-06-07 06:47:26 INFO: POS REMOVAL\n",
      "2023-06-07 06:47:26 INFO: DOCUMENT TRANSFORMER\n",
      "2023-06-07 06:47:27 INFO: POS REMOVAL\n",
      "2023-06-07 06:47:27 INFO: DOCUMENT TRANSFORMER\n",
      "2023-06-07 06:47:27 INFO: POS REMOVAL\n",
      "2023-06-07 06:47:27 INFO: DOCUMENT TRANSFORMER\n",
      "2023-06-07 06:47:28 INFO: POS REMOVAL\n",
      "2023-06-07 06:47:28 INFO: DOCUMENT TRANSFORMER\n",
      "2023-06-07 06:47:28 INFO: POS REMOVAL\n",
      "2023-06-07 06:47:28 INFO: DOCUMENT TRANSFORMER\n",
      "2023-06-07 06:47:29 INFO: POS REMOVAL\n",
      "2023-06-07 06:47:29 INFO: DOCUMENT TRANSFORMER\n",
      "2023-06-07 06:47:29 INFO: POS REMOVAL\n",
      "2023-06-07 06:47:29 INFO: DOCUMENT TRANSFORMER\n",
      "2023-06-07 06:47:29 INFO: POS REMOVAL\n",
      "2023-06-07 06:47:30 INFO: DOCUMENT TRANSFORMER\n",
      "2023-06-07 06:47:30 INFO: POS REMOVAL\n",
      "2023-06-07 06:47:30 INFO: DOCUMENT TRANSFORMER\n",
      "2023-06-07 06:47:30 INFO: POS REMOVAL\n",
      "2023-06-07 06:47:30 INFO: DOCUMENT TRANSFORMER\n",
      "2023-06-07 06:47:31 INFO: POS REMOVAL\n",
      "2023-06-07 06:47:31 INFO: DOCUMENT TRANSFORMER\n",
      "2023-06-07 06:47:31 INFO: POS REMOVAL\n",
      "2023-06-07 06:47:31 INFO: DOCUMENT TRANSFORMER\n",
      "2023-06-07 06:47:32 INFO: POS REMOVAL\n",
      "2023-06-07 06:47:32 INFO: DOCUMENT TRANSFORMER\n",
      "2023-06-07 06:47:32 INFO: POS REMOVAL\n",
      "2023-06-07 06:47:32 INFO: DOCUMENT TRANSFORMER\n",
      "2023-06-07 06:47:32 INFO: POS REMOVAL\n",
      "2023-06-07 06:47:32 INFO: DOCUMENT TRANSFORMER\n",
      "2023-06-07 06:47:33 INFO: POS REMOVAL\n",
      "2023-06-07 06:47:33 INFO: DOCUMENT TRANSFORMER\n",
      "2023-06-07 06:47:33 INFO: POS REMOVAL\n",
      "2023-06-07 06:47:33 INFO: DOCUMENT TRANSFORMER\n",
      "2023-06-07 06:47:34 INFO: POS REMOVAL\n",
      "2023-06-07 06:47:34 INFO: DOCUMENT TRANSFORMER\n",
      "2023-06-07 06:47:34 INFO: POS REMOVAL\n",
      "2023-06-07 06:47:34 INFO: DOCUMENT TRANSFORMER\n",
      "2023-06-07 06:47:34 INFO: POS REMOVAL\n",
      "2023-06-07 06:47:34 INFO: DOCUMENT TRANSFORMER\n",
      "2023-06-07 06:47:35 INFO: POS REMOVAL\n",
      "2023-06-07 06:47:35 INFO: DOCUMENT TRANSFORMER\n",
      "2023-06-07 06:47:35 INFO: POS REMOVAL\n",
      "2023-06-07 06:47:35 INFO: DOCUMENT TRANSFORMER\n",
      "2023-06-07 06:47:36 INFO: POS REMOVAL\n",
      "2023-06-07 06:47:36 INFO: DOCUMENT TRANSFORMER\n",
      "2023-06-07 06:47:36 INFO: POS REMOVAL\n",
      "2023-06-07 06:47:36 INFO: DOCUMENT TRANSFORMER\n",
      "2023-06-07 06:47:36 INFO: POS REMOVAL\n",
      "2023-06-07 06:47:37 INFO: DOCUMENT TRANSFORMER\n",
      "2023-06-07 06:47:37 INFO: POS REMOVAL\n",
      "2023-06-07 06:47:37 INFO: DOCUMENT TRANSFORMER\n",
      "2023-06-07 06:47:37 INFO: POS REMOVAL\n",
      "2023-06-07 06:47:38 INFO: DOCUMENT TRANSFORMER\n",
      "2023-06-07 06:47:38 INFO: POS REMOVAL\n",
      "2023-06-07 06:47:38 INFO: DOCUMENT TRANSFORMER\n",
      "2023-06-07 06:47:38 INFO: POS REMOVAL\n",
      "2023-06-07 06:47:39 INFO: DOCUMENT TRANSFORMER\n",
      "2023-06-07 06:47:39 INFO: POS REMOVAL\n",
      "2023-06-07 06:47:39 INFO: DOCUMENT TRANSFORMER\n",
      "2023-06-07 06:47:39 INFO: POS REMOVAL\n",
      "2023-06-07 06:47:39 INFO: DOCUMENT TRANSFORMER\n",
      "2023-06-07 06:47:40 INFO: POS REMOVAL\n",
      "2023-06-07 06:47:40 INFO: DOCUMENT TRANSFORMER\n",
      "2023-06-07 06:47:40 INFO: POS REMOVAL\n",
      "2023-06-07 06:47:40 INFO: DOCUMENT TRANSFORMER\n",
      "2023-06-07 06:47:41 INFO: POS REMOVAL\n",
      "2023-06-07 06:47:41 INFO: DOCUMENT TRANSFORMER\n",
      "2023-06-07 06:47:41 INFO: POS REMOVAL\n",
      "2023-06-07 06:47:41 INFO: DOCUMENT TRANSFORMER\n",
      "2023-06-07 06:47:42 INFO: POS REMOVAL\n",
      "2023-06-07 06:47:42 INFO: DOCUMENT TRANSFORMER\n",
      "2023-06-07 06:47:42 INFO: POS REMOVAL\n",
      "2023-06-07 06:47:43 INFO: DOCUMENT TRANSFORMER\n",
      "2023-06-07 06:47:43 INFO: POS REMOVAL\n",
      "2023-06-07 06:47:43 INFO: DOCUMENT TRANSFORMER\n",
      "2023-06-07 06:47:43 INFO: POS REMOVAL\n",
      "2023-06-07 06:47:43 INFO: DOCUMENT TRANSFORMER\n",
      "2023-06-07 06:47:44 INFO: POS REMOVAL\n",
      "2023-06-07 06:47:44 INFO: DOCUMENT TRANSFORMER\n",
      "2023-06-07 06:47:44 INFO: POS REMOVAL\n",
      "2023-06-07 06:47:45 INFO: DOCUMENT TRANSFORMER\n",
      "2023-06-07 06:47:45 INFO: POS REMOVAL\n",
      "2023-06-07 06:47:45 INFO: DOCUMENT TRANSFORMER\n",
      "2023-06-07 06:47:45 INFO: POS REMOVAL\n",
      "2023-06-07 06:47:45 INFO: DOCUMENT TRANSFORMER\n",
      "2023-06-07 06:47:46 INFO: POS REMOVAL\n",
      "2023-06-07 06:47:46 INFO: DOCUMENT TRANSFORMER\n",
      "2023-06-07 06:47:47 INFO: POS REMOVAL\n",
      "2023-06-07 06:47:47 INFO: DOCUMENT TRANSFORMER\n",
      "2023-06-07 06:47:47 INFO: POS REMOVAL\n",
      "2023-06-07 06:47:47 INFO: DOCUMENT TRANSFORMER\n",
      "2023-06-07 06:47:47 INFO: POS REMOVAL\n",
      "2023-06-07 06:47:47 INFO: DOCUMENT TRANSFORMER\n",
      "2023-06-07 06:47:48 INFO: POS REMOVAL\n",
      "2023-06-07 06:47:48 INFO: DOCUMENT TRANSFORMER\n",
      "2023-06-07 06:47:48 INFO: POS REMOVAL\n",
      "2023-06-07 06:47:48 INFO: DOCUMENT TRANSFORMER\n",
      "2023-06-07 06:47:48 INFO: POS REMOVAL\n",
      "2023-06-07 06:47:48 INFO: DOCUMENT TRANSFORMER\n",
      "2023-06-07 06:47:49 INFO: POS REMOVAL\n",
      "2023-06-07 06:47:49 INFO: DOCUMENT TRANSFORMER\n",
      "2023-06-07 06:47:49 INFO: POS REMOVAL\n",
      "2023-06-07 06:47:49 INFO: DOCUMENT TRANSFORMER\n",
      "2023-06-07 06:47:49 INFO: POS REMOVAL\n",
      "2023-06-07 06:47:49 INFO: DOCUMENT TRANSFORMER\n",
      "2023-06-07 06:47:49 INFO: POS REMOVAL\n",
      "2023-06-07 06:47:50 INFO: DOCUMENT TRANSFORMER\n",
      "2023-06-07 06:47:50 INFO: POS REMOVAL\n",
      "2023-06-07 06:47:50 INFO: DOCUMENT TRANSFORMER\n",
      "2023-06-07 06:47:50 INFO: POS REMOVAL\n",
      "2023-06-07 06:47:50 INFO: DOCUMENT TRANSFORMER\n",
      "2023-06-07 06:47:51 INFO: POS REMOVAL\n",
      "2023-06-07 06:47:51 INFO: DOCUMENT TRANSFORMER\n",
      "2023-06-07 06:47:51 INFO: POS REMOVAL\n",
      "2023-06-07 06:47:51 INFO: DOCUMENT TRANSFORMER\n",
      "2023-06-07 06:47:51 INFO: POS REMOVAL\n",
      "2023-06-07 06:47:51 INFO: DOCUMENT TRANSFORMER\n",
      "2023-06-07 06:47:51 INFO: POS REMOVAL\n",
      "2023-06-07 06:47:51 INFO: DOCUMENT TRANSFORMER\n",
      "2023-06-07 06:47:52 INFO: POS REMOVAL\n",
      "2023-06-07 06:47:52 INFO: DOCUMENT TRANSFORMER\n",
      "2023-06-07 06:47:52 INFO: POS REMOVAL\n",
      "2023-06-07 06:47:52 INFO: DOCUMENT TRANSFORMER\n",
      "2023-06-07 06:47:53 INFO: POS REMOVAL\n",
      "2023-06-07 06:47:53 INFO: DOCUMENT TRANSFORMER\n",
      "2023-06-07 06:47:53 INFO: POS REMOVAL\n",
      "2023-06-07 06:47:53 INFO: DOCUMENT TRANSFORMER\n",
      "2023-06-07 06:47:53 INFO: POS REMOVAL\n",
      "2023-06-07 06:47:53 INFO: DOCUMENT TRANSFORMER\n",
      "2023-06-07 06:47:53 INFO: POS REMOVAL\n",
      "2023-06-07 06:47:53 INFO: DOCUMENT TRANSFORMER\n",
      "2023-06-07 06:47:54 INFO: POS REMOVAL\n",
      "2023-06-07 06:47:54 INFO: DOCUMENT TRANSFORMER\n",
      "2023-06-07 06:47:54 INFO: POS REMOVAL\n",
      "2023-06-07 06:47:54 INFO: DOCUMENT TRANSFORMER\n",
      "2023-06-07 06:47:54 INFO: POS REMOVAL\n",
      "2023-06-07 06:47:54 INFO: DOCUMENT TRANSFORMER\n",
      "2023-06-07 06:47:54 INFO: POS REMOVAL\n",
      "2023-06-07 06:47:54 INFO: DOCUMENT TRANSFORMER\n",
      "2023-06-07 06:47:55 INFO: POS REMOVAL\n",
      "2023-06-07 06:47:55 INFO: DOCUMENT TRANSFORMER\n",
      "2023-06-07 06:47:55 INFO: POS REMOVAL\n",
      "2023-06-07 06:47:55 INFO: DOCUMENT TRANSFORMER\n",
      "2023-06-07 06:47:55 INFO: POS REMOVAL\n",
      "2023-06-07 06:47:56 INFO: DOCUMENT TRANSFORMER\n",
      "2023-06-07 06:47:56 INFO: POS REMOVAL\n",
      "2023-06-07 06:47:56 INFO: DOCUMENT TRANSFORMER\n",
      "2023-06-07 06:47:56 INFO: POS REMOVAL\n",
      "2023-06-07 06:47:56 INFO: DOCUMENT TRANSFORMER\n",
      "2023-06-07 06:47:56 INFO: POS REMOVAL\n",
      "2023-06-07 06:47:56 INFO: DOCUMENT TRANSFORMER\n",
      "2023-06-07 06:47:57 INFO: POS REMOVAL\n",
      "2023-06-07 06:47:57 INFO: DOCUMENT TRANSFORMER\n",
      "2023-06-07 06:47:57 INFO: POS REMOVAL\n",
      "2023-06-07 06:47:57 INFO: DOCUMENT TRANSFORMER\n",
      "2023-06-07 06:47:57 INFO: POS REMOVAL\n",
      "2023-06-07 06:47:57 INFO: DOCUMENT TRANSFORMER\n",
      "2023-06-07 06:47:57 INFO: POS REMOVAL\n",
      "2023-06-07 06:47:58 INFO: DOCUMENT TRANSFORMER\n",
      "2023-06-07 06:47:58 INFO: POS REMOVAL\n",
      "2023-06-07 06:47:58 INFO: DOCUMENT TRANSFORMER\n",
      "2023-06-07 06:47:58 INFO: POS REMOVAL\n",
      "2023-06-07 06:47:58 INFO: DOCUMENT TRANSFORMER\n",
      "2023-06-07 06:47:59 INFO: POS REMOVAL\n",
      "2023-06-07 06:47:59 INFO: DOCUMENT TRANSFORMER\n",
      "2023-06-07 06:47:59 INFO: POS REMOVAL\n",
      "2023-06-07 06:47:59 INFO: DOCUMENT TRANSFORMER\n",
      "2023-06-07 06:47:59 INFO: POS REMOVAL\n",
      "2023-06-07 06:47:59 INFO: DOCUMENT TRANSFORMER\n",
      "2023-06-07 06:48:00 INFO: POS REMOVAL\n",
      "2023-06-07 06:48:00 INFO: DOCUMENT TRANSFORMER\n",
      "2023-06-07 06:48:00 INFO: POS REMOVAL\n",
      "2023-06-07 06:48:00 INFO: DOCUMENT TRANSFORMER\n",
      "2023-06-07 06:48:00 INFO: POS REMOVAL\n",
      "2023-06-07 06:48:00 INFO: DOCUMENT TRANSFORMER\n",
      "2023-06-07 06:48:01 INFO: POS REMOVAL\n",
      "2023-06-07 06:48:01 INFO: DOCUMENT TRANSFORMER\n",
      "2023-06-07 06:48:01 INFO: POS REMOVAL\n",
      "2023-06-07 06:48:01 INFO: DOCUMENT TRANSFORMER\n",
      "2023-06-07 06:48:02 INFO: POS REMOVAL\n",
      "2023-06-07 06:48:02 INFO: DOCUMENT TRANSFORMER\n",
      "2023-06-07 06:48:02 INFO: POS REMOVAL\n",
      "2023-06-07 06:48:02 INFO: DOCUMENT TRANSFORMER\n",
      "2023-06-07 06:48:03 INFO: POS REMOVAL\n",
      "2023-06-07 06:48:03 INFO: DOCUMENT TRANSFORMER\n",
      "2023-06-07 06:48:03 INFO: POS REMOVAL\n",
      "2023-06-07 06:48:03 INFO: DOCUMENT TRANSFORMER\n",
      "2023-06-07 06:48:04 INFO: POS REMOVAL\n",
      "2023-06-07 06:48:04 INFO: DOCUMENT TRANSFORMER\n",
      "2023-06-07 06:48:04 INFO: POS REMOVAL\n",
      "2023-06-07 06:48:04 INFO: DOCUMENT TRANSFORMER\n",
      "2023-06-07 06:48:05 INFO: POS REMOVAL\n",
      "2023-06-07 06:48:05 INFO: DOCUMENT TRANSFORMER\n",
      "2023-06-07 06:48:05 INFO: POS REMOVAL\n",
      "2023-06-07 06:48:05 INFO: DOCUMENT TRANSFORMER\n",
      "2023-06-07 06:48:06 INFO: POS REMOVAL\n",
      "2023-06-07 06:48:06 INFO: DOCUMENT TRANSFORMER\n",
      "2023-06-07 06:48:06 INFO: POS REMOVAL\n",
      "2023-06-07 06:48:06 INFO: DOCUMENT TRANSFORMER\n",
      "2023-06-07 06:48:07 INFO: POS REMOVAL\n",
      "2023-06-07 06:48:07 INFO: DOCUMENT TRANSFORMER\n",
      "2023-06-07 06:48:07 INFO: POS REMOVAL\n",
      "2023-06-07 06:48:07 INFO: DOCUMENT TRANSFORMER\n",
      "2023-06-07 06:48:07 INFO: POS REMOVAL\n",
      "2023-06-07 06:48:08 INFO: DOCUMENT TRANSFORMER\n",
      "2023-06-07 06:48:08 INFO: POS REMOVAL\n",
      "2023-06-07 06:48:08 INFO: DOCUMENT TRANSFORMER\n",
      "2023-06-07 06:48:08 INFO: POS REMOVAL\n",
      "2023-06-07 06:48:08 INFO: DOCUMENT TRANSFORMER\n",
      "2023-06-07 06:48:08 INFO: POS REMOVAL\n",
      "2023-06-07 06:48:09 INFO: DOCUMENT TRANSFORMER\n",
      "2023-06-07 06:48:09 INFO: POS REMOVAL\n",
      "2023-06-07 06:48:09 INFO: DOCUMENT TRANSFORMER\n",
      "2023-06-07 06:48:09 INFO: POS REMOVAL\n",
      "2023-06-07 06:48:09 INFO: DOCUMENT TRANSFORMER\n",
      "2023-06-07 06:48:10 INFO: POS REMOVAL\n",
      "2023-06-07 06:48:10 INFO: DOCUMENT TRANSFORMER\n",
      "2023-06-07 06:48:10 INFO: POS REMOVAL\n",
      "2023-06-07 06:48:10 INFO: DOCUMENT TRANSFORMER\n",
      "2023-06-07 06:48:11 INFO: POS REMOVAL\n",
      "2023-06-07 06:48:11 INFO: DOCUMENT TRANSFORMER\n",
      "2023-06-07 06:48:11 INFO: POS REMOVAL\n",
      "2023-06-07 06:48:11 INFO: DOCUMENT TRANSFORMER\n",
      "2023-06-07 06:48:12 INFO: POS REMOVAL\n",
      "2023-06-07 06:48:12 INFO: DOCUMENT TRANSFORMER\n",
      "2023-06-07 06:48:12 INFO: POS REMOVAL\n",
      "2023-06-07 06:48:12 INFO: DOCUMENT TRANSFORMER\n",
      "2023-06-07 06:48:13 INFO: POS REMOVAL\n",
      "2023-06-07 06:48:13 INFO: DOCUMENT TRANSFORMER\n",
      "2023-06-07 06:48:13 INFO: POS REMOVAL\n",
      "2023-06-07 06:48:13 INFO: DOCUMENT TRANSFORMER\n",
      "2023-06-07 06:48:13 INFO: POS REMOVAL\n",
      "2023-06-07 06:48:13 INFO: DOCUMENT TRANSFORMER\n",
      "2023-06-07 06:48:14 INFO: POS REMOVAL\n",
      "2023-06-07 06:48:14 INFO: DOCUMENT TRANSFORMER\n",
      "2023-06-07 06:48:14 INFO: POS REMOVAL\n",
      "2023-06-07 06:48:14 INFO: DOCUMENT TRANSFORMER\n",
      "2023-06-07 06:48:14 INFO: POS REMOVAL\n",
      "2023-06-07 06:48:14 INFO: DOCUMENT TRANSFORMER\n",
      "2023-06-07 06:48:15 INFO: POS REMOVAL\n",
      "2023-06-07 06:48:15 INFO: DOCUMENT TRANSFORMER\n",
      "2023-06-07 06:48:15 INFO: POS REMOVAL\n",
      "2023-06-07 06:48:15 INFO: DOCUMENT TRANSFORMER\n",
      "2023-06-07 06:48:16 INFO: POS REMOVAL\n",
      "2023-06-07 06:48:16 INFO: DOCUMENT TRANSFORMER\n",
      "2023-06-07 06:48:16 INFO: POS REMOVAL\n",
      "2023-06-07 06:48:16 INFO: DOCUMENT TRANSFORMER\n",
      "2023-06-07 06:48:17 INFO: POS REMOVAL\n",
      "2023-06-07 06:48:17 INFO: DOCUMENT TRANSFORMER\n",
      "2023-06-07 06:48:17 INFO: POS REMOVAL\n",
      "2023-06-07 06:48:17 INFO: DOCUMENT TRANSFORMER\n",
      "2023-06-07 06:48:17 INFO: POS REMOVAL\n",
      "2023-06-07 06:48:17 INFO: DOCUMENT TRANSFORMER\n",
      "2023-06-07 06:48:17 INFO: POS REMOVAL\n",
      "2023-06-07 06:48:17 INFO: DOCUMENT TRANSFORMER\n",
      "2023-06-07 06:48:18 INFO: POS REMOVAL\n",
      "2023-06-07 06:48:18 INFO: DOCUMENT TRANSFORMER\n",
      "2023-06-07 06:48:18 INFO: POS REMOVAL\n",
      "2023-06-07 06:48:18 INFO: DOCUMENT TRANSFORMER\n",
      "2023-06-07 06:48:18 INFO: POS REMOVAL\n",
      "2023-06-07 06:48:18 INFO: DOCUMENT TRANSFORMER\n",
      "2023-06-07 06:48:19 INFO: POS REMOVAL\n",
      "2023-06-07 06:48:19 INFO: DOCUMENT TRANSFORMER\n",
      "2023-06-07 06:48:20 INFO: POS REMOVAL\n",
      "2023-06-07 06:48:20 INFO: DOCUMENT TRANSFORMER\n",
      "2023-06-07 06:48:20 INFO: POS REMOVAL\n",
      "2023-06-07 06:48:20 INFO: DOCUMENT TRANSFORMER\n",
      "2023-06-07 06:48:20 INFO: POS REMOVAL\n",
      "2023-06-07 06:48:20 INFO: DOCUMENT TRANSFORMER\n",
      "2023-06-07 06:48:20 INFO: POS REMOVAL\n",
      "2023-06-07 06:48:20 INFO: DOCUMENT TRANSFORMER\n",
      "2023-06-07 06:48:21 INFO: POS REMOVAL\n",
      "2023-06-07 06:48:21 INFO: DOCUMENT TRANSFORMER\n",
      "2023-06-07 06:48:21 INFO: POS REMOVAL\n",
      "2023-06-07 06:48:21 INFO: DOCUMENT TRANSFORMER\n",
      "2023-06-07 06:48:21 INFO: POS REMOVAL\n",
      "2023-06-07 06:48:21 INFO: DOCUMENT TRANSFORMER\n",
      "2023-06-07 06:48:22 INFO: POS REMOVAL\n",
      "2023-06-07 06:48:22 INFO: DOCUMENT TRANSFORMER\n",
      "2023-06-07 06:48:22 INFO: POS REMOVAL\n",
      "2023-06-07 06:48:22 INFO: DOCUMENT TRANSFORMER\n",
      "2023-06-07 06:48:22 INFO: POS REMOVAL\n",
      "2023-06-07 06:48:22 INFO: DOCUMENT TRANSFORMER\n",
      "2023-06-07 06:48:23 INFO: POS REMOVAL\n",
      "2023-06-07 06:48:23 INFO: DOCUMENT TRANSFORMER\n",
      "2023-06-07 06:48:23 INFO: POS REMOVAL\n",
      "2023-06-07 06:48:23 INFO: DOCUMENT TRANSFORMER\n",
      "2023-06-07 06:48:23 INFO: POS REMOVAL\n",
      "2023-06-07 06:48:23 INFO: DOCUMENT TRANSFORMER\n",
      "2023-06-07 06:48:23 INFO: POS REMOVAL\n",
      "2023-06-07 06:48:23 INFO: DOCUMENT TRANSFORMER\n",
      "2023-06-07 06:48:24 INFO: POS REMOVAL\n",
      "2023-06-07 06:48:24 INFO: DOCUMENT TRANSFORMER\n",
      "2023-06-07 06:48:24 INFO: POS REMOVAL\n",
      "2023-06-07 06:48:24 INFO: DOCUMENT TRANSFORMER\n",
      "2023-06-07 06:48:24 INFO: POS REMOVAL\n",
      "2023-06-07 06:48:24 INFO: DOCUMENT TRANSFORMER\n",
      "2023-06-07 06:48:24 INFO: POS REMOVAL\n",
      "2023-06-07 06:48:25 INFO: DOCUMENT TRANSFORMER\n",
      "2023-06-07 06:48:25 INFO: POS REMOVAL\n",
      "2023-06-07 06:48:25 INFO: DOCUMENT TRANSFORMER\n",
      "2023-06-07 06:48:25 INFO: POS REMOVAL\n",
      "2023-06-07 06:48:25 INFO: DOCUMENT TRANSFORMER\n",
      "2023-06-07 06:48:26 INFO: POS REMOVAL\n",
      "2023-06-07 06:48:26 INFO: DOCUMENT TRANSFORMER\n",
      "2023-06-07 06:48:26 INFO: POS REMOVAL\n",
      "2023-06-07 06:48:26 INFO: DOCUMENT TRANSFORMER\n",
      "2023-06-07 06:48:26 INFO: POS REMOVAL\n",
      "2023-06-07 06:48:26 INFO: DOCUMENT TRANSFORMER\n",
      "2023-06-07 06:48:26 INFO: POS REMOVAL\n",
      "2023-06-07 06:48:26 INFO: DOCUMENT TRANSFORMER\n",
      "2023-06-07 06:48:27 INFO: POS REMOVAL\n",
      "2023-06-07 06:48:27 INFO: DOCUMENT TRANSFORMER\n",
      "2023-06-07 06:48:27 INFO: POS REMOVAL\n",
      "2023-06-07 06:48:27 INFO: DOCUMENT TRANSFORMER\n",
      "2023-06-07 06:48:27 INFO: POS REMOVAL\n",
      "2023-06-07 06:48:27 INFO: DOCUMENT TRANSFORMER\n",
      "2023-06-07 06:48:27 INFO: POS REMOVAL\n",
      "2023-06-07 06:48:28 INFO: DOCUMENT TRANSFORMER\n",
      "2023-06-07 06:48:28 INFO: POS REMOVAL\n",
      "2023-06-07 06:48:28 INFO: DOCUMENT TRANSFORMER\n",
      "2023-06-07 06:48:28 INFO: POS REMOVAL\n",
      "2023-06-07 06:48:28 INFO: DOCUMENT TRANSFORMER\n",
      "2023-06-07 06:48:29 INFO: POS REMOVAL\n",
      "2023-06-07 06:48:29 INFO: DOCUMENT TRANSFORMER\n",
      "2023-06-07 06:48:29 INFO: POS REMOVAL\n",
      "2023-06-07 06:48:29 INFO: DOCUMENT TRANSFORMER\n",
      "2023-06-07 06:48:29 INFO: POS REMOVAL\n",
      "2023-06-07 06:48:29 INFO: DOCUMENT TRANSFORMER\n",
      "2023-06-07 06:48:29 INFO: POS REMOVAL\n",
      "2023-06-07 06:48:29 INFO: DOCUMENT TRANSFORMER\n",
      "2023-06-07 06:48:30 INFO: POS REMOVAL\n",
      "2023-06-07 06:48:30 INFO: DOCUMENT TRANSFORMER\n",
      "2023-06-07 06:48:30 INFO: POS REMOVAL\n",
      "2023-06-07 06:48:30 INFO: DOCUMENT TRANSFORMER\n",
      "2023-06-07 06:48:31 INFO: POS REMOVAL\n",
      "2023-06-07 06:48:31 INFO: DOCUMENT TRANSFORMER\n",
      "2023-06-07 06:48:31 INFO: POS REMOVAL\n",
      "2023-06-07 06:48:31 INFO: DOCUMENT TRANSFORMER\n",
      "2023-06-07 06:48:31 INFO: POS REMOVAL\n",
      "2023-06-07 06:48:31 INFO: DOCUMENT TRANSFORMER\n",
      "2023-06-07 06:48:32 INFO: POS REMOVAL\n",
      "2023-06-07 06:48:32 INFO: DOCUMENT TRANSFORMER\n",
      "2023-06-07 06:48:32 INFO: POS REMOVAL\n",
      "2023-06-07 06:48:32 INFO: DOCUMENT TRANSFORMER\n",
      "2023-06-07 06:48:32 INFO: POS REMOVAL\n",
      "2023-06-07 06:48:32 INFO: DOCUMENT TRANSFORMER\n",
      "2023-06-07 06:48:33 INFO: POS REMOVAL\n",
      "2023-06-07 06:48:33 INFO: DOCUMENT TRANSFORMER\n",
      "2023-06-07 06:48:33 INFO: POS REMOVAL\n",
      "2023-06-07 06:48:33 INFO: DOCUMENT TRANSFORMER\n",
      "2023-06-07 06:48:34 INFO: POS REMOVAL\n",
      "2023-06-07 06:48:34 INFO: DOCUMENT TRANSFORMER\n",
      "2023-06-07 06:48:34 INFO: POS REMOVAL\n",
      "2023-06-07 06:48:34 INFO: DOCUMENT TRANSFORMER\n",
      "2023-06-07 06:48:34 INFO: POS REMOVAL\n",
      "2023-06-07 06:48:34 INFO: DOCUMENT TRANSFORMER\n",
      "2023-06-07 06:48:35 INFO: POS REMOVAL\n",
      "2023-06-07 06:48:35 INFO: DOCUMENT TRANSFORMER\n",
      "2023-06-07 06:48:35 INFO: POS REMOVAL\n",
      "2023-06-07 06:48:35 INFO: DOCUMENT TRANSFORMER\n",
      "2023-06-07 06:48:35 INFO: POS REMOVAL\n",
      "2023-06-07 06:48:35 INFO: DOCUMENT TRANSFORMER\n",
      "2023-06-07 06:48:36 INFO: POS REMOVAL\n",
      "2023-06-07 06:48:36 INFO: DOCUMENT TRANSFORMER\n",
      "2023-06-07 06:48:36 INFO: POS REMOVAL\n",
      "2023-06-07 06:48:36 INFO: DOCUMENT TRANSFORMER\n",
      "2023-06-07 06:48:37 INFO: POS REMOVAL\n",
      "2023-06-07 06:48:37 INFO: DOCUMENT TRANSFORMER\n",
      "2023-06-07 06:48:37 INFO: POS REMOVAL\n",
      "2023-06-07 06:48:37 INFO: DOCUMENT TRANSFORMER\n",
      "2023-06-07 06:48:37 INFO: POS REMOVAL\n",
      "2023-06-07 06:48:37 INFO: DOCUMENT TRANSFORMER\n",
      "2023-06-07 06:48:37 INFO: POS REMOVAL\n",
      "2023-06-07 06:48:37 INFO: DOCUMENT TRANSFORMER\n",
      "2023-06-07 06:48:38 INFO: POS REMOVAL\n",
      "2023-06-07 06:48:38 INFO: DOCUMENT TRANSFORMER\n",
      "2023-06-07 06:48:38 INFO: POS REMOVAL\n",
      "2023-06-07 06:48:38 INFO: DOCUMENT TRANSFORMER\n",
      "2023-06-07 06:48:39 INFO: POS REMOVAL\n",
      "2023-06-07 06:48:39 INFO: DOCUMENT TRANSFORMER\n",
      "2023-06-07 06:48:39 INFO: POS REMOVAL\n",
      "2023-06-07 06:48:39 INFO: DOCUMENT TRANSFORMER\n",
      "2023-06-07 06:48:39 INFO: POS REMOVAL\n",
      "2023-06-07 06:48:39 INFO: DOCUMENT TRANSFORMER\n",
      "2023-06-07 06:48:40 INFO: POS REMOVAL\n",
      "2023-06-07 06:48:40 INFO: DOCUMENT TRANSFORMER\n",
      "2023-06-07 06:48:40 INFO: POS REMOVAL\n",
      "2023-06-07 06:48:40 INFO: DOCUMENT TRANSFORMER\n",
      "2023-06-07 06:48:40 INFO: POS REMOVAL\n",
      "2023-06-07 06:48:40 INFO: DOCUMENT TRANSFORMER\n",
      "2023-06-07 06:48:41 INFO: POS REMOVAL\n",
      "2023-06-07 06:48:41 INFO: DOCUMENT TRANSFORMER\n",
      "2023-06-07 06:48:41 INFO: POS REMOVAL\n",
      "2023-06-07 06:48:41 INFO: DOCUMENT TRANSFORMER\n",
      "2023-06-07 06:48:42 INFO: POS REMOVAL\n",
      "2023-06-07 06:48:42 INFO: DOCUMENT TRANSFORMER\n",
      "2023-06-07 06:48:42 INFO: POS REMOVAL\n",
      "2023-06-07 06:48:42 INFO: DOCUMENT TRANSFORMER\n",
      "2023-06-07 06:48:42 INFO: POS REMOVAL\n",
      "2023-06-07 06:48:42 INFO: DOCUMENT TRANSFORMER\n",
      "2023-06-07 06:48:42 INFO: POS REMOVAL\n",
      "2023-06-07 06:48:42 INFO: DOCUMENT TRANSFORMER\n",
      "2023-06-07 06:48:43 INFO: POS REMOVAL\n",
      "2023-06-07 06:48:43 INFO: DOCUMENT TRANSFORMER\n",
      "2023-06-07 06:48:43 INFO: POS REMOVAL\n",
      "2023-06-07 06:48:43 INFO: DOCUMENT TRANSFORMER\n",
      "2023-06-07 06:48:44 INFO: POS REMOVAL\n",
      "2023-06-07 06:48:44 INFO: DOCUMENT TRANSFORMER\n",
      "2023-06-07 06:48:44 INFO: POS REMOVAL\n",
      "2023-06-07 06:48:44 INFO: DOCUMENT TRANSFORMER\n",
      "2023-06-07 06:48:44 INFO: POS REMOVAL\n",
      "2023-06-07 06:48:44 INFO: DOCUMENT TRANSFORMER\n",
      "2023-06-07 06:48:44 INFO: POS REMOVAL\n",
      "2023-06-07 06:48:44 INFO: DOCUMENT TRANSFORMER\n",
      "2023-06-07 06:48:45 INFO: POS REMOVAL\n",
      "2023-06-07 06:48:45 INFO: DOCUMENT TRANSFORMER\n",
      "2023-06-07 06:48:45 INFO: POS REMOVAL\n",
      "2023-06-07 06:48:45 INFO: DOCUMENT TRANSFORMER\n",
      "2023-06-07 06:48:45 INFO: POS REMOVAL\n",
      "2023-06-07 06:48:45 INFO: DOCUMENT TRANSFORMER\n",
      "2023-06-07 06:48:46 INFO: POS REMOVAL\n",
      "2023-06-07 06:48:46 INFO: DOCUMENT TRANSFORMER\n",
      "2023-06-07 06:48:46 INFO: POS REMOVAL\n",
      "2023-06-07 06:48:46 INFO: DOCUMENT TRANSFORMER\n",
      "2023-06-07 06:48:46 INFO: POS REMOVAL\n",
      "2023-06-07 06:48:46 INFO: DOCUMENT TRANSFORMER\n",
      "2023-06-07 06:48:47 INFO: POS REMOVAL\n",
      "2023-06-07 06:48:47 INFO: DOCUMENT TRANSFORMER\n",
      "2023-06-07 06:48:47 INFO: POS REMOVAL\n",
      "2023-06-07 06:48:47 INFO: DOCUMENT TRANSFORMER\n",
      "2023-06-07 06:48:47 INFO: POS REMOVAL\n",
      "2023-06-07 06:48:47 INFO: DOCUMENT TRANSFORMER\n",
      "2023-06-07 06:48:47 INFO: POS REMOVAL\n",
      "2023-06-07 06:48:48 INFO: DOCUMENT TRANSFORMER\n",
      "2023-06-07 06:48:48 INFO: POS REMOVAL\n",
      "2023-06-07 06:48:48 INFO: DOCUMENT TRANSFORMER\n",
      "2023-06-07 06:48:48 INFO: POS REMOVAL\n",
      "2023-06-07 06:48:48 INFO: DOCUMENT TRANSFORMER\n",
      "2023-06-07 06:48:49 INFO: POS REMOVAL\n",
      "2023-06-07 06:48:49 INFO: DOCUMENT TRANSFORMER\n",
      "2023-06-07 06:48:49 INFO: POS REMOVAL\n",
      "2023-06-07 06:48:49 INFO: DOCUMENT TRANSFORMER\n",
      "2023-06-07 06:48:50 INFO: POS REMOVAL\n",
      "2023-06-07 06:48:50 INFO: DOCUMENT TRANSFORMER\n",
      "2023-06-07 06:48:50 INFO: POS REMOVAL\n",
      "2023-06-07 06:48:50 INFO: DOCUMENT TRANSFORMER\n",
      "2023-06-07 06:48:50 INFO: POS REMOVAL\n",
      "2023-06-07 06:48:50 INFO: DOCUMENT TRANSFORMER\n",
      "2023-06-07 06:48:50 INFO: POS REMOVAL\n",
      "2023-06-07 06:48:51 INFO: DOCUMENT TRANSFORMER\n",
      "2023-06-07 06:48:51 INFO: POS REMOVAL\n",
      "2023-06-07 06:48:51 INFO: DOCUMENT TRANSFORMER\n",
      "2023-06-07 06:48:51 INFO: POS REMOVAL\n",
      "2023-06-07 06:48:51 INFO: DOCUMENT TRANSFORMER\n",
      "2023-06-07 06:48:52 INFO: POS REMOVAL\n",
      "2023-06-07 06:48:52 INFO: DOCUMENT TRANSFORMER\n",
      "2023-06-07 06:48:52 INFO: POS REMOVAL\n",
      "2023-06-07 06:48:52 INFO: DOCUMENT TRANSFORMER\n",
      "2023-06-07 06:48:52 INFO: POS REMOVAL\n",
      "2023-06-07 06:48:52 INFO: DOCUMENT TRANSFORMER\n",
      "2023-06-07 06:48:52 INFO: POS REMOVAL\n",
      "2023-06-07 06:48:52 INFO: DOCUMENT TRANSFORMER\n",
      "2023-06-07 06:48:53 INFO: POS REMOVAL\n",
      "2023-06-07 06:48:53 INFO: DOCUMENT TRANSFORMER\n",
      "2023-06-07 06:48:53 INFO: POS REMOVAL\n",
      "2023-06-07 06:48:53 INFO: DOCUMENT TRANSFORMER\n",
      "2023-06-07 06:48:53 INFO: POS REMOVAL\n",
      "2023-06-07 06:48:53 INFO: DOCUMENT TRANSFORMER\n",
      "2023-06-07 06:48:53 INFO: POS REMOVAL\n",
      "2023-06-07 06:48:54 INFO: DOCUMENT TRANSFORMER\n",
      "2023-06-07 06:48:54 INFO: POS REMOVAL\n",
      "2023-06-07 06:48:54 INFO: DOCUMENT TRANSFORMER\n",
      "2023-06-07 06:48:54 INFO: POS REMOVAL\n",
      "2023-06-07 06:48:54 INFO: DOCUMENT TRANSFORMER\n",
      "2023-06-07 06:48:55 INFO: POS REMOVAL\n",
      "2023-06-07 06:48:55 INFO: DOCUMENT TRANSFORMER\n",
      "2023-06-07 06:48:55 INFO: POS REMOVAL\n",
      "2023-06-07 06:48:55 INFO: DOCUMENT TRANSFORMER\n",
      "2023-06-07 06:48:55 INFO: POS REMOVAL\n",
      "2023-06-07 06:48:55 INFO: DOCUMENT TRANSFORMER\n",
      "2023-06-07 06:48:55 INFO: POS REMOVAL\n",
      "2023-06-07 06:48:55 INFO: DOCUMENT TRANSFORMER\n",
      "2023-06-07 06:48:56 INFO: POS REMOVAL\n",
      "2023-06-07 06:48:56 INFO: DOCUMENT TRANSFORMER\n",
      "2023-06-07 06:48:56 INFO: POS REMOVAL\n",
      "2023-06-07 06:48:56 INFO: DOCUMENT TRANSFORMER\n",
      "2023-06-07 06:48:57 INFO: POS REMOVAL\n",
      "2023-06-07 06:48:57 INFO: DOCUMENT TRANSFORMER\n",
      "2023-06-07 06:48:57 INFO: POS REMOVAL\n",
      "2023-06-07 06:48:57 INFO: DOCUMENT TRANSFORMER\n",
      "2023-06-07 06:48:57 INFO: POS REMOVAL\n",
      "2023-06-07 06:48:57 INFO: DOCUMENT TRANSFORMER\n",
      "2023-06-07 06:48:58 INFO: POS REMOVAL\n",
      "2023-06-07 06:48:58 INFO: DOCUMENT TRANSFORMER\n",
      "2023-06-07 06:48:58 INFO: POS REMOVAL\n",
      "2023-06-07 06:48:58 INFO: DOCUMENT TRANSFORMER\n",
      "2023-06-07 06:48:58 INFO: POS REMOVAL\n",
      "2023-06-07 06:48:59 INFO: DOCUMENT TRANSFORMER\n",
      "2023-06-07 06:48:59 INFO: POS REMOVAL\n",
      "2023-06-07 06:48:59 INFO: DOCUMENT TRANSFORMER\n",
      "2023-06-07 06:48:59 INFO: POS REMOVAL\n",
      "2023-06-07 06:48:59 INFO: DOCUMENT TRANSFORMER\n",
      "2023-06-07 06:49:00 INFO: POS REMOVAL\n",
      "2023-06-07 06:49:00 INFO: DOCUMENT TRANSFORMER\n",
      "2023-06-07 06:49:00 INFO: POS REMOVAL\n",
      "2023-06-07 06:49:00 INFO: DOCUMENT TRANSFORMER\n",
      "2023-06-07 06:49:01 INFO: POS REMOVAL\n",
      "2023-06-07 06:49:01 INFO: DOCUMENT TRANSFORMER\n",
      "2023-06-07 06:49:01 INFO: POS REMOVAL\n",
      "2023-06-07 06:49:01 INFO: DOCUMENT TRANSFORMER\n",
      "2023-06-07 06:49:02 INFO: POS REMOVAL\n",
      "2023-06-07 06:49:02 INFO: DOCUMENT TRANSFORMER\n",
      "2023-06-07 06:49:02 INFO: POS REMOVAL\n",
      "2023-06-07 06:49:02 INFO: DOCUMENT TRANSFORMER\n",
      "2023-06-07 06:49:03 INFO: POS REMOVAL\n",
      "2023-06-07 06:49:03 INFO: DOCUMENT TRANSFORMER\n",
      "2023-06-07 06:49:03 INFO: POS REMOVAL\n",
      "2023-06-07 06:49:03 INFO: DOCUMENT TRANSFORMER\n",
      "2023-06-07 06:49:04 INFO: POS REMOVAL\n",
      "2023-06-07 06:49:04 INFO: DOCUMENT TRANSFORMER\n",
      "2023-06-07 06:49:04 INFO: POS REMOVAL\n",
      "2023-06-07 06:49:04 INFO: DOCUMENT TRANSFORMER\n",
      "2023-06-07 06:49:05 INFO: POS REMOVAL\n",
      "2023-06-07 06:49:05 INFO: DOCUMENT TRANSFORMER\n",
      "2023-06-07 06:49:05 INFO: POS REMOVAL\n",
      "2023-06-07 06:49:05 INFO: DOCUMENT TRANSFORMER\n",
      "2023-06-07 06:49:06 INFO: POS REMOVAL\n",
      "2023-06-07 06:49:06 INFO: DOCUMENT TRANSFORMER\n",
      "2023-06-07 06:49:06 INFO: POS REMOVAL\n",
      "2023-06-07 06:49:06 INFO: DOCUMENT TRANSFORMER\n",
      "2023-06-07 06:49:06 INFO: POS REMOVAL\n",
      "2023-06-07 06:49:06 INFO: DOCUMENT TRANSFORMER\n",
      "2023-06-07 06:49:07 INFO: POS REMOVAL\n",
      "2023-06-07 06:49:07 INFO: DOCUMENT TRANSFORMER\n",
      "2023-06-07 06:49:07 INFO: POS REMOVAL\n",
      "2023-06-07 06:49:07 INFO: DOCUMENT TRANSFORMER\n",
      "2023-06-07 06:49:08 INFO: POS REMOVAL\n",
      "2023-06-07 06:49:08 INFO: DOCUMENT TRANSFORMER\n",
      "2023-06-07 06:49:08 INFO: POS REMOVAL\n",
      "2023-06-07 06:49:08 INFO: DOCUMENT TRANSFORMER\n",
      "2023-06-07 06:49:08 INFO: POS REMOVAL\n",
      "2023-06-07 06:49:08 INFO: DOCUMENT TRANSFORMER\n",
      "2023-06-07 06:49:09 INFO: POS REMOVAL\n",
      "2023-06-07 06:49:09 INFO: DOCUMENT TRANSFORMER\n",
      "2023-06-07 06:49:09 INFO: POS REMOVAL\n",
      "2023-06-07 06:49:09 INFO: DOCUMENT TRANSFORMER\n",
      "2023-06-07 06:49:10 INFO: POS REMOVAL\n",
      "2023-06-07 06:49:10 INFO: DOCUMENT TRANSFORMER\n",
      "2023-06-07 06:49:10 INFO: POS REMOVAL\n",
      "2023-06-07 06:49:10 INFO: DOCUMENT TRANSFORMER\n",
      "2023-06-07 06:49:11 INFO: POS REMOVAL\n",
      "2023-06-07 06:49:11 INFO: DOCUMENT TRANSFORMER\n",
      "2023-06-07 06:49:11 INFO: POS REMOVAL\n",
      "2023-06-07 06:49:11 INFO: DOCUMENT TRANSFORMER\n",
      "2023-06-07 06:49:12 INFO: POS REMOVAL\n",
      "2023-06-07 06:49:12 INFO: DOCUMENT TRANSFORMER\n",
      "2023-06-07 06:49:12 INFO: POS REMOVAL\n",
      "2023-06-07 06:49:12 INFO: DOCUMENT TRANSFORMER\n",
      "2023-06-07 06:49:12 INFO: POS REMOVAL\n",
      "2023-06-07 06:49:12 INFO: DOCUMENT TRANSFORMER\n",
      "2023-06-07 06:49:13 INFO: POS REMOVAL\n",
      "2023-06-07 06:49:13 INFO: DOCUMENT TRANSFORMER\n",
      "2023-06-07 06:49:13 INFO: POS REMOVAL\n",
      "2023-06-07 06:49:13 INFO: DOCUMENT TRANSFORMER\n",
      "2023-06-07 06:49:13 INFO: POS REMOVAL\n",
      "2023-06-07 06:49:13 INFO: DOCUMENT TRANSFORMER\n",
      "2023-06-07 06:49:14 INFO: POS REMOVAL\n",
      "2023-06-07 06:49:14 INFO: DOCUMENT TRANSFORMER\n",
      "2023-06-07 06:49:14 INFO: POS REMOVAL\n",
      "2023-06-07 06:49:14 INFO: DOCUMENT TRANSFORMER\n",
      "2023-06-07 06:49:15 INFO: POS REMOVAL\n",
      "2023-06-07 06:49:15 INFO: DOCUMENT TRANSFORMER\n",
      "2023-06-07 06:49:15 INFO: POS REMOVAL\n",
      "2023-06-07 06:49:15 INFO: DOCUMENT TRANSFORMER\n",
      "2023-06-07 06:49:15 INFO: POS REMOVAL\n",
      "2023-06-07 06:49:15 INFO: DOCUMENT TRANSFORMER\n",
      "2023-06-07 06:49:15 INFO: POS REMOVAL\n",
      "2023-06-07 06:49:15 INFO: DOCUMENT TRANSFORMER\n",
      "2023-06-07 06:49:16 INFO: POS REMOVAL\n",
      "2023-06-07 06:49:16 INFO: DOCUMENT TRANSFORMER\n",
      "2023-06-07 06:49:16 INFO: POS REMOVAL\n",
      "2023-06-07 06:49:16 INFO: DOCUMENT TRANSFORMER\n",
      "2023-06-07 06:49:16 INFO: POS REMOVAL\n",
      "2023-06-07 06:49:16 INFO: DOCUMENT TRANSFORMER\n",
      "2023-06-07 06:49:17 INFO: POS REMOVAL\n",
      "2023-06-07 06:49:17 INFO: DOCUMENT TRANSFORMER\n",
      "2023-06-07 06:49:17 INFO: POS REMOVAL\n",
      "2023-06-07 06:49:17 INFO: DOCUMENT TRANSFORMER\n",
      "2023-06-07 06:49:17 INFO: POS REMOVAL\n",
      "2023-06-07 06:49:17 INFO: DOCUMENT TRANSFORMER\n",
      "2023-06-07 06:49:18 INFO: POS REMOVAL\n",
      "2023-06-07 06:49:18 INFO: DOCUMENT TRANSFORMER\n",
      "2023-06-07 06:49:18 INFO: POS REMOVAL\n",
      "2023-06-07 06:49:18 INFO: DOCUMENT TRANSFORMER\n",
      "2023-06-07 06:49:18 INFO: POS REMOVAL\n",
      "2023-06-07 06:49:18 INFO: DOCUMENT TRANSFORMER\n",
      "2023-06-07 06:49:18 INFO: POS REMOVAL\n",
      "2023-06-07 06:49:18 INFO: DOCUMENT TRANSFORMER\n",
      "2023-06-07 06:49:19 INFO: POS REMOVAL\n",
      "2023-06-07 06:49:19 INFO: DOCUMENT TRANSFORMER\n",
      "2023-06-07 06:49:19 INFO: POS REMOVAL\n",
      "2023-06-07 06:49:19 INFO: DOCUMENT TRANSFORMER\n",
      "2023-06-07 06:49:20 INFO: POS REMOVAL\n",
      "2023-06-07 06:49:20 INFO: DOCUMENT TRANSFORMER\n",
      "2023-06-07 06:49:20 INFO: POS REMOVAL\n",
      "2023-06-07 06:49:20 INFO: DOCUMENT TRANSFORMER\n",
      "2023-06-07 06:49:20 INFO: POS REMOVAL\n",
      "2023-06-07 06:49:20 INFO: DOCUMENT TRANSFORMER\n",
      "2023-06-07 06:49:20 INFO: POS REMOVAL\n",
      "2023-06-07 06:49:20 INFO: DOCUMENT TRANSFORMER\n",
      "2023-06-07 06:49:21 INFO: POS REMOVAL\n",
      "2023-06-07 06:49:21 INFO: DOCUMENT TRANSFORMER\n",
      "2023-06-07 06:49:21 INFO: POS REMOVAL\n",
      "2023-06-07 06:49:21 INFO: DOCUMENT TRANSFORMER\n",
      "2023-06-07 06:49:21 INFO: POS REMOVAL\n",
      "2023-06-07 06:49:21 INFO: DOCUMENT TRANSFORMER\n",
      "2023-06-07 06:49:21 INFO: POS REMOVAL\n",
      "2023-06-07 06:49:21 INFO: DOCUMENT TRANSFORMER\n",
      "2023-06-07 06:49:22 INFO: POS REMOVAL\n",
      "2023-06-07 06:49:22 INFO: DOCUMENT TRANSFORMER\n",
      "2023-06-07 06:49:23 INFO: POS REMOVAL\n",
      "2023-06-07 06:49:23 INFO: DOCUMENT TRANSFORMER\n",
      "2023-06-07 06:49:23 INFO: POS REMOVAL\n",
      "2023-06-07 06:49:23 INFO: DOCUMENT TRANSFORMER\n",
      "2023-06-07 06:49:23 INFO: POS REMOVAL\n",
      "2023-06-07 06:49:23 INFO: DOCUMENT TRANSFORMER\n",
      "2023-06-07 06:49:24 INFO: POS REMOVAL\n",
      "2023-06-07 06:49:24 INFO: DOCUMENT TRANSFORMER\n",
      "2023-06-07 06:49:24 INFO: POS REMOVAL\n",
      "2023-06-07 06:49:24 INFO: DOCUMENT TRANSFORMER\n",
      "2023-06-07 06:49:24 INFO: POS REMOVAL\n",
      "2023-06-07 06:49:24 INFO: DOCUMENT TRANSFORMER\n",
      "2023-06-07 06:49:24 INFO: POS REMOVAL\n",
      "2023-06-07 06:49:24 INFO: DOCUMENT TRANSFORMER\n",
      "2023-06-07 06:49:25 INFO: POS REMOVAL\n",
      "2023-06-07 06:49:25 INFO: DOCUMENT TRANSFORMER\n",
      "2023-06-07 06:49:25 INFO: POS REMOVAL\n",
      "2023-06-07 06:49:25 INFO: DOCUMENT TRANSFORMER\n",
      "2023-06-07 06:49:25 INFO: POS REMOVAL\n",
      "2023-06-07 06:49:25 INFO: DOCUMENT TRANSFORMER\n",
      "2023-06-07 06:49:25 INFO: POS REMOVAL\n",
      "2023-06-07 06:49:26 INFO: DOCUMENT TRANSFORMER\n",
      "2023-06-07 06:49:26 INFO: POS REMOVAL\n",
      "2023-06-07 06:49:26 INFO: DOCUMENT TRANSFORMER\n",
      "2023-06-07 06:49:26 INFO: POS REMOVAL\n",
      "2023-06-07 06:49:26 INFO: DOCUMENT TRANSFORMER\n",
      "2023-06-07 06:49:27 INFO: POS REMOVAL\n",
      "2023-06-07 06:49:27 INFO: DOCUMENT TRANSFORMER\n",
      "2023-06-07 06:49:27 INFO: POS REMOVAL\n",
      "2023-06-07 06:49:27 INFO: DOCUMENT TRANSFORMER\n",
      "2023-06-07 06:49:27 INFO: POS REMOVAL\n",
      "2023-06-07 06:49:27 INFO: DOCUMENT TRANSFORMER\n",
      "2023-06-07 06:49:27 INFO: POS REMOVAL\n",
      "2023-06-07 06:49:28 INFO: DOCUMENT TRANSFORMER\n",
      "2023-06-07 06:49:28 INFO: POS REMOVAL\n",
      "2023-06-07 06:49:28 INFO: DOCUMENT TRANSFORMER\n",
      "2023-06-07 06:49:28 INFO: POS REMOVAL\n",
      "2023-06-07 06:49:28 INFO: DOCUMENT TRANSFORMER\n",
      "2023-06-07 06:49:29 INFO: POS REMOVAL\n",
      "2023-06-07 06:49:29 INFO: DOCUMENT TRANSFORMER\n",
      "2023-06-07 06:49:29 INFO: POS REMOVAL\n",
      "2023-06-07 06:49:29 INFO: DOCUMENT TRANSFORMER\n",
      "2023-06-07 06:49:29 INFO: POS REMOVAL\n",
      "2023-06-07 06:49:30 INFO: DOCUMENT TRANSFORMER\n",
      "2023-06-07 06:49:30 INFO: POS REMOVAL\n",
      "2023-06-07 06:49:30 INFO: DOCUMENT TRANSFORMER\n",
      "2023-06-07 06:49:30 INFO: POS REMOVAL\n",
      "2023-06-07 06:49:30 INFO: DOCUMENT TRANSFORMER\n",
      "2023-06-07 06:49:30 INFO: POS REMOVAL\n",
      "2023-06-07 06:49:30 INFO: DOCUMENT TRANSFORMER\n",
      "2023-06-07 06:49:31 INFO: POS REMOVAL\n",
      "2023-06-07 06:49:31 INFO: DOCUMENT TRANSFORMER\n",
      "2023-06-07 06:49:31 INFO: POS REMOVAL\n",
      "2023-06-07 06:49:31 INFO: DOCUMENT TRANSFORMER\n",
      "2023-06-07 06:49:32 INFO: POS REMOVAL\n",
      "2023-06-07 06:49:32 INFO: DOCUMENT TRANSFORMER\n",
      "2023-06-07 06:49:32 INFO: POS REMOVAL\n",
      "2023-06-07 06:49:32 INFO: DOCUMENT TRANSFORMER\n",
      "2023-06-07 06:49:32 INFO: POS REMOVAL\n",
      "2023-06-07 06:49:32 INFO: DOCUMENT TRANSFORMER\n",
      "2023-06-07 06:49:32 INFO: POS REMOVAL\n",
      "2023-06-07 06:49:32 INFO: DOCUMENT TRANSFORMER\n",
      "2023-06-07 06:49:33 INFO: POS REMOVAL\n",
      "2023-06-07 06:49:33 INFO: DOCUMENT TRANSFORMER\n",
      "2023-06-07 06:49:33 INFO: POS REMOVAL\n",
      "2023-06-07 06:49:33 INFO: DOCUMENT TRANSFORMER\n",
      "2023-06-07 06:49:34 INFO: POS REMOVAL\n",
      "2023-06-07 06:49:34 INFO: DOCUMENT TRANSFORMER\n",
      "2023-06-07 06:49:34 INFO: POS REMOVAL\n",
      "2023-06-07 06:49:34 INFO: DOCUMENT TRANSFORMER\n",
      "2023-06-07 06:49:34 INFO: POS REMOVAL\n",
      "2023-06-07 06:49:34 INFO: DOCUMENT TRANSFORMER\n",
      "2023-06-07 06:49:35 INFO: POS REMOVAL\n",
      "2023-06-07 06:49:35 INFO: DOCUMENT TRANSFORMER\n",
      "2023-06-07 06:49:35 INFO: POS REMOVAL\n",
      "2023-06-07 06:49:35 INFO: DOCUMENT TRANSFORMER\n",
      "2023-06-07 06:49:35 INFO: POS REMOVAL\n",
      "2023-06-07 06:49:35 INFO: DOCUMENT TRANSFORMER\n",
      "2023-06-07 06:49:36 INFO: POS REMOVAL\n",
      "2023-06-07 06:49:36 INFO: DOCUMENT TRANSFORMER\n",
      "2023-06-07 06:49:36 INFO: POS REMOVAL\n",
      "2023-06-07 06:49:36 INFO: DOCUMENT TRANSFORMER\n",
      "2023-06-07 06:49:37 INFO: POS REMOVAL\n",
      "2023-06-07 06:49:37 INFO: DOCUMENT TRANSFORMER\n",
      "2023-06-07 06:49:37 INFO: POS REMOVAL\n",
      "2023-06-07 06:49:37 INFO: DOCUMENT TRANSFORMER\n",
      "2023-06-07 06:49:37 INFO: POS REMOVAL\n",
      "2023-06-07 06:49:37 INFO: DOCUMENT TRANSFORMER\n",
      "2023-06-07 06:49:37 INFO: POS REMOVAL\n",
      "2023-06-07 06:49:37 INFO: DOCUMENT TRANSFORMER\n",
      "2023-06-07 06:49:38 INFO: POS REMOVAL\n",
      "2023-06-07 06:49:38 INFO: DOCUMENT TRANSFORMER\n",
      "2023-06-07 06:49:38 INFO: POS REMOVAL\n",
      "2023-06-07 06:49:38 INFO: DOCUMENT TRANSFORMER\n",
      "2023-06-07 06:49:39 INFO: POS REMOVAL\n",
      "2023-06-07 06:49:39 INFO: DOCUMENT TRANSFORMER\n",
      "2023-06-07 06:49:39 INFO: POS REMOVAL\n",
      "2023-06-07 06:49:39 INFO: DOCUMENT TRANSFORMER\n",
      "2023-06-07 06:49:39 INFO: POS REMOVAL\n",
      "2023-06-07 06:49:39 INFO: DOCUMENT TRANSFORMER\n",
      "2023-06-07 06:49:39 INFO: POS REMOVAL\n",
      "2023-06-07 06:49:39 INFO: DOCUMENT TRANSFORMER\n",
      "2023-06-07 06:49:40 INFO: POS REMOVAL\n",
      "2023-06-07 06:49:40 INFO: DOCUMENT TRANSFORMER\n",
      "2023-06-07 06:49:40 INFO: POS REMOVAL\n",
      "2023-06-07 06:49:40 INFO: DOCUMENT TRANSFORMER\n",
      "2023-06-07 06:49:40 INFO: POS REMOVAL\n",
      "2023-06-07 06:49:40 INFO: DOCUMENT TRANSFORMER\n",
      "2023-06-07 06:49:41 INFO: POS REMOVAL\n",
      "2023-06-07 06:49:41 INFO: DOCUMENT TRANSFORMER\n",
      "2023-06-07 06:49:41 INFO: POS REMOVAL\n",
      "2023-06-07 06:49:41 INFO: DOCUMENT TRANSFORMER\n",
      "2023-06-07 06:49:42 INFO: POS REMOVAL\n",
      "2023-06-07 06:49:42 INFO: DOCUMENT TRANSFORMER\n",
      "2023-06-07 06:49:42 INFO: POS REMOVAL\n",
      "2023-06-07 06:49:42 INFO: DOCUMENT TRANSFORMER\n",
      "2023-06-07 06:49:42 INFO: POS REMOVAL\n",
      "2023-06-07 06:49:42 INFO: DOCUMENT TRANSFORMER\n",
      "2023-06-07 06:49:43 INFO: POS REMOVAL\n",
      "2023-06-07 06:49:43 INFO: DOCUMENT TRANSFORMER\n",
      "2023-06-07 06:49:43 INFO: POS REMOVAL\n",
      "2023-06-07 06:49:43 INFO: DOCUMENT TRANSFORMER\n",
      "2023-06-07 06:49:44 INFO: POS REMOVAL\n",
      "2023-06-07 06:49:44 INFO: DOCUMENT TRANSFORMER\n",
      "2023-06-07 06:49:44 INFO: POS REMOVAL\n",
      "2023-06-07 06:49:44 INFO: DOCUMENT TRANSFORMER\n",
      "2023-06-07 06:49:44 INFO: POS REMOVAL\n",
      "2023-06-07 06:49:44 INFO: DOCUMENT TRANSFORMER\n",
      "2023-06-07 06:49:45 INFO: POS REMOVAL\n",
      "2023-06-07 06:49:45 INFO: DOCUMENT TRANSFORMER\n",
      "2023-06-07 06:49:45 INFO: POS REMOVAL\n",
      "2023-06-07 06:49:45 INFO: DOCUMENT TRANSFORMER\n",
      "2023-06-07 06:49:46 INFO: POS REMOVAL\n",
      "2023-06-07 06:49:46 INFO: DOCUMENT TRANSFORMER\n",
      "2023-06-07 06:49:46 INFO: POS REMOVAL\n",
      "2023-06-07 06:49:46 INFO: DOCUMENT TRANSFORMER\n",
      "2023-06-07 06:49:46 INFO: POS REMOVAL\n",
      "2023-06-07 06:49:46 INFO: DOCUMENT TRANSFORMER\n",
      "2023-06-07 06:49:47 INFO: POS REMOVAL\n",
      "2023-06-07 06:49:47 INFO: DOCUMENT TRANSFORMER\n",
      "2023-06-07 06:49:47 INFO: POS REMOVAL\n",
      "2023-06-07 06:49:47 INFO: DOCUMENT TRANSFORMER\n",
      "2023-06-07 06:49:48 INFO: POS REMOVAL\n",
      "2023-06-07 06:49:48 INFO: DOCUMENT TRANSFORMER\n",
      "2023-06-07 06:49:48 INFO: POS REMOVAL\n",
      "2023-06-07 06:49:49 INFO: DOCUMENT TRANSFORMER\n",
      "2023-06-07 06:49:49 INFO: POS REMOVAL\n",
      "2023-06-07 06:49:49 INFO: DOCUMENT TRANSFORMER\n",
      "2023-06-07 06:49:50 INFO: POS REMOVAL\n",
      "2023-06-07 06:49:50 INFO: DOCUMENT TRANSFORMER\n",
      "2023-06-07 06:49:50 INFO: POS REMOVAL\n",
      "2023-06-07 06:49:50 INFO: DOCUMENT TRANSFORMER\n",
      "2023-06-07 06:49:51 INFO: POS REMOVAL\n",
      "2023-06-07 06:49:51 INFO: DOCUMENT TRANSFORMER\n",
      "2023-06-07 06:49:51 INFO: POS REMOVAL\n",
      "2023-06-07 06:49:51 INFO: DOCUMENT TRANSFORMER\n",
      "2023-06-07 06:49:52 INFO: POS REMOVAL\n",
      "2023-06-07 06:49:52 INFO: DOCUMENT TRANSFORMER\n",
      "2023-06-07 06:49:52 INFO: POS REMOVAL\n",
      "2023-06-07 06:49:52 INFO: DOCUMENT TRANSFORMER\n",
      "2023-06-07 06:49:53 INFO: POS REMOVAL\n",
      "2023-06-07 06:49:53 INFO: DOCUMENT TRANSFORMER\n",
      "2023-06-07 06:49:53 INFO: POS REMOVAL\n",
      "2023-06-07 06:49:53 INFO: DOCUMENT TRANSFORMER\n",
      "2023-06-07 06:49:54 INFO: POS REMOVAL\n",
      "2023-06-07 06:49:54 INFO: DOCUMENT TRANSFORMER\n",
      "2023-06-07 06:49:54 INFO: POS REMOVAL\n",
      "2023-06-07 06:49:54 INFO: DOCUMENT TRANSFORMER\n",
      "2023-06-07 06:49:55 INFO: POS REMOVAL\n",
      "2023-06-07 06:49:55 INFO: DOCUMENT TRANSFORMER\n",
      "2023-06-07 06:49:55 INFO: POS REMOVAL\n",
      "2023-06-07 06:49:56 INFO: DOCUMENT TRANSFORMER\n",
      "2023-06-07 06:49:56 INFO: POS REMOVAL\n",
      "2023-06-07 06:49:56 INFO: DOCUMENT TRANSFORMER\n",
      "2023-06-07 06:49:57 INFO: POS REMOVAL\n",
      "2023-06-07 06:49:57 INFO: DOCUMENT TRANSFORMER\n",
      "2023-06-07 06:49:57 INFO: POS REMOVAL\n",
      "2023-06-07 06:49:57 INFO: DOCUMENT TRANSFORMER\n",
      "2023-06-07 06:49:58 INFO: POS REMOVAL\n",
      "2023-06-07 06:49:58 INFO: DOCUMENT TRANSFORMER\n",
      "2023-06-07 06:49:58 INFO: POS REMOVAL\n",
      "2023-06-07 06:49:58 INFO: DOCUMENT TRANSFORMER\n",
      "2023-06-07 06:49:59 INFO: POS REMOVAL\n",
      "2023-06-07 06:49:59 INFO: DOCUMENT TRANSFORMER\n",
      "2023-06-07 06:49:59 INFO: POS REMOVAL\n",
      "2023-06-07 06:49:59 INFO: DOCUMENT TRANSFORMER\n",
      "2023-06-07 06:50:00 INFO: POS REMOVAL\n",
      "2023-06-07 06:50:00 INFO: DOCUMENT TRANSFORMER\n",
      "2023-06-07 06:50:00 INFO: POS REMOVAL\n",
      "2023-06-07 06:50:00 INFO: DOCUMENT TRANSFORMER\n",
      "2023-06-07 06:50:00 INFO: POS REMOVAL\n",
      "2023-06-07 06:50:01 INFO: DOCUMENT TRANSFORMER\n",
      "2023-06-07 06:50:01 INFO: POS REMOVAL\n",
      "2023-06-07 06:50:01 INFO: DOCUMENT TRANSFORMER\n",
      "2023-06-07 06:50:01 INFO: POS REMOVAL\n",
      "2023-06-07 06:50:01 INFO: DOCUMENT TRANSFORMER\n",
      "2023-06-07 06:50:02 INFO: POS REMOVAL\n",
      "2023-06-07 06:50:02 INFO: DOCUMENT TRANSFORMER\n",
      "2023-06-07 06:50:02 INFO: POS REMOVAL\n",
      "2023-06-07 06:50:02 INFO: DOCUMENT TRANSFORMER\n",
      "2023-06-07 06:50:03 INFO: POS REMOVAL\n",
      "2023-06-07 06:50:03 INFO: DOCUMENT TRANSFORMER\n",
      "2023-06-07 06:50:03 INFO: POS REMOVAL\n",
      "2023-06-07 06:50:03 INFO: DOCUMENT TRANSFORMER\n",
      "2023-06-07 06:50:03 INFO: POS REMOVAL\n",
      "2023-06-07 06:50:03 INFO: DOCUMENT TRANSFORMER\n",
      "2023-06-07 06:50:04 INFO: POS REMOVAL\n",
      "2023-06-07 06:50:04 INFO: DOCUMENT TRANSFORMER\n",
      "2023-06-07 06:50:04 INFO: POS REMOVAL\n",
      "2023-06-07 06:50:04 INFO: DOCUMENT TRANSFORMER\n",
      "2023-06-07 06:50:05 INFO: POS REMOVAL\n",
      "2023-06-07 06:50:05 INFO: DOCUMENT TRANSFORMER\n",
      "2023-06-07 06:50:05 INFO: POS REMOVAL\n",
      "2023-06-07 06:50:05 INFO: DOCUMENT TRANSFORMER\n",
      "2023-06-07 06:50:05 INFO: POS REMOVAL\n",
      "2023-06-07 06:50:05 INFO: DOCUMENT TRANSFORMER\n",
      "2023-06-07 06:50:06 INFO: POS REMOVAL\n",
      "2023-06-07 06:50:06 INFO: DOCUMENT TRANSFORMER\n",
      "2023-06-07 06:50:06 INFO: POS REMOVAL\n",
      "2023-06-07 06:50:06 INFO: DOCUMENT TRANSFORMER\n",
      "2023-06-07 06:50:07 INFO: POS REMOVAL\n",
      "2023-06-07 06:50:07 INFO: DOCUMENT TRANSFORMER\n",
      "2023-06-07 06:50:07 INFO: POS REMOVAL\n",
      "2023-06-07 06:50:07 INFO: DOCUMENT TRANSFORMER\n",
      "2023-06-07 06:50:08 INFO: POS REMOVAL\n",
      "2023-06-07 06:50:08 INFO: DOCUMENT TRANSFORMER\n",
      "2023-06-07 06:50:08 INFO: POS REMOVAL\n",
      "2023-06-07 06:50:08 INFO: DOCUMENT TRANSFORMER\n",
      "2023-06-07 06:50:09 INFO: POS REMOVAL\n",
      "2023-06-07 06:50:09 INFO: DOCUMENT TRANSFORMER\n",
      "2023-06-07 06:50:09 INFO: POS REMOVAL\n",
      "2023-06-07 06:50:09 INFO: DOCUMENT TRANSFORMER\n",
      "2023-06-07 06:50:10 INFO: POS REMOVAL\n",
      "2023-06-07 06:50:10 INFO: DOCUMENT TRANSFORMER\n",
      "2023-06-07 06:50:11 INFO: POS REMOVAL\n",
      "2023-06-07 06:50:11 INFO: DOCUMENT TRANSFORMER\n",
      "2023-06-07 06:50:11 INFO: POS REMOVAL\n",
      "2023-06-07 06:50:11 INFO: DOCUMENT TRANSFORMER\n",
      "2023-06-07 06:50:12 INFO: POS REMOVAL\n",
      "2023-06-07 06:50:12 INFO: DOCUMENT TRANSFORMER\n",
      "2023-06-07 06:50:12 INFO: POS REMOVAL\n",
      "2023-06-07 06:50:12 INFO: DOCUMENT TRANSFORMER\n",
      "2023-06-07 06:50:13 INFO: POS REMOVAL\n",
      "2023-06-07 06:50:13 INFO: DOCUMENT TRANSFORMER\n",
      "2023-06-07 06:50:13 INFO: POS REMOVAL\n",
      "2023-06-07 06:50:13 INFO: DOCUMENT TRANSFORMER\n",
      "2023-06-07 06:50:14 INFO: POS REMOVAL\n",
      "2023-06-07 06:50:14 INFO: DOCUMENT TRANSFORMER\n",
      "2023-06-07 06:50:14 INFO: POS REMOVAL\n",
      "2023-06-07 06:50:14 INFO: DOCUMENT TRANSFORMER\n",
      "2023-06-07 06:50:15 INFO: POS REMOVAL\n",
      "2023-06-07 06:50:15 INFO: DOCUMENT TRANSFORMER\n",
      "2023-06-07 06:50:15 INFO: POS REMOVAL\n",
      "2023-06-07 06:50:15 INFO: DOCUMENT TRANSFORMER\n",
      "2023-06-07 06:50:16 INFO: POS REMOVAL\n",
      "2023-06-07 06:50:16 INFO: DOCUMENT TRANSFORMER\n",
      "2023-06-07 06:50:16 INFO: POS REMOVAL\n",
      "2023-06-07 06:50:16 INFO: DOCUMENT TRANSFORMER\n",
      "2023-06-07 06:50:17 INFO: POS REMOVAL\n",
      "2023-06-07 06:50:17 INFO: DOCUMENT TRANSFORMER\n",
      "2023-06-07 06:50:17 INFO: POS REMOVAL\n",
      "2023-06-07 06:50:17 INFO: DOCUMENT TRANSFORMER\n",
      "2023-06-07 06:50:18 INFO: POS REMOVAL\n",
      "2023-06-07 06:50:18 INFO: DOCUMENT TRANSFORMER\n",
      "2023-06-07 06:50:18 INFO: POS REMOVAL\n",
      "2023-06-07 06:50:18 INFO: DOCUMENT TRANSFORMER\n",
      "2023-06-07 06:50:19 INFO: POS REMOVAL\n",
      "2023-06-07 06:50:19 INFO: DOCUMENT TRANSFORMER\n",
      "2023-06-07 06:50:19 INFO: POS REMOVAL\n",
      "2023-06-07 06:50:19 INFO: DOCUMENT TRANSFORMER\n",
      "2023-06-07 06:50:19 INFO: POS REMOVAL\n",
      "2023-06-07 06:50:19 INFO: DOCUMENT TRANSFORMER\n",
      "2023-06-07 06:50:20 INFO: POS REMOVAL\n",
      "2023-06-07 06:50:20 INFO: DOCUMENT TRANSFORMER\n",
      "2023-06-07 06:50:20 INFO: POS REMOVAL\n",
      "2023-06-07 06:50:20 INFO: DOCUMENT TRANSFORMER\n",
      "2023-06-07 06:50:21 INFO: POS REMOVAL\n",
      "2023-06-07 06:50:21 INFO: DOCUMENT TRANSFORMER\n",
      "2023-06-07 06:50:21 INFO: POS REMOVAL\n",
      "2023-06-07 06:50:21 INFO: DOCUMENT TRANSFORMER\n",
      "2023-06-07 06:50:21 INFO: POS REMOVAL\n",
      "2023-06-07 06:50:22 INFO: DOCUMENT TRANSFORMER\n",
      "2023-06-07 06:50:22 INFO: POS REMOVAL\n",
      "2023-06-07 06:50:22 INFO: DOCUMENT TRANSFORMER\n",
      "2023-06-07 06:50:22 INFO: POS REMOVAL\n",
      "2023-06-07 06:50:22 INFO: DOCUMENT TRANSFORMER\n",
      "2023-06-07 06:50:23 INFO: POS REMOVAL\n",
      "2023-06-07 06:50:23 INFO: DOCUMENT TRANSFORMER\n",
      "2023-06-07 06:50:23 INFO: POS REMOVAL\n",
      "2023-06-07 06:50:23 INFO: DOCUMENT TRANSFORMER\n",
      "2023-06-07 06:50:24 INFO: POS REMOVAL\n",
      "2023-06-07 06:50:24 INFO: DOCUMENT TRANSFORMER\n",
      "2023-06-07 06:50:24 INFO: POS REMOVAL\n",
      "2023-06-07 06:50:24 INFO: DOCUMENT TRANSFORMER\n",
      "2023-06-07 06:50:24 INFO: POS REMOVAL\n",
      "2023-06-07 06:50:24 INFO: DOCUMENT TRANSFORMER\n",
      "2023-06-07 06:50:25 INFO: POS REMOVAL\n",
      "2023-06-07 06:50:25 INFO: DOCUMENT TRANSFORMER\n",
      "2023-06-07 06:50:25 INFO: POS REMOVAL\n",
      "2023-06-07 06:50:25 INFO: DOCUMENT TRANSFORMER\n",
      "2023-06-07 06:50:26 INFO: POS REMOVAL\n",
      "2023-06-07 06:50:26 INFO: DOCUMENT TRANSFORMER\n",
      "2023-06-07 06:50:26 INFO: POS REMOVAL\n",
      "2023-06-07 06:50:26 INFO: DOCUMENT TRANSFORMER\n",
      "2023-06-07 06:50:26 INFO: POS REMOVAL\n",
      "2023-06-07 06:50:26 INFO: DOCUMENT TRANSFORMER\n",
      "2023-06-07 06:50:27 INFO: POS REMOVAL\n",
      "2023-06-07 06:50:27 INFO: DOCUMENT TRANSFORMER\n",
      "2023-06-07 06:50:27 INFO: POS REMOVAL\n",
      "2023-06-07 06:50:28 INFO: DOCUMENT TRANSFORMER\n",
      "2023-06-07 06:50:28 INFO: POS REMOVAL\n",
      "2023-06-07 06:50:28 INFO: DOCUMENT TRANSFORMER\n",
      "2023-06-07 06:50:29 INFO: POS REMOVAL\n",
      "2023-06-07 06:50:29 INFO: DOCUMENT TRANSFORMER\n",
      "2023-06-07 06:50:29 INFO: POS REMOVAL\n",
      "2023-06-07 06:50:29 INFO: DOCUMENT TRANSFORMER\n",
      "2023-06-07 06:50:30 INFO: POS REMOVAL\n",
      "2023-06-07 06:50:30 INFO: DOCUMENT TRANSFORMER\n",
      "2023-06-07 06:50:30 INFO: POS REMOVAL\n",
      "2023-06-07 06:50:30 INFO: DOCUMENT TRANSFORMER\n",
      "2023-06-07 06:50:31 INFO: POS REMOVAL\n",
      "2023-06-07 06:50:31 INFO: DOCUMENT TRANSFORMER\n",
      "2023-06-07 06:50:31 INFO: POS REMOVAL\n",
      "2023-06-07 06:50:31 INFO: DOCUMENT TRANSFORMER\n",
      "2023-06-07 06:50:32 INFO: POS REMOVAL\n",
      "2023-06-07 06:50:32 INFO: DOCUMENT TRANSFORMER\n",
      "2023-06-07 06:50:32 INFO: POS REMOVAL\n",
      "2023-06-07 06:50:33 INFO: DOCUMENT TRANSFORMER\n",
      "2023-06-07 06:50:34 INFO: POS REMOVAL\n",
      "2023-06-07 06:50:34 INFO: DOCUMENT TRANSFORMER\n",
      "2023-06-07 06:50:34 INFO: POS REMOVAL\n",
      "2023-06-07 06:50:34 INFO: DOCUMENT TRANSFORMER\n",
      "2023-06-07 06:50:35 INFO: POS REMOVAL\n",
      "2023-06-07 06:50:35 INFO: DOCUMENT TRANSFORMER\n",
      "2023-06-07 06:50:35 INFO: POS REMOVAL\n",
      "2023-06-07 06:50:35 INFO: DOCUMENT TRANSFORMER\n",
      "2023-06-07 06:50:36 INFO: POS REMOVAL\n",
      "2023-06-07 06:50:36 INFO: DOCUMENT TRANSFORMER\n",
      "2023-06-07 06:50:36 INFO: POS REMOVAL\n",
      "2023-06-07 06:50:36 INFO: DOCUMENT TRANSFORMER\n",
      "2023-06-07 06:50:37 INFO: POS REMOVAL\n",
      "2023-06-07 06:50:37 INFO: DOCUMENT TRANSFORMER\n",
      "2023-06-07 06:50:37 INFO: POS REMOVAL\n",
      "2023-06-07 06:50:37 INFO: DOCUMENT TRANSFORMER\n",
      "2023-06-07 06:50:38 INFO: POS REMOVAL\n",
      "2023-06-07 06:50:38 INFO: DOCUMENT TRANSFORMER\n",
      "2023-06-07 06:50:38 INFO: POS REMOVAL\n",
      "2023-06-07 06:50:38 INFO: DOCUMENT TRANSFORMER\n",
      "2023-06-07 06:50:39 INFO: POS REMOVAL\n",
      "2023-06-07 06:50:39 INFO: DOCUMENT TRANSFORMER\n",
      "2023-06-07 06:50:39 INFO: POS REMOVAL\n",
      "2023-06-07 06:50:39 INFO: DOCUMENT TRANSFORMER\n",
      "2023-06-07 06:50:40 INFO: POS REMOVAL\n",
      "2023-06-07 06:50:40 INFO: DOCUMENT TRANSFORMER\n",
      "2023-06-07 06:50:40 INFO: POS REMOVAL\n",
      "2023-06-07 06:50:40 INFO: DOCUMENT TRANSFORMER\n",
      "2023-06-07 06:50:40 INFO: POS REMOVAL\n",
      "2023-06-07 06:50:41 INFO: DOCUMENT TRANSFORMER\n",
      "2023-06-07 06:50:41 INFO: POS REMOVAL\n",
      "2023-06-07 06:50:41 INFO: DOCUMENT TRANSFORMER\n",
      "2023-06-07 06:50:41 INFO: POS REMOVAL\n",
      "2023-06-07 06:50:41 INFO: DOCUMENT TRANSFORMER\n",
      "2023-06-07 06:50:42 INFO: POS REMOVAL\n",
      "2023-06-07 06:50:42 INFO: DOCUMENT TRANSFORMER\n",
      "2023-06-07 06:50:42 INFO: POS REMOVAL\n",
      "2023-06-07 06:50:42 INFO: DOCUMENT TRANSFORMER\n",
      "2023-06-07 06:50:42 INFO: POS REMOVAL\n",
      "2023-06-07 06:50:43 INFO: DOCUMENT TRANSFORMER\n",
      "2023-06-07 06:50:43 INFO: POS REMOVAL\n",
      "2023-06-07 06:50:43 INFO: DOCUMENT TRANSFORMER\n",
      "2023-06-07 06:50:43 INFO: POS REMOVAL\n",
      "2023-06-07 06:50:43 INFO: DOCUMENT TRANSFORMER\n",
      "2023-06-07 06:50:44 INFO: POS REMOVAL\n",
      "2023-06-07 06:50:44 INFO: DOCUMENT TRANSFORMER\n",
      "2023-06-07 06:50:44 INFO: POS REMOVAL\n",
      "2023-06-07 06:50:44 INFO: DOCUMENT TRANSFORMER\n",
      "2023-06-07 06:50:45 INFO: POS REMOVAL\n",
      "2023-06-07 06:50:45 INFO: DOCUMENT TRANSFORMER\n",
      "2023-06-07 06:50:45 INFO: POS REMOVAL\n",
      "2023-06-07 06:50:45 INFO: DOCUMENT TRANSFORMER\n",
      "2023-06-07 06:50:45 INFO: POS REMOVAL\n",
      "2023-06-07 06:50:45 INFO: DOCUMENT TRANSFORMER\n",
      "2023-06-07 06:50:46 INFO: POS REMOVAL\n",
      "2023-06-07 06:50:46 INFO: DOCUMENT TRANSFORMER\n",
      "2023-06-07 06:50:46 INFO: POS REMOVAL\n",
      "2023-06-07 06:50:46 INFO: DOCUMENT TRANSFORMER\n",
      "2023-06-07 06:50:47 INFO: POS REMOVAL\n",
      "2023-06-07 06:50:47 INFO: DOCUMENT TRANSFORMER\n",
      "2023-06-07 06:50:47 INFO: POS REMOVAL\n",
      "2023-06-07 06:50:47 INFO: DOCUMENT TRANSFORMER\n",
      "2023-06-07 06:50:48 INFO: POS REMOVAL\n",
      "2023-06-07 06:50:48 INFO: DOCUMENT TRANSFORMER\n",
      "2023-06-07 06:50:48 INFO: POS REMOVAL\n",
      "2023-06-07 06:50:48 INFO: DOCUMENT TRANSFORMER\n",
      "2023-06-07 06:50:49 INFO: POS REMOVAL\n",
      "2023-06-07 06:50:49 INFO: DOCUMENT TRANSFORMER\n",
      "2023-06-07 06:50:49 INFO: POS REMOVAL\n",
      "2023-06-07 06:50:49 INFO: DOCUMENT TRANSFORMER\n",
      "2023-06-07 06:50:50 INFO: POS REMOVAL\n",
      "2023-06-07 06:50:50 INFO: DOCUMENT TRANSFORMER\n",
      "2023-06-07 06:50:50 INFO: POS REMOVAL\n",
      "2023-06-07 06:50:50 INFO: DOCUMENT TRANSFORMER\n",
      "2023-06-07 06:50:51 INFO: POS REMOVAL\n",
      "2023-06-07 06:50:51 INFO: DOCUMENT TRANSFORMER\n",
      "2023-06-07 06:50:51 INFO: POS REMOVAL\n",
      "2023-06-07 06:50:51 INFO: DOCUMENT TRANSFORMER\n",
      "2023-06-07 06:50:52 INFO: POS REMOVAL\n",
      "2023-06-07 06:50:52 INFO: DOCUMENT TRANSFORMER\n",
      "2023-06-07 06:50:52 INFO: POS REMOVAL\n",
      "2023-06-07 06:50:52 INFO: DOCUMENT TRANSFORMER\n",
      "2023-06-07 06:50:53 INFO: POS REMOVAL\n",
      "2023-06-07 06:50:53 INFO: DOCUMENT TRANSFORMER\n",
      "2023-06-07 06:50:53 INFO: POS REMOVAL\n",
      "2023-06-07 06:50:53 INFO: DOCUMENT TRANSFORMER\n",
      "2023-06-07 06:50:54 INFO: POS REMOVAL\n",
      "2023-06-07 06:50:54 INFO: DOCUMENT TRANSFORMER\n",
      "2023-06-07 06:50:54 INFO: POS REMOVAL\n",
      "2023-06-07 06:50:54 INFO: DOCUMENT TRANSFORMER\n",
      "2023-06-07 06:50:55 INFO: POS REMOVAL\n",
      "2023-06-07 06:50:55 INFO: DOCUMENT TRANSFORMER\n",
      "2023-06-07 06:50:56 INFO: POS REMOVAL\n",
      "2023-06-07 06:50:56 INFO: DOCUMENT TRANSFORMER\n",
      "2023-06-07 06:50:56 INFO: POS REMOVAL\n",
      "2023-06-07 06:50:56 INFO: DOCUMENT TRANSFORMER\n",
      "2023-06-07 06:50:57 INFO: POS REMOVAL\n",
      "2023-06-07 06:50:57 INFO: DOCUMENT TRANSFORMER\n"
     ]
    },
    {
     "name": "stderr",
     "output_type": "stream",
     "text": [
      "c:\\Users\\c10nGp4\\anaconda3\\envs\\imbalance-multi-classification\\lib\\site-packages\\sklearn\\svm\\_base.py:1244: ConvergenceWarning: Liblinear failed to converge, increase the number of iterations.\n",
      "  warnings.warn(\n"
     ]
    },
    {
     "name": "stdout",
     "output_type": "stream",
     "text": [
      "2023-06-07 06:51:00 INFO: POS REMOVAL\n",
      "2023-06-07 06:51:00 INFO: DOCUMENT TRANSFORMER\n",
      "2023-06-07 06:51:00 INFO: POS REMOVAL\n",
      "2023-06-07 06:51:00 INFO: DOCUMENT TRANSFORMER\n"
     ]
    },
    {
     "name": "stderr",
     "output_type": "stream",
     "text": [
      "c:\\Users\\c10nGp4\\anaconda3\\envs\\imbalance-multi-classification\\lib\\site-packages\\sklearn\\svm\\_base.py:1244: ConvergenceWarning: Liblinear failed to converge, increase the number of iterations.\n",
      "  warnings.warn(\n"
     ]
    },
    {
     "name": "stdout",
     "output_type": "stream",
     "text": [
      "2023-06-07 06:51:03 INFO: POS REMOVAL\n",
      "2023-06-07 06:51:03 INFO: DOCUMENT TRANSFORMER\n",
      "2023-06-07 06:51:03 INFO: POS REMOVAL\n",
      "2023-06-07 06:51:04 INFO: DOCUMENT TRANSFORMER\n"
     ]
    },
    {
     "name": "stderr",
     "output_type": "stream",
     "text": [
      "c:\\Users\\c10nGp4\\anaconda3\\envs\\imbalance-multi-classification\\lib\\site-packages\\sklearn\\svm\\_base.py:1244: ConvergenceWarning: Liblinear failed to converge, increase the number of iterations.\n",
      "  warnings.warn(\n"
     ]
    },
    {
     "name": "stdout",
     "output_type": "stream",
     "text": [
      "2023-06-07 06:51:07 INFO: POS REMOVAL\n",
      "2023-06-07 06:51:07 INFO: DOCUMENT TRANSFORMER\n",
      "2023-06-07 06:51:07 INFO: POS REMOVAL\n",
      "2023-06-07 06:51:07 INFO: DOCUMENT TRANSFORMER\n"
     ]
    },
    {
     "name": "stderr",
     "output_type": "stream",
     "text": [
      "c:\\Users\\c10nGp4\\anaconda3\\envs\\imbalance-multi-classification\\lib\\site-packages\\sklearn\\svm\\_base.py:1244: ConvergenceWarning: Liblinear failed to converge, increase the number of iterations.\n",
      "  warnings.warn(\n"
     ]
    },
    {
     "name": "stdout",
     "output_type": "stream",
     "text": [
      "2023-06-07 06:51:10 INFO: POS REMOVAL\n",
      "2023-06-07 06:51:10 INFO: DOCUMENT TRANSFORMER\n",
      "2023-06-07 06:51:10 INFO: POS REMOVAL\n",
      "2023-06-07 06:51:10 INFO: DOCUMENT TRANSFORMER\n"
     ]
    },
    {
     "name": "stderr",
     "output_type": "stream",
     "text": [
      "c:\\Users\\c10nGp4\\anaconda3\\envs\\imbalance-multi-classification\\lib\\site-packages\\sklearn\\svm\\_base.py:1244: ConvergenceWarning: Liblinear failed to converge, increase the number of iterations.\n",
      "  warnings.warn(\n"
     ]
    },
    {
     "name": "stdout",
     "output_type": "stream",
     "text": [
      "2023-06-07 06:51:13 INFO: POS REMOVAL\n",
      "2023-06-07 06:51:13 INFO: DOCUMENT TRANSFORMER\n",
      "2023-06-07 06:51:13 INFO: POS REMOVAL\n",
      "2023-06-07 06:51:13 INFO: DOCUMENT TRANSFORMER\n"
     ]
    },
    {
     "name": "stderr",
     "output_type": "stream",
     "text": [
      "c:\\Users\\c10nGp4\\anaconda3\\envs\\imbalance-multi-classification\\lib\\site-packages\\sklearn\\svm\\_base.py:1244: ConvergenceWarning: Liblinear failed to converge, increase the number of iterations.\n",
      "  warnings.warn(\n"
     ]
    },
    {
     "name": "stdout",
     "output_type": "stream",
     "text": [
      "2023-06-07 06:51:16 INFO: POS REMOVAL\n",
      "2023-06-07 06:51:16 INFO: DOCUMENT TRANSFORMER\n",
      "2023-06-07 06:51:16 INFO: POS REMOVAL\n",
      "2023-06-07 06:51:16 INFO: DOCUMENT TRANSFORMER\n"
     ]
    },
    {
     "name": "stderr",
     "output_type": "stream",
     "text": [
      "c:\\Users\\c10nGp4\\anaconda3\\envs\\imbalance-multi-classification\\lib\\site-packages\\sklearn\\svm\\_base.py:1244: ConvergenceWarning: Liblinear failed to converge, increase the number of iterations.\n",
      "  warnings.warn(\n"
     ]
    },
    {
     "name": "stdout",
     "output_type": "stream",
     "text": [
      "2023-06-07 06:51:19 INFO: POS REMOVAL\n",
      "2023-06-07 06:51:19 INFO: DOCUMENT TRANSFORMER\n",
      "2023-06-07 06:51:20 INFO: POS REMOVAL\n",
      "2023-06-07 06:51:20 INFO: DOCUMENT TRANSFORMER\n"
     ]
    },
    {
     "name": "stderr",
     "output_type": "stream",
     "text": [
      "c:\\Users\\c10nGp4\\anaconda3\\envs\\imbalance-multi-classification\\lib\\site-packages\\sklearn\\svm\\_base.py:1244: ConvergenceWarning: Liblinear failed to converge, increase the number of iterations.\n",
      "  warnings.warn(\n"
     ]
    },
    {
     "name": "stdout",
     "output_type": "stream",
     "text": [
      "2023-06-07 06:51:23 INFO: POS REMOVAL\n",
      "2023-06-07 06:51:23 INFO: DOCUMENT TRANSFORMER\n",
      "2023-06-07 06:51:23 INFO: POS REMOVAL\n",
      "2023-06-07 06:51:23 INFO: DOCUMENT TRANSFORMER\n"
     ]
    },
    {
     "name": "stderr",
     "output_type": "stream",
     "text": [
      "c:\\Users\\c10nGp4\\anaconda3\\envs\\imbalance-multi-classification\\lib\\site-packages\\sklearn\\svm\\_base.py:1244: ConvergenceWarning: Liblinear failed to converge, increase the number of iterations.\n",
      "  warnings.warn(\n"
     ]
    },
    {
     "name": "stdout",
     "output_type": "stream",
     "text": [
      "2023-06-07 06:51:26 INFO: POS REMOVAL\n",
      "2023-06-07 06:51:26 INFO: DOCUMENT TRANSFORMER\n",
      "2023-06-07 06:51:26 INFO: POS REMOVAL\n",
      "2023-06-07 06:51:26 INFO: DOCUMENT TRANSFORMER\n"
     ]
    },
    {
     "name": "stderr",
     "output_type": "stream",
     "text": [
      "c:\\Users\\c10nGp4\\anaconda3\\envs\\imbalance-multi-classification\\lib\\site-packages\\sklearn\\svm\\_base.py:1244: ConvergenceWarning: Liblinear failed to converge, increase the number of iterations.\n",
      "  warnings.warn(\n"
     ]
    },
    {
     "name": "stdout",
     "output_type": "stream",
     "text": [
      "2023-06-07 06:51:30 INFO: POS REMOVAL\n",
      "2023-06-07 06:51:30 INFO: DOCUMENT TRANSFORMER\n",
      "2023-06-07 06:51:30 INFO: POS REMOVAL\n",
      "2023-06-07 06:51:30 INFO: DOCUMENT TRANSFORMER\n"
     ]
    },
    {
     "name": "stderr",
     "output_type": "stream",
     "text": [
      "c:\\Users\\c10nGp4\\anaconda3\\envs\\imbalance-multi-classification\\lib\\site-packages\\sklearn\\svm\\_base.py:1244: ConvergenceWarning: Liblinear failed to converge, increase the number of iterations.\n",
      "  warnings.warn(\n"
     ]
    },
    {
     "name": "stdout",
     "output_type": "stream",
     "text": [
      "2023-06-07 06:51:33 INFO: POS REMOVAL\n",
      "2023-06-07 06:51:33 INFO: DOCUMENT TRANSFORMER\n",
      "2023-06-07 06:51:33 INFO: POS REMOVAL\n",
      "2023-06-07 06:51:33 INFO: DOCUMENT TRANSFORMER\n"
     ]
    },
    {
     "name": "stderr",
     "output_type": "stream",
     "text": [
      "c:\\Users\\c10nGp4\\anaconda3\\envs\\imbalance-multi-classification\\lib\\site-packages\\sklearn\\svm\\_base.py:1244: ConvergenceWarning: Liblinear failed to converge, increase the number of iterations.\n",
      "  warnings.warn(\n"
     ]
    },
    {
     "name": "stdout",
     "output_type": "stream",
     "text": [
      "2023-06-07 06:51:36 INFO: POS REMOVAL\n",
      "2023-06-07 06:51:36 INFO: DOCUMENT TRANSFORMER\n",
      "2023-06-07 06:51:37 INFO: POS REMOVAL\n",
      "2023-06-07 06:51:37 INFO: DOCUMENT TRANSFORMER\n"
     ]
    },
    {
     "name": "stderr",
     "output_type": "stream",
     "text": [
      "c:\\Users\\c10nGp4\\anaconda3\\envs\\imbalance-multi-classification\\lib\\site-packages\\sklearn\\svm\\_base.py:1244: ConvergenceWarning: Liblinear failed to converge, increase the number of iterations.\n",
      "  warnings.warn(\n"
     ]
    },
    {
     "name": "stdout",
     "output_type": "stream",
     "text": [
      "2023-06-07 06:51:40 INFO: POS REMOVAL\n",
      "2023-06-07 06:51:40 INFO: DOCUMENT TRANSFORMER\n",
      "2023-06-07 06:51:40 INFO: POS REMOVAL\n",
      "2023-06-07 06:51:40 INFO: DOCUMENT TRANSFORMER\n"
     ]
    },
    {
     "name": "stderr",
     "output_type": "stream",
     "text": [
      "c:\\Users\\c10nGp4\\anaconda3\\envs\\imbalance-multi-classification\\lib\\site-packages\\sklearn\\svm\\_base.py:1244: ConvergenceWarning: Liblinear failed to converge, increase the number of iterations.\n",
      "  warnings.warn(\n"
     ]
    },
    {
     "name": "stdout",
     "output_type": "stream",
     "text": [
      "2023-06-07 06:51:43 INFO: POS REMOVAL\n",
      "2023-06-07 06:51:43 INFO: DOCUMENT TRANSFORMER\n",
      "2023-06-07 06:51:43 INFO: POS REMOVAL\n",
      "2023-06-07 06:51:43 INFO: DOCUMENT TRANSFORMER\n"
     ]
    },
    {
     "name": "stderr",
     "output_type": "stream",
     "text": [
      "c:\\Users\\c10nGp4\\anaconda3\\envs\\imbalance-multi-classification\\lib\\site-packages\\sklearn\\svm\\_base.py:1244: ConvergenceWarning: Liblinear failed to converge, increase the number of iterations.\n",
      "  warnings.warn(\n"
     ]
    },
    {
     "name": "stdout",
     "output_type": "stream",
     "text": [
      "2023-06-07 06:51:46 INFO: POS REMOVAL\n",
      "2023-06-07 06:51:46 INFO: DOCUMENT TRANSFORMER\n",
      "2023-06-07 06:51:46 INFO: POS REMOVAL\n",
      "2023-06-07 06:51:46 INFO: DOCUMENT TRANSFORMER\n"
     ]
    },
    {
     "name": "stderr",
     "output_type": "stream",
     "text": [
      "c:\\Users\\c10nGp4\\anaconda3\\envs\\imbalance-multi-classification\\lib\\site-packages\\sklearn\\svm\\_base.py:1244: ConvergenceWarning: Liblinear failed to converge, increase the number of iterations.\n",
      "  warnings.warn(\n"
     ]
    },
    {
     "name": "stdout",
     "output_type": "stream",
     "text": [
      "2023-06-07 06:51:50 INFO: POS REMOVAL\n",
      "2023-06-07 06:51:50 INFO: DOCUMENT TRANSFORMER\n",
      "2023-06-07 06:51:50 INFO: POS REMOVAL\n",
      "2023-06-07 06:51:50 INFO: DOCUMENT TRANSFORMER\n"
     ]
    },
    {
     "name": "stderr",
     "output_type": "stream",
     "text": [
      "c:\\Users\\c10nGp4\\anaconda3\\envs\\imbalance-multi-classification\\lib\\site-packages\\sklearn\\svm\\_base.py:1244: ConvergenceWarning: Liblinear failed to converge, increase the number of iterations.\n",
      "  warnings.warn(\n"
     ]
    },
    {
     "name": "stdout",
     "output_type": "stream",
     "text": [
      "2023-06-07 06:51:53 INFO: POS REMOVAL\n",
      "2023-06-07 06:51:53 INFO: DOCUMENT TRANSFORMER\n",
      "2023-06-07 06:51:53 INFO: POS REMOVAL\n",
      "2023-06-07 06:51:53 INFO: DOCUMENT TRANSFORMER\n"
     ]
    },
    {
     "name": "stderr",
     "output_type": "stream",
     "text": [
      "c:\\Users\\c10nGp4\\anaconda3\\envs\\imbalance-multi-classification\\lib\\site-packages\\sklearn\\svm\\_base.py:1244: ConvergenceWarning: Liblinear failed to converge, increase the number of iterations.\n",
      "  warnings.warn(\n"
     ]
    },
    {
     "name": "stdout",
     "output_type": "stream",
     "text": [
      "2023-06-07 06:51:56 INFO: POS REMOVAL\n",
      "2023-06-07 06:51:56 INFO: DOCUMENT TRANSFORMER\n",
      "2023-06-07 06:51:56 INFO: POS REMOVAL\n",
      "2023-06-07 06:51:56 INFO: DOCUMENT TRANSFORMER\n"
     ]
    },
    {
     "name": "stderr",
     "output_type": "stream",
     "text": [
      "c:\\Users\\c10nGp4\\anaconda3\\envs\\imbalance-multi-classification\\lib\\site-packages\\sklearn\\svm\\_base.py:1244: ConvergenceWarning: Liblinear failed to converge, increase the number of iterations.\n",
      "  warnings.warn(\n"
     ]
    },
    {
     "name": "stdout",
     "output_type": "stream",
     "text": [
      "2023-06-07 06:52:00 INFO: POS REMOVAL\n",
      "2023-06-07 06:52:00 INFO: DOCUMENT TRANSFORMER\n",
      "2023-06-07 06:52:00 INFO: POS REMOVAL\n",
      "2023-06-07 06:52:00 INFO: DOCUMENT TRANSFORMER\n"
     ]
    },
    {
     "name": "stderr",
     "output_type": "stream",
     "text": [
      "c:\\Users\\c10nGp4\\anaconda3\\envs\\imbalance-multi-classification\\lib\\site-packages\\sklearn\\svm\\_base.py:1244: ConvergenceWarning: Liblinear failed to converge, increase the number of iterations.\n",
      "  warnings.warn(\n"
     ]
    },
    {
     "name": "stdout",
     "output_type": "stream",
     "text": [
      "2023-06-07 06:52:03 INFO: POS REMOVAL\n",
      "2023-06-07 06:52:03 INFO: DOCUMENT TRANSFORMER\n",
      "2023-06-07 06:52:03 INFO: POS REMOVAL\n",
      "2023-06-07 06:52:03 INFO: DOCUMENT TRANSFORMER\n"
     ]
    },
    {
     "name": "stderr",
     "output_type": "stream",
     "text": [
      "c:\\Users\\c10nGp4\\anaconda3\\envs\\imbalance-multi-classification\\lib\\site-packages\\sklearn\\svm\\_base.py:1244: ConvergenceWarning: Liblinear failed to converge, increase the number of iterations.\n",
      "  warnings.warn(\n"
     ]
    },
    {
     "name": "stdout",
     "output_type": "stream",
     "text": [
      "2023-06-07 06:52:07 INFO: POS REMOVAL\n",
      "2023-06-07 06:52:07 INFO: DOCUMENT TRANSFORMER\n",
      "2023-06-07 06:52:08 INFO: POS REMOVAL\n",
      "2023-06-07 06:52:08 INFO: DOCUMENT TRANSFORMER\n"
     ]
    },
    {
     "name": "stderr",
     "output_type": "stream",
     "text": [
      "c:\\Users\\c10nGp4\\anaconda3\\envs\\imbalance-multi-classification\\lib\\site-packages\\sklearn\\svm\\_base.py:1244: ConvergenceWarning: Liblinear failed to converge, increase the number of iterations.\n",
      "  warnings.warn(\n"
     ]
    },
    {
     "name": "stdout",
     "output_type": "stream",
     "text": [
      "2023-06-07 06:52:12 INFO: POS REMOVAL\n",
      "2023-06-07 06:52:12 INFO: DOCUMENT TRANSFORMER\n",
      "2023-06-07 06:52:12 INFO: POS REMOVAL\n",
      "2023-06-07 06:52:12 INFO: DOCUMENT TRANSFORMER\n"
     ]
    },
    {
     "name": "stderr",
     "output_type": "stream",
     "text": [
      "c:\\Users\\c10nGp4\\anaconda3\\envs\\imbalance-multi-classification\\lib\\site-packages\\sklearn\\svm\\_base.py:1244: ConvergenceWarning: Liblinear failed to converge, increase the number of iterations.\n",
      "  warnings.warn(\n"
     ]
    },
    {
     "name": "stdout",
     "output_type": "stream",
     "text": [
      "2023-06-07 06:52:17 INFO: POS REMOVAL\n",
      "2023-06-07 06:52:17 INFO: DOCUMENT TRANSFORMER\n",
      "2023-06-07 06:52:17 INFO: POS REMOVAL\n",
      "2023-06-07 06:52:17 INFO: DOCUMENT TRANSFORMER\n"
     ]
    },
    {
     "name": "stderr",
     "output_type": "stream",
     "text": [
      "c:\\Users\\c10nGp4\\anaconda3\\envs\\imbalance-multi-classification\\lib\\site-packages\\sklearn\\svm\\_base.py:1244: ConvergenceWarning: Liblinear failed to converge, increase the number of iterations.\n",
      "  warnings.warn(\n"
     ]
    },
    {
     "name": "stdout",
     "output_type": "stream",
     "text": [
      "2023-06-07 06:52:22 INFO: POS REMOVAL\n",
      "2023-06-07 06:52:22 INFO: DOCUMENT TRANSFORMER\n",
      "2023-06-07 06:52:22 INFO: POS REMOVAL\n",
      "2023-06-07 06:52:22 INFO: DOCUMENT TRANSFORMER\n"
     ]
    },
    {
     "name": "stderr",
     "output_type": "stream",
     "text": [
      "c:\\Users\\c10nGp4\\anaconda3\\envs\\imbalance-multi-classification\\lib\\site-packages\\sklearn\\svm\\_base.py:1244: ConvergenceWarning: Liblinear failed to converge, increase the number of iterations.\n",
      "  warnings.warn(\n"
     ]
    },
    {
     "name": "stdout",
     "output_type": "stream",
     "text": [
      "2023-06-07 06:52:27 INFO: POS REMOVAL\n",
      "2023-06-07 06:52:27 INFO: DOCUMENT TRANSFORMER\n",
      "2023-06-07 06:52:27 INFO: POS REMOVAL\n",
      "2023-06-07 06:52:27 INFO: DOCUMENT TRANSFORMER\n"
     ]
    },
    {
     "name": "stderr",
     "output_type": "stream",
     "text": [
      "c:\\Users\\c10nGp4\\anaconda3\\envs\\imbalance-multi-classification\\lib\\site-packages\\sklearn\\svm\\_base.py:1244: ConvergenceWarning: Liblinear failed to converge, increase the number of iterations.\n",
      "  warnings.warn(\n"
     ]
    },
    {
     "name": "stdout",
     "output_type": "stream",
     "text": [
      "2023-06-07 06:52:31 INFO: POS REMOVAL\n",
      "2023-06-07 06:52:31 INFO: DOCUMENT TRANSFORMER\n",
      "2023-06-07 06:52:31 INFO: POS REMOVAL\n",
      "2023-06-07 06:52:31 INFO: DOCUMENT TRANSFORMER\n"
     ]
    },
    {
     "name": "stderr",
     "output_type": "stream",
     "text": [
      "c:\\Users\\c10nGp4\\anaconda3\\envs\\imbalance-multi-classification\\lib\\site-packages\\sklearn\\svm\\_base.py:1244: ConvergenceWarning: Liblinear failed to converge, increase the number of iterations.\n",
      "  warnings.warn(\n"
     ]
    },
    {
     "name": "stdout",
     "output_type": "stream",
     "text": [
      "2023-06-07 06:52:36 INFO: POS REMOVAL\n",
      "2023-06-07 06:52:36 INFO: DOCUMENT TRANSFORMER\n",
      "2023-06-07 06:52:36 INFO: POS REMOVAL\n",
      "2023-06-07 06:52:36 INFO: DOCUMENT TRANSFORMER\n"
     ]
    },
    {
     "name": "stderr",
     "output_type": "stream",
     "text": [
      "c:\\Users\\c10nGp4\\anaconda3\\envs\\imbalance-multi-classification\\lib\\site-packages\\sklearn\\svm\\_base.py:1244: ConvergenceWarning: Liblinear failed to converge, increase the number of iterations.\n",
      "  warnings.warn(\n"
     ]
    },
    {
     "name": "stdout",
     "output_type": "stream",
     "text": [
      "2023-06-07 06:52:41 INFO: POS REMOVAL\n",
      "2023-06-07 06:52:41 INFO: DOCUMENT TRANSFORMER\n",
      "2023-06-07 06:52:41 INFO: POS REMOVAL\n",
      "2023-06-07 06:52:41 INFO: DOCUMENT TRANSFORMER\n"
     ]
    },
    {
     "name": "stderr",
     "output_type": "stream",
     "text": [
      "c:\\Users\\c10nGp4\\anaconda3\\envs\\imbalance-multi-classification\\lib\\site-packages\\sklearn\\svm\\_base.py:1244: ConvergenceWarning: Liblinear failed to converge, increase the number of iterations.\n",
      "  warnings.warn(\n"
     ]
    },
    {
     "name": "stdout",
     "output_type": "stream",
     "text": [
      "2023-06-07 06:52:45 INFO: POS REMOVAL\n",
      "2023-06-07 06:52:45 INFO: DOCUMENT TRANSFORMER\n",
      "2023-06-07 06:52:45 INFO: POS REMOVAL\n",
      "2023-06-07 06:52:45 INFO: DOCUMENT TRANSFORMER\n"
     ]
    },
    {
     "name": "stderr",
     "output_type": "stream",
     "text": [
      "c:\\Users\\c10nGp4\\anaconda3\\envs\\imbalance-multi-classification\\lib\\site-packages\\sklearn\\svm\\_base.py:1244: ConvergenceWarning: Liblinear failed to converge, increase the number of iterations.\n",
      "  warnings.warn(\n"
     ]
    },
    {
     "name": "stdout",
     "output_type": "stream",
     "text": [
      "2023-06-07 06:52:50 INFO: POS REMOVAL\n",
      "2023-06-07 06:52:50 INFO: DOCUMENT TRANSFORMER\n",
      "2023-06-07 06:52:50 INFO: POS REMOVAL\n",
      "2023-06-07 06:52:50 INFO: DOCUMENT TRANSFORMER\n"
     ]
    },
    {
     "name": "stderr",
     "output_type": "stream",
     "text": [
      "c:\\Users\\c10nGp4\\anaconda3\\envs\\imbalance-multi-classification\\lib\\site-packages\\sklearn\\svm\\_base.py:1244: ConvergenceWarning: Liblinear failed to converge, increase the number of iterations.\n",
      "  warnings.warn(\n"
     ]
    },
    {
     "name": "stdout",
     "output_type": "stream",
     "text": [
      "2023-06-07 06:52:55 INFO: POS REMOVAL\n",
      "2023-06-07 06:52:55 INFO: DOCUMENT TRANSFORMER\n",
      "2023-06-07 06:52:55 INFO: POS REMOVAL\n",
      "2023-06-07 06:52:55 INFO: DOCUMENT TRANSFORMER\n"
     ]
    },
    {
     "name": "stderr",
     "output_type": "stream",
     "text": [
      "c:\\Users\\c10nGp4\\anaconda3\\envs\\imbalance-multi-classification\\lib\\site-packages\\sklearn\\svm\\_base.py:1244: ConvergenceWarning: Liblinear failed to converge, increase the number of iterations.\n",
      "  warnings.warn(\n"
     ]
    },
    {
     "name": "stdout",
     "output_type": "stream",
     "text": [
      "2023-06-07 06:52:59 INFO: POS REMOVAL\n",
      "2023-06-07 06:52:59 INFO: DOCUMENT TRANSFORMER\n",
      "2023-06-07 06:52:59 INFO: POS REMOVAL\n",
      "2023-06-07 06:52:59 INFO: DOCUMENT TRANSFORMER\n"
     ]
    },
    {
     "name": "stderr",
     "output_type": "stream",
     "text": [
      "c:\\Users\\c10nGp4\\anaconda3\\envs\\imbalance-multi-classification\\lib\\site-packages\\sklearn\\svm\\_base.py:1244: ConvergenceWarning: Liblinear failed to converge, increase the number of iterations.\n",
      "  warnings.warn(\n"
     ]
    },
    {
     "name": "stdout",
     "output_type": "stream",
     "text": [
      "2023-06-07 06:53:04 INFO: POS REMOVAL\n",
      "2023-06-07 06:53:04 INFO: DOCUMENT TRANSFORMER\n",
      "2023-06-07 06:53:04 INFO: POS REMOVAL\n",
      "2023-06-07 06:53:04 INFO: DOCUMENT TRANSFORMER\n"
     ]
    },
    {
     "name": "stderr",
     "output_type": "stream",
     "text": [
      "c:\\Users\\c10nGp4\\anaconda3\\envs\\imbalance-multi-classification\\lib\\site-packages\\sklearn\\svm\\_base.py:1244: ConvergenceWarning: Liblinear failed to converge, increase the number of iterations.\n",
      "  warnings.warn(\n"
     ]
    },
    {
     "name": "stdout",
     "output_type": "stream",
     "text": [
      "2023-06-07 06:53:08 INFO: POS REMOVAL\n",
      "2023-06-07 06:53:08 INFO: DOCUMENT TRANSFORMER\n",
      "2023-06-07 06:53:08 INFO: POS REMOVAL\n",
      "2023-06-07 06:53:09 INFO: DOCUMENT TRANSFORMER\n"
     ]
    },
    {
     "name": "stderr",
     "output_type": "stream",
     "text": [
      "c:\\Users\\c10nGp4\\anaconda3\\envs\\imbalance-multi-classification\\lib\\site-packages\\sklearn\\svm\\_base.py:1244: ConvergenceWarning: Liblinear failed to converge, increase the number of iterations.\n",
      "  warnings.warn(\n"
     ]
    },
    {
     "name": "stdout",
     "output_type": "stream",
     "text": [
      "2023-06-07 06:53:13 INFO: POS REMOVAL\n",
      "2023-06-07 06:53:13 INFO: DOCUMENT TRANSFORMER\n",
      "2023-06-07 06:53:13 INFO: POS REMOVAL\n",
      "2023-06-07 06:53:13 INFO: DOCUMENT TRANSFORMER\n"
     ]
    },
    {
     "name": "stderr",
     "output_type": "stream",
     "text": [
      "c:\\Users\\c10nGp4\\anaconda3\\envs\\imbalance-multi-classification\\lib\\site-packages\\sklearn\\svm\\_base.py:1244: ConvergenceWarning: Liblinear failed to converge, increase the number of iterations.\n",
      "  warnings.warn(\n"
     ]
    },
    {
     "name": "stdout",
     "output_type": "stream",
     "text": [
      "2023-06-07 06:53:17 INFO: POS REMOVAL\n",
      "2023-06-07 06:53:17 INFO: DOCUMENT TRANSFORMER\n",
      "2023-06-07 06:53:17 INFO: POS REMOVAL\n",
      "2023-06-07 06:53:17 INFO: DOCUMENT TRANSFORMER\n"
     ]
    },
    {
     "name": "stderr",
     "output_type": "stream",
     "text": [
      "c:\\Users\\c10nGp4\\anaconda3\\envs\\imbalance-multi-classification\\lib\\site-packages\\sklearn\\svm\\_base.py:1244: ConvergenceWarning: Liblinear failed to converge, increase the number of iterations.\n",
      "  warnings.warn(\n"
     ]
    },
    {
     "name": "stdout",
     "output_type": "stream",
     "text": [
      "2023-06-07 06:53:22 INFO: POS REMOVAL\n",
      "2023-06-07 06:53:22 INFO: DOCUMENT TRANSFORMER\n",
      "2023-06-07 06:53:22 INFO: POS REMOVAL\n",
      "2023-06-07 06:53:22 INFO: DOCUMENT TRANSFORMER\n"
     ]
    },
    {
     "name": "stderr",
     "output_type": "stream",
     "text": [
      "c:\\Users\\c10nGp4\\anaconda3\\envs\\imbalance-multi-classification\\lib\\site-packages\\sklearn\\svm\\_base.py:1244: ConvergenceWarning: Liblinear failed to converge, increase the number of iterations.\n",
      "  warnings.warn(\n"
     ]
    },
    {
     "name": "stdout",
     "output_type": "stream",
     "text": [
      "2023-06-07 06:53:26 INFO: POS REMOVAL\n",
      "2023-06-07 06:53:26 INFO: DOCUMENT TRANSFORMER\n",
      "2023-06-07 06:53:26 INFO: POS REMOVAL\n",
      "2023-06-07 06:53:26 INFO: DOCUMENT TRANSFORMER\n"
     ]
    },
    {
     "name": "stderr",
     "output_type": "stream",
     "text": [
      "c:\\Users\\c10nGp4\\anaconda3\\envs\\imbalance-multi-classification\\lib\\site-packages\\sklearn\\svm\\_base.py:1244: ConvergenceWarning: Liblinear failed to converge, increase the number of iterations.\n",
      "  warnings.warn(\n"
     ]
    },
    {
     "name": "stdout",
     "output_type": "stream",
     "text": [
      "2023-06-07 06:53:31 INFO: POS REMOVAL\n",
      "2023-06-07 06:53:31 INFO: DOCUMENT TRANSFORMER\n",
      "2023-06-07 06:53:31 INFO: POS REMOVAL\n",
      "2023-06-07 06:53:31 INFO: DOCUMENT TRANSFORMER\n"
     ]
    },
    {
     "name": "stderr",
     "output_type": "stream",
     "text": [
      "c:\\Users\\c10nGp4\\anaconda3\\envs\\imbalance-multi-classification\\lib\\site-packages\\sklearn\\svm\\_base.py:1244: ConvergenceWarning: Liblinear failed to converge, increase the number of iterations.\n",
      "  warnings.warn(\n"
     ]
    },
    {
     "name": "stdout",
     "output_type": "stream",
     "text": [
      "2023-06-07 06:53:35 INFO: POS REMOVAL\n",
      "2023-06-07 06:53:35 INFO: DOCUMENT TRANSFORMER\n",
      "2023-06-07 06:53:36 INFO: POS REMOVAL\n",
      "2023-06-07 06:53:36 INFO: DOCUMENT TRANSFORMER\n"
     ]
    },
    {
     "name": "stderr",
     "output_type": "stream",
     "text": [
      "c:\\Users\\c10nGp4\\anaconda3\\envs\\imbalance-multi-classification\\lib\\site-packages\\sklearn\\svm\\_base.py:1244: ConvergenceWarning: Liblinear failed to converge, increase the number of iterations.\n",
      "  warnings.warn(\n"
     ]
    },
    {
     "name": "stdout",
     "output_type": "stream",
     "text": [
      "2023-06-07 06:53:39 INFO: POS REMOVAL\n",
      "2023-06-07 06:53:39 INFO: DOCUMENT TRANSFORMER\n",
      "2023-06-07 06:53:39 INFO: POS REMOVAL\n",
      "2023-06-07 06:53:39 INFO: DOCUMENT TRANSFORMER\n"
     ]
    },
    {
     "name": "stderr",
     "output_type": "stream",
     "text": [
      "c:\\Users\\c10nGp4\\anaconda3\\envs\\imbalance-multi-classification\\lib\\site-packages\\sklearn\\svm\\_base.py:1244: ConvergenceWarning: Liblinear failed to converge, increase the number of iterations.\n",
      "  warnings.warn(\n"
     ]
    },
    {
     "name": "stdout",
     "output_type": "stream",
     "text": [
      "2023-06-07 06:53:42 INFO: POS REMOVAL\n",
      "2023-06-07 06:53:42 INFO: DOCUMENT TRANSFORMER\n",
      "2023-06-07 06:53:42 INFO: POS REMOVAL\n",
      "2023-06-07 06:53:42 INFO: DOCUMENT TRANSFORMER\n"
     ]
    },
    {
     "name": "stderr",
     "output_type": "stream",
     "text": [
      "c:\\Users\\c10nGp4\\anaconda3\\envs\\imbalance-multi-classification\\lib\\site-packages\\sklearn\\svm\\_base.py:1244: ConvergenceWarning: Liblinear failed to converge, increase the number of iterations.\n",
      "  warnings.warn(\n"
     ]
    },
    {
     "name": "stdout",
     "output_type": "stream",
     "text": [
      "2023-06-07 06:53:46 INFO: POS REMOVAL\n",
      "2023-06-07 06:53:46 INFO: DOCUMENT TRANSFORMER\n",
      "2023-06-07 06:53:46 INFO: POS REMOVAL\n",
      "2023-06-07 06:53:46 INFO: DOCUMENT TRANSFORMER\n"
     ]
    },
    {
     "name": "stderr",
     "output_type": "stream",
     "text": [
      "c:\\Users\\c10nGp4\\anaconda3\\envs\\imbalance-multi-classification\\lib\\site-packages\\sklearn\\svm\\_base.py:1244: ConvergenceWarning: Liblinear failed to converge, increase the number of iterations.\n",
      "  warnings.warn(\n"
     ]
    },
    {
     "name": "stdout",
     "output_type": "stream",
     "text": [
      "2023-06-07 06:53:49 INFO: POS REMOVAL\n",
      "2023-06-07 06:53:49 INFO: DOCUMENT TRANSFORMER\n",
      "2023-06-07 06:53:49 INFO: POS REMOVAL\n",
      "2023-06-07 06:53:49 INFO: DOCUMENT TRANSFORMER\n"
     ]
    },
    {
     "name": "stderr",
     "output_type": "stream",
     "text": [
      "c:\\Users\\c10nGp4\\anaconda3\\envs\\imbalance-multi-classification\\lib\\site-packages\\sklearn\\svm\\_base.py:1244: ConvergenceWarning: Liblinear failed to converge, increase the number of iterations.\n",
      "  warnings.warn(\n"
     ]
    },
    {
     "name": "stdout",
     "output_type": "stream",
     "text": [
      "2023-06-07 06:53:52 INFO: POS REMOVAL\n",
      "2023-06-07 06:53:52 INFO: DOCUMENT TRANSFORMER\n",
      "2023-06-07 06:53:52 INFO: POS REMOVAL\n",
      "2023-06-07 06:53:52 INFO: DOCUMENT TRANSFORMER\n"
     ]
    },
    {
     "name": "stderr",
     "output_type": "stream",
     "text": [
      "c:\\Users\\c10nGp4\\anaconda3\\envs\\imbalance-multi-classification\\lib\\site-packages\\sklearn\\svm\\_base.py:1244: ConvergenceWarning: Liblinear failed to converge, increase the number of iterations.\n",
      "  warnings.warn(\n"
     ]
    },
    {
     "name": "stdout",
     "output_type": "stream",
     "text": [
      "2023-06-07 06:53:55 INFO: POS REMOVAL\n",
      "2023-06-07 06:53:55 INFO: DOCUMENT TRANSFORMER\n",
      "2023-06-07 06:53:55 INFO: POS REMOVAL\n",
      "2023-06-07 06:53:55 INFO: DOCUMENT TRANSFORMER\n"
     ]
    },
    {
     "name": "stderr",
     "output_type": "stream",
     "text": [
      "c:\\Users\\c10nGp4\\anaconda3\\envs\\imbalance-multi-classification\\lib\\site-packages\\sklearn\\svm\\_base.py:1244: ConvergenceWarning: Liblinear failed to converge, increase the number of iterations.\n",
      "  warnings.warn(\n"
     ]
    },
    {
     "name": "stdout",
     "output_type": "stream",
     "text": [
      "2023-06-07 06:53:58 INFO: POS REMOVAL\n",
      "2023-06-07 06:53:58 INFO: DOCUMENT TRANSFORMER\n",
      "2023-06-07 06:53:58 INFO: POS REMOVAL\n",
      "2023-06-07 06:53:58 INFO: DOCUMENT TRANSFORMER\n"
     ]
    },
    {
     "name": "stderr",
     "output_type": "stream",
     "text": [
      "c:\\Users\\c10nGp4\\anaconda3\\envs\\imbalance-multi-classification\\lib\\site-packages\\sklearn\\svm\\_base.py:1244: ConvergenceWarning: Liblinear failed to converge, increase the number of iterations.\n",
      "  warnings.warn(\n"
     ]
    },
    {
     "name": "stdout",
     "output_type": "stream",
     "text": [
      "2023-06-07 06:54:01 INFO: POS REMOVAL\n",
      "2023-06-07 06:54:01 INFO: DOCUMENT TRANSFORMER\n",
      "2023-06-07 06:54:01 INFO: POS REMOVAL\n",
      "2023-06-07 06:54:01 INFO: DOCUMENT TRANSFORMER\n"
     ]
    },
    {
     "name": "stderr",
     "output_type": "stream",
     "text": [
      "c:\\Users\\c10nGp4\\anaconda3\\envs\\imbalance-multi-classification\\lib\\site-packages\\sklearn\\svm\\_base.py:1244: ConvergenceWarning: Liblinear failed to converge, increase the number of iterations.\n",
      "  warnings.warn(\n"
     ]
    },
    {
     "name": "stdout",
     "output_type": "stream",
     "text": [
      "2023-06-07 06:54:04 INFO: POS REMOVAL\n",
      "2023-06-07 06:54:04 INFO: DOCUMENT TRANSFORMER\n",
      "2023-06-07 06:54:04 INFO: POS REMOVAL\n",
      "2023-06-07 06:54:04 INFO: DOCUMENT TRANSFORMER\n"
     ]
    },
    {
     "name": "stderr",
     "output_type": "stream",
     "text": [
      "c:\\Users\\c10nGp4\\anaconda3\\envs\\imbalance-multi-classification\\lib\\site-packages\\sklearn\\svm\\_base.py:1244: ConvergenceWarning: Liblinear failed to converge, increase the number of iterations.\n",
      "  warnings.warn(\n"
     ]
    },
    {
     "name": "stdout",
     "output_type": "stream",
     "text": [
      "2023-06-07 06:54:07 INFO: POS REMOVAL\n",
      "2023-06-07 06:54:07 INFO: DOCUMENT TRANSFORMER\n",
      "2023-06-07 06:54:07 INFO: POS REMOVAL\n",
      "2023-06-07 06:54:07 INFO: DOCUMENT TRANSFORMER\n"
     ]
    },
    {
     "name": "stderr",
     "output_type": "stream",
     "text": [
      "c:\\Users\\c10nGp4\\anaconda3\\envs\\imbalance-multi-classification\\lib\\site-packages\\sklearn\\svm\\_base.py:1244: ConvergenceWarning: Liblinear failed to converge, increase the number of iterations.\n",
      "  warnings.warn(\n"
     ]
    },
    {
     "name": "stdout",
     "output_type": "stream",
     "text": [
      "2023-06-07 06:54:10 INFO: POS REMOVAL\n",
      "2023-06-07 06:54:10 INFO: DOCUMENT TRANSFORMER\n",
      "2023-06-07 06:54:10 INFO: POS REMOVAL\n",
      "2023-06-07 06:54:10 INFO: DOCUMENT TRANSFORMER\n"
     ]
    },
    {
     "name": "stderr",
     "output_type": "stream",
     "text": [
      "c:\\Users\\c10nGp4\\anaconda3\\envs\\imbalance-multi-classification\\lib\\site-packages\\sklearn\\svm\\_base.py:1244: ConvergenceWarning: Liblinear failed to converge, increase the number of iterations.\n",
      "  warnings.warn(\n"
     ]
    },
    {
     "name": "stdout",
     "output_type": "stream",
     "text": [
      "2023-06-07 06:54:13 INFO: POS REMOVAL\n",
      "2023-06-07 06:54:13 INFO: DOCUMENT TRANSFORMER\n",
      "2023-06-07 06:54:13 INFO: POS REMOVAL\n",
      "2023-06-07 06:54:13 INFO: DOCUMENT TRANSFORMER\n"
     ]
    },
    {
     "name": "stderr",
     "output_type": "stream",
     "text": [
      "c:\\Users\\c10nGp4\\anaconda3\\envs\\imbalance-multi-classification\\lib\\site-packages\\sklearn\\svm\\_base.py:1244: ConvergenceWarning: Liblinear failed to converge, increase the number of iterations.\n",
      "  warnings.warn(\n"
     ]
    },
    {
     "name": "stdout",
     "output_type": "stream",
     "text": [
      "2023-06-07 06:54:16 INFO: POS REMOVAL\n",
      "2023-06-07 06:54:16 INFO: DOCUMENT TRANSFORMER\n",
      "2023-06-07 06:54:16 INFO: POS REMOVAL\n",
      "2023-06-07 06:54:16 INFO: DOCUMENT TRANSFORMER\n"
     ]
    },
    {
     "name": "stderr",
     "output_type": "stream",
     "text": [
      "c:\\Users\\c10nGp4\\anaconda3\\envs\\imbalance-multi-classification\\lib\\site-packages\\sklearn\\svm\\_base.py:1244: ConvergenceWarning: Liblinear failed to converge, increase the number of iterations.\n",
      "  warnings.warn(\n"
     ]
    },
    {
     "name": "stdout",
     "output_type": "stream",
     "text": [
      "2023-06-07 06:54:19 INFO: POS REMOVAL\n",
      "2023-06-07 06:54:19 INFO: DOCUMENT TRANSFORMER\n",
      "2023-06-07 06:54:19 INFO: POS REMOVAL\n",
      "2023-06-07 06:54:19 INFO: DOCUMENT TRANSFORMER\n"
     ]
    },
    {
     "name": "stderr",
     "output_type": "stream",
     "text": [
      "c:\\Users\\c10nGp4\\anaconda3\\envs\\imbalance-multi-classification\\lib\\site-packages\\sklearn\\svm\\_base.py:1244: ConvergenceWarning: Liblinear failed to converge, increase the number of iterations.\n",
      "  warnings.warn(\n"
     ]
    },
    {
     "name": "stdout",
     "output_type": "stream",
     "text": [
      "2023-06-07 06:54:22 INFO: POS REMOVAL\n",
      "2023-06-07 06:54:22 INFO: DOCUMENT TRANSFORMER\n",
      "2023-06-07 06:54:22 INFO: POS REMOVAL\n",
      "2023-06-07 06:54:22 INFO: DOCUMENT TRANSFORMER\n"
     ]
    },
    {
     "name": "stderr",
     "output_type": "stream",
     "text": [
      "c:\\Users\\c10nGp4\\anaconda3\\envs\\imbalance-multi-classification\\lib\\site-packages\\sklearn\\svm\\_base.py:1244: ConvergenceWarning: Liblinear failed to converge, increase the number of iterations.\n",
      "  warnings.warn(\n"
     ]
    },
    {
     "name": "stdout",
     "output_type": "stream",
     "text": [
      "2023-06-07 06:54:24 INFO: POS REMOVAL\n",
      "2023-06-07 06:54:24 INFO: DOCUMENT TRANSFORMER\n",
      "2023-06-07 06:54:25 INFO: POS REMOVAL\n",
      "2023-06-07 06:54:25 INFO: DOCUMENT TRANSFORMER\n"
     ]
    },
    {
     "name": "stderr",
     "output_type": "stream",
     "text": [
      "c:\\Users\\c10nGp4\\anaconda3\\envs\\imbalance-multi-classification\\lib\\site-packages\\sklearn\\svm\\_base.py:1244: ConvergenceWarning: Liblinear failed to converge, increase the number of iterations.\n",
      "  warnings.warn(\n"
     ]
    },
    {
     "name": "stdout",
     "output_type": "stream",
     "text": [
      "2023-06-07 06:54:27 INFO: POS REMOVAL\n",
      "2023-06-07 06:54:27 INFO: DOCUMENT TRANSFORMER\n",
      "2023-06-07 06:54:27 INFO: POS REMOVAL\n",
      "2023-06-07 06:54:28 INFO: DOCUMENT TRANSFORMER\n"
     ]
    },
    {
     "name": "stderr",
     "output_type": "stream",
     "text": [
      "c:\\Users\\c10nGp4\\anaconda3\\envs\\imbalance-multi-classification\\lib\\site-packages\\sklearn\\svm\\_base.py:1244: ConvergenceWarning: Liblinear failed to converge, increase the number of iterations.\n",
      "  warnings.warn(\n"
     ]
    },
    {
     "name": "stdout",
     "output_type": "stream",
     "text": [
      "2023-06-07 06:54:30 INFO: POS REMOVAL\n",
      "2023-06-07 06:54:30 INFO: DOCUMENT TRANSFORMER\n",
      "2023-06-07 06:54:30 INFO: POS REMOVAL\n",
      "2023-06-07 06:54:30 INFO: DOCUMENT TRANSFORMER\n"
     ]
    },
    {
     "name": "stderr",
     "output_type": "stream",
     "text": [
      "c:\\Users\\c10nGp4\\anaconda3\\envs\\imbalance-multi-classification\\lib\\site-packages\\sklearn\\svm\\_base.py:1244: ConvergenceWarning: Liblinear failed to converge, increase the number of iterations.\n",
      "  warnings.warn(\n"
     ]
    },
    {
     "name": "stdout",
     "output_type": "stream",
     "text": [
      "2023-06-07 06:54:33 INFO: POS REMOVAL\n",
      "2023-06-07 06:54:33 INFO: DOCUMENT TRANSFORMER\n",
      "2023-06-07 06:54:33 INFO: POS REMOVAL\n",
      "2023-06-07 06:54:33 INFO: DOCUMENT TRANSFORMER\n"
     ]
    },
    {
     "name": "stderr",
     "output_type": "stream",
     "text": [
      "c:\\Users\\c10nGp4\\anaconda3\\envs\\imbalance-multi-classification\\lib\\site-packages\\sklearn\\svm\\_base.py:1244: ConvergenceWarning: Liblinear failed to converge, increase the number of iterations.\n",
      "  warnings.warn(\n"
     ]
    },
    {
     "name": "stdout",
     "output_type": "stream",
     "text": [
      "2023-06-07 06:54:36 INFO: POS REMOVAL\n",
      "2023-06-07 06:54:36 INFO: DOCUMENT TRANSFORMER\n",
      "2023-06-07 06:54:36 INFO: POS REMOVAL\n",
      "2023-06-07 06:54:36 INFO: DOCUMENT TRANSFORMER\n"
     ]
    },
    {
     "name": "stderr",
     "output_type": "stream",
     "text": [
      "c:\\Users\\c10nGp4\\anaconda3\\envs\\imbalance-multi-classification\\lib\\site-packages\\sklearn\\svm\\_base.py:1244: ConvergenceWarning: Liblinear failed to converge, increase the number of iterations.\n",
      "  warnings.warn(\n"
     ]
    },
    {
     "name": "stdout",
     "output_type": "stream",
     "text": [
      "2023-06-07 06:54:40 INFO: POS REMOVAL\n",
      "2023-06-07 06:54:40 INFO: DOCUMENT TRANSFORMER\n",
      "2023-06-07 06:54:40 INFO: POS REMOVAL\n",
      "2023-06-07 06:54:40 INFO: DOCUMENT TRANSFORMER\n"
     ]
    },
    {
     "name": "stderr",
     "output_type": "stream",
     "text": [
      "c:\\Users\\c10nGp4\\anaconda3\\envs\\imbalance-multi-classification\\lib\\site-packages\\sklearn\\svm\\_base.py:1244: ConvergenceWarning: Liblinear failed to converge, increase the number of iterations.\n",
      "  warnings.warn(\n"
     ]
    },
    {
     "name": "stdout",
     "output_type": "stream",
     "text": [
      "2023-06-07 06:54:43 INFO: POS REMOVAL\n",
      "2023-06-07 06:54:43 INFO: DOCUMENT TRANSFORMER\n",
      "2023-06-07 06:54:43 INFO: POS REMOVAL\n",
      "2023-06-07 06:54:43 INFO: DOCUMENT TRANSFORMER\n"
     ]
    },
    {
     "name": "stderr",
     "output_type": "stream",
     "text": [
      "c:\\Users\\c10nGp4\\anaconda3\\envs\\imbalance-multi-classification\\lib\\site-packages\\sklearn\\svm\\_base.py:1244: ConvergenceWarning: Liblinear failed to converge, increase the number of iterations.\n",
      "  warnings.warn(\n"
     ]
    },
    {
     "name": "stdout",
     "output_type": "stream",
     "text": [
      "2023-06-07 06:54:46 INFO: POS REMOVAL\n",
      "2023-06-07 06:54:46 INFO: DOCUMENT TRANSFORMER\n",
      "2023-06-07 06:54:46 INFO: POS REMOVAL\n",
      "2023-06-07 06:54:47 INFO: DOCUMENT TRANSFORMER\n"
     ]
    },
    {
     "name": "stderr",
     "output_type": "stream",
     "text": [
      "c:\\Users\\c10nGp4\\anaconda3\\envs\\imbalance-multi-classification\\lib\\site-packages\\sklearn\\svm\\_base.py:1244: ConvergenceWarning: Liblinear failed to converge, increase the number of iterations.\n",
      "  warnings.warn(\n"
     ]
    },
    {
     "name": "stdout",
     "output_type": "stream",
     "text": [
      "2023-06-07 06:54:50 INFO: POS REMOVAL\n",
      "2023-06-07 06:54:50 INFO: DOCUMENT TRANSFORMER\n",
      "2023-06-07 06:54:50 INFO: POS REMOVAL\n",
      "2023-06-07 06:54:50 INFO: DOCUMENT TRANSFORMER\n"
     ]
    },
    {
     "name": "stderr",
     "output_type": "stream",
     "text": [
      "c:\\Users\\c10nGp4\\anaconda3\\envs\\imbalance-multi-classification\\lib\\site-packages\\sklearn\\svm\\_base.py:1244: ConvergenceWarning: Liblinear failed to converge, increase the number of iterations.\n",
      "  warnings.warn(\n"
     ]
    },
    {
     "name": "stdout",
     "output_type": "stream",
     "text": [
      "2023-06-07 06:54:53 INFO: POS REMOVAL\n",
      "2023-06-07 06:54:53 INFO: DOCUMENT TRANSFORMER\n",
      "2023-06-07 06:54:53 INFO: POS REMOVAL\n",
      "2023-06-07 06:54:53 INFO: DOCUMENT TRANSFORMER\n"
     ]
    },
    {
     "name": "stderr",
     "output_type": "stream",
     "text": [
      "c:\\Users\\c10nGp4\\anaconda3\\envs\\imbalance-multi-classification\\lib\\site-packages\\sklearn\\svm\\_base.py:1244: ConvergenceWarning: Liblinear failed to converge, increase the number of iterations.\n",
      "  warnings.warn(\n"
     ]
    },
    {
     "name": "stdout",
     "output_type": "stream",
     "text": [
      "2023-06-07 06:54:57 INFO: POS REMOVAL\n",
      "2023-06-07 06:54:57 INFO: DOCUMENT TRANSFORMER\n",
      "2023-06-07 06:54:57 INFO: POS REMOVAL\n",
      "2023-06-07 06:54:57 INFO: DOCUMENT TRANSFORMER\n"
     ]
    },
    {
     "name": "stderr",
     "output_type": "stream",
     "text": [
      "c:\\Users\\c10nGp4\\anaconda3\\envs\\imbalance-multi-classification\\lib\\site-packages\\sklearn\\svm\\_base.py:1244: ConvergenceWarning: Liblinear failed to converge, increase the number of iterations.\n",
      "  warnings.warn(\n"
     ]
    },
    {
     "name": "stdout",
     "output_type": "stream",
     "text": [
      "2023-06-07 06:55:00 INFO: POS REMOVAL\n",
      "2023-06-07 06:55:00 INFO: DOCUMENT TRANSFORMER\n",
      "2023-06-07 06:55:00 INFO: POS REMOVAL\n",
      "2023-06-07 06:55:00 INFO: DOCUMENT TRANSFORMER\n"
     ]
    },
    {
     "name": "stderr",
     "output_type": "stream",
     "text": [
      "c:\\Users\\c10nGp4\\anaconda3\\envs\\imbalance-multi-classification\\lib\\site-packages\\sklearn\\svm\\_base.py:1244: ConvergenceWarning: Liblinear failed to converge, increase the number of iterations.\n",
      "  warnings.warn(\n"
     ]
    },
    {
     "name": "stdout",
     "output_type": "stream",
     "text": [
      "2023-06-07 06:55:04 INFO: POS REMOVAL\n",
      "2023-06-07 06:55:04 INFO: DOCUMENT TRANSFORMER\n",
      "2023-06-07 06:55:04 INFO: POS REMOVAL\n",
      "2023-06-07 06:55:04 INFO: DOCUMENT TRANSFORMER\n"
     ]
    },
    {
     "name": "stderr",
     "output_type": "stream",
     "text": [
      "c:\\Users\\c10nGp4\\anaconda3\\envs\\imbalance-multi-classification\\lib\\site-packages\\sklearn\\svm\\_base.py:1244: ConvergenceWarning: Liblinear failed to converge, increase the number of iterations.\n",
      "  warnings.warn(\n"
     ]
    },
    {
     "name": "stdout",
     "output_type": "stream",
     "text": [
      "2023-06-07 06:55:07 INFO: POS REMOVAL\n",
      "2023-06-07 06:55:07 INFO: DOCUMENT TRANSFORMER\n",
      "2023-06-07 06:55:07 INFO: POS REMOVAL\n",
      "2023-06-07 06:55:07 INFO: DOCUMENT TRANSFORMER\n"
     ]
    },
    {
     "name": "stderr",
     "output_type": "stream",
     "text": [
      "c:\\Users\\c10nGp4\\anaconda3\\envs\\imbalance-multi-classification\\lib\\site-packages\\sklearn\\svm\\_base.py:1244: ConvergenceWarning: Liblinear failed to converge, increase the number of iterations.\n",
      "  warnings.warn(\n"
     ]
    },
    {
     "name": "stdout",
     "output_type": "stream",
     "text": [
      "2023-06-07 06:55:11 INFO: POS REMOVAL\n",
      "2023-06-07 06:55:11 INFO: DOCUMENT TRANSFORMER\n",
      "2023-06-07 06:55:11 INFO: POS REMOVAL\n",
      "2023-06-07 06:55:11 INFO: DOCUMENT TRANSFORMER\n"
     ]
    },
    {
     "name": "stderr",
     "output_type": "stream",
     "text": [
      "c:\\Users\\c10nGp4\\anaconda3\\envs\\imbalance-multi-classification\\lib\\site-packages\\sklearn\\svm\\_base.py:1244: ConvergenceWarning: Liblinear failed to converge, increase the number of iterations.\n",
      "  warnings.warn(\n"
     ]
    },
    {
     "name": "stdout",
     "output_type": "stream",
     "text": [
      "2023-06-07 06:55:14 INFO: POS REMOVAL\n",
      "2023-06-07 06:55:14 INFO: DOCUMENT TRANSFORMER\n",
      "2023-06-07 06:55:14 INFO: POS REMOVAL\n",
      "2023-06-07 06:55:14 INFO: DOCUMENT TRANSFORMER\n"
     ]
    },
    {
     "name": "stderr",
     "output_type": "stream",
     "text": [
      "c:\\Users\\c10nGp4\\anaconda3\\envs\\imbalance-multi-classification\\lib\\site-packages\\sklearn\\svm\\_base.py:1244: ConvergenceWarning: Liblinear failed to converge, increase the number of iterations.\n",
      "  warnings.warn(\n"
     ]
    },
    {
     "name": "stdout",
     "output_type": "stream",
     "text": [
      "2023-06-07 06:55:18 INFO: POS REMOVAL\n",
      "2023-06-07 06:55:18 INFO: DOCUMENT TRANSFORMER\n",
      "2023-06-07 06:55:18 INFO: POS REMOVAL\n",
      "2023-06-07 06:55:18 INFO: DOCUMENT TRANSFORMER\n"
     ]
    },
    {
     "name": "stderr",
     "output_type": "stream",
     "text": [
      "c:\\Users\\c10nGp4\\anaconda3\\envs\\imbalance-multi-classification\\lib\\site-packages\\sklearn\\svm\\_base.py:1244: ConvergenceWarning: Liblinear failed to converge, increase the number of iterations.\n",
      "  warnings.warn(\n"
     ]
    },
    {
     "name": "stdout",
     "output_type": "stream",
     "text": [
      "2023-06-07 06:55:22 INFO: POS REMOVAL\n",
      "2023-06-07 06:55:22 INFO: DOCUMENT TRANSFORMER\n",
      "2023-06-07 06:55:22 INFO: POS REMOVAL\n",
      "2023-06-07 06:55:22 INFO: DOCUMENT TRANSFORMER\n"
     ]
    },
    {
     "name": "stderr",
     "output_type": "stream",
     "text": [
      "c:\\Users\\c10nGp4\\anaconda3\\envs\\imbalance-multi-classification\\lib\\site-packages\\sklearn\\svm\\_base.py:1244: ConvergenceWarning: Liblinear failed to converge, increase the number of iterations.\n",
      "  warnings.warn(\n"
     ]
    },
    {
     "name": "stdout",
     "output_type": "stream",
     "text": [
      "2023-06-07 06:55:25 INFO: POS REMOVAL\n",
      "2023-06-07 06:55:25 INFO: DOCUMENT TRANSFORMER\n",
      "2023-06-07 06:55:25 INFO: POS REMOVAL\n",
      "2023-06-07 06:55:25 INFO: DOCUMENT TRANSFORMER\n"
     ]
    },
    {
     "name": "stderr",
     "output_type": "stream",
     "text": [
      "c:\\Users\\c10nGp4\\anaconda3\\envs\\imbalance-multi-classification\\lib\\site-packages\\sklearn\\svm\\_base.py:1244: ConvergenceWarning: Liblinear failed to converge, increase the number of iterations.\n",
      "  warnings.warn(\n"
     ]
    },
    {
     "name": "stdout",
     "output_type": "stream",
     "text": [
      "2023-06-07 06:55:28 INFO: POS REMOVAL\n",
      "2023-06-07 06:55:29 INFO: DOCUMENT TRANSFORMER\n",
      "2023-06-07 06:55:29 INFO: POS REMOVAL\n",
      "2023-06-07 06:55:29 INFO: DOCUMENT TRANSFORMER\n"
     ]
    },
    {
     "name": "stderr",
     "output_type": "stream",
     "text": [
      "c:\\Users\\c10nGp4\\anaconda3\\envs\\imbalance-multi-classification\\lib\\site-packages\\sklearn\\svm\\_base.py:1244: ConvergenceWarning: Liblinear failed to converge, increase the number of iterations.\n",
      "  warnings.warn(\n"
     ]
    },
    {
     "name": "stdout",
     "output_type": "stream",
     "text": [
      "2023-06-07 06:55:32 INFO: POS REMOVAL\n",
      "2023-06-07 06:55:32 INFO: DOCUMENT TRANSFORMER\n",
      "2023-06-07 06:55:32 INFO: POS REMOVAL\n",
      "2023-06-07 06:55:32 INFO: DOCUMENT TRANSFORMER\n"
     ]
    },
    {
     "name": "stderr",
     "output_type": "stream",
     "text": [
      "c:\\Users\\c10nGp4\\anaconda3\\envs\\imbalance-multi-classification\\lib\\site-packages\\sklearn\\svm\\_base.py:1244: ConvergenceWarning: Liblinear failed to converge, increase the number of iterations.\n",
      "  warnings.warn(\n"
     ]
    },
    {
     "name": "stdout",
     "output_type": "stream",
     "text": [
      "2023-06-07 06:55:35 INFO: POS REMOVAL\n",
      "2023-06-07 06:55:35 INFO: DOCUMENT TRANSFORMER\n",
      "2023-06-07 06:55:35 INFO: POS REMOVAL\n",
      "2023-06-07 06:55:36 INFO: DOCUMENT TRANSFORMER\n"
     ]
    },
    {
     "name": "stderr",
     "output_type": "stream",
     "text": [
      "c:\\Users\\c10nGp4\\anaconda3\\envs\\imbalance-multi-classification\\lib\\site-packages\\sklearn\\svm\\_base.py:1244: ConvergenceWarning: Liblinear failed to converge, increase the number of iterations.\n",
      "  warnings.warn(\n"
     ]
    },
    {
     "name": "stdout",
     "output_type": "stream",
     "text": [
      "2023-06-07 06:55:39 INFO: POS REMOVAL\n",
      "2023-06-07 06:55:39 INFO: DOCUMENT TRANSFORMER\n",
      "2023-06-07 06:55:39 INFO: POS REMOVAL\n",
      "2023-06-07 06:55:39 INFO: DOCUMENT TRANSFORMER\n"
     ]
    },
    {
     "name": "stderr",
     "output_type": "stream",
     "text": [
      "c:\\Users\\c10nGp4\\anaconda3\\envs\\imbalance-multi-classification\\lib\\site-packages\\sklearn\\svm\\_base.py:1244: ConvergenceWarning: Liblinear failed to converge, increase the number of iterations.\n",
      "  warnings.warn(\n"
     ]
    },
    {
     "name": "stdout",
     "output_type": "stream",
     "text": [
      "2023-06-07 06:55:42 INFO: POS REMOVAL\n",
      "2023-06-07 06:55:42 INFO: DOCUMENT TRANSFORMER\n",
      "2023-06-07 06:55:43 INFO: POS REMOVAL\n",
      "2023-06-07 06:55:43 INFO: DOCUMENT TRANSFORMER\n"
     ]
    },
    {
     "name": "stderr",
     "output_type": "stream",
     "text": [
      "c:\\Users\\c10nGp4\\anaconda3\\envs\\imbalance-multi-classification\\lib\\site-packages\\sklearn\\svm\\_base.py:1244: ConvergenceWarning: Liblinear failed to converge, increase the number of iterations.\n",
      "  warnings.warn(\n"
     ]
    },
    {
     "name": "stdout",
     "output_type": "stream",
     "text": [
      "2023-06-07 06:55:46 INFO: POS REMOVAL\n",
      "2023-06-07 06:55:46 INFO: DOCUMENT TRANSFORMER\n",
      "2023-06-07 06:55:46 INFO: POS REMOVAL\n",
      "2023-06-07 06:55:46 INFO: DOCUMENT TRANSFORMER\n"
     ]
    },
    {
     "name": "stderr",
     "output_type": "stream",
     "text": [
      "c:\\Users\\c10nGp4\\anaconda3\\envs\\imbalance-multi-classification\\lib\\site-packages\\sklearn\\svm\\_base.py:1244: ConvergenceWarning: Liblinear failed to converge, increase the number of iterations.\n",
      "  warnings.warn(\n"
     ]
    },
    {
     "name": "stdout",
     "output_type": "stream",
     "text": [
      "2023-06-07 06:55:49 INFO: POS REMOVAL\n",
      "2023-06-07 06:55:49 INFO: DOCUMENT TRANSFORMER\n",
      "2023-06-07 06:55:50 INFO: POS REMOVAL\n",
      "2023-06-07 06:55:50 INFO: DOCUMENT TRANSFORMER\n"
     ]
    },
    {
     "name": "stderr",
     "output_type": "stream",
     "text": [
      "c:\\Users\\c10nGp4\\anaconda3\\envs\\imbalance-multi-classification\\lib\\site-packages\\sklearn\\svm\\_base.py:1244: ConvergenceWarning: Liblinear failed to converge, increase the number of iterations.\n",
      "  warnings.warn(\n"
     ]
    },
    {
     "name": "stdout",
     "output_type": "stream",
     "text": [
      "2023-06-07 06:55:53 INFO: POS REMOVAL\n",
      "2023-06-07 06:55:53 INFO: DOCUMENT TRANSFORMER\n",
      "2023-06-07 06:55:53 INFO: POS REMOVAL\n",
      "2023-06-07 06:55:53 INFO: DOCUMENT TRANSFORMER\n"
     ]
    },
    {
     "name": "stderr",
     "output_type": "stream",
     "text": [
      "c:\\Users\\c10nGp4\\anaconda3\\envs\\imbalance-multi-classification\\lib\\site-packages\\sklearn\\svm\\_base.py:1244: ConvergenceWarning: Liblinear failed to converge, increase the number of iterations.\n",
      "  warnings.warn(\n"
     ]
    },
    {
     "name": "stdout",
     "output_type": "stream",
     "text": [
      "2023-06-07 06:55:56 INFO: POS REMOVAL\n",
      "2023-06-07 06:55:56 INFO: DOCUMENT TRANSFORMER\n",
      "2023-06-07 06:55:56 INFO: POS REMOVAL\n",
      "2023-06-07 06:55:56 INFO: DOCUMENT TRANSFORMER\n"
     ]
    },
    {
     "name": "stderr",
     "output_type": "stream",
     "text": [
      "c:\\Users\\c10nGp4\\anaconda3\\envs\\imbalance-multi-classification\\lib\\site-packages\\sklearn\\svm\\_base.py:1244: ConvergenceWarning: Liblinear failed to converge, increase the number of iterations.\n",
      "  warnings.warn(\n"
     ]
    },
    {
     "name": "stdout",
     "output_type": "stream",
     "text": [
      "2023-06-07 06:55:59 INFO: POS REMOVAL\n",
      "2023-06-07 06:55:59 INFO: DOCUMENT TRANSFORMER\n",
      "2023-06-07 06:55:59 INFO: POS REMOVAL\n",
      "2023-06-07 06:56:00 INFO: DOCUMENT TRANSFORMER\n"
     ]
    },
    {
     "name": "stderr",
     "output_type": "stream",
     "text": [
      "c:\\Users\\c10nGp4\\anaconda3\\envs\\imbalance-multi-classification\\lib\\site-packages\\sklearn\\svm\\_base.py:1244: ConvergenceWarning: Liblinear failed to converge, increase the number of iterations.\n",
      "  warnings.warn(\n"
     ]
    },
    {
     "name": "stdout",
     "output_type": "stream",
     "text": [
      "2023-06-07 06:56:03 INFO: POS REMOVAL\n",
      "2023-06-07 06:56:03 INFO: DOCUMENT TRANSFORMER\n",
      "2023-06-07 06:56:03 INFO: POS REMOVAL\n",
      "2023-06-07 06:56:03 INFO: DOCUMENT TRANSFORMER\n"
     ]
    },
    {
     "name": "stderr",
     "output_type": "stream",
     "text": [
      "c:\\Users\\c10nGp4\\anaconda3\\envs\\imbalance-multi-classification\\lib\\site-packages\\sklearn\\svm\\_base.py:1244: ConvergenceWarning: Liblinear failed to converge, increase the number of iterations.\n",
      "  warnings.warn(\n"
     ]
    },
    {
     "name": "stdout",
     "output_type": "stream",
     "text": [
      "2023-06-07 06:56:06 INFO: POS REMOVAL\n",
      "2023-06-07 06:56:06 INFO: DOCUMENT TRANSFORMER\n",
      "2023-06-07 06:56:06 INFO: POS REMOVAL\n",
      "2023-06-07 06:56:06 INFO: DOCUMENT TRANSFORMER\n"
     ]
    },
    {
     "name": "stderr",
     "output_type": "stream",
     "text": [
      "c:\\Users\\c10nGp4\\anaconda3\\envs\\imbalance-multi-classification\\lib\\site-packages\\sklearn\\svm\\_base.py:1244: ConvergenceWarning: Liblinear failed to converge, increase the number of iterations.\n",
      "  warnings.warn(\n"
     ]
    },
    {
     "name": "stdout",
     "output_type": "stream",
     "text": [
      "2023-06-07 06:56:10 INFO: POS REMOVAL\n",
      "2023-06-07 06:56:10 INFO: DOCUMENT TRANSFORMER\n",
      "2023-06-07 06:56:10 INFO: POS REMOVAL\n",
      "2023-06-07 06:56:10 INFO: DOCUMENT TRANSFORMER\n"
     ]
    },
    {
     "name": "stderr",
     "output_type": "stream",
     "text": [
      "c:\\Users\\c10nGp4\\anaconda3\\envs\\imbalance-multi-classification\\lib\\site-packages\\sklearn\\svm\\_base.py:1244: ConvergenceWarning: Liblinear failed to converge, increase the number of iterations.\n",
      "  warnings.warn(\n"
     ]
    },
    {
     "name": "stdout",
     "output_type": "stream",
     "text": [
      "2023-06-07 06:56:13 INFO: POS REMOVAL\n",
      "2023-06-07 06:56:13 INFO: DOCUMENT TRANSFORMER\n",
      "2023-06-07 06:56:13 INFO: POS REMOVAL\n",
      "2023-06-07 06:56:13 INFO: DOCUMENT TRANSFORMER\n"
     ]
    },
    {
     "name": "stderr",
     "output_type": "stream",
     "text": [
      "c:\\Users\\c10nGp4\\anaconda3\\envs\\imbalance-multi-classification\\lib\\site-packages\\sklearn\\svm\\_base.py:1244: ConvergenceWarning: Liblinear failed to converge, increase the number of iterations.\n",
      "  warnings.warn(\n"
     ]
    },
    {
     "name": "stdout",
     "output_type": "stream",
     "text": [
      "2023-06-07 06:56:17 INFO: POS REMOVAL\n",
      "2023-06-07 06:56:17 INFO: DOCUMENT TRANSFORMER\n",
      "2023-06-07 06:56:17 INFO: POS REMOVAL\n",
      "2023-06-07 06:56:17 INFO: DOCUMENT TRANSFORMER\n"
     ]
    },
    {
     "name": "stderr",
     "output_type": "stream",
     "text": [
      "c:\\Users\\c10nGp4\\anaconda3\\envs\\imbalance-multi-classification\\lib\\site-packages\\sklearn\\svm\\_base.py:1244: ConvergenceWarning: Liblinear failed to converge, increase the number of iterations.\n",
      "  warnings.warn(\n"
     ]
    },
    {
     "name": "stdout",
     "output_type": "stream",
     "text": [
      "2023-06-07 06:56:20 INFO: POS REMOVAL\n",
      "2023-06-07 06:56:20 INFO: DOCUMENT TRANSFORMER\n",
      "2023-06-07 06:56:20 INFO: POS REMOVAL\n",
      "2023-06-07 06:56:20 INFO: DOCUMENT TRANSFORMER\n"
     ]
    },
    {
     "name": "stderr",
     "output_type": "stream",
     "text": [
      "c:\\Users\\c10nGp4\\anaconda3\\envs\\imbalance-multi-classification\\lib\\site-packages\\sklearn\\svm\\_base.py:1244: ConvergenceWarning: Liblinear failed to converge, increase the number of iterations.\n",
      "  warnings.warn(\n"
     ]
    },
    {
     "name": "stdout",
     "output_type": "stream",
     "text": [
      "2023-06-07 06:56:23 INFO: POS REMOVAL\n",
      "2023-06-07 06:56:23 INFO: DOCUMENT TRANSFORMER\n",
      "2023-06-07 06:56:23 INFO: POS REMOVAL\n",
      "2023-06-07 06:56:23 INFO: DOCUMENT TRANSFORMER\n"
     ]
    },
    {
     "name": "stderr",
     "output_type": "stream",
     "text": [
      "c:\\Users\\c10nGp4\\anaconda3\\envs\\imbalance-multi-classification\\lib\\site-packages\\sklearn\\svm\\_base.py:1244: ConvergenceWarning: Liblinear failed to converge, increase the number of iterations.\n",
      "  warnings.warn(\n"
     ]
    },
    {
     "name": "stdout",
     "output_type": "stream",
     "text": [
      "2023-06-07 06:56:26 INFO: POS REMOVAL\n",
      "2023-06-07 06:56:27 INFO: DOCUMENT TRANSFORMER\n",
      "2023-06-07 06:56:27 INFO: POS REMOVAL\n",
      "2023-06-07 06:56:27 INFO: DOCUMENT TRANSFORMER\n"
     ]
    },
    {
     "name": "stderr",
     "output_type": "stream",
     "text": [
      "c:\\Users\\c10nGp4\\anaconda3\\envs\\imbalance-multi-classification\\lib\\site-packages\\sklearn\\svm\\_base.py:1244: ConvergenceWarning: Liblinear failed to converge, increase the number of iterations.\n",
      "  warnings.warn(\n"
     ]
    },
    {
     "name": "stdout",
     "output_type": "stream",
     "text": [
      "2023-06-07 06:56:30 INFO: POS REMOVAL\n",
      "2023-06-07 06:56:30 INFO: DOCUMENT TRANSFORMER\n",
      "2023-06-07 06:56:30 INFO: POS REMOVAL\n",
      "2023-06-07 06:56:30 INFO: DOCUMENT TRANSFORMER\n"
     ]
    },
    {
     "name": "stderr",
     "output_type": "stream",
     "text": [
      "c:\\Users\\c10nGp4\\anaconda3\\envs\\imbalance-multi-classification\\lib\\site-packages\\sklearn\\svm\\_base.py:1244: ConvergenceWarning: Liblinear failed to converge, increase the number of iterations.\n",
      "  warnings.warn(\n"
     ]
    },
    {
     "name": "stdout",
     "output_type": "stream",
     "text": [
      "2023-06-07 06:56:33 INFO: POS REMOVAL\n",
      "2023-06-07 06:56:33 INFO: DOCUMENT TRANSFORMER\n",
      "2023-06-07 06:56:33 INFO: POS REMOVAL\n",
      "2023-06-07 06:56:33 INFO: DOCUMENT TRANSFORMER\n"
     ]
    },
    {
     "name": "stderr",
     "output_type": "stream",
     "text": [
      "c:\\Users\\c10nGp4\\anaconda3\\envs\\imbalance-multi-classification\\lib\\site-packages\\sklearn\\svm\\_base.py:1244: ConvergenceWarning: Liblinear failed to converge, increase the number of iterations.\n",
      "  warnings.warn(\n"
     ]
    },
    {
     "name": "stdout",
     "output_type": "stream",
     "text": [
      "2023-06-07 06:56:36 INFO: POS REMOVAL\n",
      "2023-06-07 06:56:36 INFO: DOCUMENT TRANSFORMER\n",
      "2023-06-07 06:56:36 INFO: POS REMOVAL\n",
      "2023-06-07 06:56:37 INFO: DOCUMENT TRANSFORMER\n"
     ]
    },
    {
     "name": "stderr",
     "output_type": "stream",
     "text": [
      "c:\\Users\\c10nGp4\\anaconda3\\envs\\imbalance-multi-classification\\lib\\site-packages\\sklearn\\svm\\_base.py:1244: ConvergenceWarning: Liblinear failed to converge, increase the number of iterations.\n",
      "  warnings.warn(\n"
     ]
    },
    {
     "name": "stdout",
     "output_type": "stream",
     "text": [
      "2023-06-07 06:56:40 INFO: POS REMOVAL\n",
      "2023-06-07 06:56:40 INFO: DOCUMENT TRANSFORMER\n",
      "2023-06-07 06:56:40 INFO: POS REMOVAL\n",
      "2023-06-07 06:56:40 INFO: DOCUMENT TRANSFORMER\n"
     ]
    },
    {
     "name": "stderr",
     "output_type": "stream",
     "text": [
      "c:\\Users\\c10nGp4\\anaconda3\\envs\\imbalance-multi-classification\\lib\\site-packages\\sklearn\\svm\\_base.py:1244: ConvergenceWarning: Liblinear failed to converge, increase the number of iterations.\n",
      "  warnings.warn(\n"
     ]
    },
    {
     "name": "stdout",
     "output_type": "stream",
     "text": [
      "2023-06-07 06:56:43 INFO: POS REMOVAL\n",
      "2023-06-07 06:56:43 INFO: DOCUMENT TRANSFORMER\n",
      "2023-06-07 06:56:43 INFO: POS REMOVAL\n",
      "2023-06-07 06:56:43 INFO: DOCUMENT TRANSFORMER\n"
     ]
    },
    {
     "name": "stderr",
     "output_type": "stream",
     "text": [
      "c:\\Users\\c10nGp4\\anaconda3\\envs\\imbalance-multi-classification\\lib\\site-packages\\sklearn\\svm\\_base.py:1244: ConvergenceWarning: Liblinear failed to converge, increase the number of iterations.\n",
      "  warnings.warn(\n"
     ]
    },
    {
     "name": "stdout",
     "output_type": "stream",
     "text": [
      "2023-06-07 06:56:46 INFO: POS REMOVAL\n",
      "2023-06-07 06:56:46 INFO: DOCUMENT TRANSFORMER\n",
      "2023-06-07 06:56:46 INFO: POS REMOVAL\n",
      "2023-06-07 06:56:46 INFO: DOCUMENT TRANSFORMER\n"
     ]
    },
    {
     "name": "stderr",
     "output_type": "stream",
     "text": [
      "c:\\Users\\c10nGp4\\anaconda3\\envs\\imbalance-multi-classification\\lib\\site-packages\\sklearn\\svm\\_base.py:1244: ConvergenceWarning: Liblinear failed to converge, increase the number of iterations.\n",
      "  warnings.warn(\n"
     ]
    },
    {
     "name": "stdout",
     "output_type": "stream",
     "text": [
      "2023-06-07 06:56:50 INFO: POS REMOVAL\n",
      "2023-06-07 06:56:50 INFO: DOCUMENT TRANSFORMER\n",
      "2023-06-07 06:56:50 INFO: POS REMOVAL\n",
      "2023-06-07 06:56:50 INFO: DOCUMENT TRANSFORMER\n"
     ]
    },
    {
     "name": "stderr",
     "output_type": "stream",
     "text": [
      "c:\\Users\\c10nGp4\\anaconda3\\envs\\imbalance-multi-classification\\lib\\site-packages\\sklearn\\svm\\_base.py:1244: ConvergenceWarning: Liblinear failed to converge, increase the number of iterations.\n",
      "  warnings.warn(\n"
     ]
    },
    {
     "name": "stdout",
     "output_type": "stream",
     "text": [
      "2023-06-07 06:56:53 INFO: POS REMOVAL\n",
      "2023-06-07 06:56:53 INFO: DOCUMENT TRANSFORMER\n",
      "2023-06-07 06:56:53 INFO: POS REMOVAL\n",
      "2023-06-07 06:56:53 INFO: DOCUMENT TRANSFORMER\n"
     ]
    },
    {
     "name": "stderr",
     "output_type": "stream",
     "text": [
      "c:\\Users\\c10nGp4\\anaconda3\\envs\\imbalance-multi-classification\\lib\\site-packages\\sklearn\\svm\\_base.py:1244: ConvergenceWarning: Liblinear failed to converge, increase the number of iterations.\n",
      "  warnings.warn(\n"
     ]
    },
    {
     "name": "stdout",
     "output_type": "stream",
     "text": [
      "2023-06-07 06:56:58 INFO: POS REMOVAL\n",
      "2023-06-07 06:56:58 INFO: DOCUMENT TRANSFORMER\n",
      "2023-06-07 06:56:58 INFO: POS REMOVAL\n",
      "2023-06-07 06:56:58 INFO: DOCUMENT TRANSFORMER\n"
     ]
    },
    {
     "name": "stderr",
     "output_type": "stream",
     "text": [
      "c:\\Users\\c10nGp4\\anaconda3\\envs\\imbalance-multi-classification\\lib\\site-packages\\sklearn\\svm\\_base.py:1244: ConvergenceWarning: Liblinear failed to converge, increase the number of iterations.\n",
      "  warnings.warn(\n"
     ]
    },
    {
     "name": "stdout",
     "output_type": "stream",
     "text": [
      "2023-06-07 06:57:03 INFO: POS REMOVAL\n",
      "2023-06-07 06:57:03 INFO: DOCUMENT TRANSFORMER\n",
      "2023-06-07 06:57:03 INFO: POS REMOVAL\n",
      "2023-06-07 06:57:03 INFO: DOCUMENT TRANSFORMER\n"
     ]
    },
    {
     "name": "stderr",
     "output_type": "stream",
     "text": [
      "c:\\Users\\c10nGp4\\anaconda3\\envs\\imbalance-multi-classification\\lib\\site-packages\\sklearn\\svm\\_base.py:1244: ConvergenceWarning: Liblinear failed to converge, increase the number of iterations.\n",
      "  warnings.warn(\n"
     ]
    },
    {
     "name": "stdout",
     "output_type": "stream",
     "text": [
      "2023-06-07 06:57:07 INFO: POS REMOVAL\n",
      "2023-06-07 06:57:07 INFO: DOCUMENT TRANSFORMER\n",
      "2023-06-07 06:57:07 INFO: POS REMOVAL\n",
      "2023-06-07 06:57:07 INFO: DOCUMENT TRANSFORMER\n"
     ]
    },
    {
     "name": "stderr",
     "output_type": "stream",
     "text": [
      "c:\\Users\\c10nGp4\\anaconda3\\envs\\imbalance-multi-classification\\lib\\site-packages\\sklearn\\svm\\_base.py:1244: ConvergenceWarning: Liblinear failed to converge, increase the number of iterations.\n",
      "  warnings.warn(\n"
     ]
    },
    {
     "name": "stdout",
     "output_type": "stream",
     "text": [
      "2023-06-07 06:57:12 INFO: POS REMOVAL\n",
      "2023-06-07 06:57:12 INFO: DOCUMENT TRANSFORMER\n",
      "2023-06-07 06:57:12 INFO: POS REMOVAL\n",
      "2023-06-07 06:57:12 INFO: DOCUMENT TRANSFORMER\n"
     ]
    },
    {
     "name": "stderr",
     "output_type": "stream",
     "text": [
      "c:\\Users\\c10nGp4\\anaconda3\\envs\\imbalance-multi-classification\\lib\\site-packages\\sklearn\\svm\\_base.py:1244: ConvergenceWarning: Liblinear failed to converge, increase the number of iterations.\n",
      "  warnings.warn(\n"
     ]
    },
    {
     "name": "stdout",
     "output_type": "stream",
     "text": [
      "2023-06-07 06:57:16 INFO: POS REMOVAL\n",
      "2023-06-07 06:57:16 INFO: DOCUMENT TRANSFORMER\n",
      "2023-06-07 06:57:16 INFO: POS REMOVAL\n",
      "2023-06-07 06:57:16 INFO: DOCUMENT TRANSFORMER\n"
     ]
    },
    {
     "name": "stderr",
     "output_type": "stream",
     "text": [
      "c:\\Users\\c10nGp4\\anaconda3\\envs\\imbalance-multi-classification\\lib\\site-packages\\sklearn\\svm\\_base.py:1244: ConvergenceWarning: Liblinear failed to converge, increase the number of iterations.\n",
      "  warnings.warn(\n"
     ]
    },
    {
     "name": "stdout",
     "output_type": "stream",
     "text": [
      "2023-06-07 06:57:21 INFO: POS REMOVAL\n",
      "2023-06-07 06:57:21 INFO: DOCUMENT TRANSFORMER\n",
      "2023-06-07 06:57:21 INFO: POS REMOVAL\n",
      "2023-06-07 06:57:21 INFO: DOCUMENT TRANSFORMER\n"
     ]
    },
    {
     "name": "stderr",
     "output_type": "stream",
     "text": [
      "c:\\Users\\c10nGp4\\anaconda3\\envs\\imbalance-multi-classification\\lib\\site-packages\\sklearn\\svm\\_base.py:1244: ConvergenceWarning: Liblinear failed to converge, increase the number of iterations.\n",
      "  warnings.warn(\n"
     ]
    },
    {
     "name": "stdout",
     "output_type": "stream",
     "text": [
      "2023-06-07 06:57:25 INFO: POS REMOVAL\n",
      "2023-06-07 06:57:25 INFO: DOCUMENT TRANSFORMER\n",
      "2023-06-07 06:57:26 INFO: POS REMOVAL\n",
      "2023-06-07 06:57:26 INFO: DOCUMENT TRANSFORMER\n"
     ]
    },
    {
     "name": "stderr",
     "output_type": "stream",
     "text": [
      "c:\\Users\\c10nGp4\\anaconda3\\envs\\imbalance-multi-classification\\lib\\site-packages\\sklearn\\svm\\_base.py:1244: ConvergenceWarning: Liblinear failed to converge, increase the number of iterations.\n",
      "  warnings.warn(\n"
     ]
    },
    {
     "name": "stdout",
     "output_type": "stream",
     "text": [
      "2023-06-07 06:57:30 INFO: POS REMOVAL\n",
      "2023-06-07 06:57:30 INFO: DOCUMENT TRANSFORMER\n",
      "2023-06-07 06:57:30 INFO: POS REMOVAL\n",
      "2023-06-07 06:57:30 INFO: DOCUMENT TRANSFORMER\n"
     ]
    },
    {
     "name": "stderr",
     "output_type": "stream",
     "text": [
      "c:\\Users\\c10nGp4\\anaconda3\\envs\\imbalance-multi-classification\\lib\\site-packages\\sklearn\\svm\\_base.py:1244: ConvergenceWarning: Liblinear failed to converge, increase the number of iterations.\n",
      "  warnings.warn(\n"
     ]
    },
    {
     "name": "stdout",
     "output_type": "stream",
     "text": [
      "2023-06-07 06:57:35 INFO: POS REMOVAL\n",
      "2023-06-07 06:57:35 INFO: DOCUMENT TRANSFORMER\n",
      "2023-06-07 06:57:35 INFO: POS REMOVAL\n",
      "2023-06-07 06:57:35 INFO: DOCUMENT TRANSFORMER\n"
     ]
    },
    {
     "name": "stderr",
     "output_type": "stream",
     "text": [
      "c:\\Users\\c10nGp4\\anaconda3\\envs\\imbalance-multi-classification\\lib\\site-packages\\sklearn\\svm\\_base.py:1244: ConvergenceWarning: Liblinear failed to converge, increase the number of iterations.\n",
      "  warnings.warn(\n"
     ]
    },
    {
     "name": "stdout",
     "output_type": "stream",
     "text": [
      "2023-06-07 06:57:39 INFO: POS REMOVAL\n",
      "2023-06-07 06:57:39 INFO: DOCUMENT TRANSFORMER\n",
      "2023-06-07 06:57:39 INFO: POS REMOVAL\n",
      "2023-06-07 06:57:39 INFO: DOCUMENT TRANSFORMER\n"
     ]
    },
    {
     "name": "stderr",
     "output_type": "stream",
     "text": [
      "c:\\Users\\c10nGp4\\anaconda3\\envs\\imbalance-multi-classification\\lib\\site-packages\\sklearn\\svm\\_base.py:1244: ConvergenceWarning: Liblinear failed to converge, increase the number of iterations.\n",
      "  warnings.warn(\n"
     ]
    },
    {
     "name": "stdout",
     "output_type": "stream",
     "text": [
      "2023-06-07 06:57:44 INFO: POS REMOVAL\n",
      "2023-06-07 06:57:44 INFO: DOCUMENT TRANSFORMER\n",
      "2023-06-07 06:57:44 INFO: POS REMOVAL\n",
      "2023-06-07 06:57:44 INFO: DOCUMENT TRANSFORMER\n"
     ]
    },
    {
     "name": "stderr",
     "output_type": "stream",
     "text": [
      "c:\\Users\\c10nGp4\\anaconda3\\envs\\imbalance-multi-classification\\lib\\site-packages\\sklearn\\svm\\_base.py:1244: ConvergenceWarning: Liblinear failed to converge, increase the number of iterations.\n",
      "  warnings.warn(\n"
     ]
    },
    {
     "name": "stdout",
     "output_type": "stream",
     "text": [
      "2023-06-07 06:57:48 INFO: POS REMOVAL\n",
      "2023-06-07 06:57:48 INFO: DOCUMENT TRANSFORMER\n",
      "2023-06-07 06:57:48 INFO: POS REMOVAL\n",
      "2023-06-07 06:57:48 INFO: DOCUMENT TRANSFORMER\n"
     ]
    },
    {
     "name": "stderr",
     "output_type": "stream",
     "text": [
      "c:\\Users\\c10nGp4\\anaconda3\\envs\\imbalance-multi-classification\\lib\\site-packages\\sklearn\\svm\\_base.py:1244: ConvergenceWarning: Liblinear failed to converge, increase the number of iterations.\n",
      "  warnings.warn(\n"
     ]
    },
    {
     "name": "stdout",
     "output_type": "stream",
     "text": [
      "2023-06-07 06:57:53 INFO: POS REMOVAL\n",
      "2023-06-07 06:57:53 INFO: DOCUMENT TRANSFORMER\n",
      "2023-06-07 06:57:53 INFO: POS REMOVAL\n",
      "2023-06-07 06:57:53 INFO: DOCUMENT TRANSFORMER\n"
     ]
    },
    {
     "name": "stderr",
     "output_type": "stream",
     "text": [
      "c:\\Users\\c10nGp4\\anaconda3\\envs\\imbalance-multi-classification\\lib\\site-packages\\sklearn\\svm\\_base.py:1244: ConvergenceWarning: Liblinear failed to converge, increase the number of iterations.\n",
      "  warnings.warn(\n"
     ]
    },
    {
     "name": "stdout",
     "output_type": "stream",
     "text": [
      "2023-06-07 06:57:57 INFO: POS REMOVAL\n",
      "2023-06-07 06:57:57 INFO: DOCUMENT TRANSFORMER\n",
      "2023-06-07 06:57:58 INFO: POS REMOVAL\n",
      "2023-06-07 06:57:58 INFO: DOCUMENT TRANSFORMER\n"
     ]
    },
    {
     "name": "stderr",
     "output_type": "stream",
     "text": [
      "c:\\Users\\c10nGp4\\anaconda3\\envs\\imbalance-multi-classification\\lib\\site-packages\\sklearn\\svm\\_base.py:1244: ConvergenceWarning: Liblinear failed to converge, increase the number of iterations.\n",
      "  warnings.warn(\n"
     ]
    },
    {
     "name": "stdout",
     "output_type": "stream",
     "text": [
      "2023-06-07 06:58:02 INFO: POS REMOVAL\n",
      "2023-06-07 06:58:02 INFO: DOCUMENT TRANSFORMER\n",
      "2023-06-07 06:58:02 INFO: POS REMOVAL\n",
      "2023-06-07 06:58:02 INFO: DOCUMENT TRANSFORMER\n"
     ]
    },
    {
     "name": "stderr",
     "output_type": "stream",
     "text": [
      "c:\\Users\\c10nGp4\\anaconda3\\envs\\imbalance-multi-classification\\lib\\site-packages\\sklearn\\svm\\_base.py:1244: ConvergenceWarning: Liblinear failed to converge, increase the number of iterations.\n",
      "  warnings.warn(\n"
     ]
    },
    {
     "name": "stdout",
     "output_type": "stream",
     "text": [
      "2023-06-07 06:58:06 INFO: POS REMOVAL\n",
      "2023-06-07 06:58:06 INFO: DOCUMENT TRANSFORMER\n",
      "2023-06-07 06:58:06 INFO: POS REMOVAL\n",
      "2023-06-07 06:58:07 INFO: DOCUMENT TRANSFORMER\n"
     ]
    },
    {
     "name": "stderr",
     "output_type": "stream",
     "text": [
      "c:\\Users\\c10nGp4\\anaconda3\\envs\\imbalance-multi-classification\\lib\\site-packages\\sklearn\\svm\\_base.py:1244: ConvergenceWarning: Liblinear failed to converge, increase the number of iterations.\n",
      "  warnings.warn(\n"
     ]
    },
    {
     "name": "stdout",
     "output_type": "stream",
     "text": [
      "2023-06-07 06:58:11 INFO: POS REMOVAL\n",
      "2023-06-07 06:58:11 INFO: DOCUMENT TRANSFORMER\n",
      "2023-06-07 06:58:11 INFO: POS REMOVAL\n",
      "2023-06-07 06:58:11 INFO: DOCUMENT TRANSFORMER\n"
     ]
    },
    {
     "name": "stderr",
     "output_type": "stream",
     "text": [
      "c:\\Users\\c10nGp4\\anaconda3\\envs\\imbalance-multi-classification\\lib\\site-packages\\sklearn\\svm\\_base.py:1244: ConvergenceWarning: Liblinear failed to converge, increase the number of iterations.\n",
      "  warnings.warn(\n"
     ]
    },
    {
     "name": "stdout",
     "output_type": "stream",
     "text": [
      "2023-06-07 06:58:15 INFO: POS REMOVAL\n",
      "2023-06-07 06:58:15 INFO: DOCUMENT TRANSFORMER\n",
      "2023-06-07 06:58:15 INFO: POS REMOVAL\n",
      "2023-06-07 06:58:16 INFO: DOCUMENT TRANSFORMER\n"
     ]
    },
    {
     "name": "stderr",
     "output_type": "stream",
     "text": [
      "c:\\Users\\c10nGp4\\anaconda3\\envs\\imbalance-multi-classification\\lib\\site-packages\\sklearn\\svm\\_base.py:1244: ConvergenceWarning: Liblinear failed to converge, increase the number of iterations.\n",
      "  warnings.warn(\n"
     ]
    },
    {
     "name": "stdout",
     "output_type": "stream",
     "text": [
      "2023-06-07 06:58:20 INFO: POS REMOVAL\n",
      "2023-06-07 06:58:20 INFO: DOCUMENT TRANSFORMER\n",
      "2023-06-07 06:58:20 INFO: POS REMOVAL\n",
      "2023-06-07 06:58:20 INFO: DOCUMENT TRANSFORMER\n"
     ]
    },
    {
     "name": "stderr",
     "output_type": "stream",
     "text": [
      "c:\\Users\\c10nGp4\\anaconda3\\envs\\imbalance-multi-classification\\lib\\site-packages\\sklearn\\svm\\_base.py:1244: ConvergenceWarning: Liblinear failed to converge, increase the number of iterations.\n",
      "  warnings.warn(\n"
     ]
    },
    {
     "name": "stdout",
     "output_type": "stream",
     "text": [
      "2023-06-07 06:58:24 INFO: POS REMOVAL\n",
      "2023-06-07 06:58:24 INFO: DOCUMENT TRANSFORMER\n",
      "2023-06-07 06:58:25 INFO: POS REMOVAL\n",
      "2023-06-07 06:58:25 INFO: DOCUMENT TRANSFORMER\n"
     ]
    },
    {
     "name": "stderr",
     "output_type": "stream",
     "text": [
      "c:\\Users\\c10nGp4\\anaconda3\\envs\\imbalance-multi-classification\\lib\\site-packages\\sklearn\\svm\\_base.py:1244: ConvergenceWarning: Liblinear failed to converge, increase the number of iterations.\n",
      "  warnings.warn(\n"
     ]
    },
    {
     "name": "stdout",
     "output_type": "stream",
     "text": [
      "2023-06-07 06:58:27 INFO: POS REMOVAL\n",
      "2023-06-07 06:58:27 INFO: DOCUMENT TRANSFORMER\n",
      "2023-06-07 06:58:28 INFO: POS REMOVAL\n",
      "2023-06-07 06:58:28 INFO: DOCUMENT TRANSFORMER\n"
     ]
    },
    {
     "name": "stderr",
     "output_type": "stream",
     "text": [
      "c:\\Users\\c10nGp4\\anaconda3\\envs\\imbalance-multi-classification\\lib\\site-packages\\sklearn\\svm\\_base.py:1244: ConvergenceWarning: Liblinear failed to converge, increase the number of iterations.\n",
      "  warnings.warn(\n"
     ]
    },
    {
     "name": "stdout",
     "output_type": "stream",
     "text": [
      "2023-06-07 06:58:30 INFO: POS REMOVAL\n",
      "2023-06-07 06:58:30 INFO: DOCUMENT TRANSFORMER\n",
      "2023-06-07 06:58:31 INFO: POS REMOVAL\n",
      "2023-06-07 06:58:31 INFO: DOCUMENT TRANSFORMER\n"
     ]
    },
    {
     "name": "stderr",
     "output_type": "stream",
     "text": [
      "c:\\Users\\c10nGp4\\anaconda3\\envs\\imbalance-multi-classification\\lib\\site-packages\\sklearn\\svm\\_base.py:1244: ConvergenceWarning: Liblinear failed to converge, increase the number of iterations.\n",
      "  warnings.warn(\n"
     ]
    },
    {
     "name": "stdout",
     "output_type": "stream",
     "text": [
      "2023-06-07 06:58:34 INFO: POS REMOVAL\n",
      "2023-06-07 06:58:34 INFO: DOCUMENT TRANSFORMER\n",
      "2023-06-07 06:58:34 INFO: POS REMOVAL\n",
      "2023-06-07 06:58:34 INFO: DOCUMENT TRANSFORMER\n"
     ]
    },
    {
     "name": "stderr",
     "output_type": "stream",
     "text": [
      "c:\\Users\\c10nGp4\\anaconda3\\envs\\imbalance-multi-classification\\lib\\site-packages\\sklearn\\svm\\_base.py:1244: ConvergenceWarning: Liblinear failed to converge, increase the number of iterations.\n",
      "  warnings.warn(\n"
     ]
    },
    {
     "name": "stdout",
     "output_type": "stream",
     "text": [
      "2023-06-07 06:58:37 INFO: POS REMOVAL\n",
      "2023-06-07 06:58:37 INFO: DOCUMENT TRANSFORMER\n",
      "2023-06-07 06:58:37 INFO: POS REMOVAL\n",
      "2023-06-07 06:58:37 INFO: DOCUMENT TRANSFORMER\n"
     ]
    },
    {
     "name": "stderr",
     "output_type": "stream",
     "text": [
      "c:\\Users\\c10nGp4\\anaconda3\\envs\\imbalance-multi-classification\\lib\\site-packages\\sklearn\\svm\\_base.py:1244: ConvergenceWarning: Liblinear failed to converge, increase the number of iterations.\n",
      "  warnings.warn(\n"
     ]
    },
    {
     "name": "stdout",
     "output_type": "stream",
     "text": [
      "2023-06-07 06:58:40 INFO: POS REMOVAL\n",
      "2023-06-07 06:58:40 INFO: DOCUMENT TRANSFORMER\n",
      "2023-06-07 06:58:40 INFO: POS REMOVAL\n",
      "2023-06-07 06:58:40 INFO: DOCUMENT TRANSFORMER\n"
     ]
    },
    {
     "name": "stderr",
     "output_type": "stream",
     "text": [
      "c:\\Users\\c10nGp4\\anaconda3\\envs\\imbalance-multi-classification\\lib\\site-packages\\sklearn\\svm\\_base.py:1244: ConvergenceWarning: Liblinear failed to converge, increase the number of iterations.\n",
      "  warnings.warn(\n"
     ]
    },
    {
     "name": "stdout",
     "output_type": "stream",
     "text": [
      "2023-06-07 06:58:43 INFO: POS REMOVAL\n",
      "2023-06-07 06:58:43 INFO: DOCUMENT TRANSFORMER\n",
      "2023-06-07 06:58:43 INFO: POS REMOVAL\n",
      "2023-06-07 06:58:43 INFO: DOCUMENT TRANSFORMER\n"
     ]
    },
    {
     "name": "stderr",
     "output_type": "stream",
     "text": [
      "c:\\Users\\c10nGp4\\anaconda3\\envs\\imbalance-multi-classification\\lib\\site-packages\\sklearn\\svm\\_base.py:1244: ConvergenceWarning: Liblinear failed to converge, increase the number of iterations.\n",
      "  warnings.warn(\n"
     ]
    },
    {
     "name": "stdout",
     "output_type": "stream",
     "text": [
      "2023-06-07 06:58:46 INFO: POS REMOVAL\n",
      "2023-06-07 06:58:46 INFO: DOCUMENT TRANSFORMER\n",
      "2023-06-07 06:58:46 INFO: POS REMOVAL\n",
      "2023-06-07 06:58:46 INFO: DOCUMENT TRANSFORMER\n"
     ]
    },
    {
     "name": "stderr",
     "output_type": "stream",
     "text": [
      "c:\\Users\\c10nGp4\\anaconda3\\envs\\imbalance-multi-classification\\lib\\site-packages\\sklearn\\svm\\_base.py:1244: ConvergenceWarning: Liblinear failed to converge, increase the number of iterations.\n",
      "  warnings.warn(\n"
     ]
    },
    {
     "name": "stdout",
     "output_type": "stream",
     "text": [
      "2023-06-07 06:58:49 INFO: POS REMOVAL\n",
      "2023-06-07 06:58:49 INFO: DOCUMENT TRANSFORMER\n",
      "2023-06-07 06:58:49 INFO: POS REMOVAL\n",
      "2023-06-07 06:58:49 INFO: DOCUMENT TRANSFORMER\n"
     ]
    },
    {
     "name": "stderr",
     "output_type": "stream",
     "text": [
      "c:\\Users\\c10nGp4\\anaconda3\\envs\\imbalance-multi-classification\\lib\\site-packages\\sklearn\\svm\\_base.py:1244: ConvergenceWarning: Liblinear failed to converge, increase the number of iterations.\n",
      "  warnings.warn(\n"
     ]
    },
    {
     "name": "stdout",
     "output_type": "stream",
     "text": [
      "2023-06-07 06:58:52 INFO: POS REMOVAL\n",
      "2023-06-07 06:58:52 INFO: DOCUMENT TRANSFORMER\n",
      "2023-06-07 06:58:52 INFO: POS REMOVAL\n",
      "2023-06-07 06:58:52 INFO: DOCUMENT TRANSFORMER\n"
     ]
    },
    {
     "name": "stderr",
     "output_type": "stream",
     "text": [
      "c:\\Users\\c10nGp4\\anaconda3\\envs\\imbalance-multi-classification\\lib\\site-packages\\sklearn\\svm\\_base.py:1244: ConvergenceWarning: Liblinear failed to converge, increase the number of iterations.\n",
      "  warnings.warn(\n"
     ]
    },
    {
     "name": "stdout",
     "output_type": "stream",
     "text": [
      "2023-06-07 06:58:55 INFO: POS REMOVAL\n",
      "2023-06-07 06:58:55 INFO: DOCUMENT TRANSFORMER\n",
      "2023-06-07 06:58:55 INFO: POS REMOVAL\n",
      "2023-06-07 06:58:55 INFO: DOCUMENT TRANSFORMER\n"
     ]
    },
    {
     "name": "stderr",
     "output_type": "stream",
     "text": [
      "c:\\Users\\c10nGp4\\anaconda3\\envs\\imbalance-multi-classification\\lib\\site-packages\\sklearn\\svm\\_base.py:1244: ConvergenceWarning: Liblinear failed to converge, increase the number of iterations.\n",
      "  warnings.warn(\n"
     ]
    },
    {
     "name": "stdout",
     "output_type": "stream",
     "text": [
      "2023-06-07 06:58:58 INFO: POS REMOVAL\n",
      "2023-06-07 06:58:58 INFO: DOCUMENT TRANSFORMER\n",
      "2023-06-07 06:58:58 INFO: POS REMOVAL\n",
      "2023-06-07 06:58:58 INFO: DOCUMENT TRANSFORMER\n"
     ]
    },
    {
     "name": "stderr",
     "output_type": "stream",
     "text": [
      "c:\\Users\\c10nGp4\\anaconda3\\envs\\imbalance-multi-classification\\lib\\site-packages\\sklearn\\svm\\_base.py:1244: ConvergenceWarning: Liblinear failed to converge, increase the number of iterations.\n",
      "  warnings.warn(\n"
     ]
    },
    {
     "name": "stdout",
     "output_type": "stream",
     "text": [
      "2023-06-07 06:59:01 INFO: POS REMOVAL\n",
      "2023-06-07 06:59:01 INFO: DOCUMENT TRANSFORMER\n",
      "2023-06-07 06:59:02 INFO: POS REMOVAL\n",
      "2023-06-07 06:59:02 INFO: DOCUMENT TRANSFORMER\n"
     ]
    },
    {
     "name": "stderr",
     "output_type": "stream",
     "text": [
      "c:\\Users\\c10nGp4\\anaconda3\\envs\\imbalance-multi-classification\\lib\\site-packages\\sklearn\\svm\\_base.py:1244: ConvergenceWarning: Liblinear failed to converge, increase the number of iterations.\n",
      "  warnings.warn(\n"
     ]
    },
    {
     "name": "stdout",
     "output_type": "stream",
     "text": [
      "2023-06-07 06:59:05 INFO: POS REMOVAL\n",
      "2023-06-07 06:59:05 INFO: DOCUMENT TRANSFORMER\n",
      "2023-06-07 06:59:05 INFO: POS REMOVAL\n",
      "2023-06-07 06:59:05 INFO: DOCUMENT TRANSFORMER\n"
     ]
    },
    {
     "name": "stderr",
     "output_type": "stream",
     "text": [
      "c:\\Users\\c10nGp4\\anaconda3\\envs\\imbalance-multi-classification\\lib\\site-packages\\sklearn\\svm\\_base.py:1244: ConvergenceWarning: Liblinear failed to converge, increase the number of iterations.\n",
      "  warnings.warn(\n"
     ]
    },
    {
     "name": "stdout",
     "output_type": "stream",
     "text": [
      "2023-06-07 06:59:08 INFO: POS REMOVAL\n",
      "2023-06-07 06:59:08 INFO: DOCUMENT TRANSFORMER\n",
      "2023-06-07 06:59:08 INFO: POS REMOVAL\n",
      "2023-06-07 06:59:08 INFO: DOCUMENT TRANSFORMER\n"
     ]
    },
    {
     "name": "stderr",
     "output_type": "stream",
     "text": [
      "c:\\Users\\c10nGp4\\anaconda3\\envs\\imbalance-multi-classification\\lib\\site-packages\\sklearn\\svm\\_base.py:1244: ConvergenceWarning: Liblinear failed to converge, increase the number of iterations.\n",
      "  warnings.warn(\n"
     ]
    },
    {
     "name": "stdout",
     "output_type": "stream",
     "text": [
      "2023-06-07 06:59:11 INFO: POS REMOVAL\n",
      "2023-06-07 06:59:11 INFO: DOCUMENT TRANSFORMER\n",
      "2023-06-07 06:59:11 INFO: POS REMOVAL\n",
      "2023-06-07 06:59:11 INFO: DOCUMENT TRANSFORMER\n"
     ]
    },
    {
     "name": "stderr",
     "output_type": "stream",
     "text": [
      "c:\\Users\\c10nGp4\\anaconda3\\envs\\imbalance-multi-classification\\lib\\site-packages\\sklearn\\svm\\_base.py:1244: ConvergenceWarning: Liblinear failed to converge, increase the number of iterations.\n",
      "  warnings.warn(\n"
     ]
    },
    {
     "name": "stdout",
     "output_type": "stream",
     "text": [
      "2023-06-07 06:59:14 INFO: POS REMOVAL\n",
      "2023-06-07 06:59:14 INFO: DOCUMENT TRANSFORMER\n",
      "2023-06-07 06:59:14 INFO: POS REMOVAL\n",
      "2023-06-07 06:59:14 INFO: DOCUMENT TRANSFORMER\n"
     ]
    },
    {
     "name": "stderr",
     "output_type": "stream",
     "text": [
      "c:\\Users\\c10nGp4\\anaconda3\\envs\\imbalance-multi-classification\\lib\\site-packages\\sklearn\\svm\\_base.py:1244: ConvergenceWarning: Liblinear failed to converge, increase the number of iterations.\n",
      "  warnings.warn(\n"
     ]
    },
    {
     "name": "stdout",
     "output_type": "stream",
     "text": [
      "2023-06-07 06:59:17 INFO: POS REMOVAL\n",
      "2023-06-07 06:59:17 INFO: DOCUMENT TRANSFORMER\n",
      "2023-06-07 06:59:17 INFO: POS REMOVAL\n",
      "2023-06-07 06:59:17 INFO: DOCUMENT TRANSFORMER\n"
     ]
    },
    {
     "name": "stderr",
     "output_type": "stream",
     "text": [
      "c:\\Users\\c10nGp4\\anaconda3\\envs\\imbalance-multi-classification\\lib\\site-packages\\sklearn\\svm\\_base.py:1244: ConvergenceWarning: Liblinear failed to converge, increase the number of iterations.\n",
      "  warnings.warn(\n"
     ]
    },
    {
     "name": "stdout",
     "output_type": "stream",
     "text": [
      "2023-06-07 06:59:20 INFO: POS REMOVAL\n",
      "2023-06-07 06:59:20 INFO: DOCUMENT TRANSFORMER\n",
      "2023-06-07 06:59:20 INFO: POS REMOVAL\n",
      "2023-06-07 06:59:20 INFO: DOCUMENT TRANSFORMER\n"
     ]
    },
    {
     "name": "stderr",
     "output_type": "stream",
     "text": [
      "c:\\Users\\c10nGp4\\anaconda3\\envs\\imbalance-multi-classification\\lib\\site-packages\\sklearn\\svm\\_base.py:1244: ConvergenceWarning: Liblinear failed to converge, increase the number of iterations.\n",
      "  warnings.warn(\n"
     ]
    },
    {
     "name": "stdout",
     "output_type": "stream",
     "text": [
      "2023-06-07 06:59:23 INFO: POS REMOVAL\n",
      "2023-06-07 06:59:23 INFO: DOCUMENT TRANSFORMER\n",
      "2023-06-07 06:59:23 INFO: POS REMOVAL\n",
      "2023-06-07 06:59:23 INFO: DOCUMENT TRANSFORMER\n"
     ]
    },
    {
     "name": "stderr",
     "output_type": "stream",
     "text": [
      "c:\\Users\\c10nGp4\\anaconda3\\envs\\imbalance-multi-classification\\lib\\site-packages\\sklearn\\svm\\_base.py:1244: ConvergenceWarning: Liblinear failed to converge, increase the number of iterations.\n",
      "  warnings.warn(\n"
     ]
    },
    {
     "name": "stdout",
     "output_type": "stream",
     "text": [
      "2023-06-07 06:59:26 INFO: POS REMOVAL\n",
      "2023-06-07 06:59:26 INFO: DOCUMENT TRANSFORMER\n",
      "2023-06-07 06:59:26 INFO: POS REMOVAL\n",
      "2023-06-07 06:59:26 INFO: DOCUMENT TRANSFORMER\n"
     ]
    },
    {
     "name": "stderr",
     "output_type": "stream",
     "text": [
      "c:\\Users\\c10nGp4\\anaconda3\\envs\\imbalance-multi-classification\\lib\\site-packages\\sklearn\\svm\\_base.py:1244: ConvergenceWarning: Liblinear failed to converge, increase the number of iterations.\n",
      "  warnings.warn(\n"
     ]
    },
    {
     "name": "stdout",
     "output_type": "stream",
     "text": [
      "2023-06-07 06:59:29 INFO: POS REMOVAL\n",
      "2023-06-07 06:59:29 INFO: DOCUMENT TRANSFORMER\n",
      "2023-06-07 06:59:29 INFO: POS REMOVAL\n",
      "2023-06-07 06:59:29 INFO: DOCUMENT TRANSFORMER\n"
     ]
    },
    {
     "name": "stderr",
     "output_type": "stream",
     "text": [
      "c:\\Users\\c10nGp4\\anaconda3\\envs\\imbalance-multi-classification\\lib\\site-packages\\sklearn\\svm\\_base.py:1244: ConvergenceWarning: Liblinear failed to converge, increase the number of iterations.\n",
      "  warnings.warn(\n"
     ]
    },
    {
     "name": "stdout",
     "output_type": "stream",
     "text": [
      "2023-06-07 06:59:32 INFO: POS REMOVAL\n",
      "2023-06-07 06:59:32 INFO: DOCUMENT TRANSFORMER\n",
      "2023-06-07 06:59:32 INFO: POS REMOVAL\n",
      "2023-06-07 06:59:32 INFO: DOCUMENT TRANSFORMER\n"
     ]
    },
    {
     "name": "stderr",
     "output_type": "stream",
     "text": [
      "c:\\Users\\c10nGp4\\anaconda3\\envs\\imbalance-multi-classification\\lib\\site-packages\\sklearn\\svm\\_base.py:1244: ConvergenceWarning: Liblinear failed to converge, increase the number of iterations.\n",
      "  warnings.warn(\n"
     ]
    },
    {
     "name": "stdout",
     "output_type": "stream",
     "text": [
      "2023-06-07 06:59:36 INFO: POS REMOVAL\n",
      "2023-06-07 06:59:36 INFO: DOCUMENT TRANSFORMER\n",
      "2023-06-07 06:59:36 INFO: POS REMOVAL\n",
      "2023-06-07 06:59:36 INFO: DOCUMENT TRANSFORMER\n"
     ]
    },
    {
     "name": "stderr",
     "output_type": "stream",
     "text": [
      "c:\\Users\\c10nGp4\\anaconda3\\envs\\imbalance-multi-classification\\lib\\site-packages\\sklearn\\svm\\_base.py:1244: ConvergenceWarning: Liblinear failed to converge, increase the number of iterations.\n",
      "  warnings.warn(\n"
     ]
    },
    {
     "name": "stdout",
     "output_type": "stream",
     "text": [
      "2023-06-07 06:59:39 INFO: POS REMOVAL\n",
      "2023-06-07 06:59:39 INFO: DOCUMENT TRANSFORMER\n",
      "2023-06-07 06:59:39 INFO: POS REMOVAL\n",
      "2023-06-07 06:59:39 INFO: DOCUMENT TRANSFORMER\n"
     ]
    },
    {
     "name": "stderr",
     "output_type": "stream",
     "text": [
      "c:\\Users\\c10nGp4\\anaconda3\\envs\\imbalance-multi-classification\\lib\\site-packages\\sklearn\\svm\\_base.py:1244: ConvergenceWarning: Liblinear failed to converge, increase the number of iterations.\n",
      "  warnings.warn(\n"
     ]
    },
    {
     "name": "stdout",
     "output_type": "stream",
     "text": [
      "2023-06-07 06:59:43 INFO: POS REMOVAL\n",
      "2023-06-07 06:59:43 INFO: DOCUMENT TRANSFORMER\n",
      "2023-06-07 06:59:43 INFO: POS REMOVAL\n",
      "2023-06-07 06:59:43 INFO: DOCUMENT TRANSFORMER\n"
     ]
    },
    {
     "name": "stderr",
     "output_type": "stream",
     "text": [
      "c:\\Users\\c10nGp4\\anaconda3\\envs\\imbalance-multi-classification\\lib\\site-packages\\sklearn\\svm\\_base.py:1244: ConvergenceWarning: Liblinear failed to converge, increase the number of iterations.\n",
      "  warnings.warn(\n"
     ]
    },
    {
     "name": "stdout",
     "output_type": "stream",
     "text": [
      "2023-06-07 06:59:46 INFO: POS REMOVAL\n",
      "2023-06-07 06:59:46 INFO: DOCUMENT TRANSFORMER\n",
      "2023-06-07 06:59:46 INFO: POS REMOVAL\n",
      "2023-06-07 06:59:46 INFO: DOCUMENT TRANSFORMER\n"
     ]
    },
    {
     "name": "stderr",
     "output_type": "stream",
     "text": [
      "c:\\Users\\c10nGp4\\anaconda3\\envs\\imbalance-multi-classification\\lib\\site-packages\\sklearn\\svm\\_base.py:1244: ConvergenceWarning: Liblinear failed to converge, increase the number of iterations.\n",
      "  warnings.warn(\n"
     ]
    },
    {
     "name": "stdout",
     "output_type": "stream",
     "text": [
      "2023-06-07 06:59:49 INFO: POS REMOVAL\n",
      "2023-06-07 06:59:49 INFO: DOCUMENT TRANSFORMER\n",
      "2023-06-07 06:59:50 INFO: POS REMOVAL\n",
      "2023-06-07 06:59:50 INFO: DOCUMENT TRANSFORMER\n"
     ]
    },
    {
     "name": "stderr",
     "output_type": "stream",
     "text": [
      "c:\\Users\\c10nGp4\\anaconda3\\envs\\imbalance-multi-classification\\lib\\site-packages\\sklearn\\svm\\_base.py:1244: ConvergenceWarning: Liblinear failed to converge, increase the number of iterations.\n",
      "  warnings.warn(\n"
     ]
    },
    {
     "name": "stdout",
     "output_type": "stream",
     "text": [
      "2023-06-07 06:59:53 INFO: POS REMOVAL\n",
      "2023-06-07 06:59:53 INFO: DOCUMENT TRANSFORMER\n",
      "2023-06-07 06:59:53 INFO: POS REMOVAL\n",
      "2023-06-07 06:59:53 INFO: DOCUMENT TRANSFORMER\n"
     ]
    },
    {
     "name": "stderr",
     "output_type": "stream",
     "text": [
      "c:\\Users\\c10nGp4\\anaconda3\\envs\\imbalance-multi-classification\\lib\\site-packages\\sklearn\\svm\\_base.py:1244: ConvergenceWarning: Liblinear failed to converge, increase the number of iterations.\n",
      "  warnings.warn(\n"
     ]
    },
    {
     "name": "stdout",
     "output_type": "stream",
     "text": [
      "2023-06-07 06:59:56 INFO: POS REMOVAL\n",
      "2023-06-07 06:59:56 INFO: DOCUMENT TRANSFORMER\n",
      "2023-06-07 06:59:56 INFO: POS REMOVAL\n",
      "2023-06-07 06:59:56 INFO: DOCUMENT TRANSFORMER\n"
     ]
    },
    {
     "name": "stderr",
     "output_type": "stream",
     "text": [
      "c:\\Users\\c10nGp4\\anaconda3\\envs\\imbalance-multi-classification\\lib\\site-packages\\sklearn\\svm\\_base.py:1244: ConvergenceWarning: Liblinear failed to converge, increase the number of iterations.\n",
      "  warnings.warn(\n"
     ]
    },
    {
     "name": "stdout",
     "output_type": "stream",
     "text": [
      "2023-06-07 07:00:00 INFO: POS REMOVAL\n",
      "2023-06-07 07:00:00 INFO: DOCUMENT TRANSFORMER\n",
      "2023-06-07 07:00:00 INFO: POS REMOVAL\n",
      "2023-06-07 07:00:00 INFO: DOCUMENT TRANSFORMER\n"
     ]
    },
    {
     "name": "stderr",
     "output_type": "stream",
     "text": [
      "c:\\Users\\c10nGp4\\anaconda3\\envs\\imbalance-multi-classification\\lib\\site-packages\\sklearn\\svm\\_base.py:1244: ConvergenceWarning: Liblinear failed to converge, increase the number of iterations.\n",
      "  warnings.warn(\n"
     ]
    },
    {
     "name": "stdout",
     "output_type": "stream",
     "text": [
      "2023-06-07 07:00:03 INFO: POS REMOVAL\n",
      "2023-06-07 07:00:03 INFO: DOCUMENT TRANSFORMER\n",
      "2023-06-07 07:00:03 INFO: POS REMOVAL\n",
      "2023-06-07 07:00:03 INFO: DOCUMENT TRANSFORMER\n"
     ]
    },
    {
     "name": "stderr",
     "output_type": "stream",
     "text": [
      "c:\\Users\\c10nGp4\\anaconda3\\envs\\imbalance-multi-classification\\lib\\site-packages\\sklearn\\svm\\_base.py:1244: ConvergenceWarning: Liblinear failed to converge, increase the number of iterations.\n",
      "  warnings.warn(\n"
     ]
    },
    {
     "name": "stdout",
     "output_type": "stream",
     "text": [
      "2023-06-07 07:00:07 INFO: POS REMOVAL\n",
      "2023-06-07 07:00:07 INFO: DOCUMENT TRANSFORMER\n",
      "2023-06-07 07:00:07 INFO: POS REMOVAL\n",
      "2023-06-07 07:00:07 INFO: DOCUMENT TRANSFORMER\n"
     ]
    },
    {
     "name": "stderr",
     "output_type": "stream",
     "text": [
      "c:\\Users\\c10nGp4\\anaconda3\\envs\\imbalance-multi-classification\\lib\\site-packages\\sklearn\\svm\\_base.py:1244: ConvergenceWarning: Liblinear failed to converge, increase the number of iterations.\n",
      "  warnings.warn(\n"
     ]
    },
    {
     "name": "stdout",
     "output_type": "stream",
     "text": [
      "2023-06-07 07:00:10 INFO: POS REMOVAL\n",
      "2023-06-07 07:00:10 INFO: DOCUMENT TRANSFORMER\n",
      "2023-06-07 07:00:10 INFO: POS REMOVAL\n",
      "2023-06-07 07:00:11 INFO: DOCUMENT TRANSFORMER\n"
     ]
    },
    {
     "name": "stderr",
     "output_type": "stream",
     "text": [
      "c:\\Users\\c10nGp4\\anaconda3\\envs\\imbalance-multi-classification\\lib\\site-packages\\sklearn\\svm\\_base.py:1244: ConvergenceWarning: Liblinear failed to converge, increase the number of iterations.\n",
      "  warnings.warn(\n"
     ]
    },
    {
     "name": "stdout",
     "output_type": "stream",
     "text": [
      "2023-06-07 07:00:14 INFO: POS REMOVAL\n",
      "2023-06-07 07:00:14 INFO: DOCUMENT TRANSFORMER\n",
      "2023-06-07 07:00:14 INFO: POS REMOVAL\n",
      "2023-06-07 07:00:14 INFO: DOCUMENT TRANSFORMER\n"
     ]
    },
    {
     "name": "stderr",
     "output_type": "stream",
     "text": [
      "c:\\Users\\c10nGp4\\anaconda3\\envs\\imbalance-multi-classification\\lib\\site-packages\\sklearn\\svm\\_base.py:1244: ConvergenceWarning: Liblinear failed to converge, increase the number of iterations.\n",
      "  warnings.warn(\n"
     ]
    },
    {
     "name": "stdout",
     "output_type": "stream",
     "text": [
      "2023-06-07 07:00:17 INFO: POS REMOVAL\n",
      "2023-06-07 07:00:17 INFO: DOCUMENT TRANSFORMER\n",
      "2023-06-07 07:00:17 INFO: POS REMOVAL\n",
      "2023-06-07 07:00:17 INFO: DOCUMENT TRANSFORMER\n"
     ]
    },
    {
     "name": "stderr",
     "output_type": "stream",
     "text": [
      "c:\\Users\\c10nGp4\\anaconda3\\envs\\imbalance-multi-classification\\lib\\site-packages\\sklearn\\svm\\_base.py:1244: ConvergenceWarning: Liblinear failed to converge, increase the number of iterations.\n",
      "  warnings.warn(\n"
     ]
    },
    {
     "name": "stdout",
     "output_type": "stream",
     "text": [
      "2023-06-07 07:00:21 INFO: POS REMOVAL\n",
      "2023-06-07 07:00:21 INFO: DOCUMENT TRANSFORMER\n",
      "2023-06-07 07:00:21 INFO: POS REMOVAL\n",
      "2023-06-07 07:00:21 INFO: DOCUMENT TRANSFORMER\n"
     ]
    },
    {
     "name": "stderr",
     "output_type": "stream",
     "text": [
      "c:\\Users\\c10nGp4\\anaconda3\\envs\\imbalance-multi-classification\\lib\\site-packages\\sklearn\\svm\\_base.py:1244: ConvergenceWarning: Liblinear failed to converge, increase the number of iterations.\n",
      "  warnings.warn(\n"
     ]
    },
    {
     "name": "stdout",
     "output_type": "stream",
     "text": [
      "2023-06-07 07:00:24 INFO: POS REMOVAL\n",
      "2023-06-07 07:00:24 INFO: DOCUMENT TRANSFORMER\n",
      "2023-06-07 07:00:24 INFO: POS REMOVAL\n",
      "2023-06-07 07:00:25 INFO: DOCUMENT TRANSFORMER\n"
     ]
    },
    {
     "name": "stderr",
     "output_type": "stream",
     "text": [
      "c:\\Users\\c10nGp4\\anaconda3\\envs\\imbalance-multi-classification\\lib\\site-packages\\sklearn\\svm\\_base.py:1244: ConvergenceWarning: Liblinear failed to converge, increase the number of iterations.\n",
      "  warnings.warn(\n"
     ]
    },
    {
     "name": "stdout",
     "output_type": "stream",
     "text": [
      "2023-06-07 07:00:28 INFO: POS REMOVAL\n",
      "2023-06-07 07:00:28 INFO: DOCUMENT TRANSFORMER\n",
      "2023-06-07 07:00:28 INFO: POS REMOVAL\n",
      "2023-06-07 07:00:28 INFO: DOCUMENT TRANSFORMER\n"
     ]
    },
    {
     "name": "stderr",
     "output_type": "stream",
     "text": [
      "c:\\Users\\c10nGp4\\anaconda3\\envs\\imbalance-multi-classification\\lib\\site-packages\\sklearn\\svm\\_base.py:1244: ConvergenceWarning: Liblinear failed to converge, increase the number of iterations.\n",
      "  warnings.warn(\n"
     ]
    },
    {
     "name": "stdout",
     "output_type": "stream",
     "text": [
      "2023-06-07 07:00:32 INFO: POS REMOVAL\n",
      "2023-06-07 07:00:32 INFO: DOCUMENT TRANSFORMER\n",
      "2023-06-07 07:00:32 INFO: POS REMOVAL\n",
      "2023-06-07 07:00:32 INFO: DOCUMENT TRANSFORMER\n"
     ]
    },
    {
     "name": "stderr",
     "output_type": "stream",
     "text": [
      "c:\\Users\\c10nGp4\\anaconda3\\envs\\imbalance-multi-classification\\lib\\site-packages\\sklearn\\svm\\_base.py:1244: ConvergenceWarning: Liblinear failed to converge, increase the number of iterations.\n",
      "  warnings.warn(\n"
     ]
    },
    {
     "name": "stdout",
     "output_type": "stream",
     "text": [
      "2023-06-07 07:00:35 INFO: POS REMOVAL\n",
      "2023-06-07 07:00:35 INFO: DOCUMENT TRANSFORMER\n",
      "2023-06-07 07:00:35 INFO: POS REMOVAL\n",
      "2023-06-07 07:00:35 INFO: DOCUMENT TRANSFORMER\n",
      "2023-06-07 07:00:36 INFO: POS REMOVAL\n",
      "2023-06-07 07:00:36 INFO: DOCUMENT TRANSFORMER\n",
      "2023-06-07 07:00:36 INFO: POS REMOVAL\n",
      "2023-06-07 07:00:36 INFO: DOCUMENT TRANSFORMER\n",
      "2023-06-07 07:00:36 INFO: POS REMOVAL\n",
      "2023-06-07 07:00:37 INFO: DOCUMENT TRANSFORMER\n",
      "2023-06-07 07:00:37 INFO: POS REMOVAL\n",
      "2023-06-07 07:00:37 INFO: DOCUMENT TRANSFORMER\n",
      "2023-06-07 07:00:37 INFO: POS REMOVAL\n",
      "2023-06-07 07:00:37 INFO: DOCUMENT TRANSFORMER\n",
      "2023-06-07 07:00:38 INFO: POS REMOVAL\n",
      "2023-06-07 07:00:38 INFO: DOCUMENT TRANSFORMER\n",
      "2023-06-07 07:00:38 INFO: POS REMOVAL\n",
      "2023-06-07 07:00:38 INFO: DOCUMENT TRANSFORMER\n",
      "2023-06-07 07:00:39 INFO: POS REMOVAL\n",
      "2023-06-07 07:00:39 INFO: DOCUMENT TRANSFORMER\n",
      "2023-06-07 07:00:39 INFO: POS REMOVAL\n",
      "2023-06-07 07:00:39 INFO: DOCUMENT TRANSFORMER\n",
      "2023-06-07 07:00:39 INFO: POS REMOVAL\n",
      "2023-06-07 07:00:39 INFO: DOCUMENT TRANSFORMER\n",
      "2023-06-07 07:00:40 INFO: POS REMOVAL\n",
      "2023-06-07 07:00:40 INFO: DOCUMENT TRANSFORMER\n",
      "2023-06-07 07:00:40 INFO: POS REMOVAL\n",
      "2023-06-07 07:00:40 INFO: DOCUMENT TRANSFORMER\n",
      "2023-06-07 07:00:41 INFO: POS REMOVAL\n",
      "2023-06-07 07:00:41 INFO: DOCUMENT TRANSFORMER\n",
      "2023-06-07 07:00:41 INFO: POS REMOVAL\n",
      "2023-06-07 07:00:41 INFO: DOCUMENT TRANSFORMER\n",
      "2023-06-07 07:00:41 INFO: POS REMOVAL\n",
      "2023-06-07 07:00:42 INFO: DOCUMENT TRANSFORMER\n",
      "2023-06-07 07:00:42 INFO: POS REMOVAL\n",
      "2023-06-07 07:00:42 INFO: DOCUMENT TRANSFORMER\n",
      "2023-06-07 07:00:42 INFO: POS REMOVAL\n",
      "2023-06-07 07:00:42 INFO: DOCUMENT TRANSFORMER\n",
      "2023-06-07 07:00:43 INFO: POS REMOVAL\n",
      "2023-06-07 07:00:43 INFO: DOCUMENT TRANSFORMER\n",
      "2023-06-07 07:00:43 INFO: POS REMOVAL\n",
      "2023-06-07 07:00:44 INFO: DOCUMENT TRANSFORMER\n",
      "2023-06-07 07:00:44 INFO: POS REMOVAL\n",
      "2023-06-07 07:00:44 INFO: DOCUMENT TRANSFORMER\n",
      "2023-06-07 07:00:44 INFO: POS REMOVAL\n",
      "2023-06-07 07:00:45 INFO: DOCUMENT TRANSFORMER\n",
      "2023-06-07 07:00:45 INFO: POS REMOVAL\n",
      "2023-06-07 07:00:45 INFO: DOCUMENT TRANSFORMER\n",
      "2023-06-07 07:00:46 INFO: POS REMOVAL\n",
      "2023-06-07 07:00:46 INFO: DOCUMENT TRANSFORMER\n",
      "2023-06-07 07:00:46 INFO: POS REMOVAL\n",
      "2023-06-07 07:00:46 INFO: DOCUMENT TRANSFORMER\n",
      "2023-06-07 07:00:47 INFO: POS REMOVAL\n",
      "2023-06-07 07:00:47 INFO: DOCUMENT TRANSFORMER\n",
      "2023-06-07 07:00:47 INFO: POS REMOVAL\n",
      "2023-06-07 07:00:47 INFO: DOCUMENT TRANSFORMER\n",
      "2023-06-07 07:00:48 INFO: POS REMOVAL\n",
      "2023-06-07 07:00:48 INFO: DOCUMENT TRANSFORMER\n",
      "2023-06-07 07:00:48 INFO: POS REMOVAL\n",
      "2023-06-07 07:00:48 INFO: DOCUMENT TRANSFORMER\n",
      "2023-06-07 07:00:49 INFO: POS REMOVAL\n",
      "2023-06-07 07:00:49 INFO: DOCUMENT TRANSFORMER\n",
      "2023-06-07 07:00:49 INFO: POS REMOVAL\n",
      "2023-06-07 07:00:50 INFO: DOCUMENT TRANSFORMER\n",
      "2023-06-07 07:00:50 INFO: POS REMOVAL\n",
      "2023-06-07 07:00:50 INFO: DOCUMENT TRANSFORMER\n",
      "2023-06-07 07:00:51 INFO: POS REMOVAL\n",
      "2023-06-07 07:00:51 INFO: DOCUMENT TRANSFORMER\n",
      "2023-06-07 07:00:51 INFO: POS REMOVAL\n",
      "2023-06-07 07:00:51 INFO: DOCUMENT TRANSFORMER\n",
      "2023-06-07 07:00:52 INFO: POS REMOVAL\n",
      "2023-06-07 07:00:52 INFO: DOCUMENT TRANSFORMER\n",
      "2023-06-07 07:00:52 INFO: POS REMOVAL\n",
      "2023-06-07 07:00:52 INFO: DOCUMENT TRANSFORMER\n",
      "2023-06-07 07:00:53 INFO: POS REMOVAL\n",
      "2023-06-07 07:00:53 INFO: DOCUMENT TRANSFORMER\n",
      "2023-06-07 07:00:53 INFO: POS REMOVAL\n",
      "2023-06-07 07:00:53 INFO: DOCUMENT TRANSFORMER\n",
      "2023-06-07 07:00:54 INFO: POS REMOVAL\n",
      "2023-06-07 07:00:54 INFO: DOCUMENT TRANSFORMER\n",
      "2023-06-07 07:00:55 INFO: POS REMOVAL\n",
      "2023-06-07 07:00:55 INFO: DOCUMENT TRANSFORMER\n",
      "2023-06-07 07:00:55 INFO: POS REMOVAL\n",
      "2023-06-07 07:00:55 INFO: DOCUMENT TRANSFORMER\n",
      "2023-06-07 07:00:55 INFO: POS REMOVAL\n",
      "2023-06-07 07:00:56 INFO: DOCUMENT TRANSFORMER\n",
      "2023-06-07 07:00:56 INFO: POS REMOVAL\n",
      "2023-06-07 07:00:56 INFO: DOCUMENT TRANSFORMER\n",
      "2023-06-07 07:00:56 INFO: POS REMOVAL\n",
      "2023-06-07 07:00:56 INFO: DOCUMENT TRANSFORMER\n",
      "2023-06-07 07:00:57 INFO: POS REMOVAL\n",
      "2023-06-07 07:00:57 INFO: DOCUMENT TRANSFORMER\n",
      "2023-06-07 07:00:57 INFO: POS REMOVAL\n",
      "2023-06-07 07:00:57 INFO: DOCUMENT TRANSFORMER\n",
      "2023-06-07 07:00:57 INFO: POS REMOVAL\n",
      "2023-06-07 07:00:58 INFO: DOCUMENT TRANSFORMER\n",
      "2023-06-07 07:00:58 INFO: POS REMOVAL\n",
      "2023-06-07 07:00:58 INFO: DOCUMENT TRANSFORMER\n",
      "2023-06-07 07:00:58 INFO: POS REMOVAL\n",
      "2023-06-07 07:00:58 INFO: DOCUMENT TRANSFORMER\n",
      "2023-06-07 07:00:59 INFO: POS REMOVAL\n",
      "2023-06-07 07:00:59 INFO: DOCUMENT TRANSFORMER\n",
      "2023-06-07 07:00:59 INFO: POS REMOVAL\n",
      "2023-06-07 07:00:59 INFO: DOCUMENT TRANSFORMER\n",
      "2023-06-07 07:00:59 INFO: POS REMOVAL\n",
      "2023-06-07 07:01:00 INFO: DOCUMENT TRANSFORMER\n",
      "2023-06-07 07:01:00 INFO: POS REMOVAL\n",
      "2023-06-07 07:01:00 INFO: DOCUMENT TRANSFORMER\n",
      "2023-06-07 07:01:00 INFO: POS REMOVAL\n",
      "2023-06-07 07:01:00 INFO: DOCUMENT TRANSFORMER\n",
      "2023-06-07 07:01:01 INFO: POS REMOVAL\n",
      "2023-06-07 07:01:01 INFO: DOCUMENT TRANSFORMER\n",
      "2023-06-07 07:01:01 INFO: POS REMOVAL\n",
      "2023-06-07 07:01:01 INFO: DOCUMENT TRANSFORMER\n",
      "2023-06-07 07:01:01 INFO: POS REMOVAL\n",
      "2023-06-07 07:01:02 INFO: DOCUMENT TRANSFORMER\n",
      "2023-06-07 07:01:02 INFO: POS REMOVAL\n",
      "2023-06-07 07:01:02 INFO: DOCUMENT TRANSFORMER\n",
      "2023-06-07 07:01:02 INFO: POS REMOVAL\n",
      "2023-06-07 07:01:02 INFO: DOCUMENT TRANSFORMER\n",
      "2023-06-07 07:01:03 INFO: POS REMOVAL\n",
      "2023-06-07 07:01:03 INFO: DOCUMENT TRANSFORMER\n",
      "2023-06-07 07:01:03 INFO: POS REMOVAL\n",
      "2023-06-07 07:01:03 INFO: DOCUMENT TRANSFORMER\n",
      "2023-06-07 07:01:04 INFO: POS REMOVAL\n",
      "2023-06-07 07:01:04 INFO: DOCUMENT TRANSFORMER\n",
      "2023-06-07 07:01:04 INFO: POS REMOVAL\n",
      "2023-06-07 07:01:04 INFO: DOCUMENT TRANSFORMER\n",
      "2023-06-07 07:01:04 INFO: POS REMOVAL\n",
      "2023-06-07 07:01:05 INFO: DOCUMENT TRANSFORMER\n",
      "2023-06-07 07:01:05 INFO: POS REMOVAL\n",
      "2023-06-07 07:01:05 INFO: DOCUMENT TRANSFORMER\n",
      "2023-06-07 07:01:06 INFO: POS REMOVAL\n",
      "2023-06-07 07:01:06 INFO: DOCUMENT TRANSFORMER\n",
      "2023-06-07 07:01:06 INFO: POS REMOVAL\n",
      "2023-06-07 07:01:06 INFO: DOCUMENT TRANSFORMER\n",
      "2023-06-07 07:01:07 INFO: POS REMOVAL\n",
      "2023-06-07 07:01:07 INFO: DOCUMENT TRANSFORMER\n",
      "2023-06-07 07:01:07 INFO: POS REMOVAL\n",
      "2023-06-07 07:01:07 INFO: DOCUMENT TRANSFORMER\n",
      "2023-06-07 07:01:08 INFO: POS REMOVAL\n",
      "2023-06-07 07:01:08 INFO: DOCUMENT TRANSFORMER\n",
      "2023-06-07 07:01:08 INFO: POS REMOVAL\n",
      "2023-06-07 07:01:08 INFO: DOCUMENT TRANSFORMER\n",
      "2023-06-07 07:01:09 INFO: POS REMOVAL\n",
      "2023-06-07 07:01:09 INFO: DOCUMENT TRANSFORMER\n",
      "2023-06-07 07:01:09 INFO: POS REMOVAL\n",
      "2023-06-07 07:01:09 INFO: DOCUMENT TRANSFORMER\n",
      "2023-06-07 07:01:10 INFO: POS REMOVAL\n",
      "2023-06-07 07:01:10 INFO: DOCUMENT TRANSFORMER\n",
      "2023-06-07 07:01:10 INFO: POS REMOVAL\n",
      "2023-06-07 07:01:10 INFO: DOCUMENT TRANSFORMER\n",
      "2023-06-07 07:01:11 INFO: POS REMOVAL\n",
      "2023-06-07 07:01:11 INFO: DOCUMENT TRANSFORMER\n",
      "2023-06-07 07:01:11 INFO: POS REMOVAL\n",
      "2023-06-07 07:01:11 INFO: DOCUMENT TRANSFORMER\n",
      "2023-06-07 07:01:12 INFO: POS REMOVAL\n",
      "2023-06-07 07:01:12 INFO: DOCUMENT TRANSFORMER\n",
      "2023-06-07 07:01:12 INFO: POS REMOVAL\n",
      "2023-06-07 07:01:12 INFO: DOCUMENT TRANSFORMER\n",
      "2023-06-07 07:01:13 INFO: POS REMOVAL\n",
      "2023-06-07 07:01:13 INFO: DOCUMENT TRANSFORMER\n",
      "2023-06-07 07:01:13 INFO: POS REMOVAL\n",
      "2023-06-07 07:01:13 INFO: DOCUMENT TRANSFORMER\n",
      "2023-06-07 07:01:14 INFO: POS REMOVAL\n",
      "2023-06-07 07:01:14 INFO: DOCUMENT TRANSFORMER\n",
      "2023-06-07 07:01:14 INFO: POS REMOVAL\n",
      "2023-06-07 07:01:14 INFO: DOCUMENT TRANSFORMER\n",
      "2023-06-07 07:01:14 INFO: POS REMOVAL\n",
      "2023-06-07 07:01:14 INFO: DOCUMENT TRANSFORMER\n",
      "2023-06-07 07:01:15 INFO: POS REMOVAL\n",
      "2023-06-07 07:01:15 INFO: DOCUMENT TRANSFORMER\n",
      "2023-06-07 07:01:15 INFO: POS REMOVAL\n",
      "2023-06-07 07:01:15 INFO: DOCUMENT TRANSFORMER\n",
      "2023-06-07 07:01:16 INFO: POS REMOVAL\n",
      "2023-06-07 07:01:16 INFO: DOCUMENT TRANSFORMER\n",
      "2023-06-07 07:01:16 INFO: POS REMOVAL\n",
      "2023-06-07 07:01:16 INFO: DOCUMENT TRANSFORMER\n",
      "2023-06-07 07:01:16 INFO: POS REMOVAL\n",
      "2023-06-07 07:01:16 INFO: DOCUMENT TRANSFORMER\n",
      "2023-06-07 07:01:17 INFO: POS REMOVAL\n",
      "2023-06-07 07:01:17 INFO: DOCUMENT TRANSFORMER\n",
      "2023-06-07 07:01:17 INFO: POS REMOVAL\n",
      "2023-06-07 07:01:17 INFO: DOCUMENT TRANSFORMER\n",
      "2023-06-07 07:01:18 INFO: POS REMOVAL\n",
      "2023-06-07 07:01:18 INFO: DOCUMENT TRANSFORMER\n",
      "2023-06-07 07:01:18 INFO: POS REMOVAL\n",
      "2023-06-07 07:01:18 INFO: DOCUMENT TRANSFORMER\n",
      "2023-06-07 07:01:18 INFO: POS REMOVAL\n",
      "2023-06-07 07:01:19 INFO: DOCUMENT TRANSFORMER\n",
      "2023-06-07 07:01:19 INFO: POS REMOVAL\n",
      "2023-06-07 07:01:19 INFO: DOCUMENT TRANSFORMER\n",
      "2023-06-07 07:01:19 INFO: POS REMOVAL\n",
      "2023-06-07 07:01:19 INFO: DOCUMENT TRANSFORMER\n",
      "2023-06-07 07:01:20 INFO: POS REMOVAL\n",
      "2023-06-07 07:01:20 INFO: DOCUMENT TRANSFORMER\n",
      "2023-06-07 07:01:20 INFO: POS REMOVAL\n",
      "2023-06-07 07:01:20 INFO: DOCUMENT TRANSFORMER\n",
      "2023-06-07 07:01:20 INFO: POS REMOVAL\n",
      "2023-06-07 07:01:21 INFO: DOCUMENT TRANSFORMER\n",
      "2023-06-07 07:01:21 INFO: POS REMOVAL\n",
      "2023-06-07 07:01:21 INFO: DOCUMENT TRANSFORMER\n",
      "2023-06-07 07:01:21 INFO: POS REMOVAL\n",
      "2023-06-07 07:01:21 INFO: DOCUMENT TRANSFORMER\n",
      "2023-06-07 07:01:22 INFO: POS REMOVAL\n",
      "2023-06-07 07:01:22 INFO: DOCUMENT TRANSFORMER\n",
      "2023-06-07 07:01:22 INFO: POS REMOVAL\n",
      "2023-06-07 07:01:22 INFO: DOCUMENT TRANSFORMER\n",
      "2023-06-07 07:01:23 INFO: POS REMOVAL\n",
      "2023-06-07 07:01:23 INFO: DOCUMENT TRANSFORMER\n",
      "2023-06-07 07:01:23 INFO: POS REMOVAL\n",
      "2023-06-07 07:01:23 INFO: DOCUMENT TRANSFORMER\n",
      "2023-06-07 07:01:24 INFO: POS REMOVAL\n",
      "2023-06-07 07:01:24 INFO: DOCUMENT TRANSFORMER\n",
      "2023-06-07 07:01:25 INFO: POS REMOVAL\n",
      "2023-06-07 07:01:25 INFO: DOCUMENT TRANSFORMER\n",
      "2023-06-07 07:01:25 INFO: POS REMOVAL\n",
      "2023-06-07 07:01:25 INFO: DOCUMENT TRANSFORMER\n",
      "2023-06-07 07:01:26 INFO: POS REMOVAL\n",
      "2023-06-07 07:01:26 INFO: DOCUMENT TRANSFORMER\n",
      "2023-06-07 07:01:26 INFO: POS REMOVAL\n",
      "2023-06-07 07:01:26 INFO: DOCUMENT TRANSFORMER\n",
      "2023-06-07 07:01:27 INFO: POS REMOVAL\n",
      "2023-06-07 07:01:27 INFO: DOCUMENT TRANSFORMER\n",
      "2023-06-07 07:01:28 INFO: POS REMOVAL\n",
      "2023-06-07 07:01:28 INFO: DOCUMENT TRANSFORMER\n",
      "2023-06-07 07:01:28 INFO: POS REMOVAL\n",
      "2023-06-07 07:01:28 INFO: DOCUMENT TRANSFORMER\n",
      "2023-06-07 07:01:29 INFO: POS REMOVAL\n",
      "2023-06-07 07:01:29 INFO: DOCUMENT TRANSFORMER\n",
      "2023-06-07 07:01:29 INFO: POS REMOVAL\n",
      "2023-06-07 07:01:29 INFO: DOCUMENT TRANSFORMER\n",
      "2023-06-07 07:01:30 INFO: POS REMOVAL\n",
      "2023-06-07 07:01:30 INFO: DOCUMENT TRANSFORMER\n",
      "2023-06-07 07:01:30 INFO: POS REMOVAL\n",
      "2023-06-07 07:01:30 INFO: DOCUMENT TRANSFORMER\n",
      "2023-06-07 07:01:31 INFO: POS REMOVAL\n",
      "2023-06-07 07:01:31 INFO: DOCUMENT TRANSFORMER\n",
      "2023-06-07 07:01:31 INFO: POS REMOVAL\n",
      "2023-06-07 07:01:31 INFO: DOCUMENT TRANSFORMER\n",
      "2023-06-07 07:01:32 INFO: POS REMOVAL\n",
      "2023-06-07 07:01:32 INFO: DOCUMENT TRANSFORMER\n",
      "2023-06-07 07:01:32 INFO: POS REMOVAL\n",
      "2023-06-07 07:01:32 INFO: DOCUMENT TRANSFORMER\n",
      "2023-06-07 07:01:33 INFO: POS REMOVAL\n",
      "2023-06-07 07:01:33 INFO: DOCUMENT TRANSFORMER\n",
      "2023-06-07 07:01:33 INFO: POS REMOVAL\n",
      "2023-06-07 07:01:33 INFO: DOCUMENT TRANSFORMER\n",
      "2023-06-07 07:01:34 INFO: POS REMOVAL\n",
      "2023-06-07 07:01:34 INFO: DOCUMENT TRANSFORMER\n",
      "2023-06-07 07:01:34 INFO: POS REMOVAL\n",
      "2023-06-07 07:01:34 INFO: DOCUMENT TRANSFORMER\n",
      "2023-06-07 07:01:34 INFO: POS REMOVAL\n",
      "2023-06-07 07:01:34 INFO: DOCUMENT TRANSFORMER\n",
      "2023-06-07 07:01:35 INFO: POS REMOVAL\n",
      "2023-06-07 07:01:35 INFO: DOCUMENT TRANSFORMER\n",
      "2023-06-07 07:01:35 INFO: POS REMOVAL\n",
      "2023-06-07 07:01:35 INFO: DOCUMENT TRANSFORMER\n",
      "2023-06-07 07:01:36 INFO: POS REMOVAL\n",
      "2023-06-07 07:01:36 INFO: DOCUMENT TRANSFORMER\n",
      "2023-06-07 07:01:36 INFO: POS REMOVAL\n",
      "2023-06-07 07:01:36 INFO: DOCUMENT TRANSFORMER\n",
      "2023-06-07 07:01:36 INFO: POS REMOVAL\n",
      "2023-06-07 07:01:36 INFO: DOCUMENT TRANSFORMER\n",
      "2023-06-07 07:01:37 INFO: POS REMOVAL\n",
      "2023-06-07 07:01:37 INFO: DOCUMENT TRANSFORMER\n",
      "2023-06-07 07:01:37 INFO: POS REMOVAL\n",
      "2023-06-07 07:01:37 INFO: DOCUMENT TRANSFORMER\n",
      "2023-06-07 07:01:38 INFO: POS REMOVAL\n",
      "2023-06-07 07:01:38 INFO: DOCUMENT TRANSFORMER\n",
      "2023-06-07 07:01:38 INFO: POS REMOVAL\n",
      "2023-06-07 07:01:38 INFO: DOCUMENT TRANSFORMER\n",
      "2023-06-07 07:01:38 INFO: POS REMOVAL\n",
      "2023-06-07 07:01:38 INFO: DOCUMENT TRANSFORMER\n",
      "2023-06-07 07:01:39 INFO: POS REMOVAL\n",
      "2023-06-07 07:01:39 INFO: DOCUMENT TRANSFORMER\n",
      "2023-06-07 07:01:39 INFO: POS REMOVAL\n",
      "2023-06-07 07:01:39 INFO: DOCUMENT TRANSFORMER\n",
      "2023-06-07 07:01:39 INFO: POS REMOVAL\n",
      "2023-06-07 07:01:40 INFO: DOCUMENT TRANSFORMER\n",
      "2023-06-07 07:01:40 INFO: POS REMOVAL\n",
      "2023-06-07 07:01:40 INFO: DOCUMENT TRANSFORMER\n",
      "2023-06-07 07:01:40 INFO: POS REMOVAL\n",
      "2023-06-07 07:01:40 INFO: DOCUMENT TRANSFORMER\n",
      "2023-06-07 07:01:41 INFO: POS REMOVAL\n",
      "2023-06-07 07:01:41 INFO: DOCUMENT TRANSFORMER\n",
      "2023-06-07 07:01:41 INFO: POS REMOVAL\n",
      "2023-06-07 07:01:41 INFO: DOCUMENT TRANSFORMER\n",
      "2023-06-07 07:01:42 INFO: POS REMOVAL\n",
      "2023-06-07 07:01:42 INFO: DOCUMENT TRANSFORMER\n",
      "2023-06-07 07:01:42 INFO: POS REMOVAL\n",
      "2023-06-07 07:01:42 INFO: DOCUMENT TRANSFORMER\n",
      "2023-06-07 07:01:43 INFO: POS REMOVAL\n",
      "2023-06-07 07:01:43 INFO: DOCUMENT TRANSFORMER\n",
      "2023-06-07 07:01:43 INFO: POS REMOVAL\n",
      "2023-06-07 07:01:43 INFO: DOCUMENT TRANSFORMER\n",
      "2023-06-07 07:01:44 INFO: POS REMOVAL\n",
      "2023-06-07 07:01:44 INFO: DOCUMENT TRANSFORMER\n",
      "2023-06-07 07:01:44 INFO: POS REMOVAL\n",
      "2023-06-07 07:01:44 INFO: DOCUMENT TRANSFORMER\n",
      "2023-06-07 07:01:44 INFO: POS REMOVAL\n",
      "2023-06-07 07:01:45 INFO: DOCUMENT TRANSFORMER\n",
      "2023-06-07 07:01:45 INFO: POS REMOVAL\n",
      "2023-06-07 07:01:45 INFO: DOCUMENT TRANSFORMER\n",
      "2023-06-07 07:01:45 INFO: POS REMOVAL\n",
      "2023-06-07 07:01:45 INFO: DOCUMENT TRANSFORMER\n",
      "2023-06-07 07:01:46 INFO: POS REMOVAL\n",
      "2023-06-07 07:01:46 INFO: DOCUMENT TRANSFORMER\n",
      "2023-06-07 07:01:46 INFO: POS REMOVAL\n",
      "2023-06-07 07:01:46 INFO: DOCUMENT TRANSFORMER\n",
      "2023-06-07 07:01:47 INFO: POS REMOVAL\n",
      "2023-06-07 07:01:47 INFO: DOCUMENT TRANSFORMER\n",
      "2023-06-07 07:01:47 INFO: POS REMOVAL\n",
      "2023-06-07 07:01:47 INFO: DOCUMENT TRANSFORMER\n",
      "2023-06-07 07:01:48 INFO: POS REMOVAL\n",
      "2023-06-07 07:01:48 INFO: DOCUMENT TRANSFORMER\n",
      "2023-06-07 07:01:48 INFO: POS REMOVAL\n",
      "2023-06-07 07:01:48 INFO: DOCUMENT TRANSFORMER\n",
      "2023-06-07 07:01:49 INFO: POS REMOVAL\n",
      "2023-06-07 07:01:49 INFO: DOCUMENT TRANSFORMER\n",
      "2023-06-07 07:01:50 INFO: POS REMOVAL\n",
      "2023-06-07 07:01:50 INFO: DOCUMENT TRANSFORMER\n",
      "2023-06-07 07:01:50 INFO: POS REMOVAL\n",
      "2023-06-07 07:01:50 INFO: DOCUMENT TRANSFORMER\n",
      "2023-06-07 07:01:50 INFO: POS REMOVAL\n",
      "2023-06-07 07:01:51 INFO: DOCUMENT TRANSFORMER\n",
      "2023-06-07 07:01:51 INFO: POS REMOVAL\n",
      "2023-06-07 07:01:51 INFO: DOCUMENT TRANSFORMER\n",
      "2023-06-07 07:01:51 INFO: POS REMOVAL\n",
      "2023-06-07 07:01:51 INFO: DOCUMENT TRANSFORMER\n",
      "2023-06-07 07:01:51 INFO: POS REMOVAL\n",
      "2023-06-07 07:01:51 INFO: DOCUMENT TRANSFORMER\n",
      "2023-06-07 07:01:52 INFO: POS REMOVAL\n",
      "2023-06-07 07:01:52 INFO: DOCUMENT TRANSFORMER\n",
      "2023-06-07 07:01:52 INFO: POS REMOVAL\n",
      "2023-06-07 07:01:52 INFO: DOCUMENT TRANSFORMER\n",
      "2023-06-07 07:01:52 INFO: POS REMOVAL\n",
      "2023-06-07 07:01:52 INFO: DOCUMENT TRANSFORMER\n",
      "2023-06-07 07:01:52 INFO: POS REMOVAL\n",
      "2023-06-07 07:01:52 INFO: DOCUMENT TRANSFORMER\n",
      "2023-06-07 07:01:53 INFO: POS REMOVAL\n",
      "2023-06-07 07:01:53 INFO: DOCUMENT TRANSFORMER\n",
      "2023-06-07 07:01:53 INFO: POS REMOVAL\n",
      "2023-06-07 07:01:53 INFO: DOCUMENT TRANSFORMER\n",
      "2023-06-07 07:01:53 INFO: POS REMOVAL\n",
      "2023-06-07 07:01:53 INFO: DOCUMENT TRANSFORMER\n",
      "2023-06-07 07:01:53 INFO: POS REMOVAL\n",
      "2023-06-07 07:01:53 INFO: DOCUMENT TRANSFORMER\n",
      "2023-06-07 07:01:54 INFO: POS REMOVAL\n",
      "2023-06-07 07:01:54 INFO: DOCUMENT TRANSFORMER\n",
      "2023-06-07 07:01:54 INFO: POS REMOVAL\n",
      "2023-06-07 07:01:54 INFO: DOCUMENT TRANSFORMER\n",
      "2023-06-07 07:01:54 INFO: POS REMOVAL\n",
      "2023-06-07 07:01:54 INFO: DOCUMENT TRANSFORMER\n",
      "2023-06-07 07:01:54 INFO: POS REMOVAL\n",
      "2023-06-07 07:01:54 INFO: DOCUMENT TRANSFORMER\n",
      "2023-06-07 07:01:55 INFO: POS REMOVAL\n",
      "2023-06-07 07:01:55 INFO: DOCUMENT TRANSFORMER\n",
      "2023-06-07 07:01:55 INFO: POS REMOVAL\n",
      "2023-06-07 07:01:55 INFO: DOCUMENT TRANSFORMER\n",
      "2023-06-07 07:01:55 INFO: POS REMOVAL\n",
      "2023-06-07 07:01:55 INFO: DOCUMENT TRANSFORMER\n",
      "2023-06-07 07:01:55 INFO: POS REMOVAL\n",
      "2023-06-07 07:01:55 INFO: DOCUMENT TRANSFORMER\n",
      "2023-06-07 07:01:56 INFO: POS REMOVAL\n",
      "2023-06-07 07:01:56 INFO: DOCUMENT TRANSFORMER\n",
      "2023-06-07 07:01:56 INFO: POS REMOVAL\n",
      "2023-06-07 07:01:56 INFO: DOCUMENT TRANSFORMER\n",
      "2023-06-07 07:01:56 INFO: POS REMOVAL\n",
      "2023-06-07 07:01:56 INFO: DOCUMENT TRANSFORMER\n",
      "2023-06-07 07:01:56 INFO: POS REMOVAL\n",
      "2023-06-07 07:01:56 INFO: DOCUMENT TRANSFORMER\n",
      "2023-06-07 07:01:57 INFO: POS REMOVAL\n",
      "2023-06-07 07:01:57 INFO: DOCUMENT TRANSFORMER\n",
      "2023-06-07 07:01:57 INFO: POS REMOVAL\n",
      "2023-06-07 07:01:57 INFO: DOCUMENT TRANSFORMER\n",
      "2023-06-07 07:01:57 INFO: POS REMOVAL\n",
      "2023-06-07 07:01:57 INFO: DOCUMENT TRANSFORMER\n",
      "2023-06-07 07:01:57 INFO: POS REMOVAL\n",
      "2023-06-07 07:01:57 INFO: DOCUMENT TRANSFORMER\n",
      "2023-06-07 07:01:58 INFO: POS REMOVAL\n",
      "2023-06-07 07:01:58 INFO: DOCUMENT TRANSFORMER\n",
      "2023-06-07 07:01:58 INFO: POS REMOVAL\n",
      "2023-06-07 07:01:58 INFO: DOCUMENT TRANSFORMER\n",
      "2023-06-07 07:01:58 INFO: POS REMOVAL\n",
      "2023-06-07 07:01:58 INFO: DOCUMENT TRANSFORMER\n",
      "2023-06-07 07:01:58 INFO: POS REMOVAL\n",
      "2023-06-07 07:01:58 INFO: DOCUMENT TRANSFORMER\n",
      "2023-06-07 07:01:59 INFO: POS REMOVAL\n",
      "2023-06-07 07:01:59 INFO: DOCUMENT TRANSFORMER\n",
      "2023-06-07 07:01:59 INFO: POS REMOVAL\n",
      "2023-06-07 07:01:59 INFO: DOCUMENT TRANSFORMER\n",
      "2023-06-07 07:01:59 INFO: POS REMOVAL\n",
      "2023-06-07 07:01:59 INFO: DOCUMENT TRANSFORMER\n",
      "2023-06-07 07:01:59 INFO: POS REMOVAL\n",
      "2023-06-07 07:02:00 INFO: DOCUMENT TRANSFORMER\n",
      "2023-06-07 07:02:00 INFO: POS REMOVAL\n",
      "2023-06-07 07:02:00 INFO: DOCUMENT TRANSFORMER\n",
      "2023-06-07 07:02:00 INFO: POS REMOVAL\n",
      "2023-06-07 07:02:00 INFO: DOCUMENT TRANSFORMER\n",
      "2023-06-07 07:02:00 INFO: POS REMOVAL\n",
      "2023-06-07 07:02:00 INFO: DOCUMENT TRANSFORMER\n",
      "2023-06-07 07:02:01 INFO: POS REMOVAL\n",
      "2023-06-07 07:02:01 INFO: DOCUMENT TRANSFORMER\n",
      "2023-06-07 07:02:01 INFO: POS REMOVAL\n",
      "2023-06-07 07:02:01 INFO: DOCUMENT TRANSFORMER\n",
      "2023-06-07 07:02:01 INFO: POS REMOVAL\n",
      "2023-06-07 07:02:01 INFO: DOCUMENT TRANSFORMER\n",
      "2023-06-07 07:02:02 INFO: POS REMOVAL\n",
      "2023-06-07 07:02:02 INFO: DOCUMENT TRANSFORMER\n",
      "2023-06-07 07:02:02 INFO: POS REMOVAL\n",
      "2023-06-07 07:02:02 INFO: DOCUMENT TRANSFORMER\n",
      "2023-06-07 07:02:03 INFO: POS REMOVAL\n",
      "2023-06-07 07:02:03 INFO: DOCUMENT TRANSFORMER\n",
      "2023-06-07 07:02:03 INFO: POS REMOVAL\n",
      "2023-06-07 07:02:03 INFO: DOCUMENT TRANSFORMER\n",
      "2023-06-07 07:02:03 INFO: POS REMOVAL\n",
      "2023-06-07 07:02:03 INFO: DOCUMENT TRANSFORMER\n",
      "2023-06-07 07:02:03 INFO: POS REMOVAL\n",
      "2023-06-07 07:02:03 INFO: DOCUMENT TRANSFORMER\n",
      "2023-06-07 07:02:04 INFO: POS REMOVAL\n",
      "2023-06-07 07:02:04 INFO: DOCUMENT TRANSFORMER\n",
      "2023-06-07 07:02:04 INFO: POS REMOVAL\n",
      "2023-06-07 07:02:04 INFO: DOCUMENT TRANSFORMER\n",
      "2023-06-07 07:02:05 INFO: POS REMOVAL\n",
      "2023-06-07 07:02:05 INFO: DOCUMENT TRANSFORMER\n",
      "2023-06-07 07:02:05 INFO: POS REMOVAL\n",
      "2023-06-07 07:02:05 INFO: DOCUMENT TRANSFORMER\n",
      "2023-06-07 07:02:05 INFO: POS REMOVAL\n",
      "2023-06-07 07:02:05 INFO: DOCUMENT TRANSFORMER\n",
      "2023-06-07 07:02:05 INFO: POS REMOVAL\n",
      "2023-06-07 07:02:06 INFO: DOCUMENT TRANSFORMER\n",
      "2023-06-07 07:02:06 INFO: POS REMOVAL\n",
      "2023-06-07 07:02:06 INFO: DOCUMENT TRANSFORMER\n",
      "2023-06-07 07:02:06 INFO: POS REMOVAL\n",
      "2023-06-07 07:02:06 INFO: DOCUMENT TRANSFORMER\n",
      "2023-06-07 07:02:07 INFO: POS REMOVAL\n",
      "2023-06-07 07:02:07 INFO: DOCUMENT TRANSFORMER\n",
      "2023-06-07 07:02:07 INFO: POS REMOVAL\n",
      "2023-06-07 07:02:07 INFO: DOCUMENT TRANSFORMER\n",
      "2023-06-07 07:02:07 INFO: POS REMOVAL\n",
      "2023-06-07 07:02:07 INFO: DOCUMENT TRANSFORMER\n",
      "2023-06-07 07:02:08 INFO: POS REMOVAL\n",
      "2023-06-07 07:02:08 INFO: DOCUMENT TRANSFORMER\n",
      "2023-06-07 07:02:08 INFO: POS REMOVAL\n",
      "2023-06-07 07:02:08 INFO: DOCUMENT TRANSFORMER\n",
      "2023-06-07 07:02:08 INFO: POS REMOVAL\n",
      "2023-06-07 07:02:08 INFO: DOCUMENT TRANSFORMER\n",
      "2023-06-07 07:02:09 INFO: POS REMOVAL\n",
      "2023-06-07 07:02:09 INFO: DOCUMENT TRANSFORMER\n",
      "2023-06-07 07:02:09 INFO: POS REMOVAL\n",
      "2023-06-07 07:02:09 INFO: DOCUMENT TRANSFORMER\n",
      "2023-06-07 07:02:10 INFO: POS REMOVAL\n",
      "2023-06-07 07:02:10 INFO: DOCUMENT TRANSFORMER\n",
      "2023-06-07 07:02:10 INFO: POS REMOVAL\n",
      "2023-06-07 07:02:10 INFO: DOCUMENT TRANSFORMER\n",
      "2023-06-07 07:02:10 INFO: POS REMOVAL\n",
      "2023-06-07 07:02:10 INFO: DOCUMENT TRANSFORMER\n",
      "2023-06-07 07:02:10 INFO: POS REMOVAL\n",
      "2023-06-07 07:02:10 INFO: DOCUMENT TRANSFORMER\n",
      "2023-06-07 07:02:11 INFO: POS REMOVAL\n",
      "2023-06-07 07:02:11 INFO: DOCUMENT TRANSFORMER\n",
      "2023-06-07 07:02:11 INFO: POS REMOVAL\n",
      "2023-06-07 07:02:11 INFO: DOCUMENT TRANSFORMER\n",
      "2023-06-07 07:02:12 INFO: POS REMOVAL\n",
      "2023-06-07 07:02:12 INFO: DOCUMENT TRANSFORMER\n",
      "2023-06-07 07:02:12 INFO: POS REMOVAL\n",
      "2023-06-07 07:02:12 INFO: DOCUMENT TRANSFORMER\n",
      "2023-06-07 07:02:12 INFO: POS REMOVAL\n",
      "2023-06-07 07:02:12 INFO: DOCUMENT TRANSFORMER\n",
      "2023-06-07 07:02:12 INFO: POS REMOVAL\n",
      "2023-06-07 07:02:12 INFO: DOCUMENT TRANSFORMER\n",
      "2023-06-07 07:02:13 INFO: POS REMOVAL\n",
      "2023-06-07 07:02:13 INFO: DOCUMENT TRANSFORMER\n",
      "2023-06-07 07:02:13 INFO: POS REMOVAL\n",
      "2023-06-07 07:02:13 INFO: DOCUMENT TRANSFORMER\n",
      "2023-06-07 07:02:14 INFO: POS REMOVAL\n",
      "2023-06-07 07:02:14 INFO: DOCUMENT TRANSFORMER\n",
      "2023-06-07 07:02:14 INFO: POS REMOVAL\n",
      "2023-06-07 07:02:14 INFO: DOCUMENT TRANSFORMER\n",
      "2023-06-07 07:02:14 INFO: POS REMOVAL\n",
      "2023-06-07 07:02:14 INFO: DOCUMENT TRANSFORMER\n",
      "2023-06-07 07:02:15 INFO: POS REMOVAL\n",
      "2023-06-07 07:02:15 INFO: DOCUMENT TRANSFORMER\n",
      "2023-06-07 07:02:15 INFO: POS REMOVAL\n",
      "2023-06-07 07:02:15 INFO: DOCUMENT TRANSFORMER\n",
      "2023-06-07 07:02:15 INFO: POS REMOVAL\n",
      "2023-06-07 07:02:15 INFO: DOCUMENT TRANSFORMER\n",
      "2023-06-07 07:02:16 INFO: POS REMOVAL\n",
      "2023-06-07 07:02:16 INFO: DOCUMENT TRANSFORMER\n",
      "2023-06-07 07:02:16 INFO: POS REMOVAL\n",
      "2023-06-07 07:02:16 INFO: DOCUMENT TRANSFORMER\n",
      "2023-06-07 07:02:17 INFO: POS REMOVAL\n",
      "2023-06-07 07:02:17 INFO: DOCUMENT TRANSFORMER\n",
      "2023-06-07 07:02:17 INFO: POS REMOVAL\n",
      "2023-06-07 07:02:17 INFO: DOCUMENT TRANSFORMER\n",
      "2023-06-07 07:02:17 INFO: POS REMOVAL\n",
      "2023-06-07 07:02:17 INFO: DOCUMENT TRANSFORMER\n",
      "2023-06-07 07:02:17 INFO: POS REMOVAL\n",
      "2023-06-07 07:02:17 INFO: DOCUMENT TRANSFORMER\n",
      "2023-06-07 07:02:18 INFO: POS REMOVAL\n",
      "2023-06-07 07:02:18 INFO: DOCUMENT TRANSFORMER\n",
      "2023-06-07 07:02:18 INFO: POS REMOVAL\n",
      "2023-06-07 07:02:18 INFO: DOCUMENT TRANSFORMER\n",
      "2023-06-07 07:02:18 INFO: POS REMOVAL\n",
      "2023-06-07 07:02:18 INFO: DOCUMENT TRANSFORMER\n",
      "2023-06-07 07:02:18 INFO: POS REMOVAL\n",
      "2023-06-07 07:02:18 INFO: DOCUMENT TRANSFORMER\n",
      "2023-06-07 07:02:19 INFO: POS REMOVAL\n",
      "2023-06-07 07:02:19 INFO: DOCUMENT TRANSFORMER\n",
      "2023-06-07 07:02:19 INFO: POS REMOVAL\n",
      "2023-06-07 07:02:19 INFO: DOCUMENT TRANSFORMER\n",
      "2023-06-07 07:02:19 INFO: POS REMOVAL\n",
      "2023-06-07 07:02:19 INFO: DOCUMENT TRANSFORMER\n",
      "2023-06-07 07:02:19 INFO: POS REMOVAL\n",
      "2023-06-07 07:02:19 INFO: DOCUMENT TRANSFORMER\n",
      "2023-06-07 07:02:20 INFO: POS REMOVAL\n",
      "2023-06-07 07:02:20 INFO: DOCUMENT TRANSFORMER\n",
      "2023-06-07 07:02:20 INFO: POS REMOVAL\n",
      "2023-06-07 07:02:20 INFO: DOCUMENT TRANSFORMER\n",
      "2023-06-07 07:02:20 INFO: POS REMOVAL\n",
      "2023-06-07 07:02:20 INFO: DOCUMENT TRANSFORMER\n",
      "2023-06-07 07:02:20 INFO: POS REMOVAL\n",
      "2023-06-07 07:02:20 INFO: DOCUMENT TRANSFORMER\n",
      "2023-06-07 07:02:21 INFO: POS REMOVAL\n",
      "2023-06-07 07:02:21 INFO: DOCUMENT TRANSFORMER\n",
      "2023-06-07 07:02:21 INFO: POS REMOVAL\n",
      "2023-06-07 07:02:21 INFO: DOCUMENT TRANSFORMER\n",
      "2023-06-07 07:02:21 INFO: POS REMOVAL\n",
      "2023-06-07 07:02:21 INFO: DOCUMENT TRANSFORMER\n",
      "2023-06-07 07:02:21 INFO: POS REMOVAL\n",
      "2023-06-07 07:02:22 INFO: DOCUMENT TRANSFORMER\n",
      "2023-06-07 07:02:22 INFO: POS REMOVAL\n",
      "2023-06-07 07:02:22 INFO: DOCUMENT TRANSFORMER\n",
      "2023-06-07 07:02:22 INFO: POS REMOVAL\n",
      "2023-06-07 07:02:22 INFO: DOCUMENT TRANSFORMER\n",
      "2023-06-07 07:02:22 INFO: POS REMOVAL\n",
      "2023-06-07 07:02:22 INFO: DOCUMENT TRANSFORMER\n",
      "2023-06-07 07:02:22 INFO: POS REMOVAL\n",
      "2023-06-07 07:02:23 INFO: DOCUMENT TRANSFORMER\n",
      "2023-06-07 07:02:23 INFO: POS REMOVAL\n",
      "2023-06-07 07:02:23 INFO: DOCUMENT TRANSFORMER\n",
      "2023-06-07 07:02:23 INFO: POS REMOVAL\n",
      "2023-06-07 07:02:23 INFO: DOCUMENT TRANSFORMER\n",
      "2023-06-07 07:02:23 INFO: POS REMOVAL\n",
      "2023-06-07 07:02:23 INFO: DOCUMENT TRANSFORMER\n",
      "2023-06-07 07:02:24 INFO: POS REMOVAL\n",
      "2023-06-07 07:02:24 INFO: DOCUMENT TRANSFORMER\n",
      "2023-06-07 07:02:24 INFO: POS REMOVAL\n",
      "2023-06-07 07:02:24 INFO: DOCUMENT TRANSFORMER\n",
      "2023-06-07 07:02:24 INFO: POS REMOVAL\n",
      "2023-06-07 07:02:24 INFO: DOCUMENT TRANSFORMER\n",
      "2023-06-07 07:02:25 INFO: POS REMOVAL\n",
      "2023-06-07 07:02:25 INFO: DOCUMENT TRANSFORMER\n",
      "2023-06-07 07:02:25 INFO: POS REMOVAL\n",
      "2023-06-07 07:02:25 INFO: DOCUMENT TRANSFORMER\n",
      "2023-06-07 07:02:25 INFO: POS REMOVAL\n",
      "2023-06-07 07:02:25 INFO: DOCUMENT TRANSFORMER\n",
      "2023-06-07 07:02:25 INFO: POS REMOVAL\n",
      "2023-06-07 07:02:25 INFO: DOCUMENT TRANSFORMER\n",
      "2023-06-07 07:02:26 INFO: POS REMOVAL\n",
      "2023-06-07 07:02:26 INFO: DOCUMENT TRANSFORMER\n",
      "2023-06-07 07:02:26 INFO: POS REMOVAL\n",
      "2023-06-07 07:02:26 INFO: DOCUMENT TRANSFORMER\n",
      "2023-06-07 07:02:26 INFO: POS REMOVAL\n",
      "2023-06-07 07:02:26 INFO: DOCUMENT TRANSFORMER\n",
      "2023-06-07 07:02:26 INFO: POS REMOVAL\n",
      "2023-06-07 07:02:26 INFO: DOCUMENT TRANSFORMER\n",
      "2023-06-07 07:02:27 INFO: POS REMOVAL\n",
      "2023-06-07 07:02:27 INFO: DOCUMENT TRANSFORMER\n",
      "2023-06-07 07:02:27 INFO: POS REMOVAL\n",
      "2023-06-07 07:02:27 INFO: DOCUMENT TRANSFORMER\n",
      "2023-06-07 07:02:27 INFO: POS REMOVAL\n",
      "2023-06-07 07:02:27 INFO: DOCUMENT TRANSFORMER\n",
      "2023-06-07 07:02:28 INFO: POS REMOVAL\n",
      "2023-06-07 07:02:28 INFO: DOCUMENT TRANSFORMER\n",
      "2023-06-07 07:02:28 INFO: POS REMOVAL\n",
      "2023-06-07 07:02:28 INFO: DOCUMENT TRANSFORMER\n",
      "2023-06-07 07:02:28 INFO: POS REMOVAL\n",
      "2023-06-07 07:02:28 INFO: DOCUMENT TRANSFORMER\n",
      "2023-06-07 07:02:29 INFO: POS REMOVAL\n",
      "2023-06-07 07:02:29 INFO: DOCUMENT TRANSFORMER\n",
      "2023-06-07 07:02:29 INFO: POS REMOVAL\n",
      "2023-06-07 07:02:29 INFO: DOCUMENT TRANSFORMER\n",
      "2023-06-07 07:02:29 INFO: POS REMOVAL\n",
      "2023-06-07 07:02:29 INFO: DOCUMENT TRANSFORMER\n",
      "2023-06-07 07:02:29 INFO: POS REMOVAL\n",
      "2023-06-07 07:02:29 INFO: DOCUMENT TRANSFORMER\n",
      "2023-06-07 07:02:30 INFO: POS REMOVAL\n",
      "2023-06-07 07:02:30 INFO: DOCUMENT TRANSFORMER\n",
      "2023-06-07 07:02:30 INFO: POS REMOVAL\n",
      "2023-06-07 07:02:30 INFO: DOCUMENT TRANSFORMER\n",
      "2023-06-07 07:02:30 INFO: POS REMOVAL\n",
      "2023-06-07 07:02:30 INFO: DOCUMENT TRANSFORMER\n",
      "2023-06-07 07:02:31 INFO: POS REMOVAL\n",
      "2023-06-07 07:02:31 INFO: DOCUMENT TRANSFORMER\n",
      "2023-06-07 07:02:31 INFO: POS REMOVAL\n",
      "2023-06-07 07:02:31 INFO: DOCUMENT TRANSFORMER\n",
      "2023-06-07 07:02:31 INFO: POS REMOVAL\n",
      "2023-06-07 07:02:31 INFO: DOCUMENT TRANSFORMER\n",
      "2023-06-07 07:02:32 INFO: POS REMOVAL\n",
      "2023-06-07 07:02:32 INFO: DOCUMENT TRANSFORMER\n",
      "2023-06-07 07:02:32 INFO: POS REMOVAL\n",
      "2023-06-07 07:02:32 INFO: DOCUMENT TRANSFORMER\n",
      "2023-06-07 07:02:32 INFO: POS REMOVAL\n",
      "2023-06-07 07:02:32 INFO: DOCUMENT TRANSFORMER\n",
      "2023-06-07 07:02:32 INFO: POS REMOVAL\n",
      "2023-06-07 07:02:33 INFO: DOCUMENT TRANSFORMER\n",
      "2023-06-07 07:02:33 INFO: POS REMOVAL\n",
      "2023-06-07 07:02:33 INFO: DOCUMENT TRANSFORMER\n",
      "2023-06-07 07:02:33 INFO: POS REMOVAL\n",
      "2023-06-07 07:02:33 INFO: DOCUMENT TRANSFORMER\n",
      "2023-06-07 07:02:34 INFO: POS REMOVAL\n",
      "2023-06-07 07:02:34 INFO: DOCUMENT TRANSFORMER\n",
      "2023-06-07 07:02:34 INFO: POS REMOVAL\n",
      "2023-06-07 07:02:34 INFO: DOCUMENT TRANSFORMER\n",
      "2023-06-07 07:02:34 INFO: POS REMOVAL\n",
      "2023-06-07 07:02:34 INFO: DOCUMENT TRANSFORMER\n",
      "2023-06-07 07:02:34 INFO: POS REMOVAL\n",
      "2023-06-07 07:02:34 INFO: DOCUMENT TRANSFORMER\n",
      "2023-06-07 07:02:35 INFO: POS REMOVAL\n",
      "2023-06-07 07:02:35 INFO: DOCUMENT TRANSFORMER\n",
      "2023-06-07 07:02:35 INFO: POS REMOVAL\n",
      "2023-06-07 07:02:35 INFO: DOCUMENT TRANSFORMER\n",
      "2023-06-07 07:02:35 INFO: POS REMOVAL\n",
      "2023-06-07 07:02:35 INFO: DOCUMENT TRANSFORMER\n",
      "2023-06-07 07:02:36 INFO: POS REMOVAL\n",
      "2023-06-07 07:02:36 INFO: DOCUMENT TRANSFORMER\n",
      "2023-06-07 07:02:36 INFO: POS REMOVAL\n",
      "2023-06-07 07:02:36 INFO: DOCUMENT TRANSFORMER\n",
      "2023-06-07 07:02:36 INFO: POS REMOVAL\n",
      "2023-06-07 07:02:36 INFO: DOCUMENT TRANSFORMER\n",
      "2023-06-07 07:02:37 INFO: POS REMOVAL\n",
      "2023-06-07 07:02:37 INFO: DOCUMENT TRANSFORMER\n",
      "2023-06-07 07:02:37 INFO: POS REMOVAL\n",
      "2023-06-07 07:02:37 INFO: DOCUMENT TRANSFORMER\n",
      "2023-06-07 07:02:37 INFO: POS REMOVAL\n",
      "2023-06-07 07:02:37 INFO: DOCUMENT TRANSFORMER\n",
      "2023-06-07 07:02:37 INFO: POS REMOVAL\n",
      "2023-06-07 07:02:38 INFO: DOCUMENT TRANSFORMER\n",
      "2023-06-07 07:02:38 INFO: POS REMOVAL\n",
      "2023-06-07 07:02:38 INFO: DOCUMENT TRANSFORMER\n",
      "2023-06-07 07:02:38 INFO: POS REMOVAL\n",
      "2023-06-07 07:02:38 INFO: DOCUMENT TRANSFORMER\n",
      "2023-06-07 07:02:38 INFO: POS REMOVAL\n",
      "2023-06-07 07:02:38 INFO: DOCUMENT TRANSFORMER\n",
      "2023-06-07 07:02:39 INFO: POS REMOVAL\n",
      "2023-06-07 07:02:39 INFO: DOCUMENT TRANSFORMER\n",
      "2023-06-07 07:02:39 INFO: POS REMOVAL\n",
      "2023-06-07 07:02:39 INFO: DOCUMENT TRANSFORMER\n",
      "2023-06-07 07:02:39 INFO: POS REMOVAL\n",
      "2023-06-07 07:02:39 INFO: DOCUMENT TRANSFORMER\n",
      "2023-06-07 07:02:40 INFO: POS REMOVAL\n",
      "2023-06-07 07:02:40 INFO: DOCUMENT TRANSFORMER\n",
      "2023-06-07 07:02:40 INFO: POS REMOVAL\n",
      "2023-06-07 07:02:40 INFO: DOCUMENT TRANSFORMER\n",
      "2023-06-07 07:02:40 INFO: POS REMOVAL\n",
      "2023-06-07 07:02:40 INFO: DOCUMENT TRANSFORMER\n",
      "2023-06-07 07:02:40 INFO: POS REMOVAL\n",
      "2023-06-07 07:02:40 INFO: DOCUMENT TRANSFORMER\n",
      "2023-06-07 07:02:41 INFO: POS REMOVAL\n",
      "2023-06-07 07:02:41 INFO: DOCUMENT TRANSFORMER\n",
      "2023-06-07 07:02:41 INFO: POS REMOVAL\n",
      "2023-06-07 07:02:41 INFO: DOCUMENT TRANSFORMER\n",
      "2023-06-07 07:02:41 INFO: POS REMOVAL\n",
      "2023-06-07 07:02:41 INFO: DOCUMENT TRANSFORMER\n",
      "2023-06-07 07:02:41 INFO: POS REMOVAL\n",
      "2023-06-07 07:02:41 INFO: DOCUMENT TRANSFORMER\n",
      "2023-06-07 07:02:42 INFO: POS REMOVAL\n",
      "2023-06-07 07:02:42 INFO: DOCUMENT TRANSFORMER\n",
      "2023-06-07 07:02:42 INFO: POS REMOVAL\n",
      "2023-06-07 07:02:42 INFO: DOCUMENT TRANSFORMER\n",
      "2023-06-07 07:02:43 INFO: POS REMOVAL\n",
      "2023-06-07 07:02:43 INFO: DOCUMENT TRANSFORMER\n",
      "2023-06-07 07:02:43 INFO: POS REMOVAL\n",
      "2023-06-07 07:02:43 INFO: DOCUMENT TRANSFORMER\n",
      "2023-06-07 07:02:43 INFO: POS REMOVAL\n",
      "2023-06-07 07:02:43 INFO: DOCUMENT TRANSFORMER\n",
      "2023-06-07 07:02:43 INFO: POS REMOVAL\n",
      "2023-06-07 07:02:43 INFO: DOCUMENT TRANSFORMER\n",
      "2023-06-07 07:02:44 INFO: POS REMOVAL\n",
      "2023-06-07 07:02:44 INFO: DOCUMENT TRANSFORMER\n",
      "2023-06-07 07:02:44 INFO: POS REMOVAL\n",
      "2023-06-07 07:02:44 INFO: DOCUMENT TRANSFORMER\n",
      "2023-06-07 07:02:44 INFO: POS REMOVAL\n",
      "2023-06-07 07:02:44 INFO: DOCUMENT TRANSFORMER\n",
      "2023-06-07 07:02:44 INFO: POS REMOVAL\n",
      "2023-06-07 07:02:44 INFO: DOCUMENT TRANSFORMER\n",
      "2023-06-07 07:02:45 INFO: POS REMOVAL\n",
      "2023-06-07 07:02:45 INFO: DOCUMENT TRANSFORMER\n",
      "2023-06-07 07:02:45 INFO: POS REMOVAL\n",
      "2023-06-07 07:02:45 INFO: DOCUMENT TRANSFORMER\n",
      "2023-06-07 07:02:45 INFO: POS REMOVAL\n",
      "2023-06-07 07:02:45 INFO: DOCUMENT TRANSFORMER\n",
      "2023-06-07 07:02:45 INFO: POS REMOVAL\n",
      "2023-06-07 07:02:45 INFO: DOCUMENT TRANSFORMER\n",
      "2023-06-07 07:02:46 INFO: POS REMOVAL\n",
      "2023-06-07 07:02:46 INFO: DOCUMENT TRANSFORMER\n",
      "2023-06-07 07:02:46 INFO: POS REMOVAL\n",
      "2023-06-07 07:02:46 INFO: DOCUMENT TRANSFORMER\n",
      "2023-06-07 07:02:46 INFO: POS REMOVAL\n",
      "2023-06-07 07:02:46 INFO: DOCUMENT TRANSFORMER\n",
      "2023-06-07 07:02:46 INFO: POS REMOVAL\n",
      "2023-06-07 07:02:47 INFO: DOCUMENT TRANSFORMER\n",
      "2023-06-07 07:02:47 INFO: POS REMOVAL\n",
      "2023-06-07 07:02:47 INFO: DOCUMENT TRANSFORMER\n",
      "2023-06-07 07:02:47 INFO: POS REMOVAL\n",
      "2023-06-07 07:02:47 INFO: DOCUMENT TRANSFORMER\n",
      "2023-06-07 07:02:47 INFO: POS REMOVAL\n",
      "2023-06-07 07:02:47 INFO: DOCUMENT TRANSFORMER\n",
      "2023-06-07 07:02:48 INFO: POS REMOVAL\n",
      "2023-06-07 07:02:48 INFO: DOCUMENT TRANSFORMER\n",
      "2023-06-07 07:02:48 INFO: POS REMOVAL\n",
      "2023-06-07 07:02:48 INFO: DOCUMENT TRANSFORMER\n",
      "2023-06-07 07:02:48 INFO: POS REMOVAL\n",
      "2023-06-07 07:02:48 INFO: DOCUMENT TRANSFORMER\n",
      "2023-06-07 07:02:48 INFO: POS REMOVAL\n",
      "2023-06-07 07:02:48 INFO: DOCUMENT TRANSFORMER\n",
      "2023-06-07 07:02:49 INFO: POS REMOVAL\n",
      "2023-06-07 07:02:49 INFO: DOCUMENT TRANSFORMER\n",
      "2023-06-07 07:02:49 INFO: POS REMOVAL\n",
      "2023-06-07 07:02:49 INFO: DOCUMENT TRANSFORMER\n",
      "2023-06-07 07:02:49 INFO: POS REMOVAL\n",
      "2023-06-07 07:02:49 INFO: DOCUMENT TRANSFORMER\n",
      "2023-06-07 07:02:50 INFO: POS REMOVAL\n",
      "2023-06-07 07:02:50 INFO: DOCUMENT TRANSFORMER\n",
      "2023-06-07 07:02:50 INFO: POS REMOVAL\n",
      "2023-06-07 07:02:50 INFO: DOCUMENT TRANSFORMER\n",
      "2023-06-07 07:02:50 INFO: POS REMOVAL\n",
      "2023-06-07 07:02:50 INFO: DOCUMENT TRANSFORMER\n",
      "2023-06-07 07:02:51 INFO: POS REMOVAL\n",
      "2023-06-07 07:02:51 INFO: DOCUMENT TRANSFORMER\n",
      "2023-06-07 07:02:51 INFO: POS REMOVAL\n",
      "2023-06-07 07:02:51 INFO: DOCUMENT TRANSFORMER\n",
      "2023-06-07 07:02:51 INFO: POS REMOVAL\n",
      "2023-06-07 07:02:51 INFO: DOCUMENT TRANSFORMER\n",
      "2023-06-07 07:02:52 INFO: POS REMOVAL\n",
      "2023-06-07 07:02:52 INFO: DOCUMENT TRANSFORMER\n",
      "2023-06-07 07:02:52 INFO: POS REMOVAL\n",
      "2023-06-07 07:02:52 INFO: DOCUMENT TRANSFORMER\n",
      "2023-06-07 07:02:53 INFO: POS REMOVAL\n",
      "2023-06-07 07:02:53 INFO: DOCUMENT TRANSFORMER\n",
      "2023-06-07 07:02:53 INFO: POS REMOVAL\n",
      "2023-06-07 07:02:53 INFO: DOCUMENT TRANSFORMER\n",
      "2023-06-07 07:02:53 INFO: POS REMOVAL\n",
      "2023-06-07 07:02:53 INFO: DOCUMENT TRANSFORMER\n",
      "2023-06-07 07:02:53 INFO: POS REMOVAL\n",
      "2023-06-07 07:02:53 INFO: DOCUMENT TRANSFORMER\n",
      "2023-06-07 07:02:54 INFO: POS REMOVAL\n",
      "2023-06-07 07:02:54 INFO: DOCUMENT TRANSFORMER\n",
      "2023-06-07 07:02:54 INFO: POS REMOVAL\n",
      "2023-06-07 07:02:54 INFO: DOCUMENT TRANSFORMER\n",
      "2023-06-07 07:02:55 INFO: POS REMOVAL\n",
      "2023-06-07 07:02:55 INFO: DOCUMENT TRANSFORMER\n",
      "2023-06-07 07:02:55 INFO: POS REMOVAL\n",
      "2023-06-07 07:02:55 INFO: DOCUMENT TRANSFORMER\n",
      "2023-06-07 07:02:55 INFO: POS REMOVAL\n",
      "2023-06-07 07:02:55 INFO: DOCUMENT TRANSFORMER\n",
      "2023-06-07 07:02:56 INFO: POS REMOVAL\n",
      "2023-06-07 07:02:56 INFO: DOCUMENT TRANSFORMER\n",
      "2023-06-07 07:02:56 INFO: POS REMOVAL\n",
      "2023-06-07 07:02:56 INFO: DOCUMENT TRANSFORMER\n",
      "2023-06-07 07:02:56 INFO: POS REMOVAL\n",
      "2023-06-07 07:02:56 INFO: DOCUMENT TRANSFORMER\n",
      "2023-06-07 07:02:57 INFO: POS REMOVAL\n",
      "2023-06-07 07:02:57 INFO: DOCUMENT TRANSFORMER\n",
      "2023-06-07 07:02:57 INFO: POS REMOVAL\n",
      "2023-06-07 07:02:57 INFO: DOCUMENT TRANSFORMER\n",
      "2023-06-07 07:02:58 INFO: POS REMOVAL\n",
      "2023-06-07 07:02:58 INFO: DOCUMENT TRANSFORMER\n",
      "2023-06-07 07:02:58 INFO: POS REMOVAL\n",
      "2023-06-07 07:02:58 INFO: DOCUMENT TRANSFORMER\n",
      "2023-06-07 07:02:58 INFO: POS REMOVAL\n",
      "2023-06-07 07:02:58 INFO: DOCUMENT TRANSFORMER\n",
      "2023-06-07 07:02:58 INFO: POS REMOVAL\n",
      "2023-06-07 07:02:58 INFO: DOCUMENT TRANSFORMER\n",
      "2023-06-07 07:02:59 INFO: POS REMOVAL\n",
      "2023-06-07 07:02:59 INFO: DOCUMENT TRANSFORMER\n",
      "2023-06-07 07:02:59 INFO: POS REMOVAL\n",
      "2023-06-07 07:02:59 INFO: DOCUMENT TRANSFORMER\n",
      "2023-06-07 07:03:00 INFO: POS REMOVAL\n",
      "2023-06-07 07:03:00 INFO: DOCUMENT TRANSFORMER\n",
      "2023-06-07 07:03:00 INFO: POS REMOVAL\n",
      "2023-06-07 07:03:00 INFO: DOCUMENT TRANSFORMER\n",
      "2023-06-07 07:03:00 INFO: POS REMOVAL\n",
      "2023-06-07 07:03:00 INFO: DOCUMENT TRANSFORMER\n",
      "2023-06-07 07:03:00 INFO: POS REMOVAL\n",
      "2023-06-07 07:03:01 INFO: DOCUMENT TRANSFORMER\n",
      "2023-06-07 07:03:01 INFO: POS REMOVAL\n",
      "2023-06-07 07:03:01 INFO: DOCUMENT TRANSFORMER\n",
      "2023-06-07 07:03:01 INFO: POS REMOVAL\n",
      "2023-06-07 07:03:01 INFO: DOCUMENT TRANSFORMER\n",
      "2023-06-07 07:03:02 INFO: POS REMOVAL\n",
      "2023-06-07 07:03:02 INFO: DOCUMENT TRANSFORMER\n",
      "2023-06-07 07:03:02 INFO: POS REMOVAL\n",
      "2023-06-07 07:03:02 INFO: DOCUMENT TRANSFORMER\n",
      "2023-06-07 07:03:02 INFO: POS REMOVAL\n",
      "2023-06-07 07:03:02 INFO: DOCUMENT TRANSFORMER\n",
      "2023-06-07 07:03:03 INFO: POS REMOVAL\n",
      "2023-06-07 07:03:03 INFO: DOCUMENT TRANSFORMER\n",
      "2023-06-07 07:03:03 INFO: POS REMOVAL\n",
      "2023-06-07 07:03:03 INFO: DOCUMENT TRANSFORMER\n",
      "2023-06-07 07:03:03 INFO: POS REMOVAL\n",
      "2023-06-07 07:03:03 INFO: DOCUMENT TRANSFORMER\n",
      "2023-06-07 07:03:04 INFO: POS REMOVAL\n",
      "2023-06-07 07:03:04 INFO: DOCUMENT TRANSFORMER\n",
      "2023-06-07 07:03:04 INFO: POS REMOVAL\n",
      "2023-06-07 07:03:04 INFO: DOCUMENT TRANSFORMER\n",
      "2023-06-07 07:03:04 INFO: POS REMOVAL\n",
      "2023-06-07 07:03:04 INFO: DOCUMENT TRANSFORMER\n",
      "2023-06-07 07:03:04 INFO: POS REMOVAL\n",
      "2023-06-07 07:03:04 INFO: DOCUMENT TRANSFORMER\n",
      "2023-06-07 07:03:05 INFO: POS REMOVAL\n",
      "2023-06-07 07:03:05 INFO: DOCUMENT TRANSFORMER\n",
      "2023-06-07 07:03:05 INFO: POS REMOVAL\n",
      "2023-06-07 07:03:05 INFO: DOCUMENT TRANSFORMER\n",
      "2023-06-07 07:03:05 INFO: POS REMOVAL\n",
      "2023-06-07 07:03:05 INFO: DOCUMENT TRANSFORMER\n",
      "2023-06-07 07:03:05 INFO: POS REMOVAL\n",
      "2023-06-07 07:03:05 INFO: DOCUMENT TRANSFORMER\n",
      "2023-06-07 07:03:06 INFO: POS REMOVAL\n",
      "2023-06-07 07:03:06 INFO: DOCUMENT TRANSFORMER\n",
      "2023-06-07 07:03:06 INFO: POS REMOVAL\n",
      "2023-06-07 07:03:06 INFO: DOCUMENT TRANSFORMER\n",
      "2023-06-07 07:03:06 INFO: POS REMOVAL\n",
      "2023-06-07 07:03:06 INFO: DOCUMENT TRANSFORMER\n",
      "2023-06-07 07:03:06 INFO: POS REMOVAL\n",
      "2023-06-07 07:03:06 INFO: DOCUMENT TRANSFORMER\n",
      "2023-06-07 07:03:07 INFO: POS REMOVAL\n",
      "2023-06-07 07:03:07 INFO: DOCUMENT TRANSFORMER\n",
      "2023-06-07 07:03:07 INFO: POS REMOVAL\n",
      "2023-06-07 07:03:07 INFO: DOCUMENT TRANSFORMER\n",
      "2023-06-07 07:03:07 INFO: POS REMOVAL\n",
      "2023-06-07 07:03:07 INFO: DOCUMENT TRANSFORMER\n",
      "2023-06-07 07:03:07 INFO: POS REMOVAL\n",
      "2023-06-07 07:03:07 INFO: DOCUMENT TRANSFORMER\n",
      "2023-06-07 07:03:08 INFO: POS REMOVAL\n",
      "2023-06-07 07:03:08 INFO: DOCUMENT TRANSFORMER\n",
      "2023-06-07 07:03:08 INFO: POS REMOVAL\n",
      "2023-06-07 07:03:08 INFO: DOCUMENT TRANSFORMER\n",
      "2023-06-07 07:03:08 INFO: POS REMOVAL\n",
      "2023-06-07 07:03:08 INFO: DOCUMENT TRANSFORMER\n",
      "2023-06-07 07:03:08 INFO: POS REMOVAL\n",
      "2023-06-07 07:03:09 INFO: DOCUMENT TRANSFORMER\n",
      "2023-06-07 07:03:09 INFO: POS REMOVAL\n",
      "2023-06-07 07:03:09 INFO: DOCUMENT TRANSFORMER\n",
      "2023-06-07 07:03:09 INFO: POS REMOVAL\n",
      "2023-06-07 07:03:10 INFO: DOCUMENT TRANSFORMER\n",
      "2023-06-07 07:03:10 INFO: POS REMOVAL\n",
      "2023-06-07 07:03:10 INFO: DOCUMENT TRANSFORMER\n",
      "2023-06-07 07:03:10 INFO: POS REMOVAL\n",
      "2023-06-07 07:03:10 INFO: DOCUMENT TRANSFORMER\n",
      "2023-06-07 07:03:10 INFO: POS REMOVAL\n",
      "2023-06-07 07:03:10 INFO: DOCUMENT TRANSFORMER\n",
      "2023-06-07 07:03:10 INFO: POS REMOVAL\n",
      "2023-06-07 07:03:11 INFO: DOCUMENT TRANSFORMER\n",
      "2023-06-07 07:03:11 INFO: POS REMOVAL\n",
      "2023-06-07 07:03:11 INFO: DOCUMENT TRANSFORMER\n",
      "2023-06-07 07:03:11 INFO: POS REMOVAL\n",
      "2023-06-07 07:03:11 INFO: DOCUMENT TRANSFORMER\n",
      "2023-06-07 07:03:11 INFO: POS REMOVAL\n",
      "2023-06-07 07:03:11 INFO: DOCUMENT TRANSFORMER\n",
      "2023-06-07 07:03:12 INFO: POS REMOVAL\n",
      "2023-06-07 07:03:12 INFO: DOCUMENT TRANSFORMER\n",
      "2023-06-07 07:03:12 INFO: POS REMOVAL\n",
      "2023-06-07 07:03:12 INFO: DOCUMENT TRANSFORMER\n",
      "2023-06-07 07:03:12 INFO: POS REMOVAL\n",
      "2023-06-07 07:03:12 INFO: DOCUMENT TRANSFORMER\n",
      "2023-06-07 07:03:12 INFO: POS REMOVAL\n",
      "2023-06-07 07:03:13 INFO: DOCUMENT TRANSFORMER\n",
      "2023-06-07 07:03:13 INFO: POS REMOVAL\n",
      "2023-06-07 07:03:13 INFO: DOCUMENT TRANSFORMER\n",
      "2023-06-07 07:03:13 INFO: POS REMOVAL\n",
      "2023-06-07 07:03:13 INFO: DOCUMENT TRANSFORMER\n",
      "2023-06-07 07:03:13 INFO: POS REMOVAL\n",
      "2023-06-07 07:03:13 INFO: DOCUMENT TRANSFORMER\n",
      "2023-06-07 07:03:14 INFO: POS REMOVAL\n",
      "2023-06-07 07:03:14 INFO: DOCUMENT TRANSFORMER\n",
      "2023-06-07 07:03:14 INFO: POS REMOVAL\n",
      "2023-06-07 07:03:14 INFO: DOCUMENT TRANSFORMER\n",
      "2023-06-07 07:03:14 INFO: POS REMOVAL\n",
      "2023-06-07 07:03:14 INFO: DOCUMENT TRANSFORMER\n",
      "2023-06-07 07:03:14 INFO: POS REMOVAL\n",
      "2023-06-07 07:03:14 INFO: DOCUMENT TRANSFORMER\n",
      "2023-06-07 07:03:15 INFO: POS REMOVAL\n",
      "2023-06-07 07:03:15 INFO: DOCUMENT TRANSFORMER\n",
      "2023-06-07 07:03:15 INFO: POS REMOVAL\n",
      "2023-06-07 07:03:15 INFO: DOCUMENT TRANSFORMER\n",
      "2023-06-07 07:03:15 INFO: POS REMOVAL\n",
      "2023-06-07 07:03:15 INFO: DOCUMENT TRANSFORMER\n",
      "2023-06-07 07:03:15 INFO: POS REMOVAL\n",
      "2023-06-07 07:03:16 INFO: DOCUMENT TRANSFORMER\n",
      "2023-06-07 07:03:16 INFO: POS REMOVAL\n",
      "2023-06-07 07:03:16 INFO: DOCUMENT TRANSFORMER\n",
      "2023-06-07 07:03:16 INFO: POS REMOVAL\n",
      "2023-06-07 07:03:16 INFO: DOCUMENT TRANSFORMER\n",
      "2023-06-07 07:03:17 INFO: POS REMOVAL\n",
      "2023-06-07 07:03:17 INFO: DOCUMENT TRANSFORMER\n",
      "2023-06-07 07:03:17 INFO: POS REMOVAL\n",
      "2023-06-07 07:03:17 INFO: DOCUMENT TRANSFORMER\n",
      "2023-06-07 07:03:17 INFO: POS REMOVAL\n",
      "2023-06-07 07:03:17 INFO: DOCUMENT TRANSFORMER\n",
      "2023-06-07 07:03:17 INFO: POS REMOVAL\n",
      "2023-06-07 07:03:17 INFO: DOCUMENT TRANSFORMER\n",
      "2023-06-07 07:03:18 INFO: POS REMOVAL\n",
      "2023-06-07 07:03:18 INFO: DOCUMENT TRANSFORMER\n",
      "2023-06-07 07:03:18 INFO: POS REMOVAL\n",
      "2023-06-07 07:03:18 INFO: DOCUMENT TRANSFORMER\n",
      "2023-06-07 07:03:18 INFO: POS REMOVAL\n",
      "2023-06-07 07:03:19 INFO: DOCUMENT TRANSFORMER\n",
      "2023-06-07 07:03:19 INFO: POS REMOVAL\n",
      "2023-06-07 07:03:19 INFO: DOCUMENT TRANSFORMER\n",
      "2023-06-07 07:03:19 INFO: POS REMOVAL\n",
      "2023-06-07 07:03:19 INFO: DOCUMENT TRANSFORMER\n",
      "2023-06-07 07:03:19 INFO: POS REMOVAL\n",
      "2023-06-07 07:03:19 INFO: DOCUMENT TRANSFORMER\n",
      "2023-06-07 07:03:20 INFO: POS REMOVAL\n",
      "2023-06-07 07:03:20 INFO: DOCUMENT TRANSFORMER\n",
      "2023-06-07 07:03:20 INFO: POS REMOVAL\n",
      "2023-06-07 07:03:20 INFO: DOCUMENT TRANSFORMER\n",
      "2023-06-07 07:03:20 INFO: POS REMOVAL\n",
      "2023-06-07 07:03:20 INFO: DOCUMENT TRANSFORMER\n",
      "2023-06-07 07:03:21 INFO: POS REMOVAL\n",
      "2023-06-07 07:03:21 INFO: DOCUMENT TRANSFORMER\n",
      "2023-06-07 07:03:21 INFO: POS REMOVAL\n",
      "2023-06-07 07:03:21 INFO: DOCUMENT TRANSFORMER\n",
      "2023-06-07 07:03:21 INFO: POS REMOVAL\n",
      "2023-06-07 07:03:21 INFO: DOCUMENT TRANSFORMER\n",
      "2023-06-07 07:03:22 INFO: POS REMOVAL\n",
      "2023-06-07 07:03:22 INFO: DOCUMENT TRANSFORMER\n",
      "2023-06-07 07:03:22 INFO: POS REMOVAL\n",
      "2023-06-07 07:03:22 INFO: DOCUMENT TRANSFORMER\n",
      "2023-06-07 07:03:22 INFO: POS REMOVAL\n",
      "2023-06-07 07:03:22 INFO: DOCUMENT TRANSFORMER\n",
      "2023-06-07 07:03:22 INFO: POS REMOVAL\n",
      "2023-06-07 07:03:22 INFO: DOCUMENT TRANSFORMER\n",
      "2023-06-07 07:03:23 INFO: POS REMOVAL\n",
      "2023-06-07 07:03:23 INFO: DOCUMENT TRANSFORMER\n",
      "2023-06-07 07:03:23 INFO: POS REMOVAL\n",
      "2023-06-07 07:03:23 INFO: DOCUMENT TRANSFORMER\n",
      "2023-06-07 07:03:24 INFO: POS REMOVAL\n",
      "2023-06-07 07:03:24 INFO: DOCUMENT TRANSFORMER\n",
      "2023-06-07 07:03:24 INFO: POS REMOVAL\n",
      "2023-06-07 07:03:24 INFO: DOCUMENT TRANSFORMER\n",
      "2023-06-07 07:03:24 INFO: POS REMOVAL\n",
      "2023-06-07 07:03:24 INFO: DOCUMENT TRANSFORMER\n",
      "2023-06-07 07:03:24 INFO: POS REMOVAL\n",
      "2023-06-07 07:03:24 INFO: DOCUMENT TRANSFORMER\n",
      "2023-06-07 07:03:25 INFO: POS REMOVAL\n",
      "2023-06-07 07:03:25 INFO: DOCUMENT TRANSFORMER\n",
      "2023-06-07 07:03:25 INFO: POS REMOVAL\n",
      "2023-06-07 07:03:25 INFO: DOCUMENT TRANSFORMER\n",
      "2023-06-07 07:03:25 INFO: POS REMOVAL\n",
      "2023-06-07 07:03:25 INFO: DOCUMENT TRANSFORMER\n",
      "2023-06-07 07:03:26 INFO: POS REMOVAL\n",
      "2023-06-07 07:03:26 INFO: DOCUMENT TRANSFORMER\n",
      "2023-06-07 07:03:26 INFO: POS REMOVAL\n",
      "2023-06-07 07:03:26 INFO: DOCUMENT TRANSFORMER\n",
      "2023-06-07 07:03:26 INFO: POS REMOVAL\n",
      "2023-06-07 07:03:26 INFO: DOCUMENT TRANSFORMER\n",
      "2023-06-07 07:03:27 INFO: POS REMOVAL\n",
      "2023-06-07 07:03:27 INFO: DOCUMENT TRANSFORMER\n",
      "2023-06-07 07:03:27 INFO: POS REMOVAL\n",
      "2023-06-07 07:03:27 INFO: DOCUMENT TRANSFORMER\n",
      "2023-06-07 07:03:27 INFO: POS REMOVAL\n",
      "2023-06-07 07:03:27 INFO: DOCUMENT TRANSFORMER\n",
      "2023-06-07 07:03:28 INFO: POS REMOVAL\n",
      "2023-06-07 07:03:28 INFO: DOCUMENT TRANSFORMER\n",
      "2023-06-07 07:03:28 INFO: POS REMOVAL\n",
      "2023-06-07 07:03:28 INFO: DOCUMENT TRANSFORMER\n",
      "2023-06-07 07:03:28 INFO: POS REMOVAL\n",
      "2023-06-07 07:03:28 INFO: DOCUMENT TRANSFORMER\n",
      "2023-06-07 07:03:29 INFO: POS REMOVAL\n",
      "2023-06-07 07:03:29 INFO: DOCUMENT TRANSFORMER\n",
      "2023-06-07 07:03:29 INFO: POS REMOVAL\n",
      "2023-06-07 07:03:29 INFO: DOCUMENT TRANSFORMER\n",
      "2023-06-07 07:03:30 INFO: POS REMOVAL\n",
      "2023-06-07 07:03:30 INFO: DOCUMENT TRANSFORMER\n",
      "2023-06-07 07:03:30 INFO: POS REMOVAL\n",
      "2023-06-07 07:03:30 INFO: DOCUMENT TRANSFORMER\n",
      "2023-06-07 07:03:30 INFO: POS REMOVAL\n",
      "2023-06-07 07:03:30 INFO: DOCUMENT TRANSFORMER\n",
      "2023-06-07 07:03:31 INFO: POS REMOVAL\n",
      "2023-06-07 07:03:31 INFO: DOCUMENT TRANSFORMER\n",
      "2023-06-07 07:03:31 INFO: POS REMOVAL\n",
      "2023-06-07 07:03:31 INFO: DOCUMENT TRANSFORMER\n",
      "2023-06-07 07:03:32 INFO: POS REMOVAL\n",
      "2023-06-07 07:03:32 INFO: DOCUMENT TRANSFORMER\n",
      "2023-06-07 07:03:32 INFO: POS REMOVAL\n",
      "2023-06-07 07:03:32 INFO: DOCUMENT TRANSFORMER\n",
      "2023-06-07 07:03:32 INFO: POS REMOVAL\n",
      "2023-06-07 07:03:32 INFO: DOCUMENT TRANSFORMER\n",
      "2023-06-07 07:03:33 INFO: POS REMOVAL\n",
      "2023-06-07 07:03:33 INFO: DOCUMENT TRANSFORMER\n",
      "2023-06-07 07:03:34 INFO: POS REMOVAL\n",
      "2023-06-07 07:03:34 INFO: DOCUMENT TRANSFORMER\n",
      "2023-06-07 07:03:34 INFO: POS REMOVAL\n",
      "2023-06-07 07:03:34 INFO: DOCUMENT TRANSFORMER\n",
      "2023-06-07 07:03:34 INFO: POS REMOVAL\n",
      "2023-06-07 07:03:35 INFO: DOCUMENT TRANSFORMER\n",
      "2023-06-07 07:03:35 INFO: POS REMOVAL\n",
      "2023-06-07 07:03:35 INFO: DOCUMENT TRANSFORMER\n",
      "2023-06-07 07:03:35 INFO: POS REMOVAL\n",
      "2023-06-07 07:03:35 INFO: DOCUMENT TRANSFORMER\n",
      "2023-06-07 07:03:36 INFO: POS REMOVAL\n",
      "2023-06-07 07:03:36 INFO: DOCUMENT TRANSFORMER\n",
      "2023-06-07 07:03:36 INFO: POS REMOVAL\n",
      "2023-06-07 07:03:37 INFO: DOCUMENT TRANSFORMER\n",
      "2023-06-07 07:03:37 INFO: POS REMOVAL\n",
      "2023-06-07 07:03:37 INFO: DOCUMENT TRANSFORMER\n",
      "2023-06-07 07:03:38 INFO: POS REMOVAL\n",
      "2023-06-07 07:03:38 INFO: DOCUMENT TRANSFORMER\n",
      "2023-06-07 07:03:38 INFO: POS REMOVAL\n",
      "2023-06-07 07:03:38 INFO: DOCUMENT TRANSFORMER\n",
      "2023-06-07 07:03:39 INFO: POS REMOVAL\n",
      "2023-06-07 07:03:39 INFO: DOCUMENT TRANSFORMER\n",
      "2023-06-07 07:03:39 INFO: POS REMOVAL\n",
      "2023-06-07 07:03:39 INFO: DOCUMENT TRANSFORMER\n",
      "2023-06-07 07:03:40 INFO: POS REMOVAL\n",
      "2023-06-07 07:03:40 INFO: DOCUMENT TRANSFORMER\n",
      "2023-06-07 07:03:40 INFO: POS REMOVAL\n",
      "2023-06-07 07:03:40 INFO: DOCUMENT TRANSFORMER\n",
      "2023-06-07 07:03:41 INFO: POS REMOVAL\n",
      "2023-06-07 07:03:41 INFO: DOCUMENT TRANSFORMER\n",
      "2023-06-07 07:03:41 INFO: POS REMOVAL\n",
      "2023-06-07 07:03:41 INFO: DOCUMENT TRANSFORMER\n",
      "2023-06-07 07:03:42 INFO: POS REMOVAL\n",
      "2023-06-07 07:03:42 INFO: DOCUMENT TRANSFORMER\n",
      "2023-06-07 07:03:42 INFO: POS REMOVAL\n",
      "2023-06-07 07:03:42 INFO: DOCUMENT TRANSFORMER\n",
      "2023-06-07 07:03:43 INFO: POS REMOVAL\n",
      "2023-06-07 07:03:43 INFO: DOCUMENT TRANSFORMER\n",
      "2023-06-07 07:03:43 INFO: POS REMOVAL\n",
      "2023-06-07 07:03:44 INFO: DOCUMENT TRANSFORMER\n",
      "2023-06-07 07:03:44 INFO: POS REMOVAL\n",
      "2023-06-07 07:03:44 INFO: DOCUMENT TRANSFORMER\n",
      "2023-06-07 07:03:45 INFO: POS REMOVAL\n",
      "2023-06-07 07:03:45 INFO: DOCUMENT TRANSFORMER\n",
      "2023-06-07 07:03:45 INFO: POS REMOVAL\n",
      "2023-06-07 07:03:45 INFO: DOCUMENT TRANSFORMER\n",
      "2023-06-07 07:03:46 INFO: POS REMOVAL\n",
      "2023-06-07 07:03:46 INFO: DOCUMENT TRANSFORMER\n",
      "2023-06-07 07:03:46 INFO: POS REMOVAL\n",
      "2023-06-07 07:03:46 INFO: DOCUMENT TRANSFORMER\n",
      "2023-06-07 07:03:47 INFO: POS REMOVAL\n",
      "2023-06-07 07:03:47 INFO: DOCUMENT TRANSFORMER\n",
      "2023-06-07 07:03:47 INFO: POS REMOVAL\n",
      "2023-06-07 07:03:47 INFO: DOCUMENT TRANSFORMER\n",
      "2023-06-07 07:03:48 INFO: POS REMOVAL\n",
      "2023-06-07 07:03:48 INFO: DOCUMENT TRANSFORMER\n",
      "2023-06-07 07:03:48 INFO: POS REMOVAL\n",
      "2023-06-07 07:03:48 INFO: DOCUMENT TRANSFORMER\n",
      "2023-06-07 07:03:48 INFO: POS REMOVAL\n",
      "2023-06-07 07:03:48 INFO: DOCUMENT TRANSFORMER\n",
      "2023-06-07 07:03:49 INFO: POS REMOVAL\n",
      "2023-06-07 07:03:49 INFO: DOCUMENT TRANSFORMER\n",
      "2023-06-07 07:03:49 INFO: POS REMOVAL\n",
      "2023-06-07 07:03:49 INFO: DOCUMENT TRANSFORMER\n",
      "2023-06-07 07:03:50 INFO: POS REMOVAL\n",
      "2023-06-07 07:03:50 INFO: DOCUMENT TRANSFORMER\n",
      "2023-06-07 07:03:50 INFO: POS REMOVAL\n",
      "2023-06-07 07:03:50 INFO: DOCUMENT TRANSFORMER\n",
      "2023-06-07 07:03:50 INFO: POS REMOVAL\n",
      "2023-06-07 07:03:50 INFO: DOCUMENT TRANSFORMER\n",
      "2023-06-07 07:03:51 INFO: POS REMOVAL\n",
      "2023-06-07 07:03:51 INFO: DOCUMENT TRANSFORMER\n",
      "2023-06-07 07:03:51 INFO: POS REMOVAL\n",
      "2023-06-07 07:03:51 INFO: DOCUMENT TRANSFORMER\n",
      "2023-06-07 07:03:52 INFO: POS REMOVAL\n",
      "2023-06-07 07:03:52 INFO: DOCUMENT TRANSFORMER\n",
      "2023-06-07 07:03:52 INFO: POS REMOVAL\n",
      "2023-06-07 07:03:52 INFO: DOCUMENT TRANSFORMER\n",
      "2023-06-07 07:03:53 INFO: POS REMOVAL\n",
      "2023-06-07 07:03:53 INFO: DOCUMENT TRANSFORMER\n",
      "2023-06-07 07:03:53 INFO: POS REMOVAL\n",
      "2023-06-07 07:03:53 INFO: DOCUMENT TRANSFORMER\n",
      "2023-06-07 07:03:53 INFO: POS REMOVAL\n",
      "2023-06-07 07:03:53 INFO: DOCUMENT TRANSFORMER\n",
      "2023-06-07 07:03:54 INFO: POS REMOVAL\n",
      "2023-06-07 07:03:54 INFO: DOCUMENT TRANSFORMER\n",
      "2023-06-07 07:03:55 INFO: POS REMOVAL\n",
      "2023-06-07 07:03:55 INFO: DOCUMENT TRANSFORMER\n",
      "2023-06-07 07:03:55 INFO: POS REMOVAL\n",
      "2023-06-07 07:03:55 INFO: DOCUMENT TRANSFORMER\n",
      "2023-06-07 07:03:56 INFO: POS REMOVAL\n",
      "2023-06-07 07:03:56 INFO: DOCUMENT TRANSFORMER\n",
      "2023-06-07 07:03:56 INFO: POS REMOVAL\n",
      "2023-06-07 07:03:56 INFO: DOCUMENT TRANSFORMER\n",
      "2023-06-07 07:03:57 INFO: POS REMOVAL\n",
      "2023-06-07 07:03:57 INFO: DOCUMENT TRANSFORMER\n",
      "2023-06-07 07:03:58 INFO: POS REMOVAL\n",
      "2023-06-07 07:03:58 INFO: DOCUMENT TRANSFORMER\n",
      "2023-06-07 07:03:58 INFO: POS REMOVAL\n",
      "2023-06-07 07:03:58 INFO: DOCUMENT TRANSFORMER\n",
      "2023-06-07 07:03:59 INFO: POS REMOVAL\n",
      "2023-06-07 07:03:59 INFO: DOCUMENT TRANSFORMER\n",
      "2023-06-07 07:03:59 INFO: POS REMOVAL\n",
      "2023-06-07 07:03:59 INFO: DOCUMENT TRANSFORMER\n",
      "2023-06-07 07:04:00 INFO: POS REMOVAL\n",
      "2023-06-07 07:04:00 INFO: DOCUMENT TRANSFORMER\n",
      "2023-06-07 07:04:00 INFO: POS REMOVAL\n",
      "2023-06-07 07:04:00 INFO: DOCUMENT TRANSFORMER\n",
      "2023-06-07 07:04:01 INFO: POS REMOVAL\n",
      "2023-06-07 07:04:01 INFO: DOCUMENT TRANSFORMER\n",
      "2023-06-07 07:04:01 INFO: POS REMOVAL\n",
      "2023-06-07 07:04:01 INFO: DOCUMENT TRANSFORMER\n",
      "2023-06-07 07:04:02 INFO: POS REMOVAL\n",
      "2023-06-07 07:04:02 INFO: DOCUMENT TRANSFORMER\n",
      "2023-06-07 07:04:02 INFO: POS REMOVAL\n",
      "2023-06-07 07:04:02 INFO: DOCUMENT TRANSFORMER\n",
      "2023-06-07 07:04:03 INFO: POS REMOVAL\n",
      "2023-06-07 07:04:03 INFO: DOCUMENT TRANSFORMER\n",
      "2023-06-07 07:04:03 INFO: POS REMOVAL\n",
      "2023-06-07 07:04:03 INFO: DOCUMENT TRANSFORMER\n",
      "2023-06-07 07:04:04 INFO: POS REMOVAL\n",
      "2023-06-07 07:04:04 INFO: DOCUMENT TRANSFORMER\n",
      "2023-06-07 07:04:04 INFO: POS REMOVAL\n",
      "2023-06-07 07:04:04 INFO: DOCUMENT TRANSFORMER\n",
      "2023-06-07 07:04:05 INFO: POS REMOVAL\n",
      "2023-06-07 07:04:05 INFO: DOCUMENT TRANSFORMER\n",
      "2023-06-07 07:04:06 INFO: POS REMOVAL\n",
      "2023-06-07 07:04:06 INFO: DOCUMENT TRANSFORMER\n",
      "2023-06-07 07:04:06 INFO: POS REMOVAL\n",
      "2023-06-07 07:04:06 INFO: DOCUMENT TRANSFORMER\n",
      "2023-06-07 07:04:07 INFO: POS REMOVAL\n",
      "2023-06-07 07:04:07 INFO: DOCUMENT TRANSFORMER\n",
      "2023-06-07 07:04:08 INFO: POS REMOVAL\n",
      "2023-06-07 07:04:08 INFO: DOCUMENT TRANSFORMER\n",
      "2023-06-07 07:04:09 INFO: POS REMOVAL\n",
      "2023-06-07 07:04:09 INFO: DOCUMENT TRANSFORMER\n",
      "2023-06-07 07:04:09 INFO: POS REMOVAL\n",
      "2023-06-07 07:04:09 INFO: DOCUMENT TRANSFORMER\n",
      "2023-06-07 07:04:10 INFO: POS REMOVAL\n",
      "2023-06-07 07:04:10 INFO: DOCUMENT TRANSFORMER\n",
      "2023-06-07 07:04:11 INFO: POS REMOVAL\n",
      "2023-06-07 07:04:11 INFO: DOCUMENT TRANSFORMER\n",
      "2023-06-07 07:04:11 INFO: POS REMOVAL\n",
      "2023-06-07 07:04:11 INFO: DOCUMENT TRANSFORMER\n",
      "2023-06-07 07:04:12 INFO: POS REMOVAL\n",
      "2023-06-07 07:04:12 INFO: DOCUMENT TRANSFORMER\n",
      "2023-06-07 07:04:13 INFO: POS REMOVAL\n",
      "2023-06-07 07:04:13 INFO: DOCUMENT TRANSFORMER\n",
      "2023-06-07 07:04:13 INFO: POS REMOVAL\n",
      "2023-06-07 07:04:14 INFO: DOCUMENT TRANSFORMER\n",
      "2023-06-07 07:04:14 INFO: POS REMOVAL\n",
      "2023-06-07 07:04:14 INFO: DOCUMENT TRANSFORMER\n",
      "2023-06-07 07:04:15 INFO: POS REMOVAL\n",
      "2023-06-07 07:04:15 INFO: DOCUMENT TRANSFORMER\n",
      "2023-06-07 07:04:16 INFO: POS REMOVAL\n",
      "2023-06-07 07:04:16 INFO: DOCUMENT TRANSFORMER\n",
      "2023-06-07 07:04:16 INFO: POS REMOVAL\n",
      "2023-06-07 07:04:16 INFO: DOCUMENT TRANSFORMER\n",
      "2023-06-07 07:04:17 INFO: POS REMOVAL\n",
      "2023-06-07 07:04:17 INFO: DOCUMENT TRANSFORMER\n",
      "2023-06-07 07:04:18 INFO: POS REMOVAL\n",
      "2023-06-07 07:04:18 INFO: DOCUMENT TRANSFORMER\n",
      "2023-06-07 07:04:18 INFO: POS REMOVAL\n",
      "2023-06-07 07:04:18 INFO: DOCUMENT TRANSFORMER\n",
      "2023-06-07 07:04:19 INFO: POS REMOVAL\n",
      "2023-06-07 07:04:19 INFO: DOCUMENT TRANSFORMER\n",
      "2023-06-07 07:04:20 INFO: POS REMOVAL\n",
      "2023-06-07 07:04:20 INFO: DOCUMENT TRANSFORMER\n",
      "2023-06-07 07:04:21 INFO: POS REMOVAL\n",
      "2023-06-07 07:04:21 INFO: DOCUMENT TRANSFORMER\n",
      "2023-06-07 07:04:21 INFO: POS REMOVAL\n",
      "2023-06-07 07:04:22 INFO: DOCUMENT TRANSFORMER\n",
      "2023-06-07 07:04:22 INFO: POS REMOVAL\n",
      "2023-06-07 07:04:22 INFO: DOCUMENT TRANSFORMER\n",
      "2023-06-07 07:04:23 INFO: POS REMOVAL\n",
      "2023-06-07 07:04:23 INFO: DOCUMENT TRANSFORMER\n",
      "2023-06-07 07:04:24 INFO: POS REMOVAL\n",
      "2023-06-07 07:04:24 INFO: DOCUMENT TRANSFORMER\n",
      "2023-06-07 07:04:25 INFO: POS REMOVAL\n",
      "2023-06-07 07:04:25 INFO: DOCUMENT TRANSFORMER\n",
      "2023-06-07 07:04:26 INFO: POS REMOVAL\n",
      "2023-06-07 07:04:26 INFO: DOCUMENT TRANSFORMER\n",
      "2023-06-07 07:04:27 INFO: POS REMOVAL\n",
      "2023-06-07 07:04:27 INFO: DOCUMENT TRANSFORMER\n",
      "2023-06-07 07:04:28 INFO: POS REMOVAL\n",
      "2023-06-07 07:04:28 INFO: DOCUMENT TRANSFORMER\n",
      "2023-06-07 07:04:29 INFO: POS REMOVAL\n",
      "2023-06-07 07:04:29 INFO: DOCUMENT TRANSFORMER\n",
      "2023-06-07 07:04:30 INFO: POS REMOVAL\n",
      "2023-06-07 07:04:30 INFO: DOCUMENT TRANSFORMER\n",
      "2023-06-07 07:04:31 INFO: POS REMOVAL\n",
      "2023-06-07 07:04:31 INFO: DOCUMENT TRANSFORMER\n",
      "2023-06-07 07:04:32 INFO: POS REMOVAL\n",
      "2023-06-07 07:04:32 INFO: DOCUMENT TRANSFORMER\n",
      "2023-06-07 07:04:33 INFO: POS REMOVAL\n",
      "2023-06-07 07:04:33 INFO: DOCUMENT TRANSFORMER\n",
      "2023-06-07 07:04:34 INFO: POS REMOVAL\n",
      "2023-06-07 07:04:34 INFO: DOCUMENT TRANSFORMER\n",
      "2023-06-07 07:04:35 INFO: POS REMOVAL\n",
      "2023-06-07 07:04:35 INFO: DOCUMENT TRANSFORMER\n",
      "2023-06-07 07:04:36 INFO: POS REMOVAL\n",
      "2023-06-07 07:04:36 INFO: DOCUMENT TRANSFORMER\n",
      "2023-06-07 07:04:36 INFO: POS REMOVAL\n",
      "2023-06-07 07:04:37 INFO: DOCUMENT TRANSFORMER\n",
      "2023-06-07 07:04:37 INFO: POS REMOVAL\n",
      "2023-06-07 07:04:37 INFO: DOCUMENT TRANSFORMER\n",
      "2023-06-07 07:04:38 INFO: POS REMOVAL\n",
      "2023-06-07 07:04:38 INFO: DOCUMENT TRANSFORMER\n",
      "2023-06-07 07:04:39 INFO: POS REMOVAL\n",
      "2023-06-07 07:04:39 INFO: DOCUMENT TRANSFORMER\n",
      "2023-06-07 07:04:40 INFO: POS REMOVAL\n",
      "2023-06-07 07:04:40 INFO: DOCUMENT TRANSFORMER\n",
      "2023-06-07 07:04:41 INFO: POS REMOVAL\n",
      "2023-06-07 07:04:41 INFO: DOCUMENT TRANSFORMER\n",
      "2023-06-07 07:04:41 INFO: POS REMOVAL\n",
      "2023-06-07 07:04:41 INFO: DOCUMENT TRANSFORMER\n",
      "2023-06-07 07:04:42 INFO: POS REMOVAL\n",
      "2023-06-07 07:04:42 INFO: DOCUMENT TRANSFORMER\n",
      "2023-06-07 07:04:43 INFO: POS REMOVAL\n",
      "2023-06-07 07:04:43 INFO: DOCUMENT TRANSFORMER\n",
      "2023-06-07 07:04:43 INFO: POS REMOVAL\n",
      "2023-06-07 07:04:44 INFO: DOCUMENT TRANSFORMER\n",
      "2023-06-07 07:04:44 INFO: POS REMOVAL\n",
      "2023-06-07 07:04:44 INFO: DOCUMENT TRANSFORMER\n",
      "2023-06-07 07:04:45 INFO: POS REMOVAL\n",
      "2023-06-07 07:04:45 INFO: DOCUMENT TRANSFORMER\n",
      "2023-06-07 07:04:45 INFO: POS REMOVAL\n",
      "2023-06-07 07:04:45 INFO: DOCUMENT TRANSFORMER\n",
      "2023-06-07 07:04:46 INFO: POS REMOVAL\n",
      "2023-06-07 07:04:46 INFO: DOCUMENT TRANSFORMER\n",
      "2023-06-07 07:04:46 INFO: POS REMOVAL\n",
      "2023-06-07 07:04:46 INFO: DOCUMENT TRANSFORMER\n",
      "2023-06-07 07:04:47 INFO: POS REMOVAL\n",
      "2023-06-07 07:04:47 INFO: DOCUMENT TRANSFORMER\n",
      "2023-06-07 07:04:47 INFO: POS REMOVAL\n",
      "2023-06-07 07:04:47 INFO: DOCUMENT TRANSFORMER\n",
      "2023-06-07 07:04:47 INFO: POS REMOVAL\n",
      "2023-06-07 07:04:47 INFO: DOCUMENT TRANSFORMER\n",
      "2023-06-07 07:04:48 INFO: POS REMOVAL\n",
      "2023-06-07 07:04:48 INFO: DOCUMENT TRANSFORMER\n",
      "2023-06-07 07:04:48 INFO: POS REMOVAL\n",
      "2023-06-07 07:04:48 INFO: DOCUMENT TRANSFORMER\n",
      "2023-06-07 07:04:48 INFO: POS REMOVAL\n",
      "2023-06-07 07:04:49 INFO: DOCUMENT TRANSFORMER\n",
      "2023-06-07 07:04:49 INFO: POS REMOVAL\n",
      "2023-06-07 07:04:49 INFO: DOCUMENT TRANSFORMER\n",
      "2023-06-07 07:04:49 INFO: POS REMOVAL\n",
      "2023-06-07 07:04:49 INFO: DOCUMENT TRANSFORMER\n",
      "2023-06-07 07:04:50 INFO: POS REMOVAL\n",
      "2023-06-07 07:04:50 INFO: DOCUMENT TRANSFORMER\n",
      "2023-06-07 07:04:50 INFO: POS REMOVAL\n",
      "2023-06-07 07:04:50 INFO: DOCUMENT TRANSFORMER\n",
      "2023-06-07 07:04:51 INFO: POS REMOVAL\n",
      "2023-06-07 07:04:51 INFO: DOCUMENT TRANSFORMER\n",
      "2023-06-07 07:04:51 INFO: POS REMOVAL\n",
      "2023-06-07 07:04:51 INFO: DOCUMENT TRANSFORMER\n",
      "2023-06-07 07:04:52 INFO: POS REMOVAL\n",
      "2023-06-07 07:04:52 INFO: DOCUMENT TRANSFORMER\n",
      "2023-06-07 07:04:52 INFO: POS REMOVAL\n",
      "2023-06-07 07:04:52 INFO: DOCUMENT TRANSFORMER\n",
      "2023-06-07 07:04:52 INFO: POS REMOVAL\n",
      "2023-06-07 07:04:53 INFO: DOCUMENT TRANSFORMER\n",
      "2023-06-07 07:04:53 INFO: POS REMOVAL\n",
      "2023-06-07 07:04:53 INFO: DOCUMENT TRANSFORMER\n",
      "2023-06-07 07:04:53 INFO: POS REMOVAL\n",
      "2023-06-07 07:04:53 INFO: DOCUMENT TRANSFORMER\n",
      "2023-06-07 07:04:54 INFO: POS REMOVAL\n",
      "2023-06-07 07:04:54 INFO: DOCUMENT TRANSFORMER\n",
      "2023-06-07 07:04:54 INFO: POS REMOVAL\n",
      "2023-06-07 07:04:54 INFO: DOCUMENT TRANSFORMER\n",
      "2023-06-07 07:04:55 INFO: POS REMOVAL\n",
      "2023-06-07 07:04:55 INFO: DOCUMENT TRANSFORMER\n",
      "2023-06-07 07:04:55 INFO: POS REMOVAL\n",
      "2023-06-07 07:04:55 INFO: DOCUMENT TRANSFORMER\n",
      "2023-06-07 07:04:56 INFO: POS REMOVAL\n",
      "2023-06-07 07:04:56 INFO: DOCUMENT TRANSFORMER\n",
      "2023-06-07 07:04:56 INFO: POS REMOVAL\n",
      "2023-06-07 07:04:56 INFO: DOCUMENT TRANSFORMER\n",
      "2023-06-07 07:04:57 INFO: POS REMOVAL\n",
      "2023-06-07 07:04:57 INFO: DOCUMENT TRANSFORMER\n",
      "2023-06-07 07:04:58 INFO: POS REMOVAL\n",
      "2023-06-07 07:04:58 INFO: DOCUMENT TRANSFORMER\n",
      "2023-06-07 07:04:58 INFO: POS REMOVAL\n",
      "2023-06-07 07:04:58 INFO: DOCUMENT TRANSFORMER\n",
      "2023-06-07 07:04:59 INFO: POS REMOVAL\n",
      "2023-06-07 07:04:59 INFO: DOCUMENT TRANSFORMER\n",
      "2023-06-07 07:04:59 INFO: POS REMOVAL\n",
      "2023-06-07 07:04:59 INFO: DOCUMENT TRANSFORMER\n",
      "2023-06-07 07:05:00 INFO: POS REMOVAL\n",
      "2023-06-07 07:05:00 INFO: DOCUMENT TRANSFORMER\n",
      "2023-06-07 07:05:00 INFO: POS REMOVAL\n",
      "2023-06-07 07:05:00 INFO: DOCUMENT TRANSFORMER\n",
      "2023-06-07 07:05:00 INFO: POS REMOVAL\n",
      "2023-06-07 07:05:00 INFO: DOCUMENT TRANSFORMER\n",
      "2023-06-07 07:05:01 INFO: POS REMOVAL\n",
      "2023-06-07 07:05:01 INFO: DOCUMENT TRANSFORMER\n",
      "2023-06-07 07:05:01 INFO: POS REMOVAL\n",
      "2023-06-07 07:05:01 INFO: DOCUMENT TRANSFORMER\n",
      "2023-06-07 07:05:01 INFO: POS REMOVAL\n",
      "2023-06-07 07:05:01 INFO: DOCUMENT TRANSFORMER\n",
      "2023-06-07 07:05:01 INFO: POS REMOVAL\n",
      "2023-06-07 07:05:01 INFO: DOCUMENT TRANSFORMER\n",
      "2023-06-07 07:05:02 INFO: POS REMOVAL\n",
      "2023-06-07 07:05:02 INFO: DOCUMENT TRANSFORMER\n",
      "2023-06-07 07:05:02 INFO: POS REMOVAL\n",
      "2023-06-07 07:05:02 INFO: DOCUMENT TRANSFORMER\n",
      "2023-06-07 07:05:02 INFO: POS REMOVAL\n",
      "2023-06-07 07:05:02 INFO: DOCUMENT TRANSFORMER\n",
      "2023-06-07 07:05:02 INFO: POS REMOVAL\n",
      "2023-06-07 07:05:02 INFO: DOCUMENT TRANSFORMER\n",
      "2023-06-07 07:05:03 INFO: POS REMOVAL\n",
      "2023-06-07 07:05:03 INFO: DOCUMENT TRANSFORMER\n",
      "2023-06-07 07:05:03 INFO: POS REMOVAL\n",
      "2023-06-07 07:05:03 INFO: DOCUMENT TRANSFORMER\n",
      "2023-06-07 07:05:03 INFO: POS REMOVAL\n",
      "2023-06-07 07:05:03 INFO: DOCUMENT TRANSFORMER\n",
      "2023-06-07 07:05:03 INFO: POS REMOVAL\n",
      "2023-06-07 07:05:04 INFO: DOCUMENT TRANSFORMER\n",
      "2023-06-07 07:05:04 INFO: POS REMOVAL\n",
      "2023-06-07 07:05:04 INFO: DOCUMENT TRANSFORMER\n",
      "2023-06-07 07:05:04 INFO: POS REMOVAL\n",
      "2023-06-07 07:05:04 INFO: DOCUMENT TRANSFORMER\n",
      "2023-06-07 07:05:04 INFO: POS REMOVAL\n",
      "2023-06-07 07:05:04 INFO: DOCUMENT TRANSFORMER\n",
      "2023-06-07 07:05:05 INFO: POS REMOVAL\n",
      "2023-06-07 07:05:05 INFO: DOCUMENT TRANSFORMER\n",
      "2023-06-07 07:05:05 INFO: POS REMOVAL\n",
      "2023-06-07 07:05:05 INFO: DOCUMENT TRANSFORMER\n",
      "2023-06-07 07:05:05 INFO: POS REMOVAL\n",
      "2023-06-07 07:05:05 INFO: DOCUMENT TRANSFORMER\n",
      "2023-06-07 07:05:05 INFO: POS REMOVAL\n",
      "2023-06-07 07:05:05 INFO: DOCUMENT TRANSFORMER\n",
      "2023-06-07 07:05:06 INFO: POS REMOVAL\n",
      "2023-06-07 07:05:06 INFO: DOCUMENT TRANSFORMER\n",
      "2023-06-07 07:05:06 INFO: POS REMOVAL\n",
      "2023-06-07 07:05:06 INFO: DOCUMENT TRANSFORMER\n",
      "2023-06-07 07:05:06 INFO: POS REMOVAL\n",
      "2023-06-07 07:05:06 INFO: DOCUMENT TRANSFORMER\n",
      "2023-06-07 07:05:07 INFO: POS REMOVAL\n",
      "2023-06-07 07:05:07 INFO: DOCUMENT TRANSFORMER\n",
      "2023-06-07 07:05:07 INFO: POS REMOVAL\n",
      "2023-06-07 07:05:07 INFO: DOCUMENT TRANSFORMER\n",
      "2023-06-07 07:05:07 INFO: POS REMOVAL\n",
      "2023-06-07 07:05:07 INFO: DOCUMENT TRANSFORMER\n",
      "2023-06-07 07:05:07 INFO: POS REMOVAL\n",
      "2023-06-07 07:05:07 INFO: DOCUMENT TRANSFORMER\n",
      "2023-06-07 07:05:08 INFO: POS REMOVAL\n",
      "2023-06-07 07:05:08 INFO: DOCUMENT TRANSFORMER\n",
      "2023-06-07 07:05:08 INFO: POS REMOVAL\n",
      "2023-06-07 07:05:08 INFO: DOCUMENT TRANSFORMER\n",
      "2023-06-07 07:05:08 INFO: POS REMOVAL\n",
      "2023-06-07 07:05:08 INFO: DOCUMENT TRANSFORMER\n",
      "2023-06-07 07:05:08 INFO: POS REMOVAL\n",
      "2023-06-07 07:05:08 INFO: DOCUMENT TRANSFORMER\n",
      "2023-06-07 07:05:09 INFO: POS REMOVAL\n",
      "2023-06-07 07:05:09 INFO: DOCUMENT TRANSFORMER\n",
      "2023-06-07 07:05:09 INFO: POS REMOVAL\n",
      "2023-06-07 07:05:09 INFO: DOCUMENT TRANSFORMER\n",
      "2023-06-07 07:05:09 INFO: POS REMOVAL\n",
      "2023-06-07 07:05:09 INFO: DOCUMENT TRANSFORMER\n",
      "2023-06-07 07:05:09 INFO: POS REMOVAL\n",
      "2023-06-07 07:05:09 INFO: DOCUMENT TRANSFORMER\n",
      "2023-06-07 07:05:10 INFO: POS REMOVAL\n",
      "2023-06-07 07:05:10 INFO: DOCUMENT TRANSFORMER\n",
      "2023-06-07 07:05:10 INFO: POS REMOVAL\n",
      "2023-06-07 07:05:10 INFO: DOCUMENT TRANSFORMER\n",
      "2023-06-07 07:05:10 INFO: POS REMOVAL\n",
      "2023-06-07 07:05:10 INFO: DOCUMENT TRANSFORMER\n",
      "2023-06-07 07:05:10 INFO: POS REMOVAL\n",
      "2023-06-07 07:05:10 INFO: DOCUMENT TRANSFORMER\n",
      "2023-06-07 07:05:11 INFO: POS REMOVAL\n",
      "2023-06-07 07:05:11 INFO: DOCUMENT TRANSFORMER\n",
      "2023-06-07 07:05:11 INFO: POS REMOVAL\n",
      "2023-06-07 07:05:11 INFO: DOCUMENT TRANSFORMER\n",
      "2023-06-07 07:05:12 INFO: POS REMOVAL\n",
      "2023-06-07 07:05:12 INFO: DOCUMENT TRANSFORMER\n",
      "2023-06-07 07:05:12 INFO: POS REMOVAL\n",
      "2023-06-07 07:05:12 INFO: DOCUMENT TRANSFORMER\n",
      "2023-06-07 07:05:12 INFO: POS REMOVAL\n",
      "2023-06-07 07:05:12 INFO: DOCUMENT TRANSFORMER\n",
      "2023-06-07 07:05:13 INFO: POS REMOVAL\n",
      "2023-06-07 07:05:13 INFO: DOCUMENT TRANSFORMER\n",
      "2023-06-07 07:05:13 INFO: POS REMOVAL\n",
      "2023-06-07 07:05:13 INFO: DOCUMENT TRANSFORMER\n",
      "2023-06-07 07:05:13 INFO: POS REMOVAL\n",
      "2023-06-07 07:05:13 INFO: DOCUMENT TRANSFORMER\n",
      "2023-06-07 07:05:14 INFO: POS REMOVAL\n",
      "2023-06-07 07:05:14 INFO: DOCUMENT TRANSFORMER\n",
      "2023-06-07 07:05:14 INFO: POS REMOVAL\n",
      "2023-06-07 07:05:14 INFO: DOCUMENT TRANSFORMER\n",
      "2023-06-07 07:05:15 INFO: POS REMOVAL\n",
      "2023-06-07 07:05:15 INFO: DOCUMENT TRANSFORMER\n",
      "2023-06-07 07:05:15 INFO: POS REMOVAL\n",
      "2023-06-07 07:05:15 INFO: DOCUMENT TRANSFORMER\n",
      "2023-06-07 07:05:15 INFO: POS REMOVAL\n",
      "2023-06-07 07:05:15 INFO: DOCUMENT TRANSFORMER\n",
      "2023-06-07 07:05:15 INFO: POS REMOVAL\n",
      "2023-06-07 07:05:16 INFO: DOCUMENT TRANSFORMER\n",
      "2023-06-07 07:05:16 INFO: POS REMOVAL\n",
      "2023-06-07 07:05:16 INFO: DOCUMENT TRANSFORMER\n",
      "2023-06-07 07:05:16 INFO: POS REMOVAL\n",
      "2023-06-07 07:05:16 INFO: DOCUMENT TRANSFORMER\n",
      "2023-06-07 07:05:17 INFO: POS REMOVAL\n",
      "2023-06-07 07:05:17 INFO: DOCUMENT TRANSFORMER\n",
      "2023-06-07 07:05:17 INFO: POS REMOVAL\n",
      "2023-06-07 07:05:17 INFO: DOCUMENT TRANSFORMER\n",
      "2023-06-07 07:05:17 INFO: POS REMOVAL\n",
      "2023-06-07 07:05:17 INFO: DOCUMENT TRANSFORMER\n",
      "2023-06-07 07:05:18 INFO: POS REMOVAL\n",
      "2023-06-07 07:05:18 INFO: DOCUMENT TRANSFORMER\n",
      "2023-06-07 07:05:18 INFO: POS REMOVAL\n",
      "2023-06-07 07:05:18 INFO: DOCUMENT TRANSFORMER\n",
      "2023-06-07 07:05:18 INFO: POS REMOVAL\n",
      "2023-06-07 07:05:18 INFO: DOCUMENT TRANSFORMER\n",
      "2023-06-07 07:05:19 INFO: POS REMOVAL\n",
      "2023-06-07 07:05:19 INFO: DOCUMENT TRANSFORMER\n",
      "2023-06-07 07:05:19 INFO: POS REMOVAL\n",
      "2023-06-07 07:05:19 INFO: DOCUMENT TRANSFORMER\n",
      "2023-06-07 07:05:20 INFO: POS REMOVAL\n",
      "2023-06-07 07:05:20 INFO: DOCUMENT TRANSFORMER\n",
      "2023-06-07 07:05:20 INFO: POS REMOVAL\n",
      "2023-06-07 07:05:20 INFO: DOCUMENT TRANSFORMER\n",
      "2023-06-07 07:05:20 INFO: POS REMOVAL\n",
      "2023-06-07 07:05:20 INFO: DOCUMENT TRANSFORMER\n",
      "2023-06-07 07:05:20 INFO: POS REMOVAL\n",
      "2023-06-07 07:05:20 INFO: DOCUMENT TRANSFORMER\n",
      "2023-06-07 07:05:21 INFO: POS REMOVAL\n",
      "2023-06-07 07:05:21 INFO: DOCUMENT TRANSFORMER\n",
      "2023-06-07 07:05:21 INFO: POS REMOVAL\n",
      "2023-06-07 07:05:21 INFO: DOCUMENT TRANSFORMER\n",
      "2023-06-07 07:05:22 INFO: POS REMOVAL\n",
      "2023-06-07 07:05:22 INFO: DOCUMENT TRANSFORMER\n",
      "2023-06-07 07:05:22 INFO: POS REMOVAL\n",
      "2023-06-07 07:05:22 INFO: DOCUMENT TRANSFORMER\n",
      "2023-06-07 07:05:22 INFO: POS REMOVAL\n",
      "2023-06-07 07:05:22 INFO: DOCUMENT TRANSFORMER\n",
      "2023-06-07 07:05:23 INFO: POS REMOVAL\n",
      "2023-06-07 07:05:23 INFO: DOCUMENT TRANSFORMER\n",
      "2023-06-07 07:05:23 INFO: POS REMOVAL\n",
      "2023-06-07 07:05:23 INFO: DOCUMENT TRANSFORMER\n",
      "2023-06-07 07:05:23 INFO: POS REMOVAL\n",
      "2023-06-07 07:05:23 INFO: DOCUMENT TRANSFORMER\n",
      "2023-06-07 07:05:24 INFO: POS REMOVAL\n",
      "2023-06-07 07:05:24 INFO: DOCUMENT TRANSFORMER\n",
      "2023-06-07 07:05:24 INFO: POS REMOVAL\n",
      "2023-06-07 07:05:24 INFO: DOCUMENT TRANSFORMER\n",
      "2023-06-07 07:05:25 INFO: POS REMOVAL\n",
      "2023-06-07 07:05:25 INFO: DOCUMENT TRANSFORMER\n",
      "2023-06-07 07:05:25 INFO: POS REMOVAL\n",
      "2023-06-07 07:05:25 INFO: DOCUMENT TRANSFORMER\n",
      "2023-06-07 07:05:26 INFO: POS REMOVAL\n",
      "2023-06-07 07:05:26 INFO: DOCUMENT TRANSFORMER\n",
      "2023-06-07 07:05:26 INFO: POS REMOVAL\n",
      "2023-06-07 07:05:26 INFO: DOCUMENT TRANSFORMER\n",
      "2023-06-07 07:05:26 INFO: POS REMOVAL\n",
      "2023-06-07 07:05:26 INFO: DOCUMENT TRANSFORMER\n",
      "2023-06-07 07:05:26 INFO: POS REMOVAL\n",
      "2023-06-07 07:05:26 INFO: DOCUMENT TRANSFORMER\n",
      "2023-06-07 07:05:27 INFO: POS REMOVAL\n",
      "2023-06-07 07:05:27 INFO: DOCUMENT TRANSFORMER\n",
      "2023-06-07 07:05:27 INFO: POS REMOVAL\n",
      "2023-06-07 07:05:27 INFO: DOCUMENT TRANSFORMER\n",
      "2023-06-07 07:05:27 INFO: POS REMOVAL\n",
      "2023-06-07 07:05:27 INFO: DOCUMENT TRANSFORMER\n",
      "2023-06-07 07:05:27 INFO: POS REMOVAL\n",
      "2023-06-07 07:05:27 INFO: DOCUMENT TRANSFORMER\n",
      "2023-06-07 07:05:28 INFO: POS REMOVAL\n",
      "2023-06-07 07:05:28 INFO: DOCUMENT TRANSFORMER\n",
      "2023-06-07 07:05:28 INFO: POS REMOVAL\n",
      "2023-06-07 07:05:28 INFO: DOCUMENT TRANSFORMER\n",
      "2023-06-07 07:05:28 INFO: POS REMOVAL\n",
      "2023-06-07 07:05:28 INFO: DOCUMENT TRANSFORMER\n",
      "2023-06-07 07:05:28 INFO: POS REMOVAL\n",
      "2023-06-07 07:05:28 INFO: DOCUMENT TRANSFORMER\n",
      "2023-06-07 07:05:29 INFO: POS REMOVAL\n",
      "2023-06-07 07:05:29 INFO: DOCUMENT TRANSFORMER\n",
      "2023-06-07 07:05:29 INFO: POS REMOVAL\n",
      "2023-06-07 07:05:29 INFO: DOCUMENT TRANSFORMER\n",
      "2023-06-07 07:05:29 INFO: POS REMOVAL\n",
      "2023-06-07 07:05:29 INFO: DOCUMENT TRANSFORMER\n",
      "2023-06-07 07:05:29 INFO: POS REMOVAL\n",
      "2023-06-07 07:05:30 INFO: DOCUMENT TRANSFORMER\n",
      "2023-06-07 07:05:30 INFO: POS REMOVAL\n",
      "2023-06-07 07:05:30 INFO: DOCUMENT TRANSFORMER\n",
      "2023-06-07 07:05:30 INFO: POS REMOVAL\n",
      "2023-06-07 07:05:30 INFO: DOCUMENT TRANSFORMER\n",
      "2023-06-07 07:05:30 INFO: POS REMOVAL\n",
      "2023-06-07 07:05:30 INFO: DOCUMENT TRANSFORMER\n",
      "2023-06-07 07:05:30 INFO: POS REMOVAL\n",
      "2023-06-07 07:05:31 INFO: DOCUMENT TRANSFORMER\n",
      "2023-06-07 07:05:31 INFO: POS REMOVAL\n",
      "2023-06-07 07:05:31 INFO: DOCUMENT TRANSFORMER\n",
      "2023-06-07 07:05:31 INFO: POS REMOVAL\n",
      "2023-06-07 07:05:31 INFO: DOCUMENT TRANSFORMER\n",
      "2023-06-07 07:05:32 INFO: POS REMOVAL\n",
      "2023-06-07 07:05:32 INFO: DOCUMENT TRANSFORMER\n",
      "2023-06-07 07:05:32 INFO: POS REMOVAL\n",
      "2023-06-07 07:05:32 INFO: DOCUMENT TRANSFORMER\n",
      "2023-06-07 07:05:32 INFO: POS REMOVAL\n",
      "2023-06-07 07:05:32 INFO: DOCUMENT TRANSFORMER\n",
      "2023-06-07 07:05:32 INFO: POS REMOVAL\n",
      "2023-06-07 07:05:32 INFO: DOCUMENT TRANSFORMER\n",
      "2023-06-07 07:05:33 INFO: POS REMOVAL\n",
      "2023-06-07 07:05:33 INFO: DOCUMENT TRANSFORMER\n",
      "2023-06-07 07:05:33 INFO: POS REMOVAL\n",
      "2023-06-07 07:05:33 INFO: DOCUMENT TRANSFORMER\n",
      "2023-06-07 07:05:33 INFO: POS REMOVAL\n",
      "2023-06-07 07:05:33 INFO: DOCUMENT TRANSFORMER\n",
      "2023-06-07 07:05:33 INFO: POS REMOVAL\n",
      "2023-06-07 07:05:34 INFO: DOCUMENT TRANSFORMER\n",
      "2023-06-07 07:05:34 INFO: POS REMOVAL\n",
      "2023-06-07 07:05:34 INFO: DOCUMENT TRANSFORMER\n",
      "2023-06-07 07:05:34 INFO: POS REMOVAL\n",
      "2023-06-07 07:05:34 INFO: DOCUMENT TRANSFORMER\n",
      "2023-06-07 07:05:34 INFO: POS REMOVAL\n",
      "2023-06-07 07:05:34 INFO: DOCUMENT TRANSFORMER\n",
      "2023-06-07 07:05:35 INFO: POS REMOVAL\n",
      "2023-06-07 07:05:35 INFO: DOCUMENT TRANSFORMER\n",
      "2023-06-07 07:05:35 INFO: POS REMOVAL\n",
      "2023-06-07 07:05:35 INFO: DOCUMENT TRANSFORMER\n",
      "2023-06-07 07:05:35 INFO: POS REMOVAL\n",
      "2023-06-07 07:05:35 INFO: DOCUMENT TRANSFORMER\n",
      "2023-06-07 07:05:36 INFO: POS REMOVAL\n",
      "2023-06-07 07:05:36 INFO: DOCUMENT TRANSFORMER\n",
      "2023-06-07 07:05:36 INFO: POS REMOVAL\n",
      "2023-06-07 07:05:36 INFO: DOCUMENT TRANSFORMER\n",
      "2023-06-07 07:05:36 INFO: POS REMOVAL\n",
      "2023-06-07 07:05:36 INFO: DOCUMENT TRANSFORMER\n",
      "2023-06-07 07:05:36 INFO: POS REMOVAL\n",
      "2023-06-07 07:05:36 INFO: DOCUMENT TRANSFORMER\n",
      "2023-06-07 07:05:37 INFO: POS REMOVAL\n",
      "2023-06-07 07:05:37 INFO: DOCUMENT TRANSFORMER\n",
      "2023-06-07 07:05:37 INFO: POS REMOVAL\n",
      "2023-06-07 07:05:37 INFO: DOCUMENT TRANSFORMER\n",
      "2023-06-07 07:05:37 INFO: POS REMOVAL\n",
      "2023-06-07 07:05:37 INFO: DOCUMENT TRANSFORMER\n",
      "2023-06-07 07:05:37 INFO: POS REMOVAL\n",
      "2023-06-07 07:05:37 INFO: DOCUMENT TRANSFORMER\n",
      "2023-06-07 07:05:38 INFO: POS REMOVAL\n",
      "2023-06-07 07:05:38 INFO: DOCUMENT TRANSFORMER\n",
      "2023-06-07 07:05:38 INFO: POS REMOVAL\n",
      "2023-06-07 07:05:38 INFO: DOCUMENT TRANSFORMER\n",
      "2023-06-07 07:05:39 INFO: POS REMOVAL\n",
      "2023-06-07 07:05:39 INFO: DOCUMENT TRANSFORMER\n",
      "2023-06-07 07:05:39 INFO: POS REMOVAL\n",
      "2023-06-07 07:05:39 INFO: DOCUMENT TRANSFORMER\n",
      "2023-06-07 07:05:39 INFO: POS REMOVAL\n",
      "2023-06-07 07:05:39 INFO: DOCUMENT TRANSFORMER\n",
      "2023-06-07 07:05:39 INFO: POS REMOVAL\n",
      "2023-06-07 07:05:39 INFO: DOCUMENT TRANSFORMER\n",
      "2023-06-07 07:05:40 INFO: POS REMOVAL\n",
      "2023-06-07 07:05:40 INFO: DOCUMENT TRANSFORMER\n",
      "2023-06-07 07:05:40 INFO: POS REMOVAL\n",
      "2023-06-07 07:05:40 INFO: DOCUMENT TRANSFORMER\n",
      "2023-06-07 07:05:40 INFO: POS REMOVAL\n",
      "2023-06-07 07:05:40 INFO: DOCUMENT TRANSFORMER\n",
      "2023-06-07 07:05:40 INFO: POS REMOVAL\n",
      "2023-06-07 07:05:41 INFO: DOCUMENT TRANSFORMER\n",
      "2023-06-07 07:05:41 INFO: POS REMOVAL\n",
      "2023-06-07 07:05:41 INFO: DOCUMENT TRANSFORMER\n",
      "2023-06-07 07:05:41 INFO: POS REMOVAL\n",
      "2023-06-07 07:05:41 INFO: DOCUMENT TRANSFORMER\n",
      "2023-06-07 07:05:42 INFO: POS REMOVAL\n",
      "2023-06-07 07:05:42 INFO: DOCUMENT TRANSFORMER\n",
      "2023-06-07 07:05:42 INFO: POS REMOVAL\n",
      "2023-06-07 07:05:42 INFO: DOCUMENT TRANSFORMER\n",
      "2023-06-07 07:05:42 INFO: POS REMOVAL\n",
      "2023-06-07 07:05:42 INFO: DOCUMENT TRANSFORMER\n",
      "2023-06-07 07:05:42 INFO: POS REMOVAL\n",
      "2023-06-07 07:05:42 INFO: DOCUMENT TRANSFORMER\n",
      "2023-06-07 07:05:43 INFO: POS REMOVAL\n",
      "2023-06-07 07:05:43 INFO: DOCUMENT TRANSFORMER\n",
      "2023-06-07 07:05:43 INFO: POS REMOVAL\n",
      "2023-06-07 07:05:43 INFO: DOCUMENT TRANSFORMER\n",
      "2023-06-07 07:05:43 INFO: POS REMOVAL\n",
      "2023-06-07 07:05:43 INFO: DOCUMENT TRANSFORMER\n",
      "2023-06-07 07:05:44 INFO: POS REMOVAL\n",
      "2023-06-07 07:05:44 INFO: DOCUMENT TRANSFORMER\n",
      "2023-06-07 07:05:44 INFO: POS REMOVAL\n",
      "2023-06-07 07:05:44 INFO: DOCUMENT TRANSFORMER\n",
      "2023-06-07 07:05:44 INFO: POS REMOVAL\n",
      "2023-06-07 07:05:44 INFO: DOCUMENT TRANSFORMER\n",
      "2023-06-07 07:05:45 INFO: POS REMOVAL\n",
      "2023-06-07 07:05:45 INFO: DOCUMENT TRANSFORMER\n",
      "2023-06-07 07:05:45 INFO: POS REMOVAL\n",
      "2023-06-07 07:05:45 INFO: DOCUMENT TRANSFORMER\n",
      "2023-06-07 07:05:45 INFO: POS REMOVAL\n",
      "2023-06-07 07:05:45 INFO: DOCUMENT TRANSFORMER\n",
      "2023-06-07 07:05:45 INFO: POS REMOVAL\n",
      "2023-06-07 07:05:46 INFO: DOCUMENT TRANSFORMER\n",
      "2023-06-07 07:05:46 INFO: POS REMOVAL\n",
      "2023-06-07 07:05:46 INFO: DOCUMENT TRANSFORMER\n",
      "2023-06-07 07:05:46 INFO: POS REMOVAL\n",
      "2023-06-07 07:05:46 INFO: DOCUMENT TRANSFORMER\n",
      "2023-06-07 07:05:47 INFO: POS REMOVAL\n",
      "2023-06-07 07:05:47 INFO: DOCUMENT TRANSFORMER\n",
      "2023-06-07 07:05:47 INFO: POS REMOVAL\n",
      "2023-06-07 07:05:47 INFO: DOCUMENT TRANSFORMER\n",
      "2023-06-07 07:05:47 INFO: POS REMOVAL\n",
      "2023-06-07 07:05:47 INFO: DOCUMENT TRANSFORMER\n",
      "2023-06-07 07:05:47 INFO: POS REMOVAL\n",
      "2023-06-07 07:05:47 INFO: DOCUMENT TRANSFORMER\n",
      "2023-06-07 07:05:48 INFO: POS REMOVAL\n",
      "2023-06-07 07:05:48 INFO: DOCUMENT TRANSFORMER\n",
      "2023-06-07 07:05:48 INFO: POS REMOVAL\n",
      "2023-06-07 07:05:48 INFO: DOCUMENT TRANSFORMER\n",
      "2023-06-07 07:05:48 INFO: POS REMOVAL\n",
      "2023-06-07 07:05:48 INFO: DOCUMENT TRANSFORMER\n",
      "2023-06-07 07:05:49 INFO: POS REMOVAL\n",
      "2023-06-07 07:05:49 INFO: DOCUMENT TRANSFORMER\n",
      "2023-06-07 07:05:49 INFO: POS REMOVAL\n",
      "2023-06-07 07:05:49 INFO: DOCUMENT TRANSFORMER\n",
      "2023-06-07 07:05:49 INFO: POS REMOVAL\n",
      "2023-06-07 07:05:49 INFO: DOCUMENT TRANSFORMER\n",
      "2023-06-07 07:05:50 INFO: POS REMOVAL\n",
      "2023-06-07 07:05:50 INFO: DOCUMENT TRANSFORMER\n",
      "2023-06-07 07:05:50 INFO: POS REMOVAL\n",
      "2023-06-07 07:05:50 INFO: DOCUMENT TRANSFORMER\n",
      "2023-06-07 07:05:50 INFO: POS REMOVAL\n",
      "2023-06-07 07:05:50 INFO: DOCUMENT TRANSFORMER\n",
      "2023-06-07 07:05:50 INFO: POS REMOVAL\n",
      "2023-06-07 07:05:50 INFO: DOCUMENT TRANSFORMER\n",
      "2023-06-07 07:05:51 INFO: POS REMOVAL\n",
      "2023-06-07 07:05:51 INFO: DOCUMENT TRANSFORMER\n",
      "2023-06-07 07:05:51 INFO: POS REMOVAL\n",
      "2023-06-07 07:05:51 INFO: DOCUMENT TRANSFORMER\n",
      "2023-06-07 07:05:52 INFO: POS REMOVAL\n",
      "2023-06-07 07:05:52 INFO: DOCUMENT TRANSFORMER\n",
      "2023-06-07 07:05:52 INFO: POS REMOVAL\n",
      "2023-06-07 07:05:52 INFO: DOCUMENT TRANSFORMER\n",
      "2023-06-07 07:05:52 INFO: POS REMOVAL\n",
      "2023-06-07 07:05:52 INFO: DOCUMENT TRANSFORMER\n",
      "2023-06-07 07:05:52 INFO: POS REMOVAL\n",
      "2023-06-07 07:05:52 INFO: DOCUMENT TRANSFORMER\n",
      "2023-06-07 07:05:53 INFO: POS REMOVAL\n",
      "2023-06-07 07:05:53 INFO: DOCUMENT TRANSFORMER\n",
      "2023-06-07 07:05:53 INFO: POS REMOVAL\n",
      "2023-06-07 07:05:53 INFO: DOCUMENT TRANSFORMER\n",
      "2023-06-07 07:05:53 INFO: POS REMOVAL\n",
      "2023-06-07 07:05:53 INFO: DOCUMENT TRANSFORMER\n",
      "2023-06-07 07:05:53 INFO: POS REMOVAL\n",
      "2023-06-07 07:05:53 INFO: DOCUMENT TRANSFORMER\n",
      "2023-06-07 07:05:54 INFO: POS REMOVAL\n",
      "2023-06-07 07:05:54 INFO: DOCUMENT TRANSFORMER\n",
      "2023-06-07 07:05:54 INFO: POS REMOVAL\n",
      "2023-06-07 07:05:54 INFO: DOCUMENT TRANSFORMER\n",
      "2023-06-07 07:05:54 INFO: POS REMOVAL\n",
      "2023-06-07 07:05:54 INFO: DOCUMENT TRANSFORMER\n",
      "2023-06-07 07:05:54 INFO: POS REMOVAL\n",
      "2023-06-07 07:05:54 INFO: DOCUMENT TRANSFORMER\n",
      "2023-06-07 07:05:55 INFO: POS REMOVAL\n",
      "2023-06-07 07:05:55 INFO: DOCUMENT TRANSFORMER\n",
      "2023-06-07 07:05:55 INFO: POS REMOVAL\n",
      "2023-06-07 07:05:55 INFO: DOCUMENT TRANSFORMER\n",
      "2023-06-07 07:05:55 INFO: POS REMOVAL\n",
      "2023-06-07 07:05:55 INFO: DOCUMENT TRANSFORMER\n",
      "2023-06-07 07:05:55 INFO: POS REMOVAL\n",
      "2023-06-07 07:05:55 INFO: DOCUMENT TRANSFORMER\n",
      "2023-06-07 07:05:56 INFO: POS REMOVAL\n",
      "2023-06-07 07:05:56 INFO: DOCUMENT TRANSFORMER\n",
      "2023-06-07 07:05:56 INFO: POS REMOVAL\n",
      "2023-06-07 07:05:56 INFO: DOCUMENT TRANSFORMER\n",
      "2023-06-07 07:05:56 INFO: POS REMOVAL\n",
      "2023-06-07 07:05:56 INFO: DOCUMENT TRANSFORMER\n",
      "2023-06-07 07:05:56 INFO: POS REMOVAL\n",
      "2023-06-07 07:05:57 INFO: DOCUMENT TRANSFORMER\n",
      "2023-06-07 07:05:57 INFO: POS REMOVAL\n",
      "2023-06-07 07:05:57 INFO: DOCUMENT TRANSFORMER\n",
      "2023-06-07 07:05:57 INFO: POS REMOVAL\n",
      "2023-06-07 07:05:57 INFO: DOCUMENT TRANSFORMER\n",
      "2023-06-07 07:05:57 INFO: POS REMOVAL\n",
      "2023-06-07 07:05:57 INFO: DOCUMENT TRANSFORMER\n",
      "2023-06-07 07:05:58 INFO: POS REMOVAL\n",
      "2023-06-07 07:05:58 INFO: DOCUMENT TRANSFORMER\n",
      "2023-06-07 07:05:58 INFO: POS REMOVAL\n",
      "2023-06-07 07:05:58 INFO: DOCUMENT TRANSFORMER\n",
      "2023-06-07 07:05:58 INFO: POS REMOVAL\n",
      "2023-06-07 07:05:58 INFO: DOCUMENT TRANSFORMER\n",
      "2023-06-07 07:05:58 INFO: POS REMOVAL\n",
      "2023-06-07 07:05:58 INFO: DOCUMENT TRANSFORMER\n",
      "2023-06-07 07:05:59 INFO: POS REMOVAL\n",
      "2023-06-07 07:05:59 INFO: DOCUMENT TRANSFORMER\n",
      "2023-06-07 07:05:59 INFO: POS REMOVAL\n",
      "2023-06-07 07:05:59 INFO: DOCUMENT TRANSFORMER\n",
      "2023-06-07 07:05:59 INFO: POS REMOVAL\n",
      "2023-06-07 07:05:59 INFO: DOCUMENT TRANSFORMER\n",
      "2023-06-07 07:05:59 INFO: POS REMOVAL\n",
      "2023-06-07 07:06:00 INFO: DOCUMENT TRANSFORMER\n",
      "2023-06-07 07:06:00 INFO: POS REMOVAL\n",
      "2023-06-07 07:06:00 INFO: DOCUMENT TRANSFORMER\n",
      "2023-06-07 07:06:00 INFO: POS REMOVAL\n",
      "2023-06-07 07:06:00 INFO: DOCUMENT TRANSFORMER\n",
      "2023-06-07 07:06:00 INFO: POS REMOVAL\n",
      "2023-06-07 07:06:00 INFO: DOCUMENT TRANSFORMER\n",
      "2023-06-07 07:06:01 INFO: POS REMOVAL\n",
      "2023-06-07 07:06:01 INFO: DOCUMENT TRANSFORMER\n",
      "2023-06-07 07:06:01 INFO: POS REMOVAL\n",
      "2023-06-07 07:06:01 INFO: DOCUMENT TRANSFORMER\n",
      "2023-06-07 07:06:02 INFO: POS REMOVAL\n",
      "2023-06-07 07:06:02 INFO: DOCUMENT TRANSFORMER\n",
      "2023-06-07 07:06:02 INFO: POS REMOVAL\n",
      "2023-06-07 07:06:02 INFO: DOCUMENT TRANSFORMER\n",
      "2023-06-07 07:06:02 INFO: POS REMOVAL\n",
      "2023-06-07 07:06:02 INFO: DOCUMENT TRANSFORMER\n",
      "2023-06-07 07:06:02 INFO: POS REMOVAL\n",
      "2023-06-07 07:06:03 INFO: DOCUMENT TRANSFORMER\n",
      "2023-06-07 07:06:03 INFO: POS REMOVAL\n",
      "2023-06-07 07:06:03 INFO: DOCUMENT TRANSFORMER\n",
      "2023-06-07 07:06:03 INFO: POS REMOVAL\n",
      "2023-06-07 07:06:03 INFO: DOCUMENT TRANSFORMER\n",
      "2023-06-07 07:06:04 INFO: POS REMOVAL\n",
      "2023-06-07 07:06:04 INFO: DOCUMENT TRANSFORMER\n",
      "2023-06-07 07:06:04 INFO: POS REMOVAL\n",
      "2023-06-07 07:06:04 INFO: DOCUMENT TRANSFORMER\n",
      "2023-06-07 07:06:05 INFO: POS REMOVAL\n",
      "2023-06-07 07:06:05 INFO: DOCUMENT TRANSFORMER\n",
      "2023-06-07 07:06:05 INFO: POS REMOVAL\n",
      "2023-06-07 07:06:05 INFO: DOCUMENT TRANSFORMER\n",
      "2023-06-07 07:06:05 INFO: POS REMOVAL\n",
      "2023-06-07 07:06:05 INFO: DOCUMENT TRANSFORMER\n",
      "2023-06-07 07:06:05 INFO: POS REMOVAL\n",
      "2023-06-07 07:06:05 INFO: DOCUMENT TRANSFORMER\n",
      "2023-06-07 07:06:06 INFO: POS REMOVAL\n",
      "2023-06-07 07:06:06 INFO: DOCUMENT TRANSFORMER\n",
      "2023-06-07 07:06:06 INFO: POS REMOVAL\n",
      "2023-06-07 07:06:06 INFO: DOCUMENT TRANSFORMER\n",
      "2023-06-07 07:06:07 INFO: POS REMOVAL\n",
      "2023-06-07 07:06:07 INFO: DOCUMENT TRANSFORMER\n",
      "2023-06-07 07:06:07 INFO: POS REMOVAL\n",
      "2023-06-07 07:06:07 INFO: DOCUMENT TRANSFORMER\n",
      "2023-06-07 07:06:07 INFO: POS REMOVAL\n",
      "2023-06-07 07:06:07 INFO: DOCUMENT TRANSFORMER\n",
      "2023-06-07 07:06:07 INFO: POS REMOVAL\n",
      "2023-06-07 07:06:08 INFO: DOCUMENT TRANSFORMER\n",
      "2023-06-07 07:06:08 INFO: POS REMOVAL\n",
      "2023-06-07 07:06:08 INFO: DOCUMENT TRANSFORMER\n",
      "2023-06-07 07:06:08 INFO: POS REMOVAL\n",
      "2023-06-07 07:06:08 INFO: DOCUMENT TRANSFORMER\n",
      "2023-06-07 07:06:09 INFO: POS REMOVAL\n",
      "2023-06-07 07:06:09 INFO: DOCUMENT TRANSFORMER\n",
      "2023-06-07 07:06:09 INFO: POS REMOVAL\n",
      "2023-06-07 07:06:09 INFO: DOCUMENT TRANSFORMER\n",
      "2023-06-07 07:06:09 INFO: POS REMOVAL\n",
      "2023-06-07 07:06:10 INFO: DOCUMENT TRANSFORMER\n",
      "2023-06-07 07:06:10 INFO: POS REMOVAL\n",
      "2023-06-07 07:06:10 INFO: DOCUMENT TRANSFORMER\n",
      "2023-06-07 07:06:10 INFO: POS REMOVAL\n",
      "2023-06-07 07:06:10 INFO: DOCUMENT TRANSFORMER\n",
      "2023-06-07 07:06:10 INFO: POS REMOVAL\n",
      "2023-06-07 07:06:10 INFO: DOCUMENT TRANSFORMER\n",
      "2023-06-07 07:06:11 INFO: POS REMOVAL\n",
      "2023-06-07 07:06:11 INFO: DOCUMENT TRANSFORMER\n",
      "2023-06-07 07:06:11 INFO: POS REMOVAL\n",
      "2023-06-07 07:06:11 INFO: DOCUMENT TRANSFORMER\n",
      "2023-06-07 07:06:12 INFO: POS REMOVAL\n",
      "2023-06-07 07:06:12 INFO: DOCUMENT TRANSFORMER\n",
      "2023-06-07 07:06:12 INFO: POS REMOVAL\n",
      "2023-06-07 07:06:12 INFO: DOCUMENT TRANSFORMER\n",
      "2023-06-07 07:06:12 INFO: POS REMOVAL\n",
      "2023-06-07 07:06:12 INFO: DOCUMENT TRANSFORMER\n",
      "2023-06-07 07:06:13 INFO: POS REMOVAL\n",
      "2023-06-07 07:06:13 INFO: DOCUMENT TRANSFORMER\n",
      "2023-06-07 07:06:13 INFO: POS REMOVAL\n",
      "2023-06-07 07:06:13 INFO: DOCUMENT TRANSFORMER\n",
      "2023-06-07 07:06:13 INFO: POS REMOVAL\n",
      "2023-06-07 07:06:13 INFO: DOCUMENT TRANSFORMER\n",
      "2023-06-07 07:06:14 INFO: POS REMOVAL\n",
      "2023-06-07 07:06:14 INFO: DOCUMENT TRANSFORMER\n",
      "2023-06-07 07:06:14 INFO: POS REMOVAL\n",
      "2023-06-07 07:06:14 INFO: DOCUMENT TRANSFORMER\n",
      "2023-06-07 07:06:14 INFO: POS REMOVAL\n",
      "2023-06-07 07:06:14 INFO: DOCUMENT TRANSFORMER\n",
      "2023-06-07 07:06:15 INFO: POS REMOVAL\n",
      "2023-06-07 07:06:15 INFO: DOCUMENT TRANSFORMER\n",
      "2023-06-07 07:06:15 INFO: POS REMOVAL\n",
      "2023-06-07 07:06:15 INFO: DOCUMENT TRANSFORMER\n",
      "2023-06-07 07:06:15 INFO: POS REMOVAL\n",
      "2023-06-07 07:06:15 INFO: DOCUMENT TRANSFORMER\n",
      "2023-06-07 07:06:16 INFO: POS REMOVAL\n",
      "2023-06-07 07:06:16 INFO: DOCUMENT TRANSFORMER\n",
      "2023-06-07 07:06:16 INFO: POS REMOVAL\n",
      "2023-06-07 07:06:16 INFO: DOCUMENT TRANSFORMER\n",
      "2023-06-07 07:06:16 INFO: POS REMOVAL\n",
      "2023-06-07 07:06:16 INFO: DOCUMENT TRANSFORMER\n",
      "2023-06-07 07:06:16 INFO: POS REMOVAL\n",
      "2023-06-07 07:06:16 INFO: DOCUMENT TRANSFORMER\n",
      "2023-06-07 07:06:17 INFO: POS REMOVAL\n",
      "2023-06-07 07:06:17 INFO: DOCUMENT TRANSFORMER\n",
      "2023-06-07 07:06:17 INFO: POS REMOVAL\n",
      "2023-06-07 07:06:17 INFO: DOCUMENT TRANSFORMER\n",
      "2023-06-07 07:06:17 INFO: POS REMOVAL\n",
      "2023-06-07 07:06:17 INFO: DOCUMENT TRANSFORMER\n",
      "2023-06-07 07:06:17 INFO: POS REMOVAL\n",
      "2023-06-07 07:06:17 INFO: DOCUMENT TRANSFORMER\n",
      "2023-06-07 07:06:18 INFO: POS REMOVAL\n",
      "2023-06-07 07:06:18 INFO: DOCUMENT TRANSFORMER\n",
      "2023-06-07 07:06:18 INFO: POS REMOVAL\n",
      "2023-06-07 07:06:18 INFO: DOCUMENT TRANSFORMER\n",
      "2023-06-07 07:06:18 INFO: POS REMOVAL\n",
      "2023-06-07 07:06:18 INFO: DOCUMENT TRANSFORMER\n",
      "2023-06-07 07:06:18 INFO: POS REMOVAL\n",
      "2023-06-07 07:06:18 INFO: DOCUMENT TRANSFORMER\n",
      "2023-06-07 07:06:19 INFO: POS REMOVAL\n",
      "2023-06-07 07:06:19 INFO: DOCUMENT TRANSFORMER\n",
      "2023-06-07 07:06:19 INFO: POS REMOVAL\n",
      "2023-06-07 07:06:19 INFO: DOCUMENT TRANSFORMER\n",
      "2023-06-07 07:06:20 INFO: POS REMOVAL\n",
      "2023-06-07 07:06:20 INFO: DOCUMENT TRANSFORMER\n",
      "2023-06-07 07:06:20 INFO: POS REMOVAL\n",
      "2023-06-07 07:06:20 INFO: DOCUMENT TRANSFORMER\n",
      "2023-06-07 07:06:20 INFO: POS REMOVAL\n",
      "2023-06-07 07:06:20 INFO: DOCUMENT TRANSFORMER\n",
      "2023-06-07 07:06:20 INFO: POS REMOVAL\n",
      "2023-06-07 07:06:20 INFO: DOCUMENT TRANSFORMER\n",
      "2023-06-07 07:06:21 INFO: POS REMOVAL\n",
      "2023-06-07 07:06:21 INFO: DOCUMENT TRANSFORMER\n",
      "2023-06-07 07:06:21 INFO: POS REMOVAL\n",
      "2023-06-07 07:06:21 INFO: DOCUMENT TRANSFORMER\n",
      "2023-06-07 07:06:21 INFO: POS REMOVAL\n",
      "2023-06-07 07:06:21 INFO: DOCUMENT TRANSFORMER\n",
      "2023-06-07 07:06:21 INFO: POS REMOVAL\n",
      "2023-06-07 07:06:21 INFO: DOCUMENT TRANSFORMER\n",
      "2023-06-07 07:06:22 INFO: POS REMOVAL\n",
      "2023-06-07 07:06:22 INFO: DOCUMENT TRANSFORMER\n",
      "2023-06-07 07:06:22 INFO: POS REMOVAL\n",
      "2023-06-07 07:06:22 INFO: DOCUMENT TRANSFORMER\n",
      "2023-06-07 07:06:22 INFO: POS REMOVAL\n",
      "2023-06-07 07:06:22 INFO: DOCUMENT TRANSFORMER\n",
      "2023-06-07 07:06:22 INFO: POS REMOVAL\n",
      "2023-06-07 07:06:22 INFO: DOCUMENT TRANSFORMER\n",
      "2023-06-07 07:06:23 INFO: POS REMOVAL\n",
      "2023-06-07 07:06:23 INFO: DOCUMENT TRANSFORMER\n",
      "2023-06-07 07:06:23 INFO: POS REMOVAL\n",
      "2023-06-07 07:06:23 INFO: DOCUMENT TRANSFORMER\n",
      "2023-06-07 07:06:23 INFO: POS REMOVAL\n",
      "2023-06-07 07:06:23 INFO: DOCUMENT TRANSFORMER\n",
      "2023-06-07 07:06:23 INFO: POS REMOVAL\n",
      "2023-06-07 07:06:23 INFO: DOCUMENT TRANSFORMER\n",
      "2023-06-07 07:06:24 INFO: POS REMOVAL\n",
      "2023-06-07 07:06:24 INFO: DOCUMENT TRANSFORMER\n",
      "2023-06-07 07:06:24 INFO: POS REMOVAL\n",
      "2023-06-07 07:06:24 INFO: DOCUMENT TRANSFORMER\n",
      "2023-06-07 07:06:24 INFO: POS REMOVAL\n",
      "2023-06-07 07:06:24 INFO: DOCUMENT TRANSFORMER\n",
      "2023-06-07 07:06:24 INFO: POS REMOVAL\n",
      "2023-06-07 07:06:25 INFO: DOCUMENT TRANSFORMER\n",
      "2023-06-07 07:06:25 INFO: POS REMOVAL\n",
      "2023-06-07 07:06:25 INFO: DOCUMENT TRANSFORMER\n",
      "2023-06-07 07:06:25 INFO: POS REMOVAL\n",
      "2023-06-07 07:06:25 INFO: DOCUMENT TRANSFORMER\n",
      "2023-06-07 07:06:26 INFO: POS REMOVAL\n",
      "2023-06-07 07:06:26 INFO: DOCUMENT TRANSFORMER\n",
      "2023-06-07 07:06:26 INFO: POS REMOVAL\n",
      "2023-06-07 07:06:26 INFO: DOCUMENT TRANSFORMER\n",
      "2023-06-07 07:06:26 INFO: POS REMOVAL\n",
      "2023-06-07 07:06:26 INFO: DOCUMENT TRANSFORMER\n",
      "2023-06-07 07:06:26 INFO: POS REMOVAL\n",
      "2023-06-07 07:06:26 INFO: DOCUMENT TRANSFORMER\n",
      "2023-06-07 07:06:27 INFO: POS REMOVAL\n",
      "2023-06-07 07:06:27 INFO: DOCUMENT TRANSFORMER\n",
      "2023-06-07 07:06:27 INFO: POS REMOVAL\n",
      "2023-06-07 07:06:27 INFO: DOCUMENT TRANSFORMER\n",
      "2023-06-07 07:06:27 INFO: POS REMOVAL\n",
      "2023-06-07 07:06:28 INFO: DOCUMENT TRANSFORMER\n",
      "2023-06-07 07:06:28 INFO: POS REMOVAL\n",
      "2023-06-07 07:06:28 INFO: DOCUMENT TRANSFORMER\n",
      "2023-06-07 07:06:28 INFO: POS REMOVAL\n",
      "2023-06-07 07:06:28 INFO: DOCUMENT TRANSFORMER\n",
      "2023-06-07 07:06:28 INFO: POS REMOVAL\n",
      "2023-06-07 07:06:28 INFO: DOCUMENT TRANSFORMER\n",
      "2023-06-07 07:06:29 INFO: POS REMOVAL\n",
      "2023-06-07 07:06:29 INFO: DOCUMENT TRANSFORMER\n",
      "2023-06-07 07:06:29 INFO: POS REMOVAL\n",
      "2023-06-07 07:06:29 INFO: DOCUMENT TRANSFORMER\n",
      "2023-06-07 07:06:29 INFO: POS REMOVAL\n",
      "2023-06-07 07:06:29 INFO: DOCUMENT TRANSFORMER\n",
      "2023-06-07 07:06:30 INFO: POS REMOVAL\n",
      "2023-06-07 07:06:30 INFO: DOCUMENT TRANSFORMER\n",
      "2023-06-07 07:06:30 INFO: POS REMOVAL\n",
      "2023-06-07 07:06:30 INFO: DOCUMENT TRANSFORMER\n",
      "2023-06-07 07:06:30 INFO: POS REMOVAL\n",
      "2023-06-07 07:06:30 INFO: DOCUMENT TRANSFORMER\n",
      "2023-06-07 07:06:31 INFO: POS REMOVAL\n",
      "2023-06-07 07:06:31 INFO: DOCUMENT TRANSFORMER\n",
      "2023-06-07 07:06:31 INFO: POS REMOVAL\n",
      "2023-06-07 07:06:31 INFO: DOCUMENT TRANSFORMER\n",
      "2023-06-07 07:06:31 INFO: POS REMOVAL\n",
      "2023-06-07 07:06:31 INFO: DOCUMENT TRANSFORMER\n",
      "2023-06-07 07:06:31 INFO: POS REMOVAL\n",
      "2023-06-07 07:06:31 INFO: DOCUMENT TRANSFORMER\n",
      "2023-06-07 07:06:32 INFO: POS REMOVAL\n",
      "2023-06-07 07:06:32 INFO: DOCUMENT TRANSFORMER\n",
      "2023-06-07 07:06:32 INFO: POS REMOVAL\n",
      "2023-06-07 07:06:32 INFO: DOCUMENT TRANSFORMER\n",
      "2023-06-07 07:06:32 INFO: POS REMOVAL\n",
      "2023-06-07 07:06:33 INFO: DOCUMENT TRANSFORMER\n",
      "2023-06-07 07:06:33 INFO: POS REMOVAL\n",
      "2023-06-07 07:06:33 INFO: DOCUMENT TRANSFORMER\n",
      "2023-06-07 07:06:33 INFO: POS REMOVAL\n",
      "2023-06-07 07:06:33 INFO: DOCUMENT TRANSFORMER\n",
      "2023-06-07 07:06:33 INFO: POS REMOVAL\n",
      "2023-06-07 07:06:33 INFO: DOCUMENT TRANSFORMER\n",
      "2023-06-07 07:06:34 INFO: POS REMOVAL\n",
      "2023-06-07 07:06:34 INFO: DOCUMENT TRANSFORMER\n",
      "2023-06-07 07:06:34 INFO: POS REMOVAL\n",
      "2023-06-07 07:06:34 INFO: DOCUMENT TRANSFORMER\n",
      "2023-06-07 07:06:34 INFO: POS REMOVAL\n",
      "2023-06-07 07:06:34 INFO: DOCUMENT TRANSFORMER\n",
      "2023-06-07 07:06:35 INFO: POS REMOVAL\n",
      "2023-06-07 07:06:35 INFO: DOCUMENT TRANSFORMER\n",
      "2023-06-07 07:06:35 INFO: POS REMOVAL\n",
      "2023-06-07 07:06:35 INFO: DOCUMENT TRANSFORMER\n",
      "2023-06-07 07:06:35 INFO: POS REMOVAL\n",
      "2023-06-07 07:06:35 INFO: DOCUMENT TRANSFORMER\n",
      "2023-06-07 07:06:36 INFO: POS REMOVAL\n",
      "2023-06-07 07:06:36 INFO: DOCUMENT TRANSFORMER\n",
      "2023-06-07 07:06:36 INFO: POS REMOVAL\n",
      "2023-06-07 07:06:36 INFO: DOCUMENT TRANSFORMER\n",
      "2023-06-07 07:06:36 INFO: POS REMOVAL\n",
      "2023-06-07 07:06:36 INFO: DOCUMENT TRANSFORMER\n",
      "2023-06-07 07:06:37 INFO: POS REMOVAL\n",
      "2023-06-07 07:06:37 INFO: DOCUMENT TRANSFORMER\n",
      "2023-06-07 07:06:37 INFO: POS REMOVAL\n",
      "2023-06-07 07:06:37 INFO: DOCUMENT TRANSFORMER\n",
      "2023-06-07 07:06:37 INFO: POS REMOVAL\n",
      "2023-06-07 07:06:37 INFO: DOCUMENT TRANSFORMER\n",
      "2023-06-07 07:06:38 INFO: POS REMOVAL\n",
      "2023-06-07 07:06:38 INFO: DOCUMENT TRANSFORMER\n",
      "2023-06-07 07:06:38 INFO: POS REMOVAL\n",
      "2023-06-07 07:06:38 INFO: DOCUMENT TRANSFORMER\n",
      "2023-06-07 07:06:38 INFO: POS REMOVAL\n",
      "2023-06-07 07:06:38 INFO: DOCUMENT TRANSFORMER\n",
      "2023-06-07 07:06:39 INFO: POS REMOVAL\n",
      "2023-06-07 07:06:39 INFO: DOCUMENT TRANSFORMER\n",
      "2023-06-07 07:06:39 INFO: POS REMOVAL\n",
      "2023-06-07 07:06:39 INFO: DOCUMENT TRANSFORMER\n",
      "2023-06-07 07:06:40 INFO: POS REMOVAL\n",
      "2023-06-07 07:06:40 INFO: DOCUMENT TRANSFORMER\n",
      "2023-06-07 07:06:40 INFO: POS REMOVAL\n",
      "2023-06-07 07:06:40 INFO: DOCUMENT TRANSFORMER\n",
      "2023-06-07 07:06:40 INFO: POS REMOVAL\n",
      "2023-06-07 07:06:40 INFO: DOCUMENT TRANSFORMER\n",
      "2023-06-07 07:06:41 INFO: POS REMOVAL\n",
      "2023-06-07 07:06:41 INFO: DOCUMENT TRANSFORMER\n",
      "2023-06-07 07:06:41 INFO: POS REMOVAL\n",
      "2023-06-07 07:06:41 INFO: DOCUMENT TRANSFORMER\n",
      "2023-06-07 07:06:42 INFO: POS REMOVAL\n",
      "2023-06-07 07:06:42 INFO: DOCUMENT TRANSFORMER\n",
      "2023-06-07 07:06:42 INFO: POS REMOVAL\n",
      "2023-06-07 07:06:42 INFO: DOCUMENT TRANSFORMER\n",
      "2023-06-07 07:06:42 INFO: POS REMOVAL\n",
      "2023-06-07 07:06:42 INFO: DOCUMENT TRANSFORMER\n",
      "2023-06-07 07:06:43 INFO: POS REMOVAL\n",
      "2023-06-07 07:06:43 INFO: DOCUMENT TRANSFORMER\n",
      "2023-06-07 07:06:43 INFO: POS REMOVAL\n",
      "2023-06-07 07:06:43 INFO: DOCUMENT TRANSFORMER\n",
      "2023-06-07 07:06:44 INFO: POS REMOVAL\n",
      "2023-06-07 07:06:44 INFO: DOCUMENT TRANSFORMER\n",
      "2023-06-07 07:06:44 INFO: POS REMOVAL\n",
      "2023-06-07 07:06:44 INFO: DOCUMENT TRANSFORMER\n",
      "2023-06-07 07:06:45 INFO: POS REMOVAL\n",
      "2023-06-07 07:06:45 INFO: DOCUMENT TRANSFORMER\n",
      "2023-06-07 07:06:45 INFO: POS REMOVAL\n",
      "2023-06-07 07:06:45 INFO: DOCUMENT TRANSFORMER\n",
      "2023-06-07 07:06:46 INFO: POS REMOVAL\n",
      "2023-06-07 07:06:46 INFO: DOCUMENT TRANSFORMER\n",
      "2023-06-07 07:06:46 INFO: POS REMOVAL\n",
      "2023-06-07 07:06:46 INFO: DOCUMENT TRANSFORMER\n",
      "2023-06-07 07:06:46 INFO: POS REMOVAL\n",
      "2023-06-07 07:06:46 INFO: DOCUMENT TRANSFORMER\n",
      "2023-06-07 07:06:47 INFO: POS REMOVAL\n",
      "2023-06-07 07:06:47 INFO: DOCUMENT TRANSFORMER\n",
      "2023-06-07 07:06:47 INFO: POS REMOVAL\n",
      "2023-06-07 07:06:47 INFO: DOCUMENT TRANSFORMER\n",
      "2023-06-07 07:06:48 INFO: POS REMOVAL\n",
      "2023-06-07 07:06:48 INFO: DOCUMENT TRANSFORMER\n",
      "2023-06-07 07:06:48 INFO: POS REMOVAL\n",
      "2023-06-07 07:06:49 INFO: DOCUMENT TRANSFORMER\n",
      "2023-06-07 07:06:49 INFO: POS REMOVAL\n",
      "2023-06-07 07:06:49 INFO: DOCUMENT TRANSFORMER\n",
      "2023-06-07 07:06:50 INFO: POS REMOVAL\n",
      "2023-06-07 07:06:50 INFO: DOCUMENT TRANSFORMER\n",
      "2023-06-07 07:06:50 INFO: POS REMOVAL\n",
      "2023-06-07 07:06:50 INFO: DOCUMENT TRANSFORMER\n",
      "2023-06-07 07:06:51 INFO: POS REMOVAL\n",
      "2023-06-07 07:06:51 INFO: DOCUMENT TRANSFORMER\n",
      "2023-06-07 07:06:51 INFO: POS REMOVAL\n",
      "2023-06-07 07:06:51 INFO: DOCUMENT TRANSFORMER\n",
      "2023-06-07 07:06:52 INFO: POS REMOVAL\n",
      "2023-06-07 07:06:52 INFO: DOCUMENT TRANSFORMER\n",
      "2023-06-07 07:06:52 INFO: POS REMOVAL\n",
      "2023-06-07 07:06:52 INFO: DOCUMENT TRANSFORMER\n",
      "2023-06-07 07:06:53 INFO: POS REMOVAL\n",
      "2023-06-07 07:06:53 INFO: DOCUMENT TRANSFORMER\n",
      "2023-06-07 07:06:53 INFO: POS REMOVAL\n",
      "2023-06-07 07:06:53 INFO: DOCUMENT TRANSFORMER\n",
      "2023-06-07 07:06:54 INFO: POS REMOVAL\n",
      "2023-06-07 07:06:54 INFO: DOCUMENT TRANSFORMER\n",
      "2023-06-07 07:06:54 INFO: POS REMOVAL\n",
      "2023-06-07 07:06:54 INFO: DOCUMENT TRANSFORMER\n",
      "2023-06-07 07:06:55 INFO: POS REMOVAL\n",
      "2023-06-07 07:06:55 INFO: DOCUMENT TRANSFORMER\n",
      "2023-06-07 07:06:55 INFO: POS REMOVAL\n",
      "2023-06-07 07:06:55 INFO: DOCUMENT TRANSFORMER\n",
      "2023-06-07 07:06:56 INFO: POS REMOVAL\n",
      "2023-06-07 07:06:56 INFO: DOCUMENT TRANSFORMER\n",
      "2023-06-07 07:06:57 INFO: POS REMOVAL\n",
      "2023-06-07 07:06:57 INFO: DOCUMENT TRANSFORMER\n",
      "2023-06-07 07:06:57 INFO: POS REMOVAL\n",
      "2023-06-07 07:06:57 INFO: DOCUMENT TRANSFORMER\n",
      "2023-06-07 07:06:57 INFO: POS REMOVAL\n",
      "2023-06-07 07:06:58 INFO: DOCUMENT TRANSFORMER\n",
      "2023-06-07 07:06:58 INFO: POS REMOVAL\n",
      "2023-06-07 07:06:58 INFO: DOCUMENT TRANSFORMER\n",
      "2023-06-07 07:06:58 INFO: POS REMOVAL\n",
      "2023-06-07 07:06:58 INFO: DOCUMENT TRANSFORMER\n",
      "2023-06-07 07:06:59 INFO: POS REMOVAL\n",
      "2023-06-07 07:06:59 INFO: DOCUMENT TRANSFORMER\n",
      "2023-06-07 07:06:59 INFO: POS REMOVAL\n",
      "2023-06-07 07:06:59 INFO: DOCUMENT TRANSFORMER\n",
      "2023-06-07 07:06:59 INFO: POS REMOVAL\n",
      "2023-06-07 07:06:59 INFO: DOCUMENT TRANSFORMER\n",
      "2023-06-07 07:07:00 INFO: POS REMOVAL\n",
      "2023-06-07 07:07:00 INFO: DOCUMENT TRANSFORMER\n",
      "2023-06-07 07:07:00 INFO: POS REMOVAL\n",
      "2023-06-07 07:07:00 INFO: DOCUMENT TRANSFORMER\n",
      "2023-06-07 07:07:01 INFO: POS REMOVAL\n",
      "2023-06-07 07:07:01 INFO: DOCUMENT TRANSFORMER\n",
      "2023-06-07 07:07:01 INFO: POS REMOVAL\n",
      "2023-06-07 07:07:01 INFO: DOCUMENT TRANSFORMER\n",
      "2023-06-07 07:07:01 INFO: POS REMOVAL\n",
      "2023-06-07 07:07:01 INFO: DOCUMENT TRANSFORMER\n",
      "2023-06-07 07:07:02 INFO: POS REMOVAL\n",
      "2023-06-07 07:07:02 INFO: DOCUMENT TRANSFORMER\n",
      "2023-06-07 07:07:02 INFO: POS REMOVAL\n",
      "2023-06-07 07:07:02 INFO: DOCUMENT TRANSFORMER\n",
      "2023-06-07 07:07:02 INFO: POS REMOVAL\n",
      "2023-06-07 07:07:03 INFO: DOCUMENT TRANSFORMER\n",
      "2023-06-07 07:07:03 INFO: POS REMOVAL\n",
      "2023-06-07 07:07:03 INFO: DOCUMENT TRANSFORMER\n",
      "2023-06-07 07:07:03 INFO: POS REMOVAL\n",
      "2023-06-07 07:07:03 INFO: DOCUMENT TRANSFORMER\n",
      "2023-06-07 07:07:04 INFO: POS REMOVAL\n",
      "2023-06-07 07:07:04 INFO: DOCUMENT TRANSFORMER\n",
      "2023-06-07 07:07:04 INFO: POS REMOVAL\n",
      "2023-06-07 07:07:04 INFO: DOCUMENT TRANSFORMER\n",
      "2023-06-07 07:07:04 INFO: POS REMOVAL\n",
      "2023-06-07 07:07:04 INFO: DOCUMENT TRANSFORMER\n",
      "2023-06-07 07:07:05 INFO: POS REMOVAL\n",
      "2023-06-07 07:07:05 INFO: DOCUMENT TRANSFORMER\n",
      "2023-06-07 07:07:05 INFO: POS REMOVAL\n",
      "2023-06-07 07:07:05 INFO: DOCUMENT TRANSFORMER\n",
      "2023-06-07 07:07:06 INFO: POS REMOVAL\n",
      "2023-06-07 07:07:06 INFO: DOCUMENT TRANSFORMER\n",
      "2023-06-07 07:07:07 INFO: POS REMOVAL\n",
      "2023-06-07 07:07:07 INFO: DOCUMENT TRANSFORMER\n",
      "2023-06-07 07:07:07 INFO: POS REMOVAL\n",
      "2023-06-07 07:07:07 INFO: DOCUMENT TRANSFORMER\n",
      "2023-06-07 07:07:08 INFO: POS REMOVAL\n",
      "2023-06-07 07:07:08 INFO: DOCUMENT TRANSFORMER\n",
      "2023-06-07 07:07:08 INFO: POS REMOVAL\n",
      "2023-06-07 07:07:08 INFO: DOCUMENT TRANSFORMER\n",
      "2023-06-07 07:07:09 INFO: POS REMOVAL\n",
      "2023-06-07 07:07:09 INFO: DOCUMENT TRANSFORMER\n",
      "2023-06-07 07:07:09 INFO: POS REMOVAL\n",
      "2023-06-07 07:07:09 INFO: DOCUMENT TRANSFORMER\n",
      "2023-06-07 07:07:09 INFO: POS REMOVAL\n",
      "2023-06-07 07:07:10 INFO: DOCUMENT TRANSFORMER\n",
      "2023-06-07 07:07:10 INFO: POS REMOVAL\n",
      "2023-06-07 07:07:10 INFO: DOCUMENT TRANSFORMER\n",
      "2023-06-07 07:07:10 INFO: POS REMOVAL\n",
      "2023-06-07 07:07:10 INFO: DOCUMENT TRANSFORMER\n",
      "2023-06-07 07:07:11 INFO: POS REMOVAL\n",
      "2023-06-07 07:07:11 INFO: DOCUMENT TRANSFORMER\n",
      "2023-06-07 07:07:11 INFO: POS REMOVAL\n",
      "2023-06-07 07:07:11 INFO: DOCUMENT TRANSFORMER\n",
      "2023-06-07 07:07:12 INFO: POS REMOVAL\n",
      "2023-06-07 07:07:12 INFO: DOCUMENT TRANSFORMER\n",
      "2023-06-07 07:07:12 INFO: POS REMOVAL\n",
      "2023-06-07 07:07:12 INFO: DOCUMENT TRANSFORMER\n",
      "2023-06-07 07:07:13 INFO: POS REMOVAL\n",
      "2023-06-07 07:07:13 INFO: DOCUMENT TRANSFORMER\n",
      "2023-06-07 07:07:13 INFO: POS REMOVAL\n",
      "2023-06-07 07:07:13 INFO: DOCUMENT TRANSFORMER\n",
      "2023-06-07 07:07:14 INFO: POS REMOVAL\n",
      "2023-06-07 07:07:14 INFO: DOCUMENT TRANSFORMER\n",
      "2023-06-07 07:07:14 INFO: POS REMOVAL\n",
      "2023-06-07 07:07:14 INFO: DOCUMENT TRANSFORMER\n",
      "2023-06-07 07:07:15 INFO: POS REMOVAL\n",
      "2023-06-07 07:07:15 INFO: DOCUMENT TRANSFORMER\n",
      "2023-06-07 07:07:15 INFO: POS REMOVAL\n",
      "2023-06-07 07:07:15 INFO: DOCUMENT TRANSFORMER\n",
      "2023-06-07 07:07:15 INFO: POS REMOVAL\n",
      "2023-06-07 07:07:16 INFO: DOCUMENT TRANSFORMER\n",
      "2023-06-07 07:07:16 INFO: POS REMOVAL\n",
      "2023-06-07 07:07:16 INFO: DOCUMENT TRANSFORMER\n",
      "2023-06-07 07:07:16 INFO: POS REMOVAL\n",
      "2023-06-07 07:07:16 INFO: DOCUMENT TRANSFORMER\n",
      "2023-06-07 07:07:17 INFO: POS REMOVAL\n",
      "2023-06-07 07:07:17 INFO: DOCUMENT TRANSFORMER\n",
      "2023-06-07 07:07:17 INFO: POS REMOVAL\n",
      "2023-06-07 07:07:17 INFO: DOCUMENT TRANSFORMER\n",
      "2023-06-07 07:07:17 INFO: POS REMOVAL\n",
      "2023-06-07 07:07:18 INFO: DOCUMENT TRANSFORMER\n",
      "2023-06-07 07:07:18 INFO: POS REMOVAL\n",
      "2023-06-07 07:07:18 INFO: DOCUMENT TRANSFORMER\n",
      "2023-06-07 07:07:18 INFO: POS REMOVAL\n",
      "2023-06-07 07:07:18 INFO: DOCUMENT TRANSFORMER\n",
      "2023-06-07 07:07:19 INFO: POS REMOVAL\n",
      "2023-06-07 07:07:19 INFO: DOCUMENT TRANSFORMER\n",
      "2023-06-07 07:07:19 INFO: POS REMOVAL\n",
      "2023-06-07 07:07:19 INFO: DOCUMENT TRANSFORMER\n",
      "2023-06-07 07:07:19 INFO: POS REMOVAL\n",
      "2023-06-07 07:07:19 INFO: DOCUMENT TRANSFORMER\n",
      "2023-06-07 07:07:20 INFO: POS REMOVAL\n",
      "2023-06-07 07:07:20 INFO: DOCUMENT TRANSFORMER\n",
      "2023-06-07 07:07:20 INFO: POS REMOVAL\n",
      "2023-06-07 07:07:20 INFO: DOCUMENT TRANSFORMER\n",
      "2023-06-07 07:07:21 INFO: POS REMOVAL\n",
      "2023-06-07 07:07:21 INFO: DOCUMENT TRANSFORMER\n",
      "2023-06-07 07:07:21 INFO: POS REMOVAL\n",
      "2023-06-07 07:07:21 INFO: DOCUMENT TRANSFORMER\n",
      "2023-06-07 07:07:21 INFO: POS REMOVAL\n",
      "2023-06-07 07:07:21 INFO: DOCUMENT TRANSFORMER\n",
      "2023-06-07 07:07:22 INFO: POS REMOVAL\n",
      "2023-06-07 07:07:22 INFO: DOCUMENT TRANSFORMER\n",
      "2023-06-07 07:07:22 INFO: POS REMOVAL\n",
      "2023-06-07 07:07:22 INFO: DOCUMENT TRANSFORMER\n",
      "2023-06-07 07:07:23 INFO: POS REMOVAL\n",
      "2023-06-07 07:07:23 INFO: DOCUMENT TRANSFORMER\n",
      "2023-06-07 07:07:23 INFO: POS REMOVAL\n",
      "2023-06-07 07:07:23 INFO: DOCUMENT TRANSFORMER\n",
      "2023-06-07 07:07:24 INFO: POS REMOVAL\n",
      "2023-06-07 07:07:24 INFO: DOCUMENT TRANSFORMER\n",
      "2023-06-07 07:07:24 INFO: POS REMOVAL\n",
      "2023-06-07 07:07:24 INFO: DOCUMENT TRANSFORMER\n",
      "2023-06-07 07:07:25 INFO: POS REMOVAL\n",
      "2023-06-07 07:07:25 INFO: DOCUMENT TRANSFORMER\n",
      "2023-06-07 07:07:25 INFO: POS REMOVAL\n",
      "2023-06-07 07:07:25 INFO: DOCUMENT TRANSFORMER\n",
      "2023-06-07 07:07:26 INFO: POS REMOVAL\n",
      "2023-06-07 07:07:26 INFO: DOCUMENT TRANSFORMER\n",
      "2023-06-07 07:07:26 INFO: POS REMOVAL\n",
      "2023-06-07 07:07:26 INFO: DOCUMENT TRANSFORMER\n",
      "2023-06-07 07:07:27 INFO: POS REMOVAL\n",
      "2023-06-07 07:07:27 INFO: DOCUMENT TRANSFORMER\n",
      "2023-06-07 07:07:28 INFO: POS REMOVAL\n",
      "2023-06-07 07:07:28 INFO: DOCUMENT TRANSFORMER\n",
      "2023-06-07 07:07:28 INFO: POS REMOVAL\n",
      "2023-06-07 07:07:28 INFO: DOCUMENT TRANSFORMER\n",
      "2023-06-07 07:07:29 INFO: POS REMOVAL\n",
      "2023-06-07 07:07:29 INFO: DOCUMENT TRANSFORMER\n",
      "2023-06-07 07:07:29 INFO: POS REMOVAL\n",
      "2023-06-07 07:07:30 INFO: DOCUMENT TRANSFORMER\n",
      "2023-06-07 07:07:30 INFO: POS REMOVAL\n",
      "2023-06-07 07:07:30 INFO: DOCUMENT TRANSFORMER\n",
      "2023-06-07 07:07:31 INFO: POS REMOVAL\n",
      "2023-06-07 07:07:31 INFO: DOCUMENT TRANSFORMER\n",
      "2023-06-07 07:07:31 INFO: POS REMOVAL\n",
      "2023-06-07 07:07:31 INFO: DOCUMENT TRANSFORMER\n",
      "2023-06-07 07:07:32 INFO: POS REMOVAL\n",
      "2023-06-07 07:07:32 INFO: DOCUMENT TRANSFORMER\n",
      "2023-06-07 07:07:32 INFO: POS REMOVAL\n",
      "2023-06-07 07:07:32 INFO: DOCUMENT TRANSFORMER\n",
      "2023-06-07 07:07:33 INFO: POS REMOVAL\n",
      "2023-06-07 07:07:33 INFO: DOCUMENT TRANSFORMER\n",
      "2023-06-07 07:07:33 INFO: POS REMOVAL\n",
      "2023-06-07 07:07:33 INFO: DOCUMENT TRANSFORMER\n",
      "2023-06-07 07:07:34 INFO: POS REMOVAL\n",
      "2023-06-07 07:07:34 INFO: DOCUMENT TRANSFORMER\n",
      "2023-06-07 07:07:34 INFO: POS REMOVAL\n",
      "2023-06-07 07:07:34 INFO: DOCUMENT TRANSFORMER\n",
      "2023-06-07 07:07:34 INFO: POS REMOVAL\n",
      "2023-06-07 07:07:35 INFO: DOCUMENT TRANSFORMER\n",
      "2023-06-07 07:07:35 INFO: POS REMOVAL\n",
      "2023-06-07 07:07:35 INFO: DOCUMENT TRANSFORMER\n",
      "2023-06-07 07:07:35 INFO: POS REMOVAL\n",
      "2023-06-07 07:07:35 INFO: DOCUMENT TRANSFORMER\n",
      "2023-06-07 07:07:36 INFO: POS REMOVAL\n",
      "2023-06-07 07:07:36 INFO: DOCUMENT TRANSFORMER\n",
      "2023-06-07 07:07:36 INFO: POS REMOVAL\n",
      "2023-06-07 07:07:36 INFO: DOCUMENT TRANSFORMER\n",
      "2023-06-07 07:07:36 INFO: POS REMOVAL\n",
      "2023-06-07 07:07:36 INFO: DOCUMENT TRANSFORMER\n",
      "2023-06-07 07:07:37 INFO: POS REMOVAL\n",
      "2023-06-07 07:07:37 INFO: DOCUMENT TRANSFORMER\n",
      "2023-06-07 07:07:37 INFO: POS REMOVAL\n",
      "2023-06-07 07:07:37 INFO: DOCUMENT TRANSFORMER\n",
      "2023-06-07 07:07:37 INFO: POS REMOVAL\n",
      "2023-06-07 07:07:38 INFO: DOCUMENT TRANSFORMER\n",
      "2023-06-07 07:07:38 INFO: POS REMOVAL\n",
      "2023-06-07 07:07:38 INFO: DOCUMENT TRANSFORMER\n",
      "2023-06-07 07:07:38 INFO: POS REMOVAL\n",
      "2023-06-07 07:07:38 INFO: DOCUMENT TRANSFORMER\n",
      "2023-06-07 07:07:39 INFO: POS REMOVAL\n",
      "2023-06-07 07:07:39 INFO: DOCUMENT TRANSFORMER\n",
      "2023-06-07 07:07:39 INFO: POS REMOVAL\n",
      "2023-06-07 07:07:39 INFO: DOCUMENT TRANSFORMER\n",
      "2023-06-07 07:07:39 INFO: POS REMOVAL\n",
      "2023-06-07 07:07:40 INFO: DOCUMENT TRANSFORMER\n",
      "2023-06-07 07:07:40 INFO: POS REMOVAL\n",
      "2023-06-07 07:07:40 INFO: DOCUMENT TRANSFORMER\n",
      "2023-06-07 07:07:40 INFO: POS REMOVAL\n",
      "2023-06-07 07:07:40 INFO: DOCUMENT TRANSFORMER\n",
      "2023-06-07 07:07:41 INFO: POS REMOVAL\n",
      "2023-06-07 07:07:41 INFO: DOCUMENT TRANSFORMER\n",
      "2023-06-07 07:07:41 INFO: POS REMOVAL\n",
      "2023-06-07 07:07:41 INFO: DOCUMENT TRANSFORMER\n",
      "2023-06-07 07:07:41 INFO: POS REMOVAL\n",
      "2023-06-07 07:07:42 INFO: DOCUMENT TRANSFORMER\n",
      "2023-06-07 07:07:42 INFO: POS REMOVAL\n",
      "2023-06-07 07:07:42 INFO: DOCUMENT TRANSFORMER\n",
      "2023-06-07 07:07:42 INFO: POS REMOVAL\n",
      "2023-06-07 07:07:43 INFO: DOCUMENT TRANSFORMER\n",
      "2023-06-07 07:07:43 INFO: POS REMOVAL\n",
      "2023-06-07 07:07:43 INFO: DOCUMENT TRANSFORMER\n",
      "2023-06-07 07:07:43 INFO: POS REMOVAL\n",
      "2023-06-07 07:07:44 INFO: DOCUMENT TRANSFORMER\n",
      "2023-06-07 07:07:44 INFO: POS REMOVAL\n",
      "2023-06-07 07:07:44 INFO: DOCUMENT TRANSFORMER\n",
      "2023-06-07 07:07:44 INFO: POS REMOVAL\n",
      "2023-06-07 07:07:44 INFO: DOCUMENT TRANSFORMER\n",
      "2023-06-07 07:07:45 INFO: POS REMOVAL\n",
      "2023-06-07 07:07:45 INFO: DOCUMENT TRANSFORMER\n",
      "2023-06-07 07:07:45 INFO: POS REMOVAL\n",
      "2023-06-07 07:07:45 INFO: DOCUMENT TRANSFORMER\n",
      "2023-06-07 07:07:46 INFO: POS REMOVAL\n",
      "2023-06-07 07:07:46 INFO: DOCUMENT TRANSFORMER\n",
      "2023-06-07 07:07:46 INFO: POS REMOVAL\n",
      "2023-06-07 07:07:46 INFO: DOCUMENT TRANSFORMER\n",
      "2023-06-07 07:07:47 INFO: POS REMOVAL\n",
      "2023-06-07 07:07:47 INFO: DOCUMENT TRANSFORMER\n",
      "2023-06-07 07:07:47 INFO: POS REMOVAL\n",
      "2023-06-07 07:07:48 INFO: DOCUMENT TRANSFORMER\n",
      "2023-06-07 07:07:48 INFO: POS REMOVAL\n",
      "2023-06-07 07:07:48 INFO: DOCUMENT TRANSFORMER\n",
      "2023-06-07 07:07:48 INFO: POS REMOVAL\n",
      "2023-06-07 07:07:49 INFO: DOCUMENT TRANSFORMER\n",
      "2023-06-07 07:07:49 INFO: POS REMOVAL\n",
      "2023-06-07 07:07:50 INFO: DOCUMENT TRANSFORMER\n",
      "2023-06-07 07:07:50 INFO: POS REMOVAL\n",
      "2023-06-07 07:07:50 INFO: DOCUMENT TRANSFORMER\n",
      "2023-06-07 07:07:50 INFO: POS REMOVAL\n",
      "2023-06-07 07:07:50 INFO: DOCUMENT TRANSFORMER\n",
      "2023-06-07 07:07:51 INFO: POS REMOVAL\n",
      "2023-06-07 07:07:51 INFO: DOCUMENT TRANSFORMER\n",
      "2023-06-07 07:07:51 INFO: POS REMOVAL\n",
      "2023-06-07 07:07:51 INFO: DOCUMENT TRANSFORMER\n",
      "2023-06-07 07:07:52 INFO: POS REMOVAL\n",
      "2023-06-07 07:07:52 INFO: DOCUMENT TRANSFORMER\n",
      "2023-06-07 07:07:52 INFO: POS REMOVAL\n",
      "2023-06-07 07:07:52 INFO: DOCUMENT TRANSFORMER\n",
      "2023-06-07 07:07:52 INFO: POS REMOVAL\n",
      "2023-06-07 07:07:53 INFO: DOCUMENT TRANSFORMER\n",
      "2023-06-07 07:07:53 INFO: POS REMOVAL\n",
      "2023-06-07 07:07:53 INFO: DOCUMENT TRANSFORMER\n",
      "2023-06-07 07:07:53 INFO: POS REMOVAL\n",
      "2023-06-07 07:07:53 INFO: DOCUMENT TRANSFORMER\n",
      "2023-06-07 07:07:54 INFO: POS REMOVAL\n",
      "2023-06-07 07:07:54 INFO: DOCUMENT TRANSFORMER\n",
      "2023-06-07 07:07:54 INFO: POS REMOVAL\n",
      "2023-06-07 07:07:54 INFO: DOCUMENT TRANSFORMER\n",
      "2023-06-07 07:07:54 INFO: POS REMOVAL\n",
      "2023-06-07 07:07:54 INFO: DOCUMENT TRANSFORMER\n",
      "2023-06-07 07:07:54 INFO: POS REMOVAL\n",
      "2023-06-07 07:07:54 INFO: DOCUMENT TRANSFORMER\n",
      "2023-06-07 07:07:55 INFO: POS REMOVAL\n",
      "2023-06-07 07:07:55 INFO: DOCUMENT TRANSFORMER\n",
      "2023-06-07 07:07:55 INFO: POS REMOVAL\n",
      "2023-06-07 07:07:55 INFO: DOCUMENT TRANSFORMER\n",
      "2023-06-07 07:07:55 INFO: POS REMOVAL\n",
      "2023-06-07 07:07:55 INFO: DOCUMENT TRANSFORMER\n",
      "2023-06-07 07:07:55 INFO: POS REMOVAL\n",
      "2023-06-07 07:07:55 INFO: DOCUMENT TRANSFORMER\n",
      "2023-06-07 07:07:56 INFO: POS REMOVAL\n",
      "2023-06-07 07:07:56 INFO: DOCUMENT TRANSFORMER\n",
      "2023-06-07 07:07:56 INFO: POS REMOVAL\n",
      "2023-06-07 07:07:56 INFO: DOCUMENT TRANSFORMER\n",
      "2023-06-07 07:07:56 INFO: POS REMOVAL\n",
      "2023-06-07 07:07:56 INFO: DOCUMENT TRANSFORMER\n",
      "2023-06-07 07:07:56 INFO: POS REMOVAL\n",
      "2023-06-07 07:07:56 INFO: DOCUMENT TRANSFORMER\n",
      "2023-06-07 07:07:57 INFO: POS REMOVAL\n",
      "2023-06-07 07:07:57 INFO: DOCUMENT TRANSFORMER\n",
      "2023-06-07 07:07:57 INFO: POS REMOVAL\n",
      "2023-06-07 07:07:57 INFO: DOCUMENT TRANSFORMER\n",
      "2023-06-07 07:07:57 INFO: POS REMOVAL\n",
      "2023-06-07 07:07:57 INFO: DOCUMENT TRANSFORMER\n",
      "2023-06-07 07:07:57 INFO: POS REMOVAL\n",
      "2023-06-07 07:07:57 INFO: DOCUMENT TRANSFORMER\n",
      "2023-06-07 07:07:58 INFO: POS REMOVAL\n",
      "2023-06-07 07:07:58 INFO: DOCUMENT TRANSFORMER\n",
      "2023-06-07 07:07:58 INFO: POS REMOVAL\n",
      "2023-06-07 07:07:58 INFO: DOCUMENT TRANSFORMER\n",
      "2023-06-07 07:07:58 INFO: POS REMOVAL\n",
      "2023-06-07 07:07:58 INFO: DOCUMENT TRANSFORMER\n",
      "2023-06-07 07:07:58 INFO: POS REMOVAL\n",
      "2023-06-07 07:07:59 INFO: DOCUMENT TRANSFORMER\n",
      "2023-06-07 07:07:59 INFO: POS REMOVAL\n",
      "2023-06-07 07:07:59 INFO: DOCUMENT TRANSFORMER\n",
      "2023-06-07 07:07:59 INFO: POS REMOVAL\n",
      "2023-06-07 07:07:59 INFO: DOCUMENT TRANSFORMER\n",
      "2023-06-07 07:07:59 INFO: POS REMOVAL\n",
      "2023-06-07 07:07:59 INFO: DOCUMENT TRANSFORMER\n",
      "2023-06-07 07:08:00 INFO: POS REMOVAL\n",
      "2023-06-07 07:08:00 INFO: DOCUMENT TRANSFORMER\n",
      "2023-06-07 07:08:00 INFO: POS REMOVAL\n",
      "2023-06-07 07:08:00 INFO: DOCUMENT TRANSFORMER\n",
      "2023-06-07 07:08:00 INFO: POS REMOVAL\n",
      "2023-06-07 07:08:00 INFO: DOCUMENT TRANSFORMER\n",
      "2023-06-07 07:08:01 INFO: POS REMOVAL\n",
      "2023-06-07 07:08:01 INFO: DOCUMENT TRANSFORMER\n",
      "2023-06-07 07:08:01 INFO: POS REMOVAL\n",
      "2023-06-07 07:08:01 INFO: DOCUMENT TRANSFORMER\n",
      "2023-06-07 07:08:01 INFO: POS REMOVAL\n",
      "2023-06-07 07:08:01 INFO: DOCUMENT TRANSFORMER\n",
      "2023-06-07 07:08:01 INFO: POS REMOVAL\n",
      "2023-06-07 07:08:01 INFO: DOCUMENT TRANSFORMER\n",
      "2023-06-07 07:08:02 INFO: POS REMOVAL\n",
      "2023-06-07 07:08:02 INFO: DOCUMENT TRANSFORMER\n",
      "2023-06-07 07:08:02 INFO: POS REMOVAL\n",
      "2023-06-07 07:08:02 INFO: DOCUMENT TRANSFORMER\n",
      "2023-06-07 07:08:02 INFO: POS REMOVAL\n",
      "2023-06-07 07:08:02 INFO: DOCUMENT TRANSFORMER\n",
      "2023-06-07 07:08:02 INFO: POS REMOVAL\n",
      "2023-06-07 07:08:02 INFO: DOCUMENT TRANSFORMER\n",
      "2023-06-07 07:08:03 INFO: POS REMOVAL\n",
      "2023-06-07 07:08:03 INFO: DOCUMENT TRANSFORMER\n",
      "2023-06-07 07:08:03 INFO: POS REMOVAL\n",
      "2023-06-07 07:08:03 INFO: DOCUMENT TRANSFORMER\n",
      "2023-06-07 07:08:03 INFO: POS REMOVAL\n",
      "2023-06-07 07:08:03 INFO: DOCUMENT TRANSFORMER\n",
      "2023-06-07 07:08:03 INFO: POS REMOVAL\n",
      "2023-06-07 07:08:04 INFO: DOCUMENT TRANSFORMER\n",
      "2023-06-07 07:08:04 INFO: POS REMOVAL\n",
      "2023-06-07 07:08:04 INFO: DOCUMENT TRANSFORMER\n",
      "2023-06-07 07:08:04 INFO: POS REMOVAL\n",
      "2023-06-07 07:08:04 INFO: DOCUMENT TRANSFORMER\n",
      "2023-06-07 07:08:05 INFO: POS REMOVAL\n",
      "2023-06-07 07:08:05 INFO: DOCUMENT TRANSFORMER\n",
      "2023-06-07 07:08:05 INFO: POS REMOVAL\n",
      "2023-06-07 07:08:05 INFO: DOCUMENT TRANSFORMER\n",
      "2023-06-07 07:08:05 INFO: POS REMOVAL\n",
      "2023-06-07 07:08:05 INFO: DOCUMENT TRANSFORMER\n",
      "2023-06-07 07:08:06 INFO: POS REMOVAL\n",
      "2023-06-07 07:08:06 INFO: DOCUMENT TRANSFORMER\n",
      "2023-06-07 07:08:06 INFO: POS REMOVAL\n",
      "2023-06-07 07:08:06 INFO: DOCUMENT TRANSFORMER\n",
      "2023-06-07 07:08:06 INFO: POS REMOVAL\n",
      "2023-06-07 07:08:06 INFO: DOCUMENT TRANSFORMER\n",
      "2023-06-07 07:08:07 INFO: POS REMOVAL\n",
      "2023-06-07 07:08:07 INFO: DOCUMENT TRANSFORMER\n",
      "2023-06-07 07:08:07 INFO: POS REMOVAL\n",
      "2023-06-07 07:08:07 INFO: DOCUMENT TRANSFORMER\n",
      "2023-06-07 07:08:08 INFO: POS REMOVAL\n",
      "2023-06-07 07:08:08 INFO: DOCUMENT TRANSFORMER\n",
      "2023-06-07 07:08:08 INFO: POS REMOVAL\n",
      "2023-06-07 07:08:08 INFO: DOCUMENT TRANSFORMER\n",
      "2023-06-07 07:08:08 INFO: POS REMOVAL\n",
      "2023-06-07 07:08:08 INFO: DOCUMENT TRANSFORMER\n",
      "2023-06-07 07:08:08 INFO: POS REMOVAL\n",
      "2023-06-07 07:08:08 INFO: DOCUMENT TRANSFORMER\n",
      "2023-06-07 07:08:09 INFO: POS REMOVAL\n",
      "2023-06-07 07:08:09 INFO: DOCUMENT TRANSFORMER\n",
      "2023-06-07 07:08:09 INFO: POS REMOVAL\n",
      "2023-06-07 07:08:09 INFO: DOCUMENT TRANSFORMER\n",
      "2023-06-07 07:08:10 INFO: POS REMOVAL\n",
      "2023-06-07 07:08:10 INFO: DOCUMENT TRANSFORMER\n",
      "2023-06-07 07:08:10 INFO: POS REMOVAL\n",
      "2023-06-07 07:08:10 INFO: DOCUMENT TRANSFORMER\n",
      "2023-06-07 07:08:10 INFO: POS REMOVAL\n",
      "2023-06-07 07:08:10 INFO: DOCUMENT TRANSFORMER\n",
      "2023-06-07 07:08:10 INFO: POS REMOVAL\n",
      "2023-06-07 07:08:11 INFO: DOCUMENT TRANSFORMER\n",
      "2023-06-07 07:08:11 INFO: POS REMOVAL\n",
      "2023-06-07 07:08:11 INFO: DOCUMENT TRANSFORMER\n",
      "2023-06-07 07:08:11 INFO: POS REMOVAL\n",
      "2023-06-07 07:08:11 INFO: DOCUMENT TRANSFORMER\n",
      "2023-06-07 07:08:12 INFO: POS REMOVAL\n",
      "2023-06-07 07:08:12 INFO: DOCUMENT TRANSFORMER\n",
      "2023-06-07 07:08:12 INFO: POS REMOVAL\n",
      "2023-06-07 07:08:12 INFO: DOCUMENT TRANSFORMER\n",
      "2023-06-07 07:08:13 INFO: POS REMOVAL\n",
      "2023-06-07 07:08:13 INFO: DOCUMENT TRANSFORMER\n",
      "2023-06-07 07:08:13 INFO: POS REMOVAL\n",
      "2023-06-07 07:08:13 INFO: DOCUMENT TRANSFORMER\n",
      "2023-06-07 07:08:13 INFO: POS REMOVAL\n",
      "2023-06-07 07:08:13 INFO: DOCUMENT TRANSFORMER\n",
      "2023-06-07 07:08:13 INFO: POS REMOVAL\n",
      "2023-06-07 07:08:13 INFO: DOCUMENT TRANSFORMER\n",
      "2023-06-07 07:08:14 INFO: POS REMOVAL\n",
      "2023-06-07 07:08:14 INFO: DOCUMENT TRANSFORMER\n",
      "2023-06-07 07:08:14 INFO: POS REMOVAL\n",
      "2023-06-07 07:08:14 INFO: DOCUMENT TRANSFORMER\n",
      "2023-06-07 07:08:15 INFO: POS REMOVAL\n",
      "2023-06-07 07:08:15 INFO: DOCUMENT TRANSFORMER\n",
      "2023-06-07 07:08:15 INFO: POS REMOVAL\n",
      "2023-06-07 07:08:15 INFO: DOCUMENT TRANSFORMER\n",
      "2023-06-07 07:08:15 INFO: POS REMOVAL\n",
      "2023-06-07 07:08:15 INFO: DOCUMENT TRANSFORMER\n",
      "2023-06-07 07:08:16 INFO: POS REMOVAL\n",
      "2023-06-07 07:08:16 INFO: DOCUMENT TRANSFORMER\n",
      "2023-06-07 07:08:17 INFO: POS REMOVAL\n",
      "2023-06-07 07:08:17 INFO: DOCUMENT TRANSFORMER\n",
      "2023-06-07 07:08:17 INFO: POS REMOVAL\n",
      "2023-06-07 07:08:17 INFO: DOCUMENT TRANSFORMER\n",
      "2023-06-07 07:08:17 INFO: POS REMOVAL\n",
      "2023-06-07 07:08:17 INFO: DOCUMENT TRANSFORMER\n",
      "2023-06-07 07:08:17 INFO: POS REMOVAL\n",
      "2023-06-07 07:08:17 INFO: DOCUMENT TRANSFORMER\n",
      "2023-06-07 07:08:18 INFO: POS REMOVAL\n",
      "2023-06-07 07:08:18 INFO: DOCUMENT TRANSFORMER\n",
      "2023-06-07 07:08:18 INFO: POS REMOVAL\n",
      "2023-06-07 07:08:18 INFO: DOCUMENT TRANSFORMER\n",
      "2023-06-07 07:08:18 INFO: POS REMOVAL\n",
      "2023-06-07 07:08:18 INFO: DOCUMENT TRANSFORMER\n",
      "2023-06-07 07:08:18 INFO: POS REMOVAL\n",
      "2023-06-07 07:08:19 INFO: DOCUMENT TRANSFORMER\n",
      "2023-06-07 07:08:19 INFO: POS REMOVAL\n",
      "2023-06-07 07:08:19 INFO: DOCUMENT TRANSFORMER\n",
      "2023-06-07 07:08:19 INFO: POS REMOVAL\n",
      "2023-06-07 07:08:19 INFO: DOCUMENT TRANSFORMER\n",
      "2023-06-07 07:08:19 INFO: POS REMOVAL\n",
      "2023-06-07 07:08:19 INFO: DOCUMENT TRANSFORMER\n",
      "2023-06-07 07:08:20 INFO: POS REMOVAL\n",
      "2023-06-07 07:08:20 INFO: DOCUMENT TRANSFORMER\n",
      "2023-06-07 07:08:20 INFO: POS REMOVAL\n",
      "2023-06-07 07:08:20 INFO: DOCUMENT TRANSFORMER\n",
      "2023-06-07 07:08:20 INFO: POS REMOVAL\n",
      "2023-06-07 07:08:20 INFO: DOCUMENT TRANSFORMER\n",
      "2023-06-07 07:08:21 INFO: POS REMOVAL\n",
      "2023-06-07 07:08:21 INFO: DOCUMENT TRANSFORMER\n",
      "2023-06-07 07:08:21 INFO: POS REMOVAL\n",
      "2023-06-07 07:08:21 INFO: DOCUMENT TRANSFORMER\n",
      "2023-06-07 07:08:21 INFO: POS REMOVAL\n",
      "2023-06-07 07:08:21 INFO: DOCUMENT TRANSFORMER\n",
      "2023-06-07 07:08:21 INFO: POS REMOVAL\n",
      "2023-06-07 07:08:21 INFO: DOCUMENT TRANSFORMER\n",
      "2023-06-07 07:08:22 INFO: POS REMOVAL\n",
      "2023-06-07 07:08:22 INFO: DOCUMENT TRANSFORMER\n",
      "2023-06-07 07:08:22 INFO: POS REMOVAL\n",
      "2023-06-07 07:08:22 INFO: DOCUMENT TRANSFORMER\n",
      "2023-06-07 07:08:22 INFO: POS REMOVAL\n",
      "2023-06-07 07:08:22 INFO: DOCUMENT TRANSFORMER\n",
      "2023-06-07 07:08:22 INFO: POS REMOVAL\n",
      "2023-06-07 07:08:22 INFO: DOCUMENT TRANSFORMER\n",
      "2023-06-07 07:08:23 INFO: POS REMOVAL\n",
      "2023-06-07 07:08:23 INFO: DOCUMENT TRANSFORMER\n",
      "2023-06-07 07:08:23 INFO: POS REMOVAL\n",
      "2023-06-07 07:08:23 INFO: DOCUMENT TRANSFORMER\n",
      "2023-06-07 07:08:23 INFO: POS REMOVAL\n",
      "2023-06-07 07:08:23 INFO: DOCUMENT TRANSFORMER\n",
      "2023-06-07 07:08:23 INFO: POS REMOVAL\n",
      "2023-06-07 07:08:23 INFO: DOCUMENT TRANSFORMER\n",
      "2023-06-07 07:08:24 INFO: POS REMOVAL\n",
      "2023-06-07 07:08:24 INFO: DOCUMENT TRANSFORMER\n",
      "2023-06-07 07:08:24 INFO: POS REMOVAL\n",
      "2023-06-07 07:08:24 INFO: DOCUMENT TRANSFORMER\n",
      "2023-06-07 07:08:24 INFO: POS REMOVAL\n",
      "2023-06-07 07:08:24 INFO: DOCUMENT TRANSFORMER\n",
      "2023-06-07 07:08:24 INFO: POS REMOVAL\n",
      "2023-06-07 07:08:24 INFO: DOCUMENT TRANSFORMER\n",
      "2023-06-07 07:08:25 INFO: POS REMOVAL\n",
      "2023-06-07 07:08:25 INFO: DOCUMENT TRANSFORMER\n",
      "2023-06-07 07:08:25 INFO: POS REMOVAL\n",
      "2023-06-07 07:08:25 INFO: DOCUMENT TRANSFORMER\n",
      "2023-06-07 07:08:25 INFO: POS REMOVAL\n",
      "2023-06-07 07:08:25 INFO: DOCUMENT TRANSFORMER\n",
      "2023-06-07 07:08:25 INFO: POS REMOVAL\n",
      "2023-06-07 07:08:26 INFO: DOCUMENT TRANSFORMER\n",
      "2023-06-07 07:08:26 INFO: POS REMOVAL\n",
      "2023-06-07 07:08:26 INFO: DOCUMENT TRANSFORMER\n",
      "2023-06-07 07:08:26 INFO: POS REMOVAL\n",
      "2023-06-07 07:08:26 INFO: DOCUMENT TRANSFORMER\n",
      "2023-06-07 07:08:26 INFO: POS REMOVAL\n",
      "2023-06-07 07:08:26 INFO: DOCUMENT TRANSFORMER\n",
      "2023-06-07 07:08:27 INFO: POS REMOVAL\n",
      "2023-06-07 07:08:27 INFO: DOCUMENT TRANSFORMER\n",
      "2023-06-07 07:08:27 INFO: POS REMOVAL\n",
      "2023-06-07 07:08:27 INFO: DOCUMENT TRANSFORMER\n",
      "2023-06-07 07:08:27 INFO: POS REMOVAL\n",
      "2023-06-07 07:08:27 INFO: DOCUMENT TRANSFORMER\n",
      "2023-06-07 07:08:27 INFO: POS REMOVAL\n",
      "2023-06-07 07:08:27 INFO: DOCUMENT TRANSFORMER\n",
      "2023-06-07 07:08:28 INFO: POS REMOVAL\n",
      "2023-06-07 07:08:28 INFO: DOCUMENT TRANSFORMER\n",
      "2023-06-07 07:08:28 INFO: POS REMOVAL\n",
      "2023-06-07 07:08:28 INFO: DOCUMENT TRANSFORMER\n",
      "2023-06-07 07:08:28 INFO: POS REMOVAL\n",
      "2023-06-07 07:08:28 INFO: DOCUMENT TRANSFORMER\n",
      "2023-06-07 07:08:29 INFO: POS REMOVAL\n",
      "2023-06-07 07:08:29 INFO: DOCUMENT TRANSFORMER\n",
      "2023-06-07 07:08:29 INFO: POS REMOVAL\n",
      "2023-06-07 07:08:29 INFO: DOCUMENT TRANSFORMER\n",
      "2023-06-07 07:08:29 INFO: POS REMOVAL\n",
      "2023-06-07 07:08:29 INFO: DOCUMENT TRANSFORMER\n",
      "2023-06-07 07:08:29 INFO: POS REMOVAL\n",
      "2023-06-07 07:08:29 INFO: DOCUMENT TRANSFORMER\n",
      "2023-06-07 07:08:30 INFO: POS REMOVAL\n",
      "2023-06-07 07:08:30 INFO: DOCUMENT TRANSFORMER\n",
      "2023-06-07 07:08:30 INFO: POS REMOVAL\n",
      "2023-06-07 07:08:30 INFO: DOCUMENT TRANSFORMER\n",
      "2023-06-07 07:08:30 INFO: POS REMOVAL\n",
      "2023-06-07 07:08:30 INFO: DOCUMENT TRANSFORMER\n",
      "2023-06-07 07:08:31 INFO: POS REMOVAL\n",
      "2023-06-07 07:08:31 INFO: DOCUMENT TRANSFORMER\n",
      "2023-06-07 07:08:31 INFO: POS REMOVAL\n",
      "2023-06-07 07:08:31 INFO: DOCUMENT TRANSFORMER\n",
      "2023-06-07 07:08:31 INFO: POS REMOVAL\n",
      "2023-06-07 07:08:31 INFO: DOCUMENT TRANSFORMER\n",
      "2023-06-07 07:08:32 INFO: POS REMOVAL\n",
      "2023-06-07 07:08:32 INFO: DOCUMENT TRANSFORMER\n",
      "2023-06-07 07:08:32 INFO: POS REMOVAL\n",
      "2023-06-07 07:08:32 INFO: DOCUMENT TRANSFORMER\n",
      "2023-06-07 07:08:32 INFO: POS REMOVAL\n",
      "2023-06-07 07:08:32 INFO: DOCUMENT TRANSFORMER\n",
      "2023-06-07 07:08:32 INFO: POS REMOVAL\n",
      "2023-06-07 07:08:32 INFO: DOCUMENT TRANSFORMER\n",
      "2023-06-07 07:08:33 INFO: POS REMOVAL\n",
      "2023-06-07 07:08:33 INFO: DOCUMENT TRANSFORMER\n",
      "2023-06-07 07:08:33 INFO: POS REMOVAL\n",
      "2023-06-07 07:08:33 INFO: DOCUMENT TRANSFORMER\n",
      "2023-06-07 07:08:33 INFO: POS REMOVAL\n",
      "2023-06-07 07:08:33 INFO: DOCUMENT TRANSFORMER\n",
      "2023-06-07 07:08:34 INFO: POS REMOVAL\n",
      "2023-06-07 07:08:34 INFO: DOCUMENT TRANSFORMER\n",
      "2023-06-07 07:08:34 INFO: POS REMOVAL\n",
      "2023-06-07 07:08:34 INFO: DOCUMENT TRANSFORMER\n",
      "2023-06-07 07:08:34 INFO: POS REMOVAL\n",
      "2023-06-07 07:08:34 INFO: DOCUMENT TRANSFORMER\n",
      "2023-06-07 07:08:35 INFO: POS REMOVAL\n",
      "2023-06-07 07:08:35 INFO: DOCUMENT TRANSFORMER\n",
      "2023-06-07 07:08:35 INFO: POS REMOVAL\n",
      "2023-06-07 07:08:35 INFO: DOCUMENT TRANSFORMER\n",
      "2023-06-07 07:08:35 INFO: POS REMOVAL\n",
      "2023-06-07 07:08:35 INFO: DOCUMENT TRANSFORMER\n",
      "2023-06-07 07:08:35 INFO: POS REMOVAL\n",
      "2023-06-07 07:08:35 INFO: DOCUMENT TRANSFORMER\n",
      "2023-06-07 07:08:36 INFO: POS REMOVAL\n",
      "2023-06-07 07:08:36 INFO: DOCUMENT TRANSFORMER\n",
      "2023-06-07 07:08:36 INFO: POS REMOVAL\n",
      "2023-06-07 07:08:36 INFO: DOCUMENT TRANSFORMER\n",
      "2023-06-07 07:08:37 INFO: POS REMOVAL\n",
      "2023-06-07 07:08:37 INFO: DOCUMENT TRANSFORMER\n",
      "2023-06-07 07:08:37 INFO: POS REMOVAL\n",
      "2023-06-07 07:08:37 INFO: DOCUMENT TRANSFORMER\n",
      "2023-06-07 07:08:37 INFO: POS REMOVAL\n",
      "2023-06-07 07:08:37 INFO: DOCUMENT TRANSFORMER\n",
      "2023-06-07 07:08:37 INFO: POS REMOVAL\n",
      "2023-06-07 07:08:37 INFO: DOCUMENT TRANSFORMER\n",
      "2023-06-07 07:08:38 INFO: POS REMOVAL\n",
      "2023-06-07 07:08:38 INFO: DOCUMENT TRANSFORMER\n",
      "2023-06-07 07:08:38 INFO: POS REMOVAL\n",
      "2023-06-07 07:08:38 INFO: DOCUMENT TRANSFORMER\n",
      "2023-06-07 07:08:39 INFO: POS REMOVAL\n",
      "2023-06-07 07:08:39 INFO: DOCUMENT TRANSFORMER\n",
      "2023-06-07 07:08:39 INFO: POS REMOVAL\n",
      "2023-06-07 07:08:39 INFO: DOCUMENT TRANSFORMER\n",
      "2023-06-07 07:08:39 INFO: POS REMOVAL\n",
      "2023-06-07 07:08:39 INFO: DOCUMENT TRANSFORMER\n",
      "2023-06-07 07:08:39 INFO: POS REMOVAL\n",
      "2023-06-07 07:08:39 INFO: DOCUMENT TRANSFORMER\n",
      "2023-06-07 07:08:40 INFO: POS REMOVAL\n",
      "2023-06-07 07:08:40 INFO: DOCUMENT TRANSFORMER\n",
      "2023-06-07 07:08:40 INFO: POS REMOVAL\n",
      "2023-06-07 07:08:40 INFO: DOCUMENT TRANSFORMER\n",
      "2023-06-07 07:08:40 INFO: POS REMOVAL\n",
      "2023-06-07 07:08:40 INFO: DOCUMENT TRANSFORMER\n",
      "2023-06-07 07:08:41 INFO: POS REMOVAL\n",
      "2023-06-07 07:08:41 INFO: DOCUMENT TRANSFORMER\n",
      "2023-06-07 07:08:41 INFO: POS REMOVAL\n",
      "2023-06-07 07:08:41 INFO: DOCUMENT TRANSFORMER\n",
      "2023-06-07 07:08:41 INFO: POS REMOVAL\n",
      "2023-06-07 07:08:41 INFO: DOCUMENT TRANSFORMER\n",
      "2023-06-07 07:08:41 INFO: POS REMOVAL\n",
      "2023-06-07 07:08:42 INFO: DOCUMENT TRANSFORMER\n",
      "2023-06-07 07:08:42 INFO: POS REMOVAL\n",
      "2023-06-07 07:08:42 INFO: DOCUMENT TRANSFORMER\n",
      "2023-06-07 07:08:42 INFO: POS REMOVAL\n",
      "2023-06-07 07:08:42 INFO: DOCUMENT TRANSFORMER\n",
      "2023-06-07 07:08:42 INFO: POS REMOVAL\n",
      "2023-06-07 07:08:42 INFO: DOCUMENT TRANSFORMER\n",
      "2023-06-07 07:08:43 INFO: POS REMOVAL\n",
      "2023-06-07 07:08:43 INFO: DOCUMENT TRANSFORMER\n",
      "2023-06-07 07:08:43 INFO: POS REMOVAL\n",
      "2023-06-07 07:08:43 INFO: DOCUMENT TRANSFORMER\n",
      "2023-06-07 07:08:44 INFO: POS REMOVAL\n",
      "2023-06-07 07:08:44 INFO: DOCUMENT TRANSFORMER\n",
      "2023-06-07 07:08:44 INFO: POS REMOVAL\n",
      "2023-06-07 07:08:44 INFO: DOCUMENT TRANSFORMER\n",
      "2023-06-07 07:08:44 INFO: POS REMOVAL\n",
      "2023-06-07 07:08:44 INFO: DOCUMENT TRANSFORMER\n",
      "2023-06-07 07:08:44 INFO: POS REMOVAL\n",
      "2023-06-07 07:08:44 INFO: DOCUMENT TRANSFORMER\n",
      "2023-06-07 07:08:45 INFO: POS REMOVAL\n",
      "2023-06-07 07:08:45 INFO: DOCUMENT TRANSFORMER\n",
      "2023-06-07 07:08:45 INFO: POS REMOVAL\n",
      "2023-06-07 07:08:45 INFO: DOCUMENT TRANSFORMER\n",
      "2023-06-07 07:08:45 INFO: POS REMOVAL\n",
      "2023-06-07 07:08:45 INFO: DOCUMENT TRANSFORMER\n",
      "2023-06-07 07:08:45 INFO: POS REMOVAL\n",
      "2023-06-07 07:08:45 INFO: DOCUMENT TRANSFORMER\n",
      "2023-06-07 07:08:46 INFO: POS REMOVAL\n",
      "2023-06-07 07:08:46 INFO: DOCUMENT TRANSFORMER\n",
      "2023-06-07 07:08:46 INFO: POS REMOVAL\n",
      "2023-06-07 07:08:46 INFO: DOCUMENT TRANSFORMER\n",
      "2023-06-07 07:08:46 INFO: POS REMOVAL\n",
      "2023-06-07 07:08:46 INFO: DOCUMENT TRANSFORMER\n",
      "2023-06-07 07:08:46 INFO: POS REMOVAL\n",
      "2023-06-07 07:08:46 INFO: DOCUMENT TRANSFORMER\n",
      "2023-06-07 07:08:47 INFO: POS REMOVAL\n",
      "2023-06-07 07:08:47 INFO: DOCUMENT TRANSFORMER\n",
      "2023-06-07 07:08:47 INFO: POS REMOVAL\n",
      "2023-06-07 07:08:47 INFO: DOCUMENT TRANSFORMER\n",
      "2023-06-07 07:08:47 INFO: POS REMOVAL\n",
      "2023-06-07 07:08:47 INFO: DOCUMENT TRANSFORMER\n",
      "2023-06-07 07:08:47 INFO: POS REMOVAL\n",
      "2023-06-07 07:08:48 INFO: DOCUMENT TRANSFORMER\n",
      "2023-06-07 07:08:48 INFO: POS REMOVAL\n",
      "2023-06-07 07:08:48 INFO: DOCUMENT TRANSFORMER\n",
      "2023-06-07 07:08:48 INFO: POS REMOVAL\n",
      "2023-06-07 07:08:48 INFO: DOCUMENT TRANSFORMER\n",
      "2023-06-07 07:08:48 INFO: POS REMOVAL\n",
      "2023-06-07 07:08:48 INFO: DOCUMENT TRANSFORMER\n",
      "2023-06-07 07:08:49 INFO: POS REMOVAL\n",
      "2023-06-07 07:08:49 INFO: DOCUMENT TRANSFORMER\n",
      "2023-06-07 07:08:49 INFO: POS REMOVAL\n",
      "2023-06-07 07:08:49 INFO: DOCUMENT TRANSFORMER\n",
      "2023-06-07 07:08:49 INFO: POS REMOVAL\n",
      "2023-06-07 07:08:49 INFO: DOCUMENT TRANSFORMER\n",
      "2023-06-07 07:08:50 INFO: POS REMOVAL\n",
      "2023-06-07 07:08:50 INFO: DOCUMENT TRANSFORMER\n",
      "2023-06-07 07:08:50 INFO: POS REMOVAL\n",
      "2023-06-07 07:08:50 INFO: DOCUMENT TRANSFORMER\n",
      "2023-06-07 07:08:50 INFO: POS REMOVAL\n",
      "2023-06-07 07:08:50 INFO: DOCUMENT TRANSFORMER\n",
      "2023-06-07 07:08:50 INFO: POS REMOVAL\n",
      "2023-06-07 07:08:50 INFO: DOCUMENT TRANSFORMER\n",
      "2023-06-07 07:08:51 INFO: POS REMOVAL\n",
      "2023-06-07 07:08:51 INFO: DOCUMENT TRANSFORMER\n",
      "2023-06-07 07:08:51 INFO: POS REMOVAL\n",
      "2023-06-07 07:08:51 INFO: DOCUMENT TRANSFORMER\n",
      "2023-06-07 07:08:51 INFO: POS REMOVAL\n",
      "2023-06-07 07:08:51 INFO: DOCUMENT TRANSFORMER\n",
      "2023-06-07 07:08:51 INFO: POS REMOVAL\n",
      "2023-06-07 07:08:51 INFO: DOCUMENT TRANSFORMER\n",
      "2023-06-07 07:08:52 INFO: POS REMOVAL\n",
      "2023-06-07 07:08:52 INFO: DOCUMENT TRANSFORMER\n",
      "2023-06-07 07:08:52 INFO: POS REMOVAL\n",
      "2023-06-07 07:08:52 INFO: DOCUMENT TRANSFORMER\n",
      "2023-06-07 07:08:52 INFO: POS REMOVAL\n",
      "2023-06-07 07:08:52 INFO: DOCUMENT TRANSFORMER\n",
      "2023-06-07 07:08:53 INFO: POS REMOVAL\n",
      "2023-06-07 07:08:53 INFO: DOCUMENT TRANSFORMER\n",
      "2023-06-07 07:08:53 INFO: POS REMOVAL\n",
      "2023-06-07 07:08:53 INFO: DOCUMENT TRANSFORMER\n",
      "2023-06-07 07:08:53 INFO: POS REMOVAL\n",
      "2023-06-07 07:08:53 INFO: DOCUMENT TRANSFORMER\n",
      "2023-06-07 07:08:54 INFO: POS REMOVAL\n",
      "2023-06-07 07:08:54 INFO: DOCUMENT TRANSFORMER\n",
      "2023-06-07 07:08:54 INFO: POS REMOVAL\n",
      "2023-06-07 07:08:54 INFO: DOCUMENT TRANSFORMER\n",
      "2023-06-07 07:08:55 INFO: POS REMOVAL\n",
      "2023-06-07 07:08:55 INFO: DOCUMENT TRANSFORMER\n",
      "2023-06-07 07:08:55 INFO: POS REMOVAL\n",
      "2023-06-07 07:08:55 INFO: DOCUMENT TRANSFORMER\n",
      "2023-06-07 07:08:55 INFO: POS REMOVAL\n",
      "2023-06-07 07:08:55 INFO: DOCUMENT TRANSFORMER\n",
      "2023-06-07 07:08:55 INFO: POS REMOVAL\n",
      "2023-06-07 07:08:56 INFO: DOCUMENT TRANSFORMER\n",
      "2023-06-07 07:08:56 INFO: POS REMOVAL\n",
      "2023-06-07 07:08:56 INFO: DOCUMENT TRANSFORMER\n",
      "2023-06-07 07:08:56 INFO: POS REMOVAL\n",
      "2023-06-07 07:08:56 INFO: DOCUMENT TRANSFORMER\n",
      "2023-06-07 07:08:57 INFO: POS REMOVAL\n",
      "2023-06-07 07:08:57 INFO: DOCUMENT TRANSFORMER\n",
      "2023-06-07 07:08:57 INFO: POS REMOVAL\n",
      "2023-06-07 07:08:57 INFO: DOCUMENT TRANSFORMER\n",
      "2023-06-07 07:08:57 INFO: POS REMOVAL\n",
      "2023-06-07 07:08:57 INFO: DOCUMENT TRANSFORMER\n",
      "2023-06-07 07:08:58 INFO: POS REMOVAL\n",
      "2023-06-07 07:08:58 INFO: DOCUMENT TRANSFORMER\n",
      "2023-06-07 07:08:58 INFO: POS REMOVAL\n",
      "2023-06-07 07:08:58 INFO: DOCUMENT TRANSFORMER\n",
      "2023-06-07 07:08:58 INFO: POS REMOVAL\n",
      "2023-06-07 07:08:58 INFO: DOCUMENT TRANSFORMER\n",
      "2023-06-07 07:08:59 INFO: POS REMOVAL\n",
      "2023-06-07 07:08:59 INFO: DOCUMENT TRANSFORMER\n",
      "2023-06-07 07:08:59 INFO: POS REMOVAL\n",
      "2023-06-07 07:08:59 INFO: DOCUMENT TRANSFORMER\n",
      "2023-06-07 07:09:00 INFO: POS REMOVAL\n",
      "2023-06-07 07:09:00 INFO: DOCUMENT TRANSFORMER\n",
      "2023-06-07 07:09:00 INFO: POS REMOVAL\n",
      "2023-06-07 07:09:00 INFO: DOCUMENT TRANSFORMER\n",
      "2023-06-07 07:09:00 INFO: POS REMOVAL\n",
      "2023-06-07 07:09:00 INFO: DOCUMENT TRANSFORMER\n",
      "2023-06-07 07:09:00 INFO: POS REMOVAL\n",
      "2023-06-07 07:09:01 INFO: DOCUMENT TRANSFORMER\n",
      "2023-06-07 07:09:01 INFO: POS REMOVAL\n",
      "2023-06-07 07:09:01 INFO: DOCUMENT TRANSFORMER\n",
      "2023-06-07 07:09:01 INFO: POS REMOVAL\n",
      "2023-06-07 07:09:01 INFO: DOCUMENT TRANSFORMER\n",
      "2023-06-07 07:09:02 INFO: POS REMOVAL\n",
      "2023-06-07 07:09:02 INFO: DOCUMENT TRANSFORMER\n",
      "2023-06-07 07:09:02 INFO: POS REMOVAL\n",
      "2023-06-07 07:09:02 INFO: DOCUMENT TRANSFORMER\n",
      "2023-06-07 07:09:03 INFO: POS REMOVAL\n",
      "2023-06-07 07:09:03 INFO: DOCUMENT TRANSFORMER\n",
      "2023-06-07 07:09:03 INFO: POS REMOVAL\n",
      "2023-06-07 07:09:03 INFO: DOCUMENT TRANSFORMER\n",
      "2023-06-07 07:09:03 INFO: POS REMOVAL\n",
      "2023-06-07 07:09:03 INFO: DOCUMENT TRANSFORMER\n",
      "2023-06-07 07:09:03 INFO: POS REMOVAL\n",
      "2023-06-07 07:09:03 INFO: DOCUMENT TRANSFORMER\n",
      "2023-06-07 07:09:04 INFO: POS REMOVAL\n",
      "2023-06-07 07:09:04 INFO: DOCUMENT TRANSFORMER\n",
      "2023-06-07 07:09:04 INFO: POS REMOVAL\n",
      "2023-06-07 07:09:04 INFO: DOCUMENT TRANSFORMER\n",
      "2023-06-07 07:09:05 INFO: POS REMOVAL\n",
      "2023-06-07 07:09:05 INFO: DOCUMENT TRANSFORMER\n",
      "2023-06-07 07:09:05 INFO: POS REMOVAL\n",
      "2023-06-07 07:09:05 INFO: DOCUMENT TRANSFORMER\n",
      "2023-06-07 07:09:05 INFO: POS REMOVAL\n",
      "2023-06-07 07:09:05 INFO: DOCUMENT TRANSFORMER\n",
      "2023-06-07 07:09:06 INFO: POS REMOVAL\n",
      "2023-06-07 07:09:06 INFO: DOCUMENT TRANSFORMER\n",
      "2023-06-07 07:09:06 INFO: POS REMOVAL\n",
      "2023-06-07 07:09:06 INFO: DOCUMENT TRANSFORMER\n",
      "2023-06-07 07:09:06 INFO: POS REMOVAL\n",
      "2023-06-07 07:09:06 INFO: DOCUMENT TRANSFORMER\n",
      "2023-06-07 07:09:07 INFO: POS REMOVAL\n",
      "2023-06-07 07:09:07 INFO: DOCUMENT TRANSFORMER\n",
      "2023-06-07 07:09:07 INFO: POS REMOVAL\n",
      "2023-06-07 07:09:07 INFO: DOCUMENT TRANSFORMER\n",
      "2023-06-07 07:09:07 INFO: POS REMOVAL\n",
      "2023-06-07 07:09:07 INFO: DOCUMENT TRANSFORMER\n",
      "2023-06-07 07:09:07 INFO: POS REMOVAL\n",
      "2023-06-07 07:09:07 INFO: DOCUMENT TRANSFORMER\n",
      "2023-06-07 07:09:08 INFO: POS REMOVAL\n",
      "2023-06-07 07:09:08 INFO: DOCUMENT TRANSFORMER\n",
      "2023-06-07 07:09:08 INFO: POS REMOVAL\n",
      "2023-06-07 07:09:08 INFO: DOCUMENT TRANSFORMER\n",
      "2023-06-07 07:09:08 INFO: POS REMOVAL\n",
      "2023-06-07 07:09:08 INFO: DOCUMENT TRANSFORMER\n",
      "2023-06-07 07:09:09 INFO: POS REMOVAL\n",
      "2023-06-07 07:09:09 INFO: DOCUMENT TRANSFORMER\n",
      "2023-06-07 07:09:09 INFO: POS REMOVAL\n",
      "2023-06-07 07:09:09 INFO: DOCUMENT TRANSFORMER\n",
      "2023-06-07 07:09:09 INFO: POS REMOVAL\n",
      "2023-06-07 07:09:09 INFO: DOCUMENT TRANSFORMER\n",
      "2023-06-07 07:09:09 INFO: POS REMOVAL\n",
      "2023-06-07 07:09:10 INFO: DOCUMENT TRANSFORMER\n",
      "2023-06-07 07:09:10 INFO: POS REMOVAL\n",
      "2023-06-07 07:09:10 INFO: DOCUMENT TRANSFORMER\n",
      "2023-06-07 07:09:10 INFO: POS REMOVAL\n",
      "2023-06-07 07:09:10 INFO: DOCUMENT TRANSFORMER\n",
      "2023-06-07 07:09:10 INFO: POS REMOVAL\n",
      "2023-06-07 07:09:10 INFO: DOCUMENT TRANSFORMER\n",
      "2023-06-07 07:09:11 INFO: POS REMOVAL\n",
      "2023-06-07 07:09:11 INFO: DOCUMENT TRANSFORMER\n",
      "2023-06-07 07:09:11 INFO: POS REMOVAL\n",
      "2023-06-07 07:09:11 INFO: DOCUMENT TRANSFORMER\n",
      "2023-06-07 07:09:12 INFO: POS REMOVAL\n",
      "2023-06-07 07:09:12 INFO: DOCUMENT TRANSFORMER\n",
      "2023-06-07 07:09:12 INFO: POS REMOVAL\n",
      "2023-06-07 07:09:12 INFO: DOCUMENT TRANSFORMER\n",
      "2023-06-07 07:09:12 INFO: POS REMOVAL\n",
      "2023-06-07 07:09:12 INFO: DOCUMENT TRANSFORMER\n",
      "2023-06-07 07:09:12 INFO: POS REMOVAL\n",
      "2023-06-07 07:09:12 INFO: DOCUMENT TRANSFORMER\n",
      "2023-06-07 07:09:13 INFO: POS REMOVAL\n",
      "2023-06-07 07:09:13 INFO: DOCUMENT TRANSFORMER\n",
      "2023-06-07 07:09:13 INFO: POS REMOVAL\n",
      "2023-06-07 07:09:13 INFO: DOCUMENT TRANSFORMER\n",
      "2023-06-07 07:09:13 INFO: POS REMOVAL\n",
      "2023-06-07 07:09:13 INFO: DOCUMENT TRANSFORMER\n",
      "2023-06-07 07:09:13 INFO: POS REMOVAL\n",
      "2023-06-07 07:09:13 INFO: DOCUMENT TRANSFORMER\n",
      "2023-06-07 07:09:14 INFO: POS REMOVAL\n",
      "2023-06-07 07:09:14 INFO: DOCUMENT TRANSFORMER\n",
      "2023-06-07 07:09:14 INFO: POS REMOVAL\n",
      "2023-06-07 07:09:14 INFO: DOCUMENT TRANSFORMER\n",
      "2023-06-07 07:09:14 INFO: POS REMOVAL\n",
      "2023-06-07 07:09:14 INFO: DOCUMENT TRANSFORMER\n",
      "2023-06-07 07:09:14 INFO: POS REMOVAL\n",
      "2023-06-07 07:09:14 INFO: DOCUMENT TRANSFORMER\n",
      "2023-06-07 07:09:15 INFO: POS REMOVAL\n",
      "2023-06-07 07:09:15 INFO: DOCUMENT TRANSFORMER\n",
      "2023-06-07 07:09:15 INFO: POS REMOVAL\n",
      "2023-06-07 07:09:15 INFO: DOCUMENT TRANSFORMER\n",
      "2023-06-07 07:09:15 INFO: POS REMOVAL\n",
      "2023-06-07 07:09:15 INFO: DOCUMENT TRANSFORMER\n",
      "2023-06-07 07:09:15 INFO: POS REMOVAL\n",
      "2023-06-07 07:09:15 INFO: DOCUMENT TRANSFORMER\n",
      "2023-06-07 07:09:16 INFO: POS REMOVAL\n",
      "2023-06-07 07:09:16 INFO: DOCUMENT TRANSFORMER\n",
      "2023-06-07 07:09:16 INFO: POS REMOVAL\n",
      "2023-06-07 07:09:16 INFO: DOCUMENT TRANSFORMER\n",
      "2023-06-07 07:09:16 INFO: POS REMOVAL\n",
      "2023-06-07 07:09:16 INFO: DOCUMENT TRANSFORMER\n",
      "2023-06-07 07:09:16 INFO: POS REMOVAL\n",
      "2023-06-07 07:09:17 INFO: DOCUMENT TRANSFORMER\n",
      "2023-06-07 07:09:17 INFO: POS REMOVAL\n",
      "2023-06-07 07:09:17 INFO: DOCUMENT TRANSFORMER\n",
      "2023-06-07 07:09:17 INFO: POS REMOVAL\n",
      "2023-06-07 07:09:17 INFO: DOCUMENT TRANSFORMER\n",
      "2023-06-07 07:09:17 INFO: POS REMOVAL\n",
      "2023-06-07 07:09:17 INFO: DOCUMENT TRANSFORMER\n",
      "2023-06-07 07:09:18 INFO: POS REMOVAL\n",
      "2023-06-07 07:09:18 INFO: DOCUMENT TRANSFORMER\n",
      "2023-06-07 07:09:18 INFO: POS REMOVAL\n",
      "2023-06-07 07:09:18 INFO: DOCUMENT TRANSFORMER\n",
      "2023-06-07 07:09:18 INFO: POS REMOVAL\n",
      "2023-06-07 07:09:18 INFO: DOCUMENT TRANSFORMER\n",
      "2023-06-07 07:09:19 INFO: POS REMOVAL\n",
      "2023-06-07 07:09:19 INFO: DOCUMENT TRANSFORMER\n",
      "2023-06-07 07:09:19 INFO: POS REMOVAL\n",
      "2023-06-07 07:09:19 INFO: DOCUMENT TRANSFORMER\n",
      "2023-06-07 07:09:19 INFO: POS REMOVAL\n",
      "2023-06-07 07:09:19 INFO: DOCUMENT TRANSFORMER\n",
      "2023-06-07 07:09:20 INFO: POS REMOVAL\n",
      "2023-06-07 07:09:20 INFO: DOCUMENT TRANSFORMER\n",
      "2023-06-07 07:09:20 INFO: POS REMOVAL\n",
      "2023-06-07 07:09:20 INFO: DOCUMENT TRANSFORMER\n",
      "2023-06-07 07:09:20 INFO: POS REMOVAL\n",
      "2023-06-07 07:09:20 INFO: DOCUMENT TRANSFORMER\n",
      "2023-06-07 07:09:21 INFO: POS REMOVAL\n",
      "2023-06-07 07:09:21 INFO: DOCUMENT TRANSFORMER\n",
      "2023-06-07 07:09:21 INFO: POS REMOVAL\n",
      "2023-06-07 07:09:21 INFO: DOCUMENT TRANSFORMER\n",
      "2023-06-07 07:09:21 INFO: POS REMOVAL\n",
      "2023-06-07 07:09:21 INFO: DOCUMENT TRANSFORMER\n",
      "2023-06-07 07:09:21 INFO: POS REMOVAL\n",
      "2023-06-07 07:09:21 INFO: DOCUMENT TRANSFORMER\n",
      "2023-06-07 07:09:22 INFO: POS REMOVAL\n",
      "2023-06-07 07:09:22 INFO: DOCUMENT TRANSFORMER\n",
      "2023-06-07 07:09:22 INFO: POS REMOVAL\n",
      "2023-06-07 07:09:22 INFO: DOCUMENT TRANSFORMER\n",
      "2023-06-07 07:09:23 INFO: POS REMOVAL\n",
      "2023-06-07 07:09:23 INFO: DOCUMENT TRANSFORMER\n",
      "2023-06-07 07:09:23 INFO: POS REMOVAL\n",
      "2023-06-07 07:09:23 INFO: DOCUMENT TRANSFORMER\n",
      "2023-06-07 07:09:23 INFO: POS REMOVAL\n",
      "2023-06-07 07:09:23 INFO: DOCUMENT TRANSFORMER\n",
      "2023-06-07 07:09:23 INFO: POS REMOVAL\n",
      "2023-06-07 07:09:23 INFO: DOCUMENT TRANSFORMER\n",
      "2023-06-07 07:09:24 INFO: POS REMOVAL\n",
      "2023-06-07 07:09:24 INFO: DOCUMENT TRANSFORMER\n",
      "2023-06-07 07:09:24 INFO: POS REMOVAL\n",
      "2023-06-07 07:09:24 INFO: DOCUMENT TRANSFORMER\n",
      "2023-06-07 07:09:24 INFO: POS REMOVAL\n",
      "2023-06-07 07:09:25 INFO: DOCUMENT TRANSFORMER\n",
      "2023-06-07 07:09:25 INFO: POS REMOVAL\n",
      "2023-06-07 07:09:25 INFO: DOCUMENT TRANSFORMER\n",
      "2023-06-07 07:09:25 INFO: POS REMOVAL\n",
      "2023-06-07 07:09:25 INFO: DOCUMENT TRANSFORMER\n",
      "2023-06-07 07:09:25 INFO: POS REMOVAL\n",
      "2023-06-07 07:09:25 INFO: DOCUMENT TRANSFORMER\n",
      "2023-06-07 07:09:26 INFO: POS REMOVAL\n",
      "2023-06-07 07:09:26 INFO: DOCUMENT TRANSFORMER\n",
      "2023-06-07 07:09:26 INFO: POS REMOVAL\n",
      "2023-06-07 07:09:26 INFO: DOCUMENT TRANSFORMER\n",
      "2023-06-07 07:09:26 INFO: POS REMOVAL\n",
      "2023-06-07 07:09:26 INFO: DOCUMENT TRANSFORMER\n",
      "2023-06-07 07:09:27 INFO: POS REMOVAL\n",
      "2023-06-07 07:09:27 INFO: DOCUMENT TRANSFORMER\n",
      "2023-06-07 07:09:27 INFO: POS REMOVAL\n",
      "2023-06-07 07:09:27 INFO: DOCUMENT TRANSFORMER\n",
      "2023-06-07 07:09:27 INFO: POS REMOVAL\n",
      "2023-06-07 07:09:27 INFO: DOCUMENT TRANSFORMER\n",
      "2023-06-07 07:09:28 INFO: POS REMOVAL\n",
      "2023-06-07 07:09:28 INFO: DOCUMENT TRANSFORMER\n",
      "2023-06-07 07:09:28 INFO: POS REMOVAL\n",
      "2023-06-07 07:09:28 INFO: DOCUMENT TRANSFORMER\n",
      "2023-06-07 07:09:28 INFO: POS REMOVAL\n",
      "2023-06-07 07:09:28 INFO: DOCUMENT TRANSFORMER\n",
      "2023-06-07 07:09:28 INFO: POS REMOVAL\n",
      "2023-06-07 07:09:28 INFO: DOCUMENT TRANSFORMER\n",
      "2023-06-07 07:09:29 INFO: POS REMOVAL\n",
      "2023-06-07 07:09:29 INFO: DOCUMENT TRANSFORMER\n",
      "2023-06-07 07:09:29 INFO: POS REMOVAL\n",
      "2023-06-07 07:09:29 INFO: DOCUMENT TRANSFORMER\n",
      "2023-06-07 07:09:30 INFO: POS REMOVAL\n",
      "2023-06-07 07:09:30 INFO: DOCUMENT TRANSFORMER\n",
      "2023-06-07 07:09:30 INFO: POS REMOVAL\n",
      "2023-06-07 07:09:30 INFO: DOCUMENT TRANSFORMER\n",
      "2023-06-07 07:09:30 INFO: POS REMOVAL\n",
      "2023-06-07 07:09:30 INFO: DOCUMENT TRANSFORMER\n",
      "2023-06-07 07:09:30 INFO: POS REMOVAL\n",
      "2023-06-07 07:09:30 INFO: DOCUMENT TRANSFORMER\n",
      "2023-06-07 07:09:31 INFO: POS REMOVAL\n",
      "2023-06-07 07:09:31 INFO: DOCUMENT TRANSFORMER\n",
      "2023-06-07 07:09:31 INFO: POS REMOVAL\n",
      "2023-06-07 07:09:31 INFO: DOCUMENT TRANSFORMER\n",
      "2023-06-07 07:09:32 INFO: POS REMOVAL\n",
      "2023-06-07 07:09:32 INFO: DOCUMENT TRANSFORMER\n",
      "2023-06-07 07:09:32 INFO: POS REMOVAL\n",
      "2023-06-07 07:09:32 INFO: DOCUMENT TRANSFORMER\n",
      "2023-06-07 07:09:32 INFO: POS REMOVAL\n",
      "2023-06-07 07:09:32 INFO: DOCUMENT TRANSFORMER\n",
      "2023-06-07 07:09:33 INFO: POS REMOVAL\n",
      "2023-06-07 07:09:33 INFO: DOCUMENT TRANSFORMER\n",
      "2023-06-07 07:09:33 INFO: POS REMOVAL\n",
      "2023-06-07 07:09:33 INFO: DOCUMENT TRANSFORMER\n",
      "2023-06-07 07:09:34 INFO: POS REMOVAL\n",
      "2023-06-07 07:09:34 INFO: DOCUMENT TRANSFORMER\n",
      "2023-06-07 07:09:34 INFO: POS REMOVAL\n",
      "2023-06-07 07:09:34 INFO: DOCUMENT TRANSFORMER\n",
      "2023-06-07 07:09:34 INFO: POS REMOVAL\n",
      "2023-06-07 07:09:34 INFO: DOCUMENT TRANSFORMER\n",
      "2023-06-07 07:09:35 INFO: POS REMOVAL\n",
      "2023-06-07 07:09:35 INFO: DOCUMENT TRANSFORMER\n",
      "2023-06-07 07:09:35 INFO: POS REMOVAL\n",
      "2023-06-07 07:09:35 INFO: DOCUMENT TRANSFORMER\n",
      "2023-06-07 07:09:36 INFO: POS REMOVAL\n",
      "2023-06-07 07:09:36 INFO: DOCUMENT TRANSFORMER\n",
      "2023-06-07 07:09:36 INFO: POS REMOVAL\n",
      "2023-06-07 07:09:36 INFO: DOCUMENT TRANSFORMER\n",
      "2023-06-07 07:09:37 INFO: POS REMOVAL\n",
      "2023-06-07 07:09:37 INFO: DOCUMENT TRANSFORMER\n",
      "2023-06-07 07:09:37 INFO: POS REMOVAL\n",
      "2023-06-07 07:09:37 INFO: DOCUMENT TRANSFORMER\n",
      "2023-06-07 07:09:38 INFO: POS REMOVAL\n",
      "2023-06-07 07:09:38 INFO: DOCUMENT TRANSFORMER\n",
      "2023-06-07 07:09:38 INFO: POS REMOVAL\n",
      "2023-06-07 07:09:38 INFO: DOCUMENT TRANSFORMER\n",
      "2023-06-07 07:09:38 INFO: POS REMOVAL\n",
      "2023-06-07 07:09:38 INFO: DOCUMENT TRANSFORMER\n",
      "2023-06-07 07:09:39 INFO: POS REMOVAL\n",
      "2023-06-07 07:09:39 INFO: DOCUMENT TRANSFORMER\n",
      "2023-06-07 07:09:39 INFO: POS REMOVAL\n",
      "2023-06-07 07:09:39 INFO: DOCUMENT TRANSFORMER\n",
      "2023-06-07 07:09:40 INFO: POS REMOVAL\n",
      "2023-06-07 07:09:40 INFO: DOCUMENT TRANSFORMER\n",
      "2023-06-07 07:09:40 INFO: POS REMOVAL\n",
      "2023-06-07 07:09:40 INFO: DOCUMENT TRANSFORMER\n",
      "2023-06-07 07:09:41 INFO: POS REMOVAL\n",
      "2023-06-07 07:09:41 INFO: DOCUMENT TRANSFORMER\n",
      "2023-06-07 07:09:41 INFO: POS REMOVAL\n",
      "2023-06-07 07:09:41 INFO: DOCUMENT TRANSFORMER\n",
      "2023-06-07 07:09:42 INFO: POS REMOVAL\n",
      "2023-06-07 07:09:42 INFO: DOCUMENT TRANSFORMER\n",
      "2023-06-07 07:09:42 INFO: POS REMOVAL\n",
      "2023-06-07 07:09:42 INFO: DOCUMENT TRANSFORMER\n",
      "2023-06-07 07:09:43 INFO: POS REMOVAL\n",
      "2023-06-07 07:09:43 INFO: DOCUMENT TRANSFORMER\n",
      "2023-06-07 07:09:43 INFO: POS REMOVAL\n",
      "2023-06-07 07:09:44 INFO: DOCUMENT TRANSFORMER\n",
      "2023-06-07 07:09:44 INFO: POS REMOVAL\n",
      "2023-06-07 07:09:44 INFO: DOCUMENT TRANSFORMER\n",
      "2023-06-07 07:09:45 INFO: POS REMOVAL\n",
      "2023-06-07 07:09:45 INFO: DOCUMENT TRANSFORMER\n",
      "2023-06-07 07:09:45 INFO: POS REMOVAL\n",
      "2023-06-07 07:09:45 INFO: DOCUMENT TRANSFORMER\n",
      "2023-06-07 07:09:46 INFO: POS REMOVAL\n",
      "2023-06-07 07:09:46 INFO: DOCUMENT TRANSFORMER\n",
      "2023-06-07 07:09:46 INFO: POS REMOVAL\n",
      "2023-06-07 07:09:46 INFO: DOCUMENT TRANSFORMER\n",
      "2023-06-07 07:09:47 INFO: POS REMOVAL\n",
      "2023-06-07 07:09:47 INFO: DOCUMENT TRANSFORMER\n",
      "2023-06-07 07:09:47 INFO: POS REMOVAL\n",
      "2023-06-07 07:09:47 INFO: DOCUMENT TRANSFORMER\n",
      "2023-06-07 07:09:48 INFO: POS REMOVAL\n",
      "2023-06-07 07:09:48 INFO: DOCUMENT TRANSFORMER\n",
      "2023-06-07 07:09:48 INFO: POS REMOVAL\n",
      "2023-06-07 07:09:48 INFO: DOCUMENT TRANSFORMER\n",
      "2023-06-07 07:09:49 INFO: POS REMOVAL\n",
      "2023-06-07 07:09:49 INFO: DOCUMENT TRANSFORMER\n",
      "2023-06-07 07:09:49 INFO: POS REMOVAL\n",
      "2023-06-07 07:09:50 INFO: DOCUMENT TRANSFORMER\n",
      "2023-06-07 07:09:50 INFO: POS REMOVAL\n",
      "2023-06-07 07:09:50 INFO: DOCUMENT TRANSFORMER\n",
      "2023-06-07 07:09:50 INFO: POS REMOVAL\n",
      "2023-06-07 07:09:50 INFO: DOCUMENT TRANSFORMER\n",
      "2023-06-07 07:09:51 INFO: POS REMOVAL\n",
      "2023-06-07 07:09:51 INFO: DOCUMENT TRANSFORMER\n",
      "2023-06-07 07:09:51 INFO: POS REMOVAL\n",
      "2023-06-07 07:09:51 INFO: DOCUMENT TRANSFORMER\n",
      "2023-06-07 07:09:52 INFO: POS REMOVAL\n",
      "2023-06-07 07:09:52 INFO: DOCUMENT TRANSFORMER\n",
      "2023-06-07 07:09:52 INFO: POS REMOVAL\n",
      "2023-06-07 07:09:52 INFO: DOCUMENT TRANSFORMER\n",
      "2023-06-07 07:09:52 INFO: POS REMOVAL\n",
      "2023-06-07 07:09:52 INFO: DOCUMENT TRANSFORMER\n",
      "2023-06-07 07:09:53 INFO: POS REMOVAL\n",
      "2023-06-07 07:09:53 INFO: DOCUMENT TRANSFORMER\n",
      "2023-06-07 07:09:53 INFO: POS REMOVAL\n",
      "2023-06-07 07:09:53 INFO: DOCUMENT TRANSFORMER\n",
      "2023-06-07 07:09:53 INFO: POS REMOVAL\n",
      "2023-06-07 07:09:54 INFO: DOCUMENT TRANSFORMER\n",
      "2023-06-07 07:09:54 INFO: POS REMOVAL\n",
      "2023-06-07 07:09:54 INFO: DOCUMENT TRANSFORMER\n",
      "2023-06-07 07:09:54 INFO: POS REMOVAL\n",
      "2023-06-07 07:09:54 INFO: DOCUMENT TRANSFORMER\n",
      "2023-06-07 07:09:55 INFO: POS REMOVAL\n",
      "2023-06-07 07:09:55 INFO: DOCUMENT TRANSFORMER\n",
      "2023-06-07 07:09:55 INFO: POS REMOVAL\n",
      "2023-06-07 07:09:55 INFO: DOCUMENT TRANSFORMER\n",
      "2023-06-07 07:09:55 INFO: POS REMOVAL\n",
      "2023-06-07 07:09:56 INFO: DOCUMENT TRANSFORMER\n",
      "2023-06-07 07:09:56 INFO: POS REMOVAL\n",
      "2023-06-07 07:09:56 INFO: DOCUMENT TRANSFORMER\n",
      "2023-06-07 07:09:56 INFO: POS REMOVAL\n",
      "2023-06-07 07:09:56 INFO: DOCUMENT TRANSFORMER\n",
      "2023-06-07 07:09:57 INFO: POS REMOVAL\n",
      "2023-06-07 07:09:57 INFO: DOCUMENT TRANSFORMER\n",
      "2023-06-07 07:09:57 INFO: POS REMOVAL\n",
      "2023-06-07 07:09:57 INFO: DOCUMENT TRANSFORMER\n",
      "2023-06-07 07:09:58 INFO: POS REMOVAL\n",
      "2023-06-07 07:09:58 INFO: DOCUMENT TRANSFORMER\n",
      "2023-06-07 07:09:58 INFO: POS REMOVAL\n",
      "2023-06-07 07:09:58 INFO: DOCUMENT TRANSFORMER\n",
      "2023-06-07 07:09:59 INFO: POS REMOVAL\n",
      "2023-06-07 07:09:59 INFO: DOCUMENT TRANSFORMER\n",
      "2023-06-07 07:09:59 INFO: POS REMOVAL\n",
      "2023-06-07 07:09:59 INFO: DOCUMENT TRANSFORMER\n",
      "2023-06-07 07:10:00 INFO: POS REMOVAL\n",
      "2023-06-07 07:10:00 INFO: DOCUMENT TRANSFORMER\n",
      "2023-06-07 07:10:00 INFO: POS REMOVAL\n",
      "2023-06-07 07:10:00 INFO: DOCUMENT TRANSFORMER\n",
      "2023-06-07 07:10:01 INFO: POS REMOVAL\n",
      "2023-06-07 07:10:01 INFO: DOCUMENT TRANSFORMER\n",
      "2023-06-07 07:10:01 INFO: POS REMOVAL\n",
      "2023-06-07 07:10:01 INFO: DOCUMENT TRANSFORMER\n",
      "2023-06-07 07:10:02 INFO: POS REMOVAL\n",
      "2023-06-07 07:10:02 INFO: DOCUMENT TRANSFORMER\n",
      "2023-06-07 07:10:02 INFO: POS REMOVAL\n",
      "2023-06-07 07:10:02 INFO: DOCUMENT TRANSFORMER\n",
      "2023-06-07 07:10:03 INFO: POS REMOVAL\n",
      "2023-06-07 07:10:03 INFO: DOCUMENT TRANSFORMER\n",
      "2023-06-07 07:10:03 INFO: POS REMOVAL\n",
      "2023-06-07 07:10:03 INFO: DOCUMENT TRANSFORMER\n",
      "2023-06-07 07:10:04 INFO: POS REMOVAL\n",
      "2023-06-07 07:10:04 INFO: DOCUMENT TRANSFORMER\n",
      "2023-06-07 07:10:04 INFO: POS REMOVAL\n",
      "2023-06-07 07:10:04 INFO: DOCUMENT TRANSFORMER\n",
      "2023-06-07 07:10:05 INFO: POS REMOVAL\n",
      "2023-06-07 07:10:05 INFO: DOCUMENT TRANSFORMER\n",
      "2023-06-07 07:10:05 INFO: POS REMOVAL\n",
      "2023-06-07 07:10:05 INFO: DOCUMENT TRANSFORMER\n",
      "2023-06-07 07:10:06 INFO: POS REMOVAL\n",
      "2023-06-07 07:10:06 INFO: DOCUMENT TRANSFORMER\n",
      "2023-06-07 07:10:06 INFO: POS REMOVAL\n",
      "2023-06-07 07:10:06 INFO: DOCUMENT TRANSFORMER\n",
      "2023-06-07 07:10:07 INFO: POS REMOVAL\n",
      "2023-06-07 07:10:07 INFO: DOCUMENT TRANSFORMER\n",
      "2023-06-07 07:10:07 INFO: POS REMOVAL\n",
      "2023-06-07 07:10:07 INFO: DOCUMENT TRANSFORMER\n",
      "2023-06-07 07:10:07 INFO: POS REMOVAL\n",
      "2023-06-07 07:10:08 INFO: DOCUMENT TRANSFORMER\n",
      "2023-06-07 07:10:08 INFO: POS REMOVAL\n",
      "2023-06-07 07:10:08 INFO: DOCUMENT TRANSFORMER\n",
      "2023-06-07 07:10:08 INFO: POS REMOVAL\n",
      "2023-06-07 07:10:08 INFO: DOCUMENT TRANSFORMER\n",
      "2023-06-07 07:10:09 INFO: POS REMOVAL\n",
      "2023-06-07 07:10:09 INFO: DOCUMENT TRANSFORMER\n",
      "2023-06-07 07:10:09 INFO: POS REMOVAL\n",
      "2023-06-07 07:10:09 INFO: DOCUMENT TRANSFORMER\n",
      "2023-06-07 07:10:09 INFO: POS REMOVAL\n",
      "2023-06-07 07:10:10 INFO: DOCUMENT TRANSFORMER\n",
      "2023-06-07 07:10:10 INFO: POS REMOVAL\n",
      "2023-06-07 07:10:10 INFO: DOCUMENT TRANSFORMER\n",
      "2023-06-07 07:10:10 INFO: POS REMOVAL\n",
      "2023-06-07 07:10:10 INFO: DOCUMENT TRANSFORMER\n",
      "2023-06-07 07:10:11 INFO: POS REMOVAL\n",
      "2023-06-07 07:10:11 INFO: DOCUMENT TRANSFORMER\n",
      "2023-06-07 07:10:11 INFO: POS REMOVAL\n",
      "2023-06-07 07:10:11 INFO: DOCUMENT TRANSFORMER\n",
      "2023-06-07 07:10:11 INFO: POS REMOVAL\n",
      "2023-06-07 07:10:12 INFO: DOCUMENT TRANSFORMER\n",
      "2023-06-07 07:10:12 INFO: POS REMOVAL\n",
      "2023-06-07 07:10:12 INFO: DOCUMENT TRANSFORMER\n",
      "2023-06-07 07:10:12 INFO: POS REMOVAL\n",
      "2023-06-07 07:10:12 INFO: DOCUMENT TRANSFORMER\n",
      "2023-06-07 07:10:13 INFO: POS REMOVAL\n",
      "2023-06-07 07:10:13 INFO: DOCUMENT TRANSFORMER\n",
      "2023-06-07 07:10:13 INFO: POS REMOVAL\n",
      "2023-06-07 07:10:13 INFO: DOCUMENT TRANSFORMER\n",
      "2023-06-07 07:10:13 INFO: POS REMOVAL\n",
      "2023-06-07 07:10:14 INFO: DOCUMENT TRANSFORMER\n",
      "2023-06-07 07:10:14 INFO: POS REMOVAL\n",
      "2023-06-07 07:10:14 INFO: DOCUMENT TRANSFORMER\n",
      "2023-06-07 07:10:14 INFO: POS REMOVAL\n",
      "2023-06-07 07:10:14 INFO: DOCUMENT TRANSFORMER\n",
      "2023-06-07 07:10:15 INFO: POS REMOVAL\n",
      "2023-06-07 07:10:15 INFO: DOCUMENT TRANSFORMER\n",
      "2023-06-07 07:10:15 INFO: POS REMOVAL\n",
      "2023-06-07 07:10:15 INFO: DOCUMENT TRANSFORMER\n",
      "2023-06-07 07:10:15 INFO: POS REMOVAL\n",
      "2023-06-07 07:10:16 INFO: DOCUMENT TRANSFORMER\n",
      "2023-06-07 07:10:16 INFO: POS REMOVAL\n",
      "2023-06-07 07:10:16 INFO: DOCUMENT TRANSFORMER\n",
      "2023-06-07 07:10:17 INFO: POS REMOVAL\n",
      "2023-06-07 07:10:17 INFO: DOCUMENT TRANSFORMER\n",
      "2023-06-07 07:10:17 INFO: POS REMOVAL\n",
      "2023-06-07 07:10:17 INFO: DOCUMENT TRANSFORMER\n",
      "2023-06-07 07:10:18 INFO: POS REMOVAL\n",
      "2023-06-07 07:10:18 INFO: DOCUMENT TRANSFORMER\n",
      "2023-06-07 07:10:18 INFO: POS REMOVAL\n",
      "2023-06-07 07:10:18 INFO: DOCUMENT TRANSFORMER\n",
      "2023-06-07 07:10:19 INFO: POS REMOVAL\n",
      "2023-06-07 07:10:19 INFO: DOCUMENT TRANSFORMER\n",
      "2023-06-07 07:10:20 INFO: POS REMOVAL\n",
      "2023-06-07 07:10:20 INFO: DOCUMENT TRANSFORMER\n",
      "2023-06-07 07:10:20 INFO: POS REMOVAL\n",
      "2023-06-07 07:10:20 INFO: DOCUMENT TRANSFORMER\n",
      "2023-06-07 07:10:21 INFO: POS REMOVAL\n",
      "2023-06-07 07:10:21 INFO: DOCUMENT TRANSFORMER\n",
      "2023-06-07 07:10:21 INFO: POS REMOVAL\n",
      "2023-06-07 07:10:21 INFO: DOCUMENT TRANSFORMER\n",
      "2023-06-07 07:10:22 INFO: POS REMOVAL\n",
      "2023-06-07 07:10:22 INFO: DOCUMENT TRANSFORMER\n",
      "2023-06-07 07:10:22 INFO: POS REMOVAL\n",
      "2023-06-07 07:10:22 INFO: DOCUMENT TRANSFORMER\n",
      "2023-06-07 07:10:23 INFO: POS REMOVAL\n",
      "2023-06-07 07:10:23 INFO: DOCUMENT TRANSFORMER\n",
      "2023-06-07 07:10:24 INFO: POS REMOVAL\n",
      "2023-06-07 07:10:24 INFO: DOCUMENT TRANSFORMER\n",
      "2023-06-07 07:10:24 INFO: POS REMOVAL\n",
      "2023-06-07 07:10:24 INFO: DOCUMENT TRANSFORMER\n",
      "2023-06-07 07:10:25 INFO: POS REMOVAL\n",
      "2023-06-07 07:10:25 INFO: DOCUMENT TRANSFORMER\n",
      "2023-06-07 07:10:25 INFO: POS REMOVAL\n",
      "2023-06-07 07:10:25 INFO: DOCUMENT TRANSFORMER\n",
      "2023-06-07 07:10:26 INFO: POS REMOVAL\n",
      "2023-06-07 07:10:26 INFO: DOCUMENT TRANSFORMER\n",
      "2023-06-07 07:10:26 INFO: POS REMOVAL\n",
      "2023-06-07 07:10:26 INFO: DOCUMENT TRANSFORMER\n",
      "2023-06-07 07:10:27 INFO: POS REMOVAL\n",
      "2023-06-07 07:10:27 INFO: DOCUMENT TRANSFORMER\n",
      "2023-06-07 07:10:27 INFO: POS REMOVAL\n",
      "2023-06-07 07:10:27 INFO: DOCUMENT TRANSFORMER\n",
      "2023-06-07 07:10:28 INFO: POS REMOVAL\n",
      "2023-06-07 07:10:28 INFO: DOCUMENT TRANSFORMER\n",
      "2023-06-07 07:10:28 INFO: POS REMOVAL\n",
      "2023-06-07 07:10:28 INFO: DOCUMENT TRANSFORMER\n",
      "2023-06-07 07:10:28 INFO: POS REMOVAL\n",
      "2023-06-07 07:10:28 INFO: DOCUMENT TRANSFORMER\n",
      "2023-06-07 07:10:29 INFO: POS REMOVAL\n",
      "2023-06-07 07:10:29 INFO: DOCUMENT TRANSFORMER\n",
      "2023-06-07 07:10:29 INFO: POS REMOVAL\n",
      "2023-06-07 07:10:29 INFO: DOCUMENT TRANSFORMER\n",
      "2023-06-07 07:10:30 INFO: POS REMOVAL\n",
      "2023-06-07 07:10:30 INFO: DOCUMENT TRANSFORMER\n",
      "2023-06-07 07:10:30 INFO: POS REMOVAL\n",
      "2023-06-07 07:10:30 INFO: DOCUMENT TRANSFORMER\n",
      "2023-06-07 07:10:30 INFO: POS REMOVAL\n",
      "2023-06-07 07:10:30 INFO: DOCUMENT TRANSFORMER\n",
      "2023-06-07 07:10:31 INFO: POS REMOVAL\n",
      "2023-06-07 07:10:31 INFO: DOCUMENT TRANSFORMER\n",
      "2023-06-07 07:10:31 INFO: POS REMOVAL\n",
      "2023-06-07 07:10:31 INFO: DOCUMENT TRANSFORMER\n",
      "2023-06-07 07:10:32 INFO: POS REMOVAL\n",
      "2023-06-07 07:10:32 INFO: DOCUMENT TRANSFORMER\n",
      "2023-06-07 07:10:32 INFO: POS REMOVAL\n",
      "2023-06-07 07:10:32 INFO: DOCUMENT TRANSFORMER\n",
      "2023-06-07 07:10:32 INFO: POS REMOVAL\n",
      "2023-06-07 07:10:32 INFO: DOCUMENT TRANSFORMER\n",
      "2023-06-07 07:10:33 INFO: POS REMOVAL\n",
      "2023-06-07 07:10:33 INFO: DOCUMENT TRANSFORMER\n",
      "2023-06-07 07:10:33 INFO: POS REMOVAL\n",
      "2023-06-07 07:10:33 INFO: DOCUMENT TRANSFORMER\n",
      "2023-06-07 07:10:34 INFO: POS REMOVAL\n",
      "2023-06-07 07:10:34 INFO: DOCUMENT TRANSFORMER\n",
      "2023-06-07 07:10:34 INFO: POS REMOVAL\n",
      "2023-06-07 07:10:34 INFO: DOCUMENT TRANSFORMER\n",
      "2023-06-07 07:10:34 INFO: POS REMOVAL\n",
      "2023-06-07 07:10:34 INFO: DOCUMENT TRANSFORMER\n",
      "2023-06-07 07:10:35 INFO: POS REMOVAL\n",
      "2023-06-07 07:10:35 INFO: DOCUMENT TRANSFORMER\n",
      "2023-06-07 07:10:35 INFO: POS REMOVAL\n",
      "2023-06-07 07:10:35 INFO: DOCUMENT TRANSFORMER\n",
      "2023-06-07 07:10:36 INFO: POS REMOVAL\n",
      "2023-06-07 07:10:36 INFO: DOCUMENT TRANSFORMER\n",
      "2023-06-07 07:10:36 INFO: POS REMOVAL\n",
      "2023-06-07 07:10:36 INFO: DOCUMENT TRANSFORMER\n",
      "2023-06-07 07:10:37 INFO: POS REMOVAL\n",
      "2023-06-07 07:10:37 INFO: DOCUMENT TRANSFORMER\n",
      "2023-06-07 07:10:37 INFO: POS REMOVAL\n",
      "2023-06-07 07:10:37 INFO: DOCUMENT TRANSFORMER\n",
      "2023-06-07 07:10:38 INFO: POS REMOVAL\n",
      "2023-06-07 07:10:38 INFO: DOCUMENT TRANSFORMER\n",
      "2023-06-07 07:10:38 INFO: POS REMOVAL\n",
      "2023-06-07 07:10:38 INFO: DOCUMENT TRANSFORMER\n",
      "2023-06-07 07:10:39 INFO: POS REMOVAL\n",
      "2023-06-07 07:10:39 INFO: DOCUMENT TRANSFORMER\n",
      "2023-06-07 07:10:39 INFO: POS REMOVAL\n",
      "2023-06-07 07:10:39 INFO: DOCUMENT TRANSFORMER\n",
      "2023-06-07 07:10:39 INFO: POS REMOVAL\n",
      "2023-06-07 07:10:40 INFO: DOCUMENT TRANSFORMER\n",
      "2023-06-07 07:10:40 INFO: POS REMOVAL\n",
      "2023-06-07 07:10:40 INFO: DOCUMENT TRANSFORMER\n",
      "2023-06-07 07:10:40 INFO: POS REMOVAL\n",
      "2023-06-07 07:10:40 INFO: DOCUMENT TRANSFORMER\n",
      "2023-06-07 07:10:41 INFO: POS REMOVAL\n",
      "2023-06-07 07:10:41 INFO: DOCUMENT TRANSFORMER\n",
      "2023-06-07 07:10:42 INFO: POS REMOVAL\n",
      "2023-06-07 07:10:42 INFO: DOCUMENT TRANSFORMER\n",
      "2023-06-07 07:10:42 INFO: POS REMOVAL\n",
      "2023-06-07 07:10:42 INFO: DOCUMENT TRANSFORMER\n",
      "2023-06-07 07:10:43 INFO: POS REMOVAL\n",
      "2023-06-07 07:10:43 INFO: DOCUMENT TRANSFORMER\n",
      "2023-06-07 07:10:43 INFO: POS REMOVAL\n",
      "2023-06-07 07:10:43 INFO: DOCUMENT TRANSFORMER\n",
      "2023-06-07 07:10:44 INFO: POS REMOVAL\n",
      "2023-06-07 07:10:44 INFO: DOCUMENT TRANSFORMER\n",
      "2023-06-07 07:10:44 INFO: POS REMOVAL\n",
      "2023-06-07 07:10:44 INFO: DOCUMENT TRANSFORMER\n",
      "2023-06-07 07:10:45 INFO: POS REMOVAL\n",
      "2023-06-07 07:10:45 INFO: DOCUMENT TRANSFORMER\n",
      "2023-06-07 07:10:45 INFO: POS REMOVAL\n",
      "2023-06-07 07:10:45 INFO: DOCUMENT TRANSFORMER\n",
      "2023-06-07 07:10:45 INFO: POS REMOVAL\n",
      "2023-06-07 07:10:45 INFO: DOCUMENT TRANSFORMER\n",
      "2023-06-07 07:10:46 INFO: POS REMOVAL\n",
      "2023-06-07 07:10:46 INFO: DOCUMENT TRANSFORMER\n",
      "2023-06-07 07:10:46 INFO: POS REMOVAL\n",
      "2023-06-07 07:10:46 INFO: DOCUMENT TRANSFORMER\n",
      "2023-06-07 07:10:46 INFO: POS REMOVAL\n",
      "2023-06-07 07:10:46 INFO: DOCUMENT TRANSFORMER\n",
      "2023-06-07 07:10:46 INFO: POS REMOVAL\n",
      "2023-06-07 07:10:46 INFO: DOCUMENT TRANSFORMER\n",
      "2023-06-07 07:10:47 INFO: POS REMOVAL\n",
      "2023-06-07 07:10:47 INFO: DOCUMENT TRANSFORMER\n",
      "2023-06-07 07:10:47 INFO: POS REMOVAL\n",
      "2023-06-07 07:10:47 INFO: DOCUMENT TRANSFORMER\n",
      "2023-06-07 07:10:47 INFO: POS REMOVAL\n",
      "2023-06-07 07:10:47 INFO: DOCUMENT TRANSFORMER\n",
      "2023-06-07 07:10:47 INFO: POS REMOVAL\n",
      "2023-06-07 07:10:47 INFO: DOCUMENT TRANSFORMER\n",
      "2023-06-07 07:10:48 INFO: POS REMOVAL\n",
      "2023-06-07 07:10:48 INFO: DOCUMENT TRANSFORMER\n",
      "2023-06-07 07:10:48 INFO: POS REMOVAL\n",
      "2023-06-07 07:10:48 INFO: DOCUMENT TRANSFORMER\n",
      "2023-06-07 07:10:48 INFO: POS REMOVAL\n",
      "2023-06-07 07:10:48 INFO: DOCUMENT TRANSFORMER\n",
      "2023-06-07 07:10:48 INFO: POS REMOVAL\n",
      "2023-06-07 07:10:48 INFO: DOCUMENT TRANSFORMER\n",
      "2023-06-07 07:10:49 INFO: POS REMOVAL\n",
      "2023-06-07 07:10:49 INFO: DOCUMENT TRANSFORMER\n",
      "2023-06-07 07:10:49 INFO: POS REMOVAL\n",
      "2023-06-07 07:10:49 INFO: DOCUMENT TRANSFORMER\n",
      "2023-06-07 07:10:49 INFO: POS REMOVAL\n",
      "2023-06-07 07:10:49 INFO: DOCUMENT TRANSFORMER\n",
      "2023-06-07 07:10:49 INFO: POS REMOVAL\n",
      "2023-06-07 07:10:50 INFO: DOCUMENT TRANSFORMER\n",
      "2023-06-07 07:10:50 INFO: POS REMOVAL\n",
      "2023-06-07 07:10:50 INFO: DOCUMENT TRANSFORMER\n",
      "2023-06-07 07:10:50 INFO: POS REMOVAL\n",
      "2023-06-07 07:10:50 INFO: DOCUMENT TRANSFORMER\n",
      "2023-06-07 07:10:50 INFO: POS REMOVAL\n",
      "2023-06-07 07:10:50 INFO: DOCUMENT TRANSFORMER\n",
      "2023-06-07 07:10:51 INFO: POS REMOVAL\n",
      "2023-06-07 07:10:51 INFO: DOCUMENT TRANSFORMER\n",
      "2023-06-07 07:10:51 INFO: POS REMOVAL\n",
      "2023-06-07 07:10:51 INFO: DOCUMENT TRANSFORMER\n",
      "2023-06-07 07:10:51 INFO: POS REMOVAL\n",
      "2023-06-07 07:10:51 INFO: DOCUMENT TRANSFORMER\n",
      "2023-06-07 07:10:52 INFO: POS REMOVAL\n",
      "2023-06-07 07:10:52 INFO: DOCUMENT TRANSFORMER\n",
      "2023-06-07 07:10:52 INFO: POS REMOVAL\n",
      "2023-06-07 07:10:52 INFO: DOCUMENT TRANSFORMER\n",
      "2023-06-07 07:10:52 INFO: POS REMOVAL\n",
      "2023-06-07 07:10:52 INFO: DOCUMENT TRANSFORMER\n",
      "2023-06-07 07:10:52 INFO: POS REMOVAL\n",
      "2023-06-07 07:10:52 INFO: DOCUMENT TRANSFORMER\n",
      "2023-06-07 07:10:53 INFO: POS REMOVAL\n",
      "2023-06-07 07:10:53 INFO: DOCUMENT TRANSFORMER\n",
      "2023-06-07 07:10:53 INFO: POS REMOVAL\n",
      "2023-06-07 07:10:53 INFO: DOCUMENT TRANSFORMER\n",
      "2023-06-07 07:10:53 INFO: POS REMOVAL\n",
      "2023-06-07 07:10:53 INFO: DOCUMENT TRANSFORMER\n",
      "2023-06-07 07:10:53 INFO: POS REMOVAL\n",
      "2023-06-07 07:10:53 INFO: DOCUMENT TRANSFORMER\n",
      "2023-06-07 07:10:54 INFO: POS REMOVAL\n",
      "2023-06-07 07:10:54 INFO: DOCUMENT TRANSFORMER\n",
      "2023-06-07 07:10:54 INFO: POS REMOVAL\n",
      "2023-06-07 07:10:54 INFO: DOCUMENT TRANSFORMER\n",
      "2023-06-07 07:10:54 INFO: POS REMOVAL\n",
      "2023-06-07 07:10:54 INFO: DOCUMENT TRANSFORMER\n",
      "2023-06-07 07:10:54 INFO: POS REMOVAL\n",
      "2023-06-07 07:10:54 INFO: DOCUMENT TRANSFORMER\n",
      "2023-06-07 07:10:55 INFO: POS REMOVAL\n",
      "2023-06-07 07:10:55 INFO: DOCUMENT TRANSFORMER\n",
      "2023-06-07 07:10:55 INFO: POS REMOVAL\n",
      "2023-06-07 07:10:55 INFO: DOCUMENT TRANSFORMER\n",
      "2023-06-07 07:10:55 INFO: POS REMOVAL\n",
      "2023-06-07 07:10:55 INFO: DOCUMENT TRANSFORMER\n",
      "2023-06-07 07:10:56 INFO: POS REMOVAL\n",
      "2023-06-07 07:10:56 INFO: DOCUMENT TRANSFORMER\n",
      "2023-06-07 07:10:56 INFO: POS REMOVAL\n",
      "2023-06-07 07:10:56 INFO: DOCUMENT TRANSFORMER\n",
      "2023-06-07 07:10:56 INFO: POS REMOVAL\n",
      "2023-06-07 07:10:56 INFO: DOCUMENT TRANSFORMER\n",
      "2023-06-07 07:10:57 INFO: POS REMOVAL\n",
      "2023-06-07 07:10:57 INFO: DOCUMENT TRANSFORMER\n",
      "2023-06-07 07:10:57 INFO: POS REMOVAL\n",
      "2023-06-07 07:10:57 INFO: DOCUMENT TRANSFORMER\n",
      "2023-06-07 07:10:58 INFO: POS REMOVAL\n",
      "2023-06-07 07:10:58 INFO: DOCUMENT TRANSFORMER\n",
      "2023-06-07 07:10:58 INFO: POS REMOVAL\n",
      "2023-06-07 07:10:58 INFO: DOCUMENT TRANSFORMER\n",
      "2023-06-07 07:10:58 INFO: POS REMOVAL\n",
      "2023-06-07 07:10:58 INFO: DOCUMENT TRANSFORMER\n",
      "2023-06-07 07:10:58 INFO: POS REMOVAL\n",
      "2023-06-07 07:10:58 INFO: DOCUMENT TRANSFORMER\n",
      "2023-06-07 07:10:59 INFO: POS REMOVAL\n",
      "2023-06-07 07:10:59 INFO: DOCUMENT TRANSFORMER\n",
      "2023-06-07 07:10:59 INFO: POS REMOVAL\n",
      "2023-06-07 07:10:59 INFO: DOCUMENT TRANSFORMER\n",
      "2023-06-07 07:11:00 INFO: POS REMOVAL\n",
      "2023-06-07 07:11:00 INFO: DOCUMENT TRANSFORMER\n",
      "2023-06-07 07:11:00 INFO: POS REMOVAL\n",
      "2023-06-07 07:11:00 INFO: DOCUMENT TRANSFORMER\n",
      "2023-06-07 07:11:00 INFO: POS REMOVAL\n",
      "2023-06-07 07:11:00 INFO: DOCUMENT TRANSFORMER\n",
      "2023-06-07 07:11:01 INFO: POS REMOVAL\n",
      "2023-06-07 07:11:01 INFO: DOCUMENT TRANSFORMER\n",
      "2023-06-07 07:11:01 INFO: POS REMOVAL\n",
      "2023-06-07 07:11:01 INFO: DOCUMENT TRANSFORMER\n",
      "2023-06-07 07:11:01 INFO: POS REMOVAL\n",
      "2023-06-07 07:11:01 INFO: DOCUMENT TRANSFORMER\n",
      "2023-06-07 07:11:02 INFO: POS REMOVAL\n",
      "2023-06-07 07:11:02 INFO: DOCUMENT TRANSFORMER\n",
      "2023-06-07 07:11:02 INFO: POS REMOVAL\n",
      "2023-06-07 07:11:02 INFO: DOCUMENT TRANSFORMER\n",
      "2023-06-07 07:11:03 INFO: POS REMOVAL\n",
      "2023-06-07 07:11:03 INFO: DOCUMENT TRANSFORMER\n",
      "2023-06-07 07:11:03 INFO: POS REMOVAL\n",
      "2023-06-07 07:11:03 INFO: DOCUMENT TRANSFORMER\n",
      "2023-06-07 07:11:03 INFO: POS REMOVAL\n",
      "2023-06-07 07:11:03 INFO: DOCUMENT TRANSFORMER\n",
      "2023-06-07 07:11:03 INFO: POS REMOVAL\n",
      "2023-06-07 07:11:03 INFO: DOCUMENT TRANSFORMER\n",
      "2023-06-07 07:11:04 INFO: POS REMOVAL\n",
      "2023-06-07 07:11:04 INFO: DOCUMENT TRANSFORMER\n",
      "2023-06-07 07:11:04 INFO: POS REMOVAL\n",
      "2023-06-07 07:11:04 INFO: DOCUMENT TRANSFORMER\n",
      "2023-06-07 07:11:05 INFO: POS REMOVAL\n",
      "2023-06-07 07:11:05 INFO: DOCUMENT TRANSFORMER\n",
      "2023-06-07 07:11:05 INFO: POS REMOVAL\n",
      "2023-06-07 07:11:05 INFO: DOCUMENT TRANSFORMER\n",
      "2023-06-07 07:11:05 INFO: POS REMOVAL\n",
      "2023-06-07 07:11:05 INFO: DOCUMENT TRANSFORMER\n",
      "2023-06-07 07:11:06 INFO: POS REMOVAL\n",
      "2023-06-07 07:11:06 INFO: DOCUMENT TRANSFORMER\n",
      "2023-06-07 07:11:06 INFO: POS REMOVAL\n",
      "2023-06-07 07:11:06 INFO: DOCUMENT TRANSFORMER\n",
      "2023-06-07 07:11:06 INFO: POS REMOVAL\n",
      "2023-06-07 07:11:06 INFO: DOCUMENT TRANSFORMER\n",
      "2023-06-07 07:11:07 INFO: POS REMOVAL\n",
      "2023-06-07 07:11:07 INFO: DOCUMENT TRANSFORMER\n",
      "2023-06-07 07:11:07 INFO: POS REMOVAL\n",
      "2023-06-07 07:11:07 INFO: DOCUMENT TRANSFORMER\n",
      "2023-06-07 07:11:08 INFO: POS REMOVAL\n",
      "2023-06-07 07:11:08 INFO: DOCUMENT TRANSFORMER\n",
      "2023-06-07 07:11:08 INFO: POS REMOVAL\n",
      "2023-06-07 07:11:08 INFO: DOCUMENT TRANSFORMER\n",
      "2023-06-07 07:11:08 INFO: POS REMOVAL\n",
      "2023-06-07 07:11:08 INFO: DOCUMENT TRANSFORMER\n",
      "2023-06-07 07:11:08 INFO: POS REMOVAL\n",
      "2023-06-07 07:11:09 INFO: DOCUMENT TRANSFORMER\n",
      "2023-06-07 07:11:10 INFO: POS REMOVAL\n",
      "2023-06-07 07:11:10 INFO: DOCUMENT TRANSFORMER\n",
      "2023-06-07 07:11:10 INFO: POS REMOVAL\n",
      "2023-06-07 07:11:10 INFO: DOCUMENT TRANSFORMER\n",
      "2023-06-07 07:11:10 INFO: POS REMOVAL\n",
      "2023-06-07 07:11:10 INFO: DOCUMENT TRANSFORMER\n",
      "2023-06-07 07:11:10 INFO: POS REMOVAL\n",
      "2023-06-07 07:11:11 INFO: DOCUMENT TRANSFORMER\n",
      "2023-06-07 07:11:11 INFO: POS REMOVAL\n",
      "2023-06-07 07:11:11 INFO: DOCUMENT TRANSFORMER\n",
      "2023-06-07 07:11:11 INFO: POS REMOVAL\n",
      "2023-06-07 07:11:11 INFO: DOCUMENT TRANSFORMER\n",
      "2023-06-07 07:11:11 INFO: POS REMOVAL\n",
      "2023-06-07 07:11:11 INFO: DOCUMENT TRANSFORMER\n",
      "2023-06-07 07:11:12 INFO: POS REMOVAL\n",
      "2023-06-07 07:11:12 INFO: DOCUMENT TRANSFORMER\n",
      "2023-06-07 07:11:12 INFO: POS REMOVAL\n",
      "2023-06-07 07:11:12 INFO: DOCUMENT TRANSFORMER\n",
      "2023-06-07 07:11:12 INFO: POS REMOVAL\n",
      "2023-06-07 07:11:12 INFO: DOCUMENT TRANSFORMER\n",
      "2023-06-07 07:11:13 INFO: POS REMOVAL\n",
      "2023-06-07 07:11:13 INFO: DOCUMENT TRANSFORMER\n",
      "2023-06-07 07:11:13 INFO: POS REMOVAL\n",
      "2023-06-07 07:11:13 INFO: DOCUMENT TRANSFORMER\n",
      "2023-06-07 07:11:13 INFO: POS REMOVAL\n",
      "2023-06-07 07:11:13 INFO: DOCUMENT TRANSFORMER\n",
      "2023-06-07 07:11:13 INFO: POS REMOVAL\n",
      "2023-06-07 07:11:13 INFO: DOCUMENT TRANSFORMER\n",
      "2023-06-07 07:11:14 INFO: POS REMOVAL\n",
      "2023-06-07 07:11:14 INFO: DOCUMENT TRANSFORMER\n",
      "2023-06-07 07:11:14 INFO: POS REMOVAL\n",
      "2023-06-07 07:11:14 INFO: DOCUMENT TRANSFORMER\n",
      "2023-06-07 07:11:14 INFO: POS REMOVAL\n",
      "2023-06-07 07:11:14 INFO: DOCUMENT TRANSFORMER\n",
      "2023-06-07 07:11:14 INFO: POS REMOVAL\n",
      "2023-06-07 07:11:14 INFO: DOCUMENT TRANSFORMER\n",
      "2023-06-07 07:11:15 INFO: POS REMOVAL\n",
      "2023-06-07 07:11:15 INFO: DOCUMENT TRANSFORMER\n",
      "2023-06-07 07:11:15 INFO: POS REMOVAL\n",
      "2023-06-07 07:11:15 INFO: DOCUMENT TRANSFORMER\n",
      "2023-06-07 07:11:15 INFO: POS REMOVAL\n",
      "2023-06-07 07:11:15 INFO: DOCUMENT TRANSFORMER\n",
      "2023-06-07 07:11:15 INFO: POS REMOVAL\n",
      "2023-06-07 07:11:15 INFO: DOCUMENT TRANSFORMER\n",
      "2023-06-07 07:11:16 INFO: POS REMOVAL\n",
      "2023-06-07 07:11:16 INFO: DOCUMENT TRANSFORMER\n",
      "2023-06-07 07:11:16 INFO: POS REMOVAL\n",
      "2023-06-07 07:11:16 INFO: DOCUMENT TRANSFORMER\n",
      "2023-06-07 07:11:16 INFO: POS REMOVAL\n",
      "2023-06-07 07:11:16 INFO: DOCUMENT TRANSFORMER\n",
      "2023-06-07 07:11:16 INFO: POS REMOVAL\n",
      "2023-06-07 07:11:17 INFO: DOCUMENT TRANSFORMER\n",
      "2023-06-07 07:11:17 INFO: POS REMOVAL\n",
      "2023-06-07 07:11:17 INFO: DOCUMENT TRANSFORMER\n",
      "2023-06-07 07:11:17 INFO: POS REMOVAL\n",
      "2023-06-07 07:11:17 INFO: DOCUMENT TRANSFORMER\n",
      "2023-06-07 07:11:17 INFO: POS REMOVAL\n",
      "2023-06-07 07:11:17 INFO: DOCUMENT TRANSFORMER\n",
      "2023-06-07 07:11:18 INFO: POS REMOVAL\n",
      "2023-06-07 07:11:18 INFO: DOCUMENT TRANSFORMER\n",
      "2023-06-07 07:11:18 INFO: POS REMOVAL\n",
      "2023-06-07 07:11:18 INFO: DOCUMENT TRANSFORMER\n",
      "2023-06-07 07:11:18 INFO: POS REMOVAL\n",
      "2023-06-07 07:11:18 INFO: DOCUMENT TRANSFORMER\n",
      "2023-06-07 07:11:19 INFO: POS REMOVAL\n",
      "2023-06-07 07:11:19 INFO: DOCUMENT TRANSFORMER\n",
      "2023-06-07 07:11:19 INFO: POS REMOVAL\n",
      "2023-06-07 07:11:19 INFO: DOCUMENT TRANSFORMER\n",
      "2023-06-07 07:11:19 INFO: POS REMOVAL\n",
      "2023-06-07 07:11:19 INFO: DOCUMENT TRANSFORMER\n",
      "2023-06-07 07:11:19 INFO: POS REMOVAL\n",
      "2023-06-07 07:11:19 INFO: DOCUMENT TRANSFORMER\n",
      "2023-06-07 07:11:20 INFO: POS REMOVAL\n",
      "2023-06-07 07:11:20 INFO: DOCUMENT TRANSFORMER\n",
      "2023-06-07 07:11:20 INFO: POS REMOVAL\n",
      "2023-06-07 07:11:20 INFO: DOCUMENT TRANSFORMER\n",
      "2023-06-07 07:11:20 INFO: POS REMOVAL\n",
      "2023-06-07 07:11:20 INFO: DOCUMENT TRANSFORMER\n",
      "2023-06-07 07:11:20 INFO: POS REMOVAL\n",
      "2023-06-07 07:11:20 INFO: DOCUMENT TRANSFORMER\n",
      "2023-06-07 07:11:21 INFO: POS REMOVAL\n",
      "2023-06-07 07:11:21 INFO: DOCUMENT TRANSFORMER\n",
      "2023-06-07 07:11:21 INFO: POS REMOVAL\n",
      "2023-06-07 07:11:21 INFO: DOCUMENT TRANSFORMER\n",
      "2023-06-07 07:11:21 INFO: POS REMOVAL\n",
      "2023-06-07 07:11:21 INFO: DOCUMENT TRANSFORMER\n",
      "2023-06-07 07:11:21 INFO: POS REMOVAL\n",
      "2023-06-07 07:11:21 INFO: DOCUMENT TRANSFORMER\n",
      "2023-06-07 07:11:22 INFO: POS REMOVAL\n",
      "2023-06-07 07:11:22 INFO: DOCUMENT TRANSFORMER\n",
      "2023-06-07 07:11:22 INFO: POS REMOVAL\n",
      "2023-06-07 07:11:22 INFO: DOCUMENT TRANSFORMER\n",
      "2023-06-07 07:11:22 INFO: POS REMOVAL\n",
      "2023-06-07 07:11:23 INFO: DOCUMENT TRANSFORMER\n",
      "2023-06-07 07:11:23 INFO: POS REMOVAL\n",
      "2023-06-07 07:11:23 INFO: DOCUMENT TRANSFORMER\n",
      "2023-06-07 07:11:23 INFO: POS REMOVAL\n",
      "2023-06-07 07:11:23 INFO: DOCUMENT TRANSFORMER\n",
      "2023-06-07 07:11:23 INFO: POS REMOVAL\n",
      "2023-06-07 07:11:23 INFO: DOCUMENT TRANSFORMER\n",
      "2023-06-07 07:11:24 INFO: POS REMOVAL\n",
      "2023-06-07 07:11:24 INFO: DOCUMENT TRANSFORMER\n",
      "2023-06-07 07:11:24 INFO: POS REMOVAL\n",
      "2023-06-07 07:11:24 INFO: DOCUMENT TRANSFORMER\n",
      "2023-06-07 07:11:24 INFO: POS REMOVAL\n",
      "2023-06-07 07:11:24 INFO: DOCUMENT TRANSFORMER\n",
      "2023-06-07 07:11:25 INFO: POS REMOVAL\n",
      "2023-06-07 07:11:25 INFO: DOCUMENT TRANSFORMER\n",
      "2023-06-07 07:11:25 INFO: POS REMOVAL\n",
      "2023-06-07 07:11:25 INFO: DOCUMENT TRANSFORMER\n",
      "2023-06-07 07:11:25 INFO: POS REMOVAL\n",
      "2023-06-07 07:11:25 INFO: DOCUMENT TRANSFORMER\n",
      "2023-06-07 07:11:26 INFO: POS REMOVAL\n",
      "2023-06-07 07:11:26 INFO: DOCUMENT TRANSFORMER\n",
      "2023-06-07 07:11:26 INFO: POS REMOVAL\n",
      "2023-06-07 07:11:26 INFO: DOCUMENT TRANSFORMER\n",
      "2023-06-07 07:11:26 INFO: POS REMOVAL\n",
      "2023-06-07 07:11:26 INFO: DOCUMENT TRANSFORMER\n",
      "2023-06-07 07:11:26 INFO: POS REMOVAL\n",
      "2023-06-07 07:11:26 INFO: DOCUMENT TRANSFORMER\n",
      "2023-06-07 07:11:27 INFO: POS REMOVAL\n",
      "2023-06-07 07:11:27 INFO: DOCUMENT TRANSFORMER\n",
      "2023-06-07 07:11:27 INFO: POS REMOVAL\n",
      "2023-06-07 07:11:27 INFO: DOCUMENT TRANSFORMER\n",
      "2023-06-07 07:11:28 INFO: POS REMOVAL\n",
      "2023-06-07 07:11:28 INFO: DOCUMENT TRANSFORMER\n",
      "2023-06-07 07:11:28 INFO: POS REMOVAL\n",
      "2023-06-07 07:11:28 INFO: DOCUMENT TRANSFORMER\n",
      "2023-06-07 07:11:28 INFO: POS REMOVAL\n",
      "2023-06-07 07:11:28 INFO: DOCUMENT TRANSFORMER\n",
      "2023-06-07 07:11:28 INFO: POS REMOVAL\n",
      "2023-06-07 07:11:28 INFO: DOCUMENT TRANSFORMER\n",
      "2023-06-07 07:11:29 INFO: POS REMOVAL\n",
      "2023-06-07 07:11:29 INFO: DOCUMENT TRANSFORMER\n",
      "2023-06-07 07:11:29 INFO: POS REMOVAL\n",
      "2023-06-07 07:11:29 INFO: DOCUMENT TRANSFORMER\n",
      "2023-06-07 07:11:29 INFO: POS REMOVAL\n",
      "2023-06-07 07:11:29 INFO: DOCUMENT TRANSFORMER\n",
      "2023-06-07 07:11:30 INFO: POS REMOVAL\n",
      "2023-06-07 07:11:30 INFO: DOCUMENT TRANSFORMER\n",
      "2023-06-07 07:11:30 INFO: POS REMOVAL\n",
      "2023-06-07 07:11:30 INFO: DOCUMENT TRANSFORMER\n",
      "2023-06-07 07:11:30 INFO: POS REMOVAL\n",
      "2023-06-07 07:11:30 INFO: DOCUMENT TRANSFORMER\n",
      "2023-06-07 07:11:31 INFO: POS REMOVAL\n",
      "2023-06-07 07:11:31 INFO: DOCUMENT TRANSFORMER\n",
      "2023-06-07 07:11:31 INFO: POS REMOVAL\n",
      "2023-06-07 07:11:31 INFO: DOCUMENT TRANSFORMER\n",
      "2023-06-07 07:11:31 INFO: POS REMOVAL\n",
      "2023-06-07 07:11:31 INFO: DOCUMENT TRANSFORMER\n",
      "2023-06-07 07:11:32 INFO: POS REMOVAL\n",
      "2023-06-07 07:11:32 INFO: DOCUMENT TRANSFORMER\n",
      "2023-06-07 07:11:32 INFO: POS REMOVAL\n",
      "2023-06-07 07:11:32 INFO: DOCUMENT TRANSFORMER\n",
      "2023-06-07 07:11:32 INFO: POS REMOVAL\n",
      "2023-06-07 07:11:32 INFO: DOCUMENT TRANSFORMER\n",
      "2023-06-07 07:11:33 INFO: POS REMOVAL\n",
      "2023-06-07 07:11:33 INFO: DOCUMENT TRANSFORMER\n",
      "2023-06-07 07:11:33 INFO: POS REMOVAL\n",
      "2023-06-07 07:11:33 INFO: DOCUMENT TRANSFORMER\n",
      "2023-06-07 07:11:33 INFO: POS REMOVAL\n",
      "2023-06-07 07:11:33 INFO: DOCUMENT TRANSFORMER\n",
      "2023-06-07 07:11:33 INFO: POS REMOVAL\n",
      "2023-06-07 07:11:33 INFO: DOCUMENT TRANSFORMER\n",
      "2023-06-07 07:11:34 INFO: POS REMOVAL\n",
      "2023-06-07 07:11:34 INFO: DOCUMENT TRANSFORMER\n",
      "2023-06-07 07:11:34 INFO: POS REMOVAL\n",
      "2023-06-07 07:11:34 INFO: DOCUMENT TRANSFORMER\n",
      "2023-06-07 07:11:34 INFO: POS REMOVAL\n",
      "2023-06-07 07:11:34 INFO: DOCUMENT TRANSFORMER\n",
      "2023-06-07 07:11:35 INFO: POS REMOVAL\n",
      "2023-06-07 07:11:35 INFO: DOCUMENT TRANSFORMER\n",
      "2023-06-07 07:11:35 INFO: POS REMOVAL\n",
      "2023-06-07 07:11:35 INFO: DOCUMENT TRANSFORMER\n",
      "2023-06-07 07:11:35 INFO: POS REMOVAL\n",
      "2023-06-07 07:11:35 INFO: DOCUMENT TRANSFORMER\n",
      "2023-06-07 07:11:36 INFO: POS REMOVAL\n",
      "2023-06-07 07:11:36 INFO: DOCUMENT TRANSFORMER\n",
      "2023-06-07 07:11:36 INFO: POS REMOVAL\n",
      "2023-06-07 07:11:36 INFO: DOCUMENT TRANSFORMER\n",
      "2023-06-07 07:11:37 INFO: POS REMOVAL\n",
      "2023-06-07 07:11:37 INFO: DOCUMENT TRANSFORMER\n",
      "2023-06-07 07:11:37 INFO: POS REMOVAL\n",
      "2023-06-07 07:11:37 INFO: DOCUMENT TRANSFORMER\n",
      "2023-06-07 07:11:37 INFO: POS REMOVAL\n",
      "2023-06-07 07:11:37 INFO: DOCUMENT TRANSFORMER\n",
      "2023-06-07 07:11:37 INFO: POS REMOVAL\n",
      "2023-06-07 07:11:37 INFO: DOCUMENT TRANSFORMER\n",
      "2023-06-07 07:11:38 INFO: POS REMOVAL\n",
      "2023-06-07 07:11:38 INFO: DOCUMENT TRANSFORMER\n",
      "2023-06-07 07:11:38 INFO: POS REMOVAL\n",
      "2023-06-07 07:11:38 INFO: DOCUMENT TRANSFORMER\n",
      "2023-06-07 07:11:38 INFO: POS REMOVAL\n",
      "2023-06-07 07:11:38 INFO: DOCUMENT TRANSFORMER\n",
      "2023-06-07 07:11:38 INFO: POS REMOVAL\n",
      "2023-06-07 07:11:38 INFO: DOCUMENT TRANSFORMER\n",
      "2023-06-07 07:11:39 INFO: POS REMOVAL\n",
      "2023-06-07 07:11:39 INFO: DOCUMENT TRANSFORMER\n",
      "2023-06-07 07:11:39 INFO: POS REMOVAL\n",
      "2023-06-07 07:11:39 INFO: DOCUMENT TRANSFORMER\n",
      "2023-06-07 07:11:39 INFO: POS REMOVAL\n",
      "2023-06-07 07:11:39 INFO: DOCUMENT TRANSFORMER\n",
      "2023-06-07 07:11:39 INFO: POS REMOVAL\n",
      "2023-06-07 07:11:40 INFO: DOCUMENT TRANSFORMER\n",
      "2023-06-07 07:11:40 INFO: POS REMOVAL\n",
      "2023-06-07 07:11:40 INFO: DOCUMENT TRANSFORMER\n",
      "2023-06-07 07:11:40 INFO: POS REMOVAL\n",
      "2023-06-07 07:11:40 INFO: DOCUMENT TRANSFORMER\n",
      "2023-06-07 07:11:40 INFO: POS REMOVAL\n",
      "2023-06-07 07:11:40 INFO: DOCUMENT TRANSFORMER\n",
      "2023-06-07 07:11:41 INFO: POS REMOVAL\n",
      "2023-06-07 07:11:41 INFO: DOCUMENT TRANSFORMER\n",
      "2023-06-07 07:11:41 INFO: POS REMOVAL\n",
      "2023-06-07 07:11:41 INFO: DOCUMENT TRANSFORMER\n",
      "2023-06-07 07:11:41 INFO: POS REMOVAL\n",
      "2023-06-07 07:11:41 INFO: DOCUMENT TRANSFORMER\n",
      "2023-06-07 07:11:42 INFO: POS REMOVAL\n",
      "2023-06-07 07:11:42 INFO: DOCUMENT TRANSFORMER\n",
      "2023-06-07 07:11:42 INFO: POS REMOVAL\n",
      "2023-06-07 07:11:42 INFO: DOCUMENT TRANSFORMER\n",
      "2023-06-07 07:11:42 INFO: POS REMOVAL\n",
      "2023-06-07 07:11:42 INFO: DOCUMENT TRANSFORMER\n",
      "2023-06-07 07:11:42 INFO: POS REMOVAL\n",
      "2023-06-07 07:11:42 INFO: DOCUMENT TRANSFORMER\n",
      "2023-06-07 07:11:43 INFO: POS REMOVAL\n",
      "2023-06-07 07:11:43 INFO: DOCUMENT TRANSFORMER\n",
      "2023-06-07 07:11:43 INFO: POS REMOVAL\n",
      "2023-06-07 07:11:43 INFO: DOCUMENT TRANSFORMER\n",
      "2023-06-07 07:11:43 INFO: POS REMOVAL\n",
      "2023-06-07 07:11:43 INFO: DOCUMENT TRANSFORMER\n",
      "2023-06-07 07:11:43 INFO: POS REMOVAL\n",
      "2023-06-07 07:11:43 INFO: DOCUMENT TRANSFORMER\n",
      "2023-06-07 07:11:44 INFO: POS REMOVAL\n",
      "2023-06-07 07:11:44 INFO: DOCUMENT TRANSFORMER\n",
      "2023-06-07 07:11:44 INFO: POS REMOVAL\n",
      "2023-06-07 07:11:44 INFO: DOCUMENT TRANSFORMER\n",
      "2023-06-07 07:11:44 INFO: POS REMOVAL\n",
      "2023-06-07 07:11:44 INFO: DOCUMENT TRANSFORMER\n",
      "2023-06-07 07:11:44 INFO: POS REMOVAL\n",
      "2023-06-07 07:11:44 INFO: DOCUMENT TRANSFORMER\n",
      "2023-06-07 07:11:45 INFO: POS REMOVAL\n",
      "2023-06-07 07:11:45 INFO: DOCUMENT TRANSFORMER\n",
      "2023-06-07 07:11:45 INFO: POS REMOVAL\n",
      "2023-06-07 07:11:45 INFO: DOCUMENT TRANSFORMER\n",
      "2023-06-07 07:11:45 INFO: POS REMOVAL\n",
      "2023-06-07 07:11:45 INFO: DOCUMENT TRANSFORMER\n",
      "2023-06-07 07:11:46 INFO: POS REMOVAL\n",
      "2023-06-07 07:11:46 INFO: DOCUMENT TRANSFORMER\n",
      "2023-06-07 07:11:46 INFO: POS REMOVAL\n",
      "2023-06-07 07:11:46 INFO: DOCUMENT TRANSFORMER\n",
      "2023-06-07 07:11:46 INFO: POS REMOVAL\n",
      "2023-06-07 07:11:46 INFO: DOCUMENT TRANSFORMER\n",
      "2023-06-07 07:11:47 INFO: POS REMOVAL\n",
      "2023-06-07 07:11:47 INFO: DOCUMENT TRANSFORMER\n",
      "2023-06-07 07:11:47 INFO: POS REMOVAL\n",
      "2023-06-07 07:11:47 INFO: DOCUMENT TRANSFORMER\n",
      "2023-06-07 07:11:48 INFO: POS REMOVAL\n",
      "2023-06-07 07:11:48 INFO: DOCUMENT TRANSFORMER\n",
      "2023-06-07 07:11:48 INFO: POS REMOVAL\n",
      "2023-06-07 07:11:48 INFO: DOCUMENT TRANSFORMER\n",
      "2023-06-07 07:11:48 INFO: POS REMOVAL\n",
      "2023-06-07 07:11:48 INFO: DOCUMENT TRANSFORMER\n",
      "2023-06-07 07:11:48 INFO: POS REMOVAL\n",
      "2023-06-07 07:11:48 INFO: DOCUMENT TRANSFORMER\n",
      "2023-06-07 07:11:49 INFO: POS REMOVAL\n",
      "2023-06-07 07:11:49 INFO: DOCUMENT TRANSFORMER\n",
      "2023-06-07 07:11:49 INFO: POS REMOVAL\n",
      "2023-06-07 07:11:49 INFO: DOCUMENT TRANSFORMER\n",
      "2023-06-07 07:11:50 INFO: POS REMOVAL\n",
      "2023-06-07 07:11:50 INFO: DOCUMENT TRANSFORMER\n",
      "2023-06-07 07:11:50 INFO: POS REMOVAL\n",
      "2023-06-07 07:11:50 INFO: DOCUMENT TRANSFORMER\n",
      "2023-06-07 07:11:50 INFO: POS REMOVAL\n",
      "2023-06-07 07:11:50 INFO: DOCUMENT TRANSFORMER\n",
      "2023-06-07 07:11:51 INFO: POS REMOVAL\n",
      "2023-06-07 07:11:51 INFO: DOCUMENT TRANSFORMER\n",
      "2023-06-07 07:11:51 INFO: POS REMOVAL\n",
      "2023-06-07 07:11:51 INFO: DOCUMENT TRANSFORMER\n",
      "2023-06-07 07:11:51 INFO: POS REMOVAL\n",
      "2023-06-07 07:11:51 INFO: DOCUMENT TRANSFORMER\n",
      "2023-06-07 07:11:52 INFO: POS REMOVAL\n",
      "2023-06-07 07:11:52 INFO: DOCUMENT TRANSFORMER\n",
      "2023-06-07 07:11:52 INFO: POS REMOVAL\n",
      "2023-06-07 07:11:52 INFO: DOCUMENT TRANSFORMER\n",
      "2023-06-07 07:11:53 INFO: POS REMOVAL\n",
      "2023-06-07 07:11:53 INFO: DOCUMENT TRANSFORMER\n",
      "2023-06-07 07:11:53 INFO: POS REMOVAL\n",
      "2023-06-07 07:11:53 INFO: DOCUMENT TRANSFORMER\n",
      "2023-06-07 07:11:53 INFO: POS REMOVAL\n",
      "2023-06-07 07:11:53 INFO: DOCUMENT TRANSFORMER\n",
      "2023-06-07 07:11:53 INFO: POS REMOVAL\n",
      "2023-06-07 07:11:54 INFO: DOCUMENT TRANSFORMER\n",
      "2023-06-07 07:11:54 INFO: POS REMOVAL\n",
      "2023-06-07 07:11:54 INFO: DOCUMENT TRANSFORMER\n",
      "2023-06-07 07:11:54 INFO: POS REMOVAL\n",
      "2023-06-07 07:11:54 INFO: DOCUMENT TRANSFORMER\n",
      "2023-06-07 07:11:55 INFO: POS REMOVAL\n",
      "2023-06-07 07:11:55 INFO: DOCUMENT TRANSFORMER\n",
      "2023-06-07 07:11:55 INFO: POS REMOVAL\n",
      "2023-06-07 07:11:55 INFO: DOCUMENT TRANSFORMER\n",
      "2023-06-07 07:11:56 INFO: POS REMOVAL\n",
      "2023-06-07 07:11:56 INFO: DOCUMENT TRANSFORMER\n",
      "2023-06-07 07:11:56 INFO: POS REMOVAL\n",
      "2023-06-07 07:11:56 INFO: DOCUMENT TRANSFORMER\n",
      "2023-06-07 07:11:56 INFO: POS REMOVAL\n",
      "2023-06-07 07:11:56 INFO: DOCUMENT TRANSFORMER\n",
      "2023-06-07 07:11:56 INFO: POS REMOVAL\n",
      "2023-06-07 07:11:57 INFO: DOCUMENT TRANSFORMER\n",
      "2023-06-07 07:11:57 INFO: POS REMOVAL\n",
      "2023-06-07 07:11:57 INFO: DOCUMENT TRANSFORMER\n",
      "2023-06-07 07:11:57 INFO: POS REMOVAL\n",
      "2023-06-07 07:11:57 INFO: DOCUMENT TRANSFORMER\n",
      "2023-06-07 07:11:58 INFO: POS REMOVAL\n",
      "2023-06-07 07:11:58 INFO: DOCUMENT TRANSFORMER\n",
      "2023-06-07 07:11:58 INFO: POS REMOVAL\n",
      "2023-06-07 07:11:58 INFO: DOCUMENT TRANSFORMER\n",
      "2023-06-07 07:11:59 INFO: POS REMOVAL\n",
      "2023-06-07 07:11:59 INFO: DOCUMENT TRANSFORMER\n",
      "2023-06-07 07:11:59 INFO: POS REMOVAL\n",
      "2023-06-07 07:11:59 INFO: DOCUMENT TRANSFORMER\n",
      "2023-06-07 07:11:59 INFO: POS REMOVAL\n",
      "2023-06-07 07:11:59 INFO: DOCUMENT TRANSFORMER\n",
      "2023-06-07 07:11:59 INFO: POS REMOVAL\n",
      "2023-06-07 07:11:59 INFO: DOCUMENT TRANSFORMER\n",
      "2023-06-07 07:12:00 INFO: POS REMOVAL\n",
      "2023-06-07 07:12:00 INFO: DOCUMENT TRANSFORMER\n",
      "2023-06-07 07:12:00 INFO: POS REMOVAL\n",
      "2023-06-07 07:12:00 INFO: DOCUMENT TRANSFORMER\n",
      "2023-06-07 07:12:01 INFO: POS REMOVAL\n",
      "2023-06-07 07:12:01 INFO: DOCUMENT TRANSFORMER\n",
      "2023-06-07 07:12:01 INFO: POS REMOVAL\n",
      "2023-06-07 07:12:01 INFO: DOCUMENT TRANSFORMER\n",
      "2023-06-07 07:12:01 INFO: POS REMOVAL\n",
      "2023-06-07 07:12:01 INFO: DOCUMENT TRANSFORMER\n",
      "2023-06-07 07:12:01 INFO: POS REMOVAL\n",
      "2023-06-07 07:12:01 INFO: DOCUMENT TRANSFORMER\n",
      "2023-06-07 07:12:02 INFO: POS REMOVAL\n",
      "2023-06-07 07:12:02 INFO: DOCUMENT TRANSFORMER\n",
      "2023-06-07 07:12:02 INFO: POS REMOVAL\n",
      "2023-06-07 07:12:02 INFO: DOCUMENT TRANSFORMER\n",
      "2023-06-07 07:12:02 INFO: POS REMOVAL\n",
      "2023-06-07 07:12:02 INFO: DOCUMENT TRANSFORMER\n",
      "2023-06-07 07:12:02 INFO: POS REMOVAL\n",
      "2023-06-07 07:12:02 INFO: DOCUMENT TRANSFORMER\n",
      "2023-06-07 07:12:03 INFO: POS REMOVAL\n",
      "2023-06-07 07:12:03 INFO: DOCUMENT TRANSFORMER\n",
      "2023-06-07 07:12:03 INFO: POS REMOVAL\n",
      "2023-06-07 07:12:03 INFO: DOCUMENT TRANSFORMER\n",
      "2023-06-07 07:12:03 INFO: POS REMOVAL\n",
      "2023-06-07 07:12:03 INFO: DOCUMENT TRANSFORMER\n",
      "2023-06-07 07:12:03 INFO: POS REMOVAL\n",
      "2023-06-07 07:12:03 INFO: DOCUMENT TRANSFORMER\n",
      "2023-06-07 07:12:04 INFO: POS REMOVAL\n",
      "2023-06-07 07:12:04 INFO: DOCUMENT TRANSFORMER\n",
      "2023-06-07 07:12:04 INFO: POS REMOVAL\n",
      "2023-06-07 07:12:04 INFO: DOCUMENT TRANSFORMER\n",
      "2023-06-07 07:12:04 INFO: POS REMOVAL\n",
      "2023-06-07 07:12:04 INFO: DOCUMENT TRANSFORMER\n",
      "2023-06-07 07:12:04 INFO: POS REMOVAL\n",
      "2023-06-07 07:12:04 INFO: DOCUMENT TRANSFORMER\n",
      "2023-06-07 07:12:05 INFO: POS REMOVAL\n",
      "2023-06-07 07:12:05 INFO: DOCUMENT TRANSFORMER\n",
      "2023-06-07 07:12:05 INFO: POS REMOVAL\n",
      "2023-06-07 07:12:05 INFO: DOCUMENT TRANSFORMER\n",
      "2023-06-07 07:12:06 INFO: POS REMOVAL\n",
      "2023-06-07 07:12:06 INFO: DOCUMENT TRANSFORMER\n",
      "2023-06-07 07:12:06 INFO: POS REMOVAL\n",
      "2023-06-07 07:12:06 INFO: DOCUMENT TRANSFORMER\n",
      "2023-06-07 07:12:06 INFO: POS REMOVAL\n",
      "2023-06-07 07:12:06 INFO: DOCUMENT TRANSFORMER\n",
      "2023-06-07 07:12:06 INFO: POS REMOVAL\n",
      "2023-06-07 07:12:06 INFO: DOCUMENT TRANSFORMER\n",
      "2023-06-07 07:12:07 INFO: POS REMOVAL\n",
      "2023-06-07 07:12:07 INFO: DOCUMENT TRANSFORMER\n",
      "2023-06-07 07:12:07 INFO: POS REMOVAL\n",
      "2023-06-07 07:12:07 INFO: DOCUMENT TRANSFORMER\n",
      "2023-06-07 07:12:07 INFO: POS REMOVAL\n",
      "2023-06-07 07:12:07 INFO: DOCUMENT TRANSFORMER\n",
      "2023-06-07 07:12:07 INFO: POS REMOVAL\n",
      "2023-06-07 07:12:08 INFO: DOCUMENT TRANSFORMER\n",
      "2023-06-07 07:12:08 INFO: POS REMOVAL\n",
      "2023-06-07 07:12:08 INFO: DOCUMENT TRANSFORMER\n",
      "2023-06-07 07:12:08 INFO: POS REMOVAL\n",
      "2023-06-07 07:12:08 INFO: DOCUMENT TRANSFORMER\n",
      "2023-06-07 07:12:08 INFO: POS REMOVAL\n",
      "2023-06-07 07:12:08 INFO: DOCUMENT TRANSFORMER\n",
      "2023-06-07 07:12:09 INFO: POS REMOVAL\n",
      "2023-06-07 07:12:09 INFO: DOCUMENT TRANSFORMER\n",
      "2023-06-07 07:12:09 INFO: POS REMOVAL\n",
      "2023-06-07 07:12:09 INFO: DOCUMENT TRANSFORMER\n",
      "2023-06-07 07:12:09 INFO: POS REMOVAL\n",
      "2023-06-07 07:12:09 INFO: DOCUMENT TRANSFORMER\n",
      "2023-06-07 07:12:10 INFO: POS REMOVAL\n",
      "2023-06-07 07:12:10 INFO: DOCUMENT TRANSFORMER\n",
      "2023-06-07 07:12:10 INFO: POS REMOVAL\n",
      "2023-06-07 07:12:10 INFO: DOCUMENT TRANSFORMER\n",
      "2023-06-07 07:12:10 INFO: POS REMOVAL\n",
      "2023-06-07 07:12:10 INFO: DOCUMENT TRANSFORMER\n",
      "2023-06-07 07:12:10 INFO: POS REMOVAL\n",
      "2023-06-07 07:12:10 INFO: DOCUMENT TRANSFORMER\n",
      "2023-06-07 07:12:11 INFO: POS REMOVAL\n",
      "2023-06-07 07:12:11 INFO: DOCUMENT TRANSFORMER\n",
      "2023-06-07 07:12:11 INFO: POS REMOVAL\n",
      "2023-06-07 07:12:11 INFO: DOCUMENT TRANSFORMER\n",
      "2023-06-07 07:12:11 INFO: POS REMOVAL\n",
      "2023-06-07 07:12:11 INFO: DOCUMENT TRANSFORMER\n",
      "2023-06-07 07:12:11 INFO: POS REMOVAL\n",
      "2023-06-07 07:12:11 INFO: DOCUMENT TRANSFORMER\n",
      "2023-06-07 07:12:12 INFO: POS REMOVAL\n",
      "2023-06-07 07:12:12 INFO: DOCUMENT TRANSFORMER\n",
      "2023-06-07 07:12:12 INFO: POS REMOVAL\n",
      "2023-06-07 07:12:12 INFO: DOCUMENT TRANSFORMER\n",
      "2023-06-07 07:12:12 INFO: POS REMOVAL\n",
      "2023-06-07 07:12:12 INFO: DOCUMENT TRANSFORMER\n",
      "2023-06-07 07:12:13 INFO: POS REMOVAL\n",
      "2023-06-07 07:12:13 INFO: DOCUMENT TRANSFORMER\n",
      "2023-06-07 07:12:13 INFO: POS REMOVAL\n",
      "2023-06-07 07:12:13 INFO: DOCUMENT TRANSFORMER\n",
      "2023-06-07 07:12:13 INFO: POS REMOVAL\n",
      "2023-06-07 07:12:13 INFO: DOCUMENT TRANSFORMER\n",
      "2023-06-07 07:12:14 INFO: POS REMOVAL\n",
      "2023-06-07 07:12:14 INFO: DOCUMENT TRANSFORMER\n",
      "2023-06-07 07:12:14 INFO: POS REMOVAL\n",
      "2023-06-07 07:12:14 INFO: DOCUMENT TRANSFORMER\n",
      "2023-06-07 07:12:14 INFO: POS REMOVAL\n",
      "2023-06-07 07:12:14 INFO: DOCUMENT TRANSFORMER\n",
      "2023-06-07 07:12:14 INFO: POS REMOVAL\n",
      "2023-06-07 07:12:15 INFO: DOCUMENT TRANSFORMER\n",
      "2023-06-07 07:12:15 INFO: POS REMOVAL\n",
      "2023-06-07 07:12:15 INFO: DOCUMENT TRANSFORMER\n",
      "2023-06-07 07:12:15 INFO: POS REMOVAL\n",
      "2023-06-07 07:12:15 INFO: DOCUMENT TRANSFORMER\n",
      "2023-06-07 07:12:16 INFO: POS REMOVAL\n",
      "2023-06-07 07:12:16 INFO: DOCUMENT TRANSFORMER\n",
      "2023-06-07 07:12:16 INFO: POS REMOVAL\n",
      "2023-06-07 07:12:16 INFO: DOCUMENT TRANSFORMER\n",
      "2023-06-07 07:12:16 INFO: POS REMOVAL\n",
      "2023-06-07 07:12:16 INFO: DOCUMENT TRANSFORMER\n",
      "2023-06-07 07:12:16 INFO: POS REMOVAL\n",
      "2023-06-07 07:12:16 INFO: DOCUMENT TRANSFORMER\n",
      "2023-06-07 07:12:17 INFO: POS REMOVAL\n",
      "2023-06-07 07:12:17 INFO: DOCUMENT TRANSFORMER\n",
      "2023-06-07 07:12:17 INFO: POS REMOVAL\n",
      "2023-06-07 07:12:17 INFO: DOCUMENT TRANSFORMER\n",
      "2023-06-07 07:12:18 INFO: POS REMOVAL\n",
      "2023-06-07 07:12:18 INFO: DOCUMENT TRANSFORMER\n",
      "2023-06-07 07:12:18 INFO: POS REMOVAL\n",
      "2023-06-07 07:12:18 INFO: DOCUMENT TRANSFORMER\n",
      "2023-06-07 07:12:18 INFO: POS REMOVAL\n",
      "2023-06-07 07:12:18 INFO: DOCUMENT TRANSFORMER\n",
      "2023-06-07 07:12:18 INFO: POS REMOVAL\n",
      "2023-06-07 07:12:18 INFO: DOCUMENT TRANSFORMER\n",
      "2023-06-07 07:12:19 INFO: POS REMOVAL\n",
      "2023-06-07 07:12:19 INFO: DOCUMENT TRANSFORMER\n",
      "2023-06-07 07:12:19 INFO: POS REMOVAL\n",
      "2023-06-07 07:12:19 INFO: DOCUMENT TRANSFORMER\n",
      "2023-06-07 07:12:20 INFO: POS REMOVAL\n",
      "2023-06-07 07:12:20 INFO: DOCUMENT TRANSFORMER\n",
      "2023-06-07 07:12:20 INFO: POS REMOVAL\n",
      "2023-06-07 07:12:20 INFO: DOCUMENT TRANSFORMER\n",
      "2023-06-07 07:12:20 INFO: POS REMOVAL\n",
      "2023-06-07 07:12:20 INFO: DOCUMENT TRANSFORMER\n",
      "2023-06-07 07:12:20 INFO: POS REMOVAL\n",
      "2023-06-07 07:12:20 INFO: DOCUMENT TRANSFORMER\n",
      "2023-06-07 07:12:21 INFO: POS REMOVAL\n",
      "2023-06-07 07:12:21 INFO: DOCUMENT TRANSFORMER\n",
      "2023-06-07 07:12:21 INFO: POS REMOVAL\n",
      "2023-06-07 07:12:21 INFO: DOCUMENT TRANSFORMER\n",
      "2023-06-07 07:12:21 INFO: POS REMOVAL\n",
      "2023-06-07 07:12:21 INFO: DOCUMENT TRANSFORMER\n",
      "2023-06-07 07:12:22 INFO: POS REMOVAL\n",
      "2023-06-07 07:12:22 INFO: DOCUMENT TRANSFORMER\n",
      "2023-06-07 07:12:22 INFO: POS REMOVAL\n",
      "2023-06-07 07:12:22 INFO: DOCUMENT TRANSFORMER\n",
      "2023-06-07 07:12:22 INFO: POS REMOVAL\n",
      "2023-06-07 07:12:22 INFO: DOCUMENT TRANSFORMER\n",
      "2023-06-07 07:12:23 INFO: POS REMOVAL\n",
      "2023-06-07 07:12:23 INFO: DOCUMENT TRANSFORMER\n",
      "2023-06-07 07:12:23 INFO: POS REMOVAL\n",
      "2023-06-07 07:12:23 INFO: DOCUMENT TRANSFORMER\n",
      "2023-06-07 07:12:23 INFO: POS REMOVAL\n",
      "2023-06-07 07:12:23 INFO: DOCUMENT TRANSFORMER\n",
      "2023-06-07 07:12:23 INFO: POS REMOVAL\n",
      "2023-06-07 07:12:24 INFO: DOCUMENT TRANSFORMER\n",
      "2023-06-07 07:12:24 INFO: POS REMOVAL\n",
      "2023-06-07 07:12:24 INFO: DOCUMENT TRANSFORMER\n",
      "2023-06-07 07:12:24 INFO: POS REMOVAL\n",
      "2023-06-07 07:12:24 INFO: DOCUMENT TRANSFORMER\n"
     ]
    },
    {
     "name": "stderr",
     "output_type": "stream",
     "text": [
      "c:\\Users\\c10nGp4\\anaconda3\\envs\\imbalance-multi-classification\\lib\\site-packages\\sklearn\\model_selection\\_validation.py:378: FitFailedWarning: \n",
      "1920 fits failed out of a total of 3840.\n",
      "The score on these train-test partitions for these parameters will be set to nan.\n",
      "If these failures are not expected, you can try to debug them by setting error_score='raise'.\n",
      "\n",
      "Below are more details about the failures:\n",
      "--------------------------------------------------------------------------------\n",
      "1920 fits failed with the following error:\n",
      "Traceback (most recent call last):\n",
      "  File \"c:\\Users\\c10nGp4\\anaconda3\\envs\\imbalance-multi-classification\\lib\\site-packages\\sklearn\\model_selection\\_validation.py\", line 686, in _fit_and_score\n",
      "    estimator.fit(X_train, y_train, **fit_params)\n",
      "  File \"c:\\Users\\c10nGp4\\anaconda3\\envs\\imbalance-multi-classification\\lib\\site-packages\\sklearn\\pipeline.py\", line 405, in fit\n",
      "    self._final_estimator.fit(Xt, y, **fit_params_last_step)\n",
      "  File \"c:\\Users\\c10nGp4\\anaconda3\\envs\\imbalance-multi-classification\\lib\\site-packages\\sklearn\\svm\\_classes.py\", line 274, in fit\n",
      "    self.coef_, self.intercept_, n_iter_ = _fit_liblinear(\n",
      "  File \"c:\\Users\\c10nGp4\\anaconda3\\envs\\imbalance-multi-classification\\lib\\site-packages\\sklearn\\svm\\_base.py\", line 1223, in _fit_liblinear\n",
      "    solver_type = _get_liblinear_solver_type(multi_class, penalty, loss, dual)\n",
      "  File \"c:\\Users\\c10nGp4\\anaconda3\\envs\\imbalance-multi-classification\\lib\\site-packages\\sklearn\\svm\\_base.py\", line 1062, in _get_liblinear_solver_type\n",
      "    raise ValueError(\n",
      "ValueError: Unsupported set of arguments: The combination of penalty='l1' and loss='squared_hinge' are not supported when dual=True, Parameters: penalty='l1', loss='squared_hinge', dual=True\n",
      "\n",
      "  warnings.warn(some_fits_failed_message, FitFailedWarning)\n",
      "c:\\Users\\c10nGp4\\anaconda3\\envs\\imbalance-multi-classification\\lib\\site-packages\\sklearn\\model_selection\\_search.py:952: UserWarning: One or more of the test scores are non-finite: [       nan        nan        nan        nan        nan        nan\n",
      "        nan        nan        nan        nan        nan        nan\n",
      "        nan        nan        nan        nan        nan        nan\n",
      "        nan        nan        nan        nan        nan        nan\n",
      "        nan        nan        nan        nan        nan        nan\n",
      "        nan        nan 0.48102603 0.47927319 0.64584734 0.64413473\n",
      " 0.39951932 0.39699278 0.6532992  0.65308764 0.50907712 0.50611033\n",
      " 0.65076023 0.64771222 0.48744548 0.48459263 0.68757443 0.68601623\n",
      " 0.48102603 0.47927319 0.64584734 0.64413473 0.39951932 0.39699278\n",
      " 0.6532992  0.65308764 0.50907712 0.50611033 0.65076023 0.64771222\n",
      " 0.48744548 0.48459263 0.68757443 0.68601623        nan        nan\n",
      "        nan        nan        nan        nan        nan        nan\n",
      "        nan        nan        nan        nan        nan        nan\n",
      "        nan        nan        nan        nan        nan        nan\n",
      "        nan        nan        nan        nan        nan        nan\n",
      "        nan        nan        nan        nan        nan        nan\n",
      " 0.23919549 0.25619765 0.26526059 0.20645365 0.         0.\n",
      " 0.34253156 0.18271257 0.05816895 0.20274818 0.13031119 0.21536507\n",
      " 0.179023   0.18931799 0.27939011 0.21309279 0.23919549 0.25619765\n",
      " 0.26526059 0.20645365 0.         0.         0.34253156 0.18271257\n",
      " 0.05816895 0.20274818 0.13031119 0.21536507 0.179023   0.18931799\n",
      " 0.27939011 0.21309279        nan        nan        nan        nan\n",
      "        nan        nan        nan        nan        nan        nan\n",
      "        nan        nan        nan        nan        nan        nan\n",
      "        nan        nan        nan        nan        nan        nan\n",
      "        nan        nan        nan        nan        nan        nan\n",
      "        nan        nan        nan        nan 0.62906503 0.62671426\n",
      " 0.67516677 0.67211686 0.59972041 0.59564178 0.6973007  0.69429823\n",
      " 0.64082644 0.63858563 0.67003871 0.67155924 0.65989047 0.65513431\n",
      " 0.7107288  0.70822534 0.62906503 0.62671426 0.67516677 0.67211686\n",
      " 0.59972041 0.59564178 0.6973007  0.69429823 0.64082644 0.63858563\n",
      " 0.67003871 0.67155924 0.65989047 0.65513431 0.7107288  0.70822534\n",
      "        nan        nan        nan        nan        nan        nan\n",
      "        nan        nan        nan        nan        nan        nan\n",
      "        nan        nan        nan        nan        nan        nan\n",
      "        nan        nan        nan        nan        nan        nan\n",
      "        nan        nan        nan        nan        nan        nan\n",
      "        nan        nan 0.22376724 0.17467721 0.11517016 0.21896941\n",
      " 0.         0.         0.26676615 0.14304369 0.05862972 0.09373877\n",
      " 0.10384081 0.26346547 0.16108671 0.18001465 0.27866992 0.11227446\n",
      " 0.22376724 0.17467721 0.11517016 0.21896941 0.         0.\n",
      " 0.26676615 0.14304369 0.05862972 0.09373877 0.10384081 0.26346547\n",
      " 0.16108671 0.18001465 0.27866992 0.11227446        nan        nan\n",
      "        nan        nan        nan        nan        nan        nan\n",
      "        nan        nan        nan        nan        nan        nan\n",
      "        nan        nan        nan        nan        nan        nan\n",
      "        nan        nan        nan        nan        nan        nan\n",
      "        nan        nan        nan        nan        nan        nan\n",
      " 0.63094021 0.6287817  0.64561571 0.64364414 0.62467747 0.62379843\n",
      " 0.70544597 0.70318739 0.63819875 0.63530175 0.6487833  0.6465548\n",
      " 0.66951691 0.66794263 0.69141745 0.69028124 0.63094021 0.6287817\n",
      " 0.64561571 0.64364414 0.62467747 0.62379843 0.70544597 0.70318739\n",
      " 0.63819875 0.63530175 0.6487833  0.6465548  0.66951691 0.66794263\n",
      " 0.69141745 0.69028124        nan        nan        nan        nan\n",
      "        nan        nan        nan        nan        nan        nan\n",
      "        nan        nan        nan        nan        nan        nan\n",
      "        nan        nan        nan        nan        nan        nan\n",
      "        nan        nan        nan        nan        nan        nan\n",
      "        nan        nan        nan        nan 0.192256   0.24176331\n",
      " 0.19437964 0.10995932 0.14234494 0.11039954 0.18564518 0.18103914\n",
      " 0.1255265  0.2964024  0.05645744 0.13839662 0.23459901 0.31175399\n",
      " 0.30145235 0.31795364 0.192256   0.24176331 0.19437964 0.10995932\n",
      " 0.14234494 0.11039954 0.18564518 0.18103914 0.1255265  0.2964024\n",
      " 0.05645744 0.13839662 0.23459901 0.31175399 0.30145235 0.31795364\n",
      "        nan        nan        nan        nan        nan        nan\n",
      "        nan        nan        nan        nan        nan        nan\n",
      "        nan        nan        nan        nan        nan        nan\n",
      "        nan        nan        nan        nan        nan        nan\n",
      "        nan        nan        nan        nan        nan        nan\n",
      "        nan        nan 0.66816002 0.6657402  0.65541573 0.65219469\n",
      " 0.69008816 0.686159   0.70761885 0.70698229 0.66496821 0.6646365\n",
      " 0.65202856 0.64984573 0.70402743 0.70080009 0.6929481  0.69102152\n",
      " 0.66816002 0.6657402  0.65541573 0.65219469 0.69008816 0.686159\n",
      " 0.70761885 0.70698229 0.66496821 0.6646365  0.65202856 0.64984573\n",
      " 0.70402743 0.70080009 0.6929481  0.69102152        nan        nan\n",
      "        nan        nan        nan        nan        nan        nan\n",
      "        nan        nan        nan        nan        nan        nan\n",
      "        nan        nan        nan        nan        nan        nan\n",
      "        nan        nan        nan        nan        nan        nan\n",
      "        nan        nan        nan        nan        nan        nan\n",
      " 0.23538036 0.24136057 0.17800892 0.10996371 0.12408034 0.08442251\n",
      " 0.30384497 0.14236628 0.06231923 0.29102246 0.05638807 0.16277294\n",
      " 0.30957843 0.21781628 0.2848726  0.35387919 0.23538036 0.24136057\n",
      " 0.17800892 0.10996371 0.12408034 0.08442251 0.30384497 0.14236628\n",
      " 0.06231923 0.29102246 0.05638807 0.16277294 0.30957843 0.21781628\n",
      " 0.2848726  0.35387919        nan        nan        nan        nan\n",
      "        nan        nan        nan        nan        nan        nan\n",
      "        nan        nan        nan        nan        nan        nan\n",
      "        nan        nan        nan        nan        nan        nan\n",
      "        nan        nan        nan        nan        nan        nan\n",
      "        nan        nan        nan        nan 0.524934   0.52238982\n",
      " 0.64968657 0.64715448 0.44377831 0.44061834 0.6442752  0.64213598\n",
      " 0.54735896 0.54257972 0.65264367 0.65198144 0.53078152 0.52686405\n",
      " 0.68840067 0.68709863 0.524934   0.52238982 0.64968657 0.64715448\n",
      " 0.44377831 0.44061834 0.6442752  0.64213598 0.54735896 0.54257972\n",
      " 0.65264367 0.65198144 0.53078152 0.52686405 0.68840067 0.68709863\n",
      "        nan        nan        nan        nan        nan        nan\n",
      "        nan        nan        nan        nan        nan        nan\n",
      "        nan        nan        nan        nan        nan        nan\n",
      "        nan        nan        nan        nan        nan        nan\n",
      "        nan        nan        nan        nan        nan        nan\n",
      "        nan        nan 0.63120987 0.62874984 0.67269917 0.66990822\n",
      " 0.59358083 0.58936036 0.69541736 0.69436812 0.64016911 0.63723409\n",
      " 0.66874664 0.66896874 0.65544708 0.65255806 0.70891686 0.70638685\n",
      " 0.63120987 0.62874984 0.67269917 0.66990822 0.59358083 0.58936036\n",
      " 0.69541736 0.69436812 0.64016911 0.63723409 0.66874664 0.66896874\n",
      " 0.65544708 0.65255806 0.70891686 0.70638685        nan        nan\n",
      "        nan        nan        nan        nan        nan        nan\n",
      "        nan        nan        nan        nan        nan        nan\n",
      "        nan        nan        nan        nan        nan        nan\n",
      "        nan        nan        nan        nan        nan        nan\n",
      "        nan        nan        nan        nan        nan        nan\n",
      " 0.63867935 0.63686929 0.64689783 0.64466859 0.61260976 0.60970858\n",
      " 0.69942616 0.69769888 0.64418777 0.64126508 0.64816585 0.64681643\n",
      " 0.67728248 0.6747367  0.69146095 0.68927515 0.63867935 0.63686929\n",
      " 0.64689783 0.64466859 0.61260976 0.60970858 0.69942616 0.69769888\n",
      " 0.64418777 0.64126508 0.64816585 0.64681643 0.67728248 0.6747367\n",
      " 0.69146095 0.68927515        nan        nan        nan        nan\n",
      "        nan        nan        nan        nan        nan        nan\n",
      "        nan        nan        nan        nan        nan        nan\n",
      "        nan        nan        nan        nan        nan        nan\n",
      "        nan        nan        nan        nan        nan        nan\n",
      "        nan        nan        nan        nan 0.66660809 0.66574093\n",
      " 0.65801581 0.65507835 0.68643492 0.68351818 0.70767554 0.70720697\n",
      " 0.66316217 0.66240101 0.65306722 0.65255843 0.70365532 0.70056536\n",
      " 0.69473112 0.69289358 0.66660809 0.66574093 0.65801581 0.65507835\n",
      " 0.68643492 0.68351818 0.70767554 0.70720697 0.66316217 0.66240101\n",
      " 0.65306722 0.65255843 0.70365532 0.70056536 0.69473112 0.69289358]\n",
      "  warnings.warn(\n"
     ]
    }
   ],
   "source": [
    "from sklearn.metrics import make_scorer, accuracy_score, matthews_corrcoef\n",
    "from sklearn.model_selection import RandomizedSearchCV\n",
    "from sklearn.model_selection import StratifiedShuffleSplit\n",
    "from sklearnex import config_context\n",
    "\n",
    "n_iter = 1000\n",
    "n_splits = 5\n",
    "train_size = 0.8\n",
    "n_jobs = 1\n",
    "verbose = 1\n",
    "\n",
    "randomized_search = RandomizedSearchCV(\n",
    "    estimator=pipeline,\n",
    "    param_distributions=param_distributions,\n",
    "    n_iter=n_iter,\n",
    "    scoring=make_scorer(matthews_corrcoef),\n",
    "    n_jobs=n_jobs,\n",
    "    cv=StratifiedShuffleSplit(n_splits=n_splits, train_size=train_size, random_state=42),\n",
    "    verbose=verbose,\n",
    "    random_state=42\n",
    ")\n",
    "\n",
    "t0 = time.time()\n",
    "\n",
    "with config_context(target_offload=\"auto\", allow_fallback_to_host=True):\n",
    "    randomized_search.fit(X_train, y_train)\n",
    "\n",
    "estimation = time.time() - t0\n",
    "\n",
    "cv_results_df = pd.DataFrame(randomized_search.cv_results_)\n",
    "\n",
    "cv_results_df = cv_results_df.rename(lambda col_name: col_name.split(\"__\")[-1] if \"param_\" in col_name else col_name, axis=\"columns\")\n",
    "cv_results_df = cv_results_df.reindex(columns=[\"pos\",\"ngram_range\",\"min_df\", \"norm\",\"sublinear_tf\",\"class_weight\",\"penalty\",\"C\",\"fit_intercept\",\"intercept_scaling\",\"split0_test_score\",\"split1_test_score\",\"split2_test_score\",\"split3_test_score\",\"split4_test_score\",\"mean_test_score\",\"mean_fit_time\",\"rank_test_score\"])\n",
    "cv_results_df = cv_results_df.fillna(\"None\")\n",
    "\n",
    "cv_results_df.to_csv(path / \"assets/experiment_3_without_stopwords_cv_results.csv\", sep=\";\", index=False)"
   ]
  },
  {
   "cell_type": "code",
   "execution_count": 10,
   "metadata": {},
   "outputs": [
    {
     "data": {
      "text/html": [
       "<div>\n",
       "<style scoped>\n",
       "    .dataframe tbody tr th:only-of-type {\n",
       "        vertical-align: middle;\n",
       "    }\n",
       "\n",
       "    .dataframe tbody tr th {\n",
       "        vertical-align: top;\n",
       "    }\n",
       "\n",
       "    .dataframe thead th {\n",
       "        text-align: right;\n",
       "    }\n",
       "</style>\n",
       "<table border=\"1\" class=\"dataframe\">\n",
       "  <thead>\n",
       "    <tr style=\"text-align: right;\">\n",
       "      <th></th>\n",
       "      <th>pos</th>\n",
       "      <th>ngram_range</th>\n",
       "      <th>min_df</th>\n",
       "      <th>norm</th>\n",
       "      <th>sublinear_tf</th>\n",
       "      <th>class_weight</th>\n",
       "      <th>penalty</th>\n",
       "      <th>C</th>\n",
       "      <th>fit_intercept</th>\n",
       "      <th>intercept_scaling</th>\n",
       "      <th>split0_test_score</th>\n",
       "      <th>split1_test_score</th>\n",
       "      <th>split2_test_score</th>\n",
       "      <th>split3_test_score</th>\n",
       "      <th>split4_test_score</th>\n",
       "      <th>mean_test_score</th>\n",
       "      <th>mean_fit_time</th>\n",
       "      <th>rank_test_score</th>\n",
       "    </tr>\n",
       "  </thead>\n",
       "  <tbody>\n",
       "    <tr>\n",
       "      <th>0</th>\n",
       "      <td>{CONJ, ADJ, ADV, NOUN, SCONJ, AUX, NUM, SYM, D...</td>\n",
       "      <td>(1, 1)</td>\n",
       "      <td>1</td>\n",
       "      <td>l1</td>\n",
       "      <td>True</td>\n",
       "      <td>None</td>\n",
       "      <td>l1</td>\n",
       "      <td>0.1</td>\n",
       "      <td>True</td>\n",
       "      <td>1.0</td>\n",
       "      <td>None</td>\n",
       "      <td>None</td>\n",
       "      <td>None</td>\n",
       "      <td>None</td>\n",
       "      <td>None</td>\n",
       "      <td>None</td>\n",
       "      <td>0.993453</td>\n",
       "      <td>385</td>\n",
       "    </tr>\n",
       "    <tr>\n",
       "      <th>1</th>\n",
       "      <td>{CONJ, ADJ, ADV, NOUN, SCONJ, AUX, NUM, SYM, D...</td>\n",
       "      <td>(1, 1)</td>\n",
       "      <td>1</td>\n",
       "      <td>l1</td>\n",
       "      <td>False</td>\n",
       "      <td>None</td>\n",
       "      <td>l1</td>\n",
       "      <td>0.1</td>\n",
       "      <td>True</td>\n",
       "      <td>1.0</td>\n",
       "      <td>None</td>\n",
       "      <td>None</td>\n",
       "      <td>None</td>\n",
       "      <td>None</td>\n",
       "      <td>None</td>\n",
       "      <td>None</td>\n",
       "      <td>0.987393</td>\n",
       "      <td>385</td>\n",
       "    </tr>\n",
       "    <tr>\n",
       "      <th>2</th>\n",
       "      <td>{CONJ, ADJ, ADV, NOUN, SCONJ, AUX, NUM, SYM, D...</td>\n",
       "      <td>(1, 1)</td>\n",
       "      <td>1</td>\n",
       "      <td>l2</td>\n",
       "      <td>True</td>\n",
       "      <td>None</td>\n",
       "      <td>l1</td>\n",
       "      <td>0.1</td>\n",
       "      <td>True</td>\n",
       "      <td>1.0</td>\n",
       "      <td>None</td>\n",
       "      <td>None</td>\n",
       "      <td>None</td>\n",
       "      <td>None</td>\n",
       "      <td>None</td>\n",
       "      <td>None</td>\n",
       "      <td>0.978874</td>\n",
       "      <td>385</td>\n",
       "    </tr>\n",
       "    <tr>\n",
       "      <th>3</th>\n",
       "      <td>{CONJ, ADJ, ADV, NOUN, SCONJ, AUX, NUM, SYM, D...</td>\n",
       "      <td>(1, 1)</td>\n",
       "      <td>1</td>\n",
       "      <td>l2</td>\n",
       "      <td>False</td>\n",
       "      <td>None</td>\n",
       "      <td>l1</td>\n",
       "      <td>0.1</td>\n",
       "      <td>True</td>\n",
       "      <td>1.0</td>\n",
       "      <td>None</td>\n",
       "      <td>None</td>\n",
       "      <td>None</td>\n",
       "      <td>None</td>\n",
       "      <td>None</td>\n",
       "      <td>None</td>\n",
       "      <td>0.990872</td>\n",
       "      <td>385</td>\n",
       "    </tr>\n",
       "    <tr>\n",
       "      <th>4</th>\n",
       "      <td>{CONJ, ADJ, ADV, NOUN, SCONJ, AUX, NUM, SYM, D...</td>\n",
       "      <td>(1, 2)</td>\n",
       "      <td>1</td>\n",
       "      <td>l1</td>\n",
       "      <td>True</td>\n",
       "      <td>None</td>\n",
       "      <td>l1</td>\n",
       "      <td>0.1</td>\n",
       "      <td>True</td>\n",
       "      <td>1.0</td>\n",
       "      <td>None</td>\n",
       "      <td>None</td>\n",
       "      <td>None</td>\n",
       "      <td>None</td>\n",
       "      <td>None</td>\n",
       "      <td>None</td>\n",
       "      <td>1.276226</td>\n",
       "      <td>385</td>\n",
       "    </tr>\n",
       "    <tr>\n",
       "      <th>...</th>\n",
       "      <td>...</td>\n",
       "      <td>...</td>\n",
       "      <td>...</td>\n",
       "      <td>...</td>\n",
       "      <td>...</td>\n",
       "      <td>...</td>\n",
       "      <td>...</td>\n",
       "      <td>...</td>\n",
       "      <td>...</td>\n",
       "      <td>...</td>\n",
       "      <td>...</td>\n",
       "      <td>...</td>\n",
       "      <td>...</td>\n",
       "      <td>...</td>\n",
       "      <td>...</td>\n",
       "      <td>...</td>\n",
       "      <td>...</td>\n",
       "      <td>...</td>\n",
       "    </tr>\n",
       "    <tr>\n",
       "      <th>763</th>\n",
       "      <td>(ADJ, ADV, NOUN, PART, VERB)</td>\n",
       "      <td>(1, 1)</td>\n",
       "      <td>5</td>\n",
       "      <td>l2</td>\n",
       "      <td>False</td>\n",
       "      <td>balanced</td>\n",
       "      <td>l2</td>\n",
       "      <td>1.0</td>\n",
       "      <td>False</td>\n",
       "      <td>None</td>\n",
       "      <td>0.644104</td>\n",
       "      <td>0.660169</td>\n",
       "      <td>0.648226</td>\n",
       "      <td>0.646977</td>\n",
       "      <td>0.663317</td>\n",
       "      <td>0.652558</td>\n",
       "      <td>0.446304</td>\n",
       "      <td>133</td>\n",
       "    </tr>\n",
       "    <tr>\n",
       "      <th>764</th>\n",
       "      <td>(ADJ, ADV, NOUN, PART, VERB)</td>\n",
       "      <td>(1, 2)</td>\n",
       "      <td>5</td>\n",
       "      <td>l1</td>\n",
       "      <td>True</td>\n",
       "      <td>balanced</td>\n",
       "      <td>l2</td>\n",
       "      <td>1.0</td>\n",
       "      <td>False</td>\n",
       "      <td>None</td>\n",
       "      <td>0.699857</td>\n",
       "      <td>0.706821</td>\n",
       "      <td>0.705941</td>\n",
       "      <td>0.708092</td>\n",
       "      <td>0.697564</td>\n",
       "      <td>0.703655</td>\n",
       "      <td>0.524663</td>\n",
       "      <td>21</td>\n",
       "    </tr>\n",
       "    <tr>\n",
       "      <th>765</th>\n",
       "      <td>(ADJ, ADV, NOUN, PART, VERB)</td>\n",
       "      <td>(1, 2)</td>\n",
       "      <td>5</td>\n",
       "      <td>l1</td>\n",
       "      <td>False</td>\n",
       "      <td>balanced</td>\n",
       "      <td>l2</td>\n",
       "      <td>1.0</td>\n",
       "      <td>False</td>\n",
       "      <td>None</td>\n",
       "      <td>0.695137</td>\n",
       "      <td>0.703854</td>\n",
       "      <td>0.701839</td>\n",
       "      <td>0.705559</td>\n",
       "      <td>0.696439</td>\n",
       "      <td>0.700565</td>\n",
       "      <td>0.524441</td>\n",
       "      <td>27</td>\n",
       "    </tr>\n",
       "    <tr>\n",
       "      <th>766</th>\n",
       "      <td>(ADJ, ADV, NOUN, PART, VERB)</td>\n",
       "      <td>(1, 2)</td>\n",
       "      <td>5</td>\n",
       "      <td>l2</td>\n",
       "      <td>True</td>\n",
       "      <td>balanced</td>\n",
       "      <td>l2</td>\n",
       "      <td>1.0</td>\n",
       "      <td>False</td>\n",
       "      <td>None</td>\n",
       "      <td>0.686441</td>\n",
       "      <td>0.701448</td>\n",
       "      <td>0.695695</td>\n",
       "      <td>0.695315</td>\n",
       "      <td>0.694757</td>\n",
       "      <td>0.694731</td>\n",
       "      <td>0.531514</td>\n",
       "      <td>37</td>\n",
       "    </tr>\n",
       "    <tr>\n",
       "      <th>767</th>\n",
       "      <td>(ADJ, ADV, NOUN, PART, VERB)</td>\n",
       "      <td>(1, 2)</td>\n",
       "      <td>5</td>\n",
       "      <td>l2</td>\n",
       "      <td>False</td>\n",
       "      <td>balanced</td>\n",
       "      <td>l2</td>\n",
       "      <td>1.0</td>\n",
       "      <td>False</td>\n",
       "      <td>None</td>\n",
       "      <td>0.685151</td>\n",
       "      <td>0.701343</td>\n",
       "      <td>0.68842</td>\n",
       "      <td>0.691442</td>\n",
       "      <td>0.698113</td>\n",
       "      <td>0.692894</td>\n",
       "      <td>0.536728</td>\n",
       "      <td>45</td>\n",
       "    </tr>\n",
       "  </tbody>\n",
       "</table>\n",
       "<p>768 rows × 18 columns</p>\n",
       "</div>"
      ],
      "text/plain": [
       "                                                   pos ngram_range  min_df  \\\n",
       "0    {CONJ, ADJ, ADV, NOUN, SCONJ, AUX, NUM, SYM, D...      (1, 1)       1   \n",
       "1    {CONJ, ADJ, ADV, NOUN, SCONJ, AUX, NUM, SYM, D...      (1, 1)       1   \n",
       "2    {CONJ, ADJ, ADV, NOUN, SCONJ, AUX, NUM, SYM, D...      (1, 1)       1   \n",
       "3    {CONJ, ADJ, ADV, NOUN, SCONJ, AUX, NUM, SYM, D...      (1, 1)       1   \n",
       "4    {CONJ, ADJ, ADV, NOUN, SCONJ, AUX, NUM, SYM, D...      (1, 2)       1   \n",
       "..                                                 ...         ...     ...   \n",
       "763                       (ADJ, ADV, NOUN, PART, VERB)      (1, 1)       5   \n",
       "764                       (ADJ, ADV, NOUN, PART, VERB)      (1, 2)       5   \n",
       "765                       (ADJ, ADV, NOUN, PART, VERB)      (1, 2)       5   \n",
       "766                       (ADJ, ADV, NOUN, PART, VERB)      (1, 2)       5   \n",
       "767                       (ADJ, ADV, NOUN, PART, VERB)      (1, 2)       5   \n",
       "\n",
       "    norm  sublinear_tf class_weight penalty    C  fit_intercept  \\\n",
       "0     l1          True         None      l1  0.1           True   \n",
       "1     l1         False         None      l1  0.1           True   \n",
       "2     l2          True         None      l1  0.1           True   \n",
       "3     l2         False         None      l1  0.1           True   \n",
       "4     l1          True         None      l1  0.1           True   \n",
       "..   ...           ...          ...     ...  ...            ...   \n",
       "763   l2         False     balanced      l2  1.0          False   \n",
       "764   l1          True     balanced      l2  1.0          False   \n",
       "765   l1         False     balanced      l2  1.0          False   \n",
       "766   l2          True     balanced      l2  1.0          False   \n",
       "767   l2         False     balanced      l2  1.0          False   \n",
       "\n",
       "    intercept_scaling split0_test_score split1_test_score split2_test_score  \\\n",
       "0                 1.0              None              None              None   \n",
       "1                 1.0              None              None              None   \n",
       "2                 1.0              None              None              None   \n",
       "3                 1.0              None              None              None   \n",
       "4                 1.0              None              None              None   \n",
       "..                ...               ...               ...               ...   \n",
       "763              None          0.644104          0.660169          0.648226   \n",
       "764              None          0.699857          0.706821          0.705941   \n",
       "765              None          0.695137          0.703854          0.701839   \n",
       "766              None          0.686441          0.701448          0.695695   \n",
       "767              None          0.685151          0.701343           0.68842   \n",
       "\n",
       "    split3_test_score split4_test_score mean_test_score  mean_fit_time  \\\n",
       "0                None              None            None       0.993453   \n",
       "1                None              None            None       0.987393   \n",
       "2                None              None            None       0.978874   \n",
       "3                None              None            None       0.990872   \n",
       "4                None              None            None       1.276226   \n",
       "..                ...               ...             ...            ...   \n",
       "763          0.646977          0.663317        0.652558       0.446304   \n",
       "764          0.708092          0.697564        0.703655       0.524663   \n",
       "765          0.705559          0.696439        0.700565       0.524441   \n",
       "766          0.695315          0.694757        0.694731       0.531514   \n",
       "767          0.691442          0.698113        0.692894       0.536728   \n",
       "\n",
       "     rank_test_score  \n",
       "0                385  \n",
       "1                385  \n",
       "2                385  \n",
       "3                385  \n",
       "4                385  \n",
       "..               ...  \n",
       "763              133  \n",
       "764               21  \n",
       "765               27  \n",
       "766               37  \n",
       "767               45  \n",
       "\n",
       "[768 rows x 18 columns]"
      ]
     },
     "execution_count": 10,
     "metadata": {},
     "output_type": "execute_result"
    }
   ],
   "source": [
    "cv_results_df"
   ]
  },
  {
   "cell_type": "code",
   "execution_count": 11,
   "metadata": {},
   "outputs": [
    {
     "name": "stdout",
     "output_type": "stream",
     "text": [
      "Fitted 5 folds of 768 candidates, finished in 1:17:26.486441.\n",
      "Best score: 0.7107288019376943\n",
      "Best hyper-parameters:\n"
     ]
    },
    {
     "data": {
      "text/plain": [
       "{'tfidfvectorizer__sublinear_tf': True,\n",
       " 'tfidfvectorizer__norm': 'l2',\n",
       " 'tfidfvectorizer__ngram_range': (1, 2),\n",
       " 'tfidfvectorizer__min_df': 5,\n",
       " 'pos_filter__pos': {'ADJ',\n",
       "  'ADP',\n",
       "  'ADV',\n",
       "  'AUX',\n",
       "  'CONJ',\n",
       "  'DET',\n",
       "  'INTJ',\n",
       "  'NOUN',\n",
       "  'NUM',\n",
       "  'PART',\n",
       "  'PRON',\n",
       "  'PROPN',\n",
       "  'PUNCT',\n",
       "  'SCONJ',\n",
       "  'SYM',\n",
       "  'VERB',\n",
       "  'X'},\n",
       " 'linearsvc__penalty': 'l2',\n",
       " 'linearsvc__intercept_scaling': 1.0,\n",
       " 'linearsvc__fit_intercept': True,\n",
       " 'linearsvc__class_weight': 'balanced',\n",
       " 'linearsvc__C': 0.1}"
      ]
     },
     "execution_count": 11,
     "metadata": {},
     "output_type": "execute_result"
    }
   ],
   "source": [
    "from datetime import timedelta\n",
    "\n",
    "print(f'Fitted {randomized_search.n_splits_} folds of {len(cv_results_df)} candidates, finished in {str(timedelta(seconds=estimation))}.')\n",
    "print(f\"Best score: {randomized_search.best_score_}\")\n",
    "print(\"Best hyper-parameters:\")\n",
    "randomized_search.best_params_"
   ]
  },
  {
   "attachments": {},
   "cell_type": "markdown",
   "metadata": {},
   "source": [
    "### Evaluation\n",
    "---"
   ]
  },
  {
   "cell_type": "code",
   "execution_count": 12,
   "metadata": {},
   "outputs": [
    {
     "name": "stdout",
     "output_type": "stream",
     "text": [
      "2023-06-07 07:12:25 INFO: POS REMOVAL\n",
      "2023-06-07 07:12:25 INFO: DOCUMENT TRANSFORMER\n",
      "Accuracy: 0.7808528664219148\n",
      "MCC: 0.7155144656097817\n"
     ]
    }
   ],
   "source": [
    "y_pred = randomized_search.best_estimator_.predict(X_test)\n",
    "\n",
    "accuracy = accuracy_score(y_test, y_pred)\n",
    "mcc = matthews_corrcoef(y_test, y_pred)\n",
    "\n",
    "print(\"Accuracy:\", accuracy)\n",
    "print(\"MCC:\", mcc)"
   ]
  },
  {
   "attachments": {},
   "cell_type": "markdown",
   "metadata": {},
   "source": [
    "### Confusion Matrix\n",
    "---"
   ]
  },
  {
   "cell_type": "code",
   "execution_count": 13,
   "metadata": {},
   "outputs": [
    {
     "data": {
      "text/plain": [
       "<sklearn.metrics._plot.confusion_matrix.ConfusionMatrixDisplay at 0x1a5d397eeb0>"
      ]
     },
     "execution_count": 13,
     "metadata": {},
     "output_type": "execute_result"
    },
    {
     "data": {
      "image/png": "[encoded data removed]",
      "text/plain": [
       "<Figure size 640x480 with 2 Axes>"
      ]
     },
     "metadata": {},
     "output_type": "display_data"
    }
   ],
   "source": [
    "from sklearn.metrics import ConfusionMatrixDisplay\n",
    "\n",
    "normalize = None\n",
    "# normalize=\"true\"\n",
    "\n",
    "ConfusionMatrixDisplay.from_predictions(y_test, y_pred, normalize=normalize, cmap=\"YlGn\")"
   ]
  }
 ],
 "metadata": {
  "kernelspec": {
   "display_name": "emotion-analysis",
   "language": "python",
   "name": "python3"
  },
  "language_info": {
   "codemirror_mode": {
    "name": "ipython",
    "version": 3
   },
   "file_extension": ".py",
   "mimetype": "text/x-python",
   "name": "python",
   "nbconvert_exporter": "python",
   "pygments_lexer": "ipython3",
   "version": "3.9.16"
  },
  "orig_nbformat": 4,
  "vscode": {
   "interpreter": {
    "hash": "6177d1207e3b4e003bd5f7e0d0e470f696ef2c8899bc099ae3ccb41c3d6c53a2"
   }
  }
 },
 "nbformat": 4,
 "nbformat_minor": 2
}
